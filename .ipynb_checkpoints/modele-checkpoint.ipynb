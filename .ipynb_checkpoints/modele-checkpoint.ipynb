{
 "cells": [
  {
   "cell_type": "code",
   "execution_count": 4,
   "metadata": {},
   "outputs": [
    {
     "name": "stdout",
     "output_type": "stream",
     "text": [
      "The autoreload extension is already loaded. To reload it, use:\n",
      "  %reload_ext autoreload\n"
     ]
    },
    {
     "name": "stderr",
     "output_type": "stream",
     "text": [
      "Saving vectors of label - 'amal': 100%|██████████████████████████████████████████████| 200/200 [00:17<00:00, 11.19it/s]\n",
      "Saving vectors of label - 'hajer': 100%|█████████████████████████████████████████████| 200/200 [00:19<00:00, 10.16it/s]\n",
      "Saving vectors of label - 'macron': 100%|████████████████████████████████████████████| 200/200 [00:26<00:00,  7.49it/s]\n"
     ]
    }
   ],
   "source": [
    "%load_ext autoreload\n",
    "%autoreload 2\n",
    "\n",
    "from preprocess import *\n",
    "import keras\n",
    "from keras.models import Sequential\n",
    "from keras.layers import Dense, Dropout, Flatten, Conv2D, MaxPooling2D\n",
    "from keras.utils import to_categorical\n",
    "from keras import metrics\n",
    "import time\n",
    "\n",
    "start_time = time.time() \n",
    "\n",
    "# Second dimension of the feature is dim2\n",
    "feature_dim_2 = 249\n",
    "\n",
    "# Save data to array file first\n",
    "save_data_to_array(max_len=feature_dim_2)\n",
    "\n",
    "# # Loading train set and test set\n",
    "X_train, X_test, y_train, y_test = get_train_test()\n",
    "\n",
    "# # Feature dimension\n",
    "feature_dim_1 = 40\n",
    "channel = 1\n",
    "epochs = 50\n",
    "batch_size = 20\n",
    "verbose = 1\n",
    "num_classes = 3\n",
    "\n",
    "# Reshaping to perform 2D convolution\n",
    "X_train = X_train.reshape(X_train.shape[0], feature_dim_1, feature_dim_2, channel)\n",
    "X_test = X_test.reshape(X_test.shape[0], feature_dim_1, feature_dim_2, channel)\n",
    "\n",
    "y_train_hot = to_categorical(y_train)\n",
    "y_test_hot = to_categorical(y_test)"
   ]
  },
  {
   "cell_type": "code",
   "execution_count": 5,
   "metadata": {},
   "outputs": [],
   "source": [
    "def get_model():\n",
    "    model = Sequential()\n",
    "    model.add(Conv2D(32, kernel_size=(2, 2), activation='relu', input_shape=(feature_dim_1, feature_dim_2, channel)))\n",
    "    model.add(Conv2D(48, kernel_size=(2, 2), activation='relu'))\n",
    "    model.add(Conv2D(120, kernel_size=(2, 2), activation='relu'))\n",
    "    model.add(MaxPooling2D(pool_size=(2, 2)))\n",
    "    model.add(Dropout(0.25))\n",
    "    model.add(Flatten()) \n",
    "    model.add(Dense(128, activation='relu'))\n",
    "    model.add(Dropout(0.25))\n",
    "    model.add(Dense(64, activation='relu'))\n",
    "    #model.add(Dropout(0.4))\n",
    "    model.add(Dense(num_classes, activation='softmax'))\n",
    "    model.compile(loss=keras.losses.categorical_crossentropy,\n",
    "                  optimizer=keras.optimizers.Adadelta(),\n",
    "                  metrics=[metrics.categorical_accuracy])\n",
    "    return model\n",
    "\n",
    "#Adadelta() learning rate par défaut howa 1\n",
    "\n",
    "# Predicts one sample\n",
    "def predict(filepath, model):\n",
    "    sample = wav2mfcc(filepath)\n",
    "    sample_reshaped = sample.reshape(1, feature_dim_1, feature_dim_2, channel)\n",
    "    \n",
    "    print(\"amal: \",model.predict(sample_reshaped))\n",
    "    \n",
    "    print(\"hajer: \",model.predict(sample_reshaped)[0][1])\n",
    "    print(\"Macron: \",model.predict(sample_reshaped)[0][2])\n",
    "    \n",
    "    print(\"La voix est celle de \")\n",
    "    return get_labels()[0][\n",
    "            np.argmax(model.predict(sample_reshaped))\n",
    "    ]"
   ]
  },
  {
   "cell_type": "markdown",
   "metadata": {},
   "source": [
    "# Building The Model Then Training it"
   ]
  },
  {
   "cell_type": "code",
   "execution_count": 6,
   "metadata": {
    "scrolled": false
   },
   "outputs": [
    {
     "name": "stdout",
     "output_type": "stream",
     "text": [
      "Train on 419 samples, validate on 181 samples\n",
      "Epoch 1/10\n",
      "419/419 [==============================] - ETA: 2:17 - loss: 7.6581 - categorical_accuracy: 0.20 - ETA: 1:49 - loss: 9.0674 - categorical_accuracy: 0.27 - ETA: 1:36 - loss: 8.9999 - categorical_accuracy: 0.33 - ETA: 1:28 - loss: 9.5706 - categorical_accuracy: 0.32 - ETA: 1:21 - loss: 9.9130 - categorical_accuracy: 0.32 - ETA: 1:15 - loss: 9.6040 - categorical_accuracy: 0.35 - ETA: 1:10 - loss: 9.5236 - categorical_accuracy: 0.35 - ETA: 1:05 - loss: 9.6427 - categorical_accuracy: 0.35 - ETA: 1:00 - loss: 9.9145 - categorical_accuracy: 0.34 - ETA: 54s - loss: 9.9707 - categorical_accuracy: 0.3450 - ETA: 49s - loss: 9.8702 - categorical_accuracy: 0.354 - ETA: 44s - loss: 9.8572 - categorical_accuracy: 0.354 - ETA: 39s - loss: 9.6542 - categorical_accuracy: 0.369 - ETA: 34s - loss: 9.6554 - categorical_accuracy: 0.371 - ETA: 29s - loss: 9.7102 - categorical_accuracy: 0.370 - ETA: 24s - loss: 9.8729 - categorical_accuracy: 0.359 - ETA: 19s - loss: 9.8136 - categorical_accuracy: 0.364 - ETA: 14s - loss: 9.8505 - categorical_accuracy: 0.363 - ETA: 9s - loss: 9.8843 - categorical_accuracy: 0.363 - ETA: 4s - loss: 9.9945 - categorical_accuracy: 0.35 - 111s 264ms/step - loss: 10.1183 - categorical_accuracy: 0.3508 - val_loss: 10.7751 - val_categorical_accuracy: 0.3315\n",
      "Epoch 2/10\n",
      "419/419 [==============================] - ETA: 1:30 - loss: 12.8945 - categorical_accuracy: 0.200 - ETA: 1:27 - loss: 10.8899 - categorical_accuracy: 0.325 - ETA: 1:22 - loss: 10.7522 - categorical_accuracy: 0.333 - ETA: 1:18 - loss: 10.3988 - categorical_accuracy: 0.337 - ETA: 1:13 - loss: 10.0920 - categorical_accuracy: 0.360 - ETA: 1:08 - loss: 9.7532 - categorical_accuracy: 0.383 - ETA: 1:03 - loss: 9.8922 - categorical_accuracy: 0.37 - ETA: 59s - loss: 9.4615 - categorical_accuracy: 0.4000 - ETA: 54s - loss: 9.1266 - categorical_accuracy: 0.422 - ETA: 50s - loss: 9.3258 - categorical_accuracy: 0.410 - ETA: 45s - loss: 9.5037 - categorical_accuracy: 0.400 - ETA: 40s - loss: 9.3221 - categorical_accuracy: 0.408 - ETA: 36s - loss: 9.4731 - categorical_accuracy: 0.400 - ETA: 31s - loss: 9.3145 - categorical_accuracy: 0.410 - ETA: 27s - loss: 9.4457 - categorical_accuracy: 0.403 - ETA: 22s - loss: 9.6587 - categorical_accuracy: 0.390 - ETA: 18s - loss: 9.5172 - categorical_accuracy: 0.400 - ETA: 13s - loss: 9.5257 - categorical_accuracy: 0.400 - ETA: 8s - loss: 9.4485 - categorical_accuracy: 0.405 - ETA: 4s - loss: 9.3790 - categorical_accuracy: 0.41 - 105s 250ms/step - loss: 9.4337 - categorical_accuracy: 0.4057 - val_loss: 10.7751 - val_categorical_accuracy: 0.3315\n",
      "Epoch 3/10\n",
      "419/419 [==============================] - ETA: 1:31 - loss: 9.6709 - categorical_accuracy: 0.40 - ETA: 1:28 - loss: 9.3607 - categorical_accuracy: 0.40 - ETA: 1:23 - loss: 8.9285 - categorical_accuracy: 0.43 - ETA: 1:20 - loss: 9.3156 - categorical_accuracy: 0.41 - ETA: 1:18 - loss: 8.7419 - categorical_accuracy: 0.45 - ETA: 1:15 - loss: 8.2252 - categorical_accuracy: 0.48 - ETA: 1:12 - loss: 8.0867 - categorical_accuracy: 0.49 - ETA: 1:09 - loss: 7.7815 - categorical_accuracy: 0.51 - ETA: 1:04 - loss: 7.9448 - categorical_accuracy: 0.50 - ETA: 58s - loss: 7.9563 - categorical_accuracy: 0.5000 - ETA: 52s - loss: 7.7754 - categorical_accuracy: 0.509 - ETA: 46s - loss: 8.1349 - categorical_accuracy: 0.487 - ETA: 41s - loss: 8.2559 - categorical_accuracy: 0.476 - ETA: 35s - loss: 8.2994 - categorical_accuracy: 0.475 - ETA: 30s - loss: 8.5795 - categorical_accuracy: 0.453 - ETA: 25s - loss: 8.5973 - categorical_accuracy: 0.453 - ETA: 19s - loss: 8.5183 - categorical_accuracy: 0.458 - ETA: 14s - loss: 8.6008 - categorical_accuracy: 0.452 - ETA: 9s - loss: 8.6882 - categorical_accuracy: 0.444 - ETA: 4s - loss: 8.7776 - categorical_accuracy: 0.44 - 114s 272ms/step - loss: 8.9566 - categorical_accuracy: 0.4296 - val_loss: 10.2103 - val_categorical_accuracy: 0.3646\n",
      "Epoch 4/10\n",
      "419/419 [==============================] - ETA: 1:31 - loss: 8.8650 - categorical_accuracy: 0.45 - ETA: 1:27 - loss: 8.4620 - categorical_accuracy: 0.47 - ETA: 1:22 - loss: 9.1336 - categorical_accuracy: 0.43 - ETA: 1:16 - loss: 9.6709 - categorical_accuracy: 0.40 - ETA: 1:12 - loss: 9.3485 - categorical_accuracy: 0.42 - ETA: 1:07 - loss: 9.4022 - categorical_accuracy: 0.41 - ETA: 1:03 - loss: 9.2103 - categorical_accuracy: 0.42 - ETA: 58s - loss: 9.2774 - categorical_accuracy: 0.4187 - ETA: 54s - loss: 9.5002 - categorical_accuracy: 0.405 - ETA: 50s - loss: 9.7590 - categorical_accuracy: 0.390 - ETA: 45s - loss: 9.8559 - categorical_accuracy: 0.381 - ETA: 41s - loss: 9.7733 - categorical_accuracy: 0.387 - ETA: 37s - loss: 9.8894 - categorical_accuracy: 0.380 - ETA: 32s - loss: 9.9373 - categorical_accuracy: 0.375 - ETA: 27s - loss: 9.8658 - categorical_accuracy: 0.380 - ETA: 23s - loss: 9.9040 - categorical_accuracy: 0.378 - ETA: 18s - loss: 9.9851 - categorical_accuracy: 0.373 - ETA: 13s - loss: 9.7438 - categorical_accuracy: 0.388 - ETA: 9s - loss: 9.8244 - categorical_accuracy: 0.384 - ETA: 4s - loss: 9.7646 - categorical_accuracy: 0.38 - 107s 256ms/step - loss: 9.8219 - categorical_accuracy: 0.3842 - val_loss: 10.2967 - val_categorical_accuracy: 0.3591\n",
      "Epoch 5/10\n",
      "419/419 [==============================] - ETA: 1:34 - loss: 11.2416 - categorical_accuracy: 0.300 - ETA: 1:29 - loss: 11.1728 - categorical_accuracy: 0.300 - ETA: 1:24 - loss: 10.9408 - categorical_accuracy: 0.316 - ETA: 1:21 - loss: 10.8248 - categorical_accuracy: 0.325 - ETA: 1:16 - loss: 10.4328 - categorical_accuracy: 0.350 - ETA: 1:12 - loss: 10.4911 - categorical_accuracy: 0.341 - ETA: 1:08 - loss: 10.3517 - categorical_accuracy: 0.350 - ETA: 1:03 - loss: 9.9499 - categorical_accuracy: 0.375 - ETA: 58s - loss: 9.6102 - categorical_accuracy: 0.3889 - ETA: 53s - loss: 9.5687 - categorical_accuracy: 0.390 - ETA: 48s - loss: 9.6512 - categorical_accuracy: 0.386 - ETA: 43s - loss: 9.4514 - categorical_accuracy: 0.400 - ETA: 38s - loss: 9.3443 - categorical_accuracy: 0.407 - ETA: 33s - loss: 9.2525 - categorical_accuracy: 0.414 - ETA: 28s - loss: 9.1729 - categorical_accuracy: 0.420 - ETA: 24s - loss: 8.9522 - categorical_accuracy: 0.434 - ETA: 19s - loss: 8.8997 - categorical_accuracy: 0.438 - ETA: 14s - loss: 8.8796 - categorical_accuracy: 0.438 - ETA: 9s - loss: 8.9213 - categorical_accuracy: 0.436 - ETA: 4s - loss: 8.7820 - categorical_accuracy: 0.44 - 111s 264ms/step - loss: 8.8069 - categorical_accuracy: 0.4415 - val_loss: 10.2668 - val_categorical_accuracy: 0.3370\n",
      "Epoch 6/10\n",
      "419/419 [==============================] - ETA: 1:38 - loss: 11.0853 - categorical_accuracy: 0.300 - ETA: 1:30 - loss: 9.5746 - categorical_accuracy: 0.375 - ETA: 1:24 - loss: 9.3381 - categorical_accuracy: 0.40 - ETA: 1:18 - loss: 9.0184 - categorical_accuracy: 0.42 - ETA: 1:14 - loss: 8.6669 - categorical_accuracy: 0.45 - ETA: 1:09 - loss: 8.4324 - categorical_accuracy: 0.46 - ETA: 1:05 - loss: 8.2951 - categorical_accuracy: 0.47 - ETA: 1:00 - loss: 8.0016 - categorical_accuracy: 0.48 - ETA: 55s - loss: 8.0080 - categorical_accuracy: 0.4889 - ETA: 51s - loss: 8.0131 - categorical_accuracy: 0.490 - ETA: 47s - loss: 8.2371 - categorical_accuracy: 0.477 - ETA: 42s - loss: 8.4660 - categorical_accuracy: 0.462 - ETA: 38s - loss: 8.5476 - categorical_accuracy: 0.453 - ETA: 33s - loss: 8.5702 - categorical_accuracy: 0.453 - ETA: 28s - loss: 8.7269 - categorical_accuracy: 0.443 - ETA: 24s - loss: 8.8916 - categorical_accuracy: 0.431 - ETA: 19s - loss: 8.8434 - categorical_accuracy: 0.435 - ETA: 14s - loss: 8.8484 - categorical_accuracy: 0.433 - ETA: 9s - loss: 8.8662 - categorical_accuracy: 0.428 - ETA: 4s - loss: 8.8433 - categorical_accuracy: 0.43 - 112s 268ms/step - loss: 8.8654 - categorical_accuracy: 0.4296 - val_loss: 6.1424 - val_categorical_accuracy: 0.6077\n",
      "Epoch 7/10\n",
      "419/419 [==============================] - ETA: 1:38 - loss: 9.6709 - categorical_accuracy: 0.40 - ETA: 1:32 - loss: 10.3007 - categorical_accuracy: 0.350 - ETA: 1:28 - loss: 8.4789 - categorical_accuracy: 0.466 - ETA: 1:23 - loss: 7.8827 - categorical_accuracy: 0.50 - ETA: 1:18 - loss: 7.4344 - categorical_accuracy: 0.53 - ETA: 1:13 - loss: 7.2813 - categorical_accuracy: 0.53 - ETA: 1:08 - loss: 7.1622 - categorical_accuracy: 0.54 - ETA: 1:03 - loss: 7.4739 - categorical_accuracy: 0.52 - ETA: 58s - loss: 7.5389 - categorical_accuracy: 0.5222 - ETA: 53s - loss: 7.6544 - categorical_accuracy: 0.515 - ETA: 47s - loss: 7.4715 - categorical_accuracy: 0.527 - ETA: 42s - loss: 7.4972 - categorical_accuracy: 0.525 - ETA: 38s - loss: 7.4164 - categorical_accuracy: 0.530 - ETA: 33s - loss: 7.2320 - categorical_accuracy: 0.542 - ETA: 28s - loss: 7.2357 - categorical_accuracy: 0.543 - ETA: 23s - loss: 7.0353 - categorical_accuracy: 0.556 - ETA: 18s - loss: 7.0007 - categorical_accuracy: 0.558 - ETA: 13s - loss: 7.1043 - categorical_accuracy: 0.552 - ETA: 9s - loss: 7.0697 - categorical_accuracy: 0.555 - ETA: 4s - loss: 7.0803 - categorical_accuracy: 0.55 - 107s 255ms/step - loss: 7.1674 - categorical_accuracy: 0.5489 - val_loss: 5.6992 - val_categorical_accuracy: 0.6464\n",
      "Epoch 8/10\n",
      "419/419 [==============================] - ETA: 1:29 - loss: 8.8650 - categorical_accuracy: 0.45 - ETA: 1:24 - loss: 7.6561 - categorical_accuracy: 0.52 - ETA: 1:21 - loss: 7.7904 - categorical_accuracy: 0.51 - ETA: 1:16 - loss: 7.3729 - categorical_accuracy: 0.52 - ETA: 1:12 - loss: 6.8654 - categorical_accuracy: 0.56 - ETA: 1:07 - loss: 7.0101 - categorical_accuracy: 0.55 - ETA: 1:03 - loss: 7.1600 - categorical_accuracy: 0.54 - ETA: 58s - loss: 7.2833 - categorical_accuracy: 0.5312 - ETA: 54s - loss: 7.3145 - categorical_accuracy: 0.527 - ETA: 49s - loss: 7.2278 - categorical_accuracy: 0.535 - ETA: 45s - loss: 6.8641 - categorical_accuracy: 0.559 - ETA: 40s - loss: 6.8294 - categorical_accuracy: 0.562 - ETA: 36s - loss: 6.8530 - categorical_accuracy: 0.561 - ETA: 31s - loss: 7.0246 - categorical_accuracy: 0.546 - ETA: 27s - loss: 7.0528 - categorical_accuracy: 0.543 - ETA: 22s - loss: 7.0653 - categorical_accuracy: 0.543 - ETA: 17s - loss: 6.9268 - categorical_accuracy: 0.552 - ETA: 13s - loss: 6.9450 - categorical_accuracy: 0.552 - ETA: 8s - loss: 6.9480 - categorical_accuracy: 0.552 - ETA: 4s - loss: 6.9021 - categorical_accuracy: 0.55 - 104s 247ms/step - loss: 6.6661 - categorical_accuracy: 0.5704 - val_loss: 5.3348 - val_categorical_accuracy: 0.6685\n",
      "Epoch 9/10\n",
      "419/419 [==============================] - ETA: 1:30 - loss: 5.9091 - categorical_accuracy: 0.60 - ETA: 1:27 - loss: 5.3349 - categorical_accuracy: 0.65 - ETA: 1:22 - loss: 5.0813 - categorical_accuracy: 0.63 - ETA: 1:17 - loss: 5.5480 - categorical_accuracy: 0.60 - ETA: 1:13 - loss: 5.2215 - categorical_accuracy: 0.60 - ETA: 1:09 - loss: 4.7182 - categorical_accuracy: 0.59 - ETA: 1:05 - loss: 4.1766 - categorical_accuracy: 0.59 - ETA: 1:00 - loss: 3.7697 - categorical_accuracy: 0.58 - ETA: 55s - loss: 3.4157 - categorical_accuracy: 0.6056 - ETA: 50s - loss: 3.1584 - categorical_accuracy: 0.610 - ETA: 46s - loss: 2.9489 - categorical_accuracy: 0.609 - ETA: 41s - loss: 2.7533 - categorical_accuracy: 0.625 - ETA: 36s - loss: 2.5987 - categorical_accuracy: 0.626 - ETA: 32s - loss: 2.4746 - categorical_accuracy: 0.610 - ETA: 27s - loss: 2.3428 - categorical_accuracy: 0.616 - ETA: 22s - loss: 2.2390 - categorical_accuracy: 0.618 - ETA: 18s - loss: 2.1531 - categorical_accuracy: 0.605 - ETA: 13s - loss: 2.0722 - categorical_accuracy: 0.611 - ETA: 8s - loss: 2.0021 - categorical_accuracy: 0.615 - ETA: 4s - loss: 1.9351 - categorical_accuracy: 0.62 - 105s 250ms/step - loss: 1.8710 - categorical_accuracy: 0.6253 - val_loss: 0.3948 - val_categorical_accuracy: 0.8895\n",
      "Epoch 10/10\n",
      "419/419 [==============================] - ETA: 1:30 - loss: 0.4615 - categorical_accuracy: 0.80 - ETA: 1:25 - loss: 0.3978 - categorical_accuracy: 0.82 - ETA: 1:20 - loss: 0.4202 - categorical_accuracy: 0.81 - ETA: 1:16 - loss: 0.4276 - categorical_accuracy: 0.78 - ETA: 1:12 - loss: 0.4813 - categorical_accuracy: 0.75 - ETA: 1:07 - loss: 0.5027 - categorical_accuracy: 0.74 - ETA: 1:03 - loss: 0.4959 - categorical_accuracy: 0.75 - ETA: 58s - loss: 0.5136 - categorical_accuracy: 0.7438 - ETA: 54s - loss: 0.4986 - categorical_accuracy: 0.755 - ETA: 49s - loss: 0.4958 - categorical_accuracy: 0.760 - ETA: 45s - loss: 0.4833 - categorical_accuracy: 0.759 - ETA: 40s - loss: 0.4790 - categorical_accuracy: 0.758 - ETA: 35s - loss: 0.4825 - categorical_accuracy: 0.753 - ETA: 31s - loss: 0.4686 - categorical_accuracy: 0.760 - ETA: 26s - loss: 0.4548 - categorical_accuracy: 0.773 - ETA: 22s - loss: 0.4676 - categorical_accuracy: 0.765 - ETA: 17s - loss: 0.4696 - categorical_accuracy: 0.764 - ETA: 13s - loss: 0.4797 - categorical_accuracy: 0.758 - ETA: 8s - loss: 0.4801 - categorical_accuracy: 0.765 - ETA: 4s - loss: 0.4721 - categorical_accuracy: 0.77 - 103s 247ms/step - loss: 0.4594 - categorical_accuracy: 0.7780 - val_loss: 0.2657 - val_categorical_accuracy: 0.9061\n",
      "1225.0250270366669\n"
     ]
    },
    {
     "ename": "ImportError",
     "evalue": "No module named 'mathplotlib'",
     "output_type": "error",
     "traceback": [
      "\u001b[1;31m---------------------------------------------------------------------------\u001b[0m",
      "\u001b[1;31mImportError\u001b[0m                               Traceback (most recent call last)",
      "\u001b[1;32m<ipython-input-6-fbaf404b9964>\u001b[0m in \u001b[0;36m<module>\u001b[1;34m()\u001b[0m\n\u001b[0;32m      2\u001b[0m \u001b[0mhistory\u001b[0m \u001b[1;33m=\u001b[0m \u001b[0mmodel\u001b[0m\u001b[1;33m.\u001b[0m\u001b[0mfit\u001b[0m\u001b[1;33m(\u001b[0m\u001b[0mX_train\u001b[0m\u001b[1;33m,\u001b[0m \u001b[0my_train_hot\u001b[0m\u001b[1;33m,\u001b[0m \u001b[0mbatch_size\u001b[0m\u001b[1;33m=\u001b[0m\u001b[0mbatch_size\u001b[0m\u001b[1;33m,\u001b[0m \u001b[0mepochs\u001b[0m\u001b[1;33m=\u001b[0m\u001b[0mepochs\u001b[0m\u001b[1;33m,\u001b[0m \u001b[0mverbose\u001b[0m\u001b[1;33m=\u001b[0m\u001b[0mverbose\u001b[0m\u001b[1;33m,\u001b[0m \u001b[0mvalidation_data\u001b[0m\u001b[1;33m=\u001b[0m\u001b[1;33m(\u001b[0m\u001b[0mX_test\u001b[0m\u001b[1;33m,\u001b[0m \u001b[0my_test_hot\u001b[0m\u001b[1;33m)\u001b[0m\u001b[1;33m)\u001b[0m\u001b[1;33m\u001b[0m\u001b[0m\n\u001b[0;32m      3\u001b[0m \u001b[0mprint\u001b[0m\u001b[1;33m(\u001b[0m\u001b[0mtime\u001b[0m\u001b[1;33m.\u001b[0m\u001b[0mtime\u001b[0m\u001b[1;33m(\u001b[0m\u001b[1;33m)\u001b[0m \u001b[1;33m-\u001b[0m \u001b[0mstart_time\u001b[0m\u001b[1;33m)\u001b[0m\u001b[1;33m\u001b[0m\u001b[0m\n\u001b[1;32m----> 4\u001b[1;33m \u001b[1;32mimport\u001b[0m \u001b[0mmathplotlib\u001b[0m \u001b[1;32mas\u001b[0m \u001b[0mplt\u001b[0m\u001b[1;33m\u001b[0m\u001b[0m\n\u001b[0m\u001b[0;32m      5\u001b[0m \u001b[0mplt\u001b[0m\u001b[1;33m.\u001b[0m\u001b[0mplot\u001b[0m\u001b[1;33m(\u001b[0m\u001b[0mhistory\u001b[0m\u001b[1;33m.\u001b[0m\u001b[0mhistory\u001b[0m\u001b[1;33m[\u001b[0m\u001b[1;34m'acc'\u001b[0m\u001b[1;33m]\u001b[0m\u001b[1;33m)\u001b[0m\u001b[1;33m\u001b[0m\u001b[0m\n",
      "\u001b[1;31mImportError\u001b[0m: No module named 'mathplotlib'"
     ]
    }
   ],
   "source": [
    "model = get_model()\n",
    "history = model.fit(X_train, y_train_hot, batch_size=batch_size, epochs=epochs, verbose=verbose, validation_data=(X_test, y_test_hot))\n",
    "print(time.time() - start_time)"
   ]
  },
  {
   "cell_type": "markdown",
   "metadata": {},
   "source": [
    "# Test et Train accuracy"
   ]
  },
  {
   "cell_type": "code",
   "execution_count": 4,
   "metadata": {
    "scrolled": true
   },
   "outputs": [
    {
     "name": "stdout",
     "output_type": "stream",
     "text": [
      "[ 0.  0.  1.  0.  0.  0.  1.  1.  2.  2.  1.  1.  0.  0.  1.  2.  1.  0.\n",
      "  0.  2.  1.  0.  2.  2.  2.  0.  0.  0.  0.  1.  1.  1.  0.  2.  1.  1.\n",
      "  1.  2.  1.  0.  0.  1.  0.  0.  1.  0.  1.  1.  0.  2.  1.  0.  1.  0.\n",
      "  0.  1.  0.  0.  0.  0.  1.  0.  0.  2.  0.  1.  0.  0.  2.  0.  1.  2.\n",
      "  1.  1.  0.  0.  2.  1.  2.  1.  1.  0.  2.  0.  1.  0.  1.  0.  0.  2.\n",
      "  1.  1.  1.  1.  0.  0.  1.  0.  1.  0.  1.  2.  1.  0.  2.  1.  1.  1.\n",
      "  0.  2.  1.  1.  1.  0.  1.  1.  1.  0.  1.  2.  0.  1.  0.  0.  1.  2.\n",
      "  1.  0.  0.  1.  0.  2.  2.  2.  2.  0.  2.  0.  0.  1.  2.  0.  0.  1.\n",
      "  1.  1.  2.  2.  1.  2.  0.]\n",
      "[1 1 1 0 0 1 1 1 2 2 1 1 0 1 1 2 0 0 0 2 0 1 2 2 2 0 1 0 0 1 1 0 0 2 1 0 1\n",
      " 2 1 0 1 0 0 1 1 0 0 1 1 2 0 1 0 0 0 1 0 1 1 1 1 1 0 2 1 1 1 1 2 0 1 2 1 1\n",
      " 0 0 2 0 2 0 1 0 2 0 1 0 1 0 0 2 0 0 1 0 0 0 1 0 1 1 0 2 0 1 2 1 0 0 0 2 0\n",
      " 1 1 0 0 1 0 0 0 2 0 1 0 0 0 2 0 1 0 1 1 2 2 2 2 1 2 0 0 1 2 0 1 1 1 1 2 2\n",
      " 1 2 1]\n"
     ]
    }
   ],
   "source": [
    "y_pred = model.predict(X_test)\n",
    "#y_pred = (y_pred > 0.5)\n",
    "y_pred=np.argmax(y_pred,axis=1)\n",
    "y_pred1 = model.predict(X_train)\n",
    "y_pred1=np.argmax(y_pred1,axis=1)\n",
    "\n",
    "print(y_test)\n",
    "print(y_pred)\n"
   ]
  },
  {
   "cell_type": "code",
   "execution_count": 5,
   "metadata": {},
   "outputs": [
    {
     "name": "stdout",
     "output_type": "stream",
     "text": [
      "151\n",
      "151\n",
      "Train accuracy: 1.0\n",
      "Test accuracy : 0.688741721854\n"
     ]
    }
   ],
   "source": [
    "def acc(y_true, y_pred):\n",
    "    return np.equal(y_true,y_pred).mean()\n",
    "print (len(y_test))\n",
    "print (len(y_pred))\n",
    "\n",
    "print(\"Train accuracy: \" + str(acc(y_train, y_pred1)))\n",
    "print(\"Test accuracy : \" + str(acc(y_test, y_pred)))"
   ]
  },
  {
   "cell_type": "markdown",
   "metadata": {},
   "source": [
    "## Prediction"
   ]
  },
  {
   "cell_type": "code",
   "execution_count": 6,
   "metadata": {},
   "outputs": [
    {
     "name": "stdout",
     "output_type": "stream",
     "text": [
      "1.0\n"
     ]
    }
   ],
   "source": [
    "from sklearn.metrics import accuracy_score\n",
    "accuracy = accuracy_score(y_train, y_pred1)\n",
    "print(accuracy)"
   ]
  },
  {
   "cell_type": "code",
   "execution_count": 2,
   "metadata": {},
   "outputs": [
    {
     "ename": "NameError",
     "evalue": "name 'model' is not defined",
     "output_type": "error",
     "traceback": [
      "\u001b[1;31m---------------------------------------------------------------------------\u001b[0m",
      "\u001b[1;31mNameError\u001b[0m                                 Traceback (most recent call last)",
      "\u001b[1;32m<ipython-input-2-e1ce77562df7>\u001b[0m in \u001b[0;36m<module>\u001b[1;34m()\u001b[0m\n\u001b[1;32m----> 1\u001b[1;33m \u001b[0mprint\u001b[0m\u001b[1;33m(\u001b[0m\u001b[0mpredict\u001b[0m\u001b[1;33m(\u001b[0m\u001b[1;34m'./sounds/AmalT.wav'\u001b[0m\u001b[1;33m,\u001b[0m \u001b[0mmodel\u001b[0m\u001b[1;33m=\u001b[0m\u001b[0mmodel\u001b[0m\u001b[1;33m)\u001b[0m\u001b[1;33m)\u001b[0m\u001b[1;33m\u001b[0m\u001b[0m\n\u001b[0m",
      "\u001b[1;31mNameError\u001b[0m: name 'model' is not defined"
     ]
    }
   ],
   "source": [
    "print(predict('./sounds/AmalT.wav', model=model))"
   ]
  },
  {
   "cell_type": "code",
   "execution_count": 60,
   "metadata": {},
   "outputs": [
    {
     "name": "stdout",
     "output_type": "stream",
     "text": [
      "amal:  0.987218\n",
      "hajer:  0.0127817\n",
      "Macron:  1.31956e-08\n",
      "La voix est celle de \n",
      "amal\n"
     ]
    }
   ],
   "source": [
    "print(predict('./sounds/macronTest.wav', model=model))"
   ]
  },
  {
   "cell_type": "code",
   "execution_count": 61,
   "metadata": {},
   "outputs": [
    {
     "name": "stdout",
     "output_type": "stream",
     "text": [
      "amal:  0.054273\n",
      "hajer:  0.945719\n",
      "Macron:  8.19215e-06\n",
      "La voix est celle de \n",
      "hajer\n"
     ]
    }
   ],
   "source": [
    "print(predict('./sounds/macronTest2.wav', model=model))"
   ]
  },
  {
   "cell_type": "code",
   "execution_count": 62,
   "metadata": {},
   "outputs": [
    {
     "name": "stdout",
     "output_type": "stream",
     "text": [
      "amal:  0.397222\n",
      "hajer:  0.602244\n",
      "Macron:  0.000534229\n",
      "La voix est celle de \n",
      "hajer\n"
     ]
    }
   ],
   "source": [
    "print(predict('./sounds/HajerT.wav', model=model))"
   ]
  },
  {
   "cell_type": "code",
   "execution_count": 63,
   "metadata": {},
   "outputs": [
    {
     "name": "stdout",
     "output_type": "stream",
     "text": [
      "amal:  0.989645\n",
      "hajer:  0.010119\n",
      "Macron:  0.000235733\n",
      "La voix est celle de \n",
      "amal\n"
     ]
    }
   ],
   "source": [
    "print(predict('./sounds/ambou2.wav', model=model))"
   ]
  },
  {
   "cell_type": "code",
   "execution_count": 64,
   "metadata": {},
   "outputs": [
    {
     "name": "stdout",
     "output_type": "stream",
     "text": [
      "amal:  0.00713607\n",
      "hajer:  0.992864\n",
      "Macron:  7.36837e-11\n",
      "La voix est celle de \n",
      "hajer\n"
     ]
    }
   ],
   "source": [
    "print(predict('./sounds/testamal.wav', model=model))"
   ]
  },
  {
   "cell_type": "code",
   "execution_count": 26,
   "metadata": {
    "scrolled": true
   },
   "outputs": [
    {
     "data": {
      "image/png": "[encoded data removed]",
      "text/plain": [
       "<matplotlib.figure.Figure at 0x1e0f1aac710>"
      ]
     },
     "metadata": {},
     "output_type": "display_data"
    }
   ],
   "source": [
    "import IPython.display as ipd\n",
    "import matplotlib.pyplot as plt\n",
    "from os.path import basename\n",
    "\n",
    "def load_audio_file(file_path):\n",
    "    input_length = 16000\n",
    "    data = librosa.core.load(file_path)[0] #, sr=16000\n",
    "    if len(data)>input_length:\n",
    "        data = data[:input_length]\n",
    "    else:\n",
    "        data = np.pad(data, (0, max(0, input_length - len(data))), \"constant\")\n",
    "    return data\n",
    "\n",
    "def plot_time_series(data):\n",
    "    fig = plt.figure(figsize=(14, 8))\n",
    "    plt.title('Raw wave ')\n",
    "    plt.ylabel('Amplitude')\n",
    "    plt.plot(np.linspace(0, 1, len(data)), data)\n",
    "    plt.show()\n",
    "    \n",
    "    #base = basename(data)\n",
    "    #fileName, fileExtension = os.path.splitext(data)\n",
    "    #fig.savefig(t+'.png')\n",
    "    \n",
    "    \n",
    "data = load_audio_file(\"./sounds/ambou2.wav\")\n",
    "plot_time_series(data)\n",
    "\n"
   ]
  },
  {
   "cell_type": "code",
   "execution_count": 49,
   "metadata": {},
   "outputs": [
    {
     "name": "stdout",
     "output_type": "stream",
     "text": [
      "amal:  0.94866\n",
      "hajer:  0.0496951\n",
      "Macron:  0.00164449\n",
      "La voix est celle de \n",
      "amal\n"
     ]
    }
   ],
   "source": [
    "print(predict('./sounds/ambou2.wav', model=model))"
   ]
  },
  {
   "cell_type": "code",
   "execution_count": 50,
   "metadata": {},
   "outputs": [
    {
     "name": "stdout",
     "output_type": "stream",
     "text": [
      "amal:  0.0842353\n",
      "hajer:  0.915765\n",
      "Macron:  1.29245e-08\n",
      "La voix est celle de \n",
      "hajer\n"
     ]
    }
   ],
   "source": [
    "print(predict('./sounds/testamal.wav', model=model))"
   ]
  },
  {
   "cell_type": "code",
   "execution_count": 51,
   "metadata": {},
   "outputs": [
    {
     "name": "stdout",
     "output_type": "stream",
     "text": [
      "amal:  0.747094\n",
      "hajer:  0.220441\n",
      "Macron:  0.0324649\n",
      "La voix est celle de \n",
      "amal\n"
     ]
    }
   ],
   "source": [
    "print(predict('./sounds/testhajer.wav', model=model))"
   ]
  },
  {
   "cell_type": "code",
   "execution_count": 32,
   "metadata": {},
   "outputs": [
    {
     "name": "stdout",
     "output_type": "stream",
     "text": [
      "[1 1 1 1 0 1 1 1 0 1 1 0 1 0 1 1 1 1 0 1 0 0 1 1 0 0 1 1 1 1 0 1 0 0 1 0 0\n",
      " 0 0 0 0 0 1 0 0 0 1 1 0 1 1 0 0 1 1 1 0 0 1 0 1 0 1 1 0 0 0 1 0 1 0 0 1 1\n",
      " 0 1 0 0 0 1 1 1 0 0 0 0 0 0 0 0 1 0 0 1 0 0 1 0 1 0 1 0 0 1 1 1 1 0 1 0 0\n",
      " 1 0 1 1 0 0 1 1 1]\n",
      "[1. 1. 1. 0. 1. 1. 1. 0. 0. 1. 1. 0. 1. 0. 1. 1. 1. 1. 0. 1. 0. 0. 1. 1.\n",
      " 0. 0. 1. 1. 1. 1. 0. 1. 0. 0. 1. 0. 0. 0. 0. 0. 0. 0. 1. 0. 0. 0. 1. 1.\n",
      " 0. 1. 1. 0. 1. 0. 1. 1. 0. 0. 1. 0. 1. 0. 0. 1. 1. 0. 0. 1. 0. 1. 0. 0.\n",
      " 1. 1. 0. 1. 0. 0. 0. 1. 1. 1. 0. 0. 0. 0. 0. 0. 0. 0. 1. 0. 0. 1. 0. 0.\n",
      " 1. 0. 1. 0. 1. 0. 0. 1. 1. 1. 0. 0. 1. 0. 0. 1. 0. 1. 1. 0. 0. 1. 1. 1.]\n"
     ]
    }
   ],
   "source": [
    "y_pred = model.predict(X_test)\n",
    "#y_pred = (y_pred > 0.5)\n",
    "y_pred=np.argmax(y_pred,axis=1)\n",
    "print(y_pred)\n",
    "print(y_test)"
   ]
  },
  {
   "cell_type": "code",
   "execution_count": 33,
   "metadata": {},
   "outputs": [
    {
     "name": "stdout",
     "output_type": "stream",
     "text": [
      "120\n",
      "120\n",
      "Test accuracy : 0.9333333333333333\n",
      "Train accuracy: 0.5416666666666666\n"
     ]
    }
   ],
   "source": [
    "def acc(y_true, y_pred):\n",
    "    return np.equal(y_true,y_pred).mean()\n",
    "print (len(y_test))\n",
    "print (len(y_pred))\n",
    "print(\"Test accuracy : \" + str(acc(y_test, y_pred)))\n",
    "print(\"Train accuracy: \" + str(acc(y_train[60:], y_pred)))"
   ]
  },
  {
   "cell_type": "code",
   "execution_count": 85,
   "metadata": {},
   "outputs": [
    {
     "name": "stdout",
     "output_type": "stream",
     "text": [
      "accuracy: 0.6666666666666666\n"
     ]
    }
   ],
   "source": [
    "#exemple\n",
    "a = [1, 0, 1]\n",
    "b = [1, 1, 1]\n",
    "print(\"accuracy: \" + str(acc(a,b)))\n"
   ]
  },
  {
   "cell_type": "code",
   "execution_count": null,
   "metadata": {},
   "outputs": [],
   "source": []
  }
 ],
 "metadata": {
  "kernelspec": {
   "display_name": "Python 3",
   "language": "python",
   "name": "python3"
  },
  "language_info": {
   "codemirror_mode": {
    "name": "ipython",
    "version": 3
   },
   "file_extension": ".py",
   "mimetype": "text/x-python",
   "name": "python",
   "nbconvert_exporter": "python",
   "pygments_lexer": "ipython3",
   "version": "3.5.4"
  }
 },
 "nbformat": 4,
 "nbformat_minor": 2
}
