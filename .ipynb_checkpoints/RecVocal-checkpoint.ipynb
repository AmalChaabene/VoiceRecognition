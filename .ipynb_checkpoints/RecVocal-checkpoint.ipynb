{
 "cells": [
  {
   "cell_type": "code",
   "execution_count": 4,
   "metadata": {},
   "outputs": [
    {
     "name": "stderr",
     "output_type": "stream",
     "text": [
      "\r",
      "Saving vectors of label - 'amal':   0%|                | 0/200 [00:00<?, ?it/s]"
     ]
    },
    {
     "name": "stdout",
     "output_type": "stream",
     "text": [
      "./data/amal/amal1.wav\n"
     ]
    },
    {
     "name": "stderr",
     "output_type": "stream",
     "text": [
      "\r",
      "Saving vectors of label - 'amal':   0%|        | 1/200 [00:01<05:23,  1.63s/it]"
     ]
    },
    {
     "name": "stdout",
     "output_type": "stream",
     "text": [
      "./data/amal/amal10.wav\n",
      "./data/amal/amal100.wav\n"
     ]
    },
    {
     "name": "stderr",
     "output_type": "stream",
     "text": [
      "\r",
      "Saving vectors of label - 'amal':   2%|        | 3/200 [00:01<01:55,  1.71it/s]"
     ]
    },
    {
     "name": "stdout",
     "output_type": "stream",
     "text": [
      "./data/amal/amal101.wav\n",
      "./data/amal/amal102.wav\n"
     ]
    },
    {
     "name": "stderr",
     "output_type": "stream",
     "text": [
      "\r",
      "Saving vectors of label - 'amal':   2%|▏       | 5/200 [00:01<01:16,  2.55it/s]"
     ]
    },
    {
     "name": "stdout",
     "output_type": "stream",
     "text": [
      "./data/amal/amal103.wav\n",
      "./data/amal/amal104.wav\n"
     ]
    },
    {
     "name": "stderr",
     "output_type": "stream",
     "text": [
      "\r",
      "Saving vectors of label - 'amal':   4%|▎       | 7/200 [00:02<00:57,  3.34it/s]"
     ]
    },
    {
     "name": "stdout",
     "output_type": "stream",
     "text": [
      "./data/amal/amal105.wav\n",
      "./data/amal/amal106.wav\n"
     ]
    },
    {
     "name": "stderr",
     "output_type": "stream",
     "text": [
      "\r",
      "Saving vectors of label - 'amal':   4%|▎       | 9/200 [00:02<00:47,  4.04it/s]"
     ]
    },
    {
     "name": "stdout",
     "output_type": "stream",
     "text": [
      "./data/amal/amal107.wav\n",
      "./data/amal/amal108.wav\n"
     ]
    },
    {
     "name": "stderr",
     "output_type": "stream",
     "text": [
      "\r",
      "Saving vectors of label - 'amal':   6%|▍      | 11/200 [00:02<00:41,  4.60it/s]"
     ]
    },
    {
     "name": "stdout",
     "output_type": "stream",
     "text": [
      "./data/amal/amal109.wav\n",
      "./data/amal/amal11.wav\n"
     ]
    },
    {
     "name": "stderr",
     "output_type": "stream",
     "text": [
      "\r",
      "Saving vectors of label - 'amal':   6%|▍      | 13/200 [00:02<00:37,  5.04it/s]"
     ]
    },
    {
     "name": "stdout",
     "output_type": "stream",
     "text": [
      "./data/amal/amal110.wav\n",
      "./data/amal/amal111.wav\n"
     ]
    },
    {
     "name": "stderr",
     "output_type": "stream",
     "text": [
      "\r",
      "Saving vectors of label - 'amal':   8%|▌      | 15/200 [00:03<00:37,  4.91it/s]"
     ]
    },
    {
     "name": "stdout",
     "output_type": "stream",
     "text": [
      "./data/amal/amal112.wav\n",
      "./data/amal/amal113.wav\n"
     ]
    },
    {
     "name": "stderr",
     "output_type": "stream",
     "text": [
      "\r",
      "Saving vectors of label - 'amal':   8%|▌      | 17/200 [00:03<00:34,  5.30it/s]"
     ]
    },
    {
     "name": "stdout",
     "output_type": "stream",
     "text": [
      "./data/amal/amal114.wav\n",
      "./data/amal/amal115.wav\n"
     ]
    },
    {
     "name": "stderr",
     "output_type": "stream",
     "text": [
      "\r",
      "Saving vectors of label - 'amal':  10%|▋      | 19/200 [00:03<00:32,  5.64it/s]"
     ]
    },
    {
     "name": "stdout",
     "output_type": "stream",
     "text": [
      "./data/amal/amal116.wav\n",
      "./data/amal/amal117.wav\n"
     ]
    },
    {
     "name": "stderr",
     "output_type": "stream",
     "text": [
      "\r",
      "Saving vectors of label - 'amal':  10%|▋      | 21/200 [00:03<00:30,  5.82it/s]"
     ]
    },
    {
     "name": "stdout",
     "output_type": "stream",
     "text": [
      "./data/amal/amal118.wav\n",
      "./data/amal/amal119.wav\n"
     ]
    },
    {
     "name": "stderr",
     "output_type": "stream",
     "text": [
      "\r",
      "Saving vectors of label - 'amal':  12%|▊      | 23/200 [00:03<00:29,  5.95it/s]"
     ]
    },
    {
     "name": "stdout",
     "output_type": "stream",
     "text": [
      "./data/amal/amal12.wav\n",
      "./data/amal/amal120.wav\n"
     ]
    },
    {
     "name": "stderr",
     "output_type": "stream",
     "text": [
      "\r",
      "Saving vectors of label - 'amal':  12%|▉      | 25/200 [00:04<00:28,  6.14it/s]"
     ]
    },
    {
     "name": "stdout",
     "output_type": "stream",
     "text": [
      "./data/amal/amal121.wav\n"
     ]
    },
    {
     "name": "stderr",
     "output_type": "stream",
     "text": [
      "\r",
      "Saving vectors of label - 'amal':  13%|▉      | 26/200 [00:04<00:28,  6.21it/s]"
     ]
    },
    {
     "name": "stdout",
     "output_type": "stream",
     "text": [
      "./data/amal/amal122.wav\n"
     ]
    },
    {
     "name": "stderr",
     "output_type": "stream",
     "text": [
      "\r",
      "Saving vectors of label - 'amal':  14%|▉      | 27/200 [00:04<00:27,  6.29it/s]"
     ]
    },
    {
     "name": "stdout",
     "output_type": "stream",
     "text": [
      "./data/amal/amal123.wav\n",
      "./data/amal/amal124.wav\n"
     ]
    },
    {
     "name": "stderr",
     "output_type": "stream",
     "text": [
      "\r",
      "Saving vectors of label - 'amal':  14%|█      | 29/200 [00:04<00:26,  6.43it/s]"
     ]
    },
    {
     "name": "stdout",
     "output_type": "stream",
     "text": [
      "./data/amal/amal125.wav\n"
     ]
    },
    {
     "name": "stderr",
     "output_type": "stream",
     "text": [
      "\r",
      "Saving vectors of label - 'amal':  15%|█      | 30/200 [00:04<00:26,  6.43it/s]"
     ]
    },
    {
     "name": "stdout",
     "output_type": "stream",
     "text": [
      "./data/amal/amal126.wav\n",
      "./data/amal/amal127.wav\n"
     ]
    },
    {
     "name": "stderr",
     "output_type": "stream",
     "text": [
      "\r",
      "Saving vectors of label - 'amal':  16%|█      | 32/200 [00:04<00:25,  6.53it/s]"
     ]
    },
    {
     "name": "stdout",
     "output_type": "stream",
     "text": [
      "./data/amal/amal128.wav\n"
     ]
    },
    {
     "name": "stderr",
     "output_type": "stream",
     "text": [
      "\r",
      "Saving vectors of label - 'amal':  16%|█▏     | 33/200 [00:05<00:25,  6.53it/s]"
     ]
    },
    {
     "name": "stdout",
     "output_type": "stream",
     "text": [
      "./data/amal/amal129.wav\n",
      "./data/amal/amal13.wav\n"
     ]
    },
    {
     "name": "stderr",
     "output_type": "stream",
     "text": [
      "\r",
      "Saving vectors of label - 'amal':  18%|█▏     | 35/200 [00:05<00:24,  6.68it/s]"
     ]
    },
    {
     "name": "stdout",
     "output_type": "stream",
     "text": [
      "./data/amal/amal130.wav\n",
      "./data/amal/amal131.wav\n"
     ]
    },
    {
     "name": "stderr",
     "output_type": "stream",
     "text": [
      "\r",
      "Saving vectors of label - 'amal':  18%|█▎     | 37/200 [00:05<00:23,  6.86it/s]"
     ]
    },
    {
     "name": "stdout",
     "output_type": "stream",
     "text": [
      "./data/amal/amal132.wav\n",
      "./data/amal/amal133.wav\n"
     ]
    },
    {
     "name": "stderr",
     "output_type": "stream",
     "text": [
      "\r",
      "Saving vectors of label - 'amal':  20%|█▎     | 39/200 [00:05<00:22,  7.05it/s]"
     ]
    },
    {
     "name": "stdout",
     "output_type": "stream",
     "text": [
      "./data/amal/amal134.wav\n",
      "./data/amal/amal135.wav\n"
     ]
    },
    {
     "name": "stderr",
     "output_type": "stream",
     "text": [
      "\r",
      "Saving vectors of label - 'amal':  20%|█▍     | 41/200 [00:05<00:22,  7.21it/s]"
     ]
    },
    {
     "name": "stdout",
     "output_type": "stream",
     "text": [
      "./data/amal/amal136.wav\n",
      "./data/amal/amal137.wav\n"
     ]
    },
    {
     "name": "stderr",
     "output_type": "stream",
     "text": [
      "\r",
      "Saving vectors of label - 'amal':  22%|█▌     | 43/200 [00:05<00:21,  7.33it/s]"
     ]
    },
    {
     "name": "stdout",
     "output_type": "stream",
     "text": [
      "./data/amal/amal138.wav\n",
      "./data/amal/amal139.wav\n"
     ]
    },
    {
     "name": "stderr",
     "output_type": "stream",
     "text": [
      "\r",
      "Saving vectors of label - 'amal':  22%|█▌     | 45/200 [00:06<00:20,  7.45it/s]"
     ]
    },
    {
     "name": "stdout",
     "output_type": "stream",
     "text": [
      "./data/amal/amal14.wav\n",
      "./data/amal/amal140.wav\n"
     ]
    },
    {
     "name": "stderr",
     "output_type": "stream",
     "text": [
      "\r",
      "Saving vectors of label - 'amal':  24%|█▋     | 47/200 [00:06<00:20,  7.60it/s]"
     ]
    },
    {
     "name": "stdout",
     "output_type": "stream",
     "text": [
      "./data/amal/amal141.wav\n",
      "./data/amal/amal142.wav\n"
     ]
    },
    {
     "name": "stderr",
     "output_type": "stream",
     "text": [
      "\r",
      "Saving vectors of label - 'amal':  24%|█▋     | 49/200 [00:06<00:19,  7.71it/s]"
     ]
    },
    {
     "name": "stdout",
     "output_type": "stream",
     "text": [
      "./data/amal/amal143.wav\n",
      "./data/amal/amal144.wav\n"
     ]
    },
    {
     "name": "stderr",
     "output_type": "stream",
     "text": [
      "\r",
      "Saving vectors of label - 'amal':  26%|█▊     | 51/200 [00:06<00:19,  7.68it/s]"
     ]
    },
    {
     "name": "stdout",
     "output_type": "stream",
     "text": [
      "./data/amal/amal145.wav\n",
      "./data/amal/amal146.wav\n"
     ]
    },
    {
     "name": "stderr",
     "output_type": "stream",
     "text": [
      "\r",
      "Saving vectors of label - 'amal':  26%|█▊     | 53/200 [00:06<00:19,  7.67it/s]"
     ]
    },
    {
     "name": "stdout",
     "output_type": "stream",
     "text": [
      "./data/amal/amal147.wav\n"
     ]
    },
    {
     "name": "stderr",
     "output_type": "stream",
     "text": [
      "\r",
      "Saving vectors of label - 'amal':  27%|█▉     | 54/200 [00:07<00:19,  7.61it/s]"
     ]
    },
    {
     "name": "stdout",
     "output_type": "stream",
     "text": [
      "./data/amal/amal148.wav\n"
     ]
    },
    {
     "name": "stderr",
     "output_type": "stream",
     "text": [
      "\r",
      "Saving vectors of label - 'amal':  28%|█▉     | 55/200 [00:07<00:19,  7.56it/s]"
     ]
    },
    {
     "name": "stdout",
     "output_type": "stream",
     "text": [
      "./data/amal/amal149.wav\n"
     ]
    },
    {
     "name": "stderr",
     "output_type": "stream",
     "text": [
      "\r",
      "Saving vectors of label - 'amal':  28%|█▉     | 56/200 [00:07<00:19,  7.52it/s]"
     ]
    },
    {
     "name": "stdout",
     "output_type": "stream",
     "text": [
      "./data/amal/amal15.wav\n"
     ]
    },
    {
     "name": "stderr",
     "output_type": "stream",
     "text": [
      "\r",
      "Saving vectors of label - 'amal':  28%|█▉     | 57/200 [00:07<00:19,  7.51it/s]"
     ]
    },
    {
     "name": "stdout",
     "output_type": "stream",
     "text": [
      "./data/amal/amal150.wav\n",
      "./data/amal/amal151.wav\n"
     ]
    },
    {
     "name": "stderr",
     "output_type": "stream",
     "text": [
      "\r",
      "Saving vectors of label - 'amal':  30%|██     | 59/200 [00:07<00:18,  7.53it/s]"
     ]
    },
    {
     "name": "stdout",
     "output_type": "stream",
     "text": [
      "./data/amal/amal152.wav\n"
     ]
    },
    {
     "name": "stderr",
     "output_type": "stream",
     "text": [
      "\r",
      "Saving vectors of label - 'amal':  30%|██     | 60/200 [00:07<00:18,  7.55it/s]"
     ]
    },
    {
     "name": "stdout",
     "output_type": "stream",
     "text": [
      "./data/amal/amal153.wav\n",
      "./data/amal/amal154.wav\n"
     ]
    },
    {
     "name": "stderr",
     "output_type": "stream",
     "text": [
      "\r",
      "Saving vectors of label - 'amal':  31%|██▏    | 62/200 [00:08<00:18,  7.61it/s]"
     ]
    },
    {
     "name": "stdout",
     "output_type": "stream",
     "text": [
      "./data/amal/amal155.wav\n"
     ]
    },
    {
     "name": "stderr",
     "output_type": "stream",
     "text": [
      "\r",
      "Saving vectors of label - 'amal':  32%|██▏    | 63/200 [00:08<00:17,  7.63it/s]"
     ]
    },
    {
     "name": "stdout",
     "output_type": "stream",
     "text": [
      "./data/amal/amal156.wav\n"
     ]
    },
    {
     "name": "stderr",
     "output_type": "stream",
     "text": [
      "\r",
      "Saving vectors of label - 'amal':  32%|██▏    | 64/200 [00:08<00:17,  7.63it/s]"
     ]
    },
    {
     "name": "stdout",
     "output_type": "stream",
     "text": [
      "./data/amal/amal157.wav\n"
     ]
    },
    {
     "name": "stderr",
     "output_type": "stream",
     "text": [
      "\r",
      "Saving vectors of label - 'amal':  32%|██▎    | 65/200 [00:08<00:17,  7.65it/s]"
     ]
    },
    {
     "name": "stdout",
     "output_type": "stream",
     "text": [
      "./data/amal/amal158.wav\n"
     ]
    },
    {
     "name": "stderr",
     "output_type": "stream",
     "text": [
      "\r",
      "Saving vectors of label - 'amal':  33%|██▎    | 66/200 [00:08<00:17,  7.64it/s]"
     ]
    },
    {
     "name": "stdout",
     "output_type": "stream",
     "text": [
      "./data/amal/amal159.wav\n"
     ]
    },
    {
     "name": "stderr",
     "output_type": "stream",
     "text": [
      "\r",
      "Saving vectors of label - 'amal':  34%|██▎    | 67/200 [00:08<00:17,  7.66it/s]"
     ]
    },
    {
     "name": "stdout",
     "output_type": "stream",
     "text": [
      "./data/amal/amal16.wav\n",
      "./data/amal/amal160.wav\n"
     ]
    },
    {
     "name": "stderr",
     "output_type": "stream",
     "text": [
      "\r",
      "Saving vectors of label - 'amal':  34%|██▍    | 69/200 [00:08<00:16,  7.72it/s]"
     ]
    },
    {
     "name": "stdout",
     "output_type": "stream",
     "text": [
      "./data/amal/amal161.wav\n"
     ]
    },
    {
     "name": "stderr",
     "output_type": "stream",
     "text": [
      "\r",
      "Saving vectors of label - 'amal':  35%|██▍    | 70/200 [00:09<00:16,  7.74it/s]"
     ]
    },
    {
     "name": "stdout",
     "output_type": "stream",
     "text": [
      "./data/amal/amal162.wav\n"
     ]
    },
    {
     "name": "stderr",
     "output_type": "stream",
     "text": [
      "\r",
      "Saving vectors of label - 'amal':  36%|██▍    | 71/200 [00:09<00:16,  7.75it/s]"
     ]
    },
    {
     "name": "stdout",
     "output_type": "stream",
     "text": [
      "./data/amal/amal163.wav\n",
      "./data/amal/amal164.wav\n"
     ]
    },
    {
     "name": "stderr",
     "output_type": "stream",
     "text": [
      "\r",
      "Saving vectors of label - 'amal':  36%|██▌    | 73/200 [00:09<00:16,  7.79it/s]"
     ]
    },
    {
     "name": "stdout",
     "output_type": "stream",
     "text": [
      "./data/amal/amal165.wav\n"
     ]
    },
    {
     "name": "stderr",
     "output_type": "stream",
     "text": [
      "\r",
      "Saving vectors of label - 'amal':  37%|██▌    | 74/200 [00:09<00:16,  7.78it/s]"
     ]
    },
    {
     "name": "stdout",
     "output_type": "stream",
     "text": [
      "./data/amal/amal166.wav\n"
     ]
    },
    {
     "name": "stderr",
     "output_type": "stream",
     "text": [
      "\r",
      "Saving vectors of label - 'amal':  38%|██▋    | 75/200 [00:09<00:16,  7.78it/s]"
     ]
    },
    {
     "name": "stdout",
     "output_type": "stream",
     "text": [
      "./data/amal/amal167.wav\n"
     ]
    },
    {
     "name": "stderr",
     "output_type": "stream",
     "text": [
      "\r",
      "Saving vectors of label - 'amal':  38%|██▋    | 76/200 [00:09<00:15,  7.78it/s]"
     ]
    },
    {
     "name": "stdout",
     "output_type": "stream",
     "text": [
      "./data/amal/amal168.wav\n"
     ]
    },
    {
     "name": "stderr",
     "output_type": "stream",
     "text": [
      "\r",
      "Saving vectors of label - 'amal':  38%|██▋    | 77/200 [00:09<00:15,  7.77it/s]"
     ]
    },
    {
     "name": "stdout",
     "output_type": "stream",
     "text": [
      "./data/amal/amal169.wav\n"
     ]
    },
    {
     "name": "stderr",
     "output_type": "stream",
     "text": [
      "\r",
      "Saving vectors of label - 'amal':  39%|██▋    | 78/200 [00:10<00:15,  7.79it/s]"
     ]
    },
    {
     "name": "stdout",
     "output_type": "stream",
     "text": [
      "./data/amal/amal17.wav\n"
     ]
    },
    {
     "name": "stderr",
     "output_type": "stream",
     "text": [
      "\r",
      "Saving vectors of label - 'amal':  40%|██▊    | 79/200 [00:10<00:15,  7.80it/s]"
     ]
    },
    {
     "name": "stdout",
     "output_type": "stream",
     "text": [
      "./data/amal/amal170.wav\n"
     ]
    },
    {
     "name": "stderr",
     "output_type": "stream",
     "text": [
      "\r",
      "Saving vectors of label - 'amal':  40%|██▊    | 80/200 [00:10<00:15,  7.82it/s]"
     ]
    },
    {
     "name": "stdout",
     "output_type": "stream",
     "text": [
      "./data/amal/amal171.wav\n"
     ]
    },
    {
     "name": "stderr",
     "output_type": "stream",
     "text": [
      "\r",
      "Saving vectors of label - 'amal':  40%|██▊    | 81/200 [00:10<00:15,  7.79it/s]"
     ]
    },
    {
     "name": "stdout",
     "output_type": "stream",
     "text": [
      "./data/amal/amal172.wav\n"
     ]
    },
    {
     "name": "stderr",
     "output_type": "stream",
     "text": [
      "\r",
      "Saving vectors of label - 'amal':  41%|██▊    | 82/200 [00:10<00:15,  7.77it/s]"
     ]
    },
    {
     "name": "stdout",
     "output_type": "stream",
     "text": [
      "./data/amal/amal173.wav\n"
     ]
    },
    {
     "name": "stderr",
     "output_type": "stream",
     "text": [
      "\r",
      "Saving vectors of label - 'amal':  42%|██▉    | 83/200 [00:10<00:15,  7.73it/s]"
     ]
    },
    {
     "name": "stdout",
     "output_type": "stream",
     "text": [
      "./data/amal/amal174.wav\n"
     ]
    },
    {
     "name": "stderr",
     "output_type": "stream",
     "text": [
      "\r",
      "Saving vectors of label - 'amal':  42%|██▉    | 84/200 [00:10<00:15,  7.67it/s]"
     ]
    },
    {
     "name": "stdout",
     "output_type": "stream",
     "text": [
      "./data/amal/amal175.wav\n"
     ]
    },
    {
     "name": "stderr",
     "output_type": "stream",
     "text": [
      "\r",
      "Saving vectors of label - 'amal':  42%|██▉    | 85/200 [00:11<00:15,  7.47it/s]"
     ]
    },
    {
     "name": "stdout",
     "output_type": "stream",
     "text": [
      "./data/amal/amal176.wav\n"
     ]
    },
    {
     "name": "stderr",
     "output_type": "stream",
     "text": [
      "\r",
      "Saving vectors of label - 'amal':  43%|███    | 86/200 [00:11<00:15,  7.47it/s]"
     ]
    },
    {
     "name": "stdout",
     "output_type": "stream",
     "text": [
      "./data/amal/amal177.wav\n"
     ]
    },
    {
     "name": "stderr",
     "output_type": "stream",
     "text": [
      "\r",
      "Saving vectors of label - 'amal':  44%|███    | 87/200 [00:11<00:15,  7.43it/s]"
     ]
    },
    {
     "name": "stdout",
     "output_type": "stream",
     "text": [
      "./data/amal/amal178.wav\n"
     ]
    },
    {
     "name": "stderr",
     "output_type": "stream",
     "text": [
      "\r",
      "Saving vectors of label - 'amal':  44%|███    | 88/200 [00:11<00:15,  7.44it/s]"
     ]
    },
    {
     "name": "stdout",
     "output_type": "stream",
     "text": [
      "./data/amal/amal179.wav\n"
     ]
    },
    {
     "name": "stderr",
     "output_type": "stream",
     "text": [
      "\r",
      "Saving vectors of label - 'amal':  44%|███    | 89/200 [00:11<00:14,  7.46it/s]"
     ]
    },
    {
     "name": "stdout",
     "output_type": "stream",
     "text": [
      "./data/amal/amal18.wav\n",
      "./data/amal/amal180.wav\n"
     ]
    },
    {
     "name": "stderr",
     "output_type": "stream",
     "text": [
      "\r",
      "Saving vectors of label - 'amal':  46%|███▏   | 91/200 [00:12<00:14,  7.48it/s]"
     ]
    },
    {
     "name": "stdout",
     "output_type": "stream",
     "text": [
      "./data/amal/amal181.wav\n"
     ]
    },
    {
     "name": "stderr",
     "output_type": "stream",
     "text": [
      "\r",
      "Saving vectors of label - 'amal':  46%|███▏   | 92/200 [00:12<00:14,  7.49it/s]"
     ]
    },
    {
     "name": "stdout",
     "output_type": "stream",
     "text": [
      "./data/amal/amal182.wav\n"
     ]
    },
    {
     "name": "stderr",
     "output_type": "stream",
     "text": [
      "\r",
      "Saving vectors of label - 'amal':  46%|███▎   | 93/200 [00:12<00:14,  7.47it/s]"
     ]
    },
    {
     "name": "stdout",
     "output_type": "stream",
     "text": [
      "./data/amal/amal183.wav\n"
     ]
    },
    {
     "name": "stderr",
     "output_type": "stream",
     "text": [
      "\r",
      "Saving vectors of label - 'amal':  47%|███▎   | 94/200 [00:12<00:14,  7.48it/s]"
     ]
    },
    {
     "name": "stdout",
     "output_type": "stream",
     "text": [
      "./data/amal/amal184.wav\n"
     ]
    },
    {
     "name": "stderr",
     "output_type": "stream",
     "text": [
      "\r",
      "Saving vectors of label - 'amal':  48%|███▎   | 95/200 [00:12<00:14,  7.46it/s]"
     ]
    },
    {
     "name": "stdout",
     "output_type": "stream",
     "text": [
      "./data/amal/amal185.wav\n"
     ]
    },
    {
     "name": "stderr",
     "output_type": "stream",
     "text": [
      "\r",
      "Saving vectors of label - 'amal':  48%|███▎   | 96/200 [00:12<00:13,  7.48it/s]"
     ]
    },
    {
     "name": "stdout",
     "output_type": "stream",
     "text": [
      "./data/amal/amal186.wav\n"
     ]
    },
    {
     "name": "stderr",
     "output_type": "stream",
     "text": [
      "\r",
      "Saving vectors of label - 'amal':  48%|███▍   | 97/200 [00:12<00:13,  7.49it/s]"
     ]
    },
    {
     "name": "stdout",
     "output_type": "stream",
     "text": [
      "./data/amal/amal187.wav\n"
     ]
    },
    {
     "name": "stderr",
     "output_type": "stream",
     "text": [
      "\r",
      "Saving vectors of label - 'amal':  49%|███▍   | 98/200 [00:13<00:13,  7.49it/s]"
     ]
    },
    {
     "name": "stdout",
     "output_type": "stream",
     "text": [
      "./data/amal/amal188.wav\n"
     ]
    },
    {
     "name": "stderr",
     "output_type": "stream",
     "text": [
      "\r",
      "Saving vectors of label - 'amal':  50%|███▍   | 99/200 [00:13<00:13,  7.47it/s]"
     ]
    },
    {
     "name": "stdout",
     "output_type": "stream",
     "text": [
      "./data/amal/amal189.wav\n"
     ]
    },
    {
     "name": "stderr",
     "output_type": "stream",
     "text": [
      "\r",
      "Saving vectors of label - 'amal':  50%|███   | 100/200 [00:13<00:13,  7.48it/s]"
     ]
    },
    {
     "name": "stdout",
     "output_type": "stream",
     "text": [
      "./data/amal/amal19.wav\n"
     ]
    },
    {
     "name": "stderr",
     "output_type": "stream",
     "text": [
      "\r",
      "Saving vectors of label - 'amal':  50%|███   | 101/200 [00:13<00:13,  7.50it/s]"
     ]
    },
    {
     "name": "stdout",
     "output_type": "stream",
     "text": [
      "./data/amal/amal190.wav\n"
     ]
    },
    {
     "name": "stderr",
     "output_type": "stream",
     "text": [
      "\r",
      "Saving vectors of label - 'amal':  51%|███   | 102/200 [00:13<00:13,  7.46it/s]"
     ]
    },
    {
     "name": "stdout",
     "output_type": "stream",
     "text": [
      "./data/amal/amal191.wav\n"
     ]
    },
    {
     "name": "stderr",
     "output_type": "stream",
     "text": [
      "\r",
      "Saving vectors of label - 'amal':  52%|███   | 103/200 [00:13<00:13,  7.46it/s]"
     ]
    },
    {
     "name": "stdout",
     "output_type": "stream",
     "text": [
      "./data/amal/amal192.wav\n"
     ]
    },
    {
     "name": "stderr",
     "output_type": "stream",
     "text": [
      "\r",
      "Saving vectors of label - 'amal':  52%|███   | 104/200 [00:14<00:13,  7.34it/s]"
     ]
    },
    {
     "name": "stdout",
     "output_type": "stream",
     "text": [
      "./data/amal/amal193.wav\n"
     ]
    },
    {
     "name": "stderr",
     "output_type": "stream",
     "text": [
      "\r",
      "Saving vectors of label - 'amal':  52%|███▏  | 105/200 [00:14<00:13,  7.20it/s]"
     ]
    },
    {
     "name": "stdout",
     "output_type": "stream",
     "text": [
      "./data/amal/amal194.wav\n",
      "./data/amal/amal195.wav\n"
     ]
    },
    {
     "name": "stderr",
     "output_type": "stream",
     "text": [
      "\r",
      "Saving vectors of label - 'amal':  54%|███▏  | 107/200 [00:14<00:12,  7.23it/s]"
     ]
    },
    {
     "name": "stdout",
     "output_type": "stream",
     "text": [
      "./data/amal/amal196.wav\n"
     ]
    },
    {
     "name": "stderr",
     "output_type": "stream",
     "text": [
      "\r",
      "Saving vectors of label - 'amal':  54%|███▏  | 108/200 [00:14<00:12,  7.21it/s]"
     ]
    },
    {
     "name": "stdout",
     "output_type": "stream",
     "text": [
      "./data/amal/amal197.wav\n"
     ]
    },
    {
     "name": "stderr",
     "output_type": "stream",
     "text": [
      "\r",
      "Saving vectors of label - 'amal':  55%|███▎  | 109/200 [00:15<00:12,  7.22it/s]"
     ]
    },
    {
     "name": "stdout",
     "output_type": "stream",
     "text": [
      "./data/amal/amal198.wav\n"
     ]
    },
    {
     "name": "stderr",
     "output_type": "stream",
     "text": [
      "\r",
      "Saving vectors of label - 'amal':  55%|███▎  | 110/200 [00:15<00:12,  7.22it/s]"
     ]
    },
    {
     "name": "stdout",
     "output_type": "stream",
     "text": [
      "./data/amal/amal199.wav\n"
     ]
    },
    {
     "name": "stderr",
     "output_type": "stream",
     "text": [
      "\r",
      "Saving vectors of label - 'amal':  56%|███▎  | 111/200 [00:15<00:12,  7.22it/s]"
     ]
    },
    {
     "name": "stdout",
     "output_type": "stream",
     "text": [
      "./data/amal/amal2.wav\n"
     ]
    },
    {
     "name": "stderr",
     "output_type": "stream",
     "text": [
      "\r",
      "Saving vectors of label - 'amal':  56%|███▎  | 112/200 [00:15<00:12,  7.20it/s]"
     ]
    },
    {
     "name": "stdout",
     "output_type": "stream",
     "text": [
      "./data/amal/amal20.wav\n",
      "./data/amal/amal200.wav\n"
     ]
    },
    {
     "name": "stderr",
     "output_type": "stream",
     "text": [
      "\r",
      "Saving vectors of label - 'amal':  57%|███▍  | 114/200 [00:15<00:11,  7.23it/s]"
     ]
    },
    {
     "name": "stdout",
     "output_type": "stream",
     "text": [
      "./data/amal/amal21.wav\n",
      "./data/amal/amal22.wav\n"
     ]
    },
    {
     "name": "stderr",
     "output_type": "stream",
     "text": [
      "\r",
      "Saving vectors of label - 'amal':  58%|███▍  | 116/200 [00:15<00:11,  7.27it/s]"
     ]
    },
    {
     "name": "stdout",
     "output_type": "stream",
     "text": [
      "./data/amal/amal23.wav\n",
      "./data/amal/amal24.wav\n"
     ]
    },
    {
     "name": "stderr",
     "output_type": "stream",
     "text": [
      "\r",
      "Saving vectors of label - 'amal':  59%|███▌  | 118/200 [00:16<00:11,  7.34it/s]"
     ]
    },
    {
     "name": "stdout",
     "output_type": "stream",
     "text": [
      "./data/amal/amal25.wav\n",
      "./data/amal/amal26.wav\n"
     ]
    },
    {
     "name": "stderr",
     "output_type": "stream",
     "text": [
      "\r",
      "Saving vectors of label - 'amal':  60%|███▌  | 120/200 [00:16<00:10,  7.40it/s]"
     ]
    },
    {
     "name": "stdout",
     "output_type": "stream",
     "text": [
      "./data/amal/amal27.wav\n",
      "./data/amal/amal28.wav\n"
     ]
    },
    {
     "name": "stderr",
     "output_type": "stream",
     "text": [
      "\r",
      "Saving vectors of label - 'amal':  61%|███▋  | 122/200 [00:16<00:10,  7.47it/s]"
     ]
    },
    {
     "name": "stdout",
     "output_type": "stream",
     "text": [
      "./data/amal/amal29.wav\n",
      "./data/amal/amal3.wav\n"
     ]
    },
    {
     "name": "stderr",
     "output_type": "stream",
     "text": [
      "\r",
      "Saving vectors of label - 'amal':  62%|███▋  | 124/200 [00:16<00:10,  7.51it/s]"
     ]
    },
    {
     "name": "stdout",
     "output_type": "stream",
     "text": [
      "./data/amal/amal30.wav\n",
      "./data/amal/amal31.wav\n"
     ]
    },
    {
     "name": "stderr",
     "output_type": "stream",
     "text": [
      "\r",
      "Saving vectors of label - 'amal':  63%|███▊  | 126/200 [00:16<00:09,  7.59it/s]"
     ]
    },
    {
     "name": "stdout",
     "output_type": "stream",
     "text": [
      "./data/amal/amal32.wav\n",
      "./data/amal/amal33.wav\n"
     ]
    },
    {
     "name": "stderr",
     "output_type": "stream",
     "text": [
      "\r",
      "Saving vectors of label - 'amal':  64%|███▊  | 128/200 [00:16<00:09,  7.64it/s]"
     ]
    },
    {
     "name": "stdout",
     "output_type": "stream",
     "text": [
      "./data/amal/amal34.wav\n",
      "./data/amal/amal35.wav\n"
     ]
    },
    {
     "name": "stderr",
     "output_type": "stream",
     "text": [
      "\r",
      "Saving vectors of label - 'amal':  65%|███▉  | 130/200 [00:16<00:09,  7.71it/s]"
     ]
    },
    {
     "name": "stdout",
     "output_type": "stream",
     "text": [
      "./data/amal/amal36.wav\n",
      "./data/amal/amal37.wav\n"
     ]
    },
    {
     "name": "stderr",
     "output_type": "stream",
     "text": [
      "\r",
      "Saving vectors of label - 'amal':  66%|███▉  | 132/200 [00:17<00:08,  7.76it/s]"
     ]
    },
    {
     "name": "stdout",
     "output_type": "stream",
     "text": [
      "./data/amal/amal38.wav\n",
      "./data/amal/amal39.wav\n"
     ]
    },
    {
     "name": "stderr",
     "output_type": "stream",
     "text": [
      "\r",
      "Saving vectors of label - 'amal':  67%|████  | 134/200 [00:17<00:08,  7.79it/s]"
     ]
    },
    {
     "name": "stdout",
     "output_type": "stream",
     "text": [
      "./data/amal/amal4.wav\n",
      "./data/amal/amal40.wav\n"
     ]
    },
    {
     "name": "stderr",
     "output_type": "stream",
     "text": [
      "\r",
      "Saving vectors of label - 'amal':  68%|████  | 136/200 [00:17<00:08,  7.83it/s]"
     ]
    },
    {
     "name": "stdout",
     "output_type": "stream",
     "text": [
      "./data/amal/amal41.wav\n",
      "./data/amal/amal42.wav\n"
     ]
    },
    {
     "name": "stderr",
     "output_type": "stream",
     "text": [
      "\r",
      "Saving vectors of label - 'amal':  69%|████▏ | 138/200 [00:17<00:07,  7.89it/s]"
     ]
    },
    {
     "name": "stdout",
     "output_type": "stream",
     "text": [
      "./data/amal/amal43.wav\n",
      "./data/amal/amal44.wav\n"
     ]
    },
    {
     "name": "stderr",
     "output_type": "stream",
     "text": [
      "\r",
      "Saving vectors of label - 'amal':  70%|████▏ | 140/200 [00:17<00:07,  7.94it/s]"
     ]
    },
    {
     "name": "stdout",
     "output_type": "stream",
     "text": [
      "./data/amal/amal45.wav\n",
      "./data/amal/amal46.wav\n"
     ]
    },
    {
     "name": "stderr",
     "output_type": "stream",
     "text": [
      "\r",
      "Saving vectors of label - 'amal':  71%|████▎ | 142/200 [00:17<00:07,  7.99it/s]"
     ]
    },
    {
     "name": "stdout",
     "output_type": "stream",
     "text": [
      "./data/amal/amal47.wav\n",
      "./data/amal/amal48.wav\n"
     ]
    },
    {
     "name": "stderr",
     "output_type": "stream",
     "text": [
      "\r",
      "Saving vectors of label - 'amal':  72%|████▎ | 144/200 [00:17<00:06,  8.03it/s]"
     ]
    },
    {
     "name": "stdout",
     "output_type": "stream",
     "text": [
      "./data/amal/amal49.wav\n",
      "./data/amal/amal5.wav\n"
     ]
    },
    {
     "name": "stderr",
     "output_type": "stream",
     "text": [
      "\r",
      "Saving vectors of label - 'amal':  73%|████▍ | 146/200 [00:18<00:06,  8.07it/s]"
     ]
    },
    {
     "name": "stdout",
     "output_type": "stream",
     "text": [
      "./data/amal/amal50.wav\n",
      "./data/amal/amal51.wav\n"
     ]
    },
    {
     "name": "stderr",
     "output_type": "stream",
     "text": [
      "\r",
      "Saving vectors of label - 'amal':  74%|████▍ | 148/200 [00:18<00:06,  8.12it/s]"
     ]
    },
    {
     "name": "stdout",
     "output_type": "stream",
     "text": [
      "./data/amal/amal52.wav\n",
      "./data/amal/amal53.wav\n"
     ]
    },
    {
     "name": "stderr",
     "output_type": "stream",
     "text": [
      "\r",
      "Saving vectors of label - 'amal':  75%|████▌ | 150/200 [00:18<00:06,  8.16it/s]"
     ]
    },
    {
     "name": "stdout",
     "output_type": "stream",
     "text": [
      "./data/amal/amal54.wav\n",
      "./data/amal/amal55.wav\n"
     ]
    },
    {
     "name": "stderr",
     "output_type": "stream",
     "text": [
      "\r",
      "Saving vectors of label - 'amal':  76%|████▌ | 152/200 [00:18<00:05,  8.22it/s]"
     ]
    },
    {
     "name": "stdout",
     "output_type": "stream",
     "text": [
      "./data/amal/amal56.wav\n",
      "./data/amal/amal57.wav\n"
     ]
    },
    {
     "name": "stderr",
     "output_type": "stream",
     "text": [
      "\r",
      "Saving vectors of label - 'amal':  77%|████▌ | 154/200 [00:18<00:05,  8.28it/s]"
     ]
    },
    {
     "name": "stdout",
     "output_type": "stream",
     "text": [
      "./data/amal/amal58.wav\n",
      "./data/amal/amal59.wav\n"
     ]
    },
    {
     "name": "stderr",
     "output_type": "stream",
     "text": [
      "\r",
      "Saving vectors of label - 'amal':  78%|████▋ | 156/200 [00:18<00:05,  8.33it/s]"
     ]
    },
    {
     "name": "stdout",
     "output_type": "stream",
     "text": [
      "./data/amal/amal6.wav\n",
      "./data/amal/amal60.wav\n"
     ]
    },
    {
     "name": "stderr",
     "output_type": "stream",
     "text": [
      "\r",
      "Saving vectors of label - 'amal':  79%|████▋ | 158/200 [00:18<00:05,  8.38it/s]"
     ]
    },
    {
     "name": "stdout",
     "output_type": "stream",
     "text": [
      "./data/amal/amal61.wav\n",
      "./data/amal/amal62.wav\n"
     ]
    },
    {
     "name": "stderr",
     "output_type": "stream",
     "text": [
      "\r",
      "Saving vectors of label - 'amal':  80%|████▊ | 160/200 [00:18<00:04,  8.44it/s]"
     ]
    },
    {
     "name": "stdout",
     "output_type": "stream",
     "text": [
      "./data/amal/amal63.wav\n",
      "./data/amal/amal64.wav\n"
     ]
    },
    {
     "name": "stderr",
     "output_type": "stream",
     "text": [
      "\r",
      "Saving vectors of label - 'amal':  81%|████▊ | 162/200 [00:19<00:04,  8.47it/s]"
     ]
    },
    {
     "name": "stdout",
     "output_type": "stream",
     "text": [
      "./data/amal/amal65.wav\n",
      "./data/amal/amal66.wav\n"
     ]
    },
    {
     "name": "stderr",
     "output_type": "stream",
     "text": [
      "\r",
      "Saving vectors of label - 'amal':  82%|████▉ | 164/200 [00:19<00:04,  8.52it/s]"
     ]
    },
    {
     "name": "stdout",
     "output_type": "stream",
     "text": [
      "./data/amal/amal67.wav\n",
      "./data/amal/amal68.wav\n"
     ]
    },
    {
     "name": "stderr",
     "output_type": "stream",
     "text": [
      "\r",
      "Saving vectors of label - 'amal':  83%|████▉ | 166/200 [00:19<00:03,  8.53it/s]"
     ]
    },
    {
     "name": "stdout",
     "output_type": "stream",
     "text": [
      "./data/amal/amal69.wav\n",
      "./data/amal/amal7.wav\n"
     ]
    },
    {
     "name": "stderr",
     "output_type": "stream",
     "text": [
      "\r",
      "Saving vectors of label - 'amal':  84%|█████ | 168/200 [00:19<00:03,  8.57it/s]"
     ]
    },
    {
     "name": "stdout",
     "output_type": "stream",
     "text": [
      "./data/amal/amal70.wav\n",
      "./data/amal/amal71.wav\n"
     ]
    },
    {
     "name": "stderr",
     "output_type": "stream",
     "text": [
      "\r",
      "Saving vectors of label - 'amal':  85%|█████ | 170/200 [00:19<00:03,  8.61it/s]"
     ]
    },
    {
     "name": "stdout",
     "output_type": "stream",
     "text": [
      "./data/amal/amal72.wav\n",
      "./data/amal/amal73.wav\n"
     ]
    },
    {
     "name": "stderr",
     "output_type": "stream",
     "text": [
      "\r",
      "Saving vectors of label - 'amal':  86%|█████▏| 172/200 [00:19<00:03,  8.65it/s]"
     ]
    },
    {
     "name": "stdout",
     "output_type": "stream",
     "text": [
      "./data/amal/amal74.wav\n",
      "./data/amal/amal75.wav\n"
     ]
    },
    {
     "name": "stderr",
     "output_type": "stream",
     "text": [
      "\r",
      "Saving vectors of label - 'amal':  87%|█████▏| 174/200 [00:20<00:02,  8.69it/s]"
     ]
    },
    {
     "name": "stdout",
     "output_type": "stream",
     "text": [
      "./data/amal/amal76.wav\n",
      "./data/amal/amal77.wav\n"
     ]
    },
    {
     "name": "stderr",
     "output_type": "stream",
     "text": [
      "\r",
      "Saving vectors of label - 'amal':  88%|█████▎| 176/200 [00:20<00:02,  8.72it/s]"
     ]
    },
    {
     "name": "stdout",
     "output_type": "stream",
     "text": [
      "./data/amal/amal78.wav\n",
      "./data/amal/amal79.wav\n"
     ]
    },
    {
     "name": "stderr",
     "output_type": "stream",
     "text": [
      "\r",
      "Saving vectors of label - 'amal':  89%|█████▎| 178/200 [00:20<00:02,  8.75it/s]"
     ]
    },
    {
     "name": "stdout",
     "output_type": "stream",
     "text": [
      "./data/amal/amal8.wav\n",
      "./data/amal/amal80.wav\n"
     ]
    },
    {
     "name": "stderr",
     "output_type": "stream",
     "text": [
      "\r",
      "Saving vectors of label - 'amal':  90%|█████▍| 180/200 [00:20<00:02,  8.80it/s]"
     ]
    },
    {
     "name": "stdout",
     "output_type": "stream",
     "text": [
      "./data/amal/amal81.wav\n",
      "./data/amal/amal82.wav\n"
     ]
    },
    {
     "name": "stderr",
     "output_type": "stream",
     "text": [
      "\r",
      "Saving vectors of label - 'amal':  91%|█████▍| 182/200 [00:20<00:02,  8.84it/s]"
     ]
    },
    {
     "name": "stdout",
     "output_type": "stream",
     "text": [
      "./data/amal/amal83.wav\n",
      "./data/amal/amal84.wav\n"
     ]
    },
    {
     "name": "stderr",
     "output_type": "stream",
     "text": [
      "\r",
      "Saving vectors of label - 'amal':  92%|█████▌| 184/200 [00:20<00:01,  8.85it/s]"
     ]
    },
    {
     "name": "stdout",
     "output_type": "stream",
     "text": [
      "./data/amal/amal85.wav\n",
      "./data/amal/amal86.wav\n"
     ]
    },
    {
     "name": "stderr",
     "output_type": "stream",
     "text": [
      "\r",
      "Saving vectors of label - 'amal':  93%|█████▌| 186/200 [00:21<00:01,  8.77it/s]"
     ]
    },
    {
     "name": "stdout",
     "output_type": "stream",
     "text": [
      "./data/amal/amal87.wav\n",
      "./data/amal/amal88.wav\n"
     ]
    },
    {
     "name": "stderr",
     "output_type": "stream",
     "text": [
      "\r",
      "Saving vectors of label - 'amal':  94%|█████▋| 188/200 [00:21<00:01,  8.79it/s]"
     ]
    },
    {
     "name": "stdout",
     "output_type": "stream",
     "text": [
      "./data/amal/amal89.wav\n",
      "./data/amal/amal9.wav\n"
     ]
    },
    {
     "name": "stderr",
     "output_type": "stream",
     "text": [
      "\r",
      "Saving vectors of label - 'amal':  95%|█████▋| 190/200 [00:21<00:01,  8.83it/s]"
     ]
    },
    {
     "name": "stdout",
     "output_type": "stream",
     "text": [
      "./data/amal/amal90.wav\n",
      "./data/amal/amal91.wav\n"
     ]
    },
    {
     "name": "stderr",
     "output_type": "stream",
     "text": [
      "\r",
      "Saving vectors of label - 'amal':  96%|█████▊| 192/200 [00:21<00:00,  8.85it/s]"
     ]
    },
    {
     "name": "stdout",
     "output_type": "stream",
     "text": [
      "./data/amal/amal92.wav\n",
      "./data/amal/amal93.wav\n"
     ]
    },
    {
     "name": "stderr",
     "output_type": "stream",
     "text": [
      "\r",
      "Saving vectors of label - 'amal':  97%|█████▊| 194/200 [00:21<00:00,  8.85it/s]"
     ]
    },
    {
     "name": "stdout",
     "output_type": "stream",
     "text": [
      "./data/amal/amal94.wav\n",
      "./data/amal/amal95.wav\n"
     ]
    },
    {
     "name": "stderr",
     "output_type": "stream",
     "text": [
      "\r",
      "Saving vectors of label - 'amal':  98%|█████▉| 196/200 [00:22<00:00,  8.86it/s]"
     ]
    },
    {
     "name": "stdout",
     "output_type": "stream",
     "text": [
      "./data/amal/amal96.wav\n",
      "./data/amal/amal97.wav\n"
     ]
    },
    {
     "name": "stderr",
     "output_type": "stream",
     "text": [
      "\r",
      "Saving vectors of label - 'amal':  99%|█████▉| 198/200 [00:22<00:00,  8.90it/s]"
     ]
    },
    {
     "name": "stdout",
     "output_type": "stream",
     "text": [
      "./data/amal/amal98.wav\n",
      "./data/amal/amal99.wav\n"
     ]
    },
    {
     "name": "stderr",
     "output_type": "stream",
     "text": [
      "Saving vectors of label - 'amal': 100%|██████| 200/200 [00:22<00:00,  8.91it/s]\n",
      "Saving vectors of label - 'hajer':   0%|               | 0/200 [00:00<?, ?it/s]"
     ]
    },
    {
     "name": "stdout",
     "output_type": "stream",
     "text": [
      "./data/hajer/hajer1.wav\n",
      "./data/hajer/hajer10.wav\n"
     ]
    },
    {
     "name": "stderr",
     "output_type": "stream",
     "text": [
      "\r",
      "Saving vectors of label - 'hajer':   1%|       | 2/200 [00:00<00:11, 16.94it/s]"
     ]
    },
    {
     "name": "stdout",
     "output_type": "stream",
     "text": [
      "./data/hajer/hajer100.wav\n"
     ]
    },
    {
     "name": "stderr",
     "output_type": "stream",
     "text": [
      "\r",
      "Saving vectors of label - 'hajer':   2%|       | 3/200 [00:00<00:14, 13.38it/s]"
     ]
    },
    {
     "name": "stdout",
     "output_type": "stream",
     "text": [
      "./data/hajer/hajer101.wav\n"
     ]
    },
    {
     "name": "stderr",
     "output_type": "stream",
     "text": [
      "\r",
      "Saving vectors of label - 'hajer':   2%|▏      | 4/200 [00:00<00:16, 11.90it/s]"
     ]
    },
    {
     "name": "stdout",
     "output_type": "stream",
     "text": [
      "./data/hajer/hajer102.wav\n",
      "./data/hajer/hajer103.wav\n"
     ]
    },
    {
     "name": "stderr",
     "output_type": "stream",
     "text": [
      "\r",
      "Saving vectors of label - 'hajer':   3%|▏      | 6/200 [00:00<00:16, 11.97it/s]"
     ]
    },
    {
     "name": "stdout",
     "output_type": "stream",
     "text": [
      "./data/hajer/hajer104.wav\n",
      "./data/hajer/hajer105.wav\n"
     ]
    },
    {
     "name": "stderr",
     "output_type": "stream",
     "text": [
      "\r",
      "Saving vectors of label - 'hajer':   4%|▎      | 8/200 [00:00<00:15, 12.19it/s]"
     ]
    },
    {
     "name": "stdout",
     "output_type": "stream",
     "text": [
      "./data/hajer/hajer106.wav\n"
     ]
    },
    {
     "name": "stderr",
     "output_type": "stream",
     "text": [
      "\r",
      "Saving vectors of label - 'hajer':   4%|▎      | 9/200 [00:00<00:16, 11.62it/s]"
     ]
    },
    {
     "name": "stdout",
     "output_type": "stream",
     "text": [
      "./data/hajer/hajer107.wav\n"
     ]
    },
    {
     "name": "stderr",
     "output_type": "stream",
     "text": [
      "\r",
      "Saving vectors of label - 'hajer':   5%|▎     | 10/200 [00:00<00:16, 11.37it/s]"
     ]
    },
    {
     "name": "stdout",
     "output_type": "stream",
     "text": [
      "./data/hajer/hajer108.wav\n"
     ]
    },
    {
     "name": "stderr",
     "output_type": "stream",
     "text": [
      "\r",
      "Saving vectors of label - 'hajer':   6%|▎     | 11/200 [00:01<00:18,  9.98it/s]"
     ]
    },
    {
     "name": "stdout",
     "output_type": "stream",
     "text": [
      "./data/hajer/hajer109.wav\n"
     ]
    },
    {
     "name": "stderr",
     "output_type": "stream",
     "text": [
      "\r",
      "Saving vectors of label - 'hajer':   6%|▎     | 12/200 [00:01<00:23,  8.11it/s]"
     ]
    },
    {
     "name": "stdout",
     "output_type": "stream",
     "text": [
      "./data/hajer/hajer11.wav\n",
      "./data/hajer/hajer110.wav\n"
     ]
    },
    {
     "name": "stderr",
     "output_type": "stream",
     "text": [
      "\r",
      "Saving vectors of label - 'hajer':   7%|▍     | 14/200 [00:01<00:21,  8.66it/s]"
     ]
    },
    {
     "name": "stdout",
     "output_type": "stream",
     "text": [
      "./data/hajer/hajer111.wav\n",
      "./data/hajer/hajer112.wav\n"
     ]
    },
    {
     "name": "stderr",
     "output_type": "stream",
     "text": [
      "\r",
      "Saving vectors of label - 'hajer':   8%|▍     | 16/200 [00:01<00:20,  8.87it/s]"
     ]
    },
    {
     "name": "stdout",
     "output_type": "stream",
     "text": [
      "./data/hajer/hajer113.wav\n",
      "./data/hajer/hajer114.wav\n"
     ]
    },
    {
     "name": "stderr",
     "output_type": "stream",
     "text": [
      "\r",
      "Saving vectors of label - 'hajer':   9%|▌     | 18/200 [00:01<00:19,  9.16it/s]"
     ]
    },
    {
     "name": "stdout",
     "output_type": "stream",
     "text": [
      "./data/hajer/hajer115.wav\n",
      "./data/hajer/hajer116.wav\n"
     ]
    },
    {
     "name": "stderr",
     "output_type": "stream",
     "text": [
      "\r",
      "Saving vectors of label - 'hajer':  10%|▌     | 20/200 [00:02<00:18,  9.55it/s]"
     ]
    },
    {
     "name": "stdout",
     "output_type": "stream",
     "text": [
      "./data/hajer/hajer117.wav\n",
      "./data/hajer/hajer118.wav\n"
     ]
    },
    {
     "name": "stderr",
     "output_type": "stream",
     "text": [
      "\r",
      "Saving vectors of label - 'hajer':  11%|▋     | 22/200 [00:02<00:18,  9.64it/s]"
     ]
    },
    {
     "name": "stdout",
     "output_type": "stream",
     "text": [
      "./data/hajer/hajer119.wav\n",
      "./data/hajer/hajer12.wav\n"
     ]
    },
    {
     "name": "stderr",
     "output_type": "stream",
     "text": [
      "\r",
      "Saving vectors of label - 'hajer':  12%|▋     | 24/200 [00:02<00:17,  9.87it/s]"
     ]
    },
    {
     "name": "stdout",
     "output_type": "stream",
     "text": [
      "./data/hajer/hajer120.wav\n",
      "./data/hajer/hajer121.wav\n"
     ]
    },
    {
     "name": "stderr",
     "output_type": "stream",
     "text": [
      "\r",
      "Saving vectors of label - 'hajer':  13%|▊     | 26/200 [00:02<00:16, 10.24it/s]"
     ]
    },
    {
     "name": "stdout",
     "output_type": "stream",
     "text": [
      "./data/hajer/hajer122.wav\n",
      "./data/hajer/hajer123.wav\n"
     ]
    },
    {
     "name": "stderr",
     "output_type": "stream",
     "text": [
      "\r",
      "Saving vectors of label - 'hajer':  14%|▊     | 28/200 [00:02<00:16, 10.42it/s]"
     ]
    },
    {
     "name": "stdout",
     "output_type": "stream",
     "text": [
      "./data/hajer/hajer124.wav\n",
      "./data/hajer/hajer125.wav\n"
     ]
    },
    {
     "name": "stderr",
     "output_type": "stream",
     "text": [
      "\r",
      "Saving vectors of label - 'hajer':  15%|▉     | 30/200 [00:02<00:15, 10.68it/s]"
     ]
    },
    {
     "name": "stdout",
     "output_type": "stream",
     "text": [
      "./data/hajer/hajer126.wav\n",
      "./data/hajer/hajer127.wav\n"
     ]
    },
    {
     "name": "stderr",
     "output_type": "stream",
     "text": [
      "\r",
      "Saving vectors of label - 'hajer':  16%|▉     | 32/200 [00:02<00:15, 10.84it/s]"
     ]
    },
    {
     "name": "stdout",
     "output_type": "stream",
     "text": [
      "./data/hajer/hajer128.wav\n",
      "./data/hajer/hajer129.wav\n"
     ]
    },
    {
     "name": "stderr",
     "output_type": "stream",
     "text": [
      "\r",
      "Saving vectors of label - 'hajer':  17%|█     | 34/200 [00:03<00:15, 10.98it/s]"
     ]
    },
    {
     "name": "stdout",
     "output_type": "stream",
     "text": [
      "./data/hajer/hajer13.wav\n",
      "./data/hajer/hajer130.wav\n"
     ]
    },
    {
     "name": "stderr",
     "output_type": "stream",
     "text": [
      "\r",
      "Saving vectors of label - 'hajer':  18%|█     | 36/200 [00:03<00:14, 11.13it/s]"
     ]
    },
    {
     "name": "stdout",
     "output_type": "stream",
     "text": [
      "./data/hajer/hajer131.wav\n",
      "./data/hajer/hajer132.wav\n"
     ]
    },
    {
     "name": "stderr",
     "output_type": "stream",
     "text": [
      "\r",
      "Saving vectors of label - 'hajer':  19%|█▏    | 38/200 [00:03<00:14, 11.17it/s]"
     ]
    },
    {
     "name": "stdout",
     "output_type": "stream",
     "text": [
      "./data/hajer/hajer133.wav\n",
      "./data/hajer/hajer134.wav\n"
     ]
    },
    {
     "name": "stderr",
     "output_type": "stream",
     "text": [
      "\r",
      "Saving vectors of label - 'hajer':  20%|█▏    | 40/200 [00:03<00:14, 11.19it/s]"
     ]
    },
    {
     "name": "stdout",
     "output_type": "stream",
     "text": [
      "./data/hajer/hajer135.wav\n",
      "./data/hajer/hajer136.wav\n"
     ]
    },
    {
     "name": "stderr",
     "output_type": "stream",
     "text": [
      "\r",
      "Saving vectors of label - 'hajer':  21%|█▎    | 42/200 [00:03<00:14, 11.28it/s]"
     ]
    },
    {
     "name": "stdout",
     "output_type": "stream",
     "text": [
      "./data/hajer/hajer137.wav\n",
      "./data/hajer/hajer138.wav\n"
     ]
    },
    {
     "name": "stderr",
     "output_type": "stream",
     "text": [
      "\r",
      "Saving vectors of label - 'hajer':  22%|█▎    | 44/200 [00:03<00:13, 11.39it/s]"
     ]
    },
    {
     "name": "stdout",
     "output_type": "stream",
     "text": [
      "./data/hajer/hajer139.wav\n",
      "./data/hajer/hajer14.wav\n"
     ]
    },
    {
     "name": "stderr",
     "output_type": "stream",
     "text": [
      "\r",
      "Saving vectors of label - 'hajer':  23%|█▍    | 46/200 [00:04<00:13, 11.43it/s]"
     ]
    },
    {
     "name": "stdout",
     "output_type": "stream",
     "text": [
      "./data/hajer/hajer140.wav\n",
      "./data/hajer/hajer141.wav\n"
     ]
    },
    {
     "name": "stderr",
     "output_type": "stream",
     "text": [
      "\r",
      "Saving vectors of label - 'hajer':  24%|█▍    | 48/200 [00:04<00:13, 11.36it/s]"
     ]
    },
    {
     "name": "stdout",
     "output_type": "stream",
     "text": [
      "./data/hajer/hajer142.wav\n",
      "./data/hajer/hajer143.wav\n"
     ]
    },
    {
     "name": "stderr",
     "output_type": "stream",
     "text": [
      "\r",
      "Saving vectors of label - 'hajer':  25%|█▌    | 50/200 [00:04<00:13, 11.35it/s]"
     ]
    },
    {
     "name": "stdout",
     "output_type": "stream",
     "text": [
      "./data/hajer/hajer144.wav\n",
      "./data/hajer/hajer145.wav\n"
     ]
    },
    {
     "name": "stderr",
     "output_type": "stream",
     "text": [
      "\r",
      "Saving vectors of label - 'hajer':  26%|█▌    | 52/200 [00:04<00:13, 11.37it/s]"
     ]
    },
    {
     "name": "stdout",
     "output_type": "stream",
     "text": [
      "./data/hajer/hajer146.wav\n",
      "./data/hajer/hajer147.wav\n"
     ]
    },
    {
     "name": "stderr",
     "output_type": "stream",
     "text": [
      "\r",
      "Saving vectors of label - 'hajer':  27%|█▌    | 54/200 [00:04<00:12, 11.50it/s]"
     ]
    },
    {
     "name": "stdout",
     "output_type": "stream",
     "text": [
      "./data/hajer/hajer148.wav\n",
      "./data/hajer/hajer149.wav\n"
     ]
    },
    {
     "name": "stderr",
     "output_type": "stream",
     "text": [
      "\r",
      "Saving vectors of label - 'hajer':  28%|█▋    | 56/200 [00:04<00:12, 11.54it/s]"
     ]
    },
    {
     "name": "stdout",
     "output_type": "stream",
     "text": [
      "./data/hajer/hajer15.wav\n",
      "./data/hajer/hajer150.wav\n"
     ]
    },
    {
     "name": "stderr",
     "output_type": "stream",
     "text": [
      "\r",
      "Saving vectors of label - 'hajer':  29%|█▋    | 58/200 [00:04<00:12, 11.64it/s]"
     ]
    },
    {
     "name": "stdout",
     "output_type": "stream",
     "text": [
      "./data/hajer/hajer151.wav\n",
      "./data/hajer/hajer152.wav\n"
     ]
    },
    {
     "name": "stderr",
     "output_type": "stream",
     "text": [
      "\r",
      "Saving vectors of label - 'hajer':  30%|█▊    | 60/200 [00:05<00:12, 11.48it/s]"
     ]
    },
    {
     "name": "stdout",
     "output_type": "stream",
     "text": [
      "./data/hajer/hajer153.wav\n",
      "./data/hajer/hajer154.wav\n"
     ]
    },
    {
     "name": "stderr",
     "output_type": "stream",
     "text": [
      "\r",
      "Saving vectors of label - 'hajer':  31%|█▊    | 62/200 [00:05<00:12, 11.39it/s]"
     ]
    },
    {
     "name": "stdout",
     "output_type": "stream",
     "text": [
      "./data/hajer/hajer155.wav\n",
      "./data/hajer/hajer156.wav\n"
     ]
    },
    {
     "name": "stderr",
     "output_type": "stream",
     "text": [
      "\r",
      "Saving vectors of label - 'hajer':  32%|█▉    | 64/200 [00:05<00:11, 11.39it/s]"
     ]
    },
    {
     "name": "stdout",
     "output_type": "stream",
     "text": [
      "./data/hajer/hajer157.wav\n",
      "./data/hajer/hajer158.wav\n"
     ]
    },
    {
     "name": "stderr",
     "output_type": "stream",
     "text": [
      "\r",
      "Saving vectors of label - 'hajer':  33%|█▉    | 66/200 [00:05<00:11, 11.30it/s]"
     ]
    },
    {
     "name": "stdout",
     "output_type": "stream",
     "text": [
      "./data/hajer/hajer159.wav\n",
      "./data/hajer/hajer16.wav\n"
     ]
    },
    {
     "name": "stderr",
     "output_type": "stream",
     "text": [
      "\r",
      "Saving vectors of label - 'hajer':  34%|██    | 68/200 [00:06<00:11, 11.32it/s]"
     ]
    },
    {
     "name": "stdout",
     "output_type": "stream",
     "text": [
      "./data/hajer/hajer160.wav\n",
      "./data/hajer/hajer161.wav\n"
     ]
    },
    {
     "name": "stderr",
     "output_type": "stream",
     "text": [
      "\r",
      "Saving vectors of label - 'hajer':  35%|██    | 70/200 [00:06<00:11, 11.25it/s]"
     ]
    },
    {
     "name": "stdout",
     "output_type": "stream",
     "text": [
      "./data/hajer/hajer162.wav\n",
      "./data/hajer/hajer163.wav\n"
     ]
    },
    {
     "name": "stderr",
     "output_type": "stream",
     "text": [
      "\r",
      "Saving vectors of label - 'hajer':  36%|██▏   | 72/200 [00:06<00:11, 11.09it/s]"
     ]
    },
    {
     "name": "stdout",
     "output_type": "stream",
     "text": [
      "./data/hajer/hajer164.wav\n",
      "./data/hajer/hajer165.wav\n"
     ]
    },
    {
     "name": "stderr",
     "output_type": "stream",
     "text": [
      "\r",
      "Saving vectors of label - 'hajer':  37%|██▏   | 74/200 [00:06<00:11, 11.11it/s]"
     ]
    },
    {
     "name": "stdout",
     "output_type": "stream",
     "text": [
      "./data/hajer/hajer166.wav\n",
      "./data/hajer/hajer167.wav\n"
     ]
    },
    {
     "name": "stderr",
     "output_type": "stream",
     "text": [
      "\r",
      "Saving vectors of label - 'hajer':  38%|██▎   | 76/200 [00:06<00:11, 11.09it/s]"
     ]
    },
    {
     "name": "stdout",
     "output_type": "stream",
     "text": [
      "./data/hajer/hajer168.wav\n",
      "./data/hajer/hajer169.wav\n"
     ]
    },
    {
     "name": "stderr",
     "output_type": "stream",
     "text": [
      "\r",
      "Saving vectors of label - 'hajer':  39%|██▎   | 78/200 [00:07<00:10, 11.12it/s]"
     ]
    },
    {
     "name": "stdout",
     "output_type": "stream",
     "text": [
      "./data/hajer/hajer17.wav\n",
      "./data/hajer/hajer170.wav\n"
     ]
    },
    {
     "name": "stderr",
     "output_type": "stream",
     "text": [
      "\r",
      "Saving vectors of label - 'hajer':  40%|██▍   | 80/200 [00:07<00:10, 11.05it/s]"
     ]
    },
    {
     "name": "stdout",
     "output_type": "stream",
     "text": [
      "./data/hajer/hajer171.wav\n",
      "./data/hajer/hajer172.wav\n"
     ]
    },
    {
     "name": "stderr",
     "output_type": "stream",
     "text": [
      "\r",
      "Saving vectors of label - 'hajer':  41%|██▍   | 82/200 [00:07<00:10, 11.06it/s]"
     ]
    },
    {
     "name": "stdout",
     "output_type": "stream",
     "text": [
      "./data/hajer/hajer173.wav\n",
      "./data/hajer/hajer174.wav\n"
     ]
    },
    {
     "name": "stderr",
     "output_type": "stream",
     "text": [
      "\r",
      "Saving vectors of label - 'hajer':  42%|██▌   | 84/200 [00:07<00:10, 10.99it/s]"
     ]
    },
    {
     "name": "stdout",
     "output_type": "stream",
     "text": [
      "./data/hajer/hajer175.wav\n",
      "./data/hajer/hajer176.wav\n"
     ]
    },
    {
     "name": "stderr",
     "output_type": "stream",
     "text": [
      "\r",
      "Saving vectors of label - 'hajer':  43%|██▌   | 86/200 [00:07<00:10, 10.95it/s]"
     ]
    },
    {
     "name": "stdout",
     "output_type": "stream",
     "text": [
      "./data/hajer/hajer177.wav\n",
      "./data/hajer/hajer178.wav\n"
     ]
    },
    {
     "name": "stderr",
     "output_type": "stream",
     "text": [
      "\r",
      "Saving vectors of label - 'hajer':  44%|██▋   | 88/200 [00:08<00:10, 10.96it/s]"
     ]
    },
    {
     "name": "stdout",
     "output_type": "stream",
     "text": [
      "./data/hajer/hajer179.wav\n",
      "./data/hajer/hajer18.wav\n"
     ]
    },
    {
     "name": "stderr",
     "output_type": "stream",
     "text": [
      "\r",
      "Saving vectors of label - 'hajer':  45%|██▋   | 90/200 [00:08<00:10, 10.96it/s]"
     ]
    },
    {
     "name": "stdout",
     "output_type": "stream",
     "text": [
      "./data/hajer/hajer180.wav\n",
      "./data/hajer/hajer181.wav\n"
     ]
    },
    {
     "name": "stderr",
     "output_type": "stream",
     "text": [
      "\r",
      "Saving vectors of label - 'hajer':  46%|██▊   | 92/200 [00:08<00:09, 10.98it/s]"
     ]
    },
    {
     "name": "stdout",
     "output_type": "stream",
     "text": [
      "./data/hajer/hajer182.wav\n",
      "./data/hajer/hajer183.wav\n"
     ]
    },
    {
     "name": "stderr",
     "output_type": "stream",
     "text": [
      "\r",
      "Saving vectors of label - 'hajer':  47%|██▊   | 94/200 [00:08<00:09, 10.94it/s]"
     ]
    },
    {
     "name": "stdout",
     "output_type": "stream",
     "text": [
      "./data/hajer/hajer184.wav\n",
      "./data/hajer/hajer185.wav\n"
     ]
    },
    {
     "name": "stderr",
     "output_type": "stream",
     "text": [
      "\r",
      "Saving vectors of label - 'hajer':  48%|██▉   | 96/200 [00:08<00:09, 10.96it/s]"
     ]
    },
    {
     "name": "stdout",
     "output_type": "stream",
     "text": [
      "./data/hajer/hajer186.wav\n",
      "./data/hajer/hajer187.wav\n"
     ]
    },
    {
     "name": "stderr",
     "output_type": "stream",
     "text": [
      "\r",
      "Saving vectors of label - 'hajer':  49%|██▉   | 98/200 [00:08<00:09, 10.97it/s]"
     ]
    },
    {
     "name": "stdout",
     "output_type": "stream",
     "text": [
      "./data/hajer/hajer188.wav\n",
      "./data/hajer/hajer189.wav\n"
     ]
    },
    {
     "name": "stderr",
     "output_type": "stream",
     "text": [
      "\r",
      "Saving vectors of label - 'hajer':  50%|██▌  | 100/200 [00:09<00:09, 10.93it/s]"
     ]
    },
    {
     "name": "stdout",
     "output_type": "stream",
     "text": [
      "./data/hajer/hajer19.wav\n",
      "./data/hajer/hajer190.wav\n"
     ]
    },
    {
     "name": "stderr",
     "output_type": "stream",
     "text": [
      "\r",
      "Saving vectors of label - 'hajer':  51%|██▌  | 102/200 [00:09<00:08, 10.94it/s]"
     ]
    },
    {
     "name": "stdout",
     "output_type": "stream",
     "text": [
      "./data/hajer/hajer191.wav\n",
      "./data/hajer/hajer192.wav\n"
     ]
    },
    {
     "name": "stderr",
     "output_type": "stream",
     "text": [
      "\r",
      "Saving vectors of label - 'hajer':  52%|██▌  | 104/200 [00:09<00:08, 10.92it/s]"
     ]
    },
    {
     "name": "stdout",
     "output_type": "stream",
     "text": [
      "./data/hajer/hajer193.wav\n",
      "./data/hajer/hajer194.wav\n"
     ]
    },
    {
     "name": "stderr",
     "output_type": "stream",
     "text": [
      "\r",
      "Saving vectors of label - 'hajer':  53%|██▋  | 106/200 [00:09<00:08, 10.92it/s]"
     ]
    },
    {
     "name": "stdout",
     "output_type": "stream",
     "text": [
      "./data/hajer/hajer195.wav\n",
      "./data/hajer/hajer196.wav\n"
     ]
    },
    {
     "name": "stderr",
     "output_type": "stream",
     "text": [
      "\r",
      "Saving vectors of label - 'hajer':  54%|██▋  | 108/200 [00:09<00:08, 10.90it/s]"
     ]
    },
    {
     "name": "stdout",
     "output_type": "stream",
     "text": [
      "./data/hajer/hajer197.wav\n",
      "./data/hajer/hajer198.wav\n"
     ]
    },
    {
     "name": "stderr",
     "output_type": "stream",
     "text": [
      "\r",
      "Saving vectors of label - 'hajer':  55%|██▊  | 110/200 [00:10<00:08, 10.83it/s]"
     ]
    },
    {
     "name": "stdout",
     "output_type": "stream",
     "text": [
      "./data/hajer/hajer199.wav\n"
     ]
    },
    {
     "name": "stderr",
     "output_type": "stream",
     "text": [
      "\r",
      "Saving vectors of label - 'hajer':  56%|██▊  | 111/200 [00:10<00:08, 10.81it/s]"
     ]
    },
    {
     "name": "stdout",
     "output_type": "stream",
     "text": [
      "./data/hajer/hajer2.wav\n"
     ]
    },
    {
     "name": "stderr",
     "output_type": "stream",
     "text": [
      "\r",
      "Saving vectors of label - 'hajer':  56%|██▊  | 112/200 [00:10<00:08, 10.70it/s]"
     ]
    },
    {
     "name": "stdout",
     "output_type": "stream",
     "text": [
      "./data/hajer/hajer20.wav\n",
      "./data/hajer/hajer200.wav\n"
     ]
    },
    {
     "name": "stderr",
     "output_type": "stream",
     "text": [
      "\r",
      "Saving vectors of label - 'hajer':  57%|██▊  | 114/200 [00:10<00:08, 10.70it/s]"
     ]
    },
    {
     "name": "stdout",
     "output_type": "stream",
     "text": [
      "./data/hajer/hajer21.wav\n",
      "./data/hajer/hajer22.wav\n"
     ]
    },
    {
     "name": "stderr",
     "output_type": "stream",
     "text": [
      "\r",
      "Saving vectors of label - 'hajer':  58%|██▉  | 116/200 [00:10<00:07, 10.73it/s]"
     ]
    },
    {
     "name": "stdout",
     "output_type": "stream",
     "text": [
      "./data/hajer/hajer23.wav\n"
     ]
    },
    {
     "name": "stderr",
     "output_type": "stream",
     "text": [
      "\r",
      "Saving vectors of label - 'hajer':  58%|██▉  | 117/200 [00:10<00:07, 10.72it/s]"
     ]
    },
    {
     "name": "stdout",
     "output_type": "stream",
     "text": [
      "./data/hajer/hajer24.wav\n",
      "./data/hajer/hajer25.wav\n"
     ]
    },
    {
     "name": "stderr",
     "output_type": "stream",
     "text": [
      "\r",
      "Saving vectors of label - 'hajer':  60%|██▉  | 119/200 [00:11<00:07, 10.76it/s]"
     ]
    },
    {
     "name": "stdout",
     "output_type": "stream",
     "text": [
      "./data/hajer/hajer26.wav\n",
      "./data/hajer/hajer27.wav\n"
     ]
    },
    {
     "name": "stderr",
     "output_type": "stream",
     "text": [
      "\r",
      "Saving vectors of label - 'hajer':  60%|███  | 121/200 [00:11<00:07, 10.81it/s]"
     ]
    },
    {
     "name": "stdout",
     "output_type": "stream",
     "text": [
      "./data/hajer/hajer28.wav\n",
      "./data/hajer/hajer29.wav\n"
     ]
    },
    {
     "name": "stderr",
     "output_type": "stream",
     "text": [
      "\r",
      "Saving vectors of label - 'hajer':  62%|███  | 123/200 [00:11<00:07, 10.84it/s]"
     ]
    },
    {
     "name": "stdout",
     "output_type": "stream",
     "text": [
      "./data/hajer/hajer3.wav\n",
      "./data/hajer/hajer30.wav\n"
     ]
    },
    {
     "name": "stderr",
     "output_type": "stream",
     "text": [
      "\r",
      "Saving vectors of label - 'hajer':  62%|███▏ | 125/200 [00:11<00:07, 10.69it/s]"
     ]
    },
    {
     "name": "stdout",
     "output_type": "stream",
     "text": [
      "./data/hajer/hajer31.wav\n",
      "./data/hajer/hajer32.wav\n"
     ]
    },
    {
     "name": "stderr",
     "output_type": "stream",
     "text": [
      "\r",
      "Saving vectors of label - 'hajer':  64%|███▏ | 127/200 [00:11<00:06, 10.72it/s]"
     ]
    },
    {
     "name": "stdout",
     "output_type": "stream",
     "text": [
      "./data/hajer/hajer33.wav\n",
      "./data/hajer/hajer34.wav\n"
     ]
    },
    {
     "name": "stderr",
     "output_type": "stream",
     "text": [
      "\r",
      "Saving vectors of label - 'hajer':  64%|███▏ | 129/200 [00:12<00:06, 10.73it/s]"
     ]
    },
    {
     "name": "stdout",
     "output_type": "stream",
     "text": [
      "./data/hajer/hajer35.wav\n",
      "./data/hajer/hajer36.wav\n"
     ]
    },
    {
     "name": "stderr",
     "output_type": "stream",
     "text": [
      "\r",
      "Saving vectors of label - 'hajer':  66%|███▎ | 131/200 [00:12<00:06, 10.78it/s]"
     ]
    },
    {
     "name": "stdout",
     "output_type": "stream",
     "text": [
      "./data/hajer/hajer37.wav\n",
      "./data/hajer/hajer38.wav\n"
     ]
    },
    {
     "name": "stderr",
     "output_type": "stream",
     "text": [
      "\r",
      "Saving vectors of label - 'hajer':  66%|███▎ | 133/200 [00:12<00:06, 10.79it/s]"
     ]
    },
    {
     "name": "stdout",
     "output_type": "stream",
     "text": [
      "./data/hajer/hajer39.wav\n",
      "./data/hajer/hajer4.wav\n"
     ]
    },
    {
     "name": "stderr",
     "output_type": "stream",
     "text": [
      "\r",
      "Saving vectors of label - 'hajer':  68%|███▍ | 135/200 [00:12<00:06, 10.80it/s]"
     ]
    },
    {
     "name": "stdout",
     "output_type": "stream",
     "text": [
      "./data/hajer/hajer40.wav\n",
      "./data/hajer/hajer41.wav\n"
     ]
    },
    {
     "name": "stderr",
     "output_type": "stream",
     "text": [
      "\r",
      "Saving vectors of label - 'hajer':  68%|███▍ | 137/200 [00:12<00:05, 10.82it/s]"
     ]
    },
    {
     "name": "stdout",
     "output_type": "stream",
     "text": [
      "./data/hajer/hajer42.wav\n",
      "./data/hajer/hajer43.wav\n"
     ]
    },
    {
     "name": "stderr",
     "output_type": "stream",
     "text": [
      "\r",
      "Saving vectors of label - 'hajer':  70%|███▍ | 139/200 [00:12<00:05, 10.87it/s]"
     ]
    },
    {
     "name": "stdout",
     "output_type": "stream",
     "text": [
      "./data/hajer/hajer44.wav\n",
      "./data/hajer/hajer45.wav\n"
     ]
    },
    {
     "name": "stderr",
     "output_type": "stream",
     "text": [
      "\r",
      "Saving vectors of label - 'hajer':  70%|███▌ | 141/200 [00:12<00:05, 10.91it/s]"
     ]
    },
    {
     "name": "stdout",
     "output_type": "stream",
     "text": [
      "./data/hajer/hajer46.wav\n",
      "./data/hajer/hajer47.wav\n"
     ]
    },
    {
     "name": "stderr",
     "output_type": "stream",
     "text": [
      "\r",
      "Saving vectors of label - 'hajer':  72%|███▌ | 143/200 [00:13<00:05, 10.92it/s]"
     ]
    },
    {
     "name": "stdout",
     "output_type": "stream",
     "text": [
      "./data/hajer/hajer48.wav\n",
      "./data/hajer/hajer49.wav\n"
     ]
    },
    {
     "name": "stderr",
     "output_type": "stream",
     "text": [
      "\r",
      "Saving vectors of label - 'hajer':  72%|███▋ | 145/200 [00:13<00:05, 10.95it/s]"
     ]
    },
    {
     "name": "stdout",
     "output_type": "stream",
     "text": [
      "./data/hajer/hajer5.wav\n",
      "./data/hajer/hajer50.wav\n"
     ]
    },
    {
     "name": "stderr",
     "output_type": "stream",
     "text": [
      "\r",
      "Saving vectors of label - 'hajer':  74%|███▋ | 147/200 [00:13<00:04, 10.95it/s]"
     ]
    },
    {
     "name": "stdout",
     "output_type": "stream",
     "text": [
      "./data/hajer/hajer51.wav\n",
      "./data/hajer/hajer52.wav\n"
     ]
    },
    {
     "name": "stderr",
     "output_type": "stream",
     "text": [
      "\r",
      "Saving vectors of label - 'hajer':  74%|███▋ | 149/200 [00:13<00:04, 10.91it/s]"
     ]
    },
    {
     "name": "stdout",
     "output_type": "stream",
     "text": [
      "./data/hajer/hajer53.wav\n",
      "./data/hajer/hajer54.wav\n"
     ]
    },
    {
     "name": "stderr",
     "output_type": "stream",
     "text": [
      "\r",
      "Saving vectors of label - 'hajer':  76%|███▊ | 151/200 [00:13<00:04, 10.92it/s]"
     ]
    },
    {
     "name": "stdout",
     "output_type": "stream",
     "text": [
      "./data/hajer/hajer55.wav\n",
      "./data/hajer/hajer56.wav\n"
     ]
    },
    {
     "name": "stderr",
     "output_type": "stream",
     "text": [
      "\r",
      "Saving vectors of label - 'hajer':  76%|███▊ | 153/200 [00:13<00:04, 10.96it/s]"
     ]
    },
    {
     "name": "stdout",
     "output_type": "stream",
     "text": [
      "./data/hajer/hajer57.wav\n",
      "./data/hajer/hajer58.wav\n"
     ]
    },
    {
     "name": "stderr",
     "output_type": "stream",
     "text": [
      "\r",
      "Saving vectors of label - 'hajer':  78%|███▉ | 155/200 [00:14<00:04, 10.99it/s]"
     ]
    },
    {
     "name": "stdout",
     "output_type": "stream",
     "text": [
      "./data/hajer/hajer59.wav\n",
      "./data/hajer/hajer6.wav\n"
     ]
    },
    {
     "name": "stderr",
     "output_type": "stream",
     "text": [
      "\r",
      "Saving vectors of label - 'hajer':  78%|███▉ | 157/200 [00:14<00:03, 11.03it/s]"
     ]
    },
    {
     "name": "stdout",
     "output_type": "stream",
     "text": [
      "./data/hajer/hajer60.wav\n",
      "./data/hajer/hajer61.wav\n"
     ]
    },
    {
     "name": "stderr",
     "output_type": "stream",
     "text": [
      "\r",
      "Saving vectors of label - 'hajer':  80%|███▉ | 159/200 [00:14<00:03, 11.05it/s]"
     ]
    },
    {
     "name": "stdout",
     "output_type": "stream",
     "text": [
      "./data/hajer/hajer62.wav\n",
      "./data/hajer/hajer63.wav\n"
     ]
    },
    {
     "name": "stderr",
     "output_type": "stream",
     "text": [
      "\r",
      "Saving vectors of label - 'hajer':  80%|████ | 161/200 [00:14<00:03, 11.05it/s]"
     ]
    },
    {
     "name": "stdout",
     "output_type": "stream",
     "text": [
      "./data/hajer/hajer64.wav\n",
      "./data/hajer/hajer65.wav\n"
     ]
    },
    {
     "name": "stderr",
     "output_type": "stream",
     "text": [
      "\r",
      "Saving vectors of label - 'hajer':  82%|████ | 163/200 [00:14<00:03, 11.04it/s]"
     ]
    },
    {
     "name": "stdout",
     "output_type": "stream",
     "text": [
      "./data/hajer/hajer66.wav\n",
      "./data/hajer/hajer67.wav\n"
     ]
    },
    {
     "name": "stderr",
     "output_type": "stream",
     "text": [
      "\r",
      "Saving vectors of label - 'hajer':  82%|████▏| 165/200 [00:14<00:03, 11.07it/s]"
     ]
    },
    {
     "name": "stdout",
     "output_type": "stream",
     "text": [
      "./data/hajer/hajer68.wav\n",
      "./data/hajer/hajer69.wav\n"
     ]
    },
    {
     "name": "stderr",
     "output_type": "stream",
     "text": [
      "\r",
      "Saving vectors of label - 'hajer':  84%|████▏| 167/200 [00:15<00:02, 11.06it/s]"
     ]
    },
    {
     "name": "stdout",
     "output_type": "stream",
     "text": [
      "./data/hajer/hajer7.wav\n",
      "./data/hajer/hajer70.wav\n"
     ]
    },
    {
     "name": "stderr",
     "output_type": "stream",
     "text": [
      "\r",
      "Saving vectors of label - 'hajer':  84%|████▏| 169/200 [00:15<00:02, 11.09it/s]"
     ]
    },
    {
     "name": "stdout",
     "output_type": "stream",
     "text": [
      "./data/hajer/hajer71.wav\n",
      "./data/hajer/hajer72.wav\n"
     ]
    },
    {
     "name": "stderr",
     "output_type": "stream",
     "text": [
      "\r",
      "Saving vectors of label - 'hajer':  86%|████▎| 171/200 [00:15<00:02, 11.06it/s]"
     ]
    },
    {
     "name": "stdout",
     "output_type": "stream",
     "text": [
      "./data/hajer/hajer73.wav\n",
      "./data/hajer/hajer74.wav\n"
     ]
    },
    {
     "name": "stderr",
     "output_type": "stream",
     "text": [
      "\r",
      "Saving vectors of label - 'hajer':  86%|████▎| 173/200 [00:15<00:02, 11.04it/s]"
     ]
    },
    {
     "name": "stdout",
     "output_type": "stream",
     "text": [
      "./data/hajer/hajer75.wav\n",
      "./data/hajer/hajer76.wav\n"
     ]
    },
    {
     "name": "stderr",
     "output_type": "stream",
     "text": [
      "\r",
      "Saving vectors of label - 'hajer':  88%|████▍| 175/200 [00:15<00:02, 11.02it/s]"
     ]
    },
    {
     "name": "stdout",
     "output_type": "stream",
     "text": [
      "./data/hajer/hajer77.wav\n",
      "./data/hajer/hajer78.wav\n"
     ]
    },
    {
     "name": "stderr",
     "output_type": "stream",
     "text": [
      "\r",
      "Saving vectors of label - 'hajer':  88%|████▍| 177/200 [00:16<00:02, 10.85it/s]"
     ]
    },
    {
     "name": "stdout",
     "output_type": "stream",
     "text": [
      "./data/hajer/hajer79.wav\n",
      "./data/hajer/hajer8.wav\n"
     ]
    },
    {
     "name": "stderr",
     "output_type": "stream",
     "text": [
      "\r",
      "Saving vectors of label - 'hajer':  90%|████▍| 179/200 [00:16<00:01, 10.85it/s]"
     ]
    },
    {
     "name": "stdout",
     "output_type": "stream",
     "text": [
      "./data/hajer/hajer80.wav\n"
     ]
    },
    {
     "name": "stderr",
     "output_type": "stream",
     "text": [
      "\r",
      "Saving vectors of label - 'hajer':  90%|████▌| 180/200 [00:16<00:01, 10.84it/s]"
     ]
    },
    {
     "name": "stdout",
     "output_type": "stream",
     "text": [
      "./data/hajer/hajer81.wav\n",
      "./data/hajer/hajer82.wav\n"
     ]
    },
    {
     "name": "stderr",
     "output_type": "stream",
     "text": [
      "\r",
      "Saving vectors of label - 'hajer':  91%|████▌| 182/200 [00:16<00:01, 10.83it/s]"
     ]
    },
    {
     "name": "stdout",
     "output_type": "stream",
     "text": [
      "./data/hajer/hajer83.wav\n"
     ]
    },
    {
     "name": "stderr",
     "output_type": "stream",
     "text": [
      "\r",
      "Saving vectors of label - 'hajer':  92%|████▌| 183/200 [00:16<00:01, 10.82it/s]"
     ]
    },
    {
     "name": "stdout",
     "output_type": "stream",
     "text": [
      "./data/hajer/hajer84.wav\n",
      "./data/hajer/hajer85.wav\n"
     ]
    },
    {
     "name": "stderr",
     "output_type": "stream",
     "text": [
      "\r",
      "Saving vectors of label - 'hajer':  92%|████▋| 185/200 [00:17<00:01, 10.86it/s]"
     ]
    },
    {
     "name": "stdout",
     "output_type": "stream",
     "text": [
      "./data/hajer/hajer86.wav\n",
      "./data/hajer/hajer87.wav\n"
     ]
    },
    {
     "name": "stderr",
     "output_type": "stream",
     "text": [
      "\r",
      "Saving vectors of label - 'hajer':  94%|████▋| 187/200 [00:17<00:01, 10.83it/s]"
     ]
    },
    {
     "name": "stdout",
     "output_type": "stream",
     "text": [
      "./data/hajer/hajer88.wav\n",
      "./data/hajer/hajer89.wav\n"
     ]
    },
    {
     "name": "stderr",
     "output_type": "stream",
     "text": [
      "\r",
      "Saving vectors of label - 'hajer':  94%|████▋| 189/200 [00:17<00:01, 10.84it/s]"
     ]
    },
    {
     "name": "stdout",
     "output_type": "stream",
     "text": [
      "./data/hajer/hajer9.wav\n",
      "./data/hajer/hajer90.wav\n"
     ]
    },
    {
     "name": "stderr",
     "output_type": "stream",
     "text": [
      "\r",
      "Saving vectors of label - 'hajer':  96%|████▊| 191/200 [00:17<00:00, 10.86it/s]"
     ]
    },
    {
     "name": "stdout",
     "output_type": "stream",
     "text": [
      "./data/hajer/hajer91.wav\n",
      "./data/hajer/hajer92.wav\n"
     ]
    },
    {
     "name": "stderr",
     "output_type": "stream",
     "text": [
      "\r",
      "Saving vectors of label - 'hajer':  96%|████▊| 193/200 [00:17<00:00, 10.77it/s]"
     ]
    },
    {
     "name": "stdout",
     "output_type": "stream",
     "text": [
      "./data/hajer/hajer93.wav\n"
     ]
    },
    {
     "name": "stderr",
     "output_type": "stream",
     "text": [
      "\r",
      "Saving vectors of label - 'hajer':  97%|████▊| 194/200 [00:18<00:00, 10.75it/s]"
     ]
    },
    {
     "name": "stdout",
     "output_type": "stream",
     "text": [
      "./data/hajer/hajer94.wav\n",
      "./data/hajer/hajer95.wav\n"
     ]
    },
    {
     "name": "stderr",
     "output_type": "stream",
     "text": [
      "\r",
      "Saving vectors of label - 'hajer':  98%|████▉| 196/200 [00:18<00:00, 10.76it/s]"
     ]
    },
    {
     "name": "stdout",
     "output_type": "stream",
     "text": [
      "./data/hajer/hajer96.wav\n",
      "./data/hajer/hajer97.wav\n"
     ]
    },
    {
     "name": "stderr",
     "output_type": "stream",
     "text": [
      "\r",
      "Saving vectors of label - 'hajer':  99%|████▉| 198/200 [00:18<00:00, 10.79it/s]"
     ]
    },
    {
     "name": "stdout",
     "output_type": "stream",
     "text": [
      "./data/hajer/hajer98.wav\n",
      "./data/hajer/hajer99.wav\n"
     ]
    },
    {
     "name": "stderr",
     "output_type": "stream",
     "text": [
      "Saving vectors of label - 'hajer': 100%|█████| 200/200 [00:18<00:00, 10.81it/s]\n",
      "Saving vectors of label - 'macron':   0%|              | 0/100 [00:00<?, ?it/s]"
     ]
    },
    {
     "name": "stdout",
     "output_type": "stream",
     "text": [
      "./data/macron/macron1.wav\n"
     ]
    },
    {
     "name": "stderr",
     "output_type": "stream",
     "text": [
      "\r",
      "Saving vectors of label - 'macron':   1%|      | 1/100 [00:00<00:13,  7.46it/s]"
     ]
    },
    {
     "name": "stdout",
     "output_type": "stream",
     "text": [
      "./data/macron/macron10.wav\n"
     ]
    },
    {
     "name": "stderr",
     "output_type": "stream",
     "text": [
      "\r",
      "Saving vectors of label - 'macron':   2%|      | 2/100 [00:00<00:11,  8.40it/s]"
     ]
    },
    {
     "name": "stdout",
     "output_type": "stream",
     "text": [
      "./data/macron/macron100.wav\n"
     ]
    },
    {
     "name": "stderr",
     "output_type": "stream",
     "text": [
      "\r",
      "Saving vectors of label - 'macron':   3%|▏     | 3/100 [00:00<00:11,  8.82it/s]"
     ]
    },
    {
     "name": "stdout",
     "output_type": "stream",
     "text": [
      "./data/macron/macron11.wav\n"
     ]
    },
    {
     "name": "stderr",
     "output_type": "stream",
     "text": [
      "\r",
      "Saving vectors of label - 'macron':   4%|▏     | 4/100 [00:00<00:10,  8.80it/s]"
     ]
    },
    {
     "name": "stdout",
     "output_type": "stream",
     "text": [
      "./data/macron/macron12.wav\n"
     ]
    },
    {
     "name": "stderr",
     "output_type": "stream",
     "text": [
      "\r",
      "Saving vectors of label - 'macron':   5%|▎     | 5/100 [00:00<00:11,  8.19it/s]"
     ]
    },
    {
     "name": "stdout",
     "output_type": "stream",
     "text": [
      "./data/macron/macron13.wav\n"
     ]
    },
    {
     "name": "stderr",
     "output_type": "stream",
     "text": [
      "\r",
      "Saving vectors of label - 'macron':   6%|▎     | 6/100 [00:00<00:11,  8.10it/s]"
     ]
    },
    {
     "name": "stdout",
     "output_type": "stream",
     "text": [
      "./data/macron/macron14.wav\n"
     ]
    },
    {
     "name": "stderr",
     "output_type": "stream",
     "text": [
      "\r",
      "Saving vectors of label - 'macron':   7%|▍     | 7/100 [00:00<00:11,  8.18it/s]"
     ]
    },
    {
     "name": "stdout",
     "output_type": "stream",
     "text": [
      "./data/macron/macron15.wav\n",
      "./data/macron/macron16.wav\n"
     ]
    },
    {
     "name": "stderr",
     "output_type": "stream",
     "text": [
      "\r",
      "Saving vectors of label - 'macron':   9%|▌     | 9/100 [00:01<00:10,  8.57it/s]"
     ]
    },
    {
     "name": "stdout",
     "output_type": "stream",
     "text": [
      "./data/macron/macron17.wav\n"
     ]
    },
    {
     "name": "stderr",
     "output_type": "stream",
     "text": [
      "\r",
      "Saving vectors of label - 'macron':  10%|▌    | 10/100 [00:01<00:10,  8.22it/s]"
     ]
    },
    {
     "name": "stdout",
     "output_type": "stream",
     "text": [
      "./data/macron/macron18.wav\n"
     ]
    },
    {
     "name": "stderr",
     "output_type": "stream",
     "text": [
      "\r",
      "Saving vectors of label - 'macron':  11%|▌    | 11/100 [00:01<00:10,  8.23it/s]"
     ]
    },
    {
     "name": "stdout",
     "output_type": "stream",
     "text": [
      "./data/macron/macron19.wav\n"
     ]
    },
    {
     "name": "stderr",
     "output_type": "stream",
     "text": [
      "\r",
      "Saving vectors of label - 'macron':  12%|▌    | 12/100 [00:01<00:10,  8.35it/s]"
     ]
    },
    {
     "name": "stdout",
     "output_type": "stream",
     "text": [
      "./data/macron/macron2.wav\n",
      "./data/macron/macron20.wav\n"
     ]
    },
    {
     "name": "stderr",
     "output_type": "stream",
     "text": [
      "\r",
      "Saving vectors of label - 'macron':  14%|▋    | 14/100 [00:01<00:10,  8.39it/s]"
     ]
    },
    {
     "name": "stdout",
     "output_type": "stream",
     "text": [
      "./data/macron/macron21.wav\n"
     ]
    },
    {
     "name": "stderr",
     "output_type": "stream",
     "text": [
      "\r",
      "Saving vectors of label - 'macron':  15%|▊    | 15/100 [00:01<00:10,  8.45it/s]"
     ]
    },
    {
     "name": "stdout",
     "output_type": "stream",
     "text": [
      "./data/macron/macron22.wav\n"
     ]
    },
    {
     "name": "stderr",
     "output_type": "stream",
     "text": [
      "\r",
      "Saving vectors of label - 'macron':  16%|▊    | 16/100 [00:01<00:10,  8.03it/s]"
     ]
    },
    {
     "name": "stdout",
     "output_type": "stream",
     "text": [
      "./data/macron/macron23.wav\n"
     ]
    },
    {
     "name": "stderr",
     "output_type": "stream",
     "text": [
      "\r",
      "Saving vectors of label - 'macron':  17%|▊    | 17/100 [00:02<00:10,  8.06it/s]"
     ]
    },
    {
     "name": "stdout",
     "output_type": "stream",
     "text": [
      "./data/macron/macron24.wav\n"
     ]
    },
    {
     "name": "stderr",
     "output_type": "stream",
     "text": [
      "\r",
      "Saving vectors of label - 'macron':  18%|▉    | 18/100 [00:02<00:10,  8.14it/s]"
     ]
    },
    {
     "name": "stdout",
     "output_type": "stream",
     "text": [
      "./data/macron/macron25.wav\n"
     ]
    },
    {
     "name": "stderr",
     "output_type": "stream",
     "text": [
      "\r",
      "Saving vectors of label - 'macron':  19%|▉    | 19/100 [00:02<00:09,  8.13it/s]"
     ]
    },
    {
     "name": "stdout",
     "output_type": "stream",
     "text": [
      "./data/macron/macron26.wav\n"
     ]
    },
    {
     "name": "stderr",
     "output_type": "stream",
     "text": [
      "\r",
      "Saving vectors of label - 'macron':  20%|█    | 20/100 [00:02<00:09,  8.13it/s]"
     ]
    },
    {
     "name": "stdout",
     "output_type": "stream",
     "text": [
      "./data/macron/macron27.wav\n"
     ]
    },
    {
     "name": "stderr",
     "output_type": "stream",
     "text": [
      "\r",
      "Saving vectors of label - 'macron':  21%|█    | 21/100 [00:02<00:09,  8.11it/s]"
     ]
    },
    {
     "name": "stdout",
     "output_type": "stream",
     "text": [
      "./data/macron/macron28.wav\n",
      "./data/macron/macron29.wav\n"
     ]
    },
    {
     "name": "stderr",
     "output_type": "stream",
     "text": [
      "\r",
      "Saving vectors of label - 'macron':  23%|█▏   | 23/100 [00:02<00:09,  8.26it/s]"
     ]
    },
    {
     "name": "stdout",
     "output_type": "stream",
     "text": [
      "./data/macron/macron3.wav\n"
     ]
    },
    {
     "name": "stderr",
     "output_type": "stream",
     "text": [
      "\r",
      "Saving vectors of label - 'macron':  24%|█▏   | 24/100 [00:02<00:09,  8.31it/s]"
     ]
    },
    {
     "name": "stdout",
     "output_type": "stream",
     "text": [
      "./data/macron/macron30.wav\n"
     ]
    },
    {
     "name": "stderr",
     "output_type": "stream",
     "text": [
      "\r",
      "Saving vectors of label - 'macron':  25%|█▎   | 25/100 [00:03<00:09,  8.30it/s]"
     ]
    },
    {
     "name": "stdout",
     "output_type": "stream",
     "text": [
      "./data/macron/macron31.wav\n",
      "./data/macron/macron32.wav\n"
     ]
    },
    {
     "name": "stderr",
     "output_type": "stream",
     "text": [
      "\r",
      "Saving vectors of label - 'macron':  27%|█▎   | 27/100 [00:03<00:08,  8.19it/s]"
     ]
    },
    {
     "name": "stdout",
     "output_type": "stream",
     "text": [
      "./data/macron/macron33.wav\n"
     ]
    },
    {
     "name": "stderr",
     "output_type": "stream",
     "text": [
      "\r",
      "Saving vectors of label - 'macron':  28%|█▍   | 28/100 [00:03<00:08,  8.16it/s]"
     ]
    },
    {
     "name": "stdout",
     "output_type": "stream",
     "text": [
      "./data/macron/macron34.wav\n"
     ]
    },
    {
     "name": "stderr",
     "output_type": "stream",
     "text": [
      "\r",
      "Saving vectors of label - 'macron':  29%|█▍   | 29/100 [00:03<00:08,  8.08it/s]"
     ]
    },
    {
     "name": "stdout",
     "output_type": "stream",
     "text": [
      "./data/macron/macron35.wav\n"
     ]
    },
    {
     "name": "stderr",
     "output_type": "stream",
     "text": [
      "\r",
      "Saving vectors of label - 'macron':  30%|█▌   | 30/100 [00:03<00:08,  8.08it/s]"
     ]
    },
    {
     "name": "stdout",
     "output_type": "stream",
     "text": [
      "./data/macron/macron36.wav\n"
     ]
    },
    {
     "name": "stderr",
     "output_type": "stream",
     "text": [
      "\r",
      "Saving vectors of label - 'macron':  31%|█▌   | 31/100 [00:03<00:08,  8.09it/s]"
     ]
    },
    {
     "name": "stdout",
     "output_type": "stream",
     "text": [
      "./data/macron/macron37.wav\n"
     ]
    },
    {
     "name": "stderr",
     "output_type": "stream",
     "text": [
      "\r",
      "Saving vectors of label - 'macron':  32%|█▌   | 32/100 [00:03<00:08,  8.09it/s]"
     ]
    },
    {
     "name": "stdout",
     "output_type": "stream",
     "text": [
      "./data/macron/macron38.wav\n"
     ]
    },
    {
     "name": "stderr",
     "output_type": "stream",
     "text": [
      "\r",
      "Saving vectors of label - 'macron':  33%|█▋   | 33/100 [00:04<00:08,  8.10it/s]"
     ]
    },
    {
     "name": "stdout",
     "output_type": "stream",
     "text": [
      "./data/macron/macron39.wav\n"
     ]
    },
    {
     "name": "stderr",
     "output_type": "stream",
     "text": [
      "\r",
      "Saving vectors of label - 'macron':  34%|█▋   | 34/100 [00:04<00:08,  8.08it/s]"
     ]
    },
    {
     "name": "stdout",
     "output_type": "stream",
     "text": [
      "./data/macron/macron4.wav\n"
     ]
    },
    {
     "name": "stderr",
     "output_type": "stream",
     "text": [
      "\r",
      "Saving vectors of label - 'macron':  35%|█▊   | 35/100 [00:04<00:08,  8.03it/s]"
     ]
    },
    {
     "name": "stdout",
     "output_type": "stream",
     "text": [
      "./data/macron/macron40.wav\n"
     ]
    },
    {
     "name": "stderr",
     "output_type": "stream",
     "text": [
      "\r",
      "Saving vectors of label - 'macron':  36%|█▊   | 36/100 [00:04<00:07,  8.03it/s]"
     ]
    },
    {
     "name": "stdout",
     "output_type": "stream",
     "text": [
      "./data/macron/macron41.wav\n"
     ]
    },
    {
     "name": "stderr",
     "output_type": "stream",
     "text": [
      "\r",
      "Saving vectors of label - 'macron':  37%|█▊   | 37/100 [00:04<00:07,  7.97it/s]"
     ]
    },
    {
     "name": "stdout",
     "output_type": "stream",
     "text": [
      "./data/macron/macron42.wav\n"
     ]
    },
    {
     "name": "stderr",
     "output_type": "stream",
     "text": [
      "\r",
      "Saving vectors of label - 'macron':  38%|█▉   | 38/100 [00:04<00:07,  7.95it/s]"
     ]
    },
    {
     "name": "stdout",
     "output_type": "stream",
     "text": [
      "./data/macron/macron43.wav\n"
     ]
    },
    {
     "name": "stderr",
     "output_type": "stream",
     "text": [
      "\r",
      "Saving vectors of label - 'macron':  39%|█▉   | 39/100 [00:04<00:07,  7.97it/s]"
     ]
    },
    {
     "name": "stdout",
     "output_type": "stream",
     "text": [
      "./data/macron/macron44.wav\n"
     ]
    },
    {
     "name": "stderr",
     "output_type": "stream",
     "text": [
      "\r",
      "Saving vectors of label - 'macron':  40%|██   | 40/100 [00:05<00:07,  7.97it/s]"
     ]
    },
    {
     "name": "stdout",
     "output_type": "stream",
     "text": [
      "./data/macron/macron45.wav\n"
     ]
    },
    {
     "name": "stderr",
     "output_type": "stream",
     "text": [
      "\r",
      "Saving vectors of label - 'macron':  41%|██   | 41/100 [00:05<00:07,  7.99it/s]"
     ]
    },
    {
     "name": "stdout",
     "output_type": "stream",
     "text": [
      "./data/macron/macron46.wav\n"
     ]
    },
    {
     "name": "stderr",
     "output_type": "stream",
     "text": [
      "\r",
      "Saving vectors of label - 'macron':  42%|██   | 42/100 [00:05<00:07,  7.96it/s]"
     ]
    },
    {
     "name": "stdout",
     "output_type": "stream",
     "text": [
      "./data/macron/macron47.wav\n"
     ]
    },
    {
     "name": "stderr",
     "output_type": "stream",
     "text": [
      "\r",
      "Saving vectors of label - 'macron':  43%|██▏  | 43/100 [00:05<00:07,  7.90it/s]"
     ]
    },
    {
     "name": "stdout",
     "output_type": "stream",
     "text": [
      "./data/macron/macron48.wav\n"
     ]
    },
    {
     "name": "stderr",
     "output_type": "stream",
     "text": [
      "\r",
      "Saving vectors of label - 'macron':  44%|██▏  | 44/100 [00:05<00:07,  7.89it/s]"
     ]
    },
    {
     "name": "stdout",
     "output_type": "stream",
     "text": [
      "./data/macron/macron49.wav\n"
     ]
    },
    {
     "name": "stderr",
     "output_type": "stream",
     "text": [
      "\r",
      "Saving vectors of label - 'macron':  45%|██▎  | 45/100 [00:05<00:06,  7.87it/s]"
     ]
    },
    {
     "name": "stdout",
     "output_type": "stream",
     "text": [
      "./data/macron/macron5.wav\n"
     ]
    },
    {
     "name": "stderr",
     "output_type": "stream",
     "text": [
      "\r",
      "Saving vectors of label - 'macron':  46%|██▎  | 46/100 [00:05<00:06,  7.87it/s]"
     ]
    },
    {
     "name": "stdout",
     "output_type": "stream",
     "text": [
      "./data/macron/macron50.wav\n"
     ]
    },
    {
     "name": "stderr",
     "output_type": "stream",
     "text": [
      "\r",
      "Saving vectors of label - 'macron':  47%|██▎  | 47/100 [00:05<00:06,  7.84it/s]"
     ]
    },
    {
     "name": "stdout",
     "output_type": "stream",
     "text": [
      "./data/macron/macron51.wav\n"
     ]
    },
    {
     "name": "stderr",
     "output_type": "stream",
     "text": [
      "\r",
      "Saving vectors of label - 'macron':  48%|██▍  | 48/100 [00:06<00:06,  7.85it/s]"
     ]
    },
    {
     "name": "stdout",
     "output_type": "stream",
     "text": [
      "./data/macron/macron52.wav\n"
     ]
    },
    {
     "name": "stderr",
     "output_type": "stream",
     "text": [
      "\r",
      "Saving vectors of label - 'macron':  49%|██▍  | 49/100 [00:06<00:06,  7.88it/s]"
     ]
    },
    {
     "name": "stdout",
     "output_type": "stream",
     "text": [
      "./data/macron/macron53.wav\n"
     ]
    },
    {
     "name": "stderr",
     "output_type": "stream",
     "text": [
      "\r",
      "Saving vectors of label - 'macron':  50%|██▌  | 50/100 [00:06<00:06,  7.91it/s]"
     ]
    },
    {
     "name": "stdout",
     "output_type": "stream",
     "text": [
      "./data/macron/macron54.wav\n"
     ]
    },
    {
     "name": "stderr",
     "output_type": "stream",
     "text": [
      "\r",
      "Saving vectors of label - 'macron':  51%|██▌  | 51/100 [00:06<00:06,  7.90it/s]"
     ]
    },
    {
     "name": "stdout",
     "output_type": "stream",
     "text": [
      "./data/macron/macron55.wav\n"
     ]
    },
    {
     "name": "stderr",
     "output_type": "stream",
     "text": [
      "\r",
      "Saving vectors of label - 'macron':  52%|██▌  | 52/100 [00:06<00:06,  7.90it/s]"
     ]
    },
    {
     "name": "stdout",
     "output_type": "stream",
     "text": [
      "./data/macron/macron56.wav\n"
     ]
    },
    {
     "name": "stderr",
     "output_type": "stream",
     "text": [
      "\r",
      "Saving vectors of label - 'macron':  53%|██▋  | 53/100 [00:06<00:05,  7.91it/s]"
     ]
    },
    {
     "name": "stdout",
     "output_type": "stream",
     "text": [
      "./data/macron/macron57.wav\n"
     ]
    },
    {
     "name": "stderr",
     "output_type": "stream",
     "text": [
      "\r",
      "Saving vectors of label - 'macron':  54%|██▋  | 54/100 [00:06<00:05,  7.88it/s]"
     ]
    },
    {
     "name": "stdout",
     "output_type": "stream",
     "text": [
      "./data/macron/macron58.wav\n"
     ]
    },
    {
     "name": "stderr",
     "output_type": "stream",
     "text": [
      "\r",
      "Saving vectors of label - 'macron':  55%|██▊  | 55/100 [00:07<00:05,  7.85it/s]"
     ]
    },
    {
     "name": "stdout",
     "output_type": "stream",
     "text": [
      "./data/macron/macron59.wav\n"
     ]
    },
    {
     "name": "stderr",
     "output_type": "stream",
     "text": [
      "\r",
      "Saving vectors of label - 'macron':  56%|██▊  | 56/100 [00:07<00:05,  7.84it/s]"
     ]
    },
    {
     "name": "stdout",
     "output_type": "stream",
     "text": [
      "./data/macron/macron6.wav\n"
     ]
    },
    {
     "name": "stderr",
     "output_type": "stream",
     "text": [
      "\r",
      "Saving vectors of label - 'macron':  57%|██▊  | 57/100 [00:07<00:05,  7.86it/s]"
     ]
    },
    {
     "name": "stdout",
     "output_type": "stream",
     "text": [
      "./data/macron/macron60.wav\n"
     ]
    },
    {
     "name": "stderr",
     "output_type": "stream",
     "text": [
      "\r",
      "Saving vectors of label - 'macron':  58%|██▉  | 58/100 [00:07<00:05,  7.82it/s]"
     ]
    },
    {
     "name": "stdout",
     "output_type": "stream",
     "text": [
      "./data/macron/macron61.wav\n"
     ]
    },
    {
     "name": "stderr",
     "output_type": "stream",
     "text": [
      "\r",
      "Saving vectors of label - 'macron':  59%|██▉  | 59/100 [00:07<00:05,  7.84it/s]"
     ]
    },
    {
     "name": "stdout",
     "output_type": "stream",
     "text": [
      "./data/macron/macron62.wav\n"
     ]
    },
    {
     "name": "stderr",
     "output_type": "stream",
     "text": [
      "\r",
      "Saving vectors of label - 'macron':  60%|███  | 60/100 [00:07<00:05,  7.83it/s]"
     ]
    },
    {
     "name": "stdout",
     "output_type": "stream",
     "text": [
      "./data/macron/macron63.wav\n"
     ]
    },
    {
     "name": "stderr",
     "output_type": "stream",
     "text": [
      "\r",
      "Saving vectors of label - 'macron':  61%|███  | 61/100 [00:07<00:04,  7.83it/s]"
     ]
    },
    {
     "name": "stdout",
     "output_type": "stream",
     "text": [
      "./data/macron/macron64.wav\n",
      "./data/macron/macron65.wav\n"
     ]
    },
    {
     "name": "stderr",
     "output_type": "stream",
     "text": [
      "\r",
      "Saving vectors of label - 'macron':  63%|███▏ | 63/100 [00:07<00:04,  7.88it/s]"
     ]
    },
    {
     "name": "stdout",
     "output_type": "stream",
     "text": [
      "./data/macron/macron66.wav\n"
     ]
    },
    {
     "name": "stderr",
     "output_type": "stream",
     "text": [
      "\r",
      "Saving vectors of label - 'macron':  64%|███▏ | 64/100 [00:08<00:04,  7.90it/s]"
     ]
    },
    {
     "name": "stdout",
     "output_type": "stream",
     "text": [
      "./data/macron/macron67.wav\n"
     ]
    },
    {
     "name": "stderr",
     "output_type": "stream",
     "text": [
      "\r",
      "Saving vectors of label - 'macron':  65%|███▎ | 65/100 [00:08<00:04,  7.88it/s]"
     ]
    },
    {
     "name": "stdout",
     "output_type": "stream",
     "text": [
      "./data/macron/macron68.wav\n"
     ]
    },
    {
     "name": "stderr",
     "output_type": "stream",
     "text": [
      "\r",
      "Saving vectors of label - 'macron':  66%|███▎ | 66/100 [00:08<00:04,  7.88it/s]"
     ]
    },
    {
     "name": "stdout",
     "output_type": "stream",
     "text": [
      "./data/macron/macron69.wav\n"
     ]
    },
    {
     "name": "stderr",
     "output_type": "stream",
     "text": [
      "\r",
      "Saving vectors of label - 'macron':  67%|███▎ | 67/100 [00:08<00:04,  7.90it/s]"
     ]
    },
    {
     "name": "stdout",
     "output_type": "stream",
     "text": [
      "./data/macron/macron7.wav\n",
      "./data/macron/macron70.wav\n"
     ]
    },
    {
     "name": "stderr",
     "output_type": "stream",
     "text": [
      "\r",
      "Saving vectors of label - 'macron':  69%|███▍ | 69/100 [00:08<00:03,  7.94it/s]"
     ]
    },
    {
     "name": "stdout",
     "output_type": "stream",
     "text": [
      "./data/macron/macron71.wav\n"
     ]
    },
    {
     "name": "stderr",
     "output_type": "stream",
     "text": [
      "\r",
      "Saving vectors of label - 'macron':  70%|███▌ | 70/100 [00:08<00:03,  7.96it/s]"
     ]
    },
    {
     "name": "stdout",
     "output_type": "stream",
     "text": [
      "./data/macron/macron72.wav\n"
     ]
    },
    {
     "name": "stderr",
     "output_type": "stream",
     "text": [
      "\r",
      "Saving vectors of label - 'macron':  71%|███▌ | 71/100 [00:08<00:03,  7.96it/s]"
     ]
    },
    {
     "name": "stdout",
     "output_type": "stream",
     "text": [
      "./data/macron/macron73.wav\n",
      "./data/macron/macron74.wav\n"
     ]
    },
    {
     "name": "stderr",
     "output_type": "stream",
     "text": [
      "\r",
      "Saving vectors of label - 'macron':  73%|███▋ | 73/100 [00:09<00:03,  7.99it/s]"
     ]
    },
    {
     "name": "stdout",
     "output_type": "stream",
     "text": [
      "./data/macron/macron75.wav\n",
      "./data/macron/macron76.wav\n"
     ]
    },
    {
     "name": "stderr",
     "output_type": "stream",
     "text": [
      "\r",
      "Saving vectors of label - 'macron':  75%|███▊ | 75/100 [00:09<00:03,  8.04it/s]"
     ]
    },
    {
     "name": "stdout",
     "output_type": "stream",
     "text": [
      "./data/macron/macron77.wav\n"
     ]
    },
    {
     "name": "stderr",
     "output_type": "stream",
     "text": [
      "\r",
      "Saving vectors of label - 'macron':  76%|███▊ | 76/100 [00:09<00:02,  8.05it/s]"
     ]
    },
    {
     "name": "stdout",
     "output_type": "stream",
     "text": [
      "./data/macron/macron78.wav\n",
      "./data/macron/macron79.wav\n"
     ]
    },
    {
     "name": "stderr",
     "output_type": "stream",
     "text": [
      "\r",
      "Saving vectors of label - 'macron':  78%|███▉ | 78/100 [00:09<00:02,  8.07it/s]"
     ]
    },
    {
     "name": "stdout",
     "output_type": "stream",
     "text": [
      "./data/macron/macron8.wav\n"
     ]
    },
    {
     "name": "stderr",
     "output_type": "stream",
     "text": [
      "\r",
      "Saving vectors of label - 'macron':  79%|███▉ | 79/100 [00:09<00:02,  8.09it/s]"
     ]
    },
    {
     "name": "stdout",
     "output_type": "stream",
     "text": [
      "./data/macron/macron80.wav\n"
     ]
    },
    {
     "name": "stderr",
     "output_type": "stream",
     "text": [
      "\r",
      "Saving vectors of label - 'macron':  80%|████ | 80/100 [00:09<00:02,  8.10it/s]"
     ]
    },
    {
     "name": "stdout",
     "output_type": "stream",
     "text": [
      "./data/macron/macron81.wav\n"
     ]
    },
    {
     "name": "stderr",
     "output_type": "stream",
     "text": [
      "\r",
      "Saving vectors of label - 'macron':  81%|████ | 81/100 [00:09<00:02,  8.12it/s]"
     ]
    },
    {
     "name": "stdout",
     "output_type": "stream",
     "text": [
      "./data/macron/macron82.wav\n"
     ]
    },
    {
     "name": "stderr",
     "output_type": "stream",
     "text": [
      "\r",
      "Saving vectors of label - 'macron':  82%|████ | 82/100 [00:10<00:02,  8.11it/s]"
     ]
    },
    {
     "name": "stdout",
     "output_type": "stream",
     "text": [
      "./data/macron/macron83.wav\n"
     ]
    },
    {
     "name": "stderr",
     "output_type": "stream",
     "text": [
      "\r",
      "Saving vectors of label - 'macron':  83%|████▏| 83/100 [00:10<00:02,  8.10it/s]"
     ]
    },
    {
     "name": "stdout",
     "output_type": "stream",
     "text": [
      "./data/macron/macron84.wav\n"
     ]
    },
    {
     "name": "stderr",
     "output_type": "stream",
     "text": [
      "\r",
      "Saving vectors of label - 'macron':  84%|████▏| 84/100 [00:10<00:01,  8.11it/s]"
     ]
    },
    {
     "name": "stdout",
     "output_type": "stream",
     "text": [
      "./data/macron/macron85.wav\n"
     ]
    },
    {
     "name": "stderr",
     "output_type": "stream",
     "text": [
      "\r",
      "Saving vectors of label - 'macron':  85%|████▎| 85/100 [00:10<00:01,  8.13it/s]"
     ]
    },
    {
     "name": "stdout",
     "output_type": "stream",
     "text": [
      "./data/macron/macron86.wav\n"
     ]
    },
    {
     "name": "stderr",
     "output_type": "stream",
     "text": [
      "\r",
      "Saving vectors of label - 'macron':  86%|████▎| 86/100 [00:10<00:01,  8.14it/s]"
     ]
    },
    {
     "name": "stdout",
     "output_type": "stream",
     "text": [
      "./data/macron/macron87.wav\n"
     ]
    },
    {
     "name": "stderr",
     "output_type": "stream",
     "text": [
      "\r",
      "Saving vectors of label - 'macron':  87%|████▎| 87/100 [00:10<00:01,  8.16it/s]"
     ]
    },
    {
     "name": "stdout",
     "output_type": "stream",
     "text": [
      "./data/macron/macron88.wav\n"
     ]
    },
    {
     "name": "stderr",
     "output_type": "stream",
     "text": [
      "\r",
      "Saving vectors of label - 'macron':  88%|████▍| 88/100 [00:10<00:01,  8.15it/s]"
     ]
    },
    {
     "name": "stdout",
     "output_type": "stream",
     "text": [
      "./data/macron/macron89.wav\n"
     ]
    },
    {
     "name": "stderr",
     "output_type": "stream",
     "text": [
      "\r",
      "Saving vectors of label - 'macron':  89%|████▍| 89/100 [00:10<00:01,  8.15it/s]"
     ]
    },
    {
     "name": "stdout",
     "output_type": "stream",
     "text": [
      "./data/macron/macron9.wav\n"
     ]
    },
    {
     "name": "stderr",
     "output_type": "stream",
     "text": [
      "\r",
      "Saving vectors of label - 'macron':  90%|████▌| 90/100 [00:11<00:01,  8.16it/s]"
     ]
    },
    {
     "name": "stdout",
     "output_type": "stream",
     "text": [
      "./data/macron/macron90.wav\n"
     ]
    },
    {
     "name": "stderr",
     "output_type": "stream",
     "text": [
      "\r",
      "Saving vectors of label - 'macron':  91%|████▌| 91/100 [00:11<00:01,  8.17it/s]"
     ]
    },
    {
     "name": "stdout",
     "output_type": "stream",
     "text": [
      "./data/macron/macron91.wav\n"
     ]
    },
    {
     "name": "stderr",
     "output_type": "stream",
     "text": [
      "\r",
      "Saving vectors of label - 'macron':  92%|████▌| 92/100 [00:11<00:00,  8.11it/s]"
     ]
    },
    {
     "name": "stdout",
     "output_type": "stream",
     "text": [
      "./data/macron/macron92.wav\n"
     ]
    },
    {
     "name": "stderr",
     "output_type": "stream",
     "text": [
      "\r",
      "Saving vectors of label - 'macron':  93%|████▋| 93/100 [00:11<00:00,  8.11it/s]"
     ]
    },
    {
     "name": "stdout",
     "output_type": "stream",
     "text": [
      "./data/macron/macron93.wav\n"
     ]
    },
    {
     "name": "stderr",
     "output_type": "stream",
     "text": [
      "\r",
      "Saving vectors of label - 'macron':  94%|████▋| 94/100 [00:11<00:00,  8.12it/s]"
     ]
    },
    {
     "name": "stdout",
     "output_type": "stream",
     "text": [
      "./data/macron/macron94.wav\n",
      "./data/macron/macron95.wav\n"
     ]
    },
    {
     "name": "stderr",
     "output_type": "stream",
     "text": [
      "\r",
      "Saving vectors of label - 'macron':  96%|████▊| 96/100 [00:11<00:00,  8.15it/s]"
     ]
    },
    {
     "name": "stdout",
     "output_type": "stream",
     "text": [
      "./data/macron/macron96.wav\n"
     ]
    },
    {
     "name": "stderr",
     "output_type": "stream",
     "text": [
      "\r",
      "Saving vectors of label - 'macron':  97%|████▊| 97/100 [00:11<00:00,  8.15it/s]"
     ]
    },
    {
     "name": "stdout",
     "output_type": "stream",
     "text": [
      "./data/macron/macron97.wav\n"
     ]
    },
    {
     "name": "stderr",
     "output_type": "stream",
     "text": [
      "\r",
      "Saving vectors of label - 'macron':  98%|████▉| 98/100 [00:12<00:00,  8.12it/s]"
     ]
    },
    {
     "name": "stdout",
     "output_type": "stream",
     "text": [
      "./data/macron/macron98.wav\n",
      "./data/macron/macron99.wav\n"
     ]
    },
    {
     "name": "stderr",
     "output_type": "stream",
     "text": [
      "Saving vectors of label - 'macron': 100%|████| 100/100 [00:12<00:00,  8.15it/s]\n"
     ]
    },
    {
     "name": "stdout",
     "output_type": "stream",
     "text": [
      "train\n",
      "(200, 40, 249)\n"
     ]
    }
   ],
   "source": [
    "%load_ext autoreload\n",
    "%autoreload 2\n",
    "\n",
    "from preprocess import *\n",
    "import keras\n",
    "from keras.models import Sequential\n",
    "from keras.layers import Dense, Dropout, Flatten, Conv2D, MaxPooling2D\n",
    "from keras.utils import to_categorical\n",
    "from keras import metrics\n",
    "import time\n",
    "\n",
    "start_time = time.time() \n",
    "\n",
    "# Second dimension of the feature is dim2\n",
    "feature_dim_2 = 249\n",
    "\n",
    "# Save data to array file first\n",
    "save_data_to_array(max_len=feature_dim_2)\n",
    "\n",
    "# # Loading train set and test set\n",
    "X_train, X_test, y_train, y_test = get_train_test()\n",
    "\n",
    "# # Feature dimension\n",
    "feature_dim_1 = 40\n",
    "channel = 1\n",
    "epochs = 70\n",
    "batch_size = 10\n",
    "verbose = 1\n",
    "num_classes = 3\n",
    "\n",
    "# Reshaping to perform 2D convolution\n",
    "X_train = X_train.reshape(X_train.shape[0], feature_dim_1, feature_dim_2, channel)\n",
    "X_test = X_test.reshape(X_test.shape[0], feature_dim_1, feature_dim_2, channel)\n",
    "\n",
    "y_train_hot = to_categorical(y_train)\n",
    "y_test_hot = to_categorical(y_test)"
   ]
  },
  {
   "cell_type": "markdown",
   "metadata": {},
   "source": [
    "# Building The Model Then Training it"
   ]
  },
  {
   "cell_type": "code",
   "execution_count": 38,
   "metadata": {},
   "outputs": [],
   "source": [
    "y_pred1 = model11.predict(X_test)\n",
    "#y_pred = (y_pred > 0.5)\n",
    "y_pred1=np.argmax(y_pred1,axis=1)\n",
    "y_pred2= model11.predict(X_train)\n",
    "y_pred2=np.argmax(y_pred2,axis=1)"
   ]
  },
  {
   "cell_type": "code",
   "execution_count": 36,
   "metadata": {},
   "outputs": [],
   "source": [
    "def get_model1():\n",
    "    model1 = Sequential()\n",
    "    model1.add(Conv2D(32, kernel_size=(2, 2), input_shape=(feature_dim_1, feature_dim_2, channel)))\n",
    "    model1.add(Conv2D(48, kernel_size=(2, 2)))\n",
    "    model1.add(Conv2D(120, kernel_size=(2, 2)))\n",
    "    model1.add(MaxPooling2D(pool_size=(2, 2)))\n",
    "    model1.add(Conv2D(80, kernel_size=(2, 2)))\n",
    "    model1.add(Conv2D(120, kernel_size=(2, 2)))\n",
    "    model1.add(MaxPooling2D(pool_size=(2, 2)))\n",
    "    model1.add(Conv2D(64, kernel_size=(2, 2)))\n",
    "    model1.add(MaxPooling2D(pool_size=(2, 2)))\n",
    "    model1.add(Flatten()) \n",
    "    model1.add(Dropout(0.25))\n",
    "    model1.add(Dense(128, activation='sigmoid'))\n",
    "    model1.add(Dropout(0.25))\n",
    "    model1.add(Dense(64, activation='sigmoid'))\n",
    "    model1.add(Dense(num_classes, activation='softmax'))\n",
    "    model1.compile(loss=keras.losses.categorical_crossentropy,\n",
    "                  optimizer=keras.optimizers.Adadelta(lr=0.5),\n",
    "                  metrics=[metrics.categorical_accuracy])\n",
    "    return model1"
   ]
  },
  {
   "cell_type": "code",
   "execution_count": 37,
   "metadata": {},
   "outputs": [
    {
     "name": "stdout",
     "output_type": "stream",
     "text": [
      "Train on 349 samples, validate on 151 samples\n",
      "Epoch 1/100\n",
      "349/349 [==============================] - ETA: 12:52 - loss: 1.1829 - categorical_accuracy: 0.0000e+0 - ETA: 6:36 - loss: 1.0792 - categorical_accuracy: 0.3000    - ETA: 4:30 - loss: 1.0401 - categorical_accuracy: 0.33 - ETA: 3:26 - loss: 1.0468 - categorical_accuracy: 0.32 - ETA: 2:48 - loss: 1.0202 - categorical_accuracy: 0.40 - ETA: 2:22 - loss: 1.0191 - categorical_accuracy: 0.41 - ETA: 2:03 - loss: 1.0359 - categorical_accuracy: 0.38 - ETA: 1:48 - loss: 1.0204 - categorical_accuracy: 0.45 - ETA: 1:36 - loss: 1.0174 - categorical_accuracy: 0.46 - ETA: 1:26 - loss: 1.0022 - categorical_accuracy: 0.50 - ETA: 1:18 - loss: 1.0035 - categorical_accuracy: 0.50 - ETA: 1:11 - loss: 0.9990 - categorical_accuracy: 0.50 - ETA: 1:05 - loss: 0.9906 - categorical_accuracy: 0.50 - ETA: 1:00 - loss: 0.9786 - categorical_accuracy: 0.51 - ETA: 55s - loss: 0.9653 - categorical_accuracy: 0.5267 - ETA: 50s - loss: 0.9539 - categorical_accuracy: 0.531 - ETA: 46s - loss: 0.9426 - categorical_accuracy: 0.541 - ETA: 42s - loss: 0.9363 - categorical_accuracy: 0.544 - ETA: 39s - loss: 0.9285 - categorical_accuracy: 0.547 - ETA: 35s - loss: 0.9204 - categorical_accuracy: 0.560 - ETA: 32s - loss: 0.9072 - categorical_accuracy: 0.571 - ETA: 29s - loss: 0.9081 - categorical_accuracy: 0.568 - ETA: 27s - loss: 0.9038 - categorical_accuracy: 0.565 - ETA: 24s - loss: 0.8934 - categorical_accuracy: 0.575 - ETA: 21s - loss: 0.8892 - categorical_accuracy: 0.572 - ETA: 19s - loss: 0.8842 - categorical_accuracy: 0.573 - ETA: 16s - loss: 0.8768 - categorical_accuracy: 0.574 - ETA: 14s - loss: 0.8731 - categorical_accuracy: 0.578 - ETA: 12s - loss: 0.8628 - categorical_accuracy: 0.582 - ETA: 10s - loss: 0.8580 - categorical_accuracy: 0.583 - ETA: 7s - loss: 0.8556 - categorical_accuracy: 0.580 - ETA: 5s - loss: 0.8509 - categorical_accuracy: 0.58 - ETA: 3s - loss: 0.8477 - categorical_accuracy: 0.57 - ETA: 1s - loss: 0.8487 - categorical_accuracy: 0.57 - 75s 215ms/step - loss: 0.8460 - categorical_accuracy: 0.5673 - val_loss: 0.6696 - val_categorical_accuracy: 0.6159\n",
      "Epoch 2/100\n",
      "349/349 [==============================] - ETA: 53s - loss: 0.7543 - categorical_accuracy: 0.500 - ETA: 51s - loss: 0.7241 - categorical_accuracy: 0.550 - ETA: 48s - loss: 0.6656 - categorical_accuracy: 0.700 - ETA: 47s - loss: 0.6713 - categorical_accuracy: 0.675 - ETA: 45s - loss: 0.6750 - categorical_accuracy: 0.640 - ETA: 43s - loss: 0.6985 - categorical_accuracy: 0.600 - ETA: 42s - loss: 0.6890 - categorical_accuracy: 0.585 - ETA: 40s - loss: 0.6971 - categorical_accuracy: 0.550 - ETA: 38s - loss: 0.6838 - categorical_accuracy: 0.588 - ETA: 37s - loss: 0.6764 - categorical_accuracy: 0.600 - ETA: 36s - loss: 0.6725 - categorical_accuracy: 0.618 - ETA: 35s - loss: 0.6805 - categorical_accuracy: 0.600 - ETA: 33s - loss: 0.6841 - categorical_accuracy: 0.592 - ETA: 31s - loss: 0.6840 - categorical_accuracy: 0.585 - ETA: 30s - loss: 0.6823 - categorical_accuracy: 0.593 - ETA: 28s - loss: 0.6741 - categorical_accuracy: 0.618 - ETA: 27s - loss: 0.6766 - categorical_accuracy: 0.617 - ETA: 25s - loss: 0.6807 - categorical_accuracy: 0.611 - ETA: 23s - loss: 0.6741 - categorical_accuracy: 0.615 - ETA: 22s - loss: 0.6777 - categorical_accuracy: 0.615 - ETA: 21s - loss: 0.6779 - categorical_accuracy: 0.623 - ETA: 19s - loss: 0.6767 - categorical_accuracy: 0.631 - ETA: 17s - loss: 0.6769 - categorical_accuracy: 0.630 - ETA: 16s - loss: 0.6699 - categorical_accuracy: 0.633 - ETA: 14s - loss: 0.6656 - categorical_accuracy: 0.644 - ETA: 13s - loss: 0.6632 - categorical_accuracy: 0.646 - ETA: 11s - loss: 0.6683 - categorical_accuracy: 0.640 - ETA: 10s - loss: 0.6610 - categorical_accuracy: 0.646 - ETA: 8s - loss: 0.6547 - categorical_accuracy: 0.655 - ETA: 7s - loss: 0.6511 - categorical_accuracy: 0.66 - ETA: 5s - loss: 0.6473 - categorical_accuracy: 0.66 - ETA: 4s - loss: 0.6499 - categorical_accuracy: 0.65 - ETA: 2s - loss: 0.6507 - categorical_accuracy: 0.65 - ETA: 1s - loss: 0.6519 - categorical_accuracy: 0.65 - 58s 166ms/step - loss: 0.6488 - categorical_accuracy: 0.6562 - val_loss: 0.6181 - val_categorical_accuracy: 0.6093\n",
      "Epoch 3/100\n",
      "349/349 [==============================] - ETA: 48s - loss: 0.5663 - categorical_accuracy: 0.700 - ETA: 46s - loss: 0.4852 - categorical_accuracy: 0.850 - ETA: 45s - loss: 0.5598 - categorical_accuracy: 0.766 - ETA: 43s - loss: 0.5890 - categorical_accuracy: 0.725 - ETA: 41s - loss: 0.5825 - categorical_accuracy: 0.720 - ETA: 40s - loss: 0.5674 - categorical_accuracy: 0.733 - ETA: 39s - loss: 0.5810 - categorical_accuracy: 0.714 - ETA: 38s - loss: 0.5826 - categorical_accuracy: 0.700 - ETA: 36s - loss: 0.5672 - categorical_accuracy: 0.711 - ETA: 35s - loss: 0.5586 - categorical_accuracy: 0.730 - ETA: 33s - loss: 0.5624 - categorical_accuracy: 0.718 - ETA: 32s - loss: 0.5663 - categorical_accuracy: 0.708 - ETA: 31s - loss: 0.5646 - categorical_accuracy: 0.723 - ETA: 30s - loss: 0.5805 - categorical_accuracy: 0.700 - ETA: 29s - loss: 0.5769 - categorical_accuracy: 0.713 - ETA: 27s - loss: 0.5791 - categorical_accuracy: 0.700 - ETA: 26s - loss: 0.5758 - categorical_accuracy: 0.700 - ETA: 25s - loss: 0.5782 - categorical_accuracy: 0.694 - ETA: 23s - loss: 0.5783 - categorical_accuracy: 0.700 - ETA: 22s - loss: 0.5829 - categorical_accuracy: 0.705 - ETA: 20s - loss: 0.5858 - categorical_accuracy: 0.709 - ETA: 19s - loss: 0.5897 - categorical_accuracy: 0.709 - ETA: 17s - loss: 0.5902 - categorical_accuracy: 0.708 - ETA: 16s - loss: 0.5971 - categorical_accuracy: 0.695 - ETA: 14s - loss: 0.5987 - categorical_accuracy: 0.700 - ETA: 13s - loss: 0.5957 - categorical_accuracy: 0.703 - ETA: 11s - loss: 0.5938 - categorical_accuracy: 0.707 - ETA: 10s - loss: 0.5971 - categorical_accuracy: 0.703 - ETA: 8s - loss: 0.5973 - categorical_accuracy: 0.700 - ETA: 7s - loss: 0.5939 - categorical_accuracy: 0.70 - ETA: 5s - loss: 0.5930 - categorical_accuracy: 0.70 - ETA: 4s - loss: 0.5959 - categorical_accuracy: 0.70 - ETA: 2s - loss: 0.5902 - categorical_accuracy: 0.70 - ETA: 1s - loss: 0.5865 - categorical_accuracy: 0.70 - 59s 168ms/step - loss: 0.5826 - categorical_accuracy: 0.7135 - val_loss: 0.5848 - val_categorical_accuracy: 0.6755\n",
      "Epoch 4/100\n",
      "349/349 [==============================] - ETA: 49s - loss: 0.6239 - categorical_accuracy: 0.600 - ETA: 48s - loss: 0.5976 - categorical_accuracy: 0.650 - ETA: 49s - loss: 0.6133 - categorical_accuracy: 0.600 - ETA: 47s - loss: 0.6011 - categorical_accuracy: 0.650 - ETA: 45s - loss: 0.5882 - categorical_accuracy: 0.680 - ETA: 44s - loss: 0.5494 - categorical_accuracy: 0.700 - ETA: 43s - loss: 0.5297 - categorical_accuracy: 0.728 - ETA: 41s - loss: 0.5410 - categorical_accuracy: 0.737 - ETA: 40s - loss: 0.5352 - categorical_accuracy: 0.755 - ETA: 39s - loss: 0.5340 - categorical_accuracy: 0.760 - ETA: 37s - loss: 0.5532 - categorical_accuracy: 0.754 - ETA: 36s - loss: 0.5721 - categorical_accuracy: 0.741 - ETA: 34s - loss: 0.5611 - categorical_accuracy: 0.753 - ETA: 32s - loss: 0.5727 - categorical_accuracy: 0.742 - ETA: 30s - loss: 0.5618 - categorical_accuracy: 0.760 - ETA: 29s - loss: 0.5611 - categorical_accuracy: 0.768 - ETA: 27s - loss: 0.5777 - categorical_accuracy: 0.752 - ETA: 25s - loss: 0.5728 - categorical_accuracy: 0.750 - ETA: 24s - loss: 0.5729 - categorical_accuracy: 0.757 - ETA: 22s - loss: 0.5721 - categorical_accuracy: 0.750 - ETA: 20s - loss: 0.5724 - categorical_accuracy: 0.747 - ETA: 19s - loss: 0.5697 - categorical_accuracy: 0.745 - ETA: 17s - loss: 0.5636 - categorical_accuracy: 0.747 - ETA: 16s - loss: 0.5544 - categorical_accuracy: 0.750 - ETA: 14s - loss: 0.5581 - categorical_accuracy: 0.744 - ETA: 13s - loss: 0.5559 - categorical_accuracy: 0.750 - ETA: 11s - loss: 0.5527 - categorical_accuracy: 0.748 - ETA: 10s - loss: 0.5520 - categorical_accuracy: 0.746 - ETA: 8s - loss: 0.5519 - categorical_accuracy: 0.741 - ETA: 7s - loss: 0.5542 - categorical_accuracy: 0.73 - ETA: 5s - loss: 0.5516 - categorical_accuracy: 0.73 - ETA: 4s - loss: 0.5507 - categorical_accuracy: 0.73 - ETA: 2s - loss: 0.5481 - categorical_accuracy: 0.73 - ETA: 1s - loss: 0.5468 - categorical_accuracy: 0.73 - 58s 166ms/step - loss: 0.5447 - categorical_accuracy: 0.7364 - val_loss: 0.5327 - val_categorical_accuracy: 0.7550\n",
      "Epoch 5/100\n",
      "349/349 [==============================] - ETA: 50s - loss: 0.5506 - categorical_accuracy: 0.800 - ETA: 49s - loss: 0.5755 - categorical_accuracy: 0.700 - ETA: 47s - loss: 0.5212 - categorical_accuracy: 0.700 - ETA: 46s - loss: 0.5635 - categorical_accuracy: 0.700 - ETA: 44s - loss: 0.5444 - categorical_accuracy: 0.740 - ETA: 42s - loss: 0.5601 - categorical_accuracy: 0.716 - ETA: 40s - loss: 0.5487 - categorical_accuracy: 0.728 - ETA: 39s - loss: 0.5485 - categorical_accuracy: 0.737 - ETA: 37s - loss: 0.5224 - categorical_accuracy: 0.755 - ETA: 36s - loss: 0.5109 - categorical_accuracy: 0.770 - ETA: 34s - loss: 0.5214 - categorical_accuracy: 0.763 - ETA: 33s - loss: 0.5151 - categorical_accuracy: 0.766 - ETA: 32s - loss: 0.5220 - categorical_accuracy: 0.761 - ETA: 30s - loss: 0.5096 - categorical_accuracy: 0.778 - ETA: 29s - loss: 0.5165 - categorical_accuracy: 0.773 - ETA: 27s - loss: 0.5201 - categorical_accuracy: 0.762 - ETA: 25s - loss: 0.5143 - categorical_accuracy: 0.770 - ETA: 24s - loss: 0.5221 - categorical_accuracy: 0.761 - ETA: 22s - loss: 0.5190 - categorical_accuracy: 0.763 - ETA: 21s - loss: 0.5146 - categorical_accuracy: 0.765 - ETA: 20s - loss: 0.5182 - categorical_accuracy: 0.761 - ETA: 18s - loss: 0.5282 - categorical_accuracy: 0.750 - ETA: 17s - loss: 0.5249 - categorical_accuracy: 0.756 - ETA: 15s - loss: 0.5143 - categorical_accuracy: 0.766 - ETA: 14s - loss: 0.5136 - categorical_accuracy: 0.768 - ETA: 13s - loss: 0.5143 - categorical_accuracy: 0.769 - ETA: 11s - loss: 0.5063 - categorical_accuracy: 0.777 - ETA: 10s - loss: 0.5059 - categorical_accuracy: 0.778 - ETA: 8s - loss: 0.5134 - categorical_accuracy: 0.772 - ETA: 7s - loss: 0.5090 - categorical_accuracy: 0.77 - ETA: 5s - loss: 0.5039 - categorical_accuracy: 0.77 - ETA: 4s - loss: 0.5001 - categorical_accuracy: 0.78 - ETA: 2s - loss: 0.4964 - categorical_accuracy: 0.79 - ETA: 1s - loss: 0.4970 - categorical_accuracy: 0.78 - 58s 166ms/step - loss: 0.4923 - categorical_accuracy: 0.7937 - val_loss: 0.5779 - val_categorical_accuracy: 0.6689\n",
      "Epoch 6/100\n",
      "349/349 [==============================] - ETA: 45s - loss: 0.3559 - categorical_accuracy: 0.900 - ETA: 43s - loss: 0.5862 - categorical_accuracy: 0.700 - ETA: 46s - loss: 0.5468 - categorical_accuracy: 0.733 - ETA: 46s - loss: 0.5245 - categorical_accuracy: 0.750 - ETA: 45s - loss: 0.5160 - categorical_accuracy: 0.760 - ETA: 44s - loss: 0.5041 - categorical_accuracy: 0.783 - ETA: 43s - loss: 0.5015 - categorical_accuracy: 0.771 - ETA: 41s - loss: 0.4939 - categorical_accuracy: 0.775 - ETA: 40s - loss: 0.4810 - categorical_accuracy: 0.788 - ETA: 38s - loss: 0.4809 - categorical_accuracy: 0.780 - ETA: 36s - loss: 0.4820 - categorical_accuracy: 0.772 - ETA: 34s - loss: 0.4811 - categorical_accuracy: 0.775 - ETA: 32s - loss: 0.4902 - categorical_accuracy: 0.761 - ETA: 31s - loss: 0.4885 - categorical_accuracy: 0.764 - ETA: 29s - loss: 0.4809 - categorical_accuracy: 0.766 - ETA: 28s - loss: 0.4747 - categorical_accuracy: 0.781 - ETA: 26s - loss: 0.4689 - categorical_accuracy: 0.788 - ETA: 25s - loss: 0.4706 - categorical_accuracy: 0.788 - ETA: 24s - loss: 0.4760 - categorical_accuracy: 0.778 - ETA: 22s - loss: 0.4746 - categorical_accuracy: 0.770 - ETA: 21s - loss: 0.4756 - categorical_accuracy: 0.766 - ETA: 20s - loss: 0.4736 - categorical_accuracy: 0.763 - ETA: 18s - loss: 0.4731 - categorical_accuracy: 0.769 - ETA: 17s - loss: 0.4804 - categorical_accuracy: 0.758 - ETA: 15s - loss: 0.4789 - categorical_accuracy: 0.760 - ETA: 13s - loss: 0.4859 - categorical_accuracy: 0.753 - ETA: 12s - loss: 0.4883 - categorical_accuracy: 0.748 - ETA: 10s - loss: 0.4825 - categorical_accuracy: 0.757 - ETA: 9s - loss: 0.4794 - categorical_accuracy: 0.765 - ETA: 7s - loss: 0.4759 - categorical_accuracy: 0.77 - ETA: 6s - loss: 0.4710 - categorical_accuracy: 0.77 - ETA: 4s - loss: 0.4666 - categorical_accuracy: 0.78 - ETA: 3s - loss: 0.4635 - categorical_accuracy: 0.78 - ETA: 1s - loss: 0.4619 - categorical_accuracy: 0.78 - 63s 180ms/step - loss: 0.4647 - categorical_accuracy: 0.7822 - val_loss: 0.4137 - val_categorical_accuracy: 0.8609\n",
      "Epoch 7/100\n",
      "349/349 [==============================] - ETA: 47s - loss: 0.3001 - categorical_accuracy: 1.000 - ETA: 47s - loss: 0.4841 - categorical_accuracy: 0.800 - ETA: 45s - loss: 0.4603 - categorical_accuracy: 0.833 - ETA: 44s - loss: 0.4206 - categorical_accuracy: 0.850 - ETA: 43s - loss: 0.4974 - categorical_accuracy: 0.760 - ETA: 42s - loss: 0.4987 - categorical_accuracy: 0.766 - ETA: 40s - loss: 0.4907 - categorical_accuracy: 0.771 - ETA: 39s - loss: 0.4759 - categorical_accuracy: 0.787 - ETA: 37s - loss: 0.4780 - categorical_accuracy: 0.777 - ETA: 35s - loss: 0.4769 - categorical_accuracy: 0.780 - ETA: 34s - loss: 0.4700 - categorical_accuracy: 0.781 - ETA: 32s - loss: 0.4770 - categorical_accuracy: 0.775 - ETA: 31s - loss: 0.4684 - categorical_accuracy: 0.784 - ETA: 29s - loss: 0.4783 - categorical_accuracy: 0.778 - ETA: 28s - loss: 0.4748 - categorical_accuracy: 0.786 - ETA: 27s - loss: 0.4877 - categorical_accuracy: 0.781 - ETA: 26s - loss: 0.4744 - categorical_accuracy: 0.782 - ETA: 24s - loss: 0.4712 - categorical_accuracy: 0.788 - ETA: 23s - loss: 0.4687 - categorical_accuracy: 0.784 - ETA: 21s - loss: 0.4720 - categorical_accuracy: 0.785 - ETA: 20s - loss: 0.4635 - categorical_accuracy: 0.790 - ETA: 18s - loss: 0.4595 - categorical_accuracy: 0.795 - ETA: 17s - loss: 0.4552 - categorical_accuracy: 0.795 - ETA: 15s - loss: 0.4497 - categorical_accuracy: 0.804 - ETA: 14s - loss: 0.4402 - categorical_accuracy: 0.812 - ETA: 12s - loss: 0.4396 - categorical_accuracy: 0.815 - ETA: 11s - loss: 0.4383 - categorical_accuracy: 0.814 - ETA: 9s - loss: 0.4344 - categorical_accuracy: 0.817 - ETA: 8s - loss: 0.4313 - categorical_accuracy: 0.82 - ETA: 7s - loss: 0.4231 - categorical_accuracy: 0.82 - ETA: 5s - loss: 0.4256 - categorical_accuracy: 0.82 - ETA: 4s - loss: 0.4192 - categorical_accuracy: 0.83 - ETA: 2s - loss: 0.4167 - categorical_accuracy: 0.83 - ETA: 1s - loss: 0.4146 - categorical_accuracy: 0.83 - 58s 168ms/step - loss: 0.4160 - categorical_accuracy: 0.8309 - val_loss: 0.3848 - val_categorical_accuracy: 0.8079\n"
     ]
    },
    {
     "name": "stdout",
     "output_type": "stream",
     "text": [
      "Epoch 8/100\n",
      "349/349 [==============================] - ETA: 51s - loss: 0.5549 - categorical_accuracy: 0.600 - ETA: 49s - loss: 0.5047 - categorical_accuracy: 0.700 - ETA: 50s - loss: 0.4903 - categorical_accuracy: 0.733 - ETA: 50s - loss: 0.4175 - categorical_accuracy: 0.800 - ETA: 50s - loss: 0.4022 - categorical_accuracy: 0.820 - ETA: 49s - loss: 0.3799 - categorical_accuracy: 0.833 - ETA: 48s - loss: 0.3733 - categorical_accuracy: 0.828 - ETA: 46s - loss: 0.3931 - categorical_accuracy: 0.812 - ETA: 44s - loss: 0.3937 - categorical_accuracy: 0.822 - ETA: 42s - loss: 0.3810 - categorical_accuracy: 0.840 - ETA: 40s - loss: 0.4116 - categorical_accuracy: 0.809 - ETA: 38s - loss: 0.4066 - categorical_accuracy: 0.808 - ETA: 36s - loss: 0.3862 - categorical_accuracy: 0.823 - ETA: 34s - loss: 0.3881 - categorical_accuracy: 0.821 - ETA: 32s - loss: 0.3890 - categorical_accuracy: 0.820 - ETA: 30s - loss: 0.3846 - categorical_accuracy: 0.831 - ETA: 29s - loss: 0.3811 - categorical_accuracy: 0.835 - ETA: 27s - loss: 0.3658 - categorical_accuracy: 0.844 - ETA: 25s - loss: 0.3685 - categorical_accuracy: 0.842 - ETA: 24s - loss: 0.3598 - categorical_accuracy: 0.850 - ETA: 22s - loss: 0.3574 - categorical_accuracy: 0.857 - ETA: 21s - loss: 0.3579 - categorical_accuracy: 0.863 - ETA: 19s - loss: 0.3480 - categorical_accuracy: 0.869 - ETA: 17s - loss: 0.3509 - categorical_accuracy: 0.866 - ETA: 15s - loss: 0.3452 - categorical_accuracy: 0.872 - ETA: 14s - loss: 0.3362 - categorical_accuracy: 0.876 - ETA: 12s - loss: 0.3276 - categorical_accuracy: 0.881 - ETA: 11s - loss: 0.3200 - categorical_accuracy: 0.885 - ETA: 9s - loss: 0.3133 - categorical_accuracy: 0.889 - ETA: 7s - loss: 0.3118 - categorical_accuracy: 0.89 - ETA: 6s - loss: 0.3145 - categorical_accuracy: 0.88 - ETA: 4s - loss: 0.3288 - categorical_accuracy: 0.87 - ETA: 3s - loss: 0.3308 - categorical_accuracy: 0.87 - ETA: 1s - loss: 0.3387 - categorical_accuracy: 0.86 - 63s 180ms/step - loss: 0.3351 - categorical_accuracy: 0.8711 - val_loss: 0.2538 - val_categorical_accuracy: 0.9470\n",
      "Epoch 9/100\n",
      "349/349 [==============================] - ETA: 50s - loss: 0.1897 - categorical_accuracy: 0.900 - ETA: 48s - loss: 0.1560 - categorical_accuracy: 0.950 - ETA: 46s - loss: 0.2286 - categorical_accuracy: 0.900 - ETA: 44s - loss: 0.2223 - categorical_accuracy: 0.925 - ETA: 42s - loss: 0.2149 - categorical_accuracy: 0.940 - ETA: 42s - loss: 0.1972 - categorical_accuracy: 0.950 - ETA: 41s - loss: 0.2124 - categorical_accuracy: 0.942 - ETA: 39s - loss: 0.2539 - categorical_accuracy: 0.925 - ETA: 38s - loss: 0.2385 - categorical_accuracy: 0.933 - ETA: 36s - loss: 0.2294 - categorical_accuracy: 0.940 - ETA: 35s - loss: 0.2388 - categorical_accuracy: 0.936 - ETA: 33s - loss: 0.2353 - categorical_accuracy: 0.933 - ETA: 31s - loss: 0.2346 - categorical_accuracy: 0.930 - ETA: 30s - loss: 0.2338 - categorical_accuracy: 0.935 - ETA: 28s - loss: 0.2563 - categorical_accuracy: 0.920 - ETA: 27s - loss: 0.2658 - categorical_accuracy: 0.912 - ETA: 25s - loss: 0.2618 - categorical_accuracy: 0.917 - ETA: 24s - loss: 0.2556 - categorical_accuracy: 0.922 - ETA: 22s - loss: 0.2545 - categorical_accuracy: 0.921 - ETA: 21s - loss: 0.2465 - categorical_accuracy: 0.925 - ETA: 19s - loss: 0.2474 - categorical_accuracy: 0.923 - ETA: 18s - loss: 0.2605 - categorical_accuracy: 0.913 - ETA: 17s - loss: 0.2589 - categorical_accuracy: 0.913 - ETA: 15s - loss: 0.2525 - categorical_accuracy: 0.916 - ETA: 14s - loss: 0.2471 - categorical_accuracy: 0.920 - ETA: 12s - loss: 0.2418 - categorical_accuracy: 0.923 - ETA: 11s - loss: 0.2399 - categorical_accuracy: 0.925 - ETA: 9s - loss: 0.2345 - categorical_accuracy: 0.928 - ETA: 8s - loss: 0.2300 - categorical_accuracy: 0.93 - ETA: 6s - loss: 0.2257 - categorical_accuracy: 0.93 - ETA: 5s - loss: 0.2212 - categorical_accuracy: 0.93 - ETA: 4s - loss: 0.2163 - categorical_accuracy: 0.93 - ETA: 2s - loss: 0.2119 - categorical_accuracy: 0.93 - ETA: 1s - loss: 0.2086 - categorical_accuracy: 0.94 - 56s 159ms/step - loss: 0.2051 - categorical_accuracy: 0.9427 - val_loss: 0.1198 - val_categorical_accuracy: 0.9669\n",
      "Epoch 10/100\n",
      "349/349 [==============================] - ETA: 46s - loss: 0.0662 - categorical_accuracy: 1.000 - ETA: 44s - loss: 0.1862 - categorical_accuracy: 0.950 - ETA: 43s - loss: 0.1756 - categorical_accuracy: 0.933 - ETA: 42s - loss: 0.1521 - categorical_accuracy: 0.950 - ETA: 41s - loss: 0.1374 - categorical_accuracy: 0.960 - ETA: 39s - loss: 0.1290 - categorical_accuracy: 0.966 - ETA: 38s - loss: 0.1217 - categorical_accuracy: 0.971 - ETA: 37s - loss: 0.1260 - categorical_accuracy: 0.962 - ETA: 35s - loss: 0.1176 - categorical_accuracy: 0.966 - ETA: 34s - loss: 0.1402 - categorical_accuracy: 0.960 - ETA: 33s - loss: 0.1478 - categorical_accuracy: 0.954 - ETA: 31s - loss: 0.1416 - categorical_accuracy: 0.958 - ETA: 30s - loss: 0.1364 - categorical_accuracy: 0.961 - ETA: 29s - loss: 0.1335 - categorical_accuracy: 0.964 - ETA: 27s - loss: 0.1339 - categorical_accuracy: 0.966 - ETA: 26s - loss: 0.1664 - categorical_accuracy: 0.950 - ETA: 24s - loss: 0.1616 - categorical_accuracy: 0.952 - ETA: 23s - loss: 0.1562 - categorical_accuracy: 0.955 - ETA: 22s - loss: 0.1524 - categorical_accuracy: 0.957 - ETA: 20s - loss: 0.1513 - categorical_accuracy: 0.960 - ETA: 19s - loss: 0.1515 - categorical_accuracy: 0.957 - ETA: 18s - loss: 0.1554 - categorical_accuracy: 0.950 - ETA: 16s - loss: 0.1550 - categorical_accuracy: 0.952 - ETA: 15s - loss: 0.1511 - categorical_accuracy: 0.954 - ETA: 13s - loss: 0.1494 - categorical_accuracy: 0.956 - ETA: 12s - loss: 0.1450 - categorical_accuracy: 0.957 - ETA: 11s - loss: 0.1414 - categorical_accuracy: 0.959 - ETA: 9s - loss: 0.1390 - categorical_accuracy: 0.960 - ETA: 8s - loss: 0.1387 - categorical_accuracy: 0.96 - ETA: 6s - loss: 0.1424 - categorical_accuracy: 0.96 - ETA: 5s - loss: 0.1398 - categorical_accuracy: 0.96 - ETA: 4s - loss: 0.1387 - categorical_accuracy: 0.96 - ETA: 2s - loss: 0.1364 - categorical_accuracy: 0.96 - ETA: 1s - loss: 0.1351 - categorical_accuracy: 0.96 - 56s 161ms/step - loss: 0.1345 - categorical_accuracy: 0.9656 - val_loss: 0.1251 - val_categorical_accuracy: 0.9801\n",
      "Epoch 11/100\n",
      "349/349 [==============================] - ETA: 46s - loss: 0.0887 - categorical_accuracy: 1.000 - ETA: 46s - loss: 0.0850 - categorical_accuracy: 1.000 - ETA: 46s - loss: 0.0766 - categorical_accuracy: 1.000 - ETA: 45s - loss: 0.0703 - categorical_accuracy: 1.000 - ETA: 45s - loss: 0.0854 - categorical_accuracy: 1.000 - ETA: 44s - loss: 0.0800 - categorical_accuracy: 1.000 - ETA: 42s - loss: 0.0754 - categorical_accuracy: 1.000 - ETA: 41s - loss: 0.0763 - categorical_accuracy: 1.000 - ETA: 39s - loss: 0.0732 - categorical_accuracy: 1.000 - ETA: 38s - loss: 0.0713 - categorical_accuracy: 1.000 - ETA: 36s - loss: 0.0900 - categorical_accuracy: 0.990 - ETA: 35s - loss: 0.0877 - categorical_accuracy: 0.991 - ETA: 33s - loss: 0.1018 - categorical_accuracy: 0.984 - ETA: 32s - loss: 0.1286 - categorical_accuracy: 0.964 - ETA: 30s - loss: 0.1230 - categorical_accuracy: 0.966 - ETA: 29s - loss: 0.1277 - categorical_accuracy: 0.962 - ETA: 27s - loss: 0.1390 - categorical_accuracy: 0.958 - ETA: 26s - loss: 0.1457 - categorical_accuracy: 0.955 - ETA: 24s - loss: 0.1411 - categorical_accuracy: 0.957 - ETA: 22s - loss: 0.1389 - categorical_accuracy: 0.960 - ETA: 21s - loss: 0.1346 - categorical_accuracy: 0.961 - ETA: 19s - loss: 0.1332 - categorical_accuracy: 0.963 - ETA: 18s - loss: 0.1301 - categorical_accuracy: 0.965 - ETA: 16s - loss: 0.1266 - categorical_accuracy: 0.966 - ETA: 15s - loss: 0.1238 - categorical_accuracy: 0.968 - ETA: 13s - loss: 0.1208 - categorical_accuracy: 0.969 - ETA: 12s - loss: 0.1175 - categorical_accuracy: 0.970 - ETA: 10s - loss: 0.1160 - categorical_accuracy: 0.971 - ETA: 9s - loss: 0.1236 - categorical_accuracy: 0.969 - ETA: 7s - loss: 0.1239 - categorical_accuracy: 0.97 - ETA: 5s - loss: 0.1277 - categorical_accuracy: 0.96 - ETA: 4s - loss: 0.1271 - categorical_accuracy: 0.96 - ETA: 2s - loss: 0.1247 - categorical_accuracy: 0.96 - ETA: 1s - loss: 0.1229 - categorical_accuracy: 0.97 - 60s 171ms/step - loss: 0.1206 - categorical_accuracy: 0.9713 - val_loss: 0.0900 - val_categorical_accuracy: 0.9801\n"
     ]
    },
    {
     "name": "stdout",
     "output_type": "stream",
     "text": [
      "Epoch 12/100\n",
      "349/349 [==============================] - ETA: 53s - loss: 0.0649 - categorical_accuracy: 1.000 - ETA: 50s - loss: 0.0613 - categorical_accuracy: 1.000 - ETA: 48s - loss: 0.0565 - categorical_accuracy: 1.000 - ETA: 46s - loss: 0.0522 - categorical_accuracy: 1.000 - ETA: 44s - loss: 0.0529 - categorical_accuracy: 1.000 - ETA: 42s - loss: 0.0589 - categorical_accuracy: 1.000 - ETA: 41s - loss: 0.0580 - categorical_accuracy: 1.000 - ETA: 40s - loss: 0.0544 - categorical_accuracy: 1.000 - ETA: 38s - loss: 0.0522 - categorical_accuracy: 1.000 - ETA: 37s - loss: 0.0507 - categorical_accuracy: 1.000 - ETA: 37s - loss: 0.0502 - categorical_accuracy: 1.000 - ETA: 35s - loss: 0.0570 - categorical_accuracy: 0.991 - ETA: 33s - loss: 0.0594 - categorical_accuracy: 0.992 - ETA: 32s - loss: 0.0595 - categorical_accuracy: 0.992 - ETA: 30s - loss: 0.0572 - categorical_accuracy: 0.993 - ETA: 29s - loss: 0.0559 - categorical_accuracy: 0.993 - ETA: 27s - loss: 0.0559 - categorical_accuracy: 0.994 - ETA: 26s - loss: 0.0559 - categorical_accuracy: 0.994 - ETA: 24s - loss: 0.0549 - categorical_accuracy: 0.994 - ETA: 22s - loss: 0.0545 - categorical_accuracy: 0.995 - ETA: 21s - loss: 0.0533 - categorical_accuracy: 0.995 - ETA: 19s - loss: 0.0532 - categorical_accuracy: 0.995 - ETA: 18s - loss: 0.0639 - categorical_accuracy: 0.991 - ETA: 16s - loss: 0.0657 - categorical_accuracy: 0.987 - ETA: 15s - loss: 0.0659 - categorical_accuracy: 0.988 - ETA: 13s - loss: 0.0746 - categorical_accuracy: 0.984 - ETA: 11s - loss: 0.0732 - categorical_accuracy: 0.985 - ETA: 10s - loss: 0.0719 - categorical_accuracy: 0.985 - ETA: 8s - loss: 0.0703 - categorical_accuracy: 0.986 - ETA: 7s - loss: 0.0699 - categorical_accuracy: 0.98 - ETA: 5s - loss: 0.0685 - categorical_accuracy: 0.98 - ETA: 4s - loss: 0.0741 - categorical_accuracy: 0.98 - ETA: 2s - loss: 0.0751 - categorical_accuracy: 0.98 - ETA: 1s - loss: 0.0738 - categorical_accuracy: 0.98 - 58s 166ms/step - loss: 0.0734 - categorical_accuracy: 0.9857 - val_loss: 0.0852 - val_categorical_accuracy: 0.9801\n",
      "Epoch 13/100\n",
      "349/349 [==============================] - ETA: 47s - loss: 0.0345 - categorical_accuracy: 1.000 - ETA: 45s - loss: 0.0319 - categorical_accuracy: 1.000 - ETA: 44s - loss: 0.0272 - categorical_accuracy: 1.000 - ETA: 43s - loss: 0.0922 - categorical_accuracy: 0.975 - ETA: 41s - loss: 0.0793 - categorical_accuracy: 0.980 - ETA: 40s - loss: 0.0741 - categorical_accuracy: 0.983 - ETA: 38s - loss: 0.0746 - categorical_accuracy: 0.985 - ETA: 37s - loss: 0.0709 - categorical_accuracy: 0.987 - ETA: 36s - loss: 0.0683 - categorical_accuracy: 0.988 - ETA: 34s - loss: 0.0860 - categorical_accuracy: 0.980 - ETA: 33s - loss: 0.0807 - categorical_accuracy: 0.981 - ETA: 32s - loss: 0.0837 - categorical_accuracy: 0.975 - ETA: 31s - loss: 0.0916 - categorical_accuracy: 0.969 - ETA: 29s - loss: 0.0878 - categorical_accuracy: 0.971 - ETA: 28s - loss: 0.0860 - categorical_accuracy: 0.973 - ETA: 27s - loss: 0.0831 - categorical_accuracy: 0.975 - ETA: 25s - loss: 0.0796 - categorical_accuracy: 0.976 - ETA: 24s - loss: 0.0767 - categorical_accuracy: 0.977 - ETA: 22s - loss: 0.0761 - categorical_accuracy: 0.978 - ETA: 21s - loss: 0.0744 - categorical_accuracy: 0.980 - ETA: 19s - loss: 0.0723 - categorical_accuracy: 0.981 - ETA: 18s - loss: 0.0702 - categorical_accuracy: 0.981 - ETA: 16s - loss: 0.0684 - categorical_accuracy: 0.982 - ETA: 15s - loss: 0.0731 - categorical_accuracy: 0.979 - ETA: 14s - loss: 0.0724 - categorical_accuracy: 0.980 - ETA: 12s - loss: 0.0729 - categorical_accuracy: 0.980 - ETA: 11s - loss: 0.0712 - categorical_accuracy: 0.981 - ETA: 9s - loss: 0.0697 - categorical_accuracy: 0.982 - ETA: 8s - loss: 0.0680 - categorical_accuracy: 0.98 - ETA: 6s - loss: 0.0663 - categorical_accuracy: 0.98 - ETA: 5s - loss: 0.0653 - categorical_accuracy: 0.98 - ETA: 4s - loss: 0.0642 - categorical_accuracy: 0.98 - ETA: 2s - loss: 0.0631 - categorical_accuracy: 0.98 - ETA: 1s - loss: 0.0703 - categorical_accuracy: 0.98 - 56s 159ms/step - loss: 0.0691 - categorical_accuracy: 0.9828 - val_loss: 0.1079 - val_categorical_accuracy: 0.9536\n",
      "Epoch 14/100\n",
      "349/349 [==============================] - ETA: 46s - loss: 0.0253 - categorical_accuracy: 1.000 - ETA: 44s - loss: 0.0219 - categorical_accuracy: 1.000 - ETA: 43s - loss: 0.0244 - categorical_accuracy: 1.000 - ETA: 42s - loss: 0.0268 - categorical_accuracy: 1.000 - ETA: 40s - loss: 0.0275 - categorical_accuracy: 1.000 - ETA: 39s - loss: 0.0286 - categorical_accuracy: 1.000 - ETA: 37s - loss: 0.0285 - categorical_accuracy: 1.000 - ETA: 36s - loss: 0.0281 - categorical_accuracy: 1.000 - ETA: 35s - loss: 0.0308 - categorical_accuracy: 1.000 - ETA: 33s - loss: 0.0300 - categorical_accuracy: 1.000 - ETA: 32s - loss: 0.0293 - categorical_accuracy: 1.000 - ETA: 31s - loss: 0.0438 - categorical_accuracy: 0.983 - ETA: 29s - loss: 0.0417 - categorical_accuracy: 0.984 - ETA: 28s - loss: 0.0406 - categorical_accuracy: 0.985 - ETA: 27s - loss: 0.0407 - categorical_accuracy: 0.986 - ETA: 25s - loss: 0.0397 - categorical_accuracy: 0.987 - ETA: 24s - loss: 0.0392 - categorical_accuracy: 0.988 - ETA: 23s - loss: 0.0379 - categorical_accuracy: 0.988 - ETA: 21s - loss: 0.0439 - categorical_accuracy: 0.984 - ETA: 20s - loss: 0.0430 - categorical_accuracy: 0.985 - ETA: 19s - loss: 0.0431 - categorical_accuracy: 0.985 - ETA: 18s - loss: 0.0426 - categorical_accuracy: 0.986 - ETA: 16s - loss: 0.0417 - categorical_accuracy: 0.987 - ETA: 15s - loss: 0.0408 - categorical_accuracy: 0.987 - ETA: 13s - loss: 0.0407 - categorical_accuracy: 0.988 - ETA: 12s - loss: 0.0403 - categorical_accuracy: 0.988 - ETA: 11s - loss: 0.0397 - categorical_accuracy: 0.988 - ETA: 9s - loss: 0.0403 - categorical_accuracy: 0.989 - ETA: 8s - loss: 0.0394 - categorical_accuracy: 0.98 - ETA: 6s - loss: 0.0495 - categorical_accuracy: 0.98 - ETA: 5s - loss: 0.0484 - categorical_accuracy: 0.98 - ETA: 4s - loss: 0.0478 - categorical_accuracy: 0.98 - ETA: 2s - loss: 0.0479 - categorical_accuracy: 0.98 - ETA: 1s - loss: 0.0469 - categorical_accuracy: 0.98 - 55s 157ms/step - loss: 0.0479 - categorical_accuracy: 0.9885 - val_loss: 0.4847 - val_categorical_accuracy: 0.8411\n",
      "Epoch 15/100\n",
      "349/349 [==============================] - ETA: 46s - loss: 0.2590 - categorical_accuracy: 1.000 - ETA: 45s - loss: 0.1750 - categorical_accuracy: 1.000 - ETA: 44s - loss: 0.1214 - categorical_accuracy: 1.000 - ETA: 42s - loss: 0.1024 - categorical_accuracy: 1.000 - ETA: 41s - loss: 0.0936 - categorical_accuracy: 1.000 - ETA: 40s - loss: 0.1079 - categorical_accuracy: 0.983 - ETA: 38s - loss: 0.0952 - categorical_accuracy: 0.985 - ETA: 37s - loss: 0.0857 - categorical_accuracy: 0.987 - ETA: 35s - loss: 0.0782 - categorical_accuracy: 0.988 - ETA: 34s - loss: 0.0728 - categorical_accuracy: 0.990 - ETA: 32s - loss: 0.0684 - categorical_accuracy: 0.990 - ETA: 31s - loss: 0.0641 - categorical_accuracy: 0.991 - ETA: 30s - loss: 0.0612 - categorical_accuracy: 0.992 - ETA: 28s - loss: 0.0579 - categorical_accuracy: 0.992 - ETA: 27s - loss: 0.0553 - categorical_accuracy: 0.993 - ETA: 26s - loss: 0.0529 - categorical_accuracy: 0.993 - ETA: 24s - loss: 0.0510 - categorical_accuracy: 0.994 - ETA: 23s - loss: 0.0494 - categorical_accuracy: 0.994 - ETA: 22s - loss: 0.0483 - categorical_accuracy: 0.994 - ETA: 20s - loss: 0.0474 - categorical_accuracy: 0.995 - ETA: 19s - loss: 0.0461 - categorical_accuracy: 0.995 - ETA: 17s - loss: 0.0447 - categorical_accuracy: 0.995 - ETA: 16s - loss: 0.0442 - categorical_accuracy: 0.995 - ETA: 15s - loss: 0.0430 - categorical_accuracy: 0.995 - ETA: 13s - loss: 0.0418 - categorical_accuracy: 0.996 - ETA: 12s - loss: 0.0409 - categorical_accuracy: 0.996 - ETA: 11s - loss: 0.0402 - categorical_accuracy: 0.996 - ETA: 9s - loss: 0.0394 - categorical_accuracy: 0.996 - ETA: 8s - loss: 0.0387 - categorical_accuracy: 0.99 - ETA: 6s - loss: 0.0504 - categorical_accuracy: 0.99 - ETA: 5s - loss: 0.0495 - categorical_accuracy: 0.99 - ETA: 4s - loss: 0.0490 - categorical_accuracy: 0.99 - ETA: 2s - loss: 0.0479 - categorical_accuracy: 0.99 - ETA: 1s - loss: 0.0478 - categorical_accuracy: 0.99 - 56s 159ms/step - loss: 0.0469 - categorical_accuracy: 0.9943 - val_loss: 0.0580 - val_categorical_accuracy: 0.9934\n"
     ]
    },
    {
     "name": "stdout",
     "output_type": "stream",
     "text": [
      "Epoch 16/100\n",
      "349/349 [==============================] - ETA: 48s - loss: 0.0199 - categorical_accuracy: 1.000 - ETA: 47s - loss: 0.0161 - categorical_accuracy: 1.000 - ETA: 46s - loss: 0.0144 - categorical_accuracy: 1.000 - ETA: 44s - loss: 0.0148 - categorical_accuracy: 1.000 - ETA: 42s - loss: 0.0147 - categorical_accuracy: 1.000 - ETA: 40s - loss: 0.0145 - categorical_accuracy: 1.000 - ETA: 39s - loss: 0.0141 - categorical_accuracy: 1.000 - ETA: 37s - loss: 0.0142 - categorical_accuracy: 1.000 - ETA: 36s - loss: 0.0142 - categorical_accuracy: 1.000 - ETA: 35s - loss: 0.0149 - categorical_accuracy: 1.000 - ETA: 33s - loss: 0.0159 - categorical_accuracy: 1.000 - ETA: 32s - loss: 0.0190 - categorical_accuracy: 1.000 - ETA: 31s - loss: 0.0413 - categorical_accuracy: 0.992 - ETA: 29s - loss: 0.0394 - categorical_accuracy: 0.992 - ETA: 28s - loss: 0.0376 - categorical_accuracy: 0.993 - ETA: 27s - loss: 0.0370 - categorical_accuracy: 0.993 - ETA: 25s - loss: 0.0364 - categorical_accuracy: 0.994 - ETA: 24s - loss: 0.0353 - categorical_accuracy: 0.994 - ETA: 23s - loss: 0.0340 - categorical_accuracy: 0.994 - ETA: 21s - loss: 0.0331 - categorical_accuracy: 0.995 - ETA: 20s - loss: 0.0322 - categorical_accuracy: 0.995 - ETA: 18s - loss: 0.0313 - categorical_accuracy: 0.995 - ETA: 17s - loss: 0.0305 - categorical_accuracy: 0.995 - ETA: 15s - loss: 0.0306 - categorical_accuracy: 0.995 - ETA: 14s - loss: 0.0301 - categorical_accuracy: 0.996 - ETA: 12s - loss: 0.0317 - categorical_accuracy: 0.996 - ETA: 11s - loss: 0.0315 - categorical_accuracy: 0.996 - ETA: 9s - loss: 0.0311 - categorical_accuracy: 0.996 - ETA: 8s - loss: 0.0306 - categorical_accuracy: 0.99 - ETA: 7s - loss: 0.0300 - categorical_accuracy: 0.99 - ETA: 5s - loss: 0.0365 - categorical_accuracy: 0.99 - ETA: 4s - loss: 0.0478 - categorical_accuracy: 0.99 - ETA: 2s - loss: 0.0478 - categorical_accuracy: 0.99 - ETA: 1s - loss: 0.0467 - categorical_accuracy: 0.99 - 57s 164ms/step - loss: 0.0459 - categorical_accuracy: 0.9914 - val_loss: 0.0715 - val_categorical_accuracy: 0.9868\n",
      "Epoch 17/100\n",
      "349/349 [==============================] - ETA: 46s - loss: 0.0175 - categorical_accuracy: 1.000 - ETA: 46s - loss: 0.0201 - categorical_accuracy: 1.000 - ETA: 45s - loss: 0.0171 - categorical_accuracy: 1.000 - ETA: 44s - loss: 0.1186 - categorical_accuracy: 0.975 - ETA: 43s - loss: 0.0978 - categorical_accuracy: 0.980 - ETA: 41s - loss: 0.0836 - categorical_accuracy: 0.983 - ETA: 40s - loss: 0.0743 - categorical_accuracy: 0.985 - ETA: 38s - loss: 0.0683 - categorical_accuracy: 0.987 - ETA: 37s - loss: 0.0619 - categorical_accuracy: 0.988 - ETA: 35s - loss: 0.0631 - categorical_accuracy: 0.990 - ETA: 34s - loss: 0.0587 - categorical_accuracy: 0.990 - ETA: 33s - loss: 0.0549 - categorical_accuracy: 0.991 - ETA: 32s - loss: 0.0516 - categorical_accuracy: 0.992 - ETA: 30s - loss: 0.0487 - categorical_accuracy: 0.992 - ETA: 28s - loss: 0.0475 - categorical_accuracy: 0.993 - ETA: 27s - loss: 0.0454 - categorical_accuracy: 0.993 - ETA: 25s - loss: 0.0440 - categorical_accuracy: 0.994 - ETA: 24s - loss: 0.0422 - categorical_accuracy: 0.994 - ETA: 22s - loss: 0.0406 - categorical_accuracy: 0.994 - ETA: 21s - loss: 0.0397 - categorical_accuracy: 0.995 - ETA: 20s - loss: 0.0404 - categorical_accuracy: 0.995 - ETA: 18s - loss: 0.0395 - categorical_accuracy: 0.995 - ETA: 17s - loss: 0.0387 - categorical_accuracy: 0.995 - ETA: 15s - loss: 0.0376 - categorical_accuracy: 0.995 - ETA: 14s - loss: 0.0364 - categorical_accuracy: 0.996 - ETA: 12s - loss: 0.0363 - categorical_accuracy: 0.996 - ETA: 11s - loss: 0.0457 - categorical_accuracy: 0.992 - ETA: 10s - loss: 0.0445 - categorical_accuracy: 0.992 - ETA: 8s - loss: 0.0434 - categorical_accuracy: 0.993 - ETA: 7s - loss: 0.0437 - categorical_accuracy: 0.99 - ETA: 5s - loss: 0.0430 - categorical_accuracy: 0.99 - ETA: 4s - loss: 0.0420 - categorical_accuracy: 0.99 - ETA: 2s - loss: 0.0411 - categorical_accuracy: 0.99 - ETA: 1s - loss: 0.0402 - categorical_accuracy: 0.99 - 58s 167ms/step - loss: 0.0398 - categorical_accuracy: 0.9943 - val_loss: 0.0533 - val_categorical_accuracy: 0.9934\n",
      "Epoch 18/100\n",
      "349/349 [==============================] - ETA: 50s - loss: 0.0100 - categorical_accuracy: 1.000 - ETA: 47s - loss: 0.0800 - categorical_accuracy: 0.950 - ETA: 45s - loss: 0.0729 - categorical_accuracy: 0.966 - ETA: 43s - loss: 0.0755 - categorical_accuracy: 0.975 - ETA: 41s - loss: 0.0627 - categorical_accuracy: 0.980 - ETA: 40s - loss: 0.0545 - categorical_accuracy: 0.983 - ETA: 38s - loss: 0.0492 - categorical_accuracy: 0.985 - ETA: 37s - loss: 0.0467 - categorical_accuracy: 0.987 - ETA: 35s - loss: 0.0431 - categorical_accuracy: 0.988 - ETA: 34s - loss: 0.0398 - categorical_accuracy: 0.990 - ETA: 32s - loss: 0.0396 - categorical_accuracy: 0.990 - ETA: 31s - loss: 0.0415 - categorical_accuracy: 0.991 - ETA: 29s - loss: 0.0396 - categorical_accuracy: 0.992 - ETA: 28s - loss: 0.0380 - categorical_accuracy: 0.992 - ETA: 27s - loss: 0.0369 - categorical_accuracy: 0.993 - ETA: 25s - loss: 0.0353 - categorical_accuracy: 0.993 - ETA: 24s - loss: 0.0343 - categorical_accuracy: 0.994 - ETA: 22s - loss: 0.0329 - categorical_accuracy: 0.994 - ETA: 21s - loss: 0.0320 - categorical_accuracy: 0.994 - ETA: 20s - loss: 0.0311 - categorical_accuracy: 0.995 - ETA: 18s - loss: 0.0303 - categorical_accuracy: 0.995 - ETA: 17s - loss: 0.0293 - categorical_accuracy: 0.995 - ETA: 16s - loss: 0.0285 - categorical_accuracy: 0.995 - ETA: 14s - loss: 0.0310 - categorical_accuracy: 0.991 - ETA: 13s - loss: 0.0306 - categorical_accuracy: 0.992 - ETA: 12s - loss: 0.0309 - categorical_accuracy: 0.992 - ETA: 10s - loss: 0.0309 - categorical_accuracy: 0.992 - ETA: 9s - loss: 0.0330 - categorical_accuracy: 0.989 - ETA: 7s - loss: 0.0326 - categorical_accuracy: 0.98 - ETA: 6s - loss: 0.0320 - categorical_accuracy: 0.99 - ETA: 5s - loss: 0.0324 - categorical_accuracy: 0.99 - ETA: 3s - loss: 0.0317 - categorical_accuracy: 0.99 - ETA: 2s - loss: 0.0310 - categorical_accuracy: 0.99 - ETA: 1s - loss: 0.0304 - categorical_accuracy: 0.99 - 53s 152ms/step - loss: 0.0300 - categorical_accuracy: 0.9914 - val_loss: 0.0639 - val_categorical_accuracy: 0.9868\n",
      "Epoch 19/100\n",
      "349/349 [==============================] - ETA: 45s - loss: 0.0149 - categorical_accuracy: 1.000 - ETA: 44s - loss: 0.0145 - categorical_accuracy: 1.000 - ETA: 42s - loss: 0.0165 - categorical_accuracy: 1.000 - ETA: 41s - loss: 0.0154 - categorical_accuracy: 1.000 - ETA: 40s - loss: 0.0144 - categorical_accuracy: 1.000 - ETA: 38s - loss: 0.0138 - categorical_accuracy: 1.000 - ETA: 37s - loss: 0.0153 - categorical_accuracy: 1.000 - ETA: 36s - loss: 0.0146 - categorical_accuracy: 1.000 - ETA: 34s - loss: 0.0138 - categorical_accuracy: 1.000 - ETA: 33s - loss: 0.0133 - categorical_accuracy: 1.000 - ETA: 32s - loss: 0.0191 - categorical_accuracy: 1.000 - ETA: 30s - loss: 0.0211 - categorical_accuracy: 1.000 - ETA: 29s - loss: 0.0203 - categorical_accuracy: 1.000 - ETA: 28s - loss: 0.0199 - categorical_accuracy: 1.000 - ETA: 27s - loss: 0.0192 - categorical_accuracy: 1.000 - ETA: 25s - loss: 0.0186 - categorical_accuracy: 1.000 - ETA: 24s - loss: 0.0180 - categorical_accuracy: 1.000 - ETA: 22s - loss: 0.0179 - categorical_accuracy: 1.000 - ETA: 21s - loss: 0.0174 - categorical_accuracy: 1.000 - ETA: 20s - loss: 0.0172 - categorical_accuracy: 1.000 - ETA: 18s - loss: 0.0168 - categorical_accuracy: 1.000 - ETA: 17s - loss: 0.0165 - categorical_accuracy: 1.000 - ETA: 16s - loss: 0.0161 - categorical_accuracy: 1.000 - ETA: 14s - loss: 0.0157 - categorical_accuracy: 1.000 - ETA: 13s - loss: 0.0154 - categorical_accuracy: 1.000 - ETA: 12s - loss: 0.0151 - categorical_accuracy: 1.000 - ETA: 10s - loss: 0.0149 - categorical_accuracy: 1.000 - ETA: 9s - loss: 0.0148 - categorical_accuracy: 1.000 - ETA: 7s - loss: 0.0145 - categorical_accuracy: 1.00 - ETA: 6s - loss: 0.0143 - categorical_accuracy: 1.00 - ETA: 5s - loss: 0.0143 - categorical_accuracy: 1.00 - ETA: 3s - loss: 0.0142 - categorical_accuracy: 1.00 - ETA: 2s - loss: 0.0140 - categorical_accuracy: 1.00 - ETA: 1s - loss: 0.0172 - categorical_accuracy: 0.99 - 53s 152ms/step - loss: 0.0201 - categorical_accuracy: 0.9943 - val_loss: 0.0602 - val_categorical_accuracy: 0.9669\n"
     ]
    },
    {
     "name": "stdout",
     "output_type": "stream",
     "text": [
      "Epoch 20/100\n",
      "349/349 [==============================] - ETA: 45s - loss: 0.0088 - categorical_accuracy: 1.000 - ETA: 44s - loss: 0.0108 - categorical_accuracy: 1.000 - ETA: 43s - loss: 0.0098 - categorical_accuracy: 1.000 - ETA: 42s - loss: 0.0094 - categorical_accuracy: 1.000 - ETA: 40s - loss: 0.0101 - categorical_accuracy: 1.000 - ETA: 39s - loss: 0.0097 - categorical_accuracy: 1.000 - ETA: 37s - loss: 0.0094 - categorical_accuracy: 1.000 - ETA: 36s - loss: 0.0098 - categorical_accuracy: 1.000 - ETA: 35s - loss: 0.0103 - categorical_accuracy: 1.000 - ETA: 33s - loss: 0.0100 - categorical_accuracy: 1.000 - ETA: 32s - loss: 0.0101 - categorical_accuracy: 1.000 - ETA: 31s - loss: 0.0099 - categorical_accuracy: 1.000 - ETA: 29s - loss: 0.0104 - categorical_accuracy: 1.000 - ETA: 28s - loss: 0.0103 - categorical_accuracy: 1.000 - ETA: 26s - loss: 0.0110 - categorical_accuracy: 1.000 - ETA: 25s - loss: 0.0109 - categorical_accuracy: 1.000 - ETA: 24s - loss: 0.0107 - categorical_accuracy: 1.000 - ETA: 22s - loss: 0.0106 - categorical_accuracy: 1.000 - ETA: 21s - loss: 0.0104 - categorical_accuracy: 1.000 - ETA: 20s - loss: 0.0104 - categorical_accuracy: 1.000 - ETA: 18s - loss: 0.0101 - categorical_accuracy: 1.000 - ETA: 17s - loss: 0.0101 - categorical_accuracy: 1.000 - ETA: 16s - loss: 0.0100 - categorical_accuracy: 1.000 - ETA: 14s - loss: 0.0099 - categorical_accuracy: 1.000 - ETA: 13s - loss: 0.0099 - categorical_accuracy: 1.000 - ETA: 12s - loss: 0.0098 - categorical_accuracy: 1.000 - ETA: 10s - loss: 0.0096 - categorical_accuracy: 1.000 - ETA: 9s - loss: 0.0162 - categorical_accuracy: 0.996 - ETA: 7s - loss: 0.0256 - categorical_accuracy: 0.99 - ETA: 6s - loss: 0.0250 - categorical_accuracy: 0.99 - ETA: 5s - loss: 0.0254 - categorical_accuracy: 0.99 - ETA: 3s - loss: 0.0248 - categorical_accuracy: 0.99 - ETA: 2s - loss: 0.0245 - categorical_accuracy: 0.99 - ETA: 1s - loss: 0.0241 - categorical_accuracy: 0.99 - 53s 152ms/step - loss: 0.0236 - categorical_accuracy: 0.9943 - val_loss: 0.0556 - val_categorical_accuracy: 0.9801\n",
      "Epoch 21/100\n",
      "349/349 [==============================] - ETA: 44s - loss: 0.0081 - categorical_accuracy: 1.000 - ETA: 43s - loss: 0.0280 - categorical_accuracy: 1.000 - ETA: 42s - loss: 0.0219 - categorical_accuracy: 1.000 - ETA: 41s - loss: 0.0191 - categorical_accuracy: 1.000 - ETA: 39s - loss: 0.0172 - categorical_accuracy: 1.000 - ETA: 38s - loss: 0.0153 - categorical_accuracy: 1.000 - ETA: 37s - loss: 0.0141 - categorical_accuracy: 1.000 - ETA: 35s - loss: 0.0131 - categorical_accuracy: 1.000 - ETA: 34s - loss: 0.0126 - categorical_accuracy: 1.000 - ETA: 33s - loss: 0.0121 - categorical_accuracy: 1.000 - ETA: 31s - loss: 0.0120 - categorical_accuracy: 1.000 - ETA: 30s - loss: 0.0123 - categorical_accuracy: 1.000 - ETA: 29s - loss: 0.0123 - categorical_accuracy: 1.000 - ETA: 27s - loss: 0.0123 - categorical_accuracy: 1.000 - ETA: 26s - loss: 0.0169 - categorical_accuracy: 0.993 - ETA: 25s - loss: 0.0163 - categorical_accuracy: 0.993 - ETA: 23s - loss: 0.0175 - categorical_accuracy: 0.994 - ETA: 22s - loss: 0.0171 - categorical_accuracy: 0.994 - ETA: 21s - loss: 0.0165 - categorical_accuracy: 0.994 - ETA: 19s - loss: 0.0184 - categorical_accuracy: 0.995 - ETA: 18s - loss: 0.0179 - categorical_accuracy: 0.995 - ETA: 17s - loss: 0.0175 - categorical_accuracy: 0.995 - ETA: 15s - loss: 0.0171 - categorical_accuracy: 0.995 - ETA: 14s - loss: 0.0167 - categorical_accuracy: 0.995 - ETA: 13s - loss: 0.0163 - categorical_accuracy: 0.996 - ETA: 11s - loss: 0.0160 - categorical_accuracy: 0.996 - ETA: 10s - loss: 0.0157 - categorical_accuracy: 0.996 - ETA: 9s - loss: 0.0186 - categorical_accuracy: 0.992 - ETA: 7s - loss: 0.0182 - categorical_accuracy: 0.99 - ETA: 6s - loss: 0.0178 - categorical_accuracy: 0.99 - ETA: 5s - loss: 0.0176 - categorical_accuracy: 0.99 - ETA: 3s - loss: 0.0173 - categorical_accuracy: 0.99 - ETA: 2s - loss: 0.0187 - categorical_accuracy: 0.99 - ETA: 1s - loss: 0.0201 - categorical_accuracy: 0.99 - 53s 151ms/step - loss: 0.0197 - categorical_accuracy: 0.9943 - val_loss: 0.1153 - val_categorical_accuracy: 0.9603\n",
      "Epoch 22/100\n",
      "349/349 [==============================] - ETA: 44s - loss: 0.0086 - categorical_accuracy: 1.000 - ETA: 43s - loss: 0.0211 - categorical_accuracy: 1.000 - ETA: 42s - loss: 0.0200 - categorical_accuracy: 1.000 - ETA: 41s - loss: 0.0176 - categorical_accuracy: 1.000 - ETA: 39s - loss: 0.0155 - categorical_accuracy: 1.000 - ETA: 38s - loss: 0.0154 - categorical_accuracy: 1.000 - ETA: 37s - loss: 0.0145 - categorical_accuracy: 1.000 - ETA: 35s - loss: 0.0134 - categorical_accuracy: 1.000 - ETA: 34s - loss: 0.0130 - categorical_accuracy: 1.000 - ETA: 33s - loss: 0.0123 - categorical_accuracy: 1.000 - ETA: 31s - loss: 0.0117 - categorical_accuracy: 1.000 - ETA: 30s - loss: 0.0115 - categorical_accuracy: 1.000 - ETA: 29s - loss: 0.0111 - categorical_accuracy: 1.000 - ETA: 27s - loss: 0.0107 - categorical_accuracy: 1.000 - ETA: 26s - loss: 0.0103 - categorical_accuracy: 1.000 - ETA: 25s - loss: 0.0102 - categorical_accuracy: 1.000 - ETA: 23s - loss: 0.0113 - categorical_accuracy: 1.000 - ETA: 22s - loss: 0.0110 - categorical_accuracy: 1.000 - ETA: 21s - loss: 0.0108 - categorical_accuracy: 1.000 - ETA: 19s - loss: 0.0131 - categorical_accuracy: 1.000 - ETA: 18s - loss: 0.0128 - categorical_accuracy: 1.000 - ETA: 17s - loss: 0.0126 - categorical_accuracy: 1.000 - ETA: 15s - loss: 0.0122 - categorical_accuracy: 1.000 - ETA: 14s - loss: 0.0129 - categorical_accuracy: 1.000 - ETA: 13s - loss: 0.0126 - categorical_accuracy: 1.000 - ETA: 11s - loss: 0.0124 - categorical_accuracy: 1.000 - ETA: 10s - loss: 0.0121 - categorical_accuracy: 1.000 - ETA: 9s - loss: 0.0120 - categorical_accuracy: 1.000 - ETA: 7s - loss: 0.0118 - categorical_accuracy: 1.00 - ETA: 6s - loss: 0.0116 - categorical_accuracy: 1.00 - ETA: 5s - loss: 0.0115 - categorical_accuracy: 1.00 - ETA: 3s - loss: 0.0116 - categorical_accuracy: 1.00 - ETA: 2s - loss: 0.0115 - categorical_accuracy: 1.00 - ETA: 1s - loss: 0.0113 - categorical_accuracy: 1.00 - 53s 151ms/step - loss: 0.0113 - categorical_accuracy: 1.0000 - val_loss: 0.0385 - val_categorical_accuracy: 0.9934\n",
      "Epoch 23/100\n",
      "349/349 [==============================] - ETA: 45s - loss: 0.0041 - categorical_accuracy: 1.000 - ETA: 43s - loss: 0.0043 - categorical_accuracy: 1.000 - ETA: 42s - loss: 0.0094 - categorical_accuracy: 1.000 - ETA: 41s - loss: 0.0093 - categorical_accuracy: 1.000 - ETA: 39s - loss: 0.0087 - categorical_accuracy: 1.000 - ETA: 38s - loss: 0.0093 - categorical_accuracy: 1.000 - ETA: 37s - loss: 0.0099 - categorical_accuracy: 1.000 - ETA: 35s - loss: 0.0093 - categorical_accuracy: 1.000 - ETA: 34s - loss: 0.0094 - categorical_accuracy: 1.000 - ETA: 33s - loss: 0.0090 - categorical_accuracy: 1.000 - ETA: 31s - loss: 0.0086 - categorical_accuracy: 1.000 - ETA: 30s - loss: 0.0084 - categorical_accuracy: 1.000 - ETA: 29s - loss: 0.0081 - categorical_accuracy: 1.000 - ETA: 28s - loss: 0.0080 - categorical_accuracy: 1.000 - ETA: 26s - loss: 0.0078 - categorical_accuracy: 1.000 - ETA: 25s - loss: 0.0077 - categorical_accuracy: 1.000 - ETA: 24s - loss: 0.0076 - categorical_accuracy: 1.000 - ETA: 22s - loss: 0.0076 - categorical_accuracy: 1.000 - ETA: 21s - loss: 0.0097 - categorical_accuracy: 1.000 - ETA: 20s - loss: 0.0096 - categorical_accuracy: 1.000 - ETA: 18s - loss: 0.0097 - categorical_accuracy: 1.000 - ETA: 17s - loss: 0.0097 - categorical_accuracy: 1.000 - ETA: 16s - loss: 0.0095 - categorical_accuracy: 1.000 - ETA: 14s - loss: 0.0093 - categorical_accuracy: 1.000 - ETA: 13s - loss: 0.0092 - categorical_accuracy: 1.000 - ETA: 11s - loss: 0.0090 - categorical_accuracy: 1.000 - ETA: 10s - loss: 0.0090 - categorical_accuracy: 1.000 - ETA: 9s - loss: 0.0089 - categorical_accuracy: 1.000 - ETA: 7s - loss: 0.0088 - categorical_accuracy: 1.00 - ETA: 6s - loss: 0.0089 - categorical_accuracy: 1.00 - ETA: 5s - loss: 0.0087 - categorical_accuracy: 1.00 - ETA: 3s - loss: 0.0088 - categorical_accuracy: 1.00 - ETA: 2s - loss: 0.0087 - categorical_accuracy: 1.00 - ETA: 1s - loss: 0.0086 - categorical_accuracy: 1.00 - 53s 153ms/step - loss: 0.0084 - categorical_accuracy: 1.0000 - val_loss: 0.0442 - val_categorical_accuracy: 0.9801\n"
     ]
    },
    {
     "name": "stdout",
     "output_type": "stream",
     "text": [
      "Epoch 24/100\n",
      "349/349 [==============================] - ETA: 45s - loss: 0.0067 - categorical_accuracy: 1.000 - ETA: 44s - loss: 0.0056 - categorical_accuracy: 1.000 - ETA: 42s - loss: 0.0056 - categorical_accuracy: 1.000 - ETA: 41s - loss: 0.0052 - categorical_accuracy: 1.000 - ETA: 40s - loss: 0.0051 - categorical_accuracy: 1.000 - ETA: 39s - loss: 0.0051 - categorical_accuracy: 1.000 - ETA: 37s - loss: 0.0057 - categorical_accuracy: 1.000 - ETA: 36s - loss: 0.0057 - categorical_accuracy: 1.000 - ETA: 34s - loss: 0.0055 - categorical_accuracy: 1.000 - ETA: 33s - loss: 0.0057 - categorical_accuracy: 1.000 - ETA: 32s - loss: 0.0058 - categorical_accuracy: 1.000 - ETA: 30s - loss: 0.0060 - categorical_accuracy: 1.000 - ETA: 29s - loss: 0.0069 - categorical_accuracy: 1.000 - ETA: 28s - loss: 0.0071 - categorical_accuracy: 1.000 - ETA: 26s - loss: 0.0071 - categorical_accuracy: 1.000 - ETA: 25s - loss: 0.0069 - categorical_accuracy: 1.000 - ETA: 24s - loss: 0.0070 - categorical_accuracy: 1.000 - ETA: 22s - loss: 0.0070 - categorical_accuracy: 1.000 - ETA: 21s - loss: 0.0068 - categorical_accuracy: 1.000 - ETA: 20s - loss: 0.0067 - categorical_accuracy: 1.000 - ETA: 19s - loss: 0.0066 - categorical_accuracy: 1.000 - ETA: 17s - loss: 0.0065 - categorical_accuracy: 1.000 - ETA: 16s - loss: 0.0064 - categorical_accuracy: 1.000 - ETA: 15s - loss: 0.0063 - categorical_accuracy: 1.000 - ETA: 13s - loss: 0.0063 - categorical_accuracy: 1.000 - ETA: 12s - loss: 0.0065 - categorical_accuracy: 1.000 - ETA: 10s - loss: 0.0064 - categorical_accuracy: 1.000 - ETA: 9s - loss: 0.0064 - categorical_accuracy: 1.000 - ETA: 8s - loss: 0.0064 - categorical_accuracy: 1.00 - ETA: 6s - loss: 0.0064 - categorical_accuracy: 1.00 - ETA: 5s - loss: 0.0063 - categorical_accuracy: 1.00 - ETA: 4s - loss: 0.0063 - categorical_accuracy: 1.00 - ETA: 2s - loss: 0.0062 - categorical_accuracy: 1.00 - ETA: 1s - loss: 0.0062 - categorical_accuracy: 1.00 - 56s 159ms/step - loss: 0.0062 - categorical_accuracy: 1.0000 - val_loss: 0.0350 - val_categorical_accuracy: 0.9868\n",
      "Epoch 25/100\n",
      "349/349 [==============================] - ETA: 48s - loss: 0.0078 - categorical_accuracy: 1.000 - ETA: 47s - loss: 0.0062 - categorical_accuracy: 1.000 - ETA: 44s - loss: 0.0053 - categorical_accuracy: 1.000 - ETA: 42s - loss: 0.0049 - categorical_accuracy: 1.000 - ETA: 41s - loss: 0.0049 - categorical_accuracy: 1.000 - ETA: 41s - loss: 0.0050 - categorical_accuracy: 1.000 - ETA: 40s - loss: 0.0049 - categorical_accuracy: 1.000 - ETA: 38s - loss: 0.0047 - categorical_accuracy: 1.000 - ETA: 36s - loss: 0.0133 - categorical_accuracy: 0.988 - ETA: 35s - loss: 0.0142 - categorical_accuracy: 0.990 - ETA: 33s - loss: 0.0155 - categorical_accuracy: 0.990 - ETA: 32s - loss: 0.0146 - categorical_accuracy: 0.991 - ETA: 30s - loss: 0.0140 - categorical_accuracy: 0.992 - ETA: 29s - loss: 0.0134 - categorical_accuracy: 0.992 - ETA: 28s - loss: 0.0128 - categorical_accuracy: 0.993 - ETA: 27s - loss: 0.0123 - categorical_accuracy: 0.993 - ETA: 25s - loss: 0.0121 - categorical_accuracy: 0.994 - ETA: 24s - loss: 0.0119 - categorical_accuracy: 0.994 - ETA: 22s - loss: 0.0115 - categorical_accuracy: 0.994 - ETA: 21s - loss: 0.0111 - categorical_accuracy: 0.995 - ETA: 20s - loss: 0.0108 - categorical_accuracy: 0.995 - ETA: 19s - loss: 0.0105 - categorical_accuracy: 0.995 - ETA: 17s - loss: 0.0102 - categorical_accuracy: 0.995 - ETA: 16s - loss: 0.0100 - categorical_accuracy: 0.995 - ETA: 14s - loss: 0.0099 - categorical_accuracy: 0.996 - ETA: 13s - loss: 0.0097 - categorical_accuracy: 0.996 - ETA: 11s - loss: 0.0095 - categorical_accuracy: 0.996 - ETA: 10s - loss: 0.0093 - categorical_accuracy: 0.996 - ETA: 8s - loss: 0.0091 - categorical_accuracy: 0.996 - ETA: 7s - loss: 0.0090 - categorical_accuracy: 0.99 - ETA: 5s - loss: 0.0088 - categorical_accuracy: 0.99 - ETA: 4s - loss: 0.0086 - categorical_accuracy: 0.99 - ETA: 2s - loss: 0.0085 - categorical_accuracy: 0.99 - ETA: 1s - loss: 0.0083 - categorical_accuracy: 0.99 - 60s 173ms/step - loss: 0.0082 - categorical_accuracy: 0.9971 - val_loss: 0.0351 - val_categorical_accuracy: 0.9868\n",
      "Epoch 26/100\n",
      "349/349 [==============================] - ETA: 53s - loss: 0.0036 - categorical_accuracy: 1.000 - ETA: 56s - loss: 0.0034 - categorical_accuracy: 1.000 - ETA: 52s - loss: 0.0037 - categorical_accuracy: 1.000 - ETA: 50s - loss: 0.0039 - categorical_accuracy: 1.000 - ETA: 49s - loss: 0.0046 - categorical_accuracy: 1.000 - ETA: 48s - loss: 0.0045 - categorical_accuracy: 1.000 - ETA: 46s - loss: 0.0043 - categorical_accuracy: 1.000 - ETA: 45s - loss: 0.0045 - categorical_accuracy: 1.000 - ETA: 43s - loss: 0.0044 - categorical_accuracy: 1.000 - ETA: 42s - loss: 0.0043 - categorical_accuracy: 1.000 - ETA: 41s - loss: 0.0041 - categorical_accuracy: 1.000 - ETA: 39s - loss: 0.0043 - categorical_accuracy: 1.000 - ETA: 37s - loss: 0.0052 - categorical_accuracy: 1.000 - ETA: 36s - loss: 0.0051 - categorical_accuracy: 1.000 - ETA: 34s - loss: 0.0049 - categorical_accuracy: 1.000 - ETA: 32s - loss: 0.0049 - categorical_accuracy: 1.000 - ETA: 31s - loss: 0.0050 - categorical_accuracy: 1.000 - ETA: 29s - loss: 0.0049 - categorical_accuracy: 1.000 - ETA: 27s - loss: 0.0048 - categorical_accuracy: 1.000 - ETA: 25s - loss: 0.0049 - categorical_accuracy: 1.000 - ETA: 24s - loss: 0.0049 - categorical_accuracy: 1.000 - ETA: 22s - loss: 0.0048 - categorical_accuracy: 1.000 - ETA: 20s - loss: 0.0048 - categorical_accuracy: 1.000 - ETA: 18s - loss: 0.0047 - categorical_accuracy: 1.000 - ETA: 17s - loss: 0.0048 - categorical_accuracy: 1.000 - ETA: 15s - loss: 0.0047 - categorical_accuracy: 1.000 - ETA: 13s - loss: 0.0047 - categorical_accuracy: 1.000 - ETA: 11s - loss: 0.0047 - categorical_accuracy: 1.000 - ETA: 10s - loss: 0.0047 - categorical_accuracy: 1.000 - ETA: 8s - loss: 0.0046 - categorical_accuracy: 1.000 - ETA: 6s - loss: 0.0046 - categorical_accuracy: 1.00 - ETA: 4s - loss: 0.0046 - categorical_accuracy: 1.00 - ETA: 3s - loss: 0.0045 - categorical_accuracy: 1.00 - ETA: 1s - loss: 0.0045 - categorical_accuracy: 1.00 - 66s 189ms/step - loss: 0.0045 - categorical_accuracy: 1.0000 - val_loss: 0.0387 - val_categorical_accuracy: 0.9868\n",
      "Epoch 27/100\n",
      "349/349 [==============================] - ETA: 54s - loss: 0.0033 - categorical_accuracy: 1.000 - ETA: 52s - loss: 0.0034 - categorical_accuracy: 1.000 - ETA: 51s - loss: 0.0037 - categorical_accuracy: 1.000 - ETA: 48s - loss: 0.0035 - categorical_accuracy: 1.000 - ETA: 46s - loss: 0.0035 - categorical_accuracy: 1.000 - ETA: 45s - loss: 0.0035 - categorical_accuracy: 1.000 - ETA: 44s - loss: 0.0035 - categorical_accuracy: 1.000 - ETA: 42s - loss: 0.0034 - categorical_accuracy: 1.000 - ETA: 40s - loss: 0.0034 - categorical_accuracy: 1.000 - ETA: 39s - loss: 0.0034 - categorical_accuracy: 1.000 - ETA: 37s - loss: 0.0033 - categorical_accuracy: 1.000 - ETA: 35s - loss: 0.0033 - categorical_accuracy: 1.000 - ETA: 34s - loss: 0.0033 - categorical_accuracy: 1.000 - ETA: 32s - loss: 0.0044 - categorical_accuracy: 1.000 - ETA: 31s - loss: 0.0043 - categorical_accuracy: 1.000 - ETA: 29s - loss: 0.0044 - categorical_accuracy: 1.000 - ETA: 27s - loss: 0.0043 - categorical_accuracy: 1.000 - ETA: 26s - loss: 0.0042 - categorical_accuracy: 1.000 - ETA: 24s - loss: 0.0041 - categorical_accuracy: 1.000 - ETA: 23s - loss: 0.0042 - categorical_accuracy: 1.000 - ETA: 21s - loss: 0.0041 - categorical_accuracy: 1.000 - ETA: 20s - loss: 0.0041 - categorical_accuracy: 1.000 - ETA: 18s - loss: 0.0041 - categorical_accuracy: 1.000 - ETA: 17s - loss: 0.0041 - categorical_accuracy: 1.000 - ETA: 15s - loss: 0.0042 - categorical_accuracy: 1.000 - ETA: 13s - loss: 0.0042 - categorical_accuracy: 1.000 - ETA: 12s - loss: 0.0041 - categorical_accuracy: 1.000 - ETA: 10s - loss: 0.0041 - categorical_accuracy: 1.000 - ETA: 9s - loss: 0.0041 - categorical_accuracy: 1.000 - ETA: 7s - loss: 0.0040 - categorical_accuracy: 1.00 - ETA: 6s - loss: 0.0040 - categorical_accuracy: 1.00 - ETA: 4s - loss: 0.0039 - categorical_accuracy: 1.00 - ETA: 2s - loss: 0.0039 - categorical_accuracy: 1.00 - ETA: 1s - loss: 0.0039 - categorical_accuracy: 1.00 - 61s 176ms/step - loss: 0.0038 - categorical_accuracy: 1.0000 - val_loss: 0.0297 - val_categorical_accuracy: 0.9868\n"
     ]
    },
    {
     "name": "stdout",
     "output_type": "stream",
     "text": [
      "Epoch 28/100\n",
      "349/349 [==============================] - ETA: 54s - loss: 0.0055 - categorical_accuracy: 1.000 - ETA: 51s - loss: 0.0042 - categorical_accuracy: 1.000 - ETA: 49s - loss: 0.0034 - categorical_accuracy: 1.000 - ETA: 47s - loss: 0.0034 - categorical_accuracy: 1.000 - ETA: 46s - loss: 0.0034 - categorical_accuracy: 1.000 - ETA: 47s - loss: 0.0033 - categorical_accuracy: 1.000 - ETA: 45s - loss: 0.0035 - categorical_accuracy: 1.000 - ETA: 43s - loss: 0.0033 - categorical_accuracy: 1.000 - ETA: 41s - loss: 0.0033 - categorical_accuracy: 1.000 - ETA: 40s - loss: 0.0032 - categorical_accuracy: 1.000 - ETA: 38s - loss: 0.0032 - categorical_accuracy: 1.000 - ETA: 36s - loss: 0.0031 - categorical_accuracy: 1.000 - ETA: 35s - loss: 0.0031 - categorical_accuracy: 1.000 - ETA: 33s - loss: 0.0032 - categorical_accuracy: 1.000 - ETA: 32s - loss: 0.0031 - categorical_accuracy: 1.000 - ETA: 30s - loss: 0.0032 - categorical_accuracy: 1.000 - ETA: 28s - loss: 0.0033 - categorical_accuracy: 1.000 - ETA: 27s - loss: 0.0032 - categorical_accuracy: 1.000 - ETA: 25s - loss: 0.0032 - categorical_accuracy: 1.000 - ETA: 23s - loss: 0.0031 - categorical_accuracy: 1.000 - ETA: 22s - loss: 0.0031 - categorical_accuracy: 1.000 - ETA: 20s - loss: 0.0031 - categorical_accuracy: 1.000 - ETA: 19s - loss: 0.0031 - categorical_accuracy: 1.000 - ETA: 17s - loss: 0.0030 - categorical_accuracy: 1.000 - ETA: 15s - loss: 0.0030 - categorical_accuracy: 1.000 - ETA: 14s - loss: 0.0030 - categorical_accuracy: 1.000 - ETA: 12s - loss: 0.0030 - categorical_accuracy: 1.000 - ETA: 11s - loss: 0.0030 - categorical_accuracy: 1.000 - ETA: 9s - loss: 0.0030 - categorical_accuracy: 1.000 - ETA: 7s - loss: 0.0029 - categorical_accuracy: 1.00 - ETA: 6s - loss: 0.0029 - categorical_accuracy: 1.00 - ETA: 4s - loss: 0.0031 - categorical_accuracy: 1.00 - ETA: 3s - loss: 0.0074 - categorical_accuracy: 0.99 - ETA: 1s - loss: 0.0076 - categorical_accuracy: 0.99 - 63s 180ms/step - loss: 0.0083 - categorical_accuracy: 0.9971 - val_loss: 0.0483 - val_categorical_accuracy: 0.9735\n",
      "Epoch 29/100\n",
      "349/349 [==============================] - ETA: 50s - loss: 0.0084 - categorical_accuracy: 1.000 - ETA: 48s - loss: 0.0061 - categorical_accuracy: 1.000 - ETA: 47s - loss: 0.0071 - categorical_accuracy: 1.000 - ETA: 47s - loss: 0.0060 - categorical_accuracy: 1.000 - ETA: 47s - loss: 0.0052 - categorical_accuracy: 1.000 - ETA: 45s - loss: 0.0048 - categorical_accuracy: 1.000 - ETA: 43s - loss: 0.0056 - categorical_accuracy: 1.000 - ETA: 41s - loss: 0.0052 - categorical_accuracy: 1.000 - ETA: 40s - loss: 0.0048 - categorical_accuracy: 1.000 - ETA: 38s - loss: 0.0049 - categorical_accuracy: 1.000 - ETA: 37s - loss: 0.0046 - categorical_accuracy: 1.000 - ETA: 36s - loss: 0.0044 - categorical_accuracy: 1.000 - ETA: 34s - loss: 0.0042 - categorical_accuracy: 1.000 - ETA: 33s - loss: 0.0041 - categorical_accuracy: 1.000 - ETA: 31s - loss: 0.0041 - categorical_accuracy: 1.000 - ETA: 30s - loss: 0.0040 - categorical_accuracy: 1.000 - ETA: 28s - loss: 0.0039 - categorical_accuracy: 1.000 - ETA: 27s - loss: 0.0038 - categorical_accuracy: 1.000 - ETA: 25s - loss: 0.0037 - categorical_accuracy: 1.000 - ETA: 23s - loss: 0.0036 - categorical_accuracy: 1.000 - ETA: 22s - loss: 0.0036 - categorical_accuracy: 1.000 - ETA: 20s - loss: 0.0036 - categorical_accuracy: 1.000 - ETA: 19s - loss: 0.0035 - categorical_accuracy: 1.000 - ETA: 17s - loss: 0.0034 - categorical_accuracy: 1.000 - ETA: 15s - loss: 0.0034 - categorical_accuracy: 1.000 - ETA: 14s - loss: 0.0033 - categorical_accuracy: 1.000 - ETA: 12s - loss: 0.0033 - categorical_accuracy: 1.000 - ETA: 10s - loss: 0.0032 - categorical_accuracy: 1.000 - ETA: 9s - loss: 0.0032 - categorical_accuracy: 1.000 - ETA: 7s - loss: 0.0032 - categorical_accuracy: 1.00 - ETA: 6s - loss: 0.0032 - categorical_accuracy: 1.00 - ETA: 4s - loss: 0.0031 - categorical_accuracy: 1.00 - ETA: 3s - loss: 0.0031 - categorical_accuracy: 1.00 - ETA: 1s - loss: 0.0031 - categorical_accuracy: 1.00 - 63s 180ms/step - loss: 0.0031 - categorical_accuracy: 1.0000 - val_loss: 0.0441 - val_categorical_accuracy: 0.9868\n",
      "Epoch 30/100\n",
      "349/349 [==============================] - ETA: 50s - loss: 0.0019 - categorical_accuracy: 1.000 - ETA: 50s - loss: 0.0018 - categorical_accuracy: 1.000 - ETA: 50s - loss: 0.0021 - categorical_accuracy: 1.000 - ETA: 49s - loss: 0.0021 - categorical_accuracy: 1.000 - ETA: 47s - loss: 0.0022 - categorical_accuracy: 1.000 - ETA: 45s - loss: 0.0023 - categorical_accuracy: 1.000 - ETA: 43s - loss: 0.0023 - categorical_accuracy: 1.000 - ETA: 41s - loss: 0.0022 - categorical_accuracy: 1.000 - ETA: 40s - loss: 0.0022 - categorical_accuracy: 1.000 - ETA: 39s - loss: 0.0021 - categorical_accuracy: 1.000 - ETA: 37s - loss: 0.0021 - categorical_accuracy: 1.000 - ETA: 35s - loss: 0.0021 - categorical_accuracy: 1.000 - ETA: 34s - loss: 0.0021 - categorical_accuracy: 1.000 - ETA: 32s - loss: 0.0021 - categorical_accuracy: 1.000 - ETA: 31s - loss: 0.0021 - categorical_accuracy: 1.000 - ETA: 29s - loss: 0.0021 - categorical_accuracy: 1.000 - ETA: 28s - loss: 0.0021 - categorical_accuracy: 1.000 - ETA: 26s - loss: 0.0021 - categorical_accuracy: 1.000 - ETA: 24s - loss: 0.0021 - categorical_accuracy: 1.000 - ETA: 23s - loss: 0.0021 - categorical_accuracy: 1.000 - ETA: 21s - loss: 0.0021 - categorical_accuracy: 1.000 - ETA: 20s - loss: 0.0021 - categorical_accuracy: 1.000 - ETA: 18s - loss: 0.0021 - categorical_accuracy: 1.000 - ETA: 17s - loss: 0.0021 - categorical_accuracy: 1.000 - ETA: 15s - loss: 0.0021 - categorical_accuracy: 1.000 - ETA: 13s - loss: 0.0021 - categorical_accuracy: 1.000 - ETA: 12s - loss: 0.0020 - categorical_accuracy: 1.000 - ETA: 10s - loss: 0.0021 - categorical_accuracy: 1.000 - ETA: 9s - loss: 0.0021 - categorical_accuracy: 1.000 - ETA: 7s - loss: 0.0021 - categorical_accuracy: 1.00 - ETA: 6s - loss: 0.0021 - categorical_accuracy: 1.00 - ETA: 4s - loss: 0.0021 - categorical_accuracy: 1.00 - ETA: 2s - loss: 0.0021 - categorical_accuracy: 1.00 - ETA: 1s - loss: 0.0021 - categorical_accuracy: 1.00 - 62s 177ms/step - loss: 0.0021 - categorical_accuracy: 1.0000 - val_loss: 0.0432 - val_categorical_accuracy: 0.9801\n",
      "Epoch 31/100\n",
      "349/349 [==============================] - ETA: 1:08 - loss: 0.0021 - categorical_accuracy: 1.00 - ETA: 1:03 - loss: 0.0018 - categorical_accuracy: 1.00 - ETA: 57s - loss: 0.0017 - categorical_accuracy: 1.0000 - ETA: 54s - loss: 0.0018 - categorical_accuracy: 1.000 - ETA: 52s - loss: 0.0017 - categorical_accuracy: 1.000 - ETA: 49s - loss: 0.0017 - categorical_accuracy: 1.000 - ETA: 48s - loss: 0.0017 - categorical_accuracy: 1.000 - ETA: 45s - loss: 0.0018 - categorical_accuracy: 1.000 - ETA: 43s - loss: 0.0019 - categorical_accuracy: 1.000 - ETA: 41s - loss: 0.0021 - categorical_accuracy: 1.000 - ETA: 39s - loss: 0.0021 - categorical_accuracy: 1.000 - ETA: 37s - loss: 0.0021 - categorical_accuracy: 1.000 - ETA: 35s - loss: 0.0023 - categorical_accuracy: 1.000 - ETA: 33s - loss: 0.0023 - categorical_accuracy: 1.000 - ETA: 31s - loss: 0.0022 - categorical_accuracy: 1.000 - ETA: 30s - loss: 0.0022 - categorical_accuracy: 1.000 - ETA: 28s - loss: 0.0022 - categorical_accuracy: 1.000 - ETA: 26s - loss: 0.0021 - categorical_accuracy: 1.000 - ETA: 25s - loss: 0.0021 - categorical_accuracy: 1.000 - ETA: 23s - loss: 0.0021 - categorical_accuracy: 1.000 - ETA: 21s - loss: 0.0021 - categorical_accuracy: 1.000 - ETA: 20s - loss: 0.0021 - categorical_accuracy: 1.000 - ETA: 18s - loss: 0.0021 - categorical_accuracy: 1.000 - ETA: 17s - loss: 0.0021 - categorical_accuracy: 1.000 - ETA: 15s - loss: 0.0021 - categorical_accuracy: 1.000 - ETA: 13s - loss: 0.0020 - categorical_accuracy: 1.000 - ETA: 12s - loss: 0.0020 - categorical_accuracy: 1.000 - ETA: 10s - loss: 0.0021 - categorical_accuracy: 1.000 - ETA: 9s - loss: 0.0021 - categorical_accuracy: 1.000 - ETA: 7s - loss: 0.0020 - categorical_accuracy: 1.00 - ETA: 6s - loss: 0.0020 - categorical_accuracy: 1.00 - ETA: 4s - loss: 0.0020 - categorical_accuracy: 1.00 - ETA: 2s - loss: 0.0020 - categorical_accuracy: 1.00 - ETA: 1s - loss: 0.0020 - categorical_accuracy: 1.00 - 61s 174ms/step - loss: 0.0021 - categorical_accuracy: 1.0000 - val_loss: 0.0452 - val_categorical_accuracy: 0.9934\n"
     ]
    },
    {
     "name": "stdout",
     "output_type": "stream",
     "text": [
      "Epoch 32/100\n",
      "349/349 [==============================] - ETA: 49s - loss: 0.0026 - categorical_accuracy: 1.000 - ETA: 48s - loss: 0.0027 - categorical_accuracy: 1.000 - ETA: 48s - loss: 0.0023 - categorical_accuracy: 1.000 - ETA: 47s - loss: 0.0021 - categorical_accuracy: 1.000 - ETA: 46s - loss: 0.0020 - categorical_accuracy: 1.000 - ETA: 44s - loss: 0.0020 - categorical_accuracy: 1.000 - ETA: 42s - loss: 0.0021 - categorical_accuracy: 1.000 - ETA: 40s - loss: 0.0020 - categorical_accuracy: 1.000 - ETA: 39s - loss: 0.0019 - categorical_accuracy: 1.000 - ETA: 38s - loss: 0.0019 - categorical_accuracy: 1.000 - ETA: 36s - loss: 0.0018 - categorical_accuracy: 1.000 - ETA: 35s - loss: 0.0018 - categorical_accuracy: 1.000 - ETA: 33s - loss: 0.0018 - categorical_accuracy: 1.000 - ETA: 32s - loss: 0.0018 - categorical_accuracy: 1.000 - ETA: 31s - loss: 0.0018 - categorical_accuracy: 1.000 - ETA: 29s - loss: 0.0018 - categorical_accuracy: 1.000 - ETA: 28s - loss: 0.0019 - categorical_accuracy: 1.000 - ETA: 27s - loss: 0.0018 - categorical_accuracy: 1.000 - ETA: 25s - loss: 0.0018 - categorical_accuracy: 1.000 - ETA: 23s - loss: 0.0018 - categorical_accuracy: 1.000 - ETA: 22s - loss: 0.0018 - categorical_accuracy: 1.000 - ETA: 20s - loss: 0.0018 - categorical_accuracy: 1.000 - ETA: 18s - loss: 0.0018 - categorical_accuracy: 1.000 - ETA: 17s - loss: 0.0018 - categorical_accuracy: 1.000 - ETA: 15s - loss: 0.0018 - categorical_accuracy: 1.000 - ETA: 14s - loss: 0.0018 - categorical_accuracy: 1.000 - ETA: 12s - loss: 0.0018 - categorical_accuracy: 1.000 - ETA: 10s - loss: 0.0017 - categorical_accuracy: 1.000 - ETA: 9s - loss: 0.0017 - categorical_accuracy: 1.000 - ETA: 7s - loss: 0.0017 - categorical_accuracy: 1.00 - ETA: 6s - loss: 0.0017 - categorical_accuracy: 1.00 - ETA: 4s - loss: 0.0017 - categorical_accuracy: 1.00 - ETA: 3s - loss: 0.0017 - categorical_accuracy: 1.00 - ETA: 1s - loss: 0.0017 - categorical_accuracy: 1.00 - 63s 179ms/step - loss: 0.0017 - categorical_accuracy: 1.0000 - val_loss: 0.0366 - val_categorical_accuracy: 0.9868\n",
      "Epoch 33/100\n",
      "349/349 [==============================] - ETA: 48s - loss: 0.0017 - categorical_accuracy: 1.000 - ETA: 47s - loss: 0.0016 - categorical_accuracy: 1.000 - ETA: 46s - loss: 0.0015 - categorical_accuracy: 1.000 - ETA: 45s - loss: 0.0014 - categorical_accuracy: 1.000 - ETA: 43s - loss: 0.0014 - categorical_accuracy: 1.000 - ETA: 42s - loss: 0.0014 - categorical_accuracy: 1.000 - ETA: 40s - loss: 0.0014 - categorical_accuracy: 1.000 - ETA: 39s - loss: 0.0014 - categorical_accuracy: 1.000 - ETA: 37s - loss: 0.0014 - categorical_accuracy: 1.000 - ETA: 36s - loss: 0.0014 - categorical_accuracy: 1.000 - ETA: 35s - loss: 0.0014 - categorical_accuracy: 1.000 - ETA: 33s - loss: 0.0014 - categorical_accuracy: 1.000 - ETA: 32s - loss: 0.0014 - categorical_accuracy: 1.000 - ETA: 30s - loss: 0.0014 - categorical_accuracy: 1.000 - ETA: 29s - loss: 0.0014 - categorical_accuracy: 1.000 - ETA: 27s - loss: 0.0014 - categorical_accuracy: 1.000 - ETA: 26s - loss: 0.0015 - categorical_accuracy: 1.000 - ETA: 24s - loss: 0.0016 - categorical_accuracy: 1.000 - ETA: 23s - loss: 0.0016 - categorical_accuracy: 1.000 - ETA: 22s - loss: 0.0015 - categorical_accuracy: 1.000 - ETA: 20s - loss: 0.0016 - categorical_accuracy: 1.000 - ETA: 19s - loss: 0.0015 - categorical_accuracy: 1.000 - ETA: 17s - loss: 0.0016 - categorical_accuracy: 1.000 - ETA: 16s - loss: 0.0015 - categorical_accuracy: 1.000 - ETA: 14s - loss: 0.0015 - categorical_accuracy: 1.000 - ETA: 13s - loss: 0.0015 - categorical_accuracy: 1.000 - ETA: 11s - loss: 0.0015 - categorical_accuracy: 1.000 - ETA: 10s - loss: 0.0015 - categorical_accuracy: 1.000 - ETA: 8s - loss: 0.0015 - categorical_accuracy: 1.000 - ETA: 7s - loss: 0.0015 - categorical_accuracy: 1.00 - ETA: 5s - loss: 0.0015 - categorical_accuracy: 1.00 - ETA: 4s - loss: 0.0015 - categorical_accuracy: 1.00 - ETA: 2s - loss: 0.0015 - categorical_accuracy: 1.00 - ETA: 1s - loss: 0.0015 - categorical_accuracy: 1.00 - 60s 171ms/step - loss: 0.0015 - categorical_accuracy: 1.0000 - val_loss: 0.0407 - val_categorical_accuracy: 0.9868\n",
      "Epoch 34/100\n",
      "349/349 [==============================] - ETA: 50s - loss: 0.0015 - categorical_accuracy: 1.000 - ETA: 49s - loss: 0.0014 - categorical_accuracy: 1.000 - ETA: 47s - loss: 0.0013 - categorical_accuracy: 1.000 - ETA: 46s - loss: 0.0017 - categorical_accuracy: 1.000 - ETA: 44s - loss: 0.0017 - categorical_accuracy: 1.000 - ETA: 44s - loss: 0.0016 - categorical_accuracy: 1.000 - ETA: 42s - loss: 0.0016 - categorical_accuracy: 1.000 - ETA: 41s - loss: 0.0016 - categorical_accuracy: 1.000 - ETA: 39s - loss: 0.0016 - categorical_accuracy: 1.000 - ETA: 37s - loss: 0.0015 - categorical_accuracy: 1.000 - ETA: 36s - loss: 0.0015 - categorical_accuracy: 1.000 - ETA: 35s - loss: 0.0015 - categorical_accuracy: 1.000 - ETA: 33s - loss: 0.0015 - categorical_accuracy: 1.000 - ETA: 32s - loss: 0.0014 - categorical_accuracy: 1.000 - ETA: 30s - loss: 0.0014 - categorical_accuracy: 1.000 - ETA: 29s - loss: 0.0014 - categorical_accuracy: 1.000 - ETA: 27s - loss: 0.0015 - categorical_accuracy: 1.000 - ETA: 26s - loss: 0.0015 - categorical_accuracy: 1.000 - ETA: 24s - loss: 0.0015 - categorical_accuracy: 1.000 - ETA: 22s - loss: 0.0015 - categorical_accuracy: 1.000 - ETA: 21s - loss: 0.0015 - categorical_accuracy: 1.000 - ETA: 19s - loss: 0.0015 - categorical_accuracy: 1.000 - ETA: 18s - loss: 0.0014 - categorical_accuracy: 1.000 - ETA: 17s - loss: 0.0015 - categorical_accuracy: 1.000 - ETA: 15s - loss: 0.0014 - categorical_accuracy: 1.000 - ETA: 14s - loss: 0.0014 - categorical_accuracy: 1.000 - ETA: 12s - loss: 0.0014 - categorical_accuracy: 1.000 - ETA: 10s - loss: 0.0014 - categorical_accuracy: 1.000 - ETA: 9s - loss: 0.0014 - categorical_accuracy: 1.000 - ETA: 7s - loss: 0.0014 - categorical_accuracy: 1.00 - ETA: 6s - loss: 0.0014 - categorical_accuracy: 1.00 - ETA: 4s - loss: 0.0014 - categorical_accuracy: 1.00 - ETA: 3s - loss: 0.0014 - categorical_accuracy: 1.00 - ETA: 1s - loss: 0.0014 - categorical_accuracy: 1.00 - 64s 182ms/step - loss: 0.0013 - categorical_accuracy: 1.0000 - val_loss: 0.0467 - val_categorical_accuracy: 0.9934\n",
      "Epoch 35/100\n",
      "349/349 [==============================] - ETA: 50s - loss: 0.0014 - categorical_accuracy: 1.000 - ETA: 49s - loss: 0.0012 - categorical_accuracy: 1.000 - ETA: 50s - loss: 0.0012 - categorical_accuracy: 1.000 - ETA: 48s - loss: 0.0011 - categorical_accuracy: 1.000 - ETA: 46s - loss: 0.0013 - categorical_accuracy: 1.000 - ETA: 45s - loss: 0.0012 - categorical_accuracy: 1.000 - ETA: 43s - loss: 0.0012 - categorical_accuracy: 1.000 - ETA: 41s - loss: 0.0012 - categorical_accuracy: 1.000 - ETA: 40s - loss: 0.0011 - categorical_accuracy: 1.000 - ETA: 38s - loss: 0.0012 - categorical_accuracy: 1.000 - ETA: 37s - loss: 0.0012 - categorical_accuracy: 1.000 - ETA: 35s - loss: 0.0012 - categorical_accuracy: 1.000 - ETA: 34s - loss: 0.0012 - categorical_accuracy: 1.000 - ETA: 32s - loss: 0.0012 - categorical_accuracy: 1.000 - ETA: 30s - loss: 0.0012 - categorical_accuracy: 1.000 - ETA: 29s - loss: 0.0012 - categorical_accuracy: 1.000 - ETA: 28s - loss: 0.0012 - categorical_accuracy: 1.000 - ETA: 26s - loss: 0.0012 - categorical_accuracy: 1.000 - ETA: 24s - loss: 0.0012 - categorical_accuracy: 1.000 - ETA: 23s - loss: 0.0012 - categorical_accuracy: 1.000 - ETA: 21s - loss: 0.0012 - categorical_accuracy: 1.000 - ETA: 20s - loss: 0.0012 - categorical_accuracy: 1.000 - ETA: 18s - loss: 0.0011 - categorical_accuracy: 1.000 - ETA: 17s - loss: 0.0011 - categorical_accuracy: 1.000 - ETA: 15s - loss: 0.0011 - categorical_accuracy: 1.000 - ETA: 14s - loss: 0.0011 - categorical_accuracy: 1.000 - ETA: 12s - loss: 0.0011 - categorical_accuracy: 1.000 - ETA: 10s - loss: 0.0011 - categorical_accuracy: 1.000 - ETA: 9s - loss: 0.0011 - categorical_accuracy: 1.000 - ETA: 7s - loss: 0.0011 - categorical_accuracy: 1.00 - ETA: 6s - loss: 0.0011 - categorical_accuracy: 1.00 - ETA: 4s - loss: 0.0011 - categorical_accuracy: 1.00 - ETA: 3s - loss: 0.0011 - categorical_accuracy: 1.00 - ETA: 1s - loss: 0.0011 - categorical_accuracy: 1.00 - 62s 178ms/step - loss: 0.0011 - categorical_accuracy: 1.0000 - val_loss: 0.0541 - val_categorical_accuracy: 0.9868\n"
     ]
    },
    {
     "name": "stdout",
     "output_type": "stream",
     "text": [
      "Epoch 36/100\n",
      "349/349 [==============================] - ETA: 51s - loss: 9.9467e-04 - categorical_accuracy: 1.000 - ETA: 51s - loss: 9.8941e-04 - categorical_accuracy: 1.000 - ETA: 51s - loss: 0.0010 - categorical_accuracy: 1.0000    - ETA: 48s - loss: 9.8742e-04 - categorical_accuracy: 1.000 - ETA: 46s - loss: 0.0010 - categorical_accuracy: 1.0000    - ETA: 45s - loss: 9.9419e-04 - categorical_accuracy: 1.000 - ETA: 43s - loss: 9.7986e-04 - categorical_accuracy: 1.000 - ETA: 41s - loss: 9.6894e-04 - categorical_accuracy: 1.000 - ETA: 40s - loss: 9.5951e-04 - categorical_accuracy: 1.000 - ETA: 39s - loss: 9.5543e-04 - categorical_accuracy: 1.000 - ETA: 37s - loss: 9.4154e-04 - categorical_accuracy: 1.000 - ETA: 35s - loss: 9.3965e-04 - categorical_accuracy: 1.000 - ETA: 34s - loss: 9.9463e-04 - categorical_accuracy: 1.000 - ETA: 32s - loss: 9.8907e-04 - categorical_accuracy: 1.000 - ETA: 31s - loss: 0.0010 - categorical_accuracy: 1.0000    - ETA: 29s - loss: 0.0010 - categorical_accuracy: 1.000 - ETA: 28s - loss: 0.0010 - categorical_accuracy: 1.000 - ETA: 26s - loss: 0.0010 - categorical_accuracy: 1.000 - ETA: 24s - loss: 0.0011 - categorical_accuracy: 1.000 - ETA: 23s - loss: 0.0010 - categorical_accuracy: 1.000 - ETA: 21s - loss: 0.0011 - categorical_accuracy: 1.000 - ETA: 20s - loss: 0.0011 - categorical_accuracy: 1.000 - ETA: 18s - loss: 0.0011 - categorical_accuracy: 1.000 - ETA: 17s - loss: 0.0011 - categorical_accuracy: 1.000 - ETA: 15s - loss: 0.0011 - categorical_accuracy: 1.000 - ETA: 13s - loss: 0.0010 - categorical_accuracy: 1.000 - ETA: 12s - loss: 0.0010 - categorical_accuracy: 1.000 - ETA: 10s - loss: 0.0010 - categorical_accuracy: 1.000 - ETA: 9s - loss: 0.0010 - categorical_accuracy: 1.000 - ETA: 7s - loss: 0.0010 - categorical_accuracy: 1.00 - ETA: 6s - loss: 0.0010 - categorical_accuracy: 1.00 - ETA: 4s - loss: 0.0010 - categorical_accuracy: 1.00 - ETA: 2s - loss: 0.0010 - categorical_accuracy: 1.00 - ETA: 1s - loss: 0.0010 - categorical_accuracy: 1.00 - 62s 176ms/step - loss: 0.0010 - categorical_accuracy: 1.0000 - val_loss: 0.0534 - val_categorical_accuracy: 0.9868\n",
      "Epoch 37/100\n",
      "349/349 [==============================] - ETA: 53s - loss: 8.9359e-04 - categorical_accuracy: 1.000 - ETA: 54s - loss: 8.3262e-04 - categorical_accuracy: 1.000 - ETA: 52s - loss: 8.5035e-04 - categorical_accuracy: 1.000 - ETA: 49s - loss: 8.5213e-04 - categorical_accuracy: 1.000 - ETA: 48s - loss: 8.3012e-04 - categorical_accuracy: 1.000 - ETA: 46s - loss: 8.4754e-04 - categorical_accuracy: 1.000 - ETA: 45s - loss: 8.5995e-04 - categorical_accuracy: 1.000 - ETA: 44s - loss: 8.4215e-04 - categorical_accuracy: 1.000 - ETA: 42s - loss: 8.2451e-04 - categorical_accuracy: 1.000 - ETA: 40s - loss: 8.6674e-04 - categorical_accuracy: 1.000 - ETA: 38s - loss: 8.5204e-04 - categorical_accuracy: 1.000 - ETA: 36s - loss: 8.4143e-04 - categorical_accuracy: 1.000 - ETA: 35s - loss: 8.2233e-04 - categorical_accuracy: 1.000 - ETA: 33s - loss: 8.1738e-04 - categorical_accuracy: 1.000 - ETA: 32s - loss: 8.0542e-04 - categorical_accuracy: 1.000 - ETA: 30s - loss: 7.9945e-04 - categorical_accuracy: 1.000 - ETA: 28s - loss: 8.1991e-04 - categorical_accuracy: 1.000 - ETA: 27s - loss: 8.0886e-04 - categorical_accuracy: 1.000 - ETA: 25s - loss: 8.1025e-04 - categorical_accuracy: 1.000 - ETA: 23s - loss: 8.0367e-04 - categorical_accuracy: 1.000 - ETA: 22s - loss: 7.9218e-04 - categorical_accuracy: 1.000 - ETA: 20s - loss: 8.0078e-04 - categorical_accuracy: 1.000 - ETA: 18s - loss: 7.9320e-04 - categorical_accuracy: 1.000 - ETA: 17s - loss: 7.8627e-04 - categorical_accuracy: 1.000 - ETA: 15s - loss: 8.2264e-04 - categorical_accuracy: 1.000 - ETA: 14s - loss: 8.3152e-04 - categorical_accuracy: 1.000 - ETA: 12s - loss: 8.2660e-04 - categorical_accuracy: 1.000 - ETA: 10s - loss: 9.0805e-04 - categorical_accuracy: 1.000 - ETA: 9s - loss: 9.0316e-04 - categorical_accuracy: 1.000 - ETA: 7s - loss: 8.8982e-04 - categorical_accuracy: 1.00 - ETA: 6s - loss: 9.1593e-04 - categorical_accuracy: 1.00 - ETA: 4s - loss: 9.1604e-04 - categorical_accuracy: 1.00 - ETA: 3s - loss: 9.0947e-04 - categorical_accuracy: 1.00 - ETA: 1s - loss: 9.0480e-04 - categorical_accuracy: 1.00 - 62s 178ms/step - loss: 8.9733e-04 - categorical_accuracy: 1.0000 - val_loss: 0.0501 - val_categorical_accuracy: 0.9868\n",
      "Epoch 38/100\n",
      "349/349 [==============================] - ETA: 56s - loss: 7.3776e-04 - categorical_accuracy: 1.000 - ETA: 52s - loss: 7.7722e-04 - categorical_accuracy: 1.000 - ETA: 49s - loss: 7.1806e-04 - categorical_accuracy: 1.000 - ETA: 47s - loss: 7.6134e-04 - categorical_accuracy: 1.000 - ETA: 45s - loss: 7.3363e-04 - categorical_accuracy: 1.000 - ETA: 44s - loss: 7.6855e-04 - categorical_accuracy: 1.000 - ETA: 43s - loss: 7.8174e-04 - categorical_accuracy: 1.000 - ETA: 42s - loss: 7.8153e-04 - categorical_accuracy: 1.000 - ETA: 40s - loss: 7.8964e-04 - categorical_accuracy: 1.000 - ETA: 38s - loss: 7.7892e-04 - categorical_accuracy: 1.000 - ETA: 37s - loss: 7.7722e-04 - categorical_accuracy: 1.000 - ETA: 35s - loss: 7.7625e-04 - categorical_accuracy: 1.000 - ETA: 34s - loss: 7.9221e-04 - categorical_accuracy: 1.000 - ETA: 32s - loss: 7.8979e-04 - categorical_accuracy: 1.000 - ETA: 31s - loss: 7.8642e-04 - categorical_accuracy: 1.000 - ETA: 29s - loss: 7.8001e-04 - categorical_accuracy: 1.000 - ETA: 28s - loss: 7.7204e-04 - categorical_accuracy: 1.000 - ETA: 26s - loss: 7.6155e-04 - categorical_accuracy: 1.000 - ETA: 25s - loss: 7.6075e-04 - categorical_accuracy: 1.000 - ETA: 23s - loss: 7.8266e-04 - categorical_accuracy: 1.000 - ETA: 21s - loss: 7.7901e-04 - categorical_accuracy: 1.000 - ETA: 20s - loss: 7.8051e-04 - categorical_accuracy: 1.000 - ETA: 18s - loss: 7.8119e-04 - categorical_accuracy: 1.000 - ETA: 17s - loss: 7.8342e-04 - categorical_accuracy: 1.000 - ETA: 15s - loss: 7.8491e-04 - categorical_accuracy: 1.000 - ETA: 14s - loss: 7.8146e-04 - categorical_accuracy: 1.000 - ETA: 12s - loss: 7.7875e-04 - categorical_accuracy: 1.000 - ETA: 10s - loss: 7.7295e-04 - categorical_accuracy: 1.000 - ETA: 9s - loss: 7.7141e-04 - categorical_accuracy: 1.000 - ETA: 7s - loss: 7.7011e-04 - categorical_accuracy: 1.00 - ETA: 6s - loss: 7.7546e-04 - categorical_accuracy: 1.00 - ETA: 4s - loss: 7.7652e-04 - categorical_accuracy: 1.00 - ETA: 2s - loss: 7.7157e-04 - categorical_accuracy: 1.00 - ETA: 1s - loss: 7.7031e-04 - categorical_accuracy: 1.00 - 62s 177ms/step - loss: 7.6535e-04 - categorical_accuracy: 1.0000 - val_loss: 0.0530 - val_categorical_accuracy: 0.9868\n",
      "Epoch 39/100\n",
      "349/349 [==============================] - ETA: 53s - loss: 5.2523e-04 - categorical_accuracy: 1.000 - ETA: 52s - loss: 6.0054e-04 - categorical_accuracy: 1.000 - ETA: 50s - loss: 5.8128e-04 - categorical_accuracy: 1.000 - ETA: 48s - loss: 5.8781e-04 - categorical_accuracy: 1.000 - ETA: 47s - loss: 7.0535e-04 - categorical_accuracy: 1.000 - ETA: 45s - loss: 7.0374e-04 - categorical_accuracy: 1.000 - ETA: 44s - loss: 6.7527e-04 - categorical_accuracy: 1.000 - ETA: 42s - loss: 6.5941e-04 - categorical_accuracy: 1.000 - ETA: 41s - loss: 6.5750e-04 - categorical_accuracy: 1.000 - ETA: 39s - loss: 6.6347e-04 - categorical_accuracy: 1.000 - ETA: 37s - loss: 6.6786e-04 - categorical_accuracy: 1.000 - ETA: 36s - loss: 6.9782e-04 - categorical_accuracy: 1.000 - ETA: 35s - loss: 7.0880e-04 - categorical_accuracy: 1.000 - ETA: 33s - loss: 6.9683e-04 - categorical_accuracy: 1.000 - ETA: 31s - loss: 6.8744e-04 - categorical_accuracy: 1.000 - ETA: 29s - loss: 6.8983e-04 - categorical_accuracy: 1.000 - ETA: 27s - loss: 6.8477e-04 - categorical_accuracy: 1.000 - ETA: 26s - loss: 6.9298e-04 - categorical_accuracy: 1.000 - ETA: 24s - loss: 6.9782e-04 - categorical_accuracy: 1.000 - ETA: 22s - loss: 7.0010e-04 - categorical_accuracy: 1.000 - ETA: 21s - loss: 7.0169e-04 - categorical_accuracy: 1.000 - ETA: 19s - loss: 7.0197e-04 - categorical_accuracy: 1.000 - ETA: 17s - loss: 6.9847e-04 - categorical_accuracy: 1.000 - ETA: 16s - loss: 6.9491e-04 - categorical_accuracy: 1.000 - ETA: 14s - loss: 7.1400e-04 - categorical_accuracy: 1.000 - ETA: 13s - loss: 7.0447e-04 - categorical_accuracy: 1.000 - ETA: 11s - loss: 7.0168e-04 - categorical_accuracy: 1.000 - ETA: 10s - loss: 7.0525e-04 - categorical_accuracy: 1.000 - ETA: 8s - loss: 7.0313e-04 - categorical_accuracy: 1.000 - ETA: 7s - loss: 7.0511e-04 - categorical_accuracy: 1.00 - ETA: 5s - loss: 7.0555e-04 - categorical_accuracy: 1.00 - ETA: 4s - loss: 7.0344e-04 - categorical_accuracy: 1.00 - ETA: 2s - loss: 7.0574e-04 - categorical_accuracy: 1.00 - ETA: 1s - loss: 7.0821e-04 - categorical_accuracy: 1.00 - 56s 162ms/step - loss: 7.0678e-04 - categorical_accuracy: 1.0000 - val_loss: 0.0495 - val_categorical_accuracy: 0.9868\n",
      "Epoch 40/100\n",
      "349/349 [==============================] - ETA: 44s - loss: 5.8660e-04 - categorical_accuracy: 1.000 - ETA: 43s - loss: 6.7688e-04 - categorical_accuracy: 1.000 - ETA: 42s - loss: 7.1117e-04 - categorical_accuracy: 1.000 - ETA: 40s - loss: 7.1598e-04 - categorical_accuracy: 1.000 - ETA: 39s - loss: 6.8954e-04 - categorical_accuracy: 1.000 - ETA: 38s - loss: 6.7287e-04 - categorical_accuracy: 1.000 - ETA: 36s - loss: 6.5423e-04 - categorical_accuracy: 1.000 - ETA: 35s - loss: 6.5091e-04 - categorical_accuracy: 1.000 - ETA: 34s - loss: 6.4173e-04 - categorical_accuracy: 1.000 - ETA: 33s - loss: 6.3197e-04 - categorical_accuracy: 1.000 - ETA: 31s - loss: 6.1986e-04 - categorical_accuracy: 1.000 - ETA: 30s - loss: 6.1854e-04 - categorical_accuracy: 1.000 - ETA: 29s - loss: 6.3186e-04 - categorical_accuracy: 1.000 - ETA: 27s - loss: 6.1980e-04 - categorical_accuracy: 1.000 - ETA: 27s - loss: 6.1517e-04 - categorical_accuracy: 1.000 - ETA: 26s - loss: 6.2206e-04 - categorical_accuracy: 1.000 - ETA: 24s - loss: 6.1791e-04 - categorical_accuracy: 1.000 - ETA: 23s - loss: 6.1165e-04 - categorical_accuracy: 1.000 - ETA: 22s - loss: 6.0923e-04 - categorical_accuracy: 1.000 - ETA: 21s - loss: 6.1022e-04 - categorical_accuracy: 1.000 - ETA: 20s - loss: 6.0922e-04 - categorical_accuracy: 1.000 - ETA: 18s - loss: 6.0283e-04 - categorical_accuracy: 1.000 - ETA: 17s - loss: 6.0173e-04 - categorical_accuracy: 1.000 - ETA: 16s - loss: 6.0304e-04 - categorical_accuracy: 1.000 - ETA: 14s - loss: 6.0509e-04 - categorical_accuracy: 1.000 - ETA: 13s - loss: 6.1360e-04 - categorical_accuracy: 1.000 - ETA: 11s - loss: 6.0830e-04 - categorical_accuracy: 1.000 - ETA: 10s - loss: 6.0871e-04 - categorical_accuracy: 1.000 - ETA: 8s - loss: 6.0922e-04 - categorical_accuracy: 1.000 - ETA: 7s - loss: 6.0463e-04 - categorical_accuracy: 1.00 - ETA: 5s - loss: 6.0412e-04 - categorical_accuracy: 1.00 - ETA: 4s - loss: 6.0704e-04 - categorical_accuracy: 1.00 - ETA: 2s - loss: 6.0605e-04 - categorical_accuracy: 1.00 - ETA: 1s - loss: 6.0451e-04 - categorical_accuracy: 1.00 - 61s 176ms/step - loss: 6.0226e-04 - categorical_accuracy: 1.0000 - val_loss: 0.0515 - val_categorical_accuracy: 0.9868\n",
      "Epoch 41/100\n",
      "349/349 [==============================] - ETA: 54s - loss: 5.5382e-04 - categorical_accuracy: 1.000 - ETA: 53s - loss: 5.8592e-04 - categorical_accuracy: 1.000 - ETA: 51s - loss: 5.4935e-04 - categorical_accuracy: 1.000 - ETA: 51s - loss: 5.3511e-04 - categorical_accuracy: 1.000 - ETA: 50s - loss: 6.7947e-04 - categorical_accuracy: 1.000 - ETA: 48s - loss: 6.5516e-04 - categorical_accuracy: 1.000 - ETA: 46s - loss: 6.5245e-04 - categorical_accuracy: 1.000 - ETA: 44s - loss: 6.4560e-04 - categorical_accuracy: 1.000 - ETA: 43s - loss: 6.4118e-04 - categorical_accuracy: 1.000 - ETA: 41s - loss: 6.4871e-04 - categorical_accuracy: 1.000 - ETA: 40s - loss: 6.5162e-04 - categorical_accuracy: 1.000 - ETA: 38s - loss: 6.3550e-04 - categorical_accuracy: 1.000 - ETA: 36s - loss: 6.2658e-04 - categorical_accuracy: 1.000 - ETA: 34s - loss: 6.1679e-04 - categorical_accuracy: 1.000 - ETA: 33s - loss: 6.1527e-04 - categorical_accuracy: 1.000 - ETA: 31s - loss: 6.6789e-04 - categorical_accuracy: 1.000 - ETA: 30s - loss: 6.6126e-04 - categorical_accuracy: 1.000 - ETA: 28s - loss: 6.5542e-04 - categorical_accuracy: 1.000 - ETA: 26s - loss: 6.5676e-04 - categorical_accuracy: 1.000 - ETA: 25s - loss: 6.4947e-04 - categorical_accuracy: 1.000 - ETA: 23s - loss: 6.4241e-04 - categorical_accuracy: 1.000 - ETA: 21s - loss: 6.4583e-04 - categorical_accuracy: 1.000 - ETA: 20s - loss: 6.4329e-04 - categorical_accuracy: 1.000 - ETA: 18s - loss: 6.4975e-04 - categorical_accuracy: 1.000 - ETA: 16s - loss: 6.4552e-04 - categorical_accuracy: 1.000 - ETA: 14s - loss: 6.4510e-04 - categorical_accuracy: 1.000 - ETA: 13s - loss: 6.3985e-04 - categorical_accuracy: 1.000 - ETA: 11s - loss: 6.3843e-04 - categorical_accuracy: 1.000 - ETA: 9s - loss: 6.3542e-04 - categorical_accuracy: 1.000 - ETA: 8s - loss: 6.3196e-04 - categorical_accuracy: 1.00 - ETA: 6s - loss: 6.2929e-04 - categorical_accuracy: 1.00 - ETA: 4s - loss: 6.2745e-04 - categorical_accuracy: 1.00 - ETA: 3s - loss: 6.2373e-04 - categorical_accuracy: 1.00 - ETA: 1s - loss: 6.2061e-04 - categorical_accuracy: 1.00 - 67s 191ms/step - loss: 6.1737e-04 - categorical_accuracy: 1.0000 - val_loss: 0.0523 - val_categorical_accuracy: 0.9868\n",
      "Epoch 42/100\n"
     ]
    },
    {
     "name": "stdout",
     "output_type": "stream",
     "text": [
      "349/349 [==============================] - ETA: 1:02 - loss: 5.1785e-04 - categorical_accuracy: 1.00 - ETA: 56s - loss: 5.1436e-04 - categorical_accuracy: 1.0000 - ETA: 54s - loss: 5.1617e-04 - categorical_accuracy: 1.000 - ETA: 52s - loss: 5.2621e-04 - categorical_accuracy: 1.000 - ETA: 51s - loss: 5.6777e-04 - categorical_accuracy: 1.000 - ETA: 49s - loss: 5.5663e-04 - categorical_accuracy: 1.000 - ETA: 47s - loss: 5.7652e-04 - categorical_accuracy: 1.000 - ETA: 45s - loss: 5.9064e-04 - categorical_accuracy: 1.000 - ETA: 43s - loss: 5.6732e-04 - categorical_accuracy: 1.000 - ETA: 41s - loss: 5.5402e-04 - categorical_accuracy: 1.000 - ETA: 39s - loss: 5.5523e-04 - categorical_accuracy: 1.000 - ETA: 37s - loss: 5.5272e-04 - categorical_accuracy: 1.000 - ETA: 35s - loss: 5.4438e-04 - categorical_accuracy: 1.000 - ETA: 33s - loss: 5.4034e-04 - categorical_accuracy: 1.000 - ETA: 31s - loss: 5.4212e-04 - categorical_accuracy: 1.000 - ETA: 30s - loss: 5.3779e-04 - categorical_accuracy: 1.000 - ETA: 28s - loss: 5.3052e-04 - categorical_accuracy: 1.000 - ETA: 26s - loss: 5.2785e-04 - categorical_accuracy: 1.000 - ETA: 25s - loss: 5.2564e-04 - categorical_accuracy: 1.000 - ETA: 23s - loss: 5.2167e-04 - categorical_accuracy: 1.000 - ETA: 22s - loss: 5.2205e-04 - categorical_accuracy: 1.000 - ETA: 20s - loss: 5.1577e-04 - categorical_accuracy: 1.000 - ETA: 18s - loss: 5.1448e-04 - categorical_accuracy: 1.000 - ETA: 17s - loss: 5.1480e-04 - categorical_accuracy: 1.000 - ETA: 15s - loss: 5.2482e-04 - categorical_accuracy: 1.000 - ETA: 14s - loss: 5.2323e-04 - categorical_accuracy: 1.000 - ETA: 12s - loss: 5.2661e-04 - categorical_accuracy: 1.000 - ETA: 10s - loss: 5.4288e-04 - categorical_accuracy: 1.000 - ETA: 9s - loss: 5.4337e-04 - categorical_accuracy: 1.000 - ETA: 7s - loss: 5.4377e-04 - categorical_accuracy: 1.00 - ETA: 6s - loss: 5.4058e-04 - categorical_accuracy: 1.00 - ETA: 4s - loss: 5.3603e-04 - categorical_accuracy: 1.00 - ETA: 2s - loss: 5.3404e-04 - categorical_accuracy: 1.00 - ETA: 1s - loss: 5.3297e-04 - categorical_accuracy: 1.00 - 62s 177ms/step - loss: 5.3143e-04 - categorical_accuracy: 1.0000 - val_loss: 0.0515 - val_categorical_accuracy: 0.9934\n",
      "Epoch 43/100\n",
      "349/349 [==============================] - ETA: 52s - loss: 9.8379e-04 - categorical_accuracy: 1.000 - ETA: 53s - loss: 7.3976e-04 - categorical_accuracy: 1.000 - ETA: 51s - loss: 6.2403e-04 - categorical_accuracy: 1.000 - ETA: 49s - loss: 6.0442e-04 - categorical_accuracy: 1.000 - ETA: 47s - loss: 5.5481e-04 - categorical_accuracy: 1.000 - ETA: 45s - loss: 5.4369e-04 - categorical_accuracy: 1.000 - ETA: 43s - loss: 5.5056e-04 - categorical_accuracy: 1.000 - ETA: 42s - loss: 5.5527e-04 - categorical_accuracy: 1.000 - ETA: 41s - loss: 5.4453e-04 - categorical_accuracy: 1.000 - ETA: 39s - loss: 5.3103e-04 - categorical_accuracy: 1.000 - ETA: 37s - loss: 5.1805e-04 - categorical_accuracy: 1.000 - ETA: 36s - loss: 5.8402e-04 - categorical_accuracy: 1.000 - ETA: 34s - loss: 5.8003e-04 - categorical_accuracy: 1.000 - ETA: 33s - loss: 5.8670e-04 - categorical_accuracy: 1.000 - ETA: 31s - loss: 5.7995e-04 - categorical_accuracy: 1.000 - ETA: 29s - loss: 5.8145e-04 - categorical_accuracy: 1.000 - ETA: 28s - loss: 5.7267e-04 - categorical_accuracy: 1.000 - ETA: 26s - loss: 5.5854e-04 - categorical_accuracy: 1.000 - ETA: 25s - loss: 5.5753e-04 - categorical_accuracy: 1.000 - ETA: 23s - loss: 5.6710e-04 - categorical_accuracy: 1.000 - ETA: 22s - loss: 5.8115e-04 - categorical_accuracy: 1.000 - ETA: 20s - loss: 5.7267e-04 - categorical_accuracy: 1.000 - ETA: 18s - loss: 5.7147e-04 - categorical_accuracy: 1.000 - ETA: 17s - loss: 5.6846e-04 - categorical_accuracy: 1.000 - ETA: 15s - loss: 5.6831e-04 - categorical_accuracy: 1.000 - ETA: 14s - loss: 5.6501e-04 - categorical_accuracy: 1.000 - ETA: 12s - loss: 5.6309e-04 - categorical_accuracy: 1.000 - ETA: 10s - loss: 5.5732e-04 - categorical_accuracy: 1.000 - ETA: 9s - loss: 5.5431e-04 - categorical_accuracy: 1.000 - ETA: 7s - loss: 5.5196e-04 - categorical_accuracy: 1.00 - ETA: 6s - loss: 5.4766e-04 - categorical_accuracy: 1.00 - ETA: 4s - loss: 5.4343e-04 - categorical_accuracy: 1.00 - ETA: 2s - loss: 5.3947e-04 - categorical_accuracy: 1.00 - ETA: 1s - loss: 5.3441e-04 - categorical_accuracy: 1.00 - 62s 177ms/step - loss: 5.3540e-04 - categorical_accuracy: 1.0000 - val_loss: 0.0539 - val_categorical_accuracy: 0.9868\n",
      "Epoch 44/100\n",
      "349/349 [==============================] - ETA: 57s - loss: 4.1735e-04 - categorical_accuracy: 1.000 - ETA: 53s - loss: 4.3305e-04 - categorical_accuracy: 1.000 - ETA: 51s - loss: 4.2962e-04 - categorical_accuracy: 1.000 - ETA: 48s - loss: 4.6232e-04 - categorical_accuracy: 1.000 - ETA: 46s - loss: 5.1466e-04 - categorical_accuracy: 1.000 - ETA: 45s - loss: 4.9573e-04 - categorical_accuracy: 1.000 - ETA: 44s - loss: 5.3697e-04 - categorical_accuracy: 1.000 - ETA: 42s - loss: 5.6042e-04 - categorical_accuracy: 1.000 - ETA: 40s - loss: 5.5140e-04 - categorical_accuracy: 1.000 - ETA: 39s - loss: 5.3677e-04 - categorical_accuracy: 1.000 - ETA: 37s - loss: 5.2775e-04 - categorical_accuracy: 1.000 - ETA: 35s - loss: 5.3138e-04 - categorical_accuracy: 1.000 - ETA: 34s - loss: 5.3647e-04 - categorical_accuracy: 1.000 - ETA: 33s - loss: 5.2887e-04 - categorical_accuracy: 1.000 - ETA: 31s - loss: 5.2096e-04 - categorical_accuracy: 1.000 - ETA: 29s - loss: 5.3458e-04 - categorical_accuracy: 1.000 - ETA: 28s - loss: 5.2876e-04 - categorical_accuracy: 1.000 - ETA: 26s - loss: 5.2340e-04 - categorical_accuracy: 1.000 - ETA: 24s - loss: 5.1992e-04 - categorical_accuracy: 1.000 - ETA: 23s - loss: 5.1070e-04 - categorical_accuracy: 1.000 - ETA: 21s - loss: 5.0723e-04 - categorical_accuracy: 1.000 - ETA: 20s - loss: 5.0314e-04 - categorical_accuracy: 1.000 - ETA: 18s - loss: 5.0172e-04 - categorical_accuracy: 1.000 - ETA: 17s - loss: 4.9732e-04 - categorical_accuracy: 1.000 - ETA: 15s - loss: 4.9279e-04 - categorical_accuracy: 1.000 - ETA: 14s - loss: 4.8836e-04 - categorical_accuracy: 1.000 - ETA: 12s - loss: 4.8536e-04 - categorical_accuracy: 1.000 - ETA: 10s - loss: 4.8572e-04 - categorical_accuracy: 1.000 - ETA: 9s - loss: 4.8205e-04 - categorical_accuracy: 1.000 - ETA: 7s - loss: 4.8163e-04 - categorical_accuracy: 1.00 - ETA: 6s - loss: 4.7831e-04 - categorical_accuracy: 1.00 - ETA: 4s - loss: 4.7754e-04 - categorical_accuracy: 1.00 - ETA: 3s - loss: 4.8136e-04 - categorical_accuracy: 1.00 - ETA: 1s - loss: 4.7918e-04 - categorical_accuracy: 1.00 - 62s 178ms/step - loss: 4.7642e-04 - categorical_accuracy: 1.0000 - val_loss: 0.0556 - val_categorical_accuracy: 0.9868\n",
      "Epoch 45/100\n",
      "349/349 [==============================] - ETA: 52s - loss: 4.3125e-04 - categorical_accuracy: 1.000 - ETA: 50s - loss: 4.7110e-04 - categorical_accuracy: 1.000 - ETA: 49s - loss: 4.2852e-04 - categorical_accuracy: 1.000 - ETA: 47s - loss: 4.1103e-04 - categorical_accuracy: 1.000 - ETA: 46s - loss: 4.1572e-04 - categorical_accuracy: 1.000 - ETA: 44s - loss: 4.1470e-04 - categorical_accuracy: 1.000 - ETA: 43s - loss: 4.2941e-04 - categorical_accuracy: 1.000 - ETA: 41s - loss: 4.2674e-04 - categorical_accuracy: 1.000 - ETA: 40s - loss: 5.2084e-04 - categorical_accuracy: 1.000 - ETA: 38s - loss: 5.1607e-04 - categorical_accuracy: 1.000 - ETA: 37s - loss: 5.0071e-04 - categorical_accuracy: 1.000 - ETA: 36s - loss: 4.8848e-04 - categorical_accuracy: 1.000 - ETA: 34s - loss: 5.4869e-04 - categorical_accuracy: 1.000 - ETA: 32s - loss: 5.3329e-04 - categorical_accuracy: 1.000 - ETA: 31s - loss: 5.3270e-04 - categorical_accuracy: 1.000 - ETA: 29s - loss: 5.4093e-04 - categorical_accuracy: 1.000 - ETA: 28s - loss: 5.3277e-04 - categorical_accuracy: 1.000 - ETA: 26s - loss: 5.2413e-04 - categorical_accuracy: 1.000 - ETA: 25s - loss: 5.1323e-04 - categorical_accuracy: 1.000 - ETA: 23s - loss: 5.2045e-04 - categorical_accuracy: 1.000 - ETA: 21s - loss: 5.1593e-04 - categorical_accuracy: 1.000 - ETA: 20s - loss: 5.1116e-04 - categorical_accuracy: 1.000 - ETA: 18s - loss: 5.0358e-04 - categorical_accuracy: 1.000 - ETA: 17s - loss: 5.0305e-04 - categorical_accuracy: 1.000 - ETA: 15s - loss: 5.0681e-04 - categorical_accuracy: 1.000 - ETA: 14s - loss: 5.0245e-04 - categorical_accuracy: 1.000 - ETA: 12s - loss: 4.9654e-04 - categorical_accuracy: 1.000 - ETA: 10s - loss: 4.9305e-04 - categorical_accuracy: 1.000 - ETA: 9s - loss: 4.9319e-04 - categorical_accuracy: 1.000 - ETA: 7s - loss: 4.9076e-04 - categorical_accuracy: 1.00 - ETA: 6s - loss: 4.8725e-04 - categorical_accuracy: 1.00 - ETA: 4s - loss: 4.8719e-04 - categorical_accuracy: 1.00 - ETA: 3s - loss: 4.8654e-04 - categorical_accuracy: 1.00 - ETA: 1s - loss: 4.8286e-04 - categorical_accuracy: 1.00 - 62s 178ms/step - loss: 4.8025e-04 - categorical_accuracy: 1.0000 - val_loss: 0.0570 - val_categorical_accuracy: 0.9868\n",
      "Epoch 46/100\n",
      "349/349 [==============================] - ETA: 50s - loss: 4.1946e-04 - categorical_accuracy: 1.000 - ETA: 49s - loss: 4.5933e-04 - categorical_accuracy: 1.000 - ETA: 48s - loss: 3.9960e-04 - categorical_accuracy: 1.000 - ETA: 47s - loss: 3.7271e-04 - categorical_accuracy: 1.000 - ETA: 46s - loss: 3.7726e-04 - categorical_accuracy: 1.000 - ETA: 45s - loss: 3.8204e-04 - categorical_accuracy: 1.000 - ETA: 43s - loss: 3.7956e-04 - categorical_accuracy: 1.000 - ETA: 41s - loss: 3.7627e-04 - categorical_accuracy: 1.000 - ETA: 40s - loss: 3.8019e-04 - categorical_accuracy: 1.000 - ETA: 38s - loss: 3.8114e-04 - categorical_accuracy: 1.000 - ETA: 37s - loss: 3.8606e-04 - categorical_accuracy: 1.000 - ETA: 35s - loss: 3.8489e-04 - categorical_accuracy: 1.000 - ETA: 34s - loss: 3.8431e-04 - categorical_accuracy: 1.000 - ETA: 32s - loss: 3.8486e-04 - categorical_accuracy: 1.000 - ETA: 31s - loss: 3.7737e-04 - categorical_accuracy: 1.000 - ETA: 29s - loss: 3.8024e-04 - categorical_accuracy: 1.000 - ETA: 28s - loss: 3.7620e-04 - categorical_accuracy: 1.000 - ETA: 26s - loss: 3.8845e-04 - categorical_accuracy: 1.000 - ETA: 24s - loss: 4.1703e-04 - categorical_accuracy: 1.000 - ETA: 23s - loss: 4.1422e-04 - categorical_accuracy: 1.000 - ETA: 21s - loss: 4.1175e-04 - categorical_accuracy: 1.000 - ETA: 20s - loss: 4.1667e-04 - categorical_accuracy: 1.000 - ETA: 18s - loss: 4.1756e-04 - categorical_accuracy: 1.000 - ETA: 17s - loss: 4.1691e-04 - categorical_accuracy: 1.000 - ETA: 15s - loss: 4.1873e-04 - categorical_accuracy: 1.000 - ETA: 13s - loss: 4.2317e-04 - categorical_accuracy: 1.000 - ETA: 12s - loss: 4.2082e-04 - categorical_accuracy: 1.000 - ETA: 10s - loss: 4.2660e-04 - categorical_accuracy: 1.000 - ETA: 9s - loss: 4.2994e-04 - categorical_accuracy: 1.000 - ETA: 7s - loss: 4.3244e-04 - categorical_accuracy: 1.00 - ETA: 6s - loss: 4.2866e-04 - categorical_accuracy: 1.00 - ETA: 4s - loss: 4.2588e-04 - categorical_accuracy: 1.00 - ETA: 2s - loss: 4.3287e-04 - categorical_accuracy: 1.00 - ETA: 1s - loss: 4.3489e-04 - categorical_accuracy: 1.00 - 62s 176ms/step - loss: 4.3416e-04 - categorical_accuracy: 1.0000 - val_loss: 0.0572 - val_categorical_accuracy: 0.9868\n",
      "Epoch 47/100\n",
      "349/349 [==============================] - ETA: 51s - loss: 3.1443e-04 - categorical_accuracy: 1.000 - ETA: 50s - loss: 3.3533e-04 - categorical_accuracy: 1.000 - ETA: 48s - loss: 3.3084e-04 - categorical_accuracy: 1.000 - ETA: 47s - loss: 3.4508e-04 - categorical_accuracy: 1.000 - ETA: 46s - loss: 3.4213e-04 - categorical_accuracy: 1.000 - ETA: 44s - loss: 3.5370e-04 - categorical_accuracy: 1.000 - ETA: 43s - loss: 3.7058e-04 - categorical_accuracy: 1.000 - ETA: 41s - loss: 3.6234e-04 - categorical_accuracy: 1.000 - ETA: 39s - loss: 3.5660e-04 - categorical_accuracy: 1.000 - ETA: 38s - loss: 3.6751e-04 - categorical_accuracy: 1.000 - ETA: 37s - loss: 3.6916e-04 - categorical_accuracy: 1.000 - ETA: 35s - loss: 3.6649e-04 - categorical_accuracy: 1.000 - ETA: 34s - loss: 3.6291e-04 - categorical_accuracy: 1.000 - ETA: 32s - loss: 3.7429e-04 - categorical_accuracy: 1.000 - ETA: 30s - loss: 3.8003e-04 - categorical_accuracy: 1.000 - ETA: 29s - loss: 3.7902e-04 - categorical_accuracy: 1.000 - ETA: 28s - loss: 3.8092e-04 - categorical_accuracy: 1.000 - ETA: 26s - loss: 3.7989e-04 - categorical_accuracy: 1.000 - ETA: 24s - loss: 3.8324e-04 - categorical_accuracy: 1.000 - ETA: 23s - loss: 3.8204e-04 - categorical_accuracy: 1.000 - ETA: 21s - loss: 3.7876e-04 - categorical_accuracy: 1.000 - ETA: 20s - loss: 3.8122e-04 - categorical_accuracy: 1.000 - ETA: 18s - loss: 3.8329e-04 - categorical_accuracy: 1.000 - ETA: 17s - loss: 3.8220e-04 - categorical_accuracy: 1.000 - ETA: 15s - loss: 3.8134e-04 - categorical_accuracy: 1.000 - ETA: 13s - loss: 3.8312e-04 - categorical_accuracy: 1.000 - ETA: 12s - loss: 3.7925e-04 - categorical_accuracy: 1.000 - ETA: 10s - loss: 3.7859e-04 - categorical_accuracy: 1.000 - ETA: 9s - loss: 3.7626e-04 - categorical_accuracy: 1.000 - ETA: 7s - loss: 3.7765e-04 - categorical_accuracy: 1.00 - ETA: 6s - loss: 3.7551e-04 - categorical_accuracy: 1.00 - ETA: 4s - loss: 3.7320e-04 - categorical_accuracy: 1.00 - ETA: 2s - loss: 3.7417e-04 - categorical_accuracy: 1.00 - ETA: 1s - loss: 3.7542e-04 - categorical_accuracy: 1.00 - 61s 176ms/step - loss: 3.7646e-04 - categorical_accuracy: 1.0000 - val_loss: 0.0564 - val_categorical_accuracy: 0.9868\n",
      "Epoch 48/100\n"
     ]
    },
    {
     "name": "stdout",
     "output_type": "stream",
     "text": [
      "349/349 [==============================] - ETA: 51s - loss: 4.3989e-04 - categorical_accuracy: 1.000 - ETA: 52s - loss: 4.8098e-04 - categorical_accuracy: 1.000 - ETA: 51s - loss: 4.5808e-04 - categorical_accuracy: 1.000 - ETA: 48s - loss: 4.4172e-04 - categorical_accuracy: 1.000 - ETA: 46s - loss: 4.1799e-04 - categorical_accuracy: 1.000 - ETA: 45s - loss: 3.9827e-04 - categorical_accuracy: 1.000 - ETA: 43s - loss: 3.9728e-04 - categorical_accuracy: 1.000 - ETA: 42s - loss: 3.9595e-04 - categorical_accuracy: 1.000 - ETA: 41s - loss: 3.9574e-04 - categorical_accuracy: 1.000 - ETA: 39s - loss: 4.1714e-04 - categorical_accuracy: 1.000 - ETA: 37s - loss: 4.1103e-04 - categorical_accuracy: 1.000 - ETA: 36s - loss: 4.0615e-04 - categorical_accuracy: 1.000 - ETA: 34s - loss: 4.0381e-04 - categorical_accuracy: 1.000 - ETA: 32s - loss: 4.1375e-04 - categorical_accuracy: 1.000 - ETA: 31s - loss: 4.1394e-04 - categorical_accuracy: 1.000 - ETA: 30s - loss: 4.0689e-04 - categorical_accuracy: 1.000 - ETA: 28s - loss: 4.0034e-04 - categorical_accuracy: 1.000 - ETA: 26s - loss: 3.9753e-04 - categorical_accuracy: 1.000 - ETA: 25s - loss: 3.9723e-04 - categorical_accuracy: 1.000 - ETA: 23s - loss: 4.0040e-04 - categorical_accuracy: 1.000 - ETA: 22s - loss: 4.0139e-04 - categorical_accuracy: 1.000 - ETA: 20s - loss: 3.9967e-04 - categorical_accuracy: 1.000 - ETA: 18s - loss: 3.9496e-04 - categorical_accuracy: 1.000 - ETA: 17s - loss: 3.8987e-04 - categorical_accuracy: 1.000 - ETA: 15s - loss: 3.9789e-04 - categorical_accuracy: 1.000 - ETA: 14s - loss: 3.9778e-04 - categorical_accuracy: 1.000 - ETA: 12s - loss: 3.9314e-04 - categorical_accuracy: 1.000 - ETA: 10s - loss: 3.9615e-04 - categorical_accuracy: 1.000 - ETA: 9s - loss: 3.9245e-04 - categorical_accuracy: 1.000 - ETA: 7s - loss: 3.8908e-04 - categorical_accuracy: 1.00 - ETA: 6s - loss: 3.8776e-04 - categorical_accuracy: 1.00 - ETA: 4s - loss: 3.8749e-04 - categorical_accuracy: 1.00 - ETA: 3s - loss: 3.8888e-04 - categorical_accuracy: 1.00 - ETA: 1s - loss: 3.9035e-04 - categorical_accuracy: 1.00 - 62s 178ms/step - loss: 3.8860e-04 - categorical_accuracy: 1.0000 - val_loss: 0.0582 - val_categorical_accuracy: 0.9868\n",
      "Epoch 49/100\n",
      "349/349 [==============================] - ETA: 56s - loss: 3.6708e-04 - categorical_accuracy: 1.000 - ETA: 54s - loss: 3.5595e-04 - categorical_accuracy: 1.000 - ETA: 51s - loss: 3.3097e-04 - categorical_accuracy: 1.000 - ETA: 49s - loss: 3.4045e-04 - categorical_accuracy: 1.000 - ETA: 47s - loss: 3.3853e-04 - categorical_accuracy: 1.000 - ETA: 45s - loss: 3.6958e-04 - categorical_accuracy: 1.000 - ETA: 44s - loss: 3.6507e-04 - categorical_accuracy: 1.000 - ETA: 43s - loss: 3.8196e-04 - categorical_accuracy: 1.000 - ETA: 41s - loss: 3.7993e-04 - categorical_accuracy: 1.000 - ETA: 39s - loss: 3.8454e-04 - categorical_accuracy: 1.000 - ETA: 37s - loss: 4.0157e-04 - categorical_accuracy: 1.000 - ETA: 36s - loss: 3.9863e-04 - categorical_accuracy: 1.000 - ETA: 34s - loss: 3.9186e-04 - categorical_accuracy: 1.000 - ETA: 33s - loss: 3.8487e-04 - categorical_accuracy: 1.000 - ETA: 31s - loss: 3.8338e-04 - categorical_accuracy: 1.000 - ETA: 29s - loss: 3.8681e-04 - categorical_accuracy: 1.000 - ETA: 28s - loss: 3.8578e-04 - categorical_accuracy: 1.000 - ETA: 26s - loss: 3.8574e-04 - categorical_accuracy: 1.000 - ETA: 25s - loss: 3.8401e-04 - categorical_accuracy: 1.000 - ETA: 23s - loss: 3.8242e-04 - categorical_accuracy: 1.000 - ETA: 22s - loss: 3.8010e-04 - categorical_accuracy: 1.000 - ETA: 20s - loss: 3.8182e-04 - categorical_accuracy: 1.000 - ETA: 18s - loss: 3.8138e-04 - categorical_accuracy: 1.000 - ETA: 17s - loss: 3.7728e-04 - categorical_accuracy: 1.000 - ETA: 15s - loss: 3.7491e-04 - categorical_accuracy: 1.000 - ETA: 14s - loss: 3.7054e-04 - categorical_accuracy: 1.000 - ETA: 12s - loss: 3.7281e-04 - categorical_accuracy: 1.000 - ETA: 10s - loss: 3.7022e-04 - categorical_accuracy: 1.000 - ETA: 9s - loss: 3.6958e-04 - categorical_accuracy: 1.000 - ETA: 7s - loss: 3.6939e-04 - categorical_accuracy: 1.00 - ETA: 6s - loss: 3.6907e-04 - categorical_accuracy: 1.00 - ETA: 4s - loss: 3.6849e-04 - categorical_accuracy: 1.00 - ETA: 3s - loss: 3.6903e-04 - categorical_accuracy: 1.00 - ETA: 1s - loss: 3.6509e-04 - categorical_accuracy: 1.00 - 62s 178ms/step - loss: 3.6826e-04 - categorical_accuracy: 1.0000 - val_loss: 0.0592 - val_categorical_accuracy: 0.9868\n",
      "Epoch 50/100\n",
      "349/349 [==============================] - ETA: 53s - loss: 2.7415e-04 - categorical_accuracy: 1.000 - ETA: 50s - loss: 3.0099e-04 - categorical_accuracy: 1.000 - ETA: 49s - loss: 3.0137e-04 - categorical_accuracy: 1.000 - ETA: 47s - loss: 3.0422e-04 - categorical_accuracy: 1.000 - ETA: 46s - loss: 3.1942e-04 - categorical_accuracy: 1.000 - ETA: 45s - loss: 3.2652e-04 - categorical_accuracy: 1.000 - ETA: 44s - loss: 3.2877e-04 - categorical_accuracy: 1.000 - ETA: 42s - loss: 3.2498e-04 - categorical_accuracy: 1.000 - ETA: 40s - loss: 3.2244e-04 - categorical_accuracy: 1.000 - ETA: 38s - loss: 3.3057e-04 - categorical_accuracy: 1.000 - ETA: 37s - loss: 3.3387e-04 - categorical_accuracy: 1.000 - ETA: 35s - loss: 3.4032e-04 - categorical_accuracy: 1.000 - ETA: 34s - loss: 3.3982e-04 - categorical_accuracy: 1.000 - ETA: 32s - loss: 3.3913e-04 - categorical_accuracy: 1.000 - ETA: 31s - loss: 3.3943e-04 - categorical_accuracy: 1.000 - ETA: 29s - loss: 3.4093e-04 - categorical_accuracy: 1.000 - ETA: 28s - loss: 3.4161e-04 - categorical_accuracy: 1.000 - ETA: 26s - loss: 3.3915e-04 - categorical_accuracy: 1.000 - ETA: 25s - loss: 3.3989e-04 - categorical_accuracy: 1.000 - ETA: 23s - loss: 3.4581e-04 - categorical_accuracy: 1.000 - ETA: 21s - loss: 3.4488e-04 - categorical_accuracy: 1.000 - ETA: 20s - loss: 3.4316e-04 - categorical_accuracy: 1.000 - ETA: 18s - loss: 3.4872e-04 - categorical_accuracy: 1.000 - ETA: 17s - loss: 3.4656e-04 - categorical_accuracy: 1.000 - ETA: 15s - loss: 3.4482e-04 - categorical_accuracy: 1.000 - ETA: 14s - loss: 3.4732e-04 - categorical_accuracy: 1.000 - ETA: 12s - loss: 3.4503e-04 - categorical_accuracy: 1.000 - ETA: 10s - loss: 3.4625e-04 - categorical_accuracy: 1.000 - ETA: 9s - loss: 3.4395e-04 - categorical_accuracy: 1.000 - ETA: 7s - loss: 3.4618e-04 - categorical_accuracy: 1.00 - ETA: 6s - loss: 3.4800e-04 - categorical_accuracy: 1.00 - ETA: 4s - loss: 3.4893e-04 - categorical_accuracy: 1.00 - ETA: 3s - loss: 3.4642e-04 - categorical_accuracy: 1.00 - ETA: 1s - loss: 3.4517e-04 - categorical_accuracy: 1.00 - 62s 178ms/step - loss: 3.5030e-04 - categorical_accuracy: 1.0000 - val_loss: 0.0579 - val_categorical_accuracy: 0.9868\n",
      "Epoch 51/100\n",
      "349/349 [==============================] - ETA: 51s - loss: 2.4686e-04 - categorical_accuracy: 1.000 - ETA: 51s - loss: 2.8135e-04 - categorical_accuracy: 1.000 - ETA: 50s - loss: 3.0921e-04 - categorical_accuracy: 1.000 - ETA: 48s - loss: 3.2676e-04 - categorical_accuracy: 1.000 - ETA: 46s - loss: 3.3107e-04 - categorical_accuracy: 1.000 - ETA: 44s - loss: 3.3771e-04 - categorical_accuracy: 1.000 - ETA: 43s - loss: 3.3709e-04 - categorical_accuracy: 1.000 - ETA: 41s - loss: 3.4070e-04 - categorical_accuracy: 1.000 - ETA: 40s - loss: 3.3562e-04 - categorical_accuracy: 1.000 - ETA: 38s - loss: 3.3659e-04 - categorical_accuracy: 1.000 - ETA: 36s - loss: 3.4386e-04 - categorical_accuracy: 1.000 - ETA: 35s - loss: 3.3899e-04 - categorical_accuracy: 1.000 - ETA: 34s - loss: 3.3754e-04 - categorical_accuracy: 1.000 - ETA: 32s - loss: 3.3458e-04 - categorical_accuracy: 1.000 - ETA: 31s - loss: 3.3993e-04 - categorical_accuracy: 1.000 - ETA: 29s - loss: 3.4069e-04 - categorical_accuracy: 1.000 - ETA: 28s - loss: 3.3607e-04 - categorical_accuracy: 1.000 - ETA: 26s - loss: 3.3426e-04 - categorical_accuracy: 1.000 - ETA: 24s - loss: 3.3293e-04 - categorical_accuracy: 1.000 - ETA: 23s - loss: 3.3099e-04 - categorical_accuracy: 1.000 - ETA: 21s - loss: 3.3873e-04 - categorical_accuracy: 1.000 - ETA: 20s - loss: 3.3379e-04 - categorical_accuracy: 1.000 - ETA: 18s - loss: 3.3478e-04 - categorical_accuracy: 1.000 - ETA: 17s - loss: 3.3228e-04 - categorical_accuracy: 1.000 - ETA: 15s - loss: 3.3351e-04 - categorical_accuracy: 1.000 - ETA: 13s - loss: 3.3125e-04 - categorical_accuracy: 1.000 - ETA: 12s - loss: 3.2911e-04 - categorical_accuracy: 1.000 - ETA: 10s - loss: 3.2935e-04 - categorical_accuracy: 1.000 - ETA: 9s - loss: 3.2771e-04 - categorical_accuracy: 1.000 - ETA: 7s - loss: 3.3543e-04 - categorical_accuracy: 1.00 - ETA: 6s - loss: 3.3532e-04 - categorical_accuracy: 1.00 - ETA: 4s - loss: 3.3426e-04 - categorical_accuracy: 1.00 - ETA: 2s - loss: 3.3766e-04 - categorical_accuracy: 1.00 - ETA: 1s - loss: 3.3735e-04 - categorical_accuracy: 1.00 - 62s 178ms/step - loss: 3.3509e-04 - categorical_accuracy: 1.0000 - val_loss: 0.0580 - val_categorical_accuracy: 0.9868\n",
      "Epoch 52/100\n",
      "349/349 [==============================] - ETA: 50s - loss: 3.2661e-04 - categorical_accuracy: 1.000 - ETA: 49s - loss: 3.1590e-04 - categorical_accuracy: 1.000 - ETA: 50s - loss: 3.6726e-04 - categorical_accuracy: 1.000 - ETA: 49s - loss: 3.6707e-04 - categorical_accuracy: 1.000 - ETA: 47s - loss: 3.7648e-04 - categorical_accuracy: 1.000 - ETA: 46s - loss: 3.6966e-04 - categorical_accuracy: 1.000 - ETA: 44s - loss: 3.5342e-04 - categorical_accuracy: 1.000 - ETA: 42s - loss: 3.3728e-04 - categorical_accuracy: 1.000 - ETA: 41s - loss: 3.2904e-04 - categorical_accuracy: 1.000 - ETA: 39s - loss: 3.2246e-04 - categorical_accuracy: 1.000 - ETA: 38s - loss: 3.2906e-04 - categorical_accuracy: 1.000 - ETA: 36s - loss: 3.4222e-04 - categorical_accuracy: 1.000 - ETA: 34s - loss: 3.4123e-04 - categorical_accuracy: 1.000 - ETA: 33s - loss: 3.4006e-04 - categorical_accuracy: 1.000 - ETA: 31s - loss: 3.3337e-04 - categorical_accuracy: 1.000 - ETA: 30s - loss: 3.2558e-04 - categorical_accuracy: 1.000 - ETA: 28s - loss: 3.2324e-04 - categorical_accuracy: 1.000 - ETA: 26s - loss: 3.1868e-04 - categorical_accuracy: 1.000 - ETA: 25s - loss: 3.1948e-04 - categorical_accuracy: 1.000 - ETA: 23s - loss: 3.1580e-04 - categorical_accuracy: 1.000 - ETA: 21s - loss: 3.1575e-04 - categorical_accuracy: 1.000 - ETA: 20s - loss: 3.1998e-04 - categorical_accuracy: 1.000 - ETA: 18s - loss: 3.2153e-04 - categorical_accuracy: 1.000 - ETA: 17s - loss: 3.2222e-04 - categorical_accuracy: 1.000 - ETA: 15s - loss: 3.2190e-04 - categorical_accuracy: 1.000 - ETA: 14s - loss: 3.1996e-04 - categorical_accuracy: 1.000 - ETA: 12s - loss: 3.1831e-04 - categorical_accuracy: 1.000 - ETA: 10s - loss: 3.2144e-04 - categorical_accuracy: 1.000 - ETA: 9s - loss: 3.2084e-04 - categorical_accuracy: 1.000 - ETA: 7s - loss: 3.2112e-04 - categorical_accuracy: 1.00 - ETA: 6s - loss: 3.2174e-04 - categorical_accuracy: 1.00 - ETA: 4s - loss: 3.2181e-04 - categorical_accuracy: 1.00 - ETA: 2s - loss: 3.2423e-04 - categorical_accuracy: 1.00 - ETA: 1s - loss: 3.2724e-04 - categorical_accuracy: 1.00 - 62s 177ms/step - loss: 3.2759e-04 - categorical_accuracy: 1.0000 - val_loss: 0.0584 - val_categorical_accuracy: 0.9868\n",
      "Epoch 53/100\n",
      "349/349 [==============================] - ETA: 52s - loss: 2.7322e-04 - categorical_accuracy: 1.000 - ETA: 52s - loss: 3.3562e-04 - categorical_accuracy: 1.000 - ETA: 51s - loss: 3.1820e-04 - categorical_accuracy: 1.000 - ETA: 49s - loss: 3.1857e-04 - categorical_accuracy: 1.000 - ETA: 47s - loss: 3.1902e-04 - categorical_accuracy: 1.000 - ETA: 45s - loss: 3.1597e-04 - categorical_accuracy: 1.000 - ETA: 44s - loss: 3.0846e-04 - categorical_accuracy: 1.000 - ETA: 42s - loss: 3.1890e-04 - categorical_accuracy: 1.000 - ETA: 41s - loss: 3.0938e-04 - categorical_accuracy: 1.000 - ETA: 40s - loss: 3.0709e-04 - categorical_accuracy: 1.000 - ETA: 38s - loss: 3.0523e-04 - categorical_accuracy: 1.000 - ETA: 36s - loss: 3.0694e-04 - categorical_accuracy: 1.000 - ETA: 34s - loss: 3.0775e-04 - categorical_accuracy: 1.000 - ETA: 33s - loss: 3.0379e-04 - categorical_accuracy: 1.000 - ETA: 31s - loss: 2.9915e-04 - categorical_accuracy: 1.000 - ETA: 30s - loss: 2.9817e-04 - categorical_accuracy: 1.000 - ETA: 28s - loss: 3.0041e-04 - categorical_accuracy: 1.000 - ETA: 27s - loss: 3.0010e-04 - categorical_accuracy: 1.000 - ETA: 25s - loss: 2.9928e-04 - categorical_accuracy: 1.000 - ETA: 23s - loss: 2.9636e-04 - categorical_accuracy: 1.000 - ETA: 22s - loss: 3.0293e-04 - categorical_accuracy: 1.000 - ETA: 20s - loss: 3.0521e-04 - categorical_accuracy: 1.000 - ETA: 19s - loss: 3.0164e-04 - categorical_accuracy: 1.000 - ETA: 17s - loss: 3.0002e-04 - categorical_accuracy: 1.000 - ETA: 15s - loss: 2.9848e-04 - categorical_accuracy: 1.000 - ETA: 14s - loss: 2.9823e-04 - categorical_accuracy: 1.000 - ETA: 12s - loss: 2.9808e-04 - categorical_accuracy: 1.000 - ETA: 11s - loss: 2.9731e-04 - categorical_accuracy: 1.000 - ETA: 9s - loss: 3.0199e-04 - categorical_accuracy: 1.000 - ETA: 7s - loss: 3.0249e-04 - categorical_accuracy: 1.00 - ETA: 6s - loss: 3.1041e-04 - categorical_accuracy: 1.00 - ETA: 4s - loss: 3.0919e-04 - categorical_accuracy: 1.00 - ETA: 3s - loss: 3.0779e-04 - categorical_accuracy: 1.00 - ETA: 1s - loss: 3.0706e-04 - categorical_accuracy: 1.00 - 63s 179ms/step - loss: 3.0559e-04 - categorical_accuracy: 1.0000 - val_loss: 0.0579 - val_categorical_accuracy: 0.9868\n",
      "Epoch 54/100\n"
     ]
    },
    {
     "name": "stdout",
     "output_type": "stream",
     "text": [
      "349/349 [==============================] - ETA: 57s - loss: 2.6116e-04 - categorical_accuracy: 1.000 - ETA: 54s - loss: 2.5844e-04 - categorical_accuracy: 1.000 - ETA: 51s - loss: 2.7866e-04 - categorical_accuracy: 1.000 - ETA: 49s - loss: 3.0047e-04 - categorical_accuracy: 1.000 - ETA: 47s - loss: 3.0835e-04 - categorical_accuracy: 1.000 - ETA: 45s - loss: 3.0456e-04 - categorical_accuracy: 1.000 - ETA: 44s - loss: 3.0305e-04 - categorical_accuracy: 1.000 - ETA: 42s - loss: 3.0257e-04 - categorical_accuracy: 1.000 - ETA: 41s - loss: 3.1256e-04 - categorical_accuracy: 1.000 - ETA: 39s - loss: 3.1030e-04 - categorical_accuracy: 1.000 - ETA: 37s - loss: 3.0709e-04 - categorical_accuracy: 1.000 - ETA: 36s - loss: 3.0219e-04 - categorical_accuracy: 1.000 - ETA: 34s - loss: 3.0560e-04 - categorical_accuracy: 1.000 - ETA: 32s - loss: 3.1506e-04 - categorical_accuracy: 1.000 - ETA: 31s - loss: 3.0995e-04 - categorical_accuracy: 1.000 - ETA: 29s - loss: 3.3239e-04 - categorical_accuracy: 1.000 - ETA: 27s - loss: 3.3267e-04 - categorical_accuracy: 1.000 - ETA: 26s - loss: 3.2932e-04 - categorical_accuracy: 1.000 - ETA: 24s - loss: 3.3086e-04 - categorical_accuracy: 1.000 - ETA: 23s - loss: 3.2938e-04 - categorical_accuracy: 1.000 - ETA: 21s - loss: 3.2858e-04 - categorical_accuracy: 1.000 - ETA: 20s - loss: 3.2476e-04 - categorical_accuracy: 1.000 - ETA: 18s - loss: 3.2597e-04 - categorical_accuracy: 1.000 - ETA: 16s - loss: 3.2502e-04 - categorical_accuracy: 1.000 - ETA: 15s - loss: 3.2422e-04 - categorical_accuracy: 1.000 - ETA: 13s - loss: 3.2231e-04 - categorical_accuracy: 1.000 - ETA: 12s - loss: 3.1890e-04 - categorical_accuracy: 1.000 - ETA: 10s - loss: 3.1686e-04 - categorical_accuracy: 1.000 - ETA: 9s - loss: 3.1589e-04 - categorical_accuracy: 1.000 - ETA: 7s - loss: 3.1533e-04 - categorical_accuracy: 1.00 - ETA: 6s - loss: 3.1413e-04 - categorical_accuracy: 1.00 - ETA: 4s - loss: 3.1290e-04 - categorical_accuracy: 1.00 - ETA: 2s - loss: 3.1289e-04 - categorical_accuracy: 1.00 - ETA: 1s - loss: 3.1418e-04 - categorical_accuracy: 1.00 - 62s 176ms/step - loss: 3.1387e-04 - categorical_accuracy: 1.0000 - val_loss: 0.0594 - val_categorical_accuracy: 0.9868\n",
      "Epoch 55/100\n",
      "349/349 [==============================] - ETA: 1:09 - loss: 5.2020e-04 - categorical_accuracy: 1.00 - ETA: 1:08 - loss: 3.8785e-04 - categorical_accuracy: 1.00 - ETA: 1:06 - loss: 3.5263e-04 - categorical_accuracy: 1.00 - ETA: 1:01 - loss: 3.3007e-04 - categorical_accuracy: 1.00 - ETA: 56s - loss: 3.1568e-04 - categorical_accuracy: 1.0000 - ETA: 54s - loss: 3.1056e-04 - categorical_accuracy: 1.000 - ETA: 51s - loss: 3.0261e-04 - categorical_accuracy: 1.000 - ETA: 48s - loss: 2.9209e-04 - categorical_accuracy: 1.000 - ETA: 45s - loss: 2.9073e-04 - categorical_accuracy: 1.000 - ETA: 43s - loss: 2.9481e-04 - categorical_accuracy: 1.000 - ETA: 41s - loss: 2.8765e-04 - categorical_accuracy: 1.000 - ETA: 39s - loss: 2.8559e-04 - categorical_accuracy: 1.000 - ETA: 37s - loss: 2.8103e-04 - categorical_accuracy: 1.000 - ETA: 35s - loss: 2.7858e-04 - categorical_accuracy: 1.000 - ETA: 33s - loss: 2.9322e-04 - categorical_accuracy: 1.000 - ETA: 31s - loss: 2.9180e-04 - categorical_accuracy: 1.000 - ETA: 29s - loss: 2.9397e-04 - categorical_accuracy: 1.000 - ETA: 28s - loss: 2.9569e-04 - categorical_accuracy: 1.000 - ETA: 26s - loss: 2.9589e-04 - categorical_accuracy: 1.000 - ETA: 24s - loss: 2.9519e-04 - categorical_accuracy: 1.000 - ETA: 23s - loss: 2.9086e-04 - categorical_accuracy: 1.000 - ETA: 21s - loss: 2.8993e-04 - categorical_accuracy: 1.000 - ETA: 19s - loss: 2.8925e-04 - categorical_accuracy: 1.000 - ETA: 17s - loss: 2.9066e-04 - categorical_accuracy: 1.000 - ETA: 16s - loss: 2.9208e-04 - categorical_accuracy: 1.000 - ETA: 14s - loss: 2.9193e-04 - categorical_accuracy: 1.000 - ETA: 12s - loss: 2.8877e-04 - categorical_accuracy: 1.000 - ETA: 11s - loss: 2.9223e-04 - categorical_accuracy: 1.000 - ETA: 9s - loss: 2.8970e-04 - categorical_accuracy: 1.000 - ETA: 7s - loss: 2.9087e-04 - categorical_accuracy: 1.00 - ETA: 6s - loss: 2.8791e-04 - categorical_accuracy: 1.00 - ETA: 4s - loss: 2.8553e-04 - categorical_accuracy: 1.00 - ETA: 3s - loss: 2.8371e-04 - categorical_accuracy: 1.00 - ETA: 1s - loss: 2.8346e-04 - categorical_accuracy: 1.00 - 64s 183ms/step - loss: 2.8579e-04 - categorical_accuracy: 1.0000 - val_loss: 0.0589 - val_categorical_accuracy: 0.9868\n",
      "Epoch 56/100\n",
      "349/349 [==============================] - ETA: 51s - loss: 2.9059e-04 - categorical_accuracy: 1.000 - ETA: 49s - loss: 2.5764e-04 - categorical_accuracy: 1.000 - ETA: 48s - loss: 2.9154e-04 - categorical_accuracy: 1.000 - ETA: 47s - loss: 2.6790e-04 - categorical_accuracy: 1.000 - ETA: 47s - loss: 2.7118e-04 - categorical_accuracy: 1.000 - ETA: 45s - loss: 2.8010e-04 - categorical_accuracy: 1.000 - ETA: 43s - loss: 2.7999e-04 - categorical_accuracy: 1.000 - ETA: 42s - loss: 2.8090e-04 - categorical_accuracy: 1.000 - ETA: 40s - loss: 2.8176e-04 - categorical_accuracy: 1.000 - ETA: 38s - loss: 2.7735e-04 - categorical_accuracy: 1.000 - ETA: 37s - loss: 2.7594e-04 - categorical_accuracy: 1.000 - ETA: 36s - loss: 2.7585e-04 - categorical_accuracy: 1.000 - ETA: 34s - loss: 2.7677e-04 - categorical_accuracy: 1.000 - ETA: 32s - loss: 2.7304e-04 - categorical_accuracy: 1.000 - ETA: 31s - loss: 2.7780e-04 - categorical_accuracy: 1.000 - ETA: 29s - loss: 2.7523e-04 - categorical_accuracy: 1.000 - ETA: 28s - loss: 2.8037e-04 - categorical_accuracy: 1.000 - ETA: 26s - loss: 2.7969e-04 - categorical_accuracy: 1.000 - ETA: 25s - loss: 2.7628e-04 - categorical_accuracy: 1.000 - ETA: 23s - loss: 2.7583e-04 - categorical_accuracy: 1.000 - ETA: 21s - loss: 2.7840e-04 - categorical_accuracy: 1.000 - ETA: 20s - loss: 2.7511e-04 - categorical_accuracy: 1.000 - ETA: 18s - loss: 2.7161e-04 - categorical_accuracy: 1.000 - ETA: 17s - loss: 2.6855e-04 - categorical_accuracy: 1.000 - ETA: 15s - loss: 2.6913e-04 - categorical_accuracy: 1.000 - ETA: 14s - loss: 2.6777e-04 - categorical_accuracy: 1.000 - ETA: 12s - loss: 2.6745e-04 - categorical_accuracy: 1.000 - ETA: 10s - loss: 2.6514e-04 - categorical_accuracy: 1.000 - ETA: 9s - loss: 2.6457e-04 - categorical_accuracy: 1.000 - ETA: 7s - loss: 2.6260e-04 - categorical_accuracy: 1.00 - ETA: 6s - loss: 2.6162e-04 - categorical_accuracy: 1.00 - ETA: 4s - loss: 2.6211e-04 - categorical_accuracy: 1.00 - ETA: 2s - loss: 2.6863e-04 - categorical_accuracy: 1.00 - ETA: 1s - loss: 2.6766e-04 - categorical_accuracy: 1.00 - 62s 177ms/step - loss: 2.6850e-04 - categorical_accuracy: 1.0000 - val_loss: 0.0588 - val_categorical_accuracy: 0.9868\n",
      "Epoch 57/100\n",
      "349/349 [==============================] - ETA: 51s - loss: 3.1485e-04 - categorical_accuracy: 1.000 - ETA: 49s - loss: 2.6388e-04 - categorical_accuracy: 1.000 - ETA: 49s - loss: 2.4891e-04 - categorical_accuracy: 1.000 - ETA: 48s - loss: 2.5459e-04 - categorical_accuracy: 1.000 - ETA: 47s - loss: 2.8600e-04 - categorical_accuracy: 1.000 - ETA: 45s - loss: 2.7990e-04 - categorical_accuracy: 1.000 - ETA: 43s - loss: 2.7718e-04 - categorical_accuracy: 1.000 - ETA: 41s - loss: 2.8424e-04 - categorical_accuracy: 1.000 - ETA: 40s - loss: 2.8433e-04 - categorical_accuracy: 1.000 - ETA: 39s - loss: 2.7422e-04 - categorical_accuracy: 1.000 - ETA: 37s - loss: 2.7376e-04 - categorical_accuracy: 1.000 - ETA: 36s - loss: 2.7087e-04 - categorical_accuracy: 1.000 - ETA: 34s - loss: 2.6806e-04 - categorical_accuracy: 1.000 - ETA: 32s - loss: 2.6561e-04 - categorical_accuracy: 1.000 - ETA: 31s - loss: 2.6332e-04 - categorical_accuracy: 1.000 - ETA: 29s - loss: 2.5788e-04 - categorical_accuracy: 1.000 - ETA: 28s - loss: 2.6129e-04 - categorical_accuracy: 1.000 - ETA: 26s - loss: 2.5916e-04 - categorical_accuracy: 1.000 - ETA: 25s - loss: 2.5814e-04 - categorical_accuracy: 1.000 - ETA: 23s - loss: 2.6088e-04 - categorical_accuracy: 1.000 - ETA: 21s - loss: 2.6134e-04 - categorical_accuracy: 1.000 - ETA: 20s - loss: 2.6049e-04 - categorical_accuracy: 1.000 - ETA: 18s - loss: 2.6179e-04 - categorical_accuracy: 1.000 - ETA: 17s - loss: 2.5930e-04 - categorical_accuracy: 1.000 - ETA: 15s - loss: 2.5822e-04 - categorical_accuracy: 1.000 - ETA: 13s - loss: 2.5778e-04 - categorical_accuracy: 1.000 - ETA: 12s - loss: 2.5752e-04 - categorical_accuracy: 1.000 - ETA: 10s - loss: 2.5815e-04 - categorical_accuracy: 1.000 - ETA: 9s - loss: 2.5659e-04 - categorical_accuracy: 1.000 - ETA: 7s - loss: 2.5597e-04 - categorical_accuracy: 1.00 - ETA: 6s - loss: 2.5538e-04 - categorical_accuracy: 1.00 - ETA: 4s - loss: 2.5823e-04 - categorical_accuracy: 1.00 - ETA: 2s - loss: 2.6356e-04 - categorical_accuracy: 1.00 - ETA: 1s - loss: 2.6601e-04 - categorical_accuracy: 1.00 - 61s 176ms/step - loss: 2.6578e-04 - categorical_accuracy: 1.0000 - val_loss: 0.0615 - val_categorical_accuracy: 0.9868\n",
      "Epoch 58/100\n",
      "349/349 [==============================] - ETA: 50s - loss: 4.2394e-04 - categorical_accuracy: 1.000 - ETA: 50s - loss: 4.1627e-04 - categorical_accuracy: 1.000 - ETA: 51s - loss: 3.4799e-04 - categorical_accuracy: 1.000 - ETA: 48s - loss: 3.1718e-04 - categorical_accuracy: 1.000 - ETA: 46s - loss: 2.9248e-04 - categorical_accuracy: 1.000 - ETA: 44s - loss: 2.7895e-04 - categorical_accuracy: 1.000 - ETA: 43s - loss: 2.6766e-04 - categorical_accuracy: 1.000 - ETA: 41s - loss: 2.7166e-04 - categorical_accuracy: 1.000 - ETA: 40s - loss: 2.7539e-04 - categorical_accuracy: 1.000 - ETA: 39s - loss: 2.7247e-04 - categorical_accuracy: 1.000 - ETA: 37s - loss: 2.6847e-04 - categorical_accuracy: 1.000 - ETA: 35s - loss: 2.6937e-04 - categorical_accuracy: 1.000 - ETA: 34s - loss: 2.6755e-04 - categorical_accuracy: 1.000 - ETA: 32s - loss: 2.6284e-04 - categorical_accuracy: 1.000 - ETA: 31s - loss: 2.6862e-04 - categorical_accuracy: 1.000 - ETA: 29s - loss: 2.7315e-04 - categorical_accuracy: 1.000 - ETA: 28s - loss: 2.7900e-04 - categorical_accuracy: 1.000 - ETA: 26s - loss: 2.7566e-04 - categorical_accuracy: 1.000 - ETA: 24s - loss: 2.7421e-04 - categorical_accuracy: 1.000 - ETA: 23s - loss: 2.7322e-04 - categorical_accuracy: 1.000 - ETA: 21s - loss: 2.7538e-04 - categorical_accuracy: 1.000 - ETA: 20s - loss: 2.7543e-04 - categorical_accuracy: 1.000 - ETA: 18s - loss: 2.7433e-04 - categorical_accuracy: 1.000 - ETA: 17s - loss: 2.7259e-04 - categorical_accuracy: 1.000 - ETA: 15s - loss: 2.7103e-04 - categorical_accuracy: 1.000 - ETA: 13s - loss: 2.6987e-04 - categorical_accuracy: 1.000 - ETA: 12s - loss: 2.7141e-04 - categorical_accuracy: 1.000 - ETA: 10s - loss: 2.6875e-04 - categorical_accuracy: 1.000 - ETA: 9s - loss: 2.7007e-04 - categorical_accuracy: 1.000 - ETA: 7s - loss: 2.6759e-04 - categorical_accuracy: 1.00 - ETA: 6s - loss: 2.6626e-04 - categorical_accuracy: 1.00 - ETA: 4s - loss: 2.6778e-04 - categorical_accuracy: 1.00 - ETA: 2s - loss: 2.6712e-04 - categorical_accuracy: 1.00 - ETA: 1s - loss: 2.6639e-04 - categorical_accuracy: 1.00 - 62s 176ms/step - loss: 2.6475e-04 - categorical_accuracy: 1.0000 - val_loss: 0.0575 - val_categorical_accuracy: 0.9868\n",
      "Epoch 59/100\n",
      "349/349 [==============================] - ETA: 54s - loss: 2.0823e-04 - categorical_accuracy: 1.000 - ETA: 53s - loss: 2.0701e-04 - categorical_accuracy: 1.000 - ETA: 50s - loss: 2.3896e-04 - categorical_accuracy: 1.000 - ETA: 48s - loss: 2.4478e-04 - categorical_accuracy: 1.000 - ETA: 46s - loss: 2.4222e-04 - categorical_accuracy: 1.000 - ETA: 44s - loss: 2.3704e-04 - categorical_accuracy: 1.000 - ETA: 43s - loss: 2.4805e-04 - categorical_accuracy: 1.000 - ETA: 42s - loss: 2.4252e-04 - categorical_accuracy: 1.000 - ETA: 40s - loss: 2.3673e-04 - categorical_accuracy: 1.000 - ETA: 39s - loss: 2.3525e-04 - categorical_accuracy: 1.000 - ETA: 37s - loss: 2.3634e-04 - categorical_accuracy: 1.000 - ETA: 35s - loss: 2.3839e-04 - categorical_accuracy: 1.000 - ETA: 34s - loss: 2.4175e-04 - categorical_accuracy: 1.000 - ETA: 32s - loss: 2.4704e-04 - categorical_accuracy: 1.000 - ETA: 31s - loss: 2.4886e-04 - categorical_accuracy: 1.000 - ETA: 29s - loss: 2.4876e-04 - categorical_accuracy: 1.000 - ETA: 28s - loss: 2.4453e-04 - categorical_accuracy: 1.000 - ETA: 26s - loss: 2.4652e-04 - categorical_accuracy: 1.000 - ETA: 24s - loss: 2.4648e-04 - categorical_accuracy: 1.000 - ETA: 23s - loss: 2.4477e-04 - categorical_accuracy: 1.000 - ETA: 21s - loss: 2.4630e-04 - categorical_accuracy: 1.000 - ETA: 20s - loss: 2.4574e-04 - categorical_accuracy: 1.000 - ETA: 18s - loss: 2.4509e-04 - categorical_accuracy: 1.000 - ETA: 17s - loss: 2.4577e-04 - categorical_accuracy: 1.000 - ETA: 15s - loss: 2.4494e-04 - categorical_accuracy: 1.000 - ETA: 13s - loss: 2.4668e-04 - categorical_accuracy: 1.000 - ETA: 12s - loss: 2.4557e-04 - categorical_accuracy: 1.000 - ETA: 10s - loss: 2.4627e-04 - categorical_accuracy: 1.000 - ETA: 9s - loss: 2.4537e-04 - categorical_accuracy: 1.000 - ETA: 7s - loss: 2.4399e-04 - categorical_accuracy: 1.00 - ETA: 6s - loss: 2.4326e-04 - categorical_accuracy: 1.00 - ETA: 4s - loss: 2.4217e-04 - categorical_accuracy: 1.00 - ETA: 2s - loss: 2.4353e-04 - categorical_accuracy: 1.00 - ETA: 1s - loss: 2.4365e-04 - categorical_accuracy: 1.00 - 61s 176ms/step - loss: 2.4352e-04 - categorical_accuracy: 1.0000 - val_loss: 0.0571 - val_categorical_accuracy: 0.9868\n",
      "Epoch 60/100\n"
     ]
    },
    {
     "name": "stdout",
     "output_type": "stream",
     "text": [
      "349/349 [==============================] - ETA: 58s - loss: 2.3971e-04 - categorical_accuracy: 1.000 - ETA: 53s - loss: 2.1272e-04 - categorical_accuracy: 1.000 - ETA: 50s - loss: 2.2860e-04 - categorical_accuracy: 1.000 - ETA: 48s - loss: 2.4198e-04 - categorical_accuracy: 1.000 - ETA: 46s - loss: 2.4436e-04 - categorical_accuracy: 1.000 - ETA: 44s - loss: 2.3924e-04 - categorical_accuracy: 1.000 - ETA: 43s - loss: 2.4078e-04 - categorical_accuracy: 1.000 - ETA: 42s - loss: 2.5029e-04 - categorical_accuracy: 1.000 - ETA: 40s - loss: 2.4933e-04 - categorical_accuracy: 1.000 - ETA: 38s - loss: 2.5408e-04 - categorical_accuracy: 1.000 - ETA: 37s - loss: 2.5571e-04 - categorical_accuracy: 1.000 - ETA: 35s - loss: 2.5733e-04 - categorical_accuracy: 1.000 - ETA: 34s - loss: 2.6039e-04 - categorical_accuracy: 1.000 - ETA: 32s - loss: 2.5748e-04 - categorical_accuracy: 1.000 - ETA: 31s - loss: 2.5329e-04 - categorical_accuracy: 1.000 - ETA: 29s - loss: 2.5124e-04 - categorical_accuracy: 1.000 - ETA: 27s - loss: 2.4740e-04 - categorical_accuracy: 1.000 - ETA: 26s - loss: 2.4787e-04 - categorical_accuracy: 1.000 - ETA: 24s - loss: 2.4701e-04 - categorical_accuracy: 1.000 - ETA: 23s - loss: 2.4719e-04 - categorical_accuracy: 1.000 - ETA: 21s - loss: 2.4728e-04 - categorical_accuracy: 1.000 - ETA: 20s - loss: 2.4511e-04 - categorical_accuracy: 1.000 - ETA: 18s - loss: 2.4270e-04 - categorical_accuracy: 1.000 - ETA: 17s - loss: 2.4113e-04 - categorical_accuracy: 1.000 - ETA: 15s - loss: 2.4143e-04 - categorical_accuracy: 1.000 - ETA: 13s - loss: 2.4501e-04 - categorical_accuracy: 1.000 - ETA: 12s - loss: 2.4576e-04 - categorical_accuracy: 1.000 - ETA: 10s - loss: 2.4379e-04 - categorical_accuracy: 1.000 - ETA: 9s - loss: 2.4747e-04 - categorical_accuracy: 1.000 - ETA: 7s - loss: 2.5055e-04 - categorical_accuracy: 1.00 - ETA: 6s - loss: 2.5132e-04 - categorical_accuracy: 1.00 - ETA: 4s - loss: 2.5066e-04 - categorical_accuracy: 1.00 - ETA: 2s - loss: 2.4891e-04 - categorical_accuracy: 1.00 - ETA: 1s - loss: 2.4897e-04 - categorical_accuracy: 1.00 - 62s 178ms/step - loss: 2.4849e-04 - categorical_accuracy: 1.0000 - val_loss: 0.0568 - val_categorical_accuracy: 0.9868\n",
      "Epoch 61/100\n",
      "349/349 [==============================] - ETA: 51s - loss: 2.7165e-04 - categorical_accuracy: 1.000 - ETA: 50s - loss: 2.8225e-04 - categorical_accuracy: 1.000 - ETA: 48s - loss: 2.5972e-04 - categorical_accuracy: 1.000 - ETA: 47s - loss: 2.7522e-04 - categorical_accuracy: 1.000 - ETA: 46s - loss: 2.6032e-04 - categorical_accuracy: 1.000 - ETA: 45s - loss: 2.6253e-04 - categorical_accuracy: 1.000 - ETA: 43s - loss: 2.5090e-04 - categorical_accuracy: 1.000 - ETA: 42s - loss: 2.4294e-04 - categorical_accuracy: 1.000 - ETA: 40s - loss: 2.5164e-04 - categorical_accuracy: 1.000 - ETA: 39s - loss: 2.4490e-04 - categorical_accuracy: 1.000 - ETA: 37s - loss: 2.4360e-04 - categorical_accuracy: 1.000 - ETA: 36s - loss: 2.4003e-04 - categorical_accuracy: 1.000 - ETA: 34s - loss: 2.4378e-04 - categorical_accuracy: 1.000 - ETA: 33s - loss: 2.3904e-04 - categorical_accuracy: 1.000 - ETA: 31s - loss: 2.4472e-04 - categorical_accuracy: 1.000 - ETA: 29s - loss: 2.4517e-04 - categorical_accuracy: 1.000 - ETA: 28s - loss: 2.4986e-04 - categorical_accuracy: 1.000 - ETA: 26s - loss: 2.4979e-04 - categorical_accuracy: 1.000 - ETA: 25s - loss: 2.5236e-04 - categorical_accuracy: 1.000 - ETA: 23s - loss: 2.5125e-04 - categorical_accuracy: 1.000 - ETA: 22s - loss: 2.5036e-04 - categorical_accuracy: 1.000 - ETA: 20s - loss: 2.4758e-04 - categorical_accuracy: 1.000 - ETA: 18s - loss: 2.4942e-04 - categorical_accuracy: 1.000 - ETA: 17s - loss: 2.4903e-04 - categorical_accuracy: 1.000 - ETA: 15s - loss: 2.5025e-04 - categorical_accuracy: 1.000 - ETA: 14s - loss: 2.5251e-04 - categorical_accuracy: 1.000 - ETA: 12s - loss: 2.6541e-04 - categorical_accuracy: 1.000 - ETA: 10s - loss: 2.6329e-04 - categorical_accuracy: 1.000 - ETA: 9s - loss: 2.6257e-04 - categorical_accuracy: 1.000 - ETA: 7s - loss: 2.5914e-04 - categorical_accuracy: 1.00 - ETA: 6s - loss: 2.5853e-04 - categorical_accuracy: 1.00 - ETA: 4s - loss: 2.5545e-04 - categorical_accuracy: 1.00 - ETA: 3s - loss: 2.5587e-04 - categorical_accuracy: 1.00 - ETA: 1s - loss: 2.5601e-04 - categorical_accuracy: 1.00 - 63s 179ms/step - loss: 2.5992e-04 - categorical_accuracy: 1.0000 - val_loss: 0.0598 - val_categorical_accuracy: 0.9868\n",
      "Epoch 62/100\n",
      "349/349 [==============================] - ETA: 51s - loss: 1.9651e-04 - categorical_accuracy: 1.000 - ETA: 49s - loss: 1.9703e-04 - categorical_accuracy: 1.000 - ETA: 48s - loss: 2.0632e-04 - categorical_accuracy: 1.000 - ETA: 48s - loss: 2.2113e-04 - categorical_accuracy: 1.000 - ETA: 47s - loss: 2.1643e-04 - categorical_accuracy: 1.000 - ETA: 45s - loss: 2.5687e-04 - categorical_accuracy: 1.000 - ETA: 44s - loss: 2.5936e-04 - categorical_accuracy: 1.000 - ETA: 42s - loss: 2.5556e-04 - categorical_accuracy: 1.000 - ETA: 40s - loss: 2.5205e-04 - categorical_accuracy: 1.000 - ETA: 39s - loss: 2.5119e-04 - categorical_accuracy: 1.000 - ETA: 38s - loss: 2.4566e-04 - categorical_accuracy: 1.000 - ETA: 36s - loss: 2.4449e-04 - categorical_accuracy: 1.000 - ETA: 34s - loss: 2.4063e-04 - categorical_accuracy: 1.000 - ETA: 32s - loss: 2.3653e-04 - categorical_accuracy: 1.000 - ETA: 31s - loss: 2.3386e-04 - categorical_accuracy: 1.000 - ETA: 29s - loss: 2.3261e-04 - categorical_accuracy: 1.000 - ETA: 28s - loss: 2.3337e-04 - categorical_accuracy: 1.000 - ETA: 26s - loss: 2.3489e-04 - categorical_accuracy: 1.000 - ETA: 25s - loss: 2.3022e-04 - categorical_accuracy: 1.000 - ETA: 23s - loss: 2.3247e-04 - categorical_accuracy: 1.000 - ETA: 21s - loss: 2.2962e-04 - categorical_accuracy: 1.000 - ETA: 20s - loss: 2.3069e-04 - categorical_accuracy: 1.000 - ETA: 18s - loss: 2.2946e-04 - categorical_accuracy: 1.000 - ETA: 17s - loss: 2.3145e-04 - categorical_accuracy: 1.000 - ETA: 15s - loss: 2.3015e-04 - categorical_accuracy: 1.000 - ETA: 14s - loss: 2.3072e-04 - categorical_accuracy: 1.000 - ETA: 12s - loss: 2.2956e-04 - categorical_accuracy: 1.000 - ETA: 10s - loss: 2.2837e-04 - categorical_accuracy: 1.000 - ETA: 9s - loss: 2.3117e-04 - categorical_accuracy: 1.000 - ETA: 7s - loss: 2.3139e-04 - categorical_accuracy: 1.00 - ETA: 6s - loss: 2.3081e-04 - categorical_accuracy: 1.00 - ETA: 4s - loss: 2.2860e-04 - categorical_accuracy: 1.00 - ETA: 3s - loss: 2.3033e-04 - categorical_accuracy: 1.00 - ETA: 1s - loss: 2.2922e-04 - categorical_accuracy: 1.00 - 62s 178ms/step - loss: 2.2810e-04 - categorical_accuracy: 1.0000 - val_loss: 0.0602 - val_categorical_accuracy: 0.9868\n",
      "Epoch 63/100\n",
      "349/349 [==============================] - ETA: 51s - loss: 2.5163e-04 - categorical_accuracy: 1.000 - ETA: 51s - loss: 2.5406e-04 - categorical_accuracy: 1.000 - ETA: 51s - loss: 2.4928e-04 - categorical_accuracy: 1.000 - ETA: 49s - loss: 2.4712e-04 - categorical_accuracy: 1.000 - ETA: 47s - loss: 2.3609e-04 - categorical_accuracy: 1.000 - ETA: 45s - loss: 2.3128e-04 - categorical_accuracy: 1.000 - ETA: 43s - loss: 2.2358e-04 - categorical_accuracy: 1.000 - ETA: 42s - loss: 2.2513e-04 - categorical_accuracy: 1.000 - ETA: 41s - loss: 2.2655e-04 - categorical_accuracy: 1.000 - ETA: 39s - loss: 2.1986e-04 - categorical_accuracy: 1.000 - ETA: 38s - loss: 2.1912e-04 - categorical_accuracy: 1.000 - ETA: 36s - loss: 2.1513e-04 - categorical_accuracy: 1.000 - ETA: 34s - loss: 2.0948e-04 - categorical_accuracy: 1.000 - ETA: 33s - loss: 2.2480e-04 - categorical_accuracy: 1.000 - ETA: 31s - loss: 2.2640e-04 - categorical_accuracy: 1.000 - ETA: 30s - loss: 2.2512e-04 - categorical_accuracy: 1.000 - ETA: 28s - loss: 2.2080e-04 - categorical_accuracy: 1.000 - ETA: 27s - loss: 2.2207e-04 - categorical_accuracy: 1.000 - ETA: 25s - loss: 2.1990e-04 - categorical_accuracy: 1.000 - ETA: 23s - loss: 2.2256e-04 - categorical_accuracy: 1.000 - ETA: 22s - loss: 2.2185e-04 - categorical_accuracy: 1.000 - ETA: 20s - loss: 2.1990e-04 - categorical_accuracy: 1.000 - ETA: 19s - loss: 2.1781e-04 - categorical_accuracy: 1.000 - ETA: 17s - loss: 2.1567e-04 - categorical_accuracy: 1.000 - ETA: 16s - loss: 2.1391e-04 - categorical_accuracy: 1.000 - ETA: 14s - loss: 2.1492e-04 - categorical_accuracy: 1.000 - ETA: 12s - loss: 2.1297e-04 - categorical_accuracy: 1.000 - ETA: 11s - loss: 2.1427e-04 - categorical_accuracy: 1.000 - ETA: 9s - loss: 2.1336e-04 - categorical_accuracy: 1.000 - ETA: 7s - loss: 2.1272e-04 - categorical_accuracy: 1.00 - ETA: 6s - loss: 2.1317e-04 - categorical_accuracy: 1.00 - ETA: 4s - loss: 2.1524e-04 - categorical_accuracy: 1.00 - ETA: 3s - loss: 2.1496e-04 - categorical_accuracy: 1.00 - ETA: 1s - loss: 2.1422e-04 - categorical_accuracy: 1.00 - 64s 184ms/step - loss: 2.1404e-04 - categorical_accuracy: 1.0000 - val_loss: 0.0610 - val_categorical_accuracy: 0.9868\n",
      "Epoch 64/100\n",
      "349/349 [==============================] - ETA: 58s - loss: 1.8496e-04 - categorical_accuracy: 1.000 - ETA: 57s - loss: 1.8112e-04 - categorical_accuracy: 1.000 - ETA: 55s - loss: 1.9112e-04 - categorical_accuracy: 1.000 - ETA: 53s - loss: 1.8766e-04 - categorical_accuracy: 1.000 - ETA: 52s - loss: 1.7897e-04 - categorical_accuracy: 1.000 - ETA: 50s - loss: 1.8331e-04 - categorical_accuracy: 1.000 - ETA: 48s - loss: 1.9339e-04 - categorical_accuracy: 1.000 - ETA: 47s - loss: 1.9951e-04 - categorical_accuracy: 1.000 - ETA: 45s - loss: 2.0048e-04 - categorical_accuracy: 1.000 - ETA: 43s - loss: 2.0607e-04 - categorical_accuracy: 1.000 - ETA: 41s - loss: 2.1224e-04 - categorical_accuracy: 1.000 - ETA: 39s - loss: 2.0995e-04 - categorical_accuracy: 1.000 - ETA: 37s - loss: 2.0638e-04 - categorical_accuracy: 1.000 - ETA: 36s - loss: 2.0658e-04 - categorical_accuracy: 1.000 - ETA: 34s - loss: 2.0396e-04 - categorical_accuracy: 1.000 - ETA: 32s - loss: 2.0342e-04 - categorical_accuracy: 1.000 - ETA: 30s - loss: 2.0368e-04 - categorical_accuracy: 1.000 - ETA: 29s - loss: 2.0540e-04 - categorical_accuracy: 1.000 - ETA: 27s - loss: 2.0243e-04 - categorical_accuracy: 1.000 - ETA: 25s - loss: 2.0264e-04 - categorical_accuracy: 1.000 - ETA: 23s - loss: 2.0898e-04 - categorical_accuracy: 1.000 - ETA: 22s - loss: 2.0985e-04 - categorical_accuracy: 1.000 - ETA: 20s - loss: 2.0919e-04 - categorical_accuracy: 1.000 - ETA: 18s - loss: 2.0818e-04 - categorical_accuracy: 1.000 - ETA: 17s - loss: 2.0610e-04 - categorical_accuracy: 1.000 - ETA: 15s - loss: 2.0810e-04 - categorical_accuracy: 1.000 - ETA: 13s - loss: 2.1192e-04 - categorical_accuracy: 1.000 - ETA: 11s - loss: 2.1063e-04 - categorical_accuracy: 1.000 - ETA: 10s - loss: 2.1205e-04 - categorical_accuracy: 1.000 - ETA: 8s - loss: 2.1208e-04 - categorical_accuracy: 1.000 - ETA: 6s - loss: 2.1879e-04 - categorical_accuracy: 1.00 - ETA: 5s - loss: 2.1871e-04 - categorical_accuracy: 1.00 - ETA: 3s - loss: 2.1865e-04 - categorical_accuracy: 1.00 - ETA: 1s - loss: 2.1884e-04 - categorical_accuracy: 1.00 - 68s 195ms/step - loss: 2.1892e-04 - categorical_accuracy: 1.0000 - val_loss: 0.0599 - val_categorical_accuracy: 0.9868\n",
      "Epoch 65/100\n",
      "349/349 [==============================] - ETA: 58s - loss: 2.0959e-04 - categorical_accuracy: 1.000 - ETA: 56s - loss: 1.8969e-04 - categorical_accuracy: 1.000 - ETA: 55s - loss: 1.7157e-04 - categorical_accuracy: 1.000 - ETA: 53s - loss: 1.7940e-04 - categorical_accuracy: 1.000 - ETA: 51s - loss: 2.0251e-04 - categorical_accuracy: 1.000 - ETA: 49s - loss: 2.0610e-04 - categorical_accuracy: 1.000 - ETA: 47s - loss: 2.0496e-04 - categorical_accuracy: 1.000 - ETA: 46s - loss: 2.0139e-04 - categorical_accuracy: 1.000 - ETA: 44s - loss: 1.9864e-04 - categorical_accuracy: 1.000 - ETA: 43s - loss: 2.0782e-04 - categorical_accuracy: 1.000 - ETA: 41s - loss: 2.0822e-04 - categorical_accuracy: 1.000 - ETA: 40s - loss: 2.0866e-04 - categorical_accuracy: 1.000 - ETA: 38s - loss: 2.0976e-04 - categorical_accuracy: 1.000 - ETA: 36s - loss: 2.0967e-04 - categorical_accuracy: 1.000 - ETA: 35s - loss: 2.1583e-04 - categorical_accuracy: 1.000 - ETA: 33s - loss: 2.1943e-04 - categorical_accuracy: 1.000 - ETA: 31s - loss: 2.1699e-04 - categorical_accuracy: 1.000 - ETA: 29s - loss: 2.1672e-04 - categorical_accuracy: 1.000 - ETA: 27s - loss: 2.1566e-04 - categorical_accuracy: 1.000 - ETA: 26s - loss: 2.1262e-04 - categorical_accuracy: 1.000 - ETA: 24s - loss: 2.1044e-04 - categorical_accuracy: 1.000 - ETA: 22s - loss: 2.1117e-04 - categorical_accuracy: 1.000 - ETA: 20s - loss: 2.1072e-04 - categorical_accuracy: 1.000 - ETA: 19s - loss: 2.0995e-04 - categorical_accuracy: 1.000 - ETA: 17s - loss: 2.0854e-04 - categorical_accuracy: 1.000 - ETA: 15s - loss: 2.0778e-04 - categorical_accuracy: 1.000 - ETA: 13s - loss: 2.0667e-04 - categorical_accuracy: 1.000 - ETA: 12s - loss: 2.0563e-04 - categorical_accuracy: 1.000 - ETA: 10s - loss: 2.0513e-04 - categorical_accuracy: 1.000 - ETA: 8s - loss: 2.0463e-04 - categorical_accuracy: 1.000 - ETA: 6s - loss: 2.0400e-04 - categorical_accuracy: 1.00 - ETA: 5s - loss: 2.0629e-04 - categorical_accuracy: 1.00 - ETA: 3s - loss: 2.0544e-04 - categorical_accuracy: 1.00 - ETA: 1s - loss: 2.0610e-04 - categorical_accuracy: 1.00 - 68s 196ms/step - loss: 2.0401e-04 - categorical_accuracy: 1.0000 - val_loss: 0.0592 - val_categorical_accuracy: 0.9868\n",
      "Epoch 66/100\n"
     ]
    },
    {
     "name": "stdout",
     "output_type": "stream",
     "text": [
      "349/349 [==============================] - ETA: 54s - loss: 1.6088e-04 - categorical_accuracy: 1.000 - ETA: 54s - loss: 2.0598e-04 - categorical_accuracy: 1.000 - ETA: 54s - loss: 2.0315e-04 - categorical_accuracy: 1.000 - ETA: 52s - loss: 2.2290e-04 - categorical_accuracy: 1.000 - ETA: 51s - loss: 2.0567e-04 - categorical_accuracy: 1.000 - ETA: 49s - loss: 2.0581e-04 - categorical_accuracy: 1.000 - ETA: 47s - loss: 2.0832e-04 - categorical_accuracy: 1.000 - ETA: 46s - loss: 2.0338e-04 - categorical_accuracy: 1.000 - ETA: 44s - loss: 2.0145e-04 - categorical_accuracy: 1.000 - ETA: 43s - loss: 2.0218e-04 - categorical_accuracy: 1.000 - ETA: 41s - loss: 1.9641e-04 - categorical_accuracy: 1.000 - ETA: 39s - loss: 1.9910e-04 - categorical_accuracy: 1.000 - ETA: 38s - loss: 1.9872e-04 - categorical_accuracy: 1.000 - ETA: 36s - loss: 1.9617e-04 - categorical_accuracy: 1.000 - ETA: 34s - loss: 2.0502e-04 - categorical_accuracy: 1.000 - ETA: 32s - loss: 2.0180e-04 - categorical_accuracy: 1.000 - ETA: 31s - loss: 1.9863e-04 - categorical_accuracy: 1.000 - ETA: 29s - loss: 1.9711e-04 - categorical_accuracy: 1.000 - ETA: 27s - loss: 1.9530e-04 - categorical_accuracy: 1.000 - ETA: 25s - loss: 1.9417e-04 - categorical_accuracy: 1.000 - ETA: 24s - loss: 1.9365e-04 - categorical_accuracy: 1.000 - ETA: 22s - loss: 1.9803e-04 - categorical_accuracy: 1.000 - ETA: 20s - loss: 1.9756e-04 - categorical_accuracy: 1.000 - ETA: 18s - loss: 1.9759e-04 - categorical_accuracy: 1.000 - ETA: 17s - loss: 1.9786e-04 - categorical_accuracy: 1.000 - ETA: 15s - loss: 1.9777e-04 - categorical_accuracy: 1.000 - ETA: 13s - loss: 2.0892e-04 - categorical_accuracy: 1.000 - ETA: 11s - loss: 2.0603e-04 - categorical_accuracy: 1.000 - ETA: 10s - loss: 2.0473e-04 - categorical_accuracy: 1.000 - ETA: 8s - loss: 2.0431e-04 - categorical_accuracy: 1.000 - ETA: 6s - loss: 2.0398e-04 - categorical_accuracy: 1.00 - ETA: 4s - loss: 2.0280e-04 - categorical_accuracy: 1.00 - ETA: 3s - loss: 2.0201e-04 - categorical_accuracy: 1.00 - ETA: 1s - loss: 2.0042e-04 - categorical_accuracy: 1.00 - 67s 193ms/step - loss: 1.9953e-04 - categorical_accuracy: 1.0000 - val_loss: 0.0590 - val_categorical_accuracy: 0.9868\n",
      "Epoch 67/100\n",
      "349/349 [==============================] - ETA: 58s - loss: 1.7596e-04 - categorical_accuracy: 1.000 - ETA: 54s - loss: 1.7720e-04 - categorical_accuracy: 1.000 - ETA: 52s - loss: 1.8401e-04 - categorical_accuracy: 1.000 - ETA: 51s - loss: 2.1815e-04 - categorical_accuracy: 1.000 - ETA: 50s - loss: 2.0459e-04 - categorical_accuracy: 1.000 - ETA: 49s - loss: 2.0671e-04 - categorical_accuracy: 1.000 - ETA: 47s - loss: 1.9941e-04 - categorical_accuracy: 1.000 - ETA: 45s - loss: 1.9140e-04 - categorical_accuracy: 1.000 - ETA: 44s - loss: 1.8936e-04 - categorical_accuracy: 1.000 - ETA: 42s - loss: 1.8838e-04 - categorical_accuracy: 1.000 - ETA: 40s - loss: 1.8428e-04 - categorical_accuracy: 1.000 - ETA: 39s - loss: 1.8327e-04 - categorical_accuracy: 1.000 - ETA: 37s - loss: 1.9101e-04 - categorical_accuracy: 1.000 - ETA: 35s - loss: 1.8998e-04 - categorical_accuracy: 1.000 - ETA: 34s - loss: 1.8850e-04 - categorical_accuracy: 1.000 - ETA: 32s - loss: 1.8609e-04 - categorical_accuracy: 1.000 - ETA: 30s - loss: 1.8731e-04 - categorical_accuracy: 1.000 - ETA: 29s - loss: 1.8870e-04 - categorical_accuracy: 1.000 - ETA: 27s - loss: 1.9295e-04 - categorical_accuracy: 1.000 - ETA: 25s - loss: 1.9261e-04 - categorical_accuracy: 1.000 - ETA: 23s - loss: 1.9181e-04 - categorical_accuracy: 1.000 - ETA: 22s - loss: 1.9227e-04 - categorical_accuracy: 1.000 - ETA: 20s - loss: 1.9196e-04 - categorical_accuracy: 1.000 - ETA: 18s - loss: 1.9137e-04 - categorical_accuracy: 1.000 - ETA: 16s - loss: 1.9194e-04 - categorical_accuracy: 1.000 - ETA: 15s - loss: 1.9047e-04 - categorical_accuracy: 1.000 - ETA: 13s - loss: 1.9208e-04 - categorical_accuracy: 1.000 - ETA: 11s - loss: 1.9265e-04 - categorical_accuracy: 1.000 - ETA: 10s - loss: 1.9353e-04 - categorical_accuracy: 1.000 - ETA: 8s - loss: 1.9633e-04 - categorical_accuracy: 1.000 - ETA: 6s - loss: 1.9585e-04 - categorical_accuracy: 1.00 - ETA: 4s - loss: 1.9517e-04 - categorical_accuracy: 1.00 - ETA: 3s - loss: 1.9599e-04 - categorical_accuracy: 1.00 - ETA: 1s - loss: 1.9469e-04 - categorical_accuracy: 1.00 - 67s 191ms/step - loss: 1.9516e-04 - categorical_accuracy: 1.0000 - val_loss: 0.0607 - val_categorical_accuracy: 0.9868\n",
      "Epoch 68/100\n",
      "349/349 [==============================] - ETA: 58s - loss: 2.4649e-04 - categorical_accuracy: 1.000 - ETA: 54s - loss: 2.1588e-04 - categorical_accuracy: 1.000 - ETA: 52s - loss: 2.0597e-04 - categorical_accuracy: 1.000 - ETA: 49s - loss: 2.1936e-04 - categorical_accuracy: 1.000 - ETA: 47s - loss: 2.1687e-04 - categorical_accuracy: 1.000 - ETA: 46s - loss: 2.5512e-04 - categorical_accuracy: 1.000 - ETA: 45s - loss: 2.4098e-04 - categorical_accuracy: 1.000 - ETA: 44s - loss: 2.3424e-04 - categorical_accuracy: 1.000 - ETA: 42s - loss: 2.2782e-04 - categorical_accuracy: 1.000 - ETA: 40s - loss: 2.2149e-04 - categorical_accuracy: 1.000 - ETA: 39s - loss: 2.1717e-04 - categorical_accuracy: 1.000 - ETA: 37s - loss: 2.1453e-04 - categorical_accuracy: 1.000 - ETA: 36s - loss: 2.1730e-04 - categorical_accuracy: 1.000 - ETA: 34s - loss: 2.1497e-04 - categorical_accuracy: 1.000 - ETA: 33s - loss: 2.1715e-04 - categorical_accuracy: 1.000 - ETA: 31s - loss: 2.1313e-04 - categorical_accuracy: 1.000 - ETA: 29s - loss: 2.0991e-04 - categorical_accuracy: 1.000 - ETA: 27s - loss: 2.0598e-04 - categorical_accuracy: 1.000 - ETA: 26s - loss: 2.0561e-04 - categorical_accuracy: 1.000 - ETA: 24s - loss: 2.0416e-04 - categorical_accuracy: 1.000 - ETA: 23s - loss: 2.0210e-04 - categorical_accuracy: 1.000 - ETA: 21s - loss: 2.0087e-04 - categorical_accuracy: 1.000 - ETA: 19s - loss: 2.0213e-04 - categorical_accuracy: 1.000 - ETA: 18s - loss: 2.0572e-04 - categorical_accuracy: 1.000 - ETA: 16s - loss: 2.0537e-04 - categorical_accuracy: 1.000 - ETA: 14s - loss: 2.0475e-04 - categorical_accuracy: 1.000 - ETA: 13s - loss: 2.0367e-04 - categorical_accuracy: 1.000 - ETA: 11s - loss: 2.0236e-04 - categorical_accuracy: 1.000 - ETA: 9s - loss: 2.0116e-04 - categorical_accuracy: 1.000 - ETA: 8s - loss: 2.0095e-04 - categorical_accuracy: 1.00 - ETA: 6s - loss: 2.0454e-04 - categorical_accuracy: 1.00 - ETA: 4s - loss: 2.0265e-04 - categorical_accuracy: 1.00 - ETA: 3s - loss: 2.0548e-04 - categorical_accuracy: 1.00 - ETA: 1s - loss: 2.0421e-04 - categorical_accuracy: 1.00 - 65s 188ms/step - loss: 2.0323e-04 - categorical_accuracy: 1.0000 - val_loss: 0.0599 - val_categorical_accuracy: 0.9868\n",
      "Epoch 69/100\n",
      "349/349 [==============================] - ETA: 51s - loss: 1.7953e-04 - categorical_accuracy: 1.000 - ETA: 52s - loss: 1.7764e-04 - categorical_accuracy: 1.000 - ETA: 53s - loss: 1.8011e-04 - categorical_accuracy: 1.000 - ETA: 52s - loss: 2.0832e-04 - categorical_accuracy: 1.000 - ETA: 50s - loss: 2.0176e-04 - categorical_accuracy: 1.000 - ETA: 49s - loss: 1.9700e-04 - categorical_accuracy: 1.000 - ETA: 46s - loss: 2.1275e-04 - categorical_accuracy: 1.000 - ETA: 44s - loss: 2.1458e-04 - categorical_accuracy: 1.000 - ETA: 43s - loss: 2.0970e-04 - categorical_accuracy: 1.000 - ETA: 42s - loss: 2.0729e-04 - categorical_accuracy: 1.000 - ETA: 40s - loss: 2.0530e-04 - categorical_accuracy: 1.000 - ETA: 38s - loss: 2.0142e-04 - categorical_accuracy: 1.000 - ETA: 36s - loss: 2.1253e-04 - categorical_accuracy: 1.000 - ETA: 35s - loss: 2.0852e-04 - categorical_accuracy: 1.000 - ETA: 33s - loss: 2.0687e-04 - categorical_accuracy: 1.000 - ETA: 32s - loss: 2.1203e-04 - categorical_accuracy: 1.000 - ETA: 30s - loss: 2.1033e-04 - categorical_accuracy: 1.000 - ETA: 28s - loss: 2.0712e-04 - categorical_accuracy: 1.000 - ETA: 26s - loss: 2.0730e-04 - categorical_accuracy: 1.000 - ETA: 25s - loss: 2.0698e-04 - categorical_accuracy: 1.000 - ETA: 23s - loss: 2.0715e-04 - categorical_accuracy: 1.000 - ETA: 21s - loss: 2.0688e-04 - categorical_accuracy: 1.000 - ETA: 20s - loss: 2.0607e-04 - categorical_accuracy: 1.000 - ETA: 18s - loss: 2.0401e-04 - categorical_accuracy: 1.000 - ETA: 16s - loss: 2.0285e-04 - categorical_accuracy: 1.000 - ETA: 14s - loss: 2.0064e-04 - categorical_accuracy: 1.000 - ETA: 13s - loss: 2.0444e-04 - categorical_accuracy: 1.000 - ETA: 11s - loss: 2.0371e-04 - categorical_accuracy: 1.000 - ETA: 9s - loss: 2.0446e-04 - categorical_accuracy: 1.000 - ETA: 8s - loss: 2.0334e-04 - categorical_accuracy: 1.00 - ETA: 6s - loss: 2.0228e-04 - categorical_accuracy: 1.00 - ETA: 4s - loss: 2.0253e-04 - categorical_accuracy: 1.00 - ETA: 3s - loss: 2.0138e-04 - categorical_accuracy: 1.00 - ETA: 1s - loss: 2.0044e-04 - categorical_accuracy: 1.00 - 66s 190ms/step - loss: 1.9855e-04 - categorical_accuracy: 1.0000 - val_loss: 0.0611 - val_categorical_accuracy: 0.9868\n",
      "Epoch 70/100\n",
      "349/349 [==============================] - ETA: 58s - loss: 2.2012e-04 - categorical_accuracy: 1.000 - ETA: 54s - loss: 2.1081e-04 - categorical_accuracy: 1.000 - ETA: 51s - loss: 1.9260e-04 - categorical_accuracy: 1.000 - ETA: 49s - loss: 1.9354e-04 - categorical_accuracy: 1.000 - ETA: 48s - loss: 1.8485e-04 - categorical_accuracy: 1.000 - ETA: 47s - loss: 1.7562e-04 - categorical_accuracy: 1.000 - ETA: 46s - loss: 1.7871e-04 - categorical_accuracy: 1.000 - ETA: 44s - loss: 1.7669e-04 - categorical_accuracy: 1.000 - ETA: 42s - loss: 1.7566e-04 - categorical_accuracy: 1.000 - ETA: 40s - loss: 1.7597e-04 - categorical_accuracy: 1.000 - ETA: 39s - loss: 1.7552e-04 - categorical_accuracy: 1.000 - ETA: 38s - loss: 1.7288e-04 - categorical_accuracy: 1.000 - ETA: 36s - loss: 1.7502e-04 - categorical_accuracy: 1.000 - ETA: 34s - loss: 1.7472e-04 - categorical_accuracy: 1.000 - ETA: 33s - loss: 1.7253e-04 - categorical_accuracy: 1.000 - ETA: 31s - loss: 1.7380e-04 - categorical_accuracy: 1.000 - ETA: 29s - loss: 1.7263e-04 - categorical_accuracy: 1.000 - ETA: 28s - loss: 1.7194e-04 - categorical_accuracy: 1.000 - ETA: 26s - loss: 1.7308e-04 - categorical_accuracy: 1.000 - ETA: 25s - loss: 1.7414e-04 - categorical_accuracy: 1.000 - ETA: 23s - loss: 1.7231e-04 - categorical_accuracy: 1.000 - ETA: 21s - loss: 1.7481e-04 - categorical_accuracy: 1.000 - ETA: 19s - loss: 1.7411e-04 - categorical_accuracy: 1.000 - ETA: 18s - loss: 1.7700e-04 - categorical_accuracy: 1.000 - ETA: 16s - loss: 1.7524e-04 - categorical_accuracy: 1.000 - ETA: 14s - loss: 1.7515e-04 - categorical_accuracy: 1.000 - ETA: 13s - loss: 1.7521e-04 - categorical_accuracy: 1.000 - ETA: 11s - loss: 1.7962e-04 - categorical_accuracy: 1.000 - ETA: 9s - loss: 1.8020e-04 - categorical_accuracy: 1.000 - ETA: 8s - loss: 1.7986e-04 - categorical_accuracy: 1.00 - ETA: 6s - loss: 1.8137e-04 - categorical_accuracy: 1.00 - ETA: 4s - loss: 1.8168e-04 - categorical_accuracy: 1.00 - ETA: 3s - loss: 1.8218e-04 - categorical_accuracy: 1.00 - ETA: 1s - loss: 1.8450e-04 - categorical_accuracy: 1.00 - 66s 190ms/step - loss: 1.8610e-04 - categorical_accuracy: 1.0000 - val_loss: 0.0629 - val_categorical_accuracy: 0.9868\n",
      "Epoch 71/100\n",
      "349/349 [==============================] - ETA: 57s - loss: 2.0787e-04 - categorical_accuracy: 1.000 - ETA: 56s - loss: 2.0087e-04 - categorical_accuracy: 1.000 - ETA: 54s - loss: 1.8958e-04 - categorical_accuracy: 1.000 - ETA: 53s - loss: 1.8375e-04 - categorical_accuracy: 1.000 - ETA: 51s - loss: 1.7697e-04 - categorical_accuracy: 1.000 - ETA: 49s - loss: 1.7290e-04 - categorical_accuracy: 1.000 - ETA: 47s - loss: 1.6944e-04 - categorical_accuracy: 1.000 - ETA: 46s - loss: 1.7446e-04 - categorical_accuracy: 1.000 - ETA: 44s - loss: 1.7252e-04 - categorical_accuracy: 1.000 - ETA: 42s - loss: 1.6947e-04 - categorical_accuracy: 1.000 - ETA: 41s - loss: 1.6794e-04 - categorical_accuracy: 1.000 - ETA: 40s - loss: 1.6908e-04 - categorical_accuracy: 1.000 - ETA: 39s - loss: 1.6971e-04 - categorical_accuracy: 1.000 - ETA: 37s - loss: 1.6924e-04 - categorical_accuracy: 1.000 - ETA: 36s - loss: 1.6940e-04 - categorical_accuracy: 1.000 - ETA: 34s - loss: 1.6946e-04 - categorical_accuracy: 1.000 - ETA: 32s - loss: 1.7214e-04 - categorical_accuracy: 1.000 - ETA: 30s - loss: 1.7323e-04 - categorical_accuracy: 1.000 - ETA: 29s - loss: 1.7291e-04 - categorical_accuracy: 1.000 - ETA: 27s - loss: 1.6967e-04 - categorical_accuracy: 1.000 - ETA: 25s - loss: 1.6888e-04 - categorical_accuracy: 1.000 - ETA: 23s - loss: 1.7020e-04 - categorical_accuracy: 1.000 - ETA: 22s - loss: 1.7010e-04 - categorical_accuracy: 1.000 - ETA: 20s - loss: 1.7054e-04 - categorical_accuracy: 1.000 - ETA: 18s - loss: 1.7228e-04 - categorical_accuracy: 1.000 - ETA: 16s - loss: 1.7207e-04 - categorical_accuracy: 1.000 - ETA: 14s - loss: 1.7393e-04 - categorical_accuracy: 1.000 - ETA: 12s - loss: 1.7395e-04 - categorical_accuracy: 1.000 - ETA: 10s - loss: 1.7299e-04 - categorical_accuracy: 1.000 - ETA: 8s - loss: 1.7188e-04 - categorical_accuracy: 1.000 - ETA: 7s - loss: 1.7170e-04 - categorical_accuracy: 1.00 - ETA: 5s - loss: 1.7465e-04 - categorical_accuracy: 1.00 - ETA: 3s - loss: 1.7383e-04 - categorical_accuracy: 1.00 - ETA: 1s - loss: 1.7217e-04 - categorical_accuracy: 1.00 - 69s 198ms/step - loss: 1.7166e-04 - categorical_accuracy: 1.0000 - val_loss: 0.0647 - val_categorical_accuracy: 0.9868\n",
      "Epoch 72/100\n"
     ]
    },
    {
     "name": "stdout",
     "output_type": "stream",
     "text": [
      "349/349 [==============================] - ETA: 50s - loss: 1.2198e-04 - categorical_accuracy: 1.000 - ETA: 49s - loss: 1.2895e-04 - categorical_accuracy: 1.000 - ETA: 48s - loss: 1.5971e-04 - categorical_accuracy: 1.000 - ETA: 47s - loss: 1.6131e-04 - categorical_accuracy: 1.000 - ETA: 46s - loss: 1.7124e-04 - categorical_accuracy: 1.000 - ETA: 45s - loss: 1.6902e-04 - categorical_accuracy: 1.000 - ETA: 43s - loss: 1.6405e-04 - categorical_accuracy: 1.000 - ETA: 41s - loss: 1.6360e-04 - categorical_accuracy: 1.000 - ETA: 40s - loss: 1.6392e-04 - categorical_accuracy: 1.000 - ETA: 38s - loss: 1.6250e-04 - categorical_accuracy: 1.000 - ETA: 37s - loss: 1.6090e-04 - categorical_accuracy: 1.000 - ETA: 36s - loss: 1.6932e-04 - categorical_accuracy: 1.000 - ETA: 34s - loss: 1.7592e-04 - categorical_accuracy: 1.000 - ETA: 32s - loss: 1.7338e-04 - categorical_accuracy: 1.000 - ETA: 31s - loss: 1.7361e-04 - categorical_accuracy: 1.000 - ETA: 29s - loss: 1.7334e-04 - categorical_accuracy: 1.000 - ETA: 27s - loss: 1.7290e-04 - categorical_accuracy: 1.000 - ETA: 26s - loss: 1.7388e-04 - categorical_accuracy: 1.000 - ETA: 24s - loss: 1.7112e-04 - categorical_accuracy: 1.000 - ETA: 23s - loss: 1.7073e-04 - categorical_accuracy: 1.000 - ETA: 21s - loss: 1.7256e-04 - categorical_accuracy: 1.000 - ETA: 20s - loss: 1.7333e-04 - categorical_accuracy: 1.000 - ETA: 18s - loss: 1.7443e-04 - categorical_accuracy: 1.000 - ETA: 17s - loss: 1.7390e-04 - categorical_accuracy: 1.000 - ETA: 15s - loss: 1.7264e-04 - categorical_accuracy: 1.000 - ETA: 13s - loss: 1.7154e-04 - categorical_accuracy: 1.000 - ETA: 12s - loss: 1.7130e-04 - categorical_accuracy: 1.000 - ETA: 10s - loss: 1.7162e-04 - categorical_accuracy: 1.000 - ETA: 9s - loss: 1.7192e-04 - categorical_accuracy: 1.000 - ETA: 7s - loss: 1.7038e-04 - categorical_accuracy: 1.00 - ETA: 6s - loss: 1.7063e-04 - categorical_accuracy: 1.00 - ETA: 4s - loss: 1.7235e-04 - categorical_accuracy: 1.00 - ETA: 2s - loss: 1.7233e-04 - categorical_accuracy: 1.00 - ETA: 1s - loss: 1.7161e-04 - categorical_accuracy: 1.00 - 62s 176ms/step - loss: 1.7144e-04 - categorical_accuracy: 1.0000 - val_loss: 0.0640 - val_categorical_accuracy: 0.9868\n",
      "Epoch 73/100\n",
      "349/349 [==============================] - ETA: 51s - loss: 1.2456e-04 - categorical_accuracy: 1.000 - ETA: 49s - loss: 1.5625e-04 - categorical_accuracy: 1.000 - ETA: 49s - loss: 1.5825e-04 - categorical_accuracy: 1.000 - ETA: 49s - loss: 1.6328e-04 - categorical_accuracy: 1.000 - ETA: 47s - loss: 1.5646e-04 - categorical_accuracy: 1.000 - ETA: 45s - loss: 1.5298e-04 - categorical_accuracy: 1.000 - ETA: 43s - loss: 1.5370e-04 - categorical_accuracy: 1.000 - ETA: 41s - loss: 1.5802e-04 - categorical_accuracy: 1.000 - ETA: 40s - loss: 1.5808e-04 - categorical_accuracy: 1.000 - ETA: 39s - loss: 1.5522e-04 - categorical_accuracy: 1.000 - ETA: 37s - loss: 1.5713e-04 - categorical_accuracy: 1.000 - ETA: 35s - loss: 1.5845e-04 - categorical_accuracy: 1.000 - ETA: 34s - loss: 1.6608e-04 - categorical_accuracy: 1.000 - ETA: 32s - loss: 1.6629e-04 - categorical_accuracy: 1.000 - ETA: 31s - loss: 1.7540e-04 - categorical_accuracy: 1.000 - ETA: 29s - loss: 1.7748e-04 - categorical_accuracy: 1.000 - ETA: 28s - loss: 1.7594e-04 - categorical_accuracy: 1.000 - ETA: 26s - loss: 1.7666e-04 - categorical_accuracy: 1.000 - ETA: 25s - loss: 1.8001e-04 - categorical_accuracy: 1.000 - ETA: 23s - loss: 1.7794e-04 - categorical_accuracy: 1.000 - ETA: 21s - loss: 1.7620e-04 - categorical_accuracy: 1.000 - ETA: 20s - loss: 1.7526e-04 - categorical_accuracy: 1.000 - ETA: 18s - loss: 1.7688e-04 - categorical_accuracy: 1.000 - ETA: 17s - loss: 1.7559e-04 - categorical_accuracy: 1.000 - ETA: 15s - loss: 1.7436e-04 - categorical_accuracy: 1.000 - ETA: 14s - loss: 1.7236e-04 - categorical_accuracy: 1.000 - ETA: 12s - loss: 1.7428e-04 - categorical_accuracy: 1.000 - ETA: 10s - loss: 1.7331e-04 - categorical_accuracy: 1.000 - ETA: 9s - loss: 1.7204e-04 - categorical_accuracy: 1.000 - ETA: 7s - loss: 1.7304e-04 - categorical_accuracy: 1.00 - ETA: 6s - loss: 1.7209e-04 - categorical_accuracy: 1.00 - ETA: 4s - loss: 1.7328e-04 - categorical_accuracy: 1.00 - ETA: 2s - loss: 1.7347e-04 - categorical_accuracy: 1.00 - ETA: 1s - loss: 1.7270e-04 - categorical_accuracy: 1.00 - 62s 177ms/step - loss: 1.7299e-04 - categorical_accuracy: 1.0000 - val_loss: 0.0649 - val_categorical_accuracy: 0.9868\n",
      "Epoch 74/100\n",
      "349/349 [==============================] - ETA: 49s - loss: 1.4870e-04 - categorical_accuracy: 1.000 - ETA: 50s - loss: 1.4057e-04 - categorical_accuracy: 1.000 - ETA: 51s - loss: 1.6052e-04 - categorical_accuracy: 1.000 - ETA: 49s - loss: 1.6692e-04 - categorical_accuracy: 1.000 - ETA: 47s - loss: 1.7652e-04 - categorical_accuracy: 1.000 - ETA: 45s - loss: 1.7582e-04 - categorical_accuracy: 1.000 - ETA: 43s - loss: 1.7610e-04 - categorical_accuracy: 1.000 - ETA: 41s - loss: 1.7190e-04 - categorical_accuracy: 1.000 - ETA: 40s - loss: 1.7076e-04 - categorical_accuracy: 1.000 - ETA: 39s - loss: 1.7449e-04 - categorical_accuracy: 1.000 - ETA: 37s - loss: 1.7467e-04 - categorical_accuracy: 1.000 - ETA: 35s - loss: 1.7228e-04 - categorical_accuracy: 1.000 - ETA: 34s - loss: 1.7359e-04 - categorical_accuracy: 1.000 - ETA: 32s - loss: 1.7599e-04 - categorical_accuracy: 1.000 - ETA: 31s - loss: 1.7687e-04 - categorical_accuracy: 1.000 - ETA: 29s - loss: 1.7339e-04 - categorical_accuracy: 1.000 - ETA: 28s - loss: 1.7099e-04 - categorical_accuracy: 1.000 - ETA: 26s - loss: 1.7138e-04 - categorical_accuracy: 1.000 - ETA: 24s - loss: 1.7072e-04 - categorical_accuracy: 1.000 - ETA: 23s - loss: 1.7175e-04 - categorical_accuracy: 1.000 - ETA: 21s - loss: 1.7157e-04 - categorical_accuracy: 1.000 - ETA: 20s - loss: 1.7096e-04 - categorical_accuracy: 1.000 - ETA: 18s - loss: 1.7347e-04 - categorical_accuracy: 1.000 - ETA: 17s - loss: 1.7350e-04 - categorical_accuracy: 1.000 - ETA: 15s - loss: 1.7189e-04 - categorical_accuracy: 1.000 - ETA: 13s - loss: 1.7161e-04 - categorical_accuracy: 1.000 - ETA: 12s - loss: 1.7065e-04 - categorical_accuracy: 1.000 - ETA: 10s - loss: 1.7111e-04 - categorical_accuracy: 1.000 - ETA: 9s - loss: 1.7015e-04 - categorical_accuracy: 1.000 - ETA: 7s - loss: 1.7236e-04 - categorical_accuracy: 1.00 - ETA: 6s - loss: 1.7174e-04 - categorical_accuracy: 1.00 - ETA: 4s - loss: 1.7079e-04 - categorical_accuracy: 1.00 - ETA: 2s - loss: 1.7035e-04 - categorical_accuracy: 1.00 - ETA: 1s - loss: 1.7106e-04 - categorical_accuracy: 1.00 - 62s 176ms/step - loss: 1.7024e-04 - categorical_accuracy: 1.0000 - val_loss: 0.0650 - val_categorical_accuracy: 0.9868\n",
      "Epoch 75/100\n",
      "349/349 [==============================] - ETA: 54s - loss: 1.1431e-04 - categorical_accuracy: 1.000 - ETA: 54s - loss: 1.3210e-04 - categorical_accuracy: 1.000 - ETA: 51s - loss: 1.4316e-04 - categorical_accuracy: 1.000 - ETA: 49s - loss: 1.5236e-04 - categorical_accuracy: 1.000 - ETA: 47s - loss: 1.6537e-04 - categorical_accuracy: 1.000 - ETA: 45s - loss: 1.6763e-04 - categorical_accuracy: 1.000 - ETA: 43s - loss: 1.6629e-04 - categorical_accuracy: 1.000 - ETA: 42s - loss: 1.6026e-04 - categorical_accuracy: 1.000 - ETA: 41s - loss: 1.5892e-04 - categorical_accuracy: 1.000 - ETA: 39s - loss: 1.5689e-04 - categorical_accuracy: 1.000 - ETA: 37s - loss: 1.5631e-04 - categorical_accuracy: 1.000 - ETA: 36s - loss: 1.5505e-04 - categorical_accuracy: 1.000 - ETA: 34s - loss: 1.6019e-04 - categorical_accuracy: 1.000 - ETA: 32s - loss: 1.5679e-04 - categorical_accuracy: 1.000 - ETA: 31s - loss: 1.5568e-04 - categorical_accuracy: 1.000 - ETA: 29s - loss: 1.5673e-04 - categorical_accuracy: 1.000 - ETA: 28s - loss: 1.5836e-04 - categorical_accuracy: 1.000 - ETA: 26s - loss: 1.5728e-04 - categorical_accuracy: 1.000 - ETA: 25s - loss: 1.5594e-04 - categorical_accuracy: 1.000 - ETA: 23s - loss: 1.5608e-04 - categorical_accuracy: 1.000 - ETA: 22s - loss: 1.5475e-04 - categorical_accuracy: 1.000 - ETA: 20s - loss: 1.5607e-04 - categorical_accuracy: 1.000 - ETA: 18s - loss: 1.5569e-04 - categorical_accuracy: 1.000 - ETA: 17s - loss: 1.5480e-04 - categorical_accuracy: 1.000 - ETA: 15s - loss: 1.5648e-04 - categorical_accuracy: 1.000 - ETA: 14s - loss: 1.5550e-04 - categorical_accuracy: 1.000 - ETA: 12s - loss: 1.5581e-04 - categorical_accuracy: 1.000 - ETA: 10s - loss: 1.5515e-04 - categorical_accuracy: 1.000 - ETA: 9s - loss: 1.5489e-04 - categorical_accuracy: 1.000 - ETA: 7s - loss: 1.5487e-04 - categorical_accuracy: 1.00 - ETA: 6s - loss: 1.5653e-04 - categorical_accuracy: 1.00 - ETA: 4s - loss: 1.5577e-04 - categorical_accuracy: 1.00 - ETA: 3s - loss: 1.5560e-04 - categorical_accuracy: 1.00 - ETA: 1s - loss: 1.5570e-04 - categorical_accuracy: 1.00 - 62s 178ms/step - loss: 1.5543e-04 - categorical_accuracy: 1.0000 - val_loss: 0.0653 - val_categorical_accuracy: 0.9868\n",
      "Epoch 76/100\n",
      "349/349 [==============================] - ETA: 56s - loss: 1.2815e-04 - categorical_accuracy: 1.000 - ETA: 52s - loss: 1.5062e-04 - categorical_accuracy: 1.000 - ETA: 50s - loss: 1.5315e-04 - categorical_accuracy: 1.000 - ETA: 48s - loss: 1.6267e-04 - categorical_accuracy: 1.000 - ETA: 46s - loss: 1.5647e-04 - categorical_accuracy: 1.000 - ETA: 45s - loss: 1.5649e-04 - categorical_accuracy: 1.000 - ETA: 44s - loss: 1.7431e-04 - categorical_accuracy: 1.000 - ETA: 42s - loss: 1.7918e-04 - categorical_accuracy: 1.000 - ETA: 40s - loss: 1.7814e-04 - categorical_accuracy: 1.000 - ETA: 39s - loss: 1.7915e-04 - categorical_accuracy: 1.000 - ETA: 37s - loss: 1.7781e-04 - categorical_accuracy: 1.000 - ETA: 35s - loss: 1.7878e-04 - categorical_accuracy: 1.000 - ETA: 34s - loss: 1.7851e-04 - categorical_accuracy: 1.000 - ETA: 33s - loss: 1.7491e-04 - categorical_accuracy: 1.000 - ETA: 31s - loss: 1.7233e-04 - categorical_accuracy: 1.000 - ETA: 29s - loss: 1.6923e-04 - categorical_accuracy: 1.000 - ETA: 28s - loss: 1.6655e-04 - categorical_accuracy: 1.000 - ETA: 26s - loss: 1.6703e-04 - categorical_accuracy: 1.000 - ETA: 25s - loss: 1.6960e-04 - categorical_accuracy: 1.000 - ETA: 23s - loss: 1.7293e-04 - categorical_accuracy: 1.000 - ETA: 22s - loss: 1.7421e-04 - categorical_accuracy: 1.000 - ETA: 20s - loss: 1.7471e-04 - categorical_accuracy: 1.000 - ETA: 18s - loss: 1.7202e-04 - categorical_accuracy: 1.000 - ETA: 17s - loss: 1.7257e-04 - categorical_accuracy: 1.000 - ETA: 15s - loss: 1.7286e-04 - categorical_accuracy: 1.000 - ETA: 14s - loss: 1.7382e-04 - categorical_accuracy: 1.000 - ETA: 12s - loss: 1.7517e-04 - categorical_accuracy: 1.000 - ETA: 10s - loss: 1.7318e-04 - categorical_accuracy: 1.000 - ETA: 9s - loss: 1.7314e-04 - categorical_accuracy: 1.000 - ETA: 7s - loss: 1.7247e-04 - categorical_accuracy: 1.00 - ETA: 6s - loss: 1.7209e-04 - categorical_accuracy: 1.00 - ETA: 4s - loss: 1.7074e-04 - categorical_accuracy: 1.00 - ETA: 3s - loss: 1.7381e-04 - categorical_accuracy: 1.00 - ETA: 1s - loss: 1.7321e-04 - categorical_accuracy: 1.00 - 66s 188ms/step - loss: 1.7295e-04 - categorical_accuracy: 1.0000 - val_loss: 0.0645 - val_categorical_accuracy: 0.9868\n",
      "Epoch 77/100\n",
      "349/349 [==============================] - ETA: 56s - loss: 3.0671e-04 - categorical_accuracy: 1.000 - ETA: 57s - loss: 2.4192e-04 - categorical_accuracy: 1.000 - ETA: 57s - loss: 2.3377e-04 - categorical_accuracy: 1.000 - ETA: 54s - loss: 2.1909e-04 - categorical_accuracy: 1.000 - ETA: 50s - loss: 2.1065e-04 - categorical_accuracy: 1.000 - ETA: 48s - loss: 2.0243e-04 - categorical_accuracy: 1.000 - ETA: 46s - loss: 1.9128e-04 - categorical_accuracy: 1.000 - ETA: 44s - loss: 1.8878e-04 - categorical_accuracy: 1.000 - ETA: 42s - loss: 1.8163e-04 - categorical_accuracy: 1.000 - ETA: 41s - loss: 1.7699e-04 - categorical_accuracy: 1.000 - ETA: 39s - loss: 1.7129e-04 - categorical_accuracy: 1.000 - ETA: 37s - loss: 1.7085e-04 - categorical_accuracy: 1.000 - ETA: 35s - loss: 1.6915e-04 - categorical_accuracy: 1.000 - ETA: 33s - loss: 1.6535e-04 - categorical_accuracy: 1.000 - ETA: 32s - loss: 1.6804e-04 - categorical_accuracy: 1.000 - ETA: 30s - loss: 1.6744e-04 - categorical_accuracy: 1.000 - ETA: 29s - loss: 1.6693e-04 - categorical_accuracy: 1.000 - ETA: 27s - loss: 1.6468e-04 - categorical_accuracy: 1.000 - ETA: 25s - loss: 1.6517e-04 - categorical_accuracy: 1.000 - ETA: 24s - loss: 1.6179e-04 - categorical_accuracy: 1.000 - ETA: 22s - loss: 1.6400e-04 - categorical_accuracy: 1.000 - ETA: 20s - loss: 1.6558e-04 - categorical_accuracy: 1.000 - ETA: 19s - loss: 1.6384e-04 - categorical_accuracy: 1.000 - ETA: 17s - loss: 1.6582e-04 - categorical_accuracy: 1.000 - ETA: 15s - loss: 1.6535e-04 - categorical_accuracy: 1.000 - ETA: 14s - loss: 1.6370e-04 - categorical_accuracy: 1.000 - ETA: 12s - loss: 1.6567e-04 - categorical_accuracy: 1.000 - ETA: 11s - loss: 1.6752e-04 - categorical_accuracy: 1.000 - ETA: 9s - loss: 1.6669e-04 - categorical_accuracy: 1.000 - ETA: 7s - loss: 1.6697e-04 - categorical_accuracy: 1.00 - ETA: 6s - loss: 1.6621e-04 - categorical_accuracy: 1.00 - ETA: 4s - loss: 1.6603e-04 - categorical_accuracy: 1.00 - ETA: 3s - loss: 1.6629e-04 - categorical_accuracy: 1.00 - ETA: 1s - loss: 1.6539e-04 - categorical_accuracy: 1.00 - 64s 183ms/step - loss: 1.6433e-04 - categorical_accuracy: 1.0000 - val_loss: 0.0650 - val_categorical_accuracy: 0.9868\n",
      "Epoch 78/100\n"
     ]
    },
    {
     "name": "stdout",
     "output_type": "stream",
     "text": [
      "349/349 [==============================] - ETA: 1:14 - loss: 1.5428e-04 - categorical_accuracy: 1.00 - ETA: 1:07 - loss: 1.3716e-04 - categorical_accuracy: 1.00 - ETA: 1:03 - loss: 1.5076e-04 - categorical_accuracy: 1.00 - ETA: 1:00 - loss: 1.5137e-04 - categorical_accuracy: 1.00 - ETA: 57s - loss: 1.5464e-04 - categorical_accuracy: 1.0000 - ETA: 54s - loss: 1.4649e-04 - categorical_accuracy: 1.000 - ETA: 52s - loss: 1.4423e-04 - categorical_accuracy: 1.000 - ETA: 50s - loss: 1.4394e-04 - categorical_accuracy: 1.000 - ETA: 47s - loss: 1.4890e-04 - categorical_accuracy: 1.000 - ETA: 45s - loss: 1.4764e-04 - categorical_accuracy: 1.000 - ETA: 43s - loss: 1.4327e-04 - categorical_accuracy: 1.000 - ETA: 41s - loss: 1.4539e-04 - categorical_accuracy: 1.000 - ETA: 38s - loss: 1.5254e-04 - categorical_accuracy: 1.000 - ETA: 36s - loss: 1.5153e-04 - categorical_accuracy: 1.000 - ETA: 35s - loss: 1.5227e-04 - categorical_accuracy: 1.000 - ETA: 33s - loss: 1.5214e-04 - categorical_accuracy: 1.000 - ETA: 32s - loss: 1.5625e-04 - categorical_accuracy: 1.000 - ETA: 30s - loss: 1.5760e-04 - categorical_accuracy: 1.000 - ETA: 28s - loss: 1.5564e-04 - categorical_accuracy: 1.000 - ETA: 26s - loss: 1.5410e-04 - categorical_accuracy: 1.000 - ETA: 25s - loss: 1.5434e-04 - categorical_accuracy: 1.000 - ETA: 23s - loss: 1.5478e-04 - categorical_accuracy: 1.000 - ETA: 21s - loss: 1.5311e-04 - categorical_accuracy: 1.000 - ETA: 19s - loss: 1.5537e-04 - categorical_accuracy: 1.000 - ETA: 17s - loss: 1.5536e-04 - categorical_accuracy: 1.000 - ETA: 15s - loss: 1.5517e-04 - categorical_accuracy: 1.000 - ETA: 14s - loss: 1.5508e-04 - categorical_accuracy: 1.000 - ETA: 12s - loss: 1.5495e-04 - categorical_accuracy: 1.000 - ETA: 10s - loss: 1.5495e-04 - categorical_accuracy: 1.000 - ETA: 8s - loss: 1.5562e-04 - categorical_accuracy: 1.000 - ETA: 6s - loss: 1.5482e-04 - categorical_accuracy: 1.00 - ETA: 5s - loss: 1.5493e-04 - categorical_accuracy: 1.00 - ETA: 3s - loss: 1.5438e-04 - categorical_accuracy: 1.00 - ETA: 1s - loss: 1.5382e-04 - categorical_accuracy: 1.00 - 68s 195ms/step - loss: 1.5563e-04 - categorical_accuracy: 1.0000 - val_loss: 0.0654 - val_categorical_accuracy: 0.9868\n",
      "Epoch 79/100\n",
      "349/349 [==============================] - ETA: 51s - loss: 1.2921e-04 - categorical_accuracy: 1.000 - ETA: 49s - loss: 1.3032e-04 - categorical_accuracy: 1.000 - ETA: 48s - loss: 1.3497e-04 - categorical_accuracy: 1.000 - ETA: 47s - loss: 1.3818e-04 - categorical_accuracy: 1.000 - ETA: 46s - loss: 1.3267e-04 - categorical_accuracy: 1.000 - ETA: 45s - loss: 1.3665e-04 - categorical_accuracy: 1.000 - ETA: 44s - loss: 1.3273e-04 - categorical_accuracy: 1.000 - ETA: 42s - loss: 1.3104e-04 - categorical_accuracy: 1.000 - ETA: 40s - loss: 1.3240e-04 - categorical_accuracy: 1.000 - ETA: 38s - loss: 1.3313e-04 - categorical_accuracy: 1.000 - ETA: 37s - loss: 1.3940e-04 - categorical_accuracy: 1.000 - ETA: 36s - loss: 1.4444e-04 - categorical_accuracy: 1.000 - ETA: 34s - loss: 1.4354e-04 - categorical_accuracy: 1.000 - ETA: 32s - loss: 1.4641e-04 - categorical_accuracy: 1.000 - ETA: 31s - loss: 1.4873e-04 - categorical_accuracy: 1.000 - ETA: 29s - loss: 1.4769e-04 - categorical_accuracy: 1.000 - ETA: 28s - loss: 1.4680e-04 - categorical_accuracy: 1.000 - ETA: 26s - loss: 1.4606e-04 - categorical_accuracy: 1.000 - ETA: 25s - loss: 1.5012e-04 - categorical_accuracy: 1.000 - ETA: 23s - loss: 1.4917e-04 - categorical_accuracy: 1.000 - ETA: 21s - loss: 1.5082e-04 - categorical_accuracy: 1.000 - ETA: 20s - loss: 1.5078e-04 - categorical_accuracy: 1.000 - ETA: 18s - loss: 1.5012e-04 - categorical_accuracy: 1.000 - ETA: 17s - loss: 1.5198e-04 - categorical_accuracy: 1.000 - ETA: 15s - loss: 1.5155e-04 - categorical_accuracy: 1.000 - ETA: 14s - loss: 1.4993e-04 - categorical_accuracy: 1.000 - ETA: 12s - loss: 1.4903e-04 - categorical_accuracy: 1.000 - ETA: 10s - loss: 1.5068e-04 - categorical_accuracy: 1.000 - ETA: 9s - loss: 1.5171e-04 - categorical_accuracy: 1.000 - ETA: 7s - loss: 1.4963e-04 - categorical_accuracy: 1.00 - ETA: 6s - loss: 1.4838e-04 - categorical_accuracy: 1.00 - ETA: 4s - loss: 1.4818e-04 - categorical_accuracy: 1.00 - ETA: 2s - loss: 1.4689e-04 - categorical_accuracy: 1.00 - ETA: 1s - loss: 1.4736e-04 - categorical_accuracy: 1.00 - 63s 180ms/step - loss: 1.4699e-04 - categorical_accuracy: 1.0000 - val_loss: 0.0655 - val_categorical_accuracy: 0.9868\n",
      "Epoch 80/100\n",
      "349/349 [==============================] - ETA: 52s - loss: 1.5883e-04 - categorical_accuracy: 1.000 - ETA: 50s - loss: 1.3752e-04 - categorical_accuracy: 1.000 - ETA: 49s - loss: 1.4323e-04 - categorical_accuracy: 1.000 - ETA: 49s - loss: 1.4786e-04 - categorical_accuracy: 1.000 - ETA: 47s - loss: 1.5460e-04 - categorical_accuracy: 1.000 - ETA: 45s - loss: 1.4835e-04 - categorical_accuracy: 1.000 - ETA: 44s - loss: 1.5013e-04 - categorical_accuracy: 1.000 - ETA: 42s - loss: 1.4522e-04 - categorical_accuracy: 1.000 - ETA: 40s - loss: 1.4573e-04 - categorical_accuracy: 1.000 - ETA: 39s - loss: 1.4771e-04 - categorical_accuracy: 1.000 - ETA: 38s - loss: 1.4450e-04 - categorical_accuracy: 1.000 - ETA: 36s - loss: 1.4191e-04 - categorical_accuracy: 1.000 - ETA: 34s - loss: 1.4082e-04 - categorical_accuracy: 1.000 - ETA: 32s - loss: 1.3938e-04 - categorical_accuracy: 1.000 - ETA: 31s - loss: 1.3956e-04 - categorical_accuracy: 1.000 - ETA: 29s - loss: 1.3869e-04 - categorical_accuracy: 1.000 - ETA: 28s - loss: 1.4031e-04 - categorical_accuracy: 1.000 - ETA: 26s - loss: 1.4176e-04 - categorical_accuracy: 1.000 - ETA: 25s - loss: 1.4103e-04 - categorical_accuracy: 1.000 - ETA: 23s - loss: 1.3970e-04 - categorical_accuracy: 1.000 - ETA: 21s - loss: 1.3953e-04 - categorical_accuracy: 1.000 - ETA: 20s - loss: 1.4024e-04 - categorical_accuracy: 1.000 - ETA: 18s - loss: 1.3899e-04 - categorical_accuracy: 1.000 - ETA: 17s - loss: 1.3900e-04 - categorical_accuracy: 1.000 - ETA: 15s - loss: 1.3988e-04 - categorical_accuracy: 1.000 - ETA: 14s - loss: 1.4098e-04 - categorical_accuracy: 1.000 - ETA: 12s - loss: 1.4215e-04 - categorical_accuracy: 1.000 - ETA: 10s - loss: 1.4183e-04 - categorical_accuracy: 1.000 - ETA: 9s - loss: 1.4092e-04 - categorical_accuracy: 1.000 - ETA: 7s - loss: 1.4166e-04 - categorical_accuracy: 1.00 - ETA: 6s - loss: 1.4207e-04 - categorical_accuracy: 1.00 - ETA: 4s - loss: 1.4157e-04 - categorical_accuracy: 1.00 - ETA: 2s - loss: 1.4096e-04 - categorical_accuracy: 1.00 - ETA: 1s - loss: 1.4061e-04 - categorical_accuracy: 1.00 - 62s 177ms/step - loss: 1.4115e-04 - categorical_accuracy: 1.0000 - val_loss: 0.0655 - val_categorical_accuracy: 0.9868\n",
      "Epoch 81/100\n",
      "349/349 [==============================] - ETA: 52s - loss: 1.1964e-04 - categorical_accuracy: 1.000 - ETA: 53s - loss: 1.1738e-04 - categorical_accuracy: 1.000 - ETA: 52s - loss: 1.3542e-04 - categorical_accuracy: 1.000 - ETA: 50s - loss: 1.3039e-04 - categorical_accuracy: 1.000 - ETA: 48s - loss: 1.4412e-04 - categorical_accuracy: 1.000 - ETA: 46s - loss: 1.4006e-04 - categorical_accuracy: 1.000 - ETA: 44s - loss: 1.3980e-04 - categorical_accuracy: 1.000 - ETA: 42s - loss: 1.4134e-04 - categorical_accuracy: 1.000 - ETA: 41s - loss: 1.3936e-04 - categorical_accuracy: 1.000 - ETA: 39s - loss: 1.4081e-04 - categorical_accuracy: 1.000 - ETA: 38s - loss: 1.4323e-04 - categorical_accuracy: 1.000 - ETA: 36s - loss: 1.4188e-04 - categorical_accuracy: 1.000 - ETA: 34s - loss: 1.5233e-04 - categorical_accuracy: 1.000 - ETA: 32s - loss: 1.5175e-04 - categorical_accuracy: 1.000 - ETA: 31s - loss: 1.4847e-04 - categorical_accuracy: 1.000 - ETA: 29s - loss: 1.4727e-04 - categorical_accuracy: 1.000 - ETA: 28s - loss: 1.4661e-04 - categorical_accuracy: 1.000 - ETA: 26s - loss: 1.4503e-04 - categorical_accuracy: 1.000 - ETA: 25s - loss: 1.4281e-04 - categorical_accuracy: 1.000 - ETA: 23s - loss: 1.4202e-04 - categorical_accuracy: 1.000 - ETA: 21s - loss: 1.4136e-04 - categorical_accuracy: 1.000 - ETA: 20s - loss: 1.4093e-04 - categorical_accuracy: 1.000 - ETA: 18s - loss: 1.4295e-04 - categorical_accuracy: 1.000 - ETA: 17s - loss: 1.4108e-04 - categorical_accuracy: 1.000 - ETA: 15s - loss: 1.3945e-04 - categorical_accuracy: 1.000 - ETA: 13s - loss: 1.3878e-04 - categorical_accuracy: 1.000 - ETA: 12s - loss: 1.4237e-04 - categorical_accuracy: 1.000 - ETA: 10s - loss: 1.4292e-04 - categorical_accuracy: 1.000 - ETA: 9s - loss: 1.4309e-04 - categorical_accuracy: 1.000 - ETA: 7s - loss: 1.4308e-04 - categorical_accuracy: 1.00 - ETA: 6s - loss: 1.4337e-04 - categorical_accuracy: 1.00 - ETA: 4s - loss: 1.4327e-04 - categorical_accuracy: 1.00 - ETA: 2s - loss: 1.4361e-04 - categorical_accuracy: 1.00 - ETA: 1s - loss: 1.4390e-04 - categorical_accuracy: 1.00 - 61s 176ms/step - loss: 1.4342e-04 - categorical_accuracy: 1.0000 - val_loss: 0.0653 - val_categorical_accuracy: 0.9868\n",
      "Epoch 82/100\n",
      "349/349 [==============================] - ETA: 53s - loss: 1.4893e-04 - categorical_accuracy: 1.000 - ETA: 54s - loss: 1.7377e-04 - categorical_accuracy: 1.000 - ETA: 51s - loss: 1.5199e-04 - categorical_accuracy: 1.000 - ETA: 49s - loss: 1.5353e-04 - categorical_accuracy: 1.000 - ETA: 47s - loss: 1.4424e-04 - categorical_accuracy: 1.000 - ETA: 45s - loss: 1.3886e-04 - categorical_accuracy: 1.000 - ETA: 43s - loss: 1.3967e-04 - categorical_accuracy: 1.000 - ETA: 42s - loss: 1.4047e-04 - categorical_accuracy: 1.000 - ETA: 40s - loss: 1.4229e-04 - categorical_accuracy: 1.000 - ETA: 39s - loss: 1.4371e-04 - categorical_accuracy: 1.000 - ETA: 37s - loss: 1.4089e-04 - categorical_accuracy: 1.000 - ETA: 35s - loss: 1.3967e-04 - categorical_accuracy: 1.000 - ETA: 34s - loss: 1.3820e-04 - categorical_accuracy: 1.000 - ETA: 32s - loss: 1.3543e-04 - categorical_accuracy: 1.000 - ETA: 31s - loss: 1.3502e-04 - categorical_accuracy: 1.000 - ETA: 29s - loss: 1.3707e-04 - categorical_accuracy: 1.000 - ETA: 28s - loss: 1.3474e-04 - categorical_accuracy: 1.000 - ETA: 26s - loss: 1.3610e-04 - categorical_accuracy: 1.000 - ETA: 24s - loss: 1.3537e-04 - categorical_accuracy: 1.000 - ETA: 23s - loss: 1.3679e-04 - categorical_accuracy: 1.000 - ETA: 21s - loss: 1.3667e-04 - categorical_accuracy: 1.000 - ETA: 20s - loss: 1.3486e-04 - categorical_accuracy: 1.000 - ETA: 18s - loss: 1.3454e-04 - categorical_accuracy: 1.000 - ETA: 17s - loss: 1.3661e-04 - categorical_accuracy: 1.000 - ETA: 15s - loss: 1.3634e-04 - categorical_accuracy: 1.000 - ETA: 13s - loss: 1.3748e-04 - categorical_accuracy: 1.000 - ETA: 12s - loss: 1.3752e-04 - categorical_accuracy: 1.000 - ETA: 10s - loss: 1.3683e-04 - categorical_accuracy: 1.000 - ETA: 9s - loss: 1.3878e-04 - categorical_accuracy: 1.000 - ETA: 7s - loss: 1.3854e-04 - categorical_accuracy: 1.00 - ETA: 6s - loss: 1.3878e-04 - categorical_accuracy: 1.00 - ETA: 4s - loss: 1.3831e-04 - categorical_accuracy: 1.00 - ETA: 2s - loss: 1.3799e-04 - categorical_accuracy: 1.00 - ETA: 1s - loss: 1.3760e-04 - categorical_accuracy: 1.00 - 61s 176ms/step - loss: 1.3709e-04 - categorical_accuracy: 1.0000 - val_loss: 0.0655 - val_categorical_accuracy: 0.9868\n",
      "Epoch 83/100\n",
      "349/349 [==============================] - ETA: 58s - loss: 1.6036e-04 - categorical_accuracy: 1.000 - ETA: 53s - loss: 1.6442e-04 - categorical_accuracy: 1.000 - ETA: 51s - loss: 1.5342e-04 - categorical_accuracy: 1.000 - ETA: 49s - loss: 1.4027e-04 - categorical_accuracy: 1.000 - ETA: 47s - loss: 1.3850e-04 - categorical_accuracy: 1.000 - ETA: 45s - loss: 1.3642e-04 - categorical_accuracy: 1.000 - ETA: 44s - loss: 1.3342e-04 - categorical_accuracy: 1.000 - ETA: 42s - loss: 1.3412e-04 - categorical_accuracy: 1.000 - ETA: 41s - loss: 1.3416e-04 - categorical_accuracy: 1.000 - ETA: 39s - loss: 1.4157e-04 - categorical_accuracy: 1.000 - ETA: 37s - loss: 1.4241e-04 - categorical_accuracy: 1.000 - ETA: 35s - loss: 1.3975e-04 - categorical_accuracy: 1.000 - ETA: 34s - loss: 1.4120e-04 - categorical_accuracy: 1.000 - ETA: 33s - loss: 1.4252e-04 - categorical_accuracy: 1.000 - ETA: 31s - loss: 1.4072e-04 - categorical_accuracy: 1.000 - ETA: 29s - loss: 1.3980e-04 - categorical_accuracy: 1.000 - ETA: 28s - loss: 1.3984e-04 - categorical_accuracy: 1.000 - ETA: 26s - loss: 1.4084e-04 - categorical_accuracy: 1.000 - ETA: 25s - loss: 1.4045e-04 - categorical_accuracy: 1.000 - ETA: 23s - loss: 1.3971e-04 - categorical_accuracy: 1.000 - ETA: 22s - loss: 1.3876e-04 - categorical_accuracy: 1.000 - ETA: 20s - loss: 1.4270e-04 - categorical_accuracy: 1.000 - ETA: 18s - loss: 1.4227e-04 - categorical_accuracy: 1.000 - ETA: 17s - loss: 1.4158e-04 - categorical_accuracy: 1.000 - ETA: 15s - loss: 1.4298e-04 - categorical_accuracy: 1.000 - ETA: 14s - loss: 1.4343e-04 - categorical_accuracy: 1.000 - ETA: 12s - loss: 1.4239e-04 - categorical_accuracy: 1.000 - ETA: 10s - loss: 1.4055e-04 - categorical_accuracy: 1.000 - ETA: 9s - loss: 1.4130e-04 - categorical_accuracy: 1.000 - ETA: 7s - loss: 1.4266e-04 - categorical_accuracy: 1.00 - ETA: 6s - loss: 1.4655e-04 - categorical_accuracy: 1.00 - ETA: 4s - loss: 1.4623e-04 - categorical_accuracy: 1.00 - ETA: 3s - loss: 1.4631e-04 - categorical_accuracy: 1.00 - ETA: 1s - loss: 1.4580e-04 - categorical_accuracy: 1.00 - 63s 181ms/step - loss: 1.4622e-04 - categorical_accuracy: 1.0000 - val_loss: 0.0654 - val_categorical_accuracy: 0.9868\n",
      "Epoch 84/100\n"
     ]
    },
    {
     "name": "stdout",
     "output_type": "stream",
     "text": [
      "349/349 [==============================] - ETA: 57s - loss: 1.4789e-04 - categorical_accuracy: 1.000 - ETA: 58s - loss: 1.3804e-04 - categorical_accuracy: 1.000 - ETA: 56s - loss: 1.3159e-04 - categorical_accuracy: 1.000 - ETA: 54s - loss: 1.2257e-04 - categorical_accuracy: 1.000 - ETA: 55s - loss: 1.3000e-04 - categorical_accuracy: 1.000 - ETA: 52s - loss: 1.2539e-04 - categorical_accuracy: 1.000 - ETA: 50s - loss: 1.2810e-04 - categorical_accuracy: 1.000 - ETA: 48s - loss: 1.2856e-04 - categorical_accuracy: 1.000 - ETA: 47s - loss: 1.2890e-04 - categorical_accuracy: 1.000 - ETA: 45s - loss: 1.3177e-04 - categorical_accuracy: 1.000 - ETA: 43s - loss: 1.3338e-04 - categorical_accuracy: 1.000 - ETA: 41s - loss: 1.3178e-04 - categorical_accuracy: 1.000 - ETA: 39s - loss: 1.3019e-04 - categorical_accuracy: 1.000 - ETA: 36s - loss: 1.3105e-04 - categorical_accuracy: 1.000 - ETA: 34s - loss: 1.2977e-04 - categorical_accuracy: 1.000 - ETA: 33s - loss: 1.2998e-04 - categorical_accuracy: 1.000 - ETA: 31s - loss: 1.2901e-04 - categorical_accuracy: 1.000 - ETA: 29s - loss: 1.2997e-04 - categorical_accuracy: 1.000 - ETA: 27s - loss: 1.3313e-04 - categorical_accuracy: 1.000 - ETA: 25s - loss: 1.3143e-04 - categorical_accuracy: 1.000 - ETA: 23s - loss: 1.3239e-04 - categorical_accuracy: 1.000 - ETA: 21s - loss: 1.3246e-04 - categorical_accuracy: 1.000 - ETA: 20s - loss: 1.3272e-04 - categorical_accuracy: 1.000 - ETA: 18s - loss: 1.3243e-04 - categorical_accuracy: 1.000 - ETA: 16s - loss: 1.3316e-04 - categorical_accuracy: 1.000 - ETA: 14s - loss: 1.3319e-04 - categorical_accuracy: 1.000 - ETA: 13s - loss: 1.3366e-04 - categorical_accuracy: 1.000 - ETA: 11s - loss: 1.3198e-04 - categorical_accuracy: 1.000 - ETA: 9s - loss: 1.3195e-04 - categorical_accuracy: 1.000 - ETA: 8s - loss: 1.3246e-04 - categorical_accuracy: 1.00 - ETA: 6s - loss: 1.3241e-04 - categorical_accuracy: 1.00 - ETA: 4s - loss: 1.3208e-04 - categorical_accuracy: 1.00 - ETA: 3s - loss: 1.3238e-04 - categorical_accuracy: 1.00 - ETA: 1s - loss: 1.3261e-04 - categorical_accuracy: 1.00 - 65s 186ms/step - loss: 1.3316e-04 - categorical_accuracy: 1.0000 - val_loss: 0.0659 - val_categorical_accuracy: 0.9868\n",
      "Epoch 85/100\n",
      "349/349 [==============================] - ETA: 52s - loss: 2.2485e-04 - categorical_accuracy: 1.000 - ETA: 53s - loss: 1.8282e-04 - categorical_accuracy: 1.000 - ETA: 52s - loss: 1.6141e-04 - categorical_accuracy: 1.000 - ETA: 49s - loss: 1.4524e-04 - categorical_accuracy: 1.000 - ETA: 47s - loss: 1.4446e-04 - categorical_accuracy: 1.000 - ETA: 45s - loss: 1.4685e-04 - categorical_accuracy: 1.000 - ETA: 43s - loss: 1.4631e-04 - categorical_accuracy: 1.000 - ETA: 42s - loss: 1.4182e-04 - categorical_accuracy: 1.000 - ETA: 41s - loss: 1.3976e-04 - categorical_accuracy: 1.000 - ETA: 39s - loss: 1.4094e-04 - categorical_accuracy: 1.000 - ETA: 38s - loss: 1.3752e-04 - categorical_accuracy: 1.000 - ETA: 36s - loss: 1.3721e-04 - categorical_accuracy: 1.000 - ETA: 34s - loss: 1.3873e-04 - categorical_accuracy: 1.000 - ETA: 33s - loss: 1.3641e-04 - categorical_accuracy: 1.000 - ETA: 31s - loss: 1.3634e-04 - categorical_accuracy: 1.000 - ETA: 30s - loss: 1.3626e-04 - categorical_accuracy: 1.000 - ETA: 28s - loss: 1.4015e-04 - categorical_accuracy: 1.000 - ETA: 26s - loss: 1.3886e-04 - categorical_accuracy: 1.000 - ETA: 25s - loss: 1.3913e-04 - categorical_accuracy: 1.000 - ETA: 23s - loss: 1.3834e-04 - categorical_accuracy: 1.000 - ETA: 22s - loss: 1.3585e-04 - categorical_accuracy: 1.000 - ETA: 20s - loss: 1.3537e-04 - categorical_accuracy: 1.000 - ETA: 18s - loss: 1.3440e-04 - categorical_accuracy: 1.000 - ETA: 17s - loss: 1.3522e-04 - categorical_accuracy: 1.000 - ETA: 15s - loss: 1.3528e-04 - categorical_accuracy: 1.000 - ETA: 14s - loss: 1.4344e-04 - categorical_accuracy: 1.000 - ETA: 12s - loss: 1.4351e-04 - categorical_accuracy: 1.000 - ETA: 10s - loss: 1.4243e-04 - categorical_accuracy: 1.000 - ETA: 9s - loss: 1.4154e-04 - categorical_accuracy: 1.000 - ETA: 7s - loss: 1.4598e-04 - categorical_accuracy: 1.00 - ETA: 6s - loss: 1.4573e-04 - categorical_accuracy: 1.00 - ETA: 4s - loss: 1.4743e-04 - categorical_accuracy: 1.00 - ETA: 3s - loss: 1.4649e-04 - categorical_accuracy: 1.00 - ETA: 1s - loss: 1.4667e-04 - categorical_accuracy: 1.00 - 62s 178ms/step - loss: 1.4666e-04 - categorical_accuracy: 1.0000 - val_loss: 0.0730 - val_categorical_accuracy: 0.9801\n",
      "Epoch 86/100\n",
      "349/349 [==============================] - ETA: 58s - loss: 1.2162e-04 - categorical_accuracy: 1.000 - ETA: 54s - loss: 1.2809e-04 - categorical_accuracy: 1.000 - ETA: 51s - loss: 1.1705e-04 - categorical_accuracy: 1.000 - ETA: 48s - loss: 1.2005e-04 - categorical_accuracy: 1.000 - ETA: 46s - loss: 1.2617e-04 - categorical_accuracy: 1.000 - ETA: 45s - loss: 1.3046e-04 - categorical_accuracy: 1.000 - ETA: 44s - loss: 1.2718e-04 - categorical_accuracy: 1.000 - ETA: 42s - loss: 1.2451e-04 - categorical_accuracy: 1.000 - ETA: 40s - loss: 1.2271e-04 - categorical_accuracy: 1.000 - ETA: 39s - loss: 1.2360e-04 - categorical_accuracy: 1.000 - ETA: 37s - loss: 1.2663e-04 - categorical_accuracy: 1.000 - ETA: 35s - loss: 1.2496e-04 - categorical_accuracy: 1.000 - ETA: 34s - loss: 1.2628e-04 - categorical_accuracy: 1.000 - ETA: 33s - loss: 1.2516e-04 - categorical_accuracy: 1.000 - ETA: 31s - loss: 1.2663e-04 - categorical_accuracy: 1.000 - ETA: 29s - loss: 1.2620e-04 - categorical_accuracy: 1.000 - ETA: 28s - loss: 1.2770e-04 - categorical_accuracy: 1.000 - ETA: 26s - loss: 1.2960e-04 - categorical_accuracy: 1.000 - ETA: 25s - loss: 1.2971e-04 - categorical_accuracy: 1.000 - ETA: 23s - loss: 1.3027e-04 - categorical_accuracy: 1.000 - ETA: 21s - loss: 1.2953e-04 - categorical_accuracy: 1.000 - ETA: 20s - loss: 1.2834e-04 - categorical_accuracy: 1.000 - ETA: 18s - loss: 1.3033e-04 - categorical_accuracy: 1.000 - ETA: 17s - loss: 1.2969e-04 - categorical_accuracy: 1.000 - ETA: 15s - loss: 1.3035e-04 - categorical_accuracy: 1.000 - ETA: 14s - loss: 1.3143e-04 - categorical_accuracy: 1.000 - ETA: 12s - loss: 1.3139e-04 - categorical_accuracy: 1.000 - ETA: 10s - loss: 1.3583e-04 - categorical_accuracy: 1.000 - ETA: 9s - loss: 1.3388e-04 - categorical_accuracy: 1.000 - ETA: 7s - loss: 1.3350e-04 - categorical_accuracy: 1.00 - ETA: 6s - loss: 1.3309e-04 - categorical_accuracy: 1.00 - ETA: 4s - loss: 1.3260e-04 - categorical_accuracy: 1.00 - ETA: 3s - loss: 1.3187e-04 - categorical_accuracy: 1.00 - ETA: 1s - loss: 1.3192e-04 - categorical_accuracy: 1.00 - 62s 179ms/step - loss: 1.3480e-04 - categorical_accuracy: 1.0000 - val_loss: 0.0667 - val_categorical_accuracy: 0.9868\n",
      "Epoch 87/100\n",
      "349/349 [==============================] - ETA: 52s - loss: 1.4875e-04 - categorical_accuracy: 1.000 - ETA: 51s - loss: 1.4259e-04 - categorical_accuracy: 1.000 - ETA: 49s - loss: 1.2748e-04 - categorical_accuracy: 1.000 - ETA: 47s - loss: 1.2615e-04 - categorical_accuracy: 1.000 - ETA: 47s - loss: 1.2591e-04 - categorical_accuracy: 1.000 - ETA: 46s - loss: 1.3118e-04 - categorical_accuracy: 1.000 - ETA: 44s - loss: 1.3066e-04 - categorical_accuracy: 1.000 - ETA: 42s - loss: 1.3253e-04 - categorical_accuracy: 1.000 - ETA: 41s - loss: 1.2958e-04 - categorical_accuracy: 1.000 - ETA: 39s - loss: 1.3062e-04 - categorical_accuracy: 1.000 - ETA: 38s - loss: 1.2942e-04 - categorical_accuracy: 1.000 - ETA: 36s - loss: 1.2816e-04 - categorical_accuracy: 1.000 - ETA: 35s - loss: 1.2769e-04 - categorical_accuracy: 1.000 - ETA: 34s - loss: 1.3217e-04 - categorical_accuracy: 1.000 - ETA: 32s - loss: 1.3255e-04 - categorical_accuracy: 1.000 - ETA: 31s - loss: 1.3168e-04 - categorical_accuracy: 1.000 - ETA: 29s - loss: 1.3051e-04 - categorical_accuracy: 1.000 - ETA: 28s - loss: 1.2879e-04 - categorical_accuracy: 1.000 - ETA: 26s - loss: 1.3079e-04 - categorical_accuracy: 1.000 - ETA: 24s - loss: 1.2961e-04 - categorical_accuracy: 1.000 - ETA: 23s - loss: 1.2990e-04 - categorical_accuracy: 1.000 - ETA: 21s - loss: 1.2822e-04 - categorical_accuracy: 1.000 - ETA: 19s - loss: 1.2860e-04 - categorical_accuracy: 1.000 - ETA: 18s - loss: 1.2851e-04 - categorical_accuracy: 1.000 - ETA: 16s - loss: 1.2911e-04 - categorical_accuracy: 1.000 - ETA: 14s - loss: 1.2833e-04 - categorical_accuracy: 1.000 - ETA: 13s - loss: 1.2963e-04 - categorical_accuracy: 1.000 - ETA: 11s - loss: 1.3044e-04 - categorical_accuracy: 1.000 - ETA: 9s - loss: 1.2974e-04 - categorical_accuracy: 1.000 - ETA: 8s - loss: 1.2975e-04 - categorical_accuracy: 1.00 - ETA: 6s - loss: 1.2944e-04 - categorical_accuracy: 1.00 - ETA: 4s - loss: 1.3120e-04 - categorical_accuracy: 1.00 - ETA: 3s - loss: 1.3039e-04 - categorical_accuracy: 1.00 - ETA: 1s - loss: 1.2932e-04 - categorical_accuracy: 1.00 - 64s 184ms/step - loss: 1.2835e-04 - categorical_accuracy: 1.0000 - val_loss: 0.0655 - val_categorical_accuracy: 0.9868\n",
      "Epoch 88/100\n",
      "349/349 [==============================] - ETA: 51s - loss: 1.0406e-04 - categorical_accuracy: 1.000 - ETA: 50s - loss: 9.8830e-05 - categorical_accuracy: 1.000 - ETA: 48s - loss: 1.0904e-04 - categorical_accuracy: 1.000 - ETA: 47s - loss: 1.1305e-04 - categorical_accuracy: 1.000 - ETA: 45s - loss: 1.1836e-04 - categorical_accuracy: 1.000 - ETA: 44s - loss: 1.2325e-04 - categorical_accuracy: 1.000 - ETA: 42s - loss: 1.2027e-04 - categorical_accuracy: 1.000 - ETA: 41s - loss: 1.1788e-04 - categorical_accuracy: 1.000 - ETA: 39s - loss: 1.1508e-04 - categorical_accuracy: 1.000 - ETA: 38s - loss: 1.2340e-04 - categorical_accuracy: 1.000 - ETA: 37s - loss: 1.2113e-04 - categorical_accuracy: 1.000 - ETA: 35s - loss: 1.1940e-04 - categorical_accuracy: 1.000 - ETA: 34s - loss: 1.2054e-04 - categorical_accuracy: 1.000 - ETA: 32s - loss: 1.2625e-04 - categorical_accuracy: 1.000 - ETA: 31s - loss: 1.2569e-04 - categorical_accuracy: 1.000 - ETA: 29s - loss: 1.2636e-04 - categorical_accuracy: 1.000 - ETA: 28s - loss: 1.2483e-04 - categorical_accuracy: 1.000 - ETA: 26s - loss: 1.2573e-04 - categorical_accuracy: 1.000 - ETA: 25s - loss: 1.2586e-04 - categorical_accuracy: 1.000 - ETA: 23s - loss: 1.2988e-04 - categorical_accuracy: 1.000 - ETA: 21s - loss: 1.2915e-04 - categorical_accuracy: 1.000 - ETA: 20s - loss: 1.3151e-04 - categorical_accuracy: 1.000 - ETA: 18s - loss: 1.3190e-04 - categorical_accuracy: 1.000 - ETA: 17s - loss: 1.3328e-04 - categorical_accuracy: 1.000 - ETA: 15s - loss: 1.3336e-04 - categorical_accuracy: 1.000 - ETA: 13s - loss: 1.3263e-04 - categorical_accuracy: 1.000 - ETA: 12s - loss: 1.3318e-04 - categorical_accuracy: 1.000 - ETA: 10s - loss: 1.3376e-04 - categorical_accuracy: 1.000 - ETA: 9s - loss: 1.3362e-04 - categorical_accuracy: 1.000 - ETA: 7s - loss: 1.3304e-04 - categorical_accuracy: 1.00 - ETA: 6s - loss: 1.3452e-04 - categorical_accuracy: 1.00 - ETA: 4s - loss: 1.3376e-04 - categorical_accuracy: 1.00 - ETA: 3s - loss: 1.3336e-04 - categorical_accuracy: 1.00 - ETA: 1s - loss: 1.3325e-04 - categorical_accuracy: 1.00 - 63s 182ms/step - loss: 1.3304e-04 - categorical_accuracy: 1.0000 - val_loss: 0.0671 - val_categorical_accuracy: 0.9868\n",
      "Epoch 89/100\n",
      "349/349 [==============================] - ETA: 57s - loss: 1.3828e-04 - categorical_accuracy: 1.000 - ETA: 56s - loss: 1.5063e-04 - categorical_accuracy: 1.000 - ETA: 53s - loss: 1.4030e-04 - categorical_accuracy: 1.000 - ETA: 51s - loss: 1.4013e-04 - categorical_accuracy: 1.000 - ETA: 48s - loss: 1.3163e-04 - categorical_accuracy: 1.000 - ETA: 46s - loss: 1.3036e-04 - categorical_accuracy: 1.000 - ETA: 45s - loss: 1.3202e-04 - categorical_accuracy: 1.000 - ETA: 44s - loss: 1.2806e-04 - categorical_accuracy: 1.000 - ETA: 42s - loss: 1.2714e-04 - categorical_accuracy: 1.000 - ETA: 40s - loss: 1.2673e-04 - categorical_accuracy: 1.000 - ETA: 38s - loss: 1.2868e-04 - categorical_accuracy: 1.000 - ETA: 36s - loss: 1.2870e-04 - categorical_accuracy: 1.000 - ETA: 35s - loss: 1.2645e-04 - categorical_accuracy: 1.000 - ETA: 34s - loss: 1.2850e-04 - categorical_accuracy: 1.000 - ETA: 32s - loss: 1.2927e-04 - categorical_accuracy: 1.000 - ETA: 31s - loss: 1.3123e-04 - categorical_accuracy: 1.000 - ETA: 29s - loss: 1.3199e-04 - categorical_accuracy: 1.000 - ETA: 27s - loss: 1.3314e-04 - categorical_accuracy: 1.000 - ETA: 26s - loss: 1.3179e-04 - categorical_accuracy: 1.000 - ETA: 24s - loss: 1.3155e-04 - categorical_accuracy: 1.000 - ETA: 23s - loss: 1.3126e-04 - categorical_accuracy: 1.000 - ETA: 21s - loss: 1.3176e-04 - categorical_accuracy: 1.000 - ETA: 19s - loss: 1.3227e-04 - categorical_accuracy: 1.000 - ETA: 18s - loss: 1.3108e-04 - categorical_accuracy: 1.000 - ETA: 16s - loss: 1.3104e-04 - categorical_accuracy: 1.000 - ETA: 15s - loss: 1.3127e-04 - categorical_accuracy: 1.000 - ETA: 13s - loss: 1.3112e-04 - categorical_accuracy: 1.000 - ETA: 11s - loss: 1.3070e-04 - categorical_accuracy: 1.000 - ETA: 9s - loss: 1.3003e-04 - categorical_accuracy: 1.000 - ETA: 8s - loss: 1.2960e-04 - categorical_accuracy: 1.00 - ETA: 6s - loss: 1.2811e-04 - categorical_accuracy: 1.00 - ETA: 4s - loss: 1.2826e-04 - categorical_accuracy: 1.00 - ETA: 3s - loss: 1.2760e-04 - categorical_accuracy: 1.00 - ETA: 1s - loss: 1.2787e-04 - categorical_accuracy: 1.00 - 66s 189ms/step - loss: 1.2780e-04 - categorical_accuracy: 1.0000 - val_loss: 0.0671 - val_categorical_accuracy: 0.9868\n",
      "Epoch 90/100\n"
     ]
    },
    {
     "name": "stdout",
     "output_type": "stream",
     "text": [
      "349/349 [==============================] - ETA: 55s - loss: 1.3477e-04 - categorical_accuracy: 1.000 - ETA: 52s - loss: 1.3331e-04 - categorical_accuracy: 1.000 - ETA: 52s - loss: 1.6679e-04 - categorical_accuracy: 1.000 - ETA: 50s - loss: 1.5786e-04 - categorical_accuracy: 1.000 - ETA: 48s - loss: 1.6088e-04 - categorical_accuracy: 1.000 - ETA: 46s - loss: 1.5352e-04 - categorical_accuracy: 1.000 - ETA: 44s - loss: 1.4554e-04 - categorical_accuracy: 1.000 - ETA: 43s - loss: 1.4943e-04 - categorical_accuracy: 1.000 - ETA: 41s - loss: 1.4269e-04 - categorical_accuracy: 1.000 - ETA: 40s - loss: 1.3950e-04 - categorical_accuracy: 1.000 - ETA: 38s - loss: 1.3899e-04 - categorical_accuracy: 1.000 - ETA: 36s - loss: 1.3624e-04 - categorical_accuracy: 1.000 - ETA: 35s - loss: 1.3665e-04 - categorical_accuracy: 1.000 - ETA: 33s - loss: 1.3390e-04 - categorical_accuracy: 1.000 - ETA: 32s - loss: 1.3410e-04 - categorical_accuracy: 1.000 - ETA: 30s - loss: 1.3256e-04 - categorical_accuracy: 1.000 - ETA: 28s - loss: 1.3313e-04 - categorical_accuracy: 1.000 - ETA: 27s - loss: 1.3580e-04 - categorical_accuracy: 1.000 - ETA: 25s - loss: 1.3524e-04 - categorical_accuracy: 1.000 - ETA: 23s - loss: 1.3769e-04 - categorical_accuracy: 1.000 - ETA: 22s - loss: 1.3684e-04 - categorical_accuracy: 1.000 - ETA: 20s - loss: 1.3680e-04 - categorical_accuracy: 1.000 - ETA: 19s - loss: 1.3754e-04 - categorical_accuracy: 1.000 - ETA: 17s - loss: 1.3666e-04 - categorical_accuracy: 1.000 - ETA: 16s - loss: 1.3640e-04 - categorical_accuracy: 1.000 - ETA: 14s - loss: 1.3900e-04 - categorical_accuracy: 1.000 - ETA: 12s - loss: 1.3815e-04 - categorical_accuracy: 1.000 - ETA: 11s - loss: 1.3868e-04 - categorical_accuracy: 1.000 - ETA: 9s - loss: 1.3832e-04 - categorical_accuracy: 1.000 - ETA: 7s - loss: 1.3798e-04 - categorical_accuracy: 1.00 - ETA: 6s - loss: 1.3875e-04 - categorical_accuracy: 1.00 - ETA: 4s - loss: 1.3791e-04 - categorical_accuracy: 1.00 - ETA: 3s - loss: 1.3784e-04 - categorical_accuracy: 1.00 - ETA: 1s - loss: 1.3772e-04 - categorical_accuracy: 1.00 - 63s 182ms/step - loss: 1.3780e-04 - categorical_accuracy: 1.0000 - val_loss: 0.0681 - val_categorical_accuracy: 0.9868\n",
      "Epoch 91/100\n",
      "349/349 [==============================] - ETA: 58s - loss: 1.3755e-04 - categorical_accuracy: 1.000 - ETA: 56s - loss: 1.2850e-04 - categorical_accuracy: 1.000 - ETA: 52s - loss: 1.2904e-04 - categorical_accuracy: 1.000 - ETA: 50s - loss: 1.2525e-04 - categorical_accuracy: 1.000 - ETA: 48s - loss: 1.2042e-04 - categorical_accuracy: 1.000 - ETA: 46s - loss: 1.1493e-04 - categorical_accuracy: 1.000 - ETA: 45s - loss: 1.1421e-04 - categorical_accuracy: 1.000 - ETA: 43s - loss: 1.1761e-04 - categorical_accuracy: 1.000 - ETA: 42s - loss: 1.1924e-04 - categorical_accuracy: 1.000 - ETA: 40s - loss: 1.2027e-04 - categorical_accuracy: 1.000 - ETA: 38s - loss: 1.1836e-04 - categorical_accuracy: 1.000 - ETA: 36s - loss: 1.1951e-04 - categorical_accuracy: 1.000 - ETA: 35s - loss: 1.1960e-04 - categorical_accuracy: 1.000 - ETA: 33s - loss: 1.1887e-04 - categorical_accuracy: 1.000 - ETA: 32s - loss: 1.2325e-04 - categorical_accuracy: 1.000 - ETA: 30s - loss: 1.2188e-04 - categorical_accuracy: 1.000 - ETA: 28s - loss: 1.2281e-04 - categorical_accuracy: 1.000 - ETA: 27s - loss: 1.2381e-04 - categorical_accuracy: 1.000 - ETA: 25s - loss: 1.2426e-04 - categorical_accuracy: 1.000 - ETA: 23s - loss: 1.2478e-04 - categorical_accuracy: 1.000 - ETA: 22s - loss: 1.2330e-04 - categorical_accuracy: 1.000 - ETA: 20s - loss: 1.2151e-04 - categorical_accuracy: 1.000 - ETA: 19s - loss: 1.2207e-04 - categorical_accuracy: 1.000 - ETA: 17s - loss: 1.2344e-04 - categorical_accuracy: 1.000 - ETA: 15s - loss: 1.2322e-04 - categorical_accuracy: 1.000 - ETA: 14s - loss: 1.2518e-04 - categorical_accuracy: 1.000 - ETA: 12s - loss: 1.2417e-04 - categorical_accuracy: 1.000 - ETA: 11s - loss: 1.2397e-04 - categorical_accuracy: 1.000 - ETA: 9s - loss: 1.2342e-04 - categorical_accuracy: 1.000 - ETA: 7s - loss: 1.2429e-04 - categorical_accuracy: 1.00 - ETA: 6s - loss: 1.2450e-04 - categorical_accuracy: 1.00 - ETA: 4s - loss: 1.2535e-04 - categorical_accuracy: 1.00 - ETA: 3s - loss: 1.2499e-04 - categorical_accuracy: 1.00 - ETA: 1s - loss: 1.2437e-04 - categorical_accuracy: 1.00 - 65s 186ms/step - loss: 1.2379e-04 - categorical_accuracy: 1.0000 - val_loss: 0.0680 - val_categorical_accuracy: 0.9868\n",
      "Epoch 92/100\n",
      "349/349 [==============================] - ETA: 1:03 - loss: 1.1712e-04 - categorical_accuracy: 1.00 - ETA: 1:01 - loss: 1.0668e-04 - categorical_accuracy: 1.00 - ETA: 59s - loss: 1.1336e-04 - categorical_accuracy: 1.0000 - ETA: 54s - loss: 1.0772e-04 - categorical_accuracy: 1.000 - ETA: 53s - loss: 1.0669e-04 - categorical_accuracy: 1.000 - ETA: 52s - loss: 1.1212e-04 - categorical_accuracy: 1.000 - ETA: 50s - loss: 1.1221e-04 - categorical_accuracy: 1.000 - ETA: 48s - loss: 1.1177e-04 - categorical_accuracy: 1.000 - ETA: 46s - loss: 1.1349e-04 - categorical_accuracy: 1.000 - ETA: 44s - loss: 1.1255e-04 - categorical_accuracy: 1.000 - ETA: 42s - loss: 1.1336e-04 - categorical_accuracy: 1.000 - ETA: 40s - loss: 1.1532e-04 - categorical_accuracy: 1.000 - ETA: 38s - loss: 1.1501e-04 - categorical_accuracy: 1.000 - ETA: 36s - loss: 1.1469e-04 - categorical_accuracy: 1.000 - ETA: 34s - loss: 1.1491e-04 - categorical_accuracy: 1.000 - ETA: 32s - loss: 1.1552e-04 - categorical_accuracy: 1.000 - ETA: 30s - loss: 1.1439e-04 - categorical_accuracy: 1.000 - ETA: 28s - loss: 1.1835e-04 - categorical_accuracy: 1.000 - ETA: 26s - loss: 1.1856e-04 - categorical_accuracy: 1.000 - ETA: 25s - loss: 1.2074e-04 - categorical_accuracy: 1.000 - ETA: 23s - loss: 1.1943e-04 - categorical_accuracy: 1.000 - ETA: 21s - loss: 1.2003e-04 - categorical_accuracy: 1.000 - ETA: 19s - loss: 1.1898e-04 - categorical_accuracy: 1.000 - ETA: 18s - loss: 1.2197e-04 - categorical_accuracy: 1.000 - ETA: 16s - loss: 1.2193e-04 - categorical_accuracy: 1.000 - ETA: 14s - loss: 1.2144e-04 - categorical_accuracy: 1.000 - ETA: 13s - loss: 1.2104e-04 - categorical_accuracy: 1.000 - ETA: 11s - loss: 1.2144e-04 - categorical_accuracy: 1.000 - ETA: 10s - loss: 1.2239e-04 - categorical_accuracy: 1.000 - ETA: 8s - loss: 1.2135e-04 - categorical_accuracy: 1.000 - ETA: 6s - loss: 1.2075e-04 - categorical_accuracy: 1.00 - ETA: 4s - loss: 1.2099e-04 - categorical_accuracy: 1.00 - ETA: 3s - loss: 1.2080e-04 - categorical_accuracy: 1.00 - ETA: 1s - loss: 1.1951e-04 - categorical_accuracy: 1.00 - 68s 194ms/step - loss: 1.1890e-04 - categorical_accuracy: 1.0000 - val_loss: 0.0686 - val_categorical_accuracy: 0.9868\n",
      "Epoch 93/100\n",
      "349/349 [==============================] - ETA: 53s - loss: 8.8791e-05 - categorical_accuracy: 1.000 - ETA: 50s - loss: 1.2584e-04 - categorical_accuracy: 1.000 - ETA: 48s - loss: 1.1360e-04 - categorical_accuracy: 1.000 - ETA: 47s - loss: 1.0966e-04 - categorical_accuracy: 1.000 - ETA: 47s - loss: 1.0890e-04 - categorical_accuracy: 1.000 - ETA: 45s - loss: 1.0970e-04 - categorical_accuracy: 1.000 - ETA: 43s - loss: 1.0859e-04 - categorical_accuracy: 1.000 - ETA: 41s - loss: 1.1549e-04 - categorical_accuracy: 1.000 - ETA: 39s - loss: 1.1324e-04 - categorical_accuracy: 1.000 - ETA: 38s - loss: 1.1244e-04 - categorical_accuracy: 1.000 - ETA: 37s - loss: 1.1700e-04 - categorical_accuracy: 1.000 - ETA: 35s - loss: 1.1495e-04 - categorical_accuracy: 1.000 - ETA: 34s - loss: 1.1305e-04 - categorical_accuracy: 1.000 - ETA: 32s - loss: 1.1325e-04 - categorical_accuracy: 1.000 - ETA: 31s - loss: 1.1359e-04 - categorical_accuracy: 1.000 - ETA: 29s - loss: 1.1263e-04 - categorical_accuracy: 1.000 - ETA: 28s - loss: 1.1421e-04 - categorical_accuracy: 1.000 - ETA: 26s - loss: 1.1371e-04 - categorical_accuracy: 1.000 - ETA: 25s - loss: 1.1430e-04 - categorical_accuracy: 1.000 - ETA: 23s - loss: 1.1627e-04 - categorical_accuracy: 1.000 - ETA: 21s - loss: 1.1688e-04 - categorical_accuracy: 1.000 - ETA: 20s - loss: 1.1728e-04 - categorical_accuracy: 1.000 - ETA: 18s - loss: 1.1851e-04 - categorical_accuracy: 1.000 - ETA: 17s - loss: 1.1846e-04 - categorical_accuracy: 1.000 - ETA: 15s - loss: 1.1780e-04 - categorical_accuracy: 1.000 - ETA: 14s - loss: 1.2132e-04 - categorical_accuracy: 1.000 - ETA: 12s - loss: 1.2113e-04 - categorical_accuracy: 1.000 - ETA: 10s - loss: 1.2180e-04 - categorical_accuracy: 1.000 - ETA: 9s - loss: 1.2179e-04 - categorical_accuracy: 1.000 - ETA: 7s - loss: 1.2370e-04 - categorical_accuracy: 1.00 - ETA: 6s - loss: 1.2372e-04 - categorical_accuracy: 1.00 - ETA: 4s - loss: 1.2272e-04 - categorical_accuracy: 1.00 - ETA: 3s - loss: 1.2449e-04 - categorical_accuracy: 1.00 - ETA: 1s - loss: 1.2473e-04 - categorical_accuracy: 1.00 - 64s 183ms/step - loss: 1.2438e-04 - categorical_accuracy: 1.0000 - val_loss: 0.0687 - val_categorical_accuracy: 0.9868\n",
      "Epoch 94/100\n",
      "349/349 [==============================] - ETA: 57s - loss: 1.4898e-04 - categorical_accuracy: 1.000 - ETA: 54s - loss: 1.3016e-04 - categorical_accuracy: 1.000 - ETA: 51s - loss: 1.3072e-04 - categorical_accuracy: 1.000 - ETA: 51s - loss: 1.2363e-04 - categorical_accuracy: 1.000 - ETA: 51s - loss: 1.1656e-04 - categorical_accuracy: 1.000 - ETA: 48s - loss: 1.1189e-04 - categorical_accuracy: 1.000 - ETA: 46s - loss: 1.1184e-04 - categorical_accuracy: 1.000 - ETA: 44s - loss: 1.1633e-04 - categorical_accuracy: 1.000 - ETA: 42s - loss: 1.1980e-04 - categorical_accuracy: 1.000 - ETA: 41s - loss: 1.1887e-04 - categorical_accuracy: 1.000 - ETA: 40s - loss: 1.2264e-04 - categorical_accuracy: 1.000 - ETA: 38s - loss: 1.2176e-04 - categorical_accuracy: 1.000 - ETA: 36s - loss: 1.1995e-04 - categorical_accuracy: 1.000 - ETA: 35s - loss: 1.2069e-04 - categorical_accuracy: 1.000 - ETA: 33s - loss: 1.1721e-04 - categorical_accuracy: 1.000 - ETA: 32s - loss: 1.1671e-04 - categorical_accuracy: 1.000 - ETA: 30s - loss: 1.1979e-04 - categorical_accuracy: 1.000 - ETA: 29s - loss: 1.1998e-04 - categorical_accuracy: 1.000 - ETA: 27s - loss: 1.1980e-04 - categorical_accuracy: 1.000 - ETA: 25s - loss: 1.2559e-04 - categorical_accuracy: 1.000 - ETA: 23s - loss: 1.2415e-04 - categorical_accuracy: 1.000 - ETA: 22s - loss: 1.2290e-04 - categorical_accuracy: 1.000 - ETA: 20s - loss: 1.2173e-04 - categorical_accuracy: 1.000 - ETA: 18s - loss: 1.2009e-04 - categorical_accuracy: 1.000 - ETA: 17s - loss: 1.2024e-04 - categorical_accuracy: 1.000 - ETA: 15s - loss: 1.2268e-04 - categorical_accuracy: 1.000 - ETA: 13s - loss: 1.2079e-04 - categorical_accuracy: 1.000 - ETA: 11s - loss: 1.2175e-04 - categorical_accuracy: 1.000 - ETA: 10s - loss: 1.2243e-04 - categorical_accuracy: 1.000 - ETA: 8s - loss: 1.2128e-04 - categorical_accuracy: 1.000 - ETA: 6s - loss: 1.2143e-04 - categorical_accuracy: 1.00 - ETA: 4s - loss: 1.2190e-04 - categorical_accuracy: 1.00 - ETA: 3s - loss: 1.2106e-04 - categorical_accuracy: 1.00 - ETA: 1s - loss: 1.2059e-04 - categorical_accuracy: 1.00 - 66s 189ms/step - loss: 1.2162e-04 - categorical_accuracy: 1.0000 - val_loss: 0.0685 - val_categorical_accuracy: 0.9868\n",
      "Epoch 95/100\n",
      "349/349 [==============================] - ETA: 49s - loss: 9.6338e-05 - categorical_accuracy: 1.000 - ETA: 48s - loss: 1.0731e-04 - categorical_accuracy: 1.000 - ETA: 47s - loss: 9.9166e-05 - categorical_accuracy: 1.000 - ETA: 46s - loss: 1.0416e-04 - categorical_accuracy: 1.000 - ETA: 44s - loss: 9.9634e-05 - categorical_accuracy: 1.000 - ETA: 43s - loss: 1.0228e-04 - categorical_accuracy: 1.000 - ETA: 41s - loss: 1.0360e-04 - categorical_accuracy: 1.000 - ETA: 40s - loss: 1.0073e-04 - categorical_accuracy: 1.000 - ETA: 38s - loss: 1.0340e-04 - categorical_accuracy: 1.000 - ETA: 37s - loss: 1.0281e-04 - categorical_accuracy: 1.000 - ETA: 35s - loss: 1.0581e-04 - categorical_accuracy: 1.000 - ETA: 34s - loss: 1.0531e-04 - categorical_accuracy: 1.000 - ETA: 32s - loss: 1.0532e-04 - categorical_accuracy: 1.000 - ETA: 31s - loss: 1.0652e-04 - categorical_accuracy: 1.000 - ETA: 29s - loss: 1.0772e-04 - categorical_accuracy: 1.000 - ETA: 28s - loss: 1.0806e-04 - categorical_accuracy: 1.000 - ETA: 26s - loss: 1.0756e-04 - categorical_accuracy: 1.000 - ETA: 25s - loss: 1.0719e-04 - categorical_accuracy: 1.000 - ETA: 23s - loss: 1.0659e-04 - categorical_accuracy: 1.000 - ETA: 22s - loss: 1.0625e-04 - categorical_accuracy: 1.000 - ETA: 20s - loss: 1.0963e-04 - categorical_accuracy: 1.000 - ETA: 19s - loss: 1.0983e-04 - categorical_accuracy: 1.000 - ETA: 17s - loss: 1.0977e-04 - categorical_accuracy: 1.000 - ETA: 16s - loss: 1.0992e-04 - categorical_accuracy: 1.000 - ETA: 14s - loss: 1.1060e-04 - categorical_accuracy: 1.000 - ETA: 13s - loss: 1.1149e-04 - categorical_accuracy: 1.000 - ETA: 11s - loss: 1.1146e-04 - categorical_accuracy: 1.000 - ETA: 10s - loss: 1.1192e-04 - categorical_accuracy: 1.000 - ETA: 9s - loss: 1.1128e-04 - categorical_accuracy: 1.000 - ETA: 7s - loss: 1.1448e-04 - categorical_accuracy: 1.00 - ETA: 6s - loss: 1.1442e-04 - categorical_accuracy: 1.00 - ETA: 4s - loss: 1.1442e-04 - categorical_accuracy: 1.00 - ETA: 2s - loss: 1.1455e-04 - categorical_accuracy: 1.00 - ETA: 1s - loss: 1.1430e-04 - categorical_accuracy: 1.00 - 62s 179ms/step - loss: 1.1463e-04 - categorical_accuracy: 1.0000 - val_loss: 0.0698 - val_categorical_accuracy: 0.9868\n",
      "Epoch 96/100\n"
     ]
    },
    {
     "name": "stdout",
     "output_type": "stream",
     "text": [
      "349/349 [==============================] - ETA: 57s - loss: 9.0127e-05 - categorical_accuracy: 1.000 - ETA: 56s - loss: 9.4124e-05 - categorical_accuracy: 1.000 - ETA: 54s - loss: 1.0200e-04 - categorical_accuracy: 1.000 - ETA: 52s - loss: 1.0999e-04 - categorical_accuracy: 1.000 - ETA: 49s - loss: 1.1494e-04 - categorical_accuracy: 1.000 - ETA: 48s - loss: 1.1695e-04 - categorical_accuracy: 1.000 - ETA: 47s - loss: 1.1347e-04 - categorical_accuracy: 1.000 - ETA: 46s - loss: 1.0969e-04 - categorical_accuracy: 1.000 - ETA: 44s - loss: 1.0843e-04 - categorical_accuracy: 1.000 - ETA: 42s - loss: 1.0852e-04 - categorical_accuracy: 1.000 - ETA: 40s - loss: 1.0771e-04 - categorical_accuracy: 1.000 - ETA: 39s - loss: 1.0669e-04 - categorical_accuracy: 1.000 - ETA: 37s - loss: 1.0580e-04 - categorical_accuracy: 1.000 - ETA: 36s - loss: 1.0502e-04 - categorical_accuracy: 1.000 - ETA: 34s - loss: 1.0448e-04 - categorical_accuracy: 1.000 - ETA: 32s - loss: 1.0396e-04 - categorical_accuracy: 1.000 - ETA: 30s - loss: 1.0433e-04 - categorical_accuracy: 1.000 - ETA: 28s - loss: 1.0474e-04 - categorical_accuracy: 1.000 - ETA: 27s - loss: 1.0641e-04 - categorical_accuracy: 1.000 - ETA: 25s - loss: 1.0623e-04 - categorical_accuracy: 1.000 - ETA: 23s - loss: 1.0614e-04 - categorical_accuracy: 1.000 - ETA: 21s - loss: 1.0630e-04 - categorical_accuracy: 1.000 - ETA: 20s - loss: 1.0719e-04 - categorical_accuracy: 1.000 - ETA: 18s - loss: 1.0899e-04 - categorical_accuracy: 1.000 - ETA: 16s - loss: 1.0915e-04 - categorical_accuracy: 1.000 - ETA: 14s - loss: 1.0967e-04 - categorical_accuracy: 1.000 - ETA: 13s - loss: 1.1002e-04 - categorical_accuracy: 1.000 - ETA: 11s - loss: 1.1050e-04 - categorical_accuracy: 1.000 - ETA: 9s - loss: 1.1068e-04 - categorical_accuracy: 1.000 - ETA: 8s - loss: 1.1051e-04 - categorical_accuracy: 1.00 - ETA: 6s - loss: 1.1028e-04 - categorical_accuracy: 1.00 - ETA: 4s - loss: 1.1170e-04 - categorical_accuracy: 1.00 - ETA: 3s - loss: 1.1228e-04 - categorical_accuracy: 1.00 - ETA: 1s - loss: 1.1305e-04 - categorical_accuracy: 1.00 - 65s 186ms/step - loss: 1.1304e-04 - categorical_accuracy: 1.0000 - val_loss: 0.0694 - val_categorical_accuracy: 0.9868\n",
      "Epoch 97/100\n",
      "349/349 [==============================] - ETA: 49s - loss: 1.0946e-04 - categorical_accuracy: 1.000 - ETA: 48s - loss: 1.0479e-04 - categorical_accuracy: 1.000 - ETA: 47s - loss: 1.0376e-04 - categorical_accuracy: 1.000 - ETA: 47s - loss: 1.0662e-04 - categorical_accuracy: 1.000 - ETA: 47s - loss: 1.1002e-04 - categorical_accuracy: 1.000 - ETA: 46s - loss: 1.1083e-04 - categorical_accuracy: 1.000 - ETA: 44s - loss: 1.0998e-04 - categorical_accuracy: 1.000 - ETA: 43s - loss: 1.0986e-04 - categorical_accuracy: 1.000 - ETA: 42s - loss: 1.0755e-04 - categorical_accuracy: 1.000 - ETA: 41s - loss: 1.0741e-04 - categorical_accuracy: 1.000 - ETA: 40s - loss: 1.0694e-04 - categorical_accuracy: 1.000 - ETA: 38s - loss: 1.0669e-04 - categorical_accuracy: 1.000 - ETA: 37s - loss: 1.0607e-04 - categorical_accuracy: 1.000 - ETA: 35s - loss: 1.0516e-04 - categorical_accuracy: 1.000 - ETA: 33s - loss: 1.0644e-04 - categorical_accuracy: 1.000 - ETA: 32s - loss: 1.0526e-04 - categorical_accuracy: 1.000 - ETA: 31s - loss: 1.0491e-04 - categorical_accuracy: 1.000 - ETA: 29s - loss: 1.0511e-04 - categorical_accuracy: 1.000 - ETA: 27s - loss: 1.0766e-04 - categorical_accuracy: 1.000 - ETA: 25s - loss: 1.0799e-04 - categorical_accuracy: 1.000 - ETA: 24s - loss: 1.0730e-04 - categorical_accuracy: 1.000 - ETA: 22s - loss: 1.0904e-04 - categorical_accuracy: 1.000 - ETA: 20s - loss: 1.1014e-04 - categorical_accuracy: 1.000 - ETA: 18s - loss: 1.0979e-04 - categorical_accuracy: 1.000 - ETA: 17s - loss: 1.0964e-04 - categorical_accuracy: 1.000 - ETA: 15s - loss: 1.0849e-04 - categorical_accuracy: 1.000 - ETA: 13s - loss: 1.0906e-04 - categorical_accuracy: 1.000 - ETA: 11s - loss: 1.0872e-04 - categorical_accuracy: 1.000 - ETA: 10s - loss: 1.0749e-04 - categorical_accuracy: 1.000 - ETA: 8s - loss: 1.0686e-04 - categorical_accuracy: 1.000 - ETA: 6s - loss: 1.0674e-04 - categorical_accuracy: 1.00 - ETA: 4s - loss: 1.0703e-04 - categorical_accuracy: 1.00 - ETA: 3s - loss: 1.0693e-04 - categorical_accuracy: 1.00 - ETA: 1s - loss: 1.0670e-04 - categorical_accuracy: 1.00 - 66s 189ms/step - loss: 1.0710e-04 - categorical_accuracy: 1.0000 - val_loss: 0.0695 - val_categorical_accuracy: 0.9868\n",
      "Epoch 98/100\n",
      "349/349 [==============================] - ETA: 52s - loss: 1.1010e-04 - categorical_accuracy: 1.000 - ETA: 51s - loss: 1.1365e-04 - categorical_accuracy: 1.000 - ETA: 49s - loss: 1.0587e-04 - categorical_accuracy: 1.000 - ETA: 48s - loss: 9.9116e-05 - categorical_accuracy: 1.000 - ETA: 47s - loss: 9.8808e-05 - categorical_accuracy: 1.000 - ETA: 45s - loss: 1.0238e-04 - categorical_accuracy: 1.000 - ETA: 44s - loss: 9.8496e-05 - categorical_accuracy: 1.000 - ETA: 42s - loss: 1.0000e-04 - categorical_accuracy: 1.000 - ETA: 40s - loss: 1.0314e-04 - categorical_accuracy: 1.000 - ETA: 39s - loss: 1.0006e-04 - categorical_accuracy: 1.000 - ETA: 37s - loss: 1.0090e-04 - categorical_accuracy: 1.000 - ETA: 36s - loss: 1.0209e-04 - categorical_accuracy: 1.000 - ETA: 34s - loss: 1.0311e-04 - categorical_accuracy: 1.000 - ETA: 32s - loss: 1.0330e-04 - categorical_accuracy: 1.000 - ETA: 31s - loss: 1.0470e-04 - categorical_accuracy: 1.000 - ETA: 29s - loss: 1.0457e-04 - categorical_accuracy: 1.000 - ETA: 28s - loss: 1.0463e-04 - categorical_accuracy: 1.000 - ETA: 26s - loss: 1.0332e-04 - categorical_accuracy: 1.000 - ETA: 25s - loss: 1.0461e-04 - categorical_accuracy: 1.000 - ETA: 23s - loss: 1.0534e-04 - categorical_accuracy: 1.000 - ETA: 21s - loss: 1.0513e-04 - categorical_accuracy: 1.000 - ETA: 20s - loss: 1.0568e-04 - categorical_accuracy: 1.000 - ETA: 18s - loss: 1.0585e-04 - categorical_accuracy: 1.000 - ETA: 17s - loss: 1.0564e-04 - categorical_accuracy: 1.000 - ETA: 15s - loss: 1.0629e-04 - categorical_accuracy: 1.000 - ETA: 13s - loss: 1.0735e-04 - categorical_accuracy: 1.000 - ETA: 12s - loss: 1.0732e-04 - categorical_accuracy: 1.000 - ETA: 10s - loss: 1.0800e-04 - categorical_accuracy: 1.000 - ETA: 9s - loss: 1.0868e-04 - categorical_accuracy: 1.000 - ETA: 7s - loss: 1.0808e-04 - categorical_accuracy: 1.00 - ETA: 6s - loss: 1.0969e-04 - categorical_accuracy: 1.00 - ETA: 4s - loss: 1.1014e-04 - categorical_accuracy: 1.00 - ETA: 2s - loss: 1.0950e-04 - categorical_accuracy: 1.00 - ETA: 1s - loss: 1.0923e-04 - categorical_accuracy: 1.00 - 62s 178ms/step - loss: 1.1087e-04 - categorical_accuracy: 1.0000 - val_loss: 0.0673 - val_categorical_accuracy: 0.9868\n",
      "Epoch 99/100\n",
      "349/349 [==============================] - ETA: 50s - loss: 1.0100e-04 - categorical_accuracy: 1.000 - ETA: 49s - loss: 9.2232e-05 - categorical_accuracy: 1.000 - ETA: 50s - loss: 8.9505e-05 - categorical_accuracy: 1.000 - ETA: 49s - loss: 9.7710e-05 - categorical_accuracy: 1.000 - ETA: 47s - loss: 1.0374e-04 - categorical_accuracy: 1.000 - ETA: 45s - loss: 1.0619e-04 - categorical_accuracy: 1.000 - ETA: 43s - loss: 1.0600e-04 - categorical_accuracy: 1.000 - ETA: 41s - loss: 1.0633e-04 - categorical_accuracy: 1.000 - ETA: 40s - loss: 1.0759e-04 - categorical_accuracy: 1.000 - ETA: 39s - loss: 1.0925e-04 - categorical_accuracy: 1.000 - ETA: 37s - loss: 1.0791e-04 - categorical_accuracy: 1.000 - ETA: 35s - loss: 1.0615e-04 - categorical_accuracy: 1.000 - ETA: 34s - loss: 1.0561e-04 - categorical_accuracy: 1.000 - ETA: 32s - loss: 1.0438e-04 - categorical_accuracy: 1.000 - ETA: 31s - loss: 1.0647e-04 - categorical_accuracy: 1.000 - ETA: 29s - loss: 1.0784e-04 - categorical_accuracy: 1.000 - ETA: 28s - loss: 1.0738e-04 - categorical_accuracy: 1.000 - ETA: 26s - loss: 1.0737e-04 - categorical_accuracy: 1.000 - ETA: 24s - loss: 1.0741e-04 - categorical_accuracy: 1.000 - ETA: 23s - loss: 1.1264e-04 - categorical_accuracy: 1.000 - ETA: 21s - loss: 1.1389e-04 - categorical_accuracy: 1.000 - ETA: 20s - loss: 1.1352e-04 - categorical_accuracy: 1.000 - ETA: 18s - loss: 1.1320e-04 - categorical_accuracy: 1.000 - ETA: 17s - loss: 1.1308e-04 - categorical_accuracy: 1.000 - ETA: 15s - loss: 1.1323e-04 - categorical_accuracy: 1.000 - ETA: 13s - loss: 1.1426e-04 - categorical_accuracy: 1.000 - ETA: 12s - loss: 1.1298e-04 - categorical_accuracy: 1.000 - ETA: 10s - loss: 1.1218e-04 - categorical_accuracy: 1.000 - ETA: 9s - loss: 1.1199e-04 - categorical_accuracy: 1.000 - ETA: 7s - loss: 1.1227e-04 - categorical_accuracy: 1.00 - ETA: 6s - loss: 1.1125e-04 - categorical_accuracy: 1.00 - ETA: 4s - loss: 1.1128e-04 - categorical_accuracy: 1.00 - ETA: 2s - loss: 1.1089e-04 - categorical_accuracy: 1.00 - ETA: 1s - loss: 1.1021e-04 - categorical_accuracy: 1.00 - 62s 179ms/step - loss: 1.1034e-04 - categorical_accuracy: 1.0000 - val_loss: 0.0673 - val_categorical_accuracy: 0.9868\n",
      "Epoch 100/100\n",
      "349/349 [==============================] - ETA: 56s - loss: 1.2362e-04 - categorical_accuracy: 1.000 - ETA: 56s - loss: 1.4486e-04 - categorical_accuracy: 1.000 - ETA: 52s - loss: 1.3520e-04 - categorical_accuracy: 1.000 - ETA: 50s - loss: 1.2223e-04 - categorical_accuracy: 1.000 - ETA: 48s - loss: 1.2069e-04 - categorical_accuracy: 1.000 - ETA: 46s - loss: 1.1950e-04 - categorical_accuracy: 1.000 - ETA: 44s - loss: 1.1904e-04 - categorical_accuracy: 1.000 - ETA: 43s - loss: 1.1657e-04 - categorical_accuracy: 1.000 - ETA: 41s - loss: 1.2346e-04 - categorical_accuracy: 1.000 - ETA: 39s - loss: 1.1790e-04 - categorical_accuracy: 1.000 - ETA: 38s - loss: 1.1944e-04 - categorical_accuracy: 1.000 - ETA: 36s - loss: 1.1721e-04 - categorical_accuracy: 1.000 - ETA: 34s - loss: 1.1440e-04 - categorical_accuracy: 1.000 - ETA: 33s - loss: 1.1538e-04 - categorical_accuracy: 1.000 - ETA: 32s - loss: 1.1402e-04 - categorical_accuracy: 1.000 - ETA: 30s - loss: 1.1256e-04 - categorical_accuracy: 1.000 - ETA: 28s - loss: 1.1201e-04 - categorical_accuracy: 1.000 - ETA: 27s - loss: 1.1056e-04 - categorical_accuracy: 1.000 - ETA: 25s - loss: 1.1039e-04 - categorical_accuracy: 1.000 - ETA: 23s - loss: 1.0957e-04 - categorical_accuracy: 1.000 - ETA: 22s - loss: 1.1044e-04 - categorical_accuracy: 1.000 - ETA: 20s - loss: 1.1041e-04 - categorical_accuracy: 1.000 - ETA: 19s - loss: 1.1214e-04 - categorical_accuracy: 1.000 - ETA: 17s - loss: 1.1261e-04 - categorical_accuracy: 1.000 - ETA: 15s - loss: 1.1299e-04 - categorical_accuracy: 1.000 - ETA: 14s - loss: 1.1466e-04 - categorical_accuracy: 1.000 - ETA: 12s - loss: 1.1354e-04 - categorical_accuracy: 1.000 - ETA: 11s - loss: 1.1198e-04 - categorical_accuracy: 1.000 - ETA: 9s - loss: 1.1245e-04 - categorical_accuracy: 1.000 - ETA: 7s - loss: 1.1143e-04 - categorical_accuracy: 1.00 - ETA: 6s - loss: 1.1270e-04 - categorical_accuracy: 1.00 - ETA: 4s - loss: 1.1314e-04 - categorical_accuracy: 1.00 - ETA: 3s - loss: 1.1300e-04 - categorical_accuracy: 1.00 - ETA: 1s - loss: 1.1250e-04 - categorical_accuracy: 1.00 - 63s 181ms/step - loss: 1.1249e-04 - categorical_accuracy: 1.0000 - val_loss: 0.0656 - val_categorical_accuracy: 0.9868\n"
     ]
    },
    {
     "data": {
      "text/plain": [
       "[<matplotlib.lines.Line2D at 0xcce7034588>]"
      ]
     },
     "execution_count": 37,
     "metadata": {},
     "output_type": "execute_result"
    },
    {
     "data": {
      "image/png": "[encoded data removed]",
      "text/plain": [
       "<matplotlib.figure.Figure at 0xcce241a860>"
      ]
     },
     "metadata": {},
     "output_type": "display_data"
    }
   ],
   "source": [
    "from matplotlib import pyplot as plt\n",
    "model11 = get_model1()\n",
    "history=model11.fit(X_train, y_train_hot, batch_size=batch_size, epochs=100, verbose=verbose, validation_data=(X_test, y_test_hot))\n",
    "plt.plot(history.history['val_categorical_accuracy'])"
   ]
  },
  {
   "cell_type": "code",
   "execution_count": 39,
   "metadata": {},
   "outputs": [
    {
     "name": "stdout",
     "output_type": "stream",
     "text": [
      "Train accuracy: 1.0\n",
      "Test accuracy : 0.986754966887\n"
     ]
    }
   ],
   "source": [
    "def acc(y_true, y_pred):\n",
    "    return np.equal(y_true,y_pred).mean()\n",
    "\n",
    "print(\"Train accuracy: \" + str(acc(y_train, y_pred2)))\n",
    "print(\"Test accuracy : \" + str(acc(y_test, y_pred1))) "
   ]
  },
  {
   "cell_type": "code",
   "execution_count": null,
   "metadata": {},
   "outputs": [],
   "source": []
  },
  {
   "cell_type": "code",
   "execution_count": 13,
   "metadata": {},
   "outputs": [],
   "source": [
    "from keras.utils import plot_model\n",
    "model=get_model3()\n",
    "plot_model(model, to_file='model3.jpg')"
   ]
  },
  {
   "cell_type": "code",
   "execution_count": 35,
   "metadata": {},
   "outputs": [],
   "source": [
    "from keras.models import load_model\n",
    "model1.save('model.h5');\n",
    "modelFinal = load_model('model.h5')"
   ]
  }
 ],
 "metadata": {
  "kernelspec": {
   "display_name": "Python 3",
   "language": "python",
   "name": "python3"
  },
  "language_info": {
   "codemirror_mode": {
    "name": "ipython",
    "version": 3
   },
   "file_extension": ".py",
   "mimetype": "text/x-python",
   "name": "python",
   "nbconvert_exporter": "python",
   "pygments_lexer": "ipython3",
   "version": "3.5.4"
  }
 },
 "nbformat": 4,
 "nbformat_minor": 2
}
