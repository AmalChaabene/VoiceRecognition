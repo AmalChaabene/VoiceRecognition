{
 "cells": [
  {
   "cell_type": "code",
   "execution_count": 1,
   "metadata": {},
   "outputs": [
    {
     "name": "stderr",
     "output_type": "stream",
     "text": [
      "C:\\Users\\Amal\\Anaconda3\\envs\\DL\\lib\\site-packages\\h5py\\__init__.py:36: FutureWarning: Conversion of the second argument of issubdtype from `float` to `np.floating` is deprecated. In future, it will be treated as `np.float64 == np.dtype(float).type`.\n",
      "  from ._conv import register_converters as _register_converters\n",
      "Using TensorFlow backend.\n",
      "Saving vectors of label - 'amal': 100%|██████████████████████████████████████████████| 150/150 [00:07<00:00, 18.75it/s]\n",
      "Saving vectors of label - 'hajer': 100%|█████████████████████████████████████████████| 150/150 [00:08<00:00, 17.20it/s]\n"
     ]
    },
    {
     "name": "stdout",
     "output_type": "stream",
     "text": [
      "train\n",
      "(150, 40, 30)\n"
     ]
    }
   ],
   "source": [
    "%load_ext autoreload\n",
    "%autoreload 2\n",
    "\n",
    "from preprocess import *\n",
    "import keras\n",
    "from keras.models import Sequential\n",
    "from keras.layers import Dense, Dropout, Flatten, Conv2D, MaxPooling2D\n",
    "from keras.utils import to_categorical\n",
    "from keras import metrics\n",
    "import time\n",
    "\n",
    "start_time = time.time() \n",
    "\n",
    "# Second dimension of the feature is dim2\n",
    "feature_dim_2 = 30\n",
    "\n",
    "# Save data to array file first\n",
    "save_data_to_array(max_len=feature_dim_2)\n",
    "\n",
    "# # Loading train set and test set\n",
    "X_train, X_test, y_train, y_test = get_train_test()\n",
    "\n",
    "# # Feature dimension\n",
    "feature_dim_1 = 40\n",
    "channel = 1\n",
    "epochs = 10\n",
    "batch_size = 100\n",
    "verbose = 1\n",
    "num_classes = 2\n",
    "\n",
    "# Reshaping to perform 2D convolution\n",
    "X_train = X_train.reshape(X_train.shape[0], feature_dim_1, feature_dim_2, channel)\n",
    "X_test = X_test.reshape(X_test.shape[0], feature_dim_1, feature_dim_2, channel)\n",
    "\n",
    "y_train_hot = to_categorical(y_train)\n",
    "y_test_hot = to_categorical(y_test)"
   ]
  },
  {
   "cell_type": "code",
   "execution_count": 8,
   "metadata": {},
   "outputs": [],
   "source": [
    "def get_model():\n",
    "    model = Sequential()\n",
    "    model.add(Conv2D(32, kernel_size=(2, 2), activation='relu', input_shape=(feature_dim_1, feature_dim_2, channel)))\n",
    "    model.add(Conv2D(48, kernel_size=(2, 2), activation='relu'))\n",
    "    model.add(Conv2D(120, kernel_size=(2, 2), activation='relu'))\n",
    "    model.add(MaxPooling2D(pool_size=(2, 2)))\n",
    "    model.add(Dropout(0.25))\n",
    "    model.add(Flatten()) \n",
    "    model.add(Dense(128, activation='relu'))\n",
    "    model.add(Dropout(0.25))\n",
    "    model.add(Dense(64, activation='relu'))\n",
    "    model.add(Dropout(0.4))\n",
    "    model.add(Dense(num_classes, activation='softmax'))\n",
    "    model.compile(loss=keras.losses.categorical_crossentropy,\n",
    "                  optimizer=keras.optimizers.Adadelta(),\n",
    "                  metrics=[metrics.categorical_accuracy])\n",
    "    return model\n",
    "\n",
    "#Adadelta() learning rate par défaut howa 1\n",
    "\n",
    "# Predicts one sample\n",
    "def predict(filepath, model):\n",
    "    sample = wav2mfcc(filepath)\n",
    "    sample_reshaped = sample.reshape(1, feature_dim_1, feature_dim_2, channel)\n",
    "    \n",
    "    print(\"amal: \",model.predict(sample_reshaped)[0][0])\n",
    "    \n",
    "    print(\"hajer: \",model.predict(sample_reshaped)[0][1])\n",
    "    \n",
    "    print(\"La voix est celle de \")\n",
    "    return get_labels()[0][\n",
    "            np.argmax(model.predict(sample_reshaped))\n",
    "    ]"
   ]
  },
  {
   "cell_type": "markdown",
   "metadata": {},
   "source": [
    "# Building The Model Then Training it"
   ]
  },
  {
   "cell_type": "code",
   "execution_count": 9,
   "metadata": {
    "scrolled": false
   },
   "outputs": [
    {
     "name": "stdout",
     "output_type": "stream",
     "text": [
      "Train on 180 samples, validate on 120 samples\n",
      "Epoch 1/10\n",
      "180/180 [==============================] - ETA: 1s - loss: 2.8422 - categorical_accuracy: 0.47 - 4s 22ms/step - loss: 5.5949 - categorical_accuracy: 0.4556 - val_loss: 7.6561 - val_categorical_accuracy: 0.5250\n",
      "Epoch 2/10\n",
      "180/180 [==============================] - ETA: 1s - loss: 8.8043 - categorical_accuracy: 0.45 - 3s 17ms/step - loss: 8.3479 - categorical_accuracy: 0.4778 - val_loss: 7.6561 - val_categorical_accuracy: 0.5250\n",
      "Epoch 3/10\n",
      "180/180 [==============================] - ETA: 1s - loss: 8.8634 - categorical_accuracy: 0.44 - 3s 18ms/step - loss: 8.1225 - categorical_accuracy: 0.4833 - val_loss: 7.6561 - val_categorical_accuracy: 0.5250\n",
      "Epoch 4/10\n",
      "180/180 [==============================] - ETA: 1s - loss: 7.8387 - categorical_accuracy: 0.50 - 3s 16ms/step - loss: 7.6622 - categorical_accuracy: 0.4833 - val_loss: 8.4215 - val_categorical_accuracy: 0.4750\n",
      "Epoch 5/10\n",
      "180/180 [==============================] - ETA: 1s - loss: 6.6256 - categorical_accuracy: 0.51 - 3s 16ms/step - loss: 5.7719 - categorical_accuracy: 0.5167 - val_loss: 0.9248 - val_categorical_accuracy: 0.4750\n",
      "Epoch 6/10\n",
      "180/180 [==============================] - ETA: 1s - loss: 3.0384 - categorical_accuracy: 0.45 - 3s 15ms/step - loss: 2.2109 - categorical_accuracy: 0.5167 - val_loss: 0.7123 - val_categorical_accuracy: 0.5917\n",
      "Epoch 7/10\n",
      "180/180 [==============================] - ETA: 1s - loss: 1.1736 - categorical_accuracy: 0.57 - 3s 15ms/step - loss: 1.2492 - categorical_accuracy: 0.5500 - val_loss: 0.7208 - val_categorical_accuracy: 0.5333\n",
      "Epoch 8/10\n",
      "180/180 [==============================] - ETA: 1s - loss: 0.9637 - categorical_accuracy: 0.58 - 3s 17ms/step - loss: 0.8864 - categorical_accuracy: 0.5778 - val_loss: 0.6205 - val_categorical_accuracy: 0.6667\n",
      "Epoch 9/10\n",
      "180/180 [==============================] - ETA: 1s - loss: 0.6178 - categorical_accuracy: 0.63 - 3s 17ms/step - loss: 0.5815 - categorical_accuracy: 0.6667 - val_loss: 0.5937 - val_categorical_accuracy: 0.7250\n",
      "Epoch 10/10\n",
      "180/180 [==============================] - ETA: 1s - loss: 0.6166 - categorical_accuracy: 0.63 - 3s 16ms/step - loss: 0.6017 - categorical_accuracy: 0.6500 - val_loss: 0.6305 - val_categorical_accuracy: 0.5917\n",
      "447.62848830223083\n"
     ]
    }
   ],
   "source": [
    "model = get_model()\n",
    "model.fit(X_train, y_train_hot, batch_size=batch_size, epochs=epochs, verbose=verbose, validation_data=(X_test, y_test_hot))\n",
    "print(time.time() - start_time)"
   ]
  },
  {
   "cell_type": "markdown",
   "metadata": {},
   "source": [
    "## Prediction"
   ]
  },
  {
   "cell_type": "code",
   "execution_count": 10,
   "metadata": {
    "scrolled": true
   },
   "outputs": [
    {
     "data": {
      "image/png": "[encoded data removed]",
      "text/plain": [
       "<matplotlib.figure.Figure at 0x228d19c65f8>"
      ]
     },
     "metadata": {},
     "output_type": "display_data"
    }
   ],
   "source": [
    "import IPython.display as ipd\n",
    "import matplotlib.pyplot as plt\n",
    "from os.path import basename\n",
    "\n",
    "def load_audio_file(file_path):\n",
    "    input_length = 16000\n",
    "    data = librosa.core.load(file_path)[0] #, sr=16000\n",
    "    if len(data)>input_length:\n",
    "        data = data[:input_length]\n",
    "    else:\n",
    "        data = np.pad(data, (0, max(0, input_length - len(data))), \"constant\")\n",
    "    return data\n",
    "\n",
    "def plot_time_series(data):\n",
    "    fig = plt.figure(figsize=(14, 8))\n",
    "    plt.title('Raw wave ')\n",
    "    plt.ylabel('Amplitude')\n",
    "    plt.plot(np.linspace(0, 1, len(data)), data)\n",
    "    plt.show()\n",
    "    \n",
    "    #base = basename(data)\n",
    "    #fileName, fileExtension = os.path.splitext(data)\n",
    "    #fig.savefig(t+'.png')\n",
    "    \n",
    "    \n",
    "data = load_audio_file(\"./sounds/ambou2.wav\")\n",
    "plot_time_series(data)\n",
    "\n"
   ]
  },
  {
   "cell_type": "code",
   "execution_count": 11,
   "metadata": {},
   "outputs": [
    {
     "name": "stdout",
     "output_type": "stream",
     "text": [
      "amal:  0.5327564\n",
      "hajer:  0.4672437\n",
      "amal\n"
     ]
    }
   ],
   "source": [
    "print(predict('./sounds/sound2.wav', model=model))"
   ]
  },
  {
   "cell_type": "code",
   "execution_count": 12,
   "metadata": {},
   "outputs": [
    {
     "name": "stdout",
     "output_type": "stream",
     "text": [
      "amal:  0.53066635\n",
      "hajer:  0.46933365\n",
      "amal\n"
     ]
    }
   ],
   "source": [
    "print(predict('./sounds/sound1.wav', model=model))"
   ]
  },
  {
   "cell_type": "code",
   "execution_count": 13,
   "metadata": {},
   "outputs": [
    {
     "name": "stdout",
     "output_type": "stream",
     "text": [
      "amal:  0.47793543\n",
      "hajer:  0.5220645\n",
      "hajer\n"
     ]
    }
   ],
   "source": [
    "print(predict('./sounds/ambou2.wav', model=model))"
   ]
  },
  {
   "cell_type": "code",
   "execution_count": 14,
   "metadata": {},
   "outputs": [
    {
     "name": "stdout",
     "output_type": "stream",
     "text": [
      "amal:  0.6040269\n",
      "hajer:  0.3959731\n",
      "amal\n"
     ]
    }
   ],
   "source": [
    "print(predict('./sounds/testamal.wav', model=model))"
   ]
  },
  {
   "cell_type": "code",
   "execution_count": 15,
   "metadata": {},
   "outputs": [
    {
     "name": "stdout",
     "output_type": "stream",
     "text": [
      "amal:  0.56234545\n",
      "hajer:  0.43765453\n",
      "amal\n"
     ]
    }
   ],
   "source": [
    "print(predict('./sounds/testhajer.wav', model=model))"
   ]
  },
  {
   "cell_type": "code",
   "execution_count": 33,
   "metadata": {},
   "outputs": [
    {
     "name": "stdout",
     "output_type": "stream",
     "text": [
      "[1 0 1 0 0 0 1 0 0 0 1 0 0 0 1 0 0 1 0 1 0 0 1 1 0 0 1 0 0 0 0 1 0 0 0 0 0\n",
      " 0 0 0 0 0 1 0 0 0 1 0 0 1 1 0 1 0 1 0 0 0 1 0 1 0 0 0 0 0 0 0 0 0 0 0 0 1\n",
      " 0 1 0 0 0 0 1 1 0 0 0 0 0 1 0 0 1 0 0 1 0 0 1 0 1 0 1 0 0 1 1 1 0 0 1 0 0\n",
      " 1 0 1 0 0 0 1 0 1]\n",
      "[1. 1. 1. 0. 1. 1. 1. 0. 0. 1. 1. 0. 1. 0. 1. 1. 1. 1. 0. 1. 0. 0. 1. 1.\n",
      " 0. 0. 1. 1. 1. 1. 0. 1. 0. 0. 1. 0. 0. 0. 0. 0. 0. 0. 1. 0. 0. 0. 1. 1.\n",
      " 0. 1. 1. 0. 1. 0. 1. 1. 0. 0. 1. 0. 1. 0. 0. 1. 1. 0. 0. 1. 0. 1. 0. 0.\n",
      " 1. 1. 0. 1. 0. 0. 0. 1. 1. 1. 0. 0. 0. 0. 0. 0. 0. 0. 1. 0. 0. 1. 0. 0.\n",
      " 1. 0. 1. 0. 1. 0. 0. 1. 1. 1. 0. 0. 1. 0. 0. 1. 0. 1. 1. 0. 0. 1. 1. 1.]\n"
     ]
    }
   ],
   "source": [
    "y_pred = model.predict(X_test)\n",
    "#y_pred = (y_pred > 0.5)\n",
    "y_pred=np.argmax(y_pred,axis=1)\n",
    "print(y_pred)\n",
    "print(y_test)"
   ]
  },
  {
   "cell_type": "code",
   "execution_count": 34,
   "metadata": {},
   "outputs": [
    {
     "name": "stdout",
     "output_type": "stream",
     "text": [
      "120\n",
      "120\n",
      "accuracy: 0.8166666666666667\n"
     ]
    }
   ],
   "source": [
    "def acc(y_true, y_pred):\n",
    "    return np.equal(y_true,y_pred).mean()\n",
    "print (len(y_test))\n",
    "print (len(y_pred))\n",
    "print(\"accuracy: \" + str(acc(y_test, y_pred)))"
   ]
  },
  {
   "cell_type": "code",
   "execution_count": 85,
   "metadata": {},
   "outputs": [
    {
     "name": "stdout",
     "output_type": "stream",
     "text": [
      "accuracy: 0.6666666666666666\n"
     ]
    }
   ],
   "source": [
    "#exemple\n",
    "a = [1, 0, 1]\n",
    "b = [1, 1, 1]\n",
    "print(\"accuracy: \" + str(acc(a,b)))\n"
   ]
  },
  {
   "cell_type": "code",
   "execution_count": null,
   "metadata": {},
   "outputs": [],
   "source": []
  }
 ],
 "metadata": {
  "kernelspec": {
   "display_name": "Python 3",
   "language": "python",
   "name": "python3"
  },
  "language_info": {
   "codemirror_mode": {
    "name": "ipython",
    "version": 3
   },
   "file_extension": ".py",
   "mimetype": "text/x-python",
   "name": "python",
   "nbconvert_exporter": "python",
   "pygments_lexer": "ipython3",
   "version": "3.5.4"
  }
 },
 "nbformat": 4,
 "nbformat_minor": 2
}
