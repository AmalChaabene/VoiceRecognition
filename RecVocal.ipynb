{
 "cells": [
  {
   "cell_type": "code",
   "execution_count": 1,
   "metadata": {},
   "outputs": [
    {
     "name": "stderr",
     "output_type": "stream",
     "text": [
      "Using TensorFlow backend.\n",
      "Saving vectors of label - 'amal':   0%|                | 0/200 [00:00<?, ?it/s]"
     ]
    },
    {
     "name": "stdout",
     "output_type": "stream",
     "text": [
      "./data/amal/amal1.wav\n"
     ]
    },
    {
     "name": "stderr",
     "output_type": "stream",
     "text": [
      "\r",
      "Saving vectors of label - 'amal':   0%|        | 1/200 [00:01<05:17,  1.60s/it]"
     ]
    },
    {
     "name": "stdout",
     "output_type": "stream",
     "text": [
      "./data/amal/amal10.wav\n"
     ]
    },
    {
     "name": "stderr",
     "output_type": "stream",
     "text": [
      "\r",
      "Saving vectors of label - 'amal':   1%|        | 2/200 [00:01<02:52,  1.15it/s]"
     ]
    },
    {
     "name": "stdout",
     "output_type": "stream",
     "text": [
      "./data/amal/amal100.wav\n"
     ]
    },
    {
     "name": "stderr",
     "output_type": "stream",
     "text": [
      "\r",
      "Saving vectors of label - 'amal':   2%|        | 3/200 [00:01<02:07,  1.54it/s]"
     ]
    },
    {
     "name": "stdout",
     "output_type": "stream",
     "text": [
      "./data/amal/amal101.wav\n"
     ]
    },
    {
     "name": "stderr",
     "output_type": "stream",
     "text": [
      "\r",
      "Saving vectors of label - 'amal':   2%|▏       | 4/200 [00:02<01:45,  1.85it/s]"
     ]
    },
    {
     "name": "stdout",
     "output_type": "stream",
     "text": [
      "./data/amal/amal102.wav\n"
     ]
    },
    {
     "name": "stderr",
     "output_type": "stream",
     "text": [
      "\r",
      "Saving vectors of label - 'amal':   2%|▏       | 5/200 [00:02<01:31,  2.13it/s]"
     ]
    },
    {
     "name": "stdout",
     "output_type": "stream",
     "text": [
      "./data/amal/amal103.wav\n"
     ]
    },
    {
     "name": "stderr",
     "output_type": "stream",
     "text": [
      "\r",
      "Saving vectors of label - 'amal':   3%|▏       | 6/200 [00:02<01:22,  2.34it/s]"
     ]
    },
    {
     "name": "stdout",
     "output_type": "stream",
     "text": [
      "./data/amal/amal104.wav\n"
     ]
    },
    {
     "name": "stderr",
     "output_type": "stream",
     "text": [
      "\r",
      "Saving vectors of label - 'amal':   4%|▎       | 7/200 [00:02<01:14,  2.59it/s]"
     ]
    },
    {
     "name": "stdout",
     "output_type": "stream",
     "text": [
      "./data/amal/amal105.wav\n"
     ]
    },
    {
     "name": "stderr",
     "output_type": "stream",
     "text": [
      "\r",
      "Saving vectors of label - 'amal':   4%|▎       | 8/200 [00:02<01:07,  2.84it/s]"
     ]
    },
    {
     "name": "stdout",
     "output_type": "stream",
     "text": [
      "./data/amal/amal106.wav\n"
     ]
    },
    {
     "name": "stderr",
     "output_type": "stream",
     "text": [
      "\r",
      "Saving vectors of label - 'amal':   4%|▎       | 9/200 [00:02<01:02,  3.04it/s]"
     ]
    },
    {
     "name": "stdout",
     "output_type": "stream",
     "text": [
      "./data/amal/amal107.wav\n"
     ]
    },
    {
     "name": "stderr",
     "output_type": "stream",
     "text": [
      "\r",
      "Saving vectors of label - 'amal':   5%|▎      | 10/200 [00:03<00:59,  3.19it/s]"
     ]
    },
    {
     "name": "stdout",
     "output_type": "stream",
     "text": [
      "./data/amal/amal108.wav\n"
     ]
    },
    {
     "name": "stderr",
     "output_type": "stream",
     "text": [
      "\r",
      "Saving vectors of label - 'amal':   6%|▍      | 11/200 [00:03<00:57,  3.31it/s]"
     ]
    },
    {
     "name": "stdout",
     "output_type": "stream",
     "text": [
      "./data/amal/amal109.wav\n"
     ]
    },
    {
     "name": "stderr",
     "output_type": "stream",
     "text": [
      "\r",
      "Saving vectors of label - 'amal':   6%|▍      | 12/200 [00:03<00:54,  3.46it/s]"
     ]
    },
    {
     "name": "stdout",
     "output_type": "stream",
     "text": [
      "./data/amal/amal11.wav\n"
     ]
    },
    {
     "name": "stderr",
     "output_type": "stream",
     "text": [
      "\r",
      "Saving vectors of label - 'amal':   6%|▍      | 13/200 [00:03<00:51,  3.62it/s]"
     ]
    },
    {
     "name": "stdout",
     "output_type": "stream",
     "text": [
      "./data/amal/amal110.wav\n"
     ]
    },
    {
     "name": "stderr",
     "output_type": "stream",
     "text": [
      "\r",
      "Saving vectors of label - 'amal':   7%|▍      | 14/200 [00:03<00:50,  3.67it/s]"
     ]
    },
    {
     "name": "stdout",
     "output_type": "stream",
     "text": [
      "./data/amal/amal111.wav\n"
     ]
    },
    {
     "name": "stderr",
     "output_type": "stream",
     "text": [
      "\r",
      "Saving vectors of label - 'amal':   8%|▌      | 15/200 [00:03<00:48,  3.80it/s]"
     ]
    },
    {
     "name": "stdout",
     "output_type": "stream",
     "text": [
      "./data/amal/amal112.wav\n"
     ]
    },
    {
     "name": "stderr",
     "output_type": "stream",
     "text": [
      "\r",
      "Saving vectors of label - 'amal':   8%|▌      | 16/200 [00:04<00:47,  3.91it/s]"
     ]
    },
    {
     "name": "stdout",
     "output_type": "stream",
     "text": [
      "./data/amal/amal113.wav\n"
     ]
    },
    {
     "name": "stderr",
     "output_type": "stream",
     "text": [
      "\r",
      "Saving vectors of label - 'amal':   8%|▌      | 17/200 [00:04<00:45,  4.00it/s]"
     ]
    },
    {
     "name": "stdout",
     "output_type": "stream",
     "text": [
      "./data/amal/amal114.wav\n"
     ]
    },
    {
     "name": "stderr",
     "output_type": "stream",
     "text": [
      "\r",
      "Saving vectors of label - 'amal':   9%|▋      | 18/200 [00:04<00:44,  4.09it/s]"
     ]
    },
    {
     "name": "stdout",
     "output_type": "stream",
     "text": [
      "./data/amal/amal115.wav\n"
     ]
    },
    {
     "name": "stderr",
     "output_type": "stream",
     "text": [
      "\r",
      "Saving vectors of label - 'amal':  10%|▋      | 19/200 [00:04<00:43,  4.13it/s]"
     ]
    },
    {
     "name": "stdout",
     "output_type": "stream",
     "text": [
      "./data/amal/amal116.wav\n"
     ]
    },
    {
     "name": "stderr",
     "output_type": "stream",
     "text": [
      "\r",
      "Saving vectors of label - 'amal':  10%|▋      | 20/200 [00:04<00:42,  4.21it/s]"
     ]
    },
    {
     "name": "stdout",
     "output_type": "stream",
     "text": [
      "./data/amal/amal117.wav\n"
     ]
    },
    {
     "name": "stderr",
     "output_type": "stream",
     "text": [
      "\r",
      "Saving vectors of label - 'amal':  10%|▋      | 21/200 [00:04<00:41,  4.26it/s]"
     ]
    },
    {
     "name": "stdout",
     "output_type": "stream",
     "text": [
      "./data/amal/amal118.wav\n"
     ]
    },
    {
     "name": "stderr",
     "output_type": "stream",
     "text": [
      "\r",
      "Saving vectors of label - 'amal':  11%|▊      | 22/200 [00:05<00:40,  4.35it/s]"
     ]
    },
    {
     "name": "stdout",
     "output_type": "stream",
     "text": [
      "./data/amal/amal119.wav\n"
     ]
    },
    {
     "name": "stderr",
     "output_type": "stream",
     "text": [
      "\r",
      "Saving vectors of label - 'amal':  12%|▊      | 23/200 [00:05<00:39,  4.43it/s]"
     ]
    },
    {
     "name": "stdout",
     "output_type": "stream",
     "text": [
      "./data/amal/amal12.wav\n"
     ]
    },
    {
     "name": "stderr",
     "output_type": "stream",
     "text": [
      "\r",
      "Saving vectors of label - 'amal':  12%|▊      | 24/200 [00:05<00:39,  4.49it/s]"
     ]
    },
    {
     "name": "stdout",
     "output_type": "stream",
     "text": [
      "./data/amal/amal120.wav\n"
     ]
    },
    {
     "name": "stderr",
     "output_type": "stream",
     "text": [
      "\r",
      "Saving vectors of label - 'amal':  12%|▉      | 25/200 [00:05<00:38,  4.50it/s]"
     ]
    },
    {
     "name": "stdout",
     "output_type": "stream",
     "text": [
      "./data/amal/amal121.wav\n"
     ]
    },
    {
     "name": "stderr",
     "output_type": "stream",
     "text": [
      "\r",
      "Saving vectors of label - 'amal':  13%|▉      | 26/200 [00:05<00:38,  4.56it/s]"
     ]
    },
    {
     "name": "stdout",
     "output_type": "stream",
     "text": [
      "./data/amal/amal122.wav\n"
     ]
    },
    {
     "name": "stderr",
     "output_type": "stream",
     "text": [
      "\r",
      "Saving vectors of label - 'amal':  14%|▉      | 27/200 [00:05<00:38,  4.55it/s]"
     ]
    },
    {
     "name": "stdout",
     "output_type": "stream",
     "text": [
      "./data/amal/amal123.wav\n"
     ]
    },
    {
     "name": "stderr",
     "output_type": "stream",
     "text": [
      "\r",
      "Saving vectors of label - 'amal':  14%|▉      | 28/200 [00:06<00:37,  4.58it/s]"
     ]
    },
    {
     "name": "stdout",
     "output_type": "stream",
     "text": [
      "./data/amal/amal124.wav\n"
     ]
    },
    {
     "name": "stderr",
     "output_type": "stream",
     "text": [
      "\r",
      "Saving vectors of label - 'amal':  14%|█      | 29/200 [00:06<00:37,  4.62it/s]"
     ]
    },
    {
     "name": "stdout",
     "output_type": "stream",
     "text": [
      "./data/amal/amal125.wav\n"
     ]
    },
    {
     "name": "stderr",
     "output_type": "stream",
     "text": [
      "\r",
      "Saving vectors of label - 'amal':  15%|█      | 30/200 [00:06<00:36,  4.69it/s]"
     ]
    },
    {
     "name": "stdout",
     "output_type": "stream",
     "text": [
      "./data/amal/amal126.wav\n"
     ]
    },
    {
     "name": "stderr",
     "output_type": "stream",
     "text": [
      "\r",
      "Saving vectors of label - 'amal':  16%|█      | 31/200 [00:06<00:35,  4.74it/s]"
     ]
    },
    {
     "name": "stdout",
     "output_type": "stream",
     "text": [
      "./data/amal/amal127.wav\n"
     ]
    },
    {
     "name": "stderr",
     "output_type": "stream",
     "text": [
      "\r",
      "Saving vectors of label - 'amal':  16%|█      | 32/200 [00:06<00:35,  4.79it/s]"
     ]
    },
    {
     "name": "stdout",
     "output_type": "stream",
     "text": [
      "./data/amal/amal128.wav\n"
     ]
    },
    {
     "name": "stderr",
     "output_type": "stream",
     "text": [
      "\r",
      "Saving vectors of label - 'amal':  16%|█▏     | 33/200 [00:06<00:34,  4.82it/s]"
     ]
    },
    {
     "name": "stdout",
     "output_type": "stream",
     "text": [
      "./data/amal/amal129.wav\n"
     ]
    },
    {
     "name": "stderr",
     "output_type": "stream",
     "text": [
      "\r",
      "Saving vectors of label - 'amal':  17%|█▏     | 34/200 [00:06<00:34,  4.86it/s]"
     ]
    },
    {
     "name": "stdout",
     "output_type": "stream",
     "text": [
      "./data/amal/amal13.wav\n"
     ]
    },
    {
     "name": "stderr",
     "output_type": "stream",
     "text": [
      "\r",
      "Saving vectors of label - 'amal':  18%|█▏     | 35/200 [00:07<00:33,  4.89it/s]"
     ]
    },
    {
     "name": "stdout",
     "output_type": "stream",
     "text": [
      "./data/amal/amal130.wav\n"
     ]
    },
    {
     "name": "stderr",
     "output_type": "stream",
     "text": [
      "\r",
      "Saving vectors of label - 'amal':  18%|█▎     | 36/200 [00:07<00:33,  4.92it/s]"
     ]
    },
    {
     "name": "stdout",
     "output_type": "stream",
     "text": [
      "./data/amal/amal131.wav\n"
     ]
    },
    {
     "name": "stderr",
     "output_type": "stream",
     "text": [
      "\r",
      "Saving vectors of label - 'amal':  18%|█▎     | 37/200 [00:07<00:32,  4.97it/s]"
     ]
    },
    {
     "name": "stdout",
     "output_type": "stream",
     "text": [
      "./data/amal/amal132.wav\n"
     ]
    },
    {
     "name": "stderr",
     "output_type": "stream",
     "text": [
      "\r",
      "Saving vectors of label - 'amal':  19%|█▎     | 38/200 [00:07<00:32,  4.98it/s]"
     ]
    },
    {
     "name": "stdout",
     "output_type": "stream",
     "text": [
      "./data/amal/amal133.wav\n"
     ]
    },
    {
     "name": "stderr",
     "output_type": "stream",
     "text": [
      "\r",
      "Saving vectors of label - 'amal':  20%|█▎     | 39/200 [00:07<00:32,  5.00it/s]"
     ]
    },
    {
     "name": "stdout",
     "output_type": "stream",
     "text": [
      "./data/amal/amal134.wav\n"
     ]
    },
    {
     "name": "stderr",
     "output_type": "stream",
     "text": [
      "\r",
      "Saving vectors of label - 'amal':  20%|█▍     | 40/200 [00:07<00:31,  5.05it/s]"
     ]
    },
    {
     "name": "stdout",
     "output_type": "stream",
     "text": [
      "./data/amal/amal135.wav\n"
     ]
    },
    {
     "name": "stderr",
     "output_type": "stream",
     "text": [
      "\r",
      "Saving vectors of label - 'amal':  20%|█▍     | 41/200 [00:08<00:31,  5.05it/s]"
     ]
    },
    {
     "name": "stdout",
     "output_type": "stream",
     "text": [
      "./data/amal/amal136.wav\n"
     ]
    },
    {
     "name": "stderr",
     "output_type": "stream",
     "text": [
      "\r",
      "Saving vectors of label - 'amal':  21%|█▍     | 42/200 [00:08<00:31,  5.09it/s]"
     ]
    },
    {
     "name": "stdout",
     "output_type": "stream",
     "text": [
      "./data/amal/amal137.wav\n"
     ]
    },
    {
     "name": "stderr",
     "output_type": "stream",
     "text": [
      "\r",
      "Saving vectors of label - 'amal':  22%|█▌     | 43/200 [00:08<00:30,  5.10it/s]"
     ]
    },
    {
     "name": "stdout",
     "output_type": "stream",
     "text": [
      "./data/amal/amal138.wav\n"
     ]
    },
    {
     "name": "stderr",
     "output_type": "stream",
     "text": [
      "\r",
      "Saving vectors of label - 'amal':  22%|█▌     | 44/200 [00:08<00:30,  5.14it/s]"
     ]
    },
    {
     "name": "stdout",
     "output_type": "stream",
     "text": [
      "./data/amal/amal139.wav\n"
     ]
    },
    {
     "name": "stderr",
     "output_type": "stream",
     "text": [
      "\r",
      "Saving vectors of label - 'amal':  22%|█▌     | 45/200 [00:08<00:29,  5.17it/s]"
     ]
    },
    {
     "name": "stdout",
     "output_type": "stream",
     "text": [
      "./data/amal/amal14.wav\n"
     ]
    },
    {
     "name": "stderr",
     "output_type": "stream",
     "text": [
      "\r",
      "Saving vectors of label - 'amal':  23%|█▌     | 46/200 [00:08<00:29,  5.22it/s]"
     ]
    },
    {
     "name": "stdout",
     "output_type": "stream",
     "text": [
      "./data/amal/amal140.wav\n"
     ]
    },
    {
     "name": "stderr",
     "output_type": "stream",
     "text": [
      "\r",
      "Saving vectors of label - 'amal':  24%|█▋     | 47/200 [00:08<00:29,  5.25it/s]"
     ]
    },
    {
     "name": "stdout",
     "output_type": "stream",
     "text": [
      "./data/amal/amal141.wav\n"
     ]
    },
    {
     "name": "stderr",
     "output_type": "stream",
     "text": [
      "\r",
      "Saving vectors of label - 'amal':  24%|█▋     | 48/200 [00:09<00:28,  5.28it/s]"
     ]
    },
    {
     "name": "stdout",
     "output_type": "stream",
     "text": [
      "./data/amal/amal142.wav\n"
     ]
    },
    {
     "name": "stderr",
     "output_type": "stream",
     "text": [
      "\r",
      "Saving vectors of label - 'amal':  24%|█▋     | 49/200 [00:09<00:28,  5.30it/s]"
     ]
    },
    {
     "name": "stdout",
     "output_type": "stream",
     "text": [
      "./data/amal/amal143.wav\n"
     ]
    },
    {
     "name": "stderr",
     "output_type": "stream",
     "text": [
      "\r",
      "Saving vectors of label - 'amal':  25%|█▊     | 50/200 [00:09<00:28,  5.31it/s]"
     ]
    },
    {
     "name": "stdout",
     "output_type": "stream",
     "text": [
      "./data/amal/amal144.wav\n"
     ]
    },
    {
     "name": "stderr",
     "output_type": "stream",
     "text": [
      "\r",
      "Saving vectors of label - 'amal':  26%|█▊     | 51/200 [00:09<00:28,  5.31it/s]"
     ]
    },
    {
     "name": "stdout",
     "output_type": "stream",
     "text": [
      "./data/amal/amal145.wav\n"
     ]
    },
    {
     "name": "stderr",
     "output_type": "stream",
     "text": [
      "\r",
      "Saving vectors of label - 'amal':  26%|█▊     | 52/200 [00:09<00:27,  5.29it/s]"
     ]
    },
    {
     "name": "stdout",
     "output_type": "stream",
     "text": [
      "./data/amal/amal146.wav\n"
     ]
    },
    {
     "name": "stderr",
     "output_type": "stream",
     "text": [
      "\r",
      "Saving vectors of label - 'amal':  26%|█▊     | 53/200 [00:09<00:27,  5.32it/s]"
     ]
    },
    {
     "name": "stdout",
     "output_type": "stream",
     "text": [
      "./data/amal/amal147.wav\n"
     ]
    },
    {
     "name": "stderr",
     "output_type": "stream",
     "text": [
      "\r",
      "Saving vectors of label - 'amal':  27%|█▉     | 54/200 [00:10<00:27,  5.33it/s]"
     ]
    },
    {
     "name": "stdout",
     "output_type": "stream",
     "text": [
      "./data/amal/amal148.wav\n"
     ]
    },
    {
     "name": "stderr",
     "output_type": "stream",
     "text": [
      "\r",
      "Saving vectors of label - 'amal':  28%|█▉     | 55/200 [00:10<00:27,  5.35it/s]"
     ]
    },
    {
     "name": "stdout",
     "output_type": "stream",
     "text": [
      "./data/amal/amal149.wav\n"
     ]
    },
    {
     "name": "stderr",
     "output_type": "stream",
     "text": [
      "\r",
      "Saving vectors of label - 'amal':  28%|█▉     | 56/200 [00:10<00:26,  5.36it/s]"
     ]
    },
    {
     "name": "stdout",
     "output_type": "stream",
     "text": [
      "./data/amal/amal15.wav\n"
     ]
    },
    {
     "name": "stderr",
     "output_type": "stream",
     "text": [
      "\r",
      "Saving vectors of label - 'amal':  28%|█▉     | 57/200 [00:10<00:26,  5.34it/s]"
     ]
    },
    {
     "name": "stdout",
     "output_type": "stream",
     "text": [
      "./data/amal/amal150.wav\n"
     ]
    },
    {
     "name": "stderr",
     "output_type": "stream",
     "text": [
      "\r",
      "Saving vectors of label - 'amal':  29%|██     | 58/200 [00:10<00:26,  5.34it/s]"
     ]
    },
    {
     "name": "stdout",
     "output_type": "stream",
     "text": [
      "./data/amal/amal151.wav\n"
     ]
    },
    {
     "name": "stderr",
     "output_type": "stream",
     "text": [
      "\r",
      "Saving vectors of label - 'amal':  30%|██     | 59/200 [00:11<00:26,  5.29it/s]"
     ]
    },
    {
     "name": "stdout",
     "output_type": "stream",
     "text": [
      "./data/amal/amal152.wav\n"
     ]
    },
    {
     "name": "stderr",
     "output_type": "stream",
     "text": [
      "\r",
      "Saving vectors of label - 'amal':  30%|██     | 60/200 [00:11<00:26,  5.30it/s]"
     ]
    },
    {
     "name": "stdout",
     "output_type": "stream",
     "text": [
      "./data/amal/amal153.wav\n"
     ]
    },
    {
     "name": "stderr",
     "output_type": "stream",
     "text": [
      "\r",
      "Saving vectors of label - 'amal':  30%|██▏    | 61/200 [00:11<00:26,  5.31it/s]"
     ]
    },
    {
     "name": "stdout",
     "output_type": "stream",
     "text": [
      "./data/amal/amal154.wav\n"
     ]
    },
    {
     "name": "stderr",
     "output_type": "stream",
     "text": [
      "\r",
      "Saving vectors of label - 'amal':  31%|██▏    | 62/200 [00:11<00:25,  5.33it/s]"
     ]
    },
    {
     "name": "stdout",
     "output_type": "stream",
     "text": [
      "./data/amal/amal155.wav\n"
     ]
    },
    {
     "name": "stderr",
     "output_type": "stream",
     "text": [
      "\r",
      "Saving vectors of label - 'amal':  32%|██▏    | 63/200 [00:11<00:25,  5.33it/s]"
     ]
    },
    {
     "name": "stdout",
     "output_type": "stream",
     "text": [
      "./data/amal/amal156.wav\n"
     ]
    },
    {
     "name": "stderr",
     "output_type": "stream",
     "text": [
      "\r",
      "Saving vectors of label - 'amal':  32%|██▏    | 64/200 [00:12<00:25,  5.29it/s]"
     ]
    },
    {
     "name": "stdout",
     "output_type": "stream",
     "text": [
      "./data/amal/amal157.wav\n"
     ]
    },
    {
     "name": "stderr",
     "output_type": "stream",
     "text": [
      "\r",
      "Saving vectors of label - 'amal':  32%|██▎    | 65/200 [00:12<00:25,  5.27it/s]"
     ]
    },
    {
     "name": "stdout",
     "output_type": "stream",
     "text": [
      "./data/amal/amal158.wav\n"
     ]
    },
    {
     "name": "stderr",
     "output_type": "stream",
     "text": [
      "\r",
      "Saving vectors of label - 'amal':  33%|██▎    | 66/200 [00:12<00:25,  5.22it/s]"
     ]
    },
    {
     "name": "stdout",
     "output_type": "stream",
     "text": [
      "./data/amal/amal159.wav\n"
     ]
    },
    {
     "name": "stderr",
     "output_type": "stream",
     "text": [
      "\r",
      "Saving vectors of label - 'amal':  34%|██▎    | 67/200 [00:12<00:25,  5.23it/s]"
     ]
    },
    {
     "name": "stdout",
     "output_type": "stream",
     "text": [
      "./data/amal/amal16.wav\n"
     ]
    },
    {
     "name": "stderr",
     "output_type": "stream",
     "text": [
      "\r",
      "Saving vectors of label - 'amal':  34%|██▍    | 68/200 [00:12<00:25,  5.25it/s]"
     ]
    },
    {
     "name": "stdout",
     "output_type": "stream",
     "text": [
      "./data/amal/amal160.wav\n"
     ]
    },
    {
     "name": "stderr",
     "output_type": "stream",
     "text": [
      "\r",
      "Saving vectors of label - 'amal':  34%|██▍    | 69/200 [00:13<00:25,  5.23it/s]"
     ]
    },
    {
     "name": "stdout",
     "output_type": "stream",
     "text": [
      "./data/amal/amal161.wav\n"
     ]
    },
    {
     "name": "stderr",
     "output_type": "stream",
     "text": [
      "\r",
      "Saving vectors of label - 'amal':  35%|██▍    | 70/200 [00:13<00:24,  5.23it/s]"
     ]
    },
    {
     "name": "stdout",
     "output_type": "stream",
     "text": [
      "./data/amal/amal162.wav\n"
     ]
    },
    {
     "name": "stderr",
     "output_type": "stream",
     "text": [
      "\r",
      "Saving vectors of label - 'amal':  36%|██▍    | 71/200 [00:13<00:24,  5.17it/s]"
     ]
    },
    {
     "name": "stdout",
     "output_type": "stream",
     "text": [
      "./data/amal/amal163.wav\n"
     ]
    },
    {
     "name": "stderr",
     "output_type": "stream",
     "text": [
      "\r",
      "Saving vectors of label - 'amal':  36%|██▌    | 72/200 [00:13<00:24,  5.19it/s]"
     ]
    },
    {
     "name": "stdout",
     "output_type": "stream",
     "text": [
      "./data/amal/amal164.wav\n"
     ]
    },
    {
     "name": "stderr",
     "output_type": "stream",
     "text": [
      "\r",
      "Saving vectors of label - 'amal':  36%|██▌    | 73/200 [00:14<00:24,  5.19it/s]"
     ]
    },
    {
     "name": "stdout",
     "output_type": "stream",
     "text": [
      "./data/amal/amal165.wav\n"
     ]
    },
    {
     "name": "stderr",
     "output_type": "stream",
     "text": [
      "\r",
      "Saving vectors of label - 'amal':  37%|██▌    | 74/200 [00:14<00:24,  5.20it/s]"
     ]
    },
    {
     "name": "stdout",
     "output_type": "stream",
     "text": [
      "./data/amal/amal166.wav\n"
     ]
    },
    {
     "name": "stderr",
     "output_type": "stream",
     "text": [
      "\r",
      "Saving vectors of label - 'amal':  38%|██▋    | 75/200 [00:14<00:24,  5.15it/s]"
     ]
    },
    {
     "name": "stdout",
     "output_type": "stream",
     "text": [
      "./data/amal/amal167.wav\n"
     ]
    },
    {
     "name": "stderr",
     "output_type": "stream",
     "text": [
      "\r",
      "Saving vectors of label - 'amal':  38%|██▋    | 76/200 [00:14<00:24,  5.13it/s]"
     ]
    },
    {
     "name": "stdout",
     "output_type": "stream",
     "text": [
      "./data/amal/amal168.wav\n"
     ]
    },
    {
     "name": "stderr",
     "output_type": "stream",
     "text": [
      "\r",
      "Saving vectors of label - 'amal':  38%|██▋    | 77/200 [00:15<00:24,  5.11it/s]"
     ]
    },
    {
     "name": "stdout",
     "output_type": "stream",
     "text": [
      "./data/amal/amal169.wav\n"
     ]
    },
    {
     "name": "stderr",
     "output_type": "stream",
     "text": [
      "\r",
      "Saving vectors of label - 'amal':  39%|██▋    | 78/200 [00:15<00:23,  5.10it/s]"
     ]
    },
    {
     "name": "stdout",
     "output_type": "stream",
     "text": [
      "./data/amal/amal17.wav\n"
     ]
    },
    {
     "name": "stderr",
     "output_type": "stream",
     "text": [
      "\r",
      "Saving vectors of label - 'amal':  40%|██▊    | 79/200 [00:15<00:23,  5.10it/s]"
     ]
    },
    {
     "name": "stdout",
     "output_type": "stream",
     "text": [
      "./data/amal/amal170.wav\n"
     ]
    },
    {
     "name": "stderr",
     "output_type": "stream",
     "text": [
      "\r",
      "Saving vectors of label - 'amal':  40%|██▊    | 80/200 [00:15<00:23,  5.09it/s]"
     ]
    },
    {
     "name": "stdout",
     "output_type": "stream",
     "text": [
      "./data/amal/amal171.wav\n"
     ]
    },
    {
     "name": "stderr",
     "output_type": "stream",
     "text": [
      "\r",
      "Saving vectors of label - 'amal':  40%|██▊    | 81/200 [00:16<00:23,  5.05it/s]"
     ]
    },
    {
     "name": "stdout",
     "output_type": "stream",
     "text": [
      "./data/amal/amal172.wav\n"
     ]
    },
    {
     "name": "stderr",
     "output_type": "stream",
     "text": [
      "\r",
      "Saving vectors of label - 'amal':  41%|██▊    | 82/200 [00:16<00:23,  5.01it/s]"
     ]
    },
    {
     "name": "stdout",
     "output_type": "stream",
     "text": [
      "./data/amal/amal173.wav\n"
     ]
    },
    {
     "name": "stderr",
     "output_type": "stream",
     "text": [
      "\r",
      "Saving vectors of label - 'amal':  42%|██▉    | 83/200 [00:16<00:23,  4.99it/s]"
     ]
    },
    {
     "name": "stdout",
     "output_type": "stream",
     "text": [
      "./data/amal/amal174.wav\n"
     ]
    },
    {
     "name": "stderr",
     "output_type": "stream",
     "text": [
      "\r",
      "Saving vectors of label - 'amal':  42%|██▉    | 84/200 [00:16<00:23,  4.97it/s]"
     ]
    },
    {
     "name": "stdout",
     "output_type": "stream",
     "text": [
      "./data/amal/amal175.wav\n"
     ]
    },
    {
     "name": "stderr",
     "output_type": "stream",
     "text": [
      "\r",
      "Saving vectors of label - 'amal':  42%|██▉    | 85/200 [00:17<00:23,  4.96it/s]"
     ]
    },
    {
     "name": "stdout",
     "output_type": "stream",
     "text": [
      "./data/amal/amal176.wav\n"
     ]
    },
    {
     "name": "stderr",
     "output_type": "stream",
     "text": [
      "\r",
      "Saving vectors of label - 'amal':  43%|███    | 86/200 [00:17<00:23,  4.95it/s]"
     ]
    },
    {
     "name": "stdout",
     "output_type": "stream",
     "text": [
      "./data/amal/amal177.wav\n"
     ]
    },
    {
     "name": "stderr",
     "output_type": "stream",
     "text": [
      "\r",
      "Saving vectors of label - 'amal':  44%|███    | 87/200 [00:17<00:22,  4.92it/s]"
     ]
    },
    {
     "name": "stdout",
     "output_type": "stream",
     "text": [
      "./data/amal/amal178.wav\n"
     ]
    },
    {
     "name": "stderr",
     "output_type": "stream",
     "text": [
      "\r",
      "Saving vectors of label - 'amal':  44%|███    | 88/200 [00:17<00:22,  4.91it/s]"
     ]
    },
    {
     "name": "stdout",
     "output_type": "stream",
     "text": [
      "./data/amal/amal179.wav\n"
     ]
    },
    {
     "name": "stderr",
     "output_type": "stream",
     "text": [
      "\r",
      "Saving vectors of label - 'amal':  44%|███    | 89/200 [00:18<00:22,  4.90it/s]"
     ]
    },
    {
     "name": "stdout",
     "output_type": "stream",
     "text": [
      "./data/amal/amal18.wav\n"
     ]
    },
    {
     "name": "stderr",
     "output_type": "stream",
     "text": [
      "\r",
      "Saving vectors of label - 'amal':  45%|███▏   | 90/200 [00:18<00:22,  4.90it/s]"
     ]
    },
    {
     "name": "stdout",
     "output_type": "stream",
     "text": [
      "./data/amal/amal180.wav\n"
     ]
    },
    {
     "name": "stderr",
     "output_type": "stream",
     "text": [
      "\r",
      "Saving vectors of label - 'amal':  46%|███▏   | 91/200 [00:18<00:22,  4.90it/s]"
     ]
    },
    {
     "name": "stdout",
     "output_type": "stream",
     "text": [
      "./data/amal/amal181.wav\n"
     ]
    },
    {
     "name": "stderr",
     "output_type": "stream",
     "text": [
      "\r",
      "Saving vectors of label - 'amal':  46%|███▏   | 92/200 [00:18<00:22,  4.89it/s]"
     ]
    },
    {
     "name": "stdout",
     "output_type": "stream",
     "text": [
      "./data/amal/amal182.wav\n"
     ]
    },
    {
     "name": "stderr",
     "output_type": "stream",
     "text": [
      "\r",
      "Saving vectors of label - 'amal':  46%|███▎   | 93/200 [00:19<00:21,  4.88it/s]"
     ]
    },
    {
     "name": "stdout",
     "output_type": "stream",
     "text": [
      "./data/amal/amal183.wav\n"
     ]
    },
    {
     "name": "stderr",
     "output_type": "stream",
     "text": [
      "\r",
      "Saving vectors of label - 'amal':  47%|███▎   | 94/200 [00:19<00:21,  4.85it/s]"
     ]
    },
    {
     "name": "stdout",
     "output_type": "stream",
     "text": [
      "./data/amal/amal184.wav\n"
     ]
    },
    {
     "name": "stderr",
     "output_type": "stream",
     "text": [
      "\r",
      "Saving vectors of label - 'amal':  48%|███▎   | 95/200 [00:19<00:21,  4.84it/s]"
     ]
    },
    {
     "name": "stdout",
     "output_type": "stream",
     "text": [
      "./data/amal/amal185.wav\n"
     ]
    },
    {
     "name": "stderr",
     "output_type": "stream",
     "text": [
      "\r",
      "Saving vectors of label - 'amal':  48%|███▎   | 96/200 [00:19<00:21,  4.83it/s]"
     ]
    },
    {
     "name": "stdout",
     "output_type": "stream",
     "text": [
      "./data/amal/amal186.wav\n"
     ]
    },
    {
     "name": "stderr",
     "output_type": "stream",
     "text": [
      "\r",
      "Saving vectors of label - 'amal':  48%|███▍   | 97/200 [00:20<00:21,  4.82it/s]"
     ]
    },
    {
     "name": "stdout",
     "output_type": "stream",
     "text": [
      "./data/amal/amal187.wav\n"
     ]
    },
    {
     "name": "stderr",
     "output_type": "stream",
     "text": [
      "\r",
      "Saving vectors of label - 'amal':  49%|███▍   | 98/200 [00:20<00:21,  4.82it/s]"
     ]
    },
    {
     "name": "stdout",
     "output_type": "stream",
     "text": [
      "./data/amal/amal188.wav\n"
     ]
    },
    {
     "name": "stderr",
     "output_type": "stream",
     "text": [
      "\r",
      "Saving vectors of label - 'amal':  50%|███▍   | 99/200 [00:20<00:20,  4.82it/s]"
     ]
    },
    {
     "name": "stdout",
     "output_type": "stream",
     "text": [
      "./data/amal/amal189.wav\n"
     ]
    },
    {
     "name": "stderr",
     "output_type": "stream",
     "text": [
      "\r",
      "Saving vectors of label - 'amal':  50%|███   | 100/200 [00:20<00:20,  4.81it/s]"
     ]
    },
    {
     "name": "stdout",
     "output_type": "stream",
     "text": [
      "./data/amal/amal19.wav\n"
     ]
    },
    {
     "name": "stderr",
     "output_type": "stream",
     "text": [
      "\r",
      "Saving vectors of label - 'amal':  50%|███   | 101/200 [00:20<00:20,  4.82it/s]"
     ]
    },
    {
     "name": "stdout",
     "output_type": "stream",
     "text": [
      "./data/amal/amal190.wav\n"
     ]
    },
    {
     "name": "stderr",
     "output_type": "stream",
     "text": [
      "\r",
      "Saving vectors of label - 'amal':  51%|███   | 102/200 [00:21<00:20,  4.81it/s]"
     ]
    },
    {
     "name": "stdout",
     "output_type": "stream",
     "text": [
      "./data/amal/amal191.wav\n"
     ]
    },
    {
     "name": "stderr",
     "output_type": "stream",
     "text": [
      "\r",
      "Saving vectors of label - 'amal':  52%|███   | 103/200 [00:21<00:20,  4.80it/s]"
     ]
    },
    {
     "name": "stdout",
     "output_type": "stream",
     "text": [
      "./data/amal/amal192.wav\n"
     ]
    },
    {
     "name": "stderr",
     "output_type": "stream",
     "text": [
      "\r",
      "Saving vectors of label - 'amal':  52%|███   | 104/200 [00:21<00:19,  4.80it/s]"
     ]
    },
    {
     "name": "stdout",
     "output_type": "stream",
     "text": [
      "./data/amal/amal193.wav\n"
     ]
    },
    {
     "name": "stderr",
     "output_type": "stream",
     "text": [
      "\r",
      "Saving vectors of label - 'amal':  52%|███▏  | 105/200 [00:21<00:19,  4.77it/s]"
     ]
    },
    {
     "name": "stdout",
     "output_type": "stream",
     "text": [
      "./data/amal/amal194.wav\n"
     ]
    },
    {
     "name": "stderr",
     "output_type": "stream",
     "text": [
      "\r",
      "Saving vectors of label - 'amal':  53%|███▏  | 106/200 [00:22<00:19,  4.75it/s]"
     ]
    },
    {
     "name": "stdout",
     "output_type": "stream",
     "text": [
      "./data/amal/amal195.wav\n"
     ]
    },
    {
     "name": "stderr",
     "output_type": "stream",
     "text": [
      "\r",
      "Saving vectors of label - 'amal':  54%|███▏  | 107/200 [00:22<00:19,  4.73it/s]"
     ]
    },
    {
     "name": "stdout",
     "output_type": "stream",
     "text": [
      "./data/amal/amal196.wav\n"
     ]
    },
    {
     "name": "stderr",
     "output_type": "stream",
     "text": [
      "\r",
      "Saving vectors of label - 'amal':  54%|███▏  | 108/200 [00:22<00:19,  4.70it/s]"
     ]
    },
    {
     "name": "stdout",
     "output_type": "stream",
     "text": [
      "./data/amal/amal197.wav\n"
     ]
    },
    {
     "name": "stderr",
     "output_type": "stream",
     "text": [
      "\r",
      "Saving vectors of label - 'amal':  55%|███▎  | 109/200 [00:23<00:19,  4.64it/s]"
     ]
    },
    {
     "name": "stdout",
     "output_type": "stream",
     "text": [
      "./data/amal/amal198.wav\n"
     ]
    },
    {
     "name": "stderr",
     "output_type": "stream",
     "text": [
      "\r",
      "Saving vectors of label - 'amal':  55%|███▎  | 110/200 [00:24<00:19,  4.57it/s]"
     ]
    },
    {
     "name": "stdout",
     "output_type": "stream",
     "text": [
      "./data/amal/amal199.wav\n"
     ]
    },
    {
     "name": "stderr",
     "output_type": "stream",
     "text": [
      "\r",
      "Saving vectors of label - 'amal':  56%|███▎  | 111/200 [00:24<00:19,  4.55it/s]"
     ]
    },
    {
     "name": "stdout",
     "output_type": "stream",
     "text": [
      "./data/amal/amal2.wav\n"
     ]
    },
    {
     "name": "stderr",
     "output_type": "stream",
     "text": [
      "\r",
      "Saving vectors of label - 'amal':  56%|███▎  | 112/200 [00:24<00:19,  4.57it/s]"
     ]
    },
    {
     "name": "stdout",
     "output_type": "stream",
     "text": [
      "./data/amal/amal20.wav\n"
     ]
    },
    {
     "name": "stderr",
     "output_type": "stream",
     "text": [
      "\r",
      "Saving vectors of label - 'amal':  56%|███▍  | 113/200 [00:24<00:18,  4.59it/s]"
     ]
    },
    {
     "name": "stdout",
     "output_type": "stream",
     "text": [
      "./data/amal/amal200.wav\n"
     ]
    },
    {
     "name": "stderr",
     "output_type": "stream",
     "text": [
      "\r",
      "Saving vectors of label - 'amal':  57%|███▍  | 114/200 [00:24<00:18,  4.58it/s]"
     ]
    },
    {
     "name": "stdout",
     "output_type": "stream",
     "text": [
      "./data/amal/amal21.wav\n"
     ]
    },
    {
     "name": "stderr",
     "output_type": "stream",
     "text": [
      "\r",
      "Saving vectors of label - 'amal':  57%|███▍  | 115/200 [00:25<00:18,  4.58it/s]"
     ]
    },
    {
     "name": "stdout",
     "output_type": "stream",
     "text": [
      "./data/amal/amal22.wav\n"
     ]
    },
    {
     "name": "stderr",
     "output_type": "stream",
     "text": [
      "\r",
      "Saving vectors of label - 'amal':  58%|███▍  | 116/200 [00:25<00:18,  4.54it/s]"
     ]
    },
    {
     "name": "stdout",
     "output_type": "stream",
     "text": [
      "./data/amal/amal23.wav\n"
     ]
    },
    {
     "name": "stderr",
     "output_type": "stream",
     "text": [
      "\r",
      "Saving vectors of label - 'amal':  58%|███▌  | 117/200 [00:25<00:18,  4.55it/s]"
     ]
    },
    {
     "name": "stdout",
     "output_type": "stream",
     "text": [
      "./data/amal/amal24.wav\n"
     ]
    },
    {
     "name": "stderr",
     "output_type": "stream",
     "text": [
      "\r",
      "Saving vectors of label - 'amal':  59%|███▌  | 118/200 [00:26<00:18,  4.54it/s]"
     ]
    },
    {
     "name": "stdout",
     "output_type": "stream",
     "text": [
      "./data/amal/amal25.wav\n"
     ]
    },
    {
     "name": "stderr",
     "output_type": "stream",
     "text": [
      "\r",
      "Saving vectors of label - 'amal':  60%|███▌  | 119/200 [00:26<00:17,  4.52it/s]"
     ]
    },
    {
     "name": "stdout",
     "output_type": "stream",
     "text": [
      "./data/amal/amal26.wav\n"
     ]
    },
    {
     "name": "stderr",
     "output_type": "stream",
     "text": [
      "\r",
      "Saving vectors of label - 'amal':  60%|███▌  | 120/200 [00:26<00:17,  4.50it/s]"
     ]
    },
    {
     "name": "stdout",
     "output_type": "stream",
     "text": [
      "./data/amal/amal27.wav\n"
     ]
    },
    {
     "name": "stderr",
     "output_type": "stream",
     "text": [
      "\r",
      "Saving vectors of label - 'amal':  60%|███▋  | 121/200 [00:26<00:17,  4.50it/s]"
     ]
    },
    {
     "name": "stdout",
     "output_type": "stream",
     "text": [
      "./data/amal/amal28.wav\n"
     ]
    },
    {
     "name": "stderr",
     "output_type": "stream",
     "text": [
      "\r",
      "Saving vectors of label - 'amal':  61%|███▋  | 122/200 [00:27<00:17,  4.47it/s]"
     ]
    },
    {
     "name": "stdout",
     "output_type": "stream",
     "text": [
      "./data/amal/amal29.wav\n"
     ]
    },
    {
     "name": "stderr",
     "output_type": "stream",
     "text": [
      "\r",
      "Saving vectors of label - 'amal':  62%|███▋  | 123/200 [00:27<00:17,  4.43it/s]"
     ]
    },
    {
     "name": "stdout",
     "output_type": "stream",
     "text": [
      "./data/amal/amal3.wav\n"
     ]
    },
    {
     "name": "stderr",
     "output_type": "stream",
     "text": [
      "\r",
      "Saving vectors of label - 'amal':  62%|███▋  | 124/200 [00:28<00:17,  4.42it/s]"
     ]
    },
    {
     "name": "stdout",
     "output_type": "stream",
     "text": [
      "./data/amal/amal30.wav\n"
     ]
    },
    {
     "name": "stderr",
     "output_type": "stream",
     "text": [
      "\r",
      "Saving vectors of label - 'amal':  62%|███▊  | 125/200 [00:28<00:17,  4.40it/s]"
     ]
    },
    {
     "name": "stdout",
     "output_type": "stream",
     "text": [
      "./data/amal/amal31.wav\n"
     ]
    },
    {
     "name": "stderr",
     "output_type": "stream",
     "text": [
      "\r",
      "Saving vectors of label - 'amal':  63%|███▊  | 126/200 [00:28<00:16,  4.42it/s]"
     ]
    },
    {
     "name": "stdout",
     "output_type": "stream",
     "text": [
      "./data/amal/amal32.wav\n"
     ]
    },
    {
     "name": "stderr",
     "output_type": "stream",
     "text": [
      "\r",
      "Saving vectors of label - 'amal':  64%|███▊  | 127/200 [00:28<00:16,  4.44it/s]"
     ]
    },
    {
     "name": "stdout",
     "output_type": "stream",
     "text": [
      "./data/amal/amal33.wav\n"
     ]
    },
    {
     "name": "stderr",
     "output_type": "stream",
     "text": [
      "\r",
      "Saving vectors of label - 'amal':  64%|███▊  | 128/200 [00:28<00:16,  4.45it/s]"
     ]
    },
    {
     "name": "stdout",
     "output_type": "stream",
     "text": [
      "./data/amal/amal34.wav\n"
     ]
    },
    {
     "name": "stderr",
     "output_type": "stream",
     "text": [
      "\r",
      "Saving vectors of label - 'amal':  64%|███▊  | 129/200 [00:28<00:15,  4.47it/s]"
     ]
    },
    {
     "name": "stdout",
     "output_type": "stream",
     "text": [
      "./data/amal/amal35.wav\n"
     ]
    },
    {
     "name": "stderr",
     "output_type": "stream",
     "text": [
      "\r",
      "Saving vectors of label - 'amal':  65%|███▉  | 130/200 [00:28<00:15,  4.48it/s]"
     ]
    },
    {
     "name": "stdout",
     "output_type": "stream",
     "text": [
      "./data/amal/amal36.wav\n"
     ]
    },
    {
     "name": "stderr",
     "output_type": "stream",
     "text": [
      "\r",
      "Saving vectors of label - 'amal':  66%|███▉  | 131/200 [00:29<00:15,  4.48it/s]"
     ]
    },
    {
     "name": "stdout",
     "output_type": "stream",
     "text": [
      "./data/amal/amal37.wav\n"
     ]
    },
    {
     "name": "stderr",
     "output_type": "stream",
     "text": [
      "\r",
      "Saving vectors of label - 'amal':  66%|███▉  | 132/200 [00:29<00:15,  4.47it/s]"
     ]
    },
    {
     "name": "stdout",
     "output_type": "stream",
     "text": [
      "./data/amal/amal38.wav\n"
     ]
    },
    {
     "name": "stderr",
     "output_type": "stream",
     "text": [
      "\r",
      "Saving vectors of label - 'amal':  66%|███▉  | 133/200 [00:29<00:15,  4.44it/s]"
     ]
    },
    {
     "name": "stdout",
     "output_type": "stream",
     "text": [
      "./data/amal/amal39.wav\n"
     ]
    },
    {
     "name": "stderr",
     "output_type": "stream",
     "text": [
      "\r",
      "Saving vectors of label - 'amal':  67%|████  | 134/200 [00:30<00:14,  4.45it/s]"
     ]
    },
    {
     "name": "stdout",
     "output_type": "stream",
     "text": [
      "./data/amal/amal4.wav\n"
     ]
    },
    {
     "name": "stderr",
     "output_type": "stream",
     "text": [
      "\r",
      "Saving vectors of label - 'amal':  68%|████  | 135/200 [00:30<00:14,  4.44it/s]"
     ]
    },
    {
     "name": "stdout",
     "output_type": "stream",
     "text": [
      "./data/amal/amal40.wav\n"
     ]
    },
    {
     "name": "stderr",
     "output_type": "stream",
     "text": [
      "\r",
      "Saving vectors of label - 'amal':  68%|████  | 136/200 [00:30<00:14,  4.43it/s]"
     ]
    },
    {
     "name": "stdout",
     "output_type": "stream",
     "text": [
      "./data/amal/amal41.wav\n"
     ]
    },
    {
     "name": "stderr",
     "output_type": "stream",
     "text": [
      "\r",
      "Saving vectors of label - 'amal':  68%|████  | 137/200 [00:30<00:14,  4.44it/s]"
     ]
    },
    {
     "name": "stdout",
     "output_type": "stream",
     "text": [
      "./data/amal/amal42.wav\n"
     ]
    },
    {
     "name": "stderr",
     "output_type": "stream",
     "text": [
      "\r",
      "Saving vectors of label - 'amal':  69%|████▏ | 138/200 [00:31<00:14,  4.43it/s]"
     ]
    },
    {
     "name": "stdout",
     "output_type": "stream",
     "text": [
      "./data/amal/amal43.wav\n"
     ]
    },
    {
     "name": "stderr",
     "output_type": "stream",
     "text": [
      "\r",
      "Saving vectors of label - 'amal':  70%|████▏ | 139/200 [00:31<00:13,  4.39it/s]"
     ]
    },
    {
     "name": "stdout",
     "output_type": "stream",
     "text": [
      "./data/amal/amal44.wav\n"
     ]
    },
    {
     "name": "stderr",
     "output_type": "stream",
     "text": [
      "\r",
      "Saving vectors of label - 'amal':  70%|████▏ | 140/200 [00:31<00:13,  4.41it/s]"
     ]
    },
    {
     "name": "stdout",
     "output_type": "stream",
     "text": [
      "./data/amal/amal45.wav\n"
     ]
    },
    {
     "name": "stderr",
     "output_type": "stream",
     "text": [
      "\r",
      "Saving vectors of label - 'amal':  70%|████▏ | 141/200 [00:32<00:13,  4.40it/s]"
     ]
    },
    {
     "name": "stdout",
     "output_type": "stream",
     "text": [
      "./data/amal/amal46.wav\n"
     ]
    },
    {
     "name": "stderr",
     "output_type": "stream",
     "text": [
      "\r",
      "Saving vectors of label - 'amal':  71%|████▎ | 142/200 [00:32<00:13,  4.39it/s]"
     ]
    },
    {
     "name": "stdout",
     "output_type": "stream",
     "text": [
      "./data/amal/amal47.wav\n"
     ]
    },
    {
     "name": "stderr",
     "output_type": "stream",
     "text": [
      "\r",
      "Saving vectors of label - 'amal':  72%|████▎ | 143/200 [00:32<00:12,  4.41it/s]"
     ]
    },
    {
     "name": "stdout",
     "output_type": "stream",
     "text": [
      "./data/amal/amal48.wav\n"
     ]
    },
    {
     "name": "stderr",
     "output_type": "stream",
     "text": [
      "\r",
      "Saving vectors of label - 'amal':  72%|████▎ | 144/200 [00:32<00:12,  4.40it/s]"
     ]
    },
    {
     "name": "stdout",
     "output_type": "stream",
     "text": [
      "./data/amal/amal49.wav\n"
     ]
    },
    {
     "name": "stderr",
     "output_type": "stream",
     "text": [
      "\r",
      "Saving vectors of label - 'amal':  72%|████▎ | 145/200 [00:32<00:12,  4.40it/s]"
     ]
    },
    {
     "name": "stdout",
     "output_type": "stream",
     "text": [
      "./data/amal/amal5.wav\n"
     ]
    },
    {
     "name": "stderr",
     "output_type": "stream",
     "text": [
      "\r",
      "Saving vectors of label - 'amal':  73%|████▍ | 146/200 [00:33<00:12,  4.42it/s]"
     ]
    },
    {
     "name": "stdout",
     "output_type": "stream",
     "text": [
      "./data/amal/amal50.wav\n"
     ]
    },
    {
     "name": "stderr",
     "output_type": "stream",
     "text": [
      "\r",
      "Saving vectors of label - 'amal':  74%|████▍ | 147/200 [00:33<00:11,  4.42it/s]"
     ]
    },
    {
     "name": "stdout",
     "output_type": "stream",
     "text": [
      "./data/amal/amal51.wav\n"
     ]
    },
    {
     "name": "stderr",
     "output_type": "stream",
     "text": [
      "\r",
      "Saving vectors of label - 'amal':  74%|████▍ | 148/200 [00:33<00:11,  4.42it/s]"
     ]
    },
    {
     "name": "stdout",
     "output_type": "stream",
     "text": [
      "./data/amal/amal52.wav\n"
     ]
    },
    {
     "name": "stderr",
     "output_type": "stream",
     "text": [
      "\r",
      "Saving vectors of label - 'amal':  74%|████▍ | 149/200 [00:33<00:11,  4.42it/s]"
     ]
    },
    {
     "name": "stdout",
     "output_type": "stream",
     "text": [
      "./data/amal/amal53.wav\n"
     ]
    },
    {
     "name": "stderr",
     "output_type": "stream",
     "text": [
      "\r",
      "Saving vectors of label - 'amal':  75%|████▌ | 150/200 [00:33<00:11,  4.42it/s]"
     ]
    },
    {
     "name": "stdout",
     "output_type": "stream",
     "text": [
      "./data/amal/amal54.wav\n"
     ]
    },
    {
     "name": "stderr",
     "output_type": "stream",
     "text": [
      "\r",
      "Saving vectors of label - 'amal':  76%|████▌ | 151/200 [00:34<00:11,  4.43it/s]"
     ]
    },
    {
     "name": "stdout",
     "output_type": "stream",
     "text": [
      "./data/amal/amal55.wav\n"
     ]
    },
    {
     "name": "stderr",
     "output_type": "stream",
     "text": [
      "\r",
      "Saving vectors of label - 'amal':  76%|████▌ | 152/200 [00:34<00:10,  4.44it/s]"
     ]
    },
    {
     "name": "stdout",
     "output_type": "stream",
     "text": [
      "./data/amal/amal56.wav\n"
     ]
    },
    {
     "name": "stderr",
     "output_type": "stream",
     "text": [
      "\r",
      "Saving vectors of label - 'amal':  76%|████▌ | 153/200 [00:34<00:10,  4.43it/s]"
     ]
    },
    {
     "name": "stdout",
     "output_type": "stream",
     "text": [
      "./data/amal/amal57.wav\n"
     ]
    },
    {
     "name": "stderr",
     "output_type": "stream",
     "text": [
      "\r",
      "Saving vectors of label - 'amal':  77%|████▌ | 154/200 [00:34<00:10,  4.43it/s]"
     ]
    },
    {
     "name": "stdout",
     "output_type": "stream",
     "text": [
      "./data/amal/amal58.wav\n"
     ]
    },
    {
     "name": "stderr",
     "output_type": "stream",
     "text": [
      "\r",
      "Saving vectors of label - 'amal':  78%|████▋ | 155/200 [00:35<00:10,  4.42it/s]"
     ]
    },
    {
     "name": "stdout",
     "output_type": "stream",
     "text": [
      "./data/amal/amal59.wav\n"
     ]
    },
    {
     "name": "stderr",
     "output_type": "stream",
     "text": [
      "\r",
      "Saving vectors of label - 'amal':  78%|████▋ | 156/200 [00:35<00:09,  4.43it/s]"
     ]
    },
    {
     "name": "stdout",
     "output_type": "stream",
     "text": [
      "./data/amal/amal6.wav\n"
     ]
    },
    {
     "name": "stderr",
     "output_type": "stream",
     "text": [
      "\r",
      "Saving vectors of label - 'amal':  78%|████▋ | 157/200 [00:35<00:09,  4.43it/s]"
     ]
    },
    {
     "name": "stdout",
     "output_type": "stream",
     "text": [
      "./data/amal/amal60.wav\n"
     ]
    },
    {
     "name": "stderr",
     "output_type": "stream",
     "text": [
      "\r",
      "Saving vectors of label - 'amal':  79%|████▋ | 158/200 [00:35<00:09,  4.45it/s]"
     ]
    },
    {
     "name": "stdout",
     "output_type": "stream",
     "text": [
      "./data/amal/amal61.wav\n"
     ]
    },
    {
     "name": "stderr",
     "output_type": "stream",
     "text": [
      "\r",
      "Saving vectors of label - 'amal':  80%|████▊ | 159/200 [00:35<00:09,  4.46it/s]"
     ]
    },
    {
     "name": "stdout",
     "output_type": "stream",
     "text": [
      "./data/amal/amal62.wav\n"
     ]
    },
    {
     "name": "stderr",
     "output_type": "stream",
     "text": [
      "\r",
      "Saving vectors of label - 'amal':  80%|████▊ | 160/200 [00:35<00:08,  4.46it/s]"
     ]
    },
    {
     "name": "stdout",
     "output_type": "stream",
     "text": [
      "./data/amal/amal63.wav\n"
     ]
    },
    {
     "name": "stderr",
     "output_type": "stream",
     "text": [
      "\r",
      "Saving vectors of label - 'amal':  80%|████▊ | 161/200 [00:36<00:08,  4.46it/s]"
     ]
    },
    {
     "name": "stdout",
     "output_type": "stream",
     "text": [
      "./data/amal/amal64.wav\n"
     ]
    },
    {
     "name": "stderr",
     "output_type": "stream",
     "text": [
      "\r",
      "Saving vectors of label - 'amal':  81%|████▊ | 162/200 [00:36<00:08,  4.45it/s]"
     ]
    },
    {
     "name": "stdout",
     "output_type": "stream",
     "text": [
      "./data/amal/amal65.wav\n"
     ]
    },
    {
     "name": "stderr",
     "output_type": "stream",
     "text": [
      "\r",
      "Saving vectors of label - 'amal':  82%|████▉ | 163/200 [00:36<00:08,  4.45it/s]"
     ]
    },
    {
     "name": "stdout",
     "output_type": "stream",
     "text": [
      "./data/amal/amal66.wav\n"
     ]
    },
    {
     "name": "stderr",
     "output_type": "stream",
     "text": [
      "\r",
      "Saving vectors of label - 'amal':  82%|████▉ | 164/200 [00:36<00:08,  4.44it/s]"
     ]
    },
    {
     "name": "stdout",
     "output_type": "stream",
     "text": [
      "./data/amal/amal67.wav\n"
     ]
    },
    {
     "name": "stderr",
     "output_type": "stream",
     "text": [
      "\r",
      "Saving vectors of label - 'amal':  82%|████▉ | 165/200 [00:37<00:07,  4.43it/s]"
     ]
    },
    {
     "name": "stdout",
     "output_type": "stream",
     "text": [
      "./data/amal/amal68.wav\n"
     ]
    },
    {
     "name": "stderr",
     "output_type": "stream",
     "text": [
      "\r",
      "Saving vectors of label - 'amal':  83%|████▉ | 166/200 [00:37<00:07,  4.43it/s]"
     ]
    },
    {
     "name": "stdout",
     "output_type": "stream",
     "text": [
      "./data/amal/amal69.wav\n"
     ]
    },
    {
     "name": "stderr",
     "output_type": "stream",
     "text": [
      "\r",
      "Saving vectors of label - 'amal':  84%|█████ | 167/200 [00:37<00:07,  4.40it/s]"
     ]
    },
    {
     "name": "stdout",
     "output_type": "stream",
     "text": [
      "./data/amal/amal7.wav\n"
     ]
    },
    {
     "name": "stderr",
     "output_type": "stream",
     "text": [
      "\r",
      "Saving vectors of label - 'amal':  84%|█████ | 168/200 [00:38<00:07,  4.38it/s]"
     ]
    },
    {
     "name": "stdout",
     "output_type": "stream",
     "text": [
      "./data/amal/amal70.wav\n"
     ]
    },
    {
     "name": "stderr",
     "output_type": "stream",
     "text": [
      "\r",
      "Saving vectors of label - 'amal':  84%|█████ | 169/200 [00:38<00:07,  4.39it/s]"
     ]
    },
    {
     "name": "stdout",
     "output_type": "stream",
     "text": [
      "./data/amal/amal71.wav\n"
     ]
    },
    {
     "name": "stderr",
     "output_type": "stream",
     "text": [
      "\r",
      "Saving vectors of label - 'amal':  85%|█████ | 170/200 [00:38<00:06,  4.39it/s]"
     ]
    },
    {
     "name": "stdout",
     "output_type": "stream",
     "text": [
      "./data/amal/amal72.wav\n"
     ]
    },
    {
     "name": "stderr",
     "output_type": "stream",
     "text": [
      "\r",
      "Saving vectors of label - 'amal':  86%|█████▏| 171/200 [00:39<00:06,  4.37it/s]"
     ]
    },
    {
     "name": "stdout",
     "output_type": "stream",
     "text": [
      "./data/amal/amal73.wav\n"
     ]
    },
    {
     "name": "stderr",
     "output_type": "stream",
     "text": [
      "\r",
      "Saving vectors of label - 'amal':  86%|█████▏| 172/200 [00:39<00:06,  4.36it/s]"
     ]
    },
    {
     "name": "stdout",
     "output_type": "stream",
     "text": [
      "./data/amal/amal74.wav\n"
     ]
    },
    {
     "name": "stderr",
     "output_type": "stream",
     "text": [
      "\r",
      "Saving vectors of label - 'amal':  86%|█████▏| 173/200 [00:39<00:06,  4.36it/s]"
     ]
    },
    {
     "name": "stdout",
     "output_type": "stream",
     "text": [
      "./data/amal/amal75.wav\n"
     ]
    },
    {
     "name": "stderr",
     "output_type": "stream",
     "text": [
      "\r",
      "Saving vectors of label - 'amal':  87%|█████▏| 174/200 [00:39<00:05,  4.36it/s]"
     ]
    },
    {
     "name": "stdout",
     "output_type": "stream",
     "text": [
      "./data/amal/amal76.wav\n"
     ]
    },
    {
     "name": "stderr",
     "output_type": "stream",
     "text": [
      "\r",
      "Saving vectors of label - 'amal':  88%|█████▎| 175/200 [00:40<00:05,  4.36it/s]"
     ]
    },
    {
     "name": "stdout",
     "output_type": "stream",
     "text": [
      "./data/amal/amal77.wav\n"
     ]
    },
    {
     "name": "stderr",
     "output_type": "stream",
     "text": [
      "\r",
      "Saving vectors of label - 'amal':  88%|█████▎| 176/200 [00:40<00:05,  4.36it/s]"
     ]
    },
    {
     "name": "stdout",
     "output_type": "stream",
     "text": [
      "./data/amal/amal78.wav\n"
     ]
    },
    {
     "name": "stderr",
     "output_type": "stream",
     "text": [
      "\r",
      "Saving vectors of label - 'amal':  88%|█████▎| 177/200 [00:40<00:05,  4.34it/s]"
     ]
    },
    {
     "name": "stdout",
     "output_type": "stream",
     "text": [
      "./data/amal/amal79.wav\n"
     ]
    },
    {
     "name": "stderr",
     "output_type": "stream",
     "text": [
      "\r",
      "Saving vectors of label - 'amal':  89%|█████▎| 178/200 [00:40<00:05,  4.34it/s]"
     ]
    },
    {
     "name": "stdout",
     "output_type": "stream",
     "text": [
      "./data/amal/amal8.wav\n"
     ]
    },
    {
     "name": "stderr",
     "output_type": "stream",
     "text": [
      "\r",
      "Saving vectors of label - 'amal':  90%|█████▎| 179/200 [00:41<00:04,  4.34it/s]"
     ]
    },
    {
     "name": "stdout",
     "output_type": "stream",
     "text": [
      "./data/amal/amal80.wav\n"
     ]
    },
    {
     "name": "stderr",
     "output_type": "stream",
     "text": [
      "\r",
      "Saving vectors of label - 'amal':  90%|█████▍| 180/200 [00:41<00:04,  4.35it/s]"
     ]
    },
    {
     "name": "stdout",
     "output_type": "stream",
     "text": [
      "./data/amal/amal81.wav\n"
     ]
    },
    {
     "name": "stderr",
     "output_type": "stream",
     "text": [
      "\r",
      "Saving vectors of label - 'amal':  90%|█████▍| 181/200 [00:41<00:04,  4.36it/s]"
     ]
    },
    {
     "name": "stdout",
     "output_type": "stream",
     "text": [
      "./data/amal/amal82.wav\n"
     ]
    },
    {
     "name": "stderr",
     "output_type": "stream",
     "text": [
      "\r",
      "Saving vectors of label - 'amal':  91%|█████▍| 182/200 [00:41<00:04,  4.37it/s]"
     ]
    },
    {
     "name": "stdout",
     "output_type": "stream",
     "text": [
      "./data/amal/amal83.wav\n"
     ]
    },
    {
     "name": "stderr",
     "output_type": "stream",
     "text": [
      "\r",
      "Saving vectors of label - 'amal':  92%|█████▍| 183/200 [00:41<00:03,  4.38it/s]"
     ]
    },
    {
     "name": "stdout",
     "output_type": "stream",
     "text": [
      "./data/amal/amal84.wav\n"
     ]
    },
    {
     "name": "stderr",
     "output_type": "stream",
     "text": [
      "\r",
      "Saving vectors of label - 'amal':  92%|█████▌| 184/200 [00:41<00:03,  4.39it/s]"
     ]
    },
    {
     "name": "stdout",
     "output_type": "stream",
     "text": [
      "./data/amal/amal85.wav\n"
     ]
    },
    {
     "name": "stderr",
     "output_type": "stream",
     "text": [
      "\r",
      "Saving vectors of label - 'amal':  92%|█████▌| 185/200 [00:42<00:03,  4.40it/s]"
     ]
    },
    {
     "name": "stdout",
     "output_type": "stream",
     "text": [
      "./data/amal/amal86.wav\n"
     ]
    },
    {
     "name": "stderr",
     "output_type": "stream",
     "text": [
      "\r",
      "Saving vectors of label - 'amal':  93%|█████▌| 186/200 [00:42<00:03,  4.40it/s]"
     ]
    },
    {
     "name": "stdout",
     "output_type": "stream",
     "text": [
      "./data/amal/amal87.wav\n"
     ]
    },
    {
     "name": "stderr",
     "output_type": "stream",
     "text": [
      "\r",
      "Saving vectors of label - 'amal':  94%|█████▌| 187/200 [00:42<00:02,  4.41it/s]"
     ]
    },
    {
     "name": "stdout",
     "output_type": "stream",
     "text": [
      "./data/amal/amal88.wav\n"
     ]
    },
    {
     "name": "stderr",
     "output_type": "stream",
     "text": [
      "\r",
      "Saving vectors of label - 'amal':  94%|█████▋| 188/200 [00:42<00:02,  4.42it/s]"
     ]
    },
    {
     "name": "stdout",
     "output_type": "stream",
     "text": [
      "./data/amal/amal89.wav\n"
     ]
    },
    {
     "name": "stderr",
     "output_type": "stream",
     "text": [
      "\r",
      "Saving vectors of label - 'amal':  94%|█████▋| 189/200 [00:42<00:02,  4.43it/s]"
     ]
    },
    {
     "name": "stdout",
     "output_type": "stream",
     "text": [
      "./data/amal/amal9.wav\n"
     ]
    },
    {
     "name": "stderr",
     "output_type": "stream",
     "text": [
      "\r",
      "Saving vectors of label - 'amal':  95%|█████▋| 190/200 [00:42<00:02,  4.45it/s]"
     ]
    },
    {
     "name": "stdout",
     "output_type": "stream",
     "text": [
      "./data/amal/amal90.wav\n"
     ]
    },
    {
     "name": "stderr",
     "output_type": "stream",
     "text": [
      "\r",
      "Saving vectors of label - 'amal':  96%|█████▋| 191/200 [00:42<00:02,  4.46it/s]"
     ]
    },
    {
     "name": "stdout",
     "output_type": "stream",
     "text": [
      "./data/amal/amal91.wav\n"
     ]
    },
    {
     "name": "stderr",
     "output_type": "stream",
     "text": [
      "\r",
      "Saving vectors of label - 'amal':  96%|█████▊| 192/200 [00:43<00:01,  4.46it/s]"
     ]
    },
    {
     "name": "stdout",
     "output_type": "stream",
     "text": [
      "./data/amal/amal92.wav\n"
     ]
    },
    {
     "name": "stderr",
     "output_type": "stream",
     "text": [
      "\r",
      "Saving vectors of label - 'amal':  96%|█████▊| 193/200 [00:43<00:01,  4.47it/s]"
     ]
    },
    {
     "name": "stdout",
     "output_type": "stream",
     "text": [
      "./data/amal/amal93.wav\n"
     ]
    },
    {
     "name": "stderr",
     "output_type": "stream",
     "text": [
      "\r",
      "Saving vectors of label - 'amal':  97%|█████▊| 194/200 [00:43<00:01,  4.49it/s]"
     ]
    },
    {
     "name": "stdout",
     "output_type": "stream",
     "text": [
      "./data/amal/amal94.wav\n"
     ]
    },
    {
     "name": "stderr",
     "output_type": "stream",
     "text": [
      "\r",
      "Saving vectors of label - 'amal':  98%|█████▊| 195/200 [00:43<00:01,  4.49it/s]"
     ]
    },
    {
     "name": "stdout",
     "output_type": "stream",
     "text": [
      "./data/amal/amal95.wav\n"
     ]
    },
    {
     "name": "stderr",
     "output_type": "stream",
     "text": [
      "\r",
      "Saving vectors of label - 'amal':  98%|█████▉| 196/200 [00:43<00:00,  4.48it/s]"
     ]
    },
    {
     "name": "stdout",
     "output_type": "stream",
     "text": [
      "./data/amal/amal96.wav\n"
     ]
    },
    {
     "name": "stderr",
     "output_type": "stream",
     "text": [
      "\r",
      "Saving vectors of label - 'amal':  98%|█████▉| 197/200 [00:43<00:00,  4.48it/s]"
     ]
    },
    {
     "name": "stdout",
     "output_type": "stream",
     "text": [
      "./data/amal/amal97.wav\n"
     ]
    },
    {
     "name": "stderr",
     "output_type": "stream",
     "text": [
      "\r",
      "Saving vectors of label - 'amal':  99%|█████▉| 198/200 [00:44<00:00,  4.45it/s]"
     ]
    },
    {
     "name": "stdout",
     "output_type": "stream",
     "text": [
      "./data/amal/amal98.wav\n"
     ]
    },
    {
     "name": "stderr",
     "output_type": "stream",
     "text": [
      "\r",
      "Saving vectors of label - 'amal': 100%|█████▉| 199/200 [00:44<00:00,  4.44it/s]"
     ]
    },
    {
     "name": "stdout",
     "output_type": "stream",
     "text": [
      "./data/amal/amal99.wav\n"
     ]
    },
    {
     "name": "stderr",
     "output_type": "stream",
     "text": [
      "Saving vectors of label - 'amal': 100%|██████| 200/200 [00:44<00:00,  4.45it/s]\n",
      "Saving vectors of label - 'hajer':   0%|               | 0/200 [00:00<?, ?it/s]"
     ]
    },
    {
     "name": "stdout",
     "output_type": "stream",
     "text": [
      "./data/hajer/hajer1.wav\n"
     ]
    },
    {
     "name": "stderr",
     "output_type": "stream",
     "text": [
      "\r",
      "Saving vectors of label - 'hajer':   0%|       | 1/200 [00:00<00:20,  9.89it/s]"
     ]
    },
    {
     "name": "stdout",
     "output_type": "stream",
     "text": [
      "./data/hajer/hajer10.wav\n"
     ]
    },
    {
     "name": "stderr",
     "output_type": "stream",
     "text": [
      "\r",
      "Saving vectors of label - 'hajer':   1%|       | 2/200 [00:00<00:21,  9.13it/s]"
     ]
    },
    {
     "name": "stdout",
     "output_type": "stream",
     "text": [
      "./data/hajer/hajer100.wav\n"
     ]
    },
    {
     "name": "stderr",
     "output_type": "stream",
     "text": [
      "\r",
      "Saving vectors of label - 'hajer':   2%|       | 3/200 [00:00<00:23,  8.21it/s]"
     ]
    },
    {
     "name": "stdout",
     "output_type": "stream",
     "text": [
      "./data/hajer/hajer101.wav\n"
     ]
    },
    {
     "name": "stderr",
     "output_type": "stream",
     "text": [
      "\r",
      "Saving vectors of label - 'hajer':   2%|▏      | 4/200 [00:00<00:27,  7.01it/s]"
     ]
    },
    {
     "name": "stdout",
     "output_type": "stream",
     "text": [
      "./data/hajer/hajer102.wav\n"
     ]
    },
    {
     "name": "stderr",
     "output_type": "stream",
     "text": [
      "\r",
      "Saving vectors of label - 'hajer':   2%|▏      | 5/200 [00:00<00:26,  7.27it/s]"
     ]
    },
    {
     "name": "stdout",
     "output_type": "stream",
     "text": [
      "./data/hajer/hajer103.wav\n"
     ]
    },
    {
     "name": "stderr",
     "output_type": "stream",
     "text": [
      "\r",
      "Saving vectors of label - 'hajer':   3%|▏      | 6/200 [00:00<00:29,  6.52it/s]"
     ]
    },
    {
     "name": "stdout",
     "output_type": "stream",
     "text": [
      "./data/hajer/hajer104.wav\n"
     ]
    },
    {
     "name": "stderr",
     "output_type": "stream",
     "text": [
      "\r",
      "Saving vectors of label - 'hajer':   4%|▏      | 7/200 [00:01<00:30,  6.41it/s]"
     ]
    },
    {
     "name": "stdout",
     "output_type": "stream",
     "text": [
      "./data/hajer/hajer105.wav\n"
     ]
    },
    {
     "name": "stderr",
     "output_type": "stream",
     "text": [
      "\r",
      "Saving vectors of label - 'hajer':   4%|▎      | 8/200 [00:01<00:30,  6.25it/s]"
     ]
    },
    {
     "name": "stdout",
     "output_type": "stream",
     "text": [
      "./data/hajer/hajer106.wav\n"
     ]
    },
    {
     "name": "stderr",
     "output_type": "stream",
     "text": [
      "\r",
      "Saving vectors of label - 'hajer':   4%|▎      | 9/200 [00:01<00:30,  6.33it/s]"
     ]
    },
    {
     "name": "stdout",
     "output_type": "stream",
     "text": [
      "./data/hajer/hajer107.wav\n"
     ]
    },
    {
     "name": "stderr",
     "output_type": "stream",
     "text": [
      "\r",
      "Saving vectors of label - 'hajer':   5%|▎     | 10/200 [00:01<00:29,  6.46it/s]"
     ]
    },
    {
     "name": "stdout",
     "output_type": "stream",
     "text": [
      "./data/hajer/hajer108.wav\n"
     ]
    },
    {
     "name": "stderr",
     "output_type": "stream",
     "text": [
      "\r",
      "Saving vectors of label - 'hajer':   6%|▎     | 11/200 [00:01<00:29,  6.49it/s]"
     ]
    },
    {
     "name": "stdout",
     "output_type": "stream",
     "text": [
      "./data/hajer/hajer109.wav\n"
     ]
    },
    {
     "name": "stderr",
     "output_type": "stream",
     "text": [
      "\r",
      "Saving vectors of label - 'hajer':   6%|▎     | 12/200 [00:01<00:28,  6.59it/s]"
     ]
    },
    {
     "name": "stdout",
     "output_type": "stream",
     "text": [
      "./data/hajer/hajer11.wav\n"
     ]
    },
    {
     "name": "stderr",
     "output_type": "stream",
     "text": [
      "\r",
      "Saving vectors of label - 'hajer':   6%|▍     | 13/200 [00:01<00:27,  6.73it/s]"
     ]
    },
    {
     "name": "stdout",
     "output_type": "stream",
     "text": [
      "./data/hajer/hajer110.wav\n"
     ]
    },
    {
     "name": "stderr",
     "output_type": "stream",
     "text": [
      "\r",
      "Saving vectors of label - 'hajer':   7%|▍     | 14/200 [00:02<00:27,  6.85it/s]"
     ]
    },
    {
     "name": "stdout",
     "output_type": "stream",
     "text": [
      "./data/hajer/hajer111.wav\n"
     ]
    },
    {
     "name": "stderr",
     "output_type": "stream",
     "text": [
      "\r",
      "Saving vectors of label - 'hajer':   8%|▍     | 15/200 [00:02<00:28,  6.55it/s]"
     ]
    },
    {
     "name": "stdout",
     "output_type": "stream",
     "text": [
      "./data/hajer/hajer112.wav\n"
     ]
    },
    {
     "name": "stderr",
     "output_type": "stream",
     "text": [
      "\r",
      "Saving vectors of label - 'hajer':   8%|▍     | 16/200 [00:02<00:27,  6.65it/s]"
     ]
    },
    {
     "name": "stdout",
     "output_type": "stream",
     "text": [
      "./data/hajer/hajer113.wav\n"
     ]
    },
    {
     "name": "stderr",
     "output_type": "stream",
     "text": [
      "\r",
      "Saving vectors of label - 'hajer':   8%|▌     | 17/200 [00:02<00:27,  6.68it/s]"
     ]
    },
    {
     "name": "stdout",
     "output_type": "stream",
     "text": [
      "./data/hajer/hajer114.wav\n"
     ]
    },
    {
     "name": "stderr",
     "output_type": "stream",
     "text": [
      "\r",
      "Saving vectors of label - 'hajer':   9%|▌     | 18/200 [00:02<00:26,  6.75it/s]"
     ]
    },
    {
     "name": "stdout",
     "output_type": "stream",
     "text": [
      "./data/hajer/hajer115.wav\n"
     ]
    },
    {
     "name": "stderr",
     "output_type": "stream",
     "text": [
      "\r",
      "Saving vectors of label - 'hajer':  10%|▌     | 19/200 [00:02<00:26,  6.81it/s]"
     ]
    },
    {
     "name": "stdout",
     "output_type": "stream",
     "text": [
      "./data/hajer/hajer116.wav\n"
     ]
    },
    {
     "name": "stderr",
     "output_type": "stream",
     "text": [
      "\r",
      "Saving vectors of label - 'hajer':  10%|▌     | 20/200 [00:02<00:26,  6.86it/s]"
     ]
    },
    {
     "name": "stdout",
     "output_type": "stream",
     "text": [
      "./data/hajer/hajer117.wav\n"
     ]
    },
    {
     "name": "stderr",
     "output_type": "stream",
     "text": [
      "\r",
      "Saving vectors of label - 'hajer':  10%|▋     | 21/200 [00:03<00:26,  6.84it/s]"
     ]
    },
    {
     "name": "stdout",
     "output_type": "stream",
     "text": [
      "./data/hajer/hajer118.wav\n"
     ]
    },
    {
     "name": "stderr",
     "output_type": "stream",
     "text": [
      "\r",
      "Saving vectors of label - 'hajer':  11%|▋     | 22/200 [00:03<00:25,  6.85it/s]"
     ]
    },
    {
     "name": "stdout",
     "output_type": "stream",
     "text": [
      "./data/hajer/hajer119.wav\n"
     ]
    },
    {
     "name": "stderr",
     "output_type": "stream",
     "text": [
      "\r",
      "Saving vectors of label - 'hajer':  12%|▋     | 23/200 [00:03<00:25,  6.89it/s]"
     ]
    },
    {
     "name": "stdout",
     "output_type": "stream",
     "text": [
      "./data/hajer/hajer12.wav\n"
     ]
    },
    {
     "name": "stderr",
     "output_type": "stream",
     "text": [
      "\r",
      "Saving vectors of label - 'hajer':  12%|▋     | 24/200 [00:03<00:25,  6.98it/s]"
     ]
    },
    {
     "name": "stdout",
     "output_type": "stream",
     "text": [
      "./data/hajer/hajer120.wav\n"
     ]
    },
    {
     "name": "stderr",
     "output_type": "stream",
     "text": [
      "\r",
      "Saving vectors of label - 'hajer':  12%|▊     | 25/200 [00:03<00:26,  6.67it/s]"
     ]
    },
    {
     "name": "stdout",
     "output_type": "stream",
     "text": [
      "./data/hajer/hajer121.wav\n"
     ]
    },
    {
     "name": "stderr",
     "output_type": "stream",
     "text": [
      "\r",
      "Saving vectors of label - 'hajer':  13%|▊     | 26/200 [00:03<00:25,  6.69it/s]"
     ]
    },
    {
     "name": "stdout",
     "output_type": "stream",
     "text": [
      "./data/hajer/hajer122.wav\n"
     ]
    },
    {
     "name": "stderr",
     "output_type": "stream",
     "text": [
      "\r",
      "Saving vectors of label - 'hajer':  14%|▊     | 27/200 [00:04<00:27,  6.24it/s]"
     ]
    },
    {
     "name": "stdout",
     "output_type": "stream",
     "text": [
      "./data/hajer/hajer123.wav\n"
     ]
    },
    {
     "name": "stderr",
     "output_type": "stream",
     "text": [
      "\r",
      "Saving vectors of label - 'hajer':  14%|▊     | 28/200 [00:04<00:27,  6.26it/s]"
     ]
    },
    {
     "name": "stdout",
     "output_type": "stream",
     "text": [
      "./data/hajer/hajer124.wav\n"
     ]
    },
    {
     "name": "stderr",
     "output_type": "stream",
     "text": [
      "\r",
      "Saving vectors of label - 'hajer':  14%|▊     | 29/200 [00:04<00:27,  6.30it/s]"
     ]
    },
    {
     "name": "stdout",
     "output_type": "stream",
     "text": [
      "./data/hajer/hajer125.wav\n"
     ]
    },
    {
     "name": "stderr",
     "output_type": "stream",
     "text": [
      "\r",
      "Saving vectors of label - 'hajer':  15%|▉     | 30/200 [00:04<00:26,  6.30it/s]"
     ]
    },
    {
     "name": "stdout",
     "output_type": "stream",
     "text": [
      "./data/hajer/hajer126.wav\n"
     ]
    },
    {
     "name": "stderr",
     "output_type": "stream",
     "text": [
      "\r",
      "Saving vectors of label - 'hajer':  16%|▉     | 31/200 [00:04<00:26,  6.26it/s]"
     ]
    },
    {
     "name": "stdout",
     "output_type": "stream",
     "text": [
      "./data/hajer/hajer127.wav\n"
     ]
    },
    {
     "name": "stderr",
     "output_type": "stream",
     "text": [
      "\r",
      "Saving vectors of label - 'hajer':  16%|▉     | 32/200 [00:05<00:27,  6.16it/s]"
     ]
    },
    {
     "name": "stdout",
     "output_type": "stream",
     "text": [
      "./data/hajer/hajer128.wav\n"
     ]
    },
    {
     "name": "stderr",
     "output_type": "stream",
     "text": [
      "\r",
      "Saving vectors of label - 'hajer':  16%|▉     | 33/200 [00:05<00:26,  6.20it/s]"
     ]
    },
    {
     "name": "stdout",
     "output_type": "stream",
     "text": [
      "./data/hajer/hajer129.wav\n"
     ]
    },
    {
     "name": "stderr",
     "output_type": "stream",
     "text": [
      "\r",
      "Saving vectors of label - 'hajer':  17%|█     | 34/200 [00:05<00:26,  6.23it/s]"
     ]
    },
    {
     "name": "stdout",
     "output_type": "stream",
     "text": [
      "./data/hajer/hajer13.wav\n",
      "./data/hajer/hajer130.wav\n"
     ]
    },
    {
     "name": "stderr",
     "output_type": "stream",
     "text": [
      "\r",
      "Saving vectors of label - 'hajer':  18%|█     | 36/200 [00:05<00:25,  6.33it/s]"
     ]
    },
    {
     "name": "stdout",
     "output_type": "stream",
     "text": [
      "./data/hajer/hajer131.wav\n"
     ]
    },
    {
     "name": "stderr",
     "output_type": "stream",
     "text": [
      "\r",
      "Saving vectors of label - 'hajer':  18%|█     | 37/200 [00:05<00:25,  6.34it/s]"
     ]
    },
    {
     "name": "stdout",
     "output_type": "stream",
     "text": [
      "./data/hajer/hajer132.wav\n"
     ]
    },
    {
     "name": "stderr",
     "output_type": "stream",
     "text": [
      "\r",
      "Saving vectors of label - 'hajer':  19%|█▏    | 38/200 [00:05<00:25,  6.33it/s]"
     ]
    },
    {
     "name": "stdout",
     "output_type": "stream",
     "text": [
      "./data/hajer/hajer133.wav\n"
     ]
    },
    {
     "name": "stderr",
     "output_type": "stream",
     "text": [
      "\r",
      "Saving vectors of label - 'hajer':  20%|█▏    | 39/200 [00:06<00:25,  6.34it/s]"
     ]
    },
    {
     "name": "stdout",
     "output_type": "stream",
     "text": [
      "./data/hajer/hajer134.wav\n"
     ]
    },
    {
     "name": "stderr",
     "output_type": "stream",
     "text": [
      "\r",
      "Saving vectors of label - 'hajer':  20%|█▏    | 40/200 [00:06<00:25,  6.36it/s]"
     ]
    },
    {
     "name": "stdout",
     "output_type": "stream",
     "text": [
      "./data/hajer/hajer135.wav\n"
     ]
    },
    {
     "name": "stderr",
     "output_type": "stream",
     "text": [
      "\r",
      "Saving vectors of label - 'hajer':  20%|█▏    | 41/200 [00:06<00:24,  6.40it/s]"
     ]
    },
    {
     "name": "stdout",
     "output_type": "stream",
     "text": [
      "./data/hajer/hajer136.wav\n"
     ]
    },
    {
     "name": "stderr",
     "output_type": "stream",
     "text": [
      "\r",
      "Saving vectors of label - 'hajer':  21%|█▎    | 42/200 [00:06<00:24,  6.42it/s]"
     ]
    },
    {
     "name": "stdout",
     "output_type": "stream",
     "text": [
      "./data/hajer/hajer137.wav\n"
     ]
    },
    {
     "name": "stderr",
     "output_type": "stream",
     "text": [
      "\r",
      "Saving vectors of label - 'hajer':  22%|█▎    | 43/200 [00:06<00:24,  6.44it/s]"
     ]
    },
    {
     "name": "stdout",
     "output_type": "stream",
     "text": [
      "./data/hajer/hajer138.wav\n"
     ]
    },
    {
     "name": "stderr",
     "output_type": "stream",
     "text": [
      "\r",
      "Saving vectors of label - 'hajer':  22%|█▎    | 44/200 [00:06<00:24,  6.45it/s]"
     ]
    },
    {
     "name": "stdout",
     "output_type": "stream",
     "text": [
      "./data/hajer/hajer139.wav\n"
     ]
    },
    {
     "name": "stderr",
     "output_type": "stream",
     "text": [
      "\r",
      "Saving vectors of label - 'hajer':  22%|█▎    | 45/200 [00:06<00:24,  6.44it/s]"
     ]
    },
    {
     "name": "stdout",
     "output_type": "stream",
     "text": [
      "./data/hajer/hajer14.wav\n"
     ]
    },
    {
     "name": "stderr",
     "output_type": "stream",
     "text": [
      "\r",
      "Saving vectors of label - 'hajer':  23%|█▍    | 46/200 [00:07<00:23,  6.47it/s]"
     ]
    },
    {
     "name": "stdout",
     "output_type": "stream",
     "text": [
      "./data/hajer/hajer140.wav\n"
     ]
    },
    {
     "name": "stderr",
     "output_type": "stream",
     "text": [
      "\r",
      "Saving vectors of label - 'hajer':  24%|█▍    | 47/200 [00:07<00:23,  6.44it/s]"
     ]
    },
    {
     "name": "stdout",
     "output_type": "stream",
     "text": [
      "./data/hajer/hajer141.wav\n"
     ]
    },
    {
     "name": "stderr",
     "output_type": "stream",
     "text": [
      "\r",
      "Saving vectors of label - 'hajer':  24%|█▍    | 48/200 [00:07<00:23,  6.46it/s]"
     ]
    },
    {
     "name": "stdout",
     "output_type": "stream",
     "text": [
      "./data/hajer/hajer142.wav\n"
     ]
    },
    {
     "name": "stderr",
     "output_type": "stream",
     "text": [
      "\r",
      "Saving vectors of label - 'hajer':  24%|█▍    | 49/200 [00:07<00:23,  6.45it/s]"
     ]
    },
    {
     "name": "stdout",
     "output_type": "stream",
     "text": [
      "./data/hajer/hajer143.wav\n"
     ]
    },
    {
     "name": "stderr",
     "output_type": "stream",
     "text": [
      "\r",
      "Saving vectors of label - 'hajer':  25%|█▌    | 50/200 [00:07<00:23,  6.48it/s]"
     ]
    },
    {
     "name": "stdout",
     "output_type": "stream",
     "text": [
      "./data/hajer/hajer144.wav\n"
     ]
    },
    {
     "name": "stderr",
     "output_type": "stream",
     "text": [
      "\r",
      "Saving vectors of label - 'hajer':  26%|█▌    | 51/200 [00:07<00:23,  6.47it/s]"
     ]
    },
    {
     "name": "stdout",
     "output_type": "stream",
     "text": [
      "./data/hajer/hajer145.wav\n"
     ]
    },
    {
     "name": "stderr",
     "output_type": "stream",
     "text": [
      "\r",
      "Saving vectors of label - 'hajer':  26%|█▌    | 52/200 [00:08<00:22,  6.47it/s]"
     ]
    },
    {
     "name": "stdout",
     "output_type": "stream",
     "text": [
      "./data/hajer/hajer146.wav\n"
     ]
    },
    {
     "name": "stderr",
     "output_type": "stream",
     "text": [
      "\r",
      "Saving vectors of label - 'hajer':  26%|█▌    | 53/200 [00:08<00:22,  6.50it/s]"
     ]
    },
    {
     "name": "stdout",
     "output_type": "stream",
     "text": [
      "./data/hajer/hajer147.wav\n"
     ]
    },
    {
     "name": "stderr",
     "output_type": "stream",
     "text": [
      "\r",
      "Saving vectors of label - 'hajer':  27%|█▌    | 54/200 [00:08<00:22,  6.53it/s]"
     ]
    },
    {
     "name": "stdout",
     "output_type": "stream",
     "text": [
      "./data/hajer/hajer148.wav\n"
     ]
    },
    {
     "name": "stderr",
     "output_type": "stream",
     "text": [
      "\r",
      "Saving vectors of label - 'hajer':  28%|█▋    | 55/200 [00:08<00:22,  6.55it/s]"
     ]
    },
    {
     "name": "stdout",
     "output_type": "stream",
     "text": [
      "./data/hajer/hajer149.wav\n"
     ]
    },
    {
     "name": "stderr",
     "output_type": "stream",
     "text": [
      "\r",
      "Saving vectors of label - 'hajer':  28%|█▋    | 56/200 [00:08<00:21,  6.55it/s]"
     ]
    },
    {
     "name": "stdout",
     "output_type": "stream",
     "text": [
      "./data/hajer/hajer15.wav\n"
     ]
    },
    {
     "name": "stderr",
     "output_type": "stream",
     "text": [
      "\r",
      "Saving vectors of label - 'hajer':  28%|█▋    | 57/200 [00:08<00:21,  6.58it/s]"
     ]
    },
    {
     "name": "stdout",
     "output_type": "stream",
     "text": [
      "./data/hajer/hajer150.wav\n"
     ]
    },
    {
     "name": "stderr",
     "output_type": "stream",
     "text": [
      "\r",
      "Saving vectors of label - 'hajer':  29%|█▋    | 58/200 [00:08<00:21,  6.60it/s]"
     ]
    },
    {
     "name": "stdout",
     "output_type": "stream",
     "text": [
      "./data/hajer/hajer151.wav\n"
     ]
    },
    {
     "name": "stderr",
     "output_type": "stream",
     "text": [
      "\r",
      "Saving vectors of label - 'hajer':  30%|█▊    | 59/200 [00:08<00:21,  6.57it/s]"
     ]
    },
    {
     "name": "stdout",
     "output_type": "stream",
     "text": [
      "./data/hajer/hajer152.wav\n"
     ]
    },
    {
     "name": "stderr",
     "output_type": "stream",
     "text": [
      "\r",
      "Saving vectors of label - 'hajer':  30%|█▊    | 60/200 [00:09<00:21,  6.56it/s]"
     ]
    },
    {
     "name": "stdout",
     "output_type": "stream",
     "text": [
      "./data/hajer/hajer153.wav\n"
     ]
    },
    {
     "name": "stderr",
     "output_type": "stream",
     "text": [
      "\r",
      "Saving vectors of label - 'hajer':  30%|█▊    | 61/200 [00:09<00:21,  6.53it/s]"
     ]
    },
    {
     "name": "stdout",
     "output_type": "stream",
     "text": [
      "./data/hajer/hajer154.wav\n"
     ]
    },
    {
     "name": "stderr",
     "output_type": "stream",
     "text": [
      "\r",
      "Saving vectors of label - 'hajer':  31%|█▊    | 62/200 [00:09<00:21,  6.50it/s]"
     ]
    },
    {
     "name": "stdout",
     "output_type": "stream",
     "text": [
      "./data/hajer/hajer155.wav\n"
     ]
    },
    {
     "name": "stderr",
     "output_type": "stream",
     "text": [
      "\r",
      "Saving vectors of label - 'hajer':  32%|█▉    | 63/200 [00:09<00:21,  6.47it/s]"
     ]
    },
    {
     "name": "stdout",
     "output_type": "stream",
     "text": [
      "./data/hajer/hajer156.wav\n"
     ]
    },
    {
     "name": "stderr",
     "output_type": "stream",
     "text": [
      "\r",
      "Saving vectors of label - 'hajer':  32%|█▉    | 64/200 [00:09<00:21,  6.47it/s]"
     ]
    },
    {
     "name": "stdout",
     "output_type": "stream",
     "text": [
      "./data/hajer/hajer157.wav\n"
     ]
    },
    {
     "name": "stderr",
     "output_type": "stream",
     "text": [
      "\r",
      "Saving vectors of label - 'hajer':  32%|█▉    | 65/200 [00:10<00:20,  6.44it/s]"
     ]
    },
    {
     "name": "stdout",
     "output_type": "stream",
     "text": [
      "./data/hajer/hajer158.wav\n"
     ]
    },
    {
     "name": "stderr",
     "output_type": "stream",
     "text": [
      "\r",
      "Saving vectors of label - 'hajer':  33%|█▉    | 66/200 [00:10<00:20,  6.41it/s]"
     ]
    },
    {
     "name": "stdout",
     "output_type": "stream",
     "text": [
      "./data/hajer/hajer159.wav\n"
     ]
    },
    {
     "name": "stderr",
     "output_type": "stream",
     "text": [
      "\r",
      "Saving vectors of label - 'hajer':  34%|██    | 67/200 [00:10<00:20,  6.42it/s]"
     ]
    },
    {
     "name": "stdout",
     "output_type": "stream",
     "text": [
      "./data/hajer/hajer16.wav\n"
     ]
    },
    {
     "name": "stderr",
     "output_type": "stream",
     "text": [
      "\r",
      "Saving vectors of label - 'hajer':  34%|██    | 68/200 [00:10<00:20,  6.44it/s]"
     ]
    },
    {
     "name": "stdout",
     "output_type": "stream",
     "text": [
      "./data/hajer/hajer160.wav\n"
     ]
    },
    {
     "name": "stderr",
     "output_type": "stream",
     "text": [
      "\r",
      "Saving vectors of label - 'hajer':  34%|██    | 69/200 [00:10<00:20,  6.42it/s]"
     ]
    },
    {
     "name": "stdout",
     "output_type": "stream",
     "text": [
      "./data/hajer/hajer161.wav\n"
     ]
    },
    {
     "name": "stderr",
     "output_type": "stream",
     "text": [
      "\r",
      "Saving vectors of label - 'hajer':  35%|██    | 70/200 [00:10<00:20,  6.41it/s]"
     ]
    },
    {
     "name": "stdout",
     "output_type": "stream",
     "text": [
      "./data/hajer/hajer162.wav\n"
     ]
    },
    {
     "name": "stderr",
     "output_type": "stream",
     "text": [
      "\r",
      "Saving vectors of label - 'hajer':  36%|██▏   | 71/200 [00:11<00:20,  6.39it/s]"
     ]
    },
    {
     "name": "stdout",
     "output_type": "stream",
     "text": [
      "./data/hajer/hajer163.wav\n"
     ]
    },
    {
     "name": "stderr",
     "output_type": "stream",
     "text": [
      "\r",
      "Saving vectors of label - 'hajer':  36%|██▏   | 72/200 [00:11<00:20,  6.37it/s]"
     ]
    },
    {
     "name": "stdout",
     "output_type": "stream",
     "text": [
      "./data/hajer/hajer164.wav\n"
     ]
    },
    {
     "name": "stderr",
     "output_type": "stream",
     "text": [
      "\r",
      "Saving vectors of label - 'hajer':  36%|██▏   | 73/200 [00:11<00:19,  6.38it/s]"
     ]
    },
    {
     "name": "stdout",
     "output_type": "stream",
     "text": [
      "./data/hajer/hajer165.wav\n"
     ]
    },
    {
     "name": "stderr",
     "output_type": "stream",
     "text": [
      "\r",
      "Saving vectors of label - 'hajer':  37%|██▏   | 74/200 [00:11<00:19,  6.38it/s]"
     ]
    },
    {
     "name": "stdout",
     "output_type": "stream",
     "text": [
      "./data/hajer/hajer166.wav\n"
     ]
    },
    {
     "name": "stderr",
     "output_type": "stream",
     "text": [
      "\r",
      "Saving vectors of label - 'hajer':  38%|██▎   | 75/200 [00:11<00:19,  6.37it/s]"
     ]
    },
    {
     "name": "stdout",
     "output_type": "stream",
     "text": [
      "./data/hajer/hajer167.wav\n"
     ]
    },
    {
     "name": "stderr",
     "output_type": "stream",
     "text": [
      "\r",
      "Saving vectors of label - 'hajer':  38%|██▎   | 76/200 [00:11<00:19,  6.37it/s]"
     ]
    },
    {
     "name": "stdout",
     "output_type": "stream",
     "text": [
      "./data/hajer/hajer168.wav\n"
     ]
    },
    {
     "name": "stderr",
     "output_type": "stream",
     "text": [
      "\r",
      "Saving vectors of label - 'hajer':  38%|██▎   | 77/200 [00:12<00:19,  6.34it/s]"
     ]
    },
    {
     "name": "stdout",
     "output_type": "stream",
     "text": [
      "./data/hajer/hajer169.wav\n"
     ]
    },
    {
     "name": "stderr",
     "output_type": "stream",
     "text": [
      "\r",
      "Saving vectors of label - 'hajer':  39%|██▎   | 78/200 [00:12<00:19,  6.33it/s]"
     ]
    },
    {
     "name": "stdout",
     "output_type": "stream",
     "text": [
      "./data/hajer/hajer17.wav\n"
     ]
    },
    {
     "name": "stderr",
     "output_type": "stream",
     "text": [
      "\r",
      "Saving vectors of label - 'hajer':  40%|██▎   | 79/200 [00:12<00:19,  6.34it/s]"
     ]
    },
    {
     "name": "stdout",
     "output_type": "stream",
     "text": [
      "./data/hajer/hajer170.wav\n"
     ]
    },
    {
     "name": "stderr",
     "output_type": "stream",
     "text": [
      "\r",
      "Saving vectors of label - 'hajer':  40%|██▍   | 80/200 [00:12<00:18,  6.32it/s]"
     ]
    },
    {
     "name": "stdout",
     "output_type": "stream",
     "text": [
      "./data/hajer/hajer171.wav\n"
     ]
    },
    {
     "name": "stderr",
     "output_type": "stream",
     "text": [
      "\r",
      "Saving vectors of label - 'hajer':  40%|██▍   | 81/200 [00:12<00:18,  6.31it/s]"
     ]
    },
    {
     "name": "stdout",
     "output_type": "stream",
     "text": [
      "./data/hajer/hajer172.wav\n"
     ]
    },
    {
     "name": "stderr",
     "output_type": "stream",
     "text": [
      "\r",
      "Saving vectors of label - 'hajer':  41%|██▍   | 82/200 [00:13<00:18,  6.30it/s]"
     ]
    },
    {
     "name": "stdout",
     "output_type": "stream",
     "text": [
      "./data/hajer/hajer173.wav\n"
     ]
    },
    {
     "name": "stderr",
     "output_type": "stream",
     "text": [
      "\r",
      "Saving vectors of label - 'hajer':  42%|██▍   | 83/200 [00:13<00:18,  6.28it/s]"
     ]
    },
    {
     "name": "stdout",
     "output_type": "stream",
     "text": [
      "./data/hajer/hajer174.wav\n"
     ]
    },
    {
     "name": "stderr",
     "output_type": "stream",
     "text": [
      "\r",
      "Saving vectors of label - 'hajer':  42%|██▌   | 84/200 [00:13<00:18,  6.27it/s]"
     ]
    },
    {
     "name": "stdout",
     "output_type": "stream",
     "text": [
      "./data/hajer/hajer175.wav\n"
     ]
    },
    {
     "name": "stderr",
     "output_type": "stream",
     "text": [
      "\r",
      "Saving vectors of label - 'hajer':  42%|██▌   | 85/200 [00:13<00:18,  6.26it/s]"
     ]
    },
    {
     "name": "stdout",
     "output_type": "stream",
     "text": [
      "./data/hajer/hajer176.wav\n"
     ]
    },
    {
     "name": "stderr",
     "output_type": "stream",
     "text": [
      "\r",
      "Saving vectors of label - 'hajer':  43%|██▌   | 86/200 [00:13<00:18,  6.26it/s]"
     ]
    },
    {
     "name": "stdout",
     "output_type": "stream",
     "text": [
      "./data/hajer/hajer177.wav\n"
     ]
    },
    {
     "name": "stderr",
     "output_type": "stream",
     "text": [
      "\r",
      "Saving vectors of label - 'hajer':  44%|██▌   | 87/200 [00:13<00:18,  6.27it/s]"
     ]
    },
    {
     "name": "stdout",
     "output_type": "stream",
     "text": [
      "./data/hajer/hajer178.wav\n"
     ]
    },
    {
     "name": "stderr",
     "output_type": "stream",
     "text": [
      "\r",
      "Saving vectors of label - 'hajer':  44%|██▋   | 88/200 [00:14<00:17,  6.28it/s]"
     ]
    },
    {
     "name": "stdout",
     "output_type": "stream",
     "text": [
      "./data/hajer/hajer179.wav\n"
     ]
    },
    {
     "name": "stderr",
     "output_type": "stream",
     "text": [
      "\r",
      "Saving vectors of label - 'hajer':  44%|██▋   | 89/200 [00:14<00:17,  6.29it/s]"
     ]
    },
    {
     "name": "stdout",
     "output_type": "stream",
     "text": [
      "./data/hajer/hajer18.wav\n"
     ]
    },
    {
     "name": "stderr",
     "output_type": "stream",
     "text": [
      "\r",
      "Saving vectors of label - 'hajer':  45%|██▋   | 90/200 [00:14<00:17,  6.31it/s]"
     ]
    },
    {
     "name": "stdout",
     "output_type": "stream",
     "text": [
      "./data/hajer/hajer180.wav\n"
     ]
    },
    {
     "name": "stderr",
     "output_type": "stream",
     "text": [
      "\r",
      "Saving vectors of label - 'hajer':  46%|██▋   | 91/200 [00:14<00:17,  6.31it/s]"
     ]
    },
    {
     "name": "stdout",
     "output_type": "stream",
     "text": [
      "./data/hajer/hajer181.wav\n"
     ]
    },
    {
     "name": "stderr",
     "output_type": "stream",
     "text": [
      "\r",
      "Saving vectors of label - 'hajer':  46%|██▊   | 92/200 [00:14<00:17,  6.31it/s]"
     ]
    },
    {
     "name": "stdout",
     "output_type": "stream",
     "text": [
      "./data/hajer/hajer182.wav\n"
     ]
    },
    {
     "name": "stderr",
     "output_type": "stream",
     "text": [
      "\r",
      "Saving vectors of label - 'hajer':  46%|██▊   | 93/200 [00:14<00:17,  6.29it/s]"
     ]
    },
    {
     "name": "stdout",
     "output_type": "stream",
     "text": [
      "./data/hajer/hajer183.wav\n"
     ]
    },
    {
     "name": "stderr",
     "output_type": "stream",
     "text": [
      "\r",
      "Saving vectors of label - 'hajer':  47%|██▊   | 94/200 [00:14<00:16,  6.27it/s]"
     ]
    },
    {
     "name": "stdout",
     "output_type": "stream",
     "text": [
      "./data/hajer/hajer184.wav\n"
     ]
    },
    {
     "name": "stderr",
     "output_type": "stream",
     "text": [
      "\r",
      "Saving vectors of label - 'hajer':  48%|██▊   | 95/200 [00:15<00:16,  6.27it/s]"
     ]
    },
    {
     "name": "stdout",
     "output_type": "stream",
     "text": [
      "./data/hajer/hajer185.wav\n"
     ]
    },
    {
     "name": "stderr",
     "output_type": "stream",
     "text": [
      "\r",
      "Saving vectors of label - 'hajer':  48%|██▉   | 96/200 [00:15<00:16,  6.27it/s]"
     ]
    },
    {
     "name": "stdout",
     "output_type": "stream",
     "text": [
      "./data/hajer/hajer186.wav\n"
     ]
    },
    {
     "name": "stderr",
     "output_type": "stream",
     "text": [
      "\r",
      "Saving vectors of label - 'hajer':  48%|██▉   | 97/200 [00:15<00:16,  6.26it/s]"
     ]
    },
    {
     "name": "stdout",
     "output_type": "stream",
     "text": [
      "./data/hajer/hajer187.wav\n"
     ]
    },
    {
     "name": "stderr",
     "output_type": "stream",
     "text": [
      "\r",
      "Saving vectors of label - 'hajer':  49%|██▉   | 98/200 [00:15<00:16,  6.26it/s]"
     ]
    },
    {
     "name": "stdout",
     "output_type": "stream",
     "text": [
      "./data/hajer/hajer188.wav\n"
     ]
    },
    {
     "name": "stderr",
     "output_type": "stream",
     "text": [
      "\r",
      "Saving vectors of label - 'hajer':  50%|██▉   | 99/200 [00:15<00:16,  6.25it/s]"
     ]
    },
    {
     "name": "stdout",
     "output_type": "stream",
     "text": [
      "./data/hajer/hajer189.wav\n"
     ]
    },
    {
     "name": "stderr",
     "output_type": "stream",
     "text": [
      "\r",
      "Saving vectors of label - 'hajer':  50%|██▌  | 100/200 [00:16<00:16,  6.23it/s]"
     ]
    },
    {
     "name": "stdout",
     "output_type": "stream",
     "text": [
      "./data/hajer/hajer19.wav\n"
     ]
    },
    {
     "name": "stderr",
     "output_type": "stream",
     "text": [
      "\r",
      "Saving vectors of label - 'hajer':  50%|██▌  | 101/200 [00:16<00:15,  6.24it/s]"
     ]
    },
    {
     "name": "stdout",
     "output_type": "stream",
     "text": [
      "./data/hajer/hajer190.wav\n"
     ]
    },
    {
     "name": "stderr",
     "output_type": "stream",
     "text": [
      "\r",
      "Saving vectors of label - 'hajer':  51%|██▌  | 102/200 [00:16<00:15,  6.23it/s]"
     ]
    },
    {
     "name": "stdout",
     "output_type": "stream",
     "text": [
      "./data/hajer/hajer191.wav\n"
     ]
    },
    {
     "name": "stderr",
     "output_type": "stream",
     "text": [
      "\r",
      "Saving vectors of label - 'hajer':  52%|██▌  | 103/200 [00:16<00:15,  6.23it/s]"
     ]
    },
    {
     "name": "stdout",
     "output_type": "stream",
     "text": [
      "./data/hajer/hajer192.wav\n"
     ]
    },
    {
     "name": "stderr",
     "output_type": "stream",
     "text": [
      "\r",
      "Saving vectors of label - 'hajer':  52%|██▌  | 104/200 [00:16<00:15,  6.23it/s]"
     ]
    },
    {
     "name": "stdout",
     "output_type": "stream",
     "text": [
      "./data/hajer/hajer193.wav\n"
     ]
    },
    {
     "name": "stderr",
     "output_type": "stream",
     "text": [
      "\r",
      "Saving vectors of label - 'hajer':  52%|██▋  | 105/200 [00:16<00:15,  6.22it/s]"
     ]
    },
    {
     "name": "stdout",
     "output_type": "stream",
     "text": [
      "./data/hajer/hajer194.wav\n"
     ]
    },
    {
     "name": "stderr",
     "output_type": "stream",
     "text": [
      "\r",
      "Saving vectors of label - 'hajer':  53%|██▋  | 106/200 [00:17<00:15,  6.22it/s]"
     ]
    },
    {
     "name": "stdout",
     "output_type": "stream",
     "text": [
      "./data/hajer/hajer195.wav\n"
     ]
    },
    {
     "name": "stderr",
     "output_type": "stream",
     "text": [
      "\r",
      "Saving vectors of label - 'hajer':  54%|██▋  | 107/200 [00:17<00:15,  6.19it/s]"
     ]
    },
    {
     "name": "stdout",
     "output_type": "stream",
     "text": [
      "./data/hajer/hajer196.wav\n"
     ]
    },
    {
     "name": "stderr",
     "output_type": "stream",
     "text": [
      "\r",
      "Saving vectors of label - 'hajer':  54%|██▋  | 108/200 [00:17<00:14,  6.19it/s]"
     ]
    },
    {
     "name": "stdout",
     "output_type": "stream",
     "text": [
      "./data/hajer/hajer197.wav\n"
     ]
    },
    {
     "name": "stderr",
     "output_type": "stream",
     "text": [
      "\r",
      "Saving vectors of label - 'hajer':  55%|██▋  | 109/200 [00:17<00:14,  6.10it/s]"
     ]
    },
    {
     "name": "stdout",
     "output_type": "stream",
     "text": [
      "./data/hajer/hajer198.wav\n"
     ]
    },
    {
     "name": "stderr",
     "output_type": "stream",
     "text": [
      "\r",
      "Saving vectors of label - 'hajer':  55%|██▊  | 110/200 [00:18<00:14,  6.09it/s]"
     ]
    },
    {
     "name": "stdout",
     "output_type": "stream",
     "text": [
      "./data/hajer/hajer199.wav\n"
     ]
    },
    {
     "name": "stderr",
     "output_type": "stream",
     "text": [
      "\r",
      "Saving vectors of label - 'hajer':  56%|██▊  | 111/200 [00:18<00:14,  6.08it/s]"
     ]
    },
    {
     "name": "stdout",
     "output_type": "stream",
     "text": [
      "./data/hajer/hajer2.wav\n"
     ]
    },
    {
     "name": "stderr",
     "output_type": "stream",
     "text": [
      "\r",
      "Saving vectors of label - 'hajer':  56%|██▊  | 112/200 [00:18<00:14,  6.07it/s]"
     ]
    },
    {
     "name": "stdout",
     "output_type": "stream",
     "text": [
      "./data/hajer/hajer20.wav\n"
     ]
    },
    {
     "name": "stderr",
     "output_type": "stream",
     "text": [
      "\r",
      "Saving vectors of label - 'hajer':  56%|██▊  | 113/200 [00:18<00:14,  6.08it/s]"
     ]
    },
    {
     "name": "stdout",
     "output_type": "stream",
     "text": [
      "./data/hajer/hajer200.wav\n"
     ]
    },
    {
     "name": "stderr",
     "output_type": "stream",
     "text": [
      "\r",
      "Saving vectors of label - 'hajer':  57%|██▊  | 114/200 [00:18<00:14,  6.09it/s]"
     ]
    },
    {
     "name": "stdout",
     "output_type": "stream",
     "text": [
      "./data/hajer/hajer21.wav\n"
     ]
    },
    {
     "name": "stderr",
     "output_type": "stream",
     "text": [
      "\r",
      "Saving vectors of label - 'hajer':  57%|██▉  | 115/200 [00:18<00:13,  6.10it/s]"
     ]
    },
    {
     "name": "stdout",
     "output_type": "stream",
     "text": [
      "./data/hajer/hajer22.wav\n"
     ]
    },
    {
     "name": "stderr",
     "output_type": "stream",
     "text": [
      "\r",
      "Saving vectors of label - 'hajer':  58%|██▉  | 116/200 [00:18<00:13,  6.11it/s]"
     ]
    },
    {
     "name": "stdout",
     "output_type": "stream",
     "text": [
      "./data/hajer/hajer23.wav\n",
      "./data/hajer/hajer24.wav\n"
     ]
    },
    {
     "name": "stderr",
     "output_type": "stream",
     "text": [
      "\r",
      "Saving vectors of label - 'hajer':  59%|██▉  | 118/200 [00:19<00:13,  6.15it/s]"
     ]
    },
    {
     "name": "stdout",
     "output_type": "stream",
     "text": [
      "./data/hajer/hajer25.wav\n",
      "./data/hajer/hajer26.wav\n"
     ]
    },
    {
     "name": "stderr",
     "output_type": "stream",
     "text": [
      "\r",
      "Saving vectors of label - 'hajer':  60%|███  | 120/200 [00:19<00:12,  6.18it/s]"
     ]
    },
    {
     "name": "stdout",
     "output_type": "stream",
     "text": [
      "./data/hajer/hajer27.wav\n"
     ]
    },
    {
     "name": "stderr",
     "output_type": "stream",
     "text": [
      "\r",
      "Saving vectors of label - 'hajer':  60%|███  | 121/200 [00:19<00:12,  6.20it/s]"
     ]
    },
    {
     "name": "stdout",
     "output_type": "stream",
     "text": [
      "./data/hajer/hajer28.wav\n"
     ]
    },
    {
     "name": "stderr",
     "output_type": "stream",
     "text": [
      "\r",
      "Saving vectors of label - 'hajer':  61%|███  | 122/200 [00:19<00:12,  6.21it/s]"
     ]
    },
    {
     "name": "stdout",
     "output_type": "stream",
     "text": [
      "./data/hajer/hajer29.wav\n"
     ]
    },
    {
     "name": "stderr",
     "output_type": "stream",
     "text": [
      "\r",
      "Saving vectors of label - 'hajer':  62%|███  | 123/200 [00:19<00:12,  6.21it/s]"
     ]
    },
    {
     "name": "stdout",
     "output_type": "stream",
     "text": [
      "./data/hajer/hajer3.wav\n"
     ]
    },
    {
     "name": "stderr",
     "output_type": "stream",
     "text": [
      "\r",
      "Saving vectors of label - 'hajer':  62%|███  | 124/200 [00:19<00:12,  6.22it/s]"
     ]
    },
    {
     "name": "stdout",
     "output_type": "stream",
     "text": [
      "./data/hajer/hajer30.wav\n"
     ]
    },
    {
     "name": "stderr",
     "output_type": "stream",
     "text": [
      "\r",
      "Saving vectors of label - 'hajer':  62%|███▏ | 125/200 [00:20<00:12,  6.24it/s]"
     ]
    },
    {
     "name": "stdout",
     "output_type": "stream",
     "text": [
      "./data/hajer/hajer31.wav\n"
     ]
    },
    {
     "name": "stderr",
     "output_type": "stream",
     "text": [
      "\r",
      "Saving vectors of label - 'hajer':  63%|███▏ | 126/200 [00:20<00:11,  6.24it/s]"
     ]
    },
    {
     "name": "stdout",
     "output_type": "stream",
     "text": [
      "./data/hajer/hajer32.wav\n"
     ]
    },
    {
     "name": "stderr",
     "output_type": "stream",
     "text": [
      "\r",
      "Saving vectors of label - 'hajer':  64%|███▏ | 127/200 [00:20<00:11,  6.26it/s]"
     ]
    },
    {
     "name": "stdout",
     "output_type": "stream",
     "text": [
      "./data/hajer/hajer33.wav\n"
     ]
    },
    {
     "name": "stderr",
     "output_type": "stream",
     "text": [
      "\r",
      "Saving vectors of label - 'hajer':  64%|███▏ | 128/200 [00:20<00:11,  6.27it/s]"
     ]
    },
    {
     "name": "stdout",
     "output_type": "stream",
     "text": [
      "./data/hajer/hajer34.wav\n",
      "./data/hajer/hajer35.wav\n"
     ]
    },
    {
     "name": "stderr",
     "output_type": "stream",
     "text": [
      "\r",
      "Saving vectors of label - 'hajer':  65%|███▎ | 130/200 [00:20<00:11,  6.30it/s]"
     ]
    },
    {
     "name": "stdout",
     "output_type": "stream",
     "text": [
      "./data/hajer/hajer36.wav\n"
     ]
    },
    {
     "name": "stderr",
     "output_type": "stream",
     "text": [
      "\r",
      "Saving vectors of label - 'hajer':  66%|███▎ | 131/200 [00:20<00:10,  6.31it/s]"
     ]
    },
    {
     "name": "stdout",
     "output_type": "stream",
     "text": [
      "./data/hajer/hajer37.wav\n"
     ]
    },
    {
     "name": "stderr",
     "output_type": "stream",
     "text": [
      "\r",
      "Saving vectors of label - 'hajer':  66%|███▎ | 132/200 [00:20<00:10,  6.33it/s]"
     ]
    },
    {
     "name": "stdout",
     "output_type": "stream",
     "text": [
      "./data/hajer/hajer38.wav\n"
     ]
    },
    {
     "name": "stderr",
     "output_type": "stream",
     "text": [
      "\r",
      "Saving vectors of label - 'hajer':  66%|███▎ | 133/200 [00:21<00:10,  6.32it/s]"
     ]
    },
    {
     "name": "stdout",
     "output_type": "stream",
     "text": [
      "./data/hajer/hajer39.wav\n"
     ]
    },
    {
     "name": "stderr",
     "output_type": "stream",
     "text": [
      "\r",
      "Saving vectors of label - 'hajer':  67%|███▎ | 134/200 [00:21<00:10,  6.31it/s]"
     ]
    },
    {
     "name": "stdout",
     "output_type": "stream",
     "text": [
      "./data/hajer/hajer4.wav\n"
     ]
    },
    {
     "name": "stderr",
     "output_type": "stream",
     "text": [
      "\r",
      "Saving vectors of label - 'hajer':  68%|███▍ | 135/200 [00:21<00:10,  6.32it/s]"
     ]
    },
    {
     "name": "stdout",
     "output_type": "stream",
     "text": [
      "./data/hajer/hajer40.wav\n"
     ]
    },
    {
     "name": "stderr",
     "output_type": "stream",
     "text": [
      "\r",
      "Saving vectors of label - 'hajer':  68%|███▍ | 136/200 [00:21<00:10,  6.33it/s]"
     ]
    },
    {
     "name": "stdout",
     "output_type": "stream",
     "text": [
      "./data/hajer/hajer41.wav\n",
      "./data/hajer/hajer42.wav\n"
     ]
    },
    {
     "name": "stderr",
     "output_type": "stream",
     "text": [
      "\r",
      "Saving vectors of label - 'hajer':  69%|███▍ | 138/200 [00:21<00:09,  6.36it/s]"
     ]
    },
    {
     "name": "stdout",
     "output_type": "stream",
     "text": [
      "./data/hajer/hajer43.wav\n"
     ]
    },
    {
     "name": "stderr",
     "output_type": "stream",
     "text": [
      "\r",
      "Saving vectors of label - 'hajer':  70%|███▍ | 139/200 [00:21<00:09,  6.37it/s]"
     ]
    },
    {
     "name": "stdout",
     "output_type": "stream",
     "text": [
      "./data/hajer/hajer44.wav\n"
     ]
    },
    {
     "name": "stderr",
     "output_type": "stream",
     "text": [
      "\r",
      "Saving vectors of label - 'hajer':  70%|███▌ | 140/200 [00:21<00:09,  6.38it/s]"
     ]
    },
    {
     "name": "stdout",
     "output_type": "stream",
     "text": [
      "./data/hajer/hajer45.wav\n"
     ]
    },
    {
     "name": "stderr",
     "output_type": "stream",
     "text": [
      "\r",
      "Saving vectors of label - 'hajer':  70%|███▌ | 141/200 [00:22<00:09,  6.39it/s]"
     ]
    },
    {
     "name": "stdout",
     "output_type": "stream",
     "text": [
      "./data/hajer/hajer46.wav\n"
     ]
    },
    {
     "name": "stderr",
     "output_type": "stream",
     "text": [
      "\r",
      "Saving vectors of label - 'hajer':  71%|███▌ | 142/200 [00:22<00:09,  6.40it/s]"
     ]
    },
    {
     "name": "stdout",
     "output_type": "stream",
     "text": [
      "./data/hajer/hajer47.wav\n"
     ]
    },
    {
     "name": "stderr",
     "output_type": "stream",
     "text": [
      "\r",
      "Saving vectors of label - 'hajer':  72%|███▌ | 143/200 [00:22<00:08,  6.40it/s]"
     ]
    },
    {
     "name": "stdout",
     "output_type": "stream",
     "text": [
      "./data/hajer/hajer48.wav\n"
     ]
    },
    {
     "name": "stderr",
     "output_type": "stream",
     "text": [
      "\r",
      "Saving vectors of label - 'hajer':  72%|███▌ | 144/200 [00:22<00:08,  6.41it/s]"
     ]
    },
    {
     "name": "stdout",
     "output_type": "stream",
     "text": [
      "./data/hajer/hajer49.wav\n"
     ]
    },
    {
     "name": "stderr",
     "output_type": "stream",
     "text": [
      "\r",
      "Saving vectors of label - 'hajer':  72%|███▋ | 145/200 [00:22<00:08,  6.41it/s]"
     ]
    },
    {
     "name": "stdout",
     "output_type": "stream",
     "text": [
      "./data/hajer/hajer5.wav\n"
     ]
    },
    {
     "name": "stderr",
     "output_type": "stream",
     "text": [
      "\r",
      "Saving vectors of label - 'hajer':  73%|███▋ | 146/200 [00:22<00:08,  6.42it/s]"
     ]
    },
    {
     "name": "stdout",
     "output_type": "stream",
     "text": [
      "./data/hajer/hajer50.wav\n"
     ]
    },
    {
     "name": "stderr",
     "output_type": "stream",
     "text": [
      "\r",
      "Saving vectors of label - 'hajer':  74%|███▋ | 147/200 [00:22<00:08,  6.42it/s]"
     ]
    },
    {
     "name": "stdout",
     "output_type": "stream",
     "text": [
      "./data/hajer/hajer51.wav\n"
     ]
    },
    {
     "name": "stderr",
     "output_type": "stream",
     "text": [
      "\r",
      "Saving vectors of label - 'hajer':  74%|███▋ | 148/200 [00:23<00:08,  6.43it/s]"
     ]
    },
    {
     "name": "stdout",
     "output_type": "stream",
     "text": [
      "./data/hajer/hajer52.wav\n"
     ]
    },
    {
     "name": "stderr",
     "output_type": "stream",
     "text": [
      "\r",
      "Saving vectors of label - 'hajer':  74%|███▋ | 149/200 [00:23<00:07,  6.44it/s]"
     ]
    },
    {
     "name": "stdout",
     "output_type": "stream",
     "text": [
      "./data/hajer/hajer53.wav\n"
     ]
    },
    {
     "name": "stderr",
     "output_type": "stream",
     "text": [
      "\r",
      "Saving vectors of label - 'hajer':  75%|███▊ | 150/200 [00:23<00:07,  6.43it/s]"
     ]
    },
    {
     "name": "stdout",
     "output_type": "stream",
     "text": [
      "./data/hajer/hajer54.wav\n"
     ]
    },
    {
     "name": "stderr",
     "output_type": "stream",
     "text": [
      "\r",
      "Saving vectors of label - 'hajer':  76%|███▊ | 151/200 [00:23<00:07,  6.43it/s]"
     ]
    },
    {
     "name": "stdout",
     "output_type": "stream",
     "text": [
      "./data/hajer/hajer55.wav\n"
     ]
    },
    {
     "name": "stderr",
     "output_type": "stream",
     "text": [
      "\r",
      "Saving vectors of label - 'hajer':  76%|███▊ | 152/200 [00:23<00:07,  6.44it/s]"
     ]
    },
    {
     "name": "stdout",
     "output_type": "stream",
     "text": [
      "./data/hajer/hajer56.wav\n"
     ]
    },
    {
     "name": "stderr",
     "output_type": "stream",
     "text": [
      "\r",
      "Saving vectors of label - 'hajer':  76%|███▊ | 153/200 [00:23<00:07,  6.45it/s]"
     ]
    },
    {
     "name": "stdout",
     "output_type": "stream",
     "text": [
      "./data/hajer/hajer57.wav\n"
     ]
    },
    {
     "name": "stderr",
     "output_type": "stream",
     "text": [
      "\r",
      "Saving vectors of label - 'hajer':  77%|███▊ | 154/200 [00:23<00:07,  6.45it/s]"
     ]
    },
    {
     "name": "stdout",
     "output_type": "stream",
     "text": [
      "./data/hajer/hajer58.wav\n"
     ]
    },
    {
     "name": "stderr",
     "output_type": "stream",
     "text": [
      "\r",
      "Saving vectors of label - 'hajer':  78%|███▉ | 155/200 [00:23<00:06,  6.46it/s]"
     ]
    },
    {
     "name": "stdout",
     "output_type": "stream",
     "text": [
      "./data/hajer/hajer59.wav\n"
     ]
    },
    {
     "name": "stderr",
     "output_type": "stream",
     "text": [
      "\r",
      "Saving vectors of label - 'hajer':  78%|███▉ | 156/200 [00:24<00:06,  6.47it/s]"
     ]
    },
    {
     "name": "stdout",
     "output_type": "stream",
     "text": [
      "./data/hajer/hajer6.wav\n"
     ]
    },
    {
     "name": "stderr",
     "output_type": "stream",
     "text": [
      "\r",
      "Saving vectors of label - 'hajer':  78%|███▉ | 157/200 [00:24<00:06,  6.49it/s]"
     ]
    },
    {
     "name": "stdout",
     "output_type": "stream",
     "text": [
      "./data/hajer/hajer60.wav\n"
     ]
    },
    {
     "name": "stderr",
     "output_type": "stream",
     "text": [
      "\r",
      "Saving vectors of label - 'hajer':  79%|███▉ | 158/200 [00:24<00:06,  6.49it/s]"
     ]
    },
    {
     "name": "stdout",
     "output_type": "stream",
     "text": [
      "./data/hajer/hajer61.wav\n"
     ]
    },
    {
     "name": "stderr",
     "output_type": "stream",
     "text": [
      "\r",
      "Saving vectors of label - 'hajer':  80%|███▉ | 159/200 [00:24<00:06,  6.49it/s]"
     ]
    },
    {
     "name": "stdout",
     "output_type": "stream",
     "text": [
      "./data/hajer/hajer62.wav\n"
     ]
    },
    {
     "name": "stderr",
     "output_type": "stream",
     "text": [
      "\r",
      "Saving vectors of label - 'hajer':  80%|████ | 160/200 [00:24<00:06,  6.49it/s]"
     ]
    },
    {
     "name": "stdout",
     "output_type": "stream",
     "text": [
      "./data/hajer/hajer63.wav\n"
     ]
    },
    {
     "name": "stderr",
     "output_type": "stream",
     "text": [
      "\r",
      "Saving vectors of label - 'hajer':  80%|████ | 161/200 [00:24<00:06,  6.49it/s]"
     ]
    },
    {
     "name": "stdout",
     "output_type": "stream",
     "text": [
      "./data/hajer/hajer64.wav\n"
     ]
    },
    {
     "name": "stderr",
     "output_type": "stream",
     "text": [
      "\r",
      "Saving vectors of label - 'hajer':  81%|████ | 162/200 [00:24<00:05,  6.50it/s]"
     ]
    },
    {
     "name": "stdout",
     "output_type": "stream",
     "text": [
      "./data/hajer/hajer65.wav\n"
     ]
    },
    {
     "name": "stderr",
     "output_type": "stream",
     "text": [
      "\r",
      "Saving vectors of label - 'hajer':  82%|████ | 163/200 [00:25<00:05,  6.51it/s]"
     ]
    },
    {
     "name": "stdout",
     "output_type": "stream",
     "text": [
      "./data/hajer/hajer66.wav\n"
     ]
    },
    {
     "name": "stderr",
     "output_type": "stream",
     "text": [
      "\r",
      "Saving vectors of label - 'hajer':  82%|████ | 164/200 [00:25<00:05,  6.52it/s]"
     ]
    },
    {
     "name": "stdout",
     "output_type": "stream",
     "text": [
      "./data/hajer/hajer67.wav\n"
     ]
    },
    {
     "name": "stderr",
     "output_type": "stream",
     "text": [
      "\r",
      "Saving vectors of label - 'hajer':  82%|████▏| 165/200 [00:25<00:05,  6.53it/s]"
     ]
    },
    {
     "name": "stdout",
     "output_type": "stream",
     "text": [
      "./data/hajer/hajer68.wav\n"
     ]
    },
    {
     "name": "stderr",
     "output_type": "stream",
     "text": [
      "\r",
      "Saving vectors of label - 'hajer':  83%|████▏| 166/200 [00:25<00:05,  6.52it/s]"
     ]
    },
    {
     "name": "stdout",
     "output_type": "stream",
     "text": [
      "./data/hajer/hajer69.wav\n"
     ]
    },
    {
     "name": "stderr",
     "output_type": "stream",
     "text": [
      "\r",
      "Saving vectors of label - 'hajer':  84%|████▏| 167/200 [00:25<00:05,  6.53it/s]"
     ]
    },
    {
     "name": "stdout",
     "output_type": "stream",
     "text": [
      "./data/hajer/hajer7.wav\n"
     ]
    },
    {
     "name": "stderr",
     "output_type": "stream",
     "text": [
      "\r",
      "Saving vectors of label - 'hajer':  84%|████▏| 168/200 [00:25<00:04,  6.53it/s]"
     ]
    },
    {
     "name": "stdout",
     "output_type": "stream",
     "text": [
      "./data/hajer/hajer70.wav\n"
     ]
    },
    {
     "name": "stderr",
     "output_type": "stream",
     "text": [
      "\r",
      "Saving vectors of label - 'hajer':  84%|████▏| 169/200 [00:25<00:04,  6.53it/s]"
     ]
    },
    {
     "name": "stdout",
     "output_type": "stream",
     "text": [
      "./data/hajer/hajer71.wav\n"
     ]
    },
    {
     "name": "stderr",
     "output_type": "stream",
     "text": [
      "\r",
      "Saving vectors of label - 'hajer':  85%|████▎| 170/200 [00:26<00:04,  6.51it/s]"
     ]
    },
    {
     "name": "stdout",
     "output_type": "stream",
     "text": [
      "./data/hajer/hajer72.wav\n"
     ]
    },
    {
     "name": "stderr",
     "output_type": "stream",
     "text": [
      "\r",
      "Saving vectors of label - 'hajer':  86%|████▎| 171/200 [00:26<00:04,  6.51it/s]"
     ]
    },
    {
     "name": "stdout",
     "output_type": "stream",
     "text": [
      "./data/hajer/hajer73.wav\n"
     ]
    },
    {
     "name": "stderr",
     "output_type": "stream",
     "text": [
      "\r",
      "Saving vectors of label - 'hajer':  86%|████▎| 172/200 [00:26<00:04,  6.51it/s]"
     ]
    },
    {
     "name": "stdout",
     "output_type": "stream",
     "text": [
      "./data/hajer/hajer74.wav\n"
     ]
    },
    {
     "name": "stderr",
     "output_type": "stream",
     "text": [
      "\r",
      "Saving vectors of label - 'hajer':  86%|████▎| 173/200 [00:26<00:04,  6.52it/s]"
     ]
    },
    {
     "name": "stdout",
     "output_type": "stream",
     "text": [
      "./data/hajer/hajer75.wav\n"
     ]
    },
    {
     "name": "stderr",
     "output_type": "stream",
     "text": [
      "\r",
      "Saving vectors of label - 'hajer':  87%|████▎| 174/200 [00:26<00:03,  6.52it/s]"
     ]
    },
    {
     "name": "stdout",
     "output_type": "stream",
     "text": [
      "./data/hajer/hajer76.wav\n"
     ]
    },
    {
     "name": "stderr",
     "output_type": "stream",
     "text": [
      "\r",
      "Saving vectors of label - 'hajer':  88%|████▍| 175/200 [00:26<00:03,  6.53it/s]"
     ]
    },
    {
     "name": "stdout",
     "output_type": "stream",
     "text": [
      "./data/hajer/hajer77.wav\n"
     ]
    },
    {
     "name": "stderr",
     "output_type": "stream",
     "text": [
      "\r",
      "Saving vectors of label - 'hajer':  88%|████▍| 176/200 [00:26<00:03,  6.52it/s]"
     ]
    },
    {
     "name": "stdout",
     "output_type": "stream",
     "text": [
      "./data/hajer/hajer78.wav\n"
     ]
    },
    {
     "name": "stderr",
     "output_type": "stream",
     "text": [
      "\r",
      "Saving vectors of label - 'hajer':  88%|████▍| 177/200 [00:27<00:03,  6.51it/s]"
     ]
    },
    {
     "name": "stdout",
     "output_type": "stream",
     "text": [
      "./data/hajer/hajer79.wav\n"
     ]
    },
    {
     "name": "stderr",
     "output_type": "stream",
     "text": [
      "\r",
      "Saving vectors of label - 'hajer':  89%|████▍| 178/200 [00:27<00:03,  6.51it/s]"
     ]
    },
    {
     "name": "stdout",
     "output_type": "stream",
     "text": [
      "./data/hajer/hajer8.wav\n"
     ]
    },
    {
     "name": "stderr",
     "output_type": "stream",
     "text": [
      "\r",
      "Saving vectors of label - 'hajer':  90%|████▍| 179/200 [00:27<00:03,  6.52it/s]"
     ]
    },
    {
     "name": "stdout",
     "output_type": "stream",
     "text": [
      "./data/hajer/hajer80.wav\n"
     ]
    },
    {
     "name": "stderr",
     "output_type": "stream",
     "text": [
      "\r",
      "Saving vectors of label - 'hajer':  90%|████▌| 180/200 [00:27<00:03,  6.53it/s]"
     ]
    },
    {
     "name": "stdout",
     "output_type": "stream",
     "text": [
      "./data/hajer/hajer81.wav\n"
     ]
    },
    {
     "name": "stderr",
     "output_type": "stream",
     "text": [
      "\r",
      "Saving vectors of label - 'hajer':  90%|████▌| 181/200 [00:27<00:02,  6.52it/s]"
     ]
    },
    {
     "name": "stdout",
     "output_type": "stream",
     "text": [
      "./data/hajer/hajer82.wav\n"
     ]
    },
    {
     "name": "stderr",
     "output_type": "stream",
     "text": [
      "\r",
      "Saving vectors of label - 'hajer':  91%|████▌| 182/200 [00:27<00:02,  6.53it/s]"
     ]
    },
    {
     "name": "stdout",
     "output_type": "stream",
     "text": [
      "./data/hajer/hajer83.wav\n"
     ]
    },
    {
     "name": "stderr",
     "output_type": "stream",
     "text": [
      "\r",
      "Saving vectors of label - 'hajer':  92%|████▌| 183/200 [00:28<00:02,  6.53it/s]"
     ]
    },
    {
     "name": "stdout",
     "output_type": "stream",
     "text": [
      "./data/hajer/hajer84.wav\n"
     ]
    },
    {
     "name": "stderr",
     "output_type": "stream",
     "text": [
      "\r",
      "Saving vectors of label - 'hajer':  92%|████▌| 184/200 [00:28<00:02,  6.53it/s]"
     ]
    },
    {
     "name": "stdout",
     "output_type": "stream",
     "text": [
      "./data/hajer/hajer85.wav\n"
     ]
    },
    {
     "name": "stderr",
     "output_type": "stream",
     "text": [
      "\r",
      "Saving vectors of label - 'hajer':  92%|████▋| 185/200 [00:28<00:02,  6.54it/s]"
     ]
    },
    {
     "name": "stdout",
     "output_type": "stream",
     "text": [
      "./data/hajer/hajer86.wav\n"
     ]
    },
    {
     "name": "stderr",
     "output_type": "stream",
     "text": [
      "\r",
      "Saving vectors of label - 'hajer':  93%|████▋| 186/200 [00:28<00:02,  6.53it/s]"
     ]
    },
    {
     "name": "stdout",
     "output_type": "stream",
     "text": [
      "./data/hajer/hajer87.wav\n"
     ]
    },
    {
     "name": "stderr",
     "output_type": "stream",
     "text": [
      "\r",
      "Saving vectors of label - 'hajer':  94%|████▋| 187/200 [00:28<00:01,  6.54it/s]"
     ]
    },
    {
     "name": "stdout",
     "output_type": "stream",
     "text": [
      "./data/hajer/hajer88.wav\n"
     ]
    },
    {
     "name": "stderr",
     "output_type": "stream",
     "text": [
      "\r",
      "Saving vectors of label - 'hajer':  94%|████▋| 188/200 [00:28<00:01,  6.54it/s]"
     ]
    },
    {
     "name": "stdout",
     "output_type": "stream",
     "text": [
      "./data/hajer/hajer89.wav\n"
     ]
    },
    {
     "name": "stderr",
     "output_type": "stream",
     "text": [
      "\r",
      "Saving vectors of label - 'hajer':  94%|████▋| 189/200 [00:28<00:01,  6.54it/s]"
     ]
    },
    {
     "name": "stdout",
     "output_type": "stream",
     "text": [
      "./data/hajer/hajer9.wav\n"
     ]
    },
    {
     "name": "stderr",
     "output_type": "stream",
     "text": [
      "\r",
      "Saving vectors of label - 'hajer':  95%|████▊| 190/200 [00:28<00:01,  6.55it/s]"
     ]
    },
    {
     "name": "stdout",
     "output_type": "stream",
     "text": [
      "./data/hajer/hajer90.wav\n"
     ]
    },
    {
     "name": "stderr",
     "output_type": "stream",
     "text": [
      "\r",
      "Saving vectors of label - 'hajer':  96%|████▊| 191/200 [00:29<00:01,  6.55it/s]"
     ]
    },
    {
     "name": "stdout",
     "output_type": "stream",
     "text": [
      "./data/hajer/hajer91.wav\n"
     ]
    },
    {
     "name": "stderr",
     "output_type": "stream",
     "text": [
      "\r",
      "Saving vectors of label - 'hajer':  96%|████▊| 192/200 [00:29<00:01,  6.55it/s]"
     ]
    },
    {
     "name": "stdout",
     "output_type": "stream",
     "text": [
      "./data/hajer/hajer92.wav\n"
     ]
    },
    {
     "name": "stderr",
     "output_type": "stream",
     "text": [
      "\r",
      "Saving vectors of label - 'hajer':  96%|████▊| 193/200 [00:29<00:01,  6.55it/s]"
     ]
    },
    {
     "name": "stdout",
     "output_type": "stream",
     "text": [
      "./data/hajer/hajer93.wav\n"
     ]
    },
    {
     "name": "stderr",
     "output_type": "stream",
     "text": [
      "\r",
      "Saving vectors of label - 'hajer':  97%|████▊| 194/200 [00:29<00:00,  6.56it/s]"
     ]
    },
    {
     "name": "stdout",
     "output_type": "stream",
     "text": [
      "./data/hajer/hajer94.wav\n"
     ]
    },
    {
     "name": "stderr",
     "output_type": "stream",
     "text": [
      "\r",
      "Saving vectors of label - 'hajer':  98%|████▉| 195/200 [00:29<00:00,  6.55it/s]"
     ]
    },
    {
     "name": "stdout",
     "output_type": "stream",
     "text": [
      "./data/hajer/hajer95.wav\n"
     ]
    },
    {
     "name": "stderr",
     "output_type": "stream",
     "text": [
      "\r",
      "Saving vectors of label - 'hajer':  98%|████▉| 196/200 [00:29<00:00,  6.55it/s]"
     ]
    },
    {
     "name": "stdout",
     "output_type": "stream",
     "text": [
      "./data/hajer/hajer96.wav\n"
     ]
    },
    {
     "name": "stderr",
     "output_type": "stream",
     "text": [
      "\r",
      "Saving vectors of label - 'hajer':  98%|████▉| 197/200 [00:30<00:00,  6.54it/s]"
     ]
    },
    {
     "name": "stdout",
     "output_type": "stream",
     "text": [
      "./data/hajer/hajer97.wav\n"
     ]
    },
    {
     "name": "stderr",
     "output_type": "stream",
     "text": [
      "\r",
      "Saving vectors of label - 'hajer':  99%|████▉| 198/200 [00:30<00:00,  6.54it/s]"
     ]
    },
    {
     "name": "stdout",
     "output_type": "stream",
     "text": [
      "./data/hajer/hajer98.wav\n"
     ]
    },
    {
     "name": "stderr",
     "output_type": "stream",
     "text": [
      "\r",
      "Saving vectors of label - 'hajer': 100%|████▉| 199/200 [00:30<00:00,  6.54it/s]"
     ]
    },
    {
     "name": "stdout",
     "output_type": "stream",
     "text": [
      "./data/hajer/hajer99.wav\n"
     ]
    },
    {
     "name": "stderr",
     "output_type": "stream",
     "text": [
      "Saving vectors of label - 'hajer': 100%|█████| 200/200 [00:30<00:00,  6.55it/s]\n",
      "Saving vectors of label - 'macron':   0%|              | 0/100 [00:00<?, ?it/s]"
     ]
    },
    {
     "name": "stdout",
     "output_type": "stream",
     "text": [
      "./data/macron/macron1.wav\n"
     ]
    },
    {
     "name": "stderr",
     "output_type": "stream",
     "text": [
      "\r",
      "Saving vectors of label - 'macron':   1%|      | 1/100 [00:00<00:39,  2.52it/s]"
     ]
    },
    {
     "name": "stdout",
     "output_type": "stream",
     "text": [
      "./data/macron/macron10.wav\n"
     ]
    },
    {
     "name": "stderr",
     "output_type": "stream",
     "text": [
      "\r",
      "Saving vectors of label - 'macron':   2%|      | 2/100 [00:00<00:30,  3.22it/s]"
     ]
    },
    {
     "name": "stdout",
     "output_type": "stream",
     "text": [
      "./data/macron/macron100.wav\n"
     ]
    },
    {
     "name": "stderr",
     "output_type": "stream",
     "text": [
      "\r",
      "Saving vectors of label - 'macron':   3%|▏     | 3/100 [00:00<00:26,  3.73it/s]"
     ]
    },
    {
     "name": "stdout",
     "output_type": "stream",
     "text": [
      "./data/macron/macron11.wav\n"
     ]
    },
    {
     "name": "stderr",
     "output_type": "stream",
     "text": [
      "\r",
      "Saving vectors of label - 'macron':   4%|▏     | 4/100 [00:01<00:24,  3.99it/s]"
     ]
    },
    {
     "name": "stdout",
     "output_type": "stream",
     "text": [
      "./data/macron/macron12.wav\n"
     ]
    },
    {
     "name": "stderr",
     "output_type": "stream",
     "text": [
      "\r",
      "Saving vectors of label - 'macron':   5%|▎     | 5/100 [00:01<00:23,  4.04it/s]"
     ]
    },
    {
     "name": "stdout",
     "output_type": "stream",
     "text": [
      "./data/macron/macron13.wav\n"
     ]
    },
    {
     "name": "stderr",
     "output_type": "stream",
     "text": [
      "\r",
      "Saving vectors of label - 'macron':   6%|▎     | 6/100 [00:01<00:22,  4.15it/s]"
     ]
    },
    {
     "name": "stdout",
     "output_type": "stream",
     "text": [
      "./data/macron/macron14.wav\n"
     ]
    },
    {
     "name": "stderr",
     "output_type": "stream",
     "text": [
      "\r",
      "Saving vectors of label - 'macron':   7%|▍     | 7/100 [00:01<00:22,  4.21it/s]"
     ]
    },
    {
     "name": "stdout",
     "output_type": "stream",
     "text": [
      "./data/macron/macron15.wav\n"
     ]
    },
    {
     "name": "stderr",
     "output_type": "stream",
     "text": [
      "\r",
      "Saving vectors of label - 'macron':   8%|▍     | 8/100 [00:01<00:21,  4.37it/s]"
     ]
    },
    {
     "name": "stdout",
     "output_type": "stream",
     "text": [
      "./data/macron/macron16.wav\n"
     ]
    },
    {
     "name": "stderr",
     "output_type": "stream",
     "text": [
      "\r",
      "Saving vectors of label - 'macron':   9%|▌     | 9/100 [00:02<00:20,  4.45it/s]"
     ]
    },
    {
     "name": "stdout",
     "output_type": "stream",
     "text": [
      "./data/macron/macron17.wav\n"
     ]
    },
    {
     "name": "stderr",
     "output_type": "stream",
     "text": [
      "\r",
      "Saving vectors of label - 'macron':  10%|▌    | 10/100 [00:02<00:20,  4.38it/s]"
     ]
    },
    {
     "name": "stdout",
     "output_type": "stream",
     "text": [
      "./data/macron/macron18.wav\n"
     ]
    },
    {
     "name": "stderr",
     "output_type": "stream",
     "text": [
      "\r",
      "Saving vectors of label - 'macron':  11%|▌    | 11/100 [00:02<00:20,  4.39it/s]"
     ]
    },
    {
     "name": "stdout",
     "output_type": "stream",
     "text": [
      "./data/macron/macron19.wav\n"
     ]
    },
    {
     "name": "stderr",
     "output_type": "stream",
     "text": [
      "\r",
      "Saving vectors of label - 'macron':  12%|▌    | 12/100 [00:02<00:19,  4.47it/s]"
     ]
    },
    {
     "name": "stdout",
     "output_type": "stream",
     "text": [
      "./data/macron/macron2.wav\n"
     ]
    },
    {
     "name": "stderr",
     "output_type": "stream",
     "text": [
      "\r",
      "Saving vectors of label - 'macron':  13%|▋    | 13/100 [00:02<00:19,  4.53it/s]"
     ]
    },
    {
     "name": "stdout",
     "output_type": "stream",
     "text": [
      "./data/macron/macron20.wav\n"
     ]
    },
    {
     "name": "stderr",
     "output_type": "stream",
     "text": [
      "\r",
      "Saving vectors of label - 'macron':  14%|▋    | 14/100 [00:03<00:19,  4.52it/s]"
     ]
    },
    {
     "name": "stdout",
     "output_type": "stream",
     "text": [
      "./data/macron/macron21.wav\n"
     ]
    },
    {
     "name": "stderr",
     "output_type": "stream",
     "text": [
      "\r",
      "Saving vectors of label - 'macron':  15%|▊    | 15/100 [00:03<00:18,  4.57it/s]"
     ]
    },
    {
     "name": "stdout",
     "output_type": "stream",
     "text": [
      "./data/macron/macron22.wav\n"
     ]
    },
    {
     "name": "stderr",
     "output_type": "stream",
     "text": [
      "\r",
      "Saving vectors of label - 'macron':  16%|▊    | 16/100 [00:03<00:18,  4.52it/s]"
     ]
    },
    {
     "name": "stdout",
     "output_type": "stream",
     "text": [
      "./data/macron/macron23.wav\n"
     ]
    },
    {
     "name": "stderr",
     "output_type": "stream",
     "text": [
      "\r",
      "Saving vectors of label - 'macron':  17%|▊    | 17/100 [00:03<00:18,  4.53it/s]"
     ]
    },
    {
     "name": "stdout",
     "output_type": "stream",
     "text": [
      "./data/macron/macron24.wav\n"
     ]
    },
    {
     "name": "stderr",
     "output_type": "stream",
     "text": [
      "\r",
      "Saving vectors of label - 'macron':  18%|▉    | 18/100 [00:03<00:18,  4.56it/s]"
     ]
    },
    {
     "name": "stdout",
     "output_type": "stream",
     "text": [
      "./data/macron/macron25.wav\n"
     ]
    },
    {
     "name": "stderr",
     "output_type": "stream",
     "text": [
      "\r",
      "Saving vectors of label - 'macron':  19%|▉    | 19/100 [00:04<00:17,  4.59it/s]"
     ]
    },
    {
     "name": "stdout",
     "output_type": "stream",
     "text": [
      "./data/macron/macron26.wav\n"
     ]
    },
    {
     "name": "stderr",
     "output_type": "stream",
     "text": [
      "\r",
      "Saving vectors of label - 'macron':  20%|█    | 20/100 [00:04<00:17,  4.59it/s]"
     ]
    },
    {
     "name": "stdout",
     "output_type": "stream",
     "text": [
      "./data/macron/macron27.wav\n"
     ]
    },
    {
     "name": "stderr",
     "output_type": "stream",
     "text": [
      "\r",
      "Saving vectors of label - 'macron':  21%|█    | 21/100 [00:04<00:17,  4.61it/s]"
     ]
    },
    {
     "name": "stdout",
     "output_type": "stream",
     "text": [
      "./data/macron/macron28.wav\n"
     ]
    },
    {
     "name": "stderr",
     "output_type": "stream",
     "text": [
      "\r",
      "Saving vectors of label - 'macron':  22%|█    | 22/100 [00:04<00:16,  4.62it/s]"
     ]
    },
    {
     "name": "stdout",
     "output_type": "stream",
     "text": [
      "./data/macron/macron29.wav\n"
     ]
    },
    {
     "name": "stderr",
     "output_type": "stream",
     "text": [
      "\r",
      "Saving vectors of label - 'macron':  23%|█▏   | 23/100 [00:04<00:16,  4.60it/s]"
     ]
    },
    {
     "name": "stdout",
     "output_type": "stream",
     "text": [
      "./data/macron/macron3.wav\n"
     ]
    },
    {
     "name": "stderr",
     "output_type": "stream",
     "text": [
      "\r",
      "Saving vectors of label - 'macron':  24%|█▏   | 24/100 [00:05<00:16,  4.59it/s]"
     ]
    },
    {
     "name": "stdout",
     "output_type": "stream",
     "text": [
      "./data/macron/macron30.wav\n"
     ]
    },
    {
     "name": "stderr",
     "output_type": "stream",
     "text": [
      "\r",
      "Saving vectors of label - 'macron':  25%|█▎   | 25/100 [00:05<00:16,  4.60it/s]"
     ]
    },
    {
     "name": "stdout",
     "output_type": "stream",
     "text": [
      "./data/macron/macron31.wav\n"
     ]
    },
    {
     "name": "stderr",
     "output_type": "stream",
     "text": [
      "\r",
      "Saving vectors of label - 'macron':  26%|█▎   | 26/100 [00:05<00:15,  4.63it/s]"
     ]
    },
    {
     "name": "stdout",
     "output_type": "stream",
     "text": [
      "./data/macron/macron32.wav\n"
     ]
    },
    {
     "name": "stderr",
     "output_type": "stream",
     "text": [
      "\r",
      "Saving vectors of label - 'macron':  27%|█▎   | 27/100 [00:05<00:15,  4.63it/s]"
     ]
    },
    {
     "name": "stdout",
     "output_type": "stream",
     "text": [
      "./data/macron/macron33.wav\n"
     ]
    },
    {
     "name": "stderr",
     "output_type": "stream",
     "text": [
      "\r",
      "Saving vectors of label - 'macron':  28%|█▍   | 28/100 [00:06<00:15,  4.61it/s]"
     ]
    },
    {
     "name": "stdout",
     "output_type": "stream",
     "text": [
      "./data/macron/macron34.wav\n"
     ]
    },
    {
     "name": "stderr",
     "output_type": "stream",
     "text": [
      "\r",
      "Saving vectors of label - 'macron':  29%|█▍   | 29/100 [00:06<00:15,  4.59it/s]"
     ]
    },
    {
     "name": "stdout",
     "output_type": "stream",
     "text": [
      "./data/macron/macron35.wav\n"
     ]
    },
    {
     "name": "stderr",
     "output_type": "stream",
     "text": [
      "\r",
      "Saving vectors of label - 'macron':  30%|█▌   | 30/100 [00:06<00:15,  4.62it/s]"
     ]
    },
    {
     "name": "stdout",
     "output_type": "stream",
     "text": [
      "./data/macron/macron36.wav\n"
     ]
    },
    {
     "name": "stderr",
     "output_type": "stream",
     "text": [
      "\r",
      "Saving vectors of label - 'macron':  31%|█▌   | 31/100 [00:06<00:14,  4.63it/s]"
     ]
    },
    {
     "name": "stdout",
     "output_type": "stream",
     "text": [
      "./data/macron/macron37.wav\n"
     ]
    },
    {
     "name": "stderr",
     "output_type": "stream",
     "text": [
      "\r",
      "Saving vectors of label - 'macron':  32%|█▌   | 32/100 [00:06<00:14,  4.63it/s]"
     ]
    },
    {
     "name": "stdout",
     "output_type": "stream",
     "text": [
      "./data/macron/macron38.wav\n"
     ]
    },
    {
     "name": "stderr",
     "output_type": "stream",
     "text": [
      "\r",
      "Saving vectors of label - 'macron':  33%|█▋   | 33/100 [00:07<00:14,  4.63it/s]"
     ]
    },
    {
     "name": "stdout",
     "output_type": "stream",
     "text": [
      "./data/macron/macron39.wav\n"
     ]
    },
    {
     "name": "stderr",
     "output_type": "stream",
     "text": [
      "\r",
      "Saving vectors of label - 'macron':  34%|█▋   | 34/100 [00:07<00:14,  4.63it/s]"
     ]
    },
    {
     "name": "stdout",
     "output_type": "stream",
     "text": [
      "./data/macron/macron4.wav\n"
     ]
    },
    {
     "name": "stderr",
     "output_type": "stream",
     "text": [
      "\r",
      "Saving vectors of label - 'macron':  35%|█▊   | 35/100 [00:07<00:13,  4.66it/s]"
     ]
    },
    {
     "name": "stdout",
     "output_type": "stream",
     "text": [
      "./data/macron/macron40.wav\n"
     ]
    },
    {
     "name": "stderr",
     "output_type": "stream",
     "text": [
      "\r",
      "Saving vectors of label - 'macron':  36%|█▊   | 36/100 [00:07<00:13,  4.67it/s]"
     ]
    },
    {
     "name": "stdout",
     "output_type": "stream",
     "text": [
      "./data/macron/macron41.wav\n"
     ]
    },
    {
     "name": "stderr",
     "output_type": "stream",
     "text": [
      "\r",
      "Saving vectors of label - 'macron':  37%|█▊   | 37/100 [00:07<00:13,  4.68it/s]"
     ]
    },
    {
     "name": "stdout",
     "output_type": "stream",
     "text": [
      "./data/macron/macron42.wav\n"
     ]
    },
    {
     "name": "stderr",
     "output_type": "stream",
     "text": [
      "\r",
      "Saving vectors of label - 'macron':  38%|█▉   | 38/100 [00:08<00:13,  4.68it/s]"
     ]
    },
    {
     "name": "stdout",
     "output_type": "stream",
     "text": [
      "./data/macron/macron43.wav\n"
     ]
    },
    {
     "name": "stderr",
     "output_type": "stream",
     "text": [
      "\r",
      "Saving vectors of label - 'macron':  39%|█▉   | 39/100 [00:08<00:13,  4.69it/s]"
     ]
    },
    {
     "name": "stdout",
     "output_type": "stream",
     "text": [
      "./data/macron/macron44.wav\n"
     ]
    },
    {
     "name": "stderr",
     "output_type": "stream",
     "text": [
      "\r",
      "Saving vectors of label - 'macron':  40%|██   | 40/100 [00:08<00:12,  4.68it/s]"
     ]
    },
    {
     "name": "stdout",
     "output_type": "stream",
     "text": [
      "./data/macron/macron45.wav\n"
     ]
    },
    {
     "name": "stderr",
     "output_type": "stream",
     "text": [
      "\r",
      "Saving vectors of label - 'macron':  41%|██   | 41/100 [00:08<00:12,  4.65it/s]"
     ]
    },
    {
     "name": "stdout",
     "output_type": "stream",
     "text": [
      "./data/macron/macron46.wav\n"
     ]
    },
    {
     "name": "stderr",
     "output_type": "stream",
     "text": [
      "\r",
      "Saving vectors of label - 'macron':  42%|██   | 42/100 [00:09<00:12,  4.64it/s]"
     ]
    },
    {
     "name": "stdout",
     "output_type": "stream",
     "text": [
      "./data/macron/macron47.wav\n"
     ]
    },
    {
     "name": "stderr",
     "output_type": "stream",
     "text": [
      "\r",
      "Saving vectors of label - 'macron':  43%|██▏  | 43/100 [00:09<00:12,  4.63it/s]"
     ]
    },
    {
     "name": "stdout",
     "output_type": "stream",
     "text": [
      "./data/macron/macron48.wav\n"
     ]
    },
    {
     "name": "stderr",
     "output_type": "stream",
     "text": [
      "\r",
      "Saving vectors of label - 'macron':  44%|██▏  | 44/100 [00:09<00:12,  4.63it/s]"
     ]
    },
    {
     "name": "stdout",
     "output_type": "stream",
     "text": [
      "./data/macron/macron49.wav\n"
     ]
    },
    {
     "name": "stderr",
     "output_type": "stream",
     "text": [
      "\r",
      "Saving vectors of label - 'macron':  45%|██▎  | 45/100 [00:09<00:11,  4.61it/s]"
     ]
    },
    {
     "name": "stdout",
     "output_type": "stream",
     "text": [
      "./data/macron/macron5.wav\n"
     ]
    },
    {
     "name": "stderr",
     "output_type": "stream",
     "text": [
      "\r",
      "Saving vectors of label - 'macron':  46%|██▎  | 46/100 [00:10<00:11,  4.58it/s]"
     ]
    },
    {
     "name": "stdout",
     "output_type": "stream",
     "text": [
      "./data/macron/macron50.wav\n"
     ]
    },
    {
     "name": "stderr",
     "output_type": "stream",
     "text": [
      "\r",
      "Saving vectors of label - 'macron':  47%|██▎  | 47/100 [00:10<00:11,  4.57it/s]"
     ]
    },
    {
     "name": "stdout",
     "output_type": "stream",
     "text": [
      "./data/macron/macron51.wav\n"
     ]
    },
    {
     "name": "stderr",
     "output_type": "stream",
     "text": [
      "\r",
      "Saving vectors of label - 'macron':  48%|██▍  | 48/100 [00:10<00:11,  4.57it/s]"
     ]
    },
    {
     "name": "stdout",
     "output_type": "stream",
     "text": [
      "./data/macron/macron52.wav\n"
     ]
    },
    {
     "name": "stderr",
     "output_type": "stream",
     "text": [
      "\r",
      "Saving vectors of label - 'macron':  49%|██▍  | 49/100 [00:10<00:11,  4.57it/s]"
     ]
    },
    {
     "name": "stdout",
     "output_type": "stream",
     "text": [
      "./data/macron/macron53.wav\n"
     ]
    },
    {
     "name": "stderr",
     "output_type": "stream",
     "text": [
      "\r",
      "Saving vectors of label - 'macron':  50%|██▌  | 50/100 [00:10<00:10,  4.56it/s]"
     ]
    },
    {
     "name": "stdout",
     "output_type": "stream",
     "text": [
      "./data/macron/macron54.wav\n"
     ]
    },
    {
     "name": "stderr",
     "output_type": "stream",
     "text": [
      "\r",
      "Saving vectors of label - 'macron':  51%|██▌  | 51/100 [00:11<00:10,  4.56it/s]"
     ]
    },
    {
     "name": "stdout",
     "output_type": "stream",
     "text": [
      "./data/macron/macron55.wav\n"
     ]
    },
    {
     "name": "stderr",
     "output_type": "stream",
     "text": [
      "\r",
      "Saving vectors of label - 'macron':  52%|██▌  | 52/100 [00:11<00:10,  4.57it/s]"
     ]
    },
    {
     "name": "stdout",
     "output_type": "stream",
     "text": [
      "./data/macron/macron56.wav\n"
     ]
    },
    {
     "name": "stderr",
     "output_type": "stream",
     "text": [
      "\r",
      "Saving vectors of label - 'macron':  53%|██▋  | 53/100 [00:11<00:10,  4.56it/s]"
     ]
    },
    {
     "name": "stdout",
     "output_type": "stream",
     "text": [
      "./data/macron/macron57.wav\n"
     ]
    },
    {
     "name": "stderr",
     "output_type": "stream",
     "text": [
      "\r",
      "Saving vectors of label - 'macron':  54%|██▋  | 54/100 [00:11<00:10,  4.56it/s]"
     ]
    },
    {
     "name": "stdout",
     "output_type": "stream",
     "text": [
      "./data/macron/macron58.wav\n"
     ]
    },
    {
     "name": "stderr",
     "output_type": "stream",
     "text": [
      "\r",
      "Saving vectors of label - 'macron':  55%|██▊  | 55/100 [00:12<00:09,  4.55it/s]"
     ]
    },
    {
     "name": "stdout",
     "output_type": "stream",
     "text": [
      "./data/macron/macron59.wav\n"
     ]
    },
    {
     "name": "stderr",
     "output_type": "stream",
     "text": [
      "\r",
      "Saving vectors of label - 'macron':  56%|██▊  | 56/100 [00:12<00:09,  4.54it/s]"
     ]
    },
    {
     "name": "stdout",
     "output_type": "stream",
     "text": [
      "./data/macron/macron6.wav\n"
     ]
    },
    {
     "name": "stderr",
     "output_type": "stream",
     "text": [
      "\r",
      "Saving vectors of label - 'macron':  57%|██▊  | 57/100 [00:12<00:09,  4.55it/s]"
     ]
    },
    {
     "name": "stdout",
     "output_type": "stream",
     "text": [
      "./data/macron/macron60.wav\n"
     ]
    },
    {
     "name": "stderr",
     "output_type": "stream",
     "text": [
      "\r",
      "Saving vectors of label - 'macron':  58%|██▉  | 58/100 [00:12<00:09,  4.55it/s]"
     ]
    },
    {
     "name": "stdout",
     "output_type": "stream",
     "text": [
      "./data/macron/macron61.wav\n"
     ]
    },
    {
     "name": "stderr",
     "output_type": "stream",
     "text": [
      "\r",
      "Saving vectors of label - 'macron':  59%|██▉  | 59/100 [00:12<00:08,  4.57it/s]"
     ]
    },
    {
     "name": "stdout",
     "output_type": "stream",
     "text": [
      "./data/macron/macron62.wav\n"
     ]
    },
    {
     "name": "stderr",
     "output_type": "stream",
     "text": [
      "\r",
      "Saving vectors of label - 'macron':  60%|███  | 60/100 [00:13<00:08,  4.58it/s]"
     ]
    },
    {
     "name": "stdout",
     "output_type": "stream",
     "text": [
      "./data/macron/macron63.wav\n"
     ]
    },
    {
     "name": "stderr",
     "output_type": "stream",
     "text": [
      "\r",
      "Saving vectors of label - 'macron':  61%|███  | 61/100 [00:13<00:08,  4.57it/s]"
     ]
    },
    {
     "name": "stdout",
     "output_type": "stream",
     "text": [
      "./data/macron/macron64.wav\n"
     ]
    },
    {
     "name": "stderr",
     "output_type": "stream",
     "text": [
      "\r",
      "Saving vectors of label - 'macron':  62%|███  | 62/100 [00:13<00:08,  4.57it/s]"
     ]
    },
    {
     "name": "stdout",
     "output_type": "stream",
     "text": [
      "./data/macron/macron65.wav\n"
     ]
    },
    {
     "name": "stderr",
     "output_type": "stream",
     "text": [
      "\r",
      "Saving vectors of label - 'macron':  63%|███▏ | 63/100 [00:13<00:08,  4.58it/s]"
     ]
    },
    {
     "name": "stdout",
     "output_type": "stream",
     "text": [
      "./data/macron/macron66.wav\n"
     ]
    },
    {
     "name": "stderr",
     "output_type": "stream",
     "text": [
      "\r",
      "Saving vectors of label - 'macron':  64%|███▏ | 64/100 [00:13<00:07,  4.58it/s]"
     ]
    },
    {
     "name": "stdout",
     "output_type": "stream",
     "text": [
      "./data/macron/macron67.wav\n"
     ]
    },
    {
     "name": "stderr",
     "output_type": "stream",
     "text": [
      "\r",
      "Saving vectors of label - 'macron':  65%|███▎ | 65/100 [00:14<00:07,  4.58it/s]"
     ]
    },
    {
     "name": "stdout",
     "output_type": "stream",
     "text": [
      "./data/macron/macron68.wav\n"
     ]
    },
    {
     "name": "stderr",
     "output_type": "stream",
     "text": [
      "\r",
      "Saving vectors of label - 'macron':  66%|███▎ | 66/100 [00:14<00:07,  4.57it/s]"
     ]
    },
    {
     "name": "stdout",
     "output_type": "stream",
     "text": [
      "./data/macron/macron69.wav\n"
     ]
    },
    {
     "name": "stderr",
     "output_type": "stream",
     "text": [
      "\r",
      "Saving vectors of label - 'macron':  67%|███▎ | 67/100 [00:14<00:07,  4.56it/s]"
     ]
    },
    {
     "name": "stdout",
     "output_type": "stream",
     "text": [
      "./data/macron/macron7.wav\n"
     ]
    },
    {
     "name": "stderr",
     "output_type": "stream",
     "text": [
      "\r",
      "Saving vectors of label - 'macron':  68%|███▍ | 68/100 [00:14<00:07,  4.56it/s]"
     ]
    },
    {
     "name": "stdout",
     "output_type": "stream",
     "text": [
      "./data/macron/macron70.wav\n"
     ]
    },
    {
     "name": "stderr",
     "output_type": "stream",
     "text": [
      "\r",
      "Saving vectors of label - 'macron':  69%|███▍ | 69/100 [00:15<00:06,  4.55it/s]"
     ]
    },
    {
     "name": "stdout",
     "output_type": "stream",
     "text": [
      "./data/macron/macron71.wav\n"
     ]
    },
    {
     "name": "stderr",
     "output_type": "stream",
     "text": [
      "\r",
      "Saving vectors of label - 'macron':  70%|███▌ | 70/100 [00:15<00:06,  4.56it/s]"
     ]
    },
    {
     "name": "stdout",
     "output_type": "stream",
     "text": [
      "./data/macron/macron72.wav\n"
     ]
    },
    {
     "name": "stderr",
     "output_type": "stream",
     "text": [
      "\r",
      "Saving vectors of label - 'macron':  71%|███▌ | 71/100 [00:15<00:06,  4.57it/s]"
     ]
    },
    {
     "name": "stdout",
     "output_type": "stream",
     "text": [
      "./data/macron/macron73.wav\n"
     ]
    },
    {
     "name": "stderr",
     "output_type": "stream",
     "text": [
      "\r",
      "Saving vectors of label - 'macron':  72%|███▌ | 72/100 [00:15<00:06,  4.57it/s]"
     ]
    },
    {
     "name": "stdout",
     "output_type": "stream",
     "text": [
      "./data/macron/macron74.wav\n"
     ]
    },
    {
     "name": "stderr",
     "output_type": "stream",
     "text": [
      "\r",
      "Saving vectors of label - 'macron':  73%|███▋ | 73/100 [00:15<00:05,  4.57it/s]"
     ]
    },
    {
     "name": "stdout",
     "output_type": "stream",
     "text": [
      "./data/macron/macron75.wav\n"
     ]
    },
    {
     "name": "stderr",
     "output_type": "stream",
     "text": [
      "\r",
      "Saving vectors of label - 'macron':  74%|███▋ | 74/100 [00:16<00:05,  4.57it/s]"
     ]
    },
    {
     "name": "stdout",
     "output_type": "stream",
     "text": [
      "./data/macron/macron76.wav\n"
     ]
    },
    {
     "name": "stderr",
     "output_type": "stream",
     "text": [
      "\r",
      "Saving vectors of label - 'macron':  75%|███▊ | 75/100 [00:16<00:05,  4.58it/s]"
     ]
    },
    {
     "name": "stdout",
     "output_type": "stream",
     "text": [
      "./data/macron/macron77.wav\n"
     ]
    },
    {
     "name": "stderr",
     "output_type": "stream",
     "text": [
      "\r",
      "Saving vectors of label - 'macron':  76%|███▊ | 76/100 [00:16<00:05,  4.58it/s]"
     ]
    },
    {
     "name": "stdout",
     "output_type": "stream",
     "text": [
      "./data/macron/macron78.wav\n"
     ]
    },
    {
     "name": "stderr",
     "output_type": "stream",
     "text": [
      "\r",
      "Saving vectors of label - 'macron':  77%|███▊ | 77/100 [00:16<00:05,  4.58it/s]"
     ]
    },
    {
     "name": "stdout",
     "output_type": "stream",
     "text": [
      "./data/macron/macron79.wav\n"
     ]
    },
    {
     "name": "stderr",
     "output_type": "stream",
     "text": [
      "\r",
      "Saving vectors of label - 'macron':  78%|███▉ | 78/100 [00:17<00:04,  4.59it/s]"
     ]
    },
    {
     "name": "stdout",
     "output_type": "stream",
     "text": [
      "./data/macron/macron8.wav\n"
     ]
    },
    {
     "name": "stderr",
     "output_type": "stream",
     "text": [
      "\r",
      "Saving vectors of label - 'macron':  79%|███▉ | 79/100 [00:17<00:04,  4.59it/s]"
     ]
    },
    {
     "name": "stdout",
     "output_type": "stream",
     "text": [
      "./data/macron/macron80.wav\n"
     ]
    },
    {
     "name": "stderr",
     "output_type": "stream",
     "text": [
      "\r",
      "Saving vectors of label - 'macron':  80%|████ | 80/100 [00:17<00:04,  4.59it/s]"
     ]
    },
    {
     "name": "stdout",
     "output_type": "stream",
     "text": [
      "./data/macron/macron81.wav\n"
     ]
    },
    {
     "name": "stderr",
     "output_type": "stream",
     "text": [
      "\r",
      "Saving vectors of label - 'macron':  81%|████ | 81/100 [00:17<00:04,  4.60it/s]"
     ]
    },
    {
     "name": "stdout",
     "output_type": "stream",
     "text": [
      "./data/macron/macron82.wav\n"
     ]
    },
    {
     "name": "stderr",
     "output_type": "stream",
     "text": [
      "\r",
      "Saving vectors of label - 'macron':  82%|████ | 82/100 [00:17<00:03,  4.61it/s]"
     ]
    },
    {
     "name": "stdout",
     "output_type": "stream",
     "text": [
      "./data/macron/macron83.wav\n"
     ]
    },
    {
     "name": "stderr",
     "output_type": "stream",
     "text": [
      "\r",
      "Saving vectors of label - 'macron':  83%|████▏| 83/100 [00:17<00:03,  4.62it/s]"
     ]
    },
    {
     "name": "stdout",
     "output_type": "stream",
     "text": [
      "./data/macron/macron84.wav\n"
     ]
    },
    {
     "name": "stderr",
     "output_type": "stream",
     "text": [
      "\r",
      "Saving vectors of label - 'macron':  84%|████▏| 84/100 [00:18<00:03,  4.62it/s]"
     ]
    },
    {
     "name": "stdout",
     "output_type": "stream",
     "text": [
      "./data/macron/macron85.wav\n"
     ]
    },
    {
     "name": "stderr",
     "output_type": "stream",
     "text": [
      "\r",
      "Saving vectors of label - 'macron':  85%|████▎| 85/100 [00:18<00:03,  4.62it/s]"
     ]
    },
    {
     "name": "stdout",
     "output_type": "stream",
     "text": [
      "./data/macron/macron86.wav\n"
     ]
    },
    {
     "name": "stderr",
     "output_type": "stream",
     "text": [
      "\r",
      "Saving vectors of label - 'macron':  86%|████▎| 86/100 [00:18<00:03,  4.62it/s]"
     ]
    },
    {
     "name": "stdout",
     "output_type": "stream",
     "text": [
      "./data/macron/macron87.wav\n"
     ]
    },
    {
     "name": "stderr",
     "output_type": "stream",
     "text": [
      "\r",
      "Saving vectors of label - 'macron':  87%|████▎| 87/100 [00:18<00:02,  4.63it/s]"
     ]
    },
    {
     "name": "stdout",
     "output_type": "stream",
     "text": [
      "./data/macron/macron88.wav\n"
     ]
    },
    {
     "name": "stderr",
     "output_type": "stream",
     "text": [
      "\r",
      "Saving vectors of label - 'macron':  88%|████▍| 88/100 [00:19<00:02,  4.63it/s]"
     ]
    },
    {
     "name": "stdout",
     "output_type": "stream",
     "text": [
      "./data/macron/macron89.wav\n"
     ]
    },
    {
     "name": "stderr",
     "output_type": "stream",
     "text": [
      "\r",
      "Saving vectors of label - 'macron':  89%|████▍| 89/100 [00:19<00:02,  4.55it/s]"
     ]
    },
    {
     "name": "stdout",
     "output_type": "stream",
     "text": [
      "./data/macron/macron9.wav\n"
     ]
    },
    {
     "name": "stderr",
     "output_type": "stream",
     "text": [
      "\r",
      "Saving vectors of label - 'macron':  90%|████▌| 90/100 [00:19<00:02,  4.55it/s]"
     ]
    },
    {
     "name": "stdout",
     "output_type": "stream",
     "text": [
      "./data/macron/macron90.wav\n"
     ]
    },
    {
     "name": "stderr",
     "output_type": "stream",
     "text": [
      "\r",
      "Saving vectors of label - 'macron':  91%|████▌| 91/100 [00:20<00:01,  4.54it/s]"
     ]
    },
    {
     "name": "stdout",
     "output_type": "stream",
     "text": [
      "./data/macron/macron91.wav\n"
     ]
    },
    {
     "name": "stderr",
     "output_type": "stream",
     "text": [
      "\r",
      "Saving vectors of label - 'macron':  92%|████▌| 92/100 [00:20<00:01,  4.53it/s]"
     ]
    },
    {
     "name": "stdout",
     "output_type": "stream",
     "text": [
      "./data/macron/macron92.wav\n"
     ]
    },
    {
     "name": "stderr",
     "output_type": "stream",
     "text": [
      "\r",
      "Saving vectors of label - 'macron':  93%|████▋| 93/100 [00:20<00:01,  4.54it/s]"
     ]
    },
    {
     "name": "stdout",
     "output_type": "stream",
     "text": [
      "./data/macron/macron93.wav\n"
     ]
    },
    {
     "name": "stderr",
     "output_type": "stream",
     "text": [
      "\r",
      "Saving vectors of label - 'macron':  94%|████▋| 94/100 [00:20<00:01,  4.53it/s]"
     ]
    },
    {
     "name": "stdout",
     "output_type": "stream",
     "text": [
      "./data/macron/macron94.wav\n"
     ]
    },
    {
     "name": "stderr",
     "output_type": "stream",
     "text": [
      "\r",
      "Saving vectors of label - 'macron':  95%|████▊| 95/100 [00:20<00:01,  4.53it/s]"
     ]
    },
    {
     "name": "stdout",
     "output_type": "stream",
     "text": [
      "./data/macron/macron95.wav\n"
     ]
    },
    {
     "name": "stderr",
     "output_type": "stream",
     "text": [
      "\r",
      "Saving vectors of label - 'macron':  96%|████▊| 96/100 [00:21<00:00,  4.53it/s]"
     ]
    },
    {
     "name": "stdout",
     "output_type": "stream",
     "text": [
      "./data/macron/macron96.wav\n"
     ]
    },
    {
     "name": "stderr",
     "output_type": "stream",
     "text": [
      "\r",
      "Saving vectors of label - 'macron':  97%|████▊| 97/100 [00:21<00:00,  4.53it/s]"
     ]
    },
    {
     "name": "stdout",
     "output_type": "stream",
     "text": [
      "./data/macron/macron97.wav\n"
     ]
    },
    {
     "name": "stderr",
     "output_type": "stream",
     "text": [
      "\r",
      "Saving vectors of label - 'macron':  98%|████▉| 98/100 [00:21<00:00,  4.53it/s]"
     ]
    },
    {
     "name": "stdout",
     "output_type": "stream",
     "text": [
      "./data/macron/macron98.wav\n"
     ]
    },
    {
     "name": "stderr",
     "output_type": "stream",
     "text": [
      "\r",
      "Saving vectors of label - 'macron':  99%|████▉| 99/100 [00:21<00:00,  4.54it/s]"
     ]
    },
    {
     "name": "stdout",
     "output_type": "stream",
     "text": [
      "./data/macron/macron99.wav\n"
     ]
    },
    {
     "name": "stderr",
     "output_type": "stream",
     "text": [
      "Saving vectors of label - 'macron': 100%|████| 100/100 [00:22<00:00,  4.53it/s]\n"
     ]
    },
    {
     "name": "stdout",
     "output_type": "stream",
     "text": [
      "train\n",
      "(200, 40, 249)\n"
     ]
    }
   ],
   "source": [
    "%load_ext autoreload\n",
    "%autoreload 2\n",
    "\n",
    "from preprocess import *\n",
    "import keras\n",
    "from keras.models import Sequential\n",
    "from keras.layers import Dense, Dropout, Flatten, Conv2D, MaxPooling2D\n",
    "from keras.utils import to_categorical\n",
    "from keras import metrics\n",
    "import time\n",
    "\n",
    "start_time = time.time() \n",
    "\n",
    "# Second dimension of the feature is dim2\n",
    "feature_dim_2 = 249\n",
    "\n",
    "# Save data to array file first\n",
    "save_data_to_array(max_len=feature_dim_2)\n",
    "\n",
    "# # Loading train set and test set\n",
    "X_train, X_test, y_train, y_test = get_train_test()\n",
    "\n",
    "# # Feature dimension\n",
    "feature_dim_1 = 40\n",
    "channel = 1\n",
    "epochs = 50\n",
    "batch_size = 30\n",
    "verbose = 1\n",
    "num_classes = 3\n",
    "\n",
    "# Reshaping to perform 2D convolution\n",
    "X_train = X_train.reshape(X_train.shape[0], feature_dim_1, feature_dim_2, channel)\n",
    "X_test = X_test.reshape(X_test.shape[0], feature_dim_1, feature_dim_2, channel)\n",
    "\n",
    "y_train_hot = to_categorical(y_train)\n",
    "y_test_hot = to_categorical(y_test)"
   ]
  },
  {
   "cell_type": "code",
   "execution_count": 1,
   "metadata": {
    "collapsed": true
   },
   "outputs": [],
   "source": [
    "def get_model():\n",
    "    model = Sequential()\n",
    "    model.add(Conv2D(32, kernel_size=(2, 2), input_shape=(feature_dim_1, feature_dim_2, channel)))\n",
    "    model.add(Conv2D(48, kernel_size=(2, 2)))\n",
    "    model.add(Conv2D(120, kernel_size=(2, 2)))\n",
    "    model.add(MaxPooling2D(pool_size=(2, 2)))\n",
    "    model.add(Conv2D(80, kernel_size=(2, 2)))\n",
    "    model.add(MaxPooling2D(pool_size=(2, 2)))\n",
    "    model.add(Dropout(0.25))\n",
    "    model.add(Flatten()) \n",
    "    model.add(Dense(128, activation='sigmoid'))\n",
    "    model.add(Dropout(0.25))\n",
    "    model.add(Dense(64, activation='sigmoid'))\n",
    "    model.add(Dense(num_classes, activation='softmax'))\n",
    "    model.compile(loss=keras.losses.categorical_crossentropy,\n",
    "                  optimizer=keras.optimizers.Adadelta(),\n",
    "                  metrics=[metrics.categorical_accuracy])\n",
    "    return model\n",
    "\n",
    "#Adadelta() learning rate par défaut howa 1\n",
    "\n",
    "# Predicts one sample\n",
    "def predict(filepath, model):\n",
    "    sample = wav2mfcc(filepath)\n",
    "    sample_reshaped = sample.reshape(1, feature_dim_1, feature_dim_2, channel)\n",
    "    \n",
    "    print(\"amal: \",model.predict(sample_reshaped))\n",
    "    \n",
    "    print(\"hajer: \",model.predict(sample_reshaped)[0][1])\n",
    "    print(\"Macron: \",model.predict(sample_reshaped)[0][2])\n",
    "    \n",
    "    print(\"La voix est celle de \")\n",
    "    return get_labels()[0][\n",
    "            np.argmax(model.predict(sample_reshaped))\n",
    "    ]"
   ]
  },
  {
   "cell_type": "markdown",
   "metadata": {},
   "source": [
    "# Building The Model Then Training it"
   ]
  },
  {
   "cell_type": "markdown",
   "metadata": {},
   "source": [
    "# Test et Train accuracy"
   ]
  },
  {
   "cell_type": "code",
   "execution_count": 4,
   "metadata": {
    "scrolled": false
   },
   "outputs": [
    {
     "name": "stdout",
     "output_type": "stream",
     "text": [
      "[ 1.  1.  0.  0.  0.  1.  1.  1.  0.  2.  2.  1.  1.  1.  0.  2.  2.  0.\n",
      "  2.  2.  2.  1.  0.  0.  2.  1.  1.  1.  1.  0.  0.  0.  1.  1.  2.  2.\n",
      "  1.  1.  2.  0.  0.  0.  1.  0.  1.  1.  2.  2.  1.  1.  0.  0.  1.  0.\n",
      "  1.  0.  1.  0.  0.  1.  0.  0.  1.  1.  0.  1.  0.  0.  1.  0.  1.  1.\n",
      "  1.  1.  2.  0.  1.  2.  1.  1.  0.  1.  1.  1.  0.  2.  0.  0.  2.  0.\n",
      "  1.  2.  1.  1.  1.  0.  0.  1.  1.  1.  0.  2.  2.  0.  2.  1.  1.  0.\n",
      "  1.  0.  2.  0.  2.  1.  2.  0.  1.  1.  1.  1.  1.  0.  2.  1.  1.  0.\n",
      "  2.  1.  0.  0.  0.  1.  1.  0.  1.  0.  0.  1.  0.  1.  0.  0.  0.  0.\n",
      "  0.  1.  2.  1.  0.  0.  0.]\n",
      "[1 1 1 1 0 1 1 1 0 2 2 0 1 1 1 2 2 0 2 2 2 0 0 0 2 1 1 1 1 0 0 1 0 0 2 2 1\n",
      " 1 2 1 1 0 1 0 0 1 2 2 1 0 0 0 1 0 1 0 0 0 0 0 0 0 1 0 1 1 0 1 1 0 0 1 1 1\n",
      " 2 1 1 2 0 0 0 1 0 1 0 2 1 0 2 0 1 2 1 1 0 0 1 1 1 1 0 2 2 0 2 1 1 0 1 0 2\n",
      " 1 2 1 2 0 1 1 0 1 1 0 2 0 1 1 2 1 0 1 0 1 1 0 1 0 0 1 1 1 0 0 1 1 0 0 2 1\n",
      " 1 1 0]\n",
      "dict_keys(['val_loss', 'val_categorical_accuracy', 'categorical_accuracy', 'loss'])\n"
     ]
    }
   ],
   "source": [
    "y_pred = model.predict(X_test)\n",
    "#y_pred = (y_pred > 0.5)\n",
    "y_pred=np.argmax(y_pred,axis=1)\n",
    "y_pred1 = model.predict(X_train)\n",
    "y_pred1=np.argmax(y_pred1,axis=1)\n",
    "\n",
    "print(y_test)\n",
    "print(y_pred)\n",
    "print(history.history.keys())\n"
   ]
  },
  {
   "cell_type": "code",
   "execution_count": 5,
   "metadata": {},
   "outputs": [
    {
     "name": "stdout",
     "output_type": "stream",
     "text": [
      "Train accuracy: 1.0\n",
      "Test accuracy : 0.761589403974\n"
     ]
    }
   ],
   "source": [
    "def acc(y_true, y_pred):\n",
    "    return np.equal(y_true,y_pred).mean()\n",
    "\n",
    "print(\"Train accuracy: \" + str(acc(y_train, y_pred1)))\n",
    "print(\"Test accuracy : \" + str(acc(y_test, y_pred))) \n",
    "\n"
   ]
  },
  {
   "cell_type": "markdown",
   "metadata": {},
   "source": [
    "## Prediction"
   ]
  },
  {
   "cell_type": "code",
   "execution_count": 29,
   "metadata": {},
   "outputs": [
    {
     "name": "stdout",
     "output_type": "stream",
     "text": [
      "1.0\n"
     ]
    }
   ],
   "source": [
    "from sklearn.metrics import accuracy_score\n",
    "accuracy = accuracy_score(y_train, y_pred1)\n",
    "print(accuracy)"
   ]
  },
  {
   "cell_type": "code",
   "execution_count": 77,
   "metadata": {},
   "outputs": [
    {
     "name": "stdout",
     "output_type": "stream",
     "text": [
      "./sounds/AmalT.wav\n",
      "amal:  [[  9.99597371e-01   2.28816629e-04   1.73832464e-04]]\n",
      "hajer:  0.000228817\n",
      "Macron:  0.000173832\n",
      "La voix est celle de \n",
      "amal\n"
     ]
    }
   ],
   "source": [
    "print(predict('./sounds/AmalT.wav', model=model1))"
   ]
  },
  {
   "cell_type": "code",
   "execution_count": 78,
   "metadata": {},
   "outputs": [
    {
     "name": "stdout",
     "output_type": "stream",
     "text": [
      "./sounds/macronTest.wav\n",
      "amal:  [[  3.22753884e-04   4.71861102e-04   9.99205410e-01]]\n",
      "hajer:  0.000471861\n",
      "Macron:  0.999205\n",
      "La voix est celle de \n",
      "macron\n"
     ]
    }
   ],
   "source": [
    "print(predict('./sounds/macronTest.wav', model=model1))"
   ]
  },
  {
   "cell_type": "code",
   "execution_count": 79,
   "metadata": {},
   "outputs": [
    {
     "name": "stdout",
     "output_type": "stream",
     "text": [
      "./sounds/macronTest2.wav\n",
      "amal:  [[  3.47362424e-04   4.42435179e-04   9.99210119e-01]]\n",
      "hajer:  0.000442435\n",
      "Macron:  0.99921\n",
      "La voix est celle de \n",
      "macron\n"
     ]
    }
   ],
   "source": [
    "print(predict('./sounds/macronTest2.wav', model=model1))"
   ]
  },
  {
   "cell_type": "code",
   "execution_count": 80,
   "metadata": {},
   "outputs": [
    {
     "name": "stdout",
     "output_type": "stream",
     "text": [
      "./sounds/HajerT.wav\n",
      "amal:  [[  4.57736198e-04   9.99242187e-01   3.00045911e-04]]\n",
      "hajer:  0.999242\n",
      "Macron:  0.000300046\n",
      "La voix est celle de \n",
      "hajer\n"
     ]
    }
   ],
   "source": [
    "print(predict('./sounds/HajerT.wav', model=model1))"
   ]
  },
  {
   "cell_type": "code",
   "execution_count": 81,
   "metadata": {},
   "outputs": [
    {
     "name": "stdout",
     "output_type": "stream",
     "text": [
      "./sounds/ambou2.wav\n",
      "amal:  [[  3.33982782e-04   9.99423265e-01   2.42850685e-04]]\n",
      "hajer:  0.999423\n",
      "Macron:  0.000242851\n",
      "La voix est celle de \n",
      "hajer\n"
     ]
    }
   ],
   "source": [
    "print(predict('./sounds/ambou2.wav', model=model1))"
   ]
  },
  {
   "cell_type": "code",
   "execution_count": 82,
   "metadata": {},
   "outputs": [
    {
     "name": "stdout",
     "output_type": "stream",
     "text": [
      "./sounds/testamal.wav\n",
      "amal:  [[  9.99599397e-01   2.45909730e-04   1.54643436e-04]]\n",
      "hajer:  0.00024591\n",
      "Macron:  0.000154643\n",
      "La voix est celle de \n",
      "amal\n"
     ]
    }
   ],
   "source": [
    "print(predict('./sounds/testamal.wav', model=model1))"
   ]
  },
  {
   "cell_type": "code",
   "execution_count": 83,
   "metadata": {},
   "outputs": [
    {
     "name": "stdout",
     "output_type": "stream",
     "text": [
      "./sounds/ambou2.wav\n",
      "amal:  [[  3.33982782e-04   9.99423265e-01   2.42850685e-04]]\n",
      "hajer:  0.999423\n",
      "Macron:  0.000242851\n",
      "La voix est celle de \n",
      "hajer\n"
     ]
    }
   ],
   "source": [
    "print(predict('./sounds/ambou2.wav', model=model1))"
   ]
  },
  {
   "cell_type": "code",
   "execution_count": 84,
   "metadata": {},
   "outputs": [
    {
     "name": "stdout",
     "output_type": "stream",
     "text": [
      "./sounds/testamal.wav\n",
      "amal:  [[  9.99599397e-01   2.45909730e-04   1.54643436e-04]]\n",
      "hajer:  0.00024591\n",
      "Macron:  0.000154643\n",
      "La voix est celle de \n",
      "amal\n"
     ]
    }
   ],
   "source": [
    "print(predict('./sounds/testamal.wav', model=model1))"
   ]
  },
  {
   "cell_type": "code",
   "execution_count": 85,
   "metadata": {},
   "outputs": [
    {
     "name": "stdout",
     "output_type": "stream",
     "text": [
      "./sounds/testhajer.wav\n",
      "amal:  [[  2.95654318e-04   9.99442518e-01   2.61708745e-04]]\n",
      "hajer:  0.999443\n",
      "Macron:  0.000261709\n",
      "La voix est celle de \n",
      "hajer\n"
     ]
    }
   ],
   "source": [
    "print(predict('./sounds/testhajer.wav', model=model1))"
   ]
  },
  {
   "cell_type": "code",
   "execution_count": 32,
   "metadata": {},
   "outputs": [
    {
     "name": "stdout",
     "output_type": "stream",
     "text": [
      "[1 1 1 1 0 1 1 1 0 1 1 0 1 0 1 1 1 1 0 1 0 0 1 1 0 0 1 1 1 1 0 1 0 0 1 0 0\n",
      " 0 0 0 0 0 1 0 0 0 1 1 0 1 1 0 0 1 1 1 0 0 1 0 1 0 1 1 0 0 0 1 0 1 0 0 1 1\n",
      " 0 1 0 0 0 1 1 1 0 0 0 0 0 0 0 0 1 0 0 1 0 0 1 0 1 0 1 0 0 1 1 1 1 0 1 0 0\n",
      " 1 0 1 1 0 0 1 1 1]\n",
      "[1. 1. 1. 0. 1. 1. 1. 0. 0. 1. 1. 0. 1. 0. 1. 1. 1. 1. 0. 1. 0. 0. 1. 1.\n",
      " 0. 0. 1. 1. 1. 1. 0. 1. 0. 0. 1. 0. 0. 0. 0. 0. 0. 0. 1. 0. 0. 0. 1. 1.\n",
      " 0. 1. 1. 0. 1. 0. 1. 1. 0. 0. 1. 0. 1. 0. 0. 1. 1. 0. 0. 1. 0. 1. 0. 0.\n",
      " 1. 1. 0. 1. 0. 0. 0. 1. 1. 1. 0. 0. 0. 0. 0. 0. 0. 0. 1. 0. 0. 1. 0. 0.\n",
      " 1. 0. 1. 0. 1. 0. 0. 1. 1. 1. 0. 0. 1. 0. 0. 1. 0. 1. 1. 0. 0. 1. 1. 1.]\n"
     ]
    }
   ],
   "source": [
    "y_pred = model.predict(X_test)\n",
    "#y_pred = (y_pred > 0.5)\n",
    "y_pred=np.argmax(y_pred,axis=1)\n",
    "print(y_pred)\n",
    "print(y_test)"
   ]
  },
  {
   "cell_type": "code",
   "execution_count": 33,
   "metadata": {},
   "outputs": [
    {
     "name": "stdout",
     "output_type": "stream",
     "text": [
      "120\n",
      "120\n",
      "Test accuracy : 0.9333333333333333\n",
      "Train accuracy: 0.5416666666666666\n"
     ]
    }
   ],
   "source": [
    "def acc(y_true, y_pred):\n",
    "    return np.equal(y_true,y_pred).mean()\n",
    "print (len(y_test))\n",
    "print (len(y_pred))\n",
    "print(\"Test accuracy : \" + str(acc(y_test, y_pred)))\n",
    "print(\"Train accuracy: \" + str(acc(y_train[60:], y_pred)))"
   ]
  },
  {
   "cell_type": "code",
   "execution_count": 85,
   "metadata": {},
   "outputs": [
    {
     "name": "stdout",
     "output_type": "stream",
     "text": [
      "accuracy: 0.6666666666666666\n"
     ]
    }
   ],
   "source": [
    "#exemple\n",
    "a = [1, 0, 1]\n",
    "b = [1, 1, 1]\n",
    "print(\"accuracy: \" + str(acc(a,b)))\n"
   ]
  },
  {
   "cell_type": "code",
   "execution_count": 6,
   "metadata": {
    "collapsed": true
   },
   "outputs": [],
   "source": [
    "def get_model1():\n",
    "    model1 = Sequential()\n",
    "    model1.add(Conv2D(32, kernel_size=(2, 2), input_shape=(feature_dim_1, feature_dim_2, channel)))\n",
    "    model1.add(Conv2D(48, kernel_size=(2, 2)))\n",
    "    model1.add(Conv2D(120, kernel_size=(2, 2)))\n",
    "    model1.add(MaxPooling2D(pool_size=(2, 2)))\n",
    "    model1.add(Conv2D(80, kernel_size=(2, 2)))\n",
    "    model1.add(Conv2D(120, kernel_size=(2, 2)))\n",
    "    model1.add(MaxPooling2D(pool_size=(2, 2)))\n",
    "    model1.add(Conv2D(64, kernel_size=(2, 2)))\n",
    "    model1.add(MaxPooling2D(pool_size=(2, 2)))\n",
    "    model1.add(Flatten()) \n",
    "    model1.add(Dropout(0.25))\n",
    "    model1.add(Dense(128, activation='sigmoid'))\n",
    "    model1.add(Dropout(0.25))\n",
    "    model1.add(Dense(64, activation='sigmoid'))\n",
    "    model1.add(Dense(num_classes, activation='softmax'))\n",
    "    model1.compile(loss=keras.losses.categorical_crossentropy,\n",
    "                  optimizer=keras.optimizers.Adadelta(lr=1),\n",
    "                  metrics=[metrics.categorical_accuracy])\n",
    "    return model1"
   ]
  },
  {
   "cell_type": "code",
   "execution_count": null,
   "metadata": {
    "collapsed": true
   },
   "outputs": [],
   "source": [
    "from matplotlib import pyplot as plt\n",
    "start_time=time.time()\n",
    "model11 = get_model1()\n",
    "history=model11.fit(X_train, y_train_hot, batch_size=batch_size, epochs=50, verbose=verbose, validation_data=(X_test, y_test_hot))\n",
    "plt.plot(history.history['val_categorical_accuracy'])\n",
    "print(time.time() -start_time)"
   ]
  },
  {
   "cell_type": "code",
   "execution_count": null,
   "metadata": {
    "collapsed": true
   },
   "outputs": [],
   "source": [
    "y_pred1 = model11.predict(X_test)\n",
    "#y_pred = (y_pred > 0.5)\n",
    "y_pred1=np.argmax(y_pred1,axis=1)\n",
    "y_pred2= model11.predict(X_train)\n",
    "y_pred2=np.argmax(y_pred2,axis=1)"
   ]
  },
  {
   "cell_type": "code",
   "execution_count": null,
   "metadata": {
    "collapsed": true
   },
   "outputs": [],
   "source": [
    "def acc(y_true, y_pred):\n",
    "    return np.equal(y_true,y_pred).mean()\n",
    "\n",
    "print(\"Train accuracy: \" + str(acc(y_train, y_pred2)))\n",
    "print(\"Test accuracy : \" + str(acc(y_test, y_pred1))) "
   ]
  },
  {
   "cell_type": "code",
   "execution_count": 23,
   "metadata": {
    "collapsed": true
   },
   "outputs": [],
   "source": [
    "def get_model2():\n",
    "    model2 = Sequential()\n",
    "    model2.add(Conv2D(32, kernel_size=(2, 2), input_shape=(feature_dim_1, feature_dim_2, channel)))\n",
    "    model2.add(Conv2D(48, kernel_size=(2, 2)))\n",
    "    model2.add(Conv2D(120, kernel_size=(2, 2)))\n",
    "    model2.add(MaxPooling2D(pool_size=(2, 2)))\n",
    "    model2.add(Conv2D(48, kernel_size=(2, 2)))\n",
    "    model2.add(Conv2D(80, kernel_size=(2, 2)))\n",
    "    model2.add(Conv2D(120, kernel_size=(2, 2)))\n",
    "    model2.add(MaxPooling2D(pool_size=(2, 2)))\n",
    "    model2.add(Conv2D(64, kernel_size=(2, 2)))\n",
    "    model2.add(Conv2D(80, kernel_size=(2, 2)))\n",
    "    model2.add(MaxPooling2D(pool_size=(2, 2)))\n",
    "    model2.add(Dropout(0.25))\n",
    "    model2.add(Flatten()) \n",
    "    model2.add(Dense(128, activation='sigmoid'))\n",
    "    model2.add(Dropout(0.25))\n",
    "    model2.add(Dense(64, activation='sigmoid'))\n",
    "    model2.add(Dropout(0.25))\n",
    "    model2.add(Dense(48, activation='sigmoid'))\n",
    "    model2.add(Dense(num_classes, activation='softmax'))\n",
    "    model2.compile(loss=keras.losses.categorical_crossentropy,\n",
    "                  optimizer=keras.optimizers.Adadelta(),\n",
    "                  metrics=[metrics.categorical_accuracy])\n",
    "    return model2"
   ]
  },
  {
   "cell_type": "code",
   "execution_count": 24,
   "metadata": {},
   "outputs": [
    {
     "name": "stdout",
     "output_type": "stream",
     "text": [
      "Train on 349 samples, validate on 151 samples\n",
      "Epoch 1/50\n",
      "349/349 [==============================] - ETA: 1:15 - loss: 1.2757 - categorical_accuracy: 0.20 - ETA: 55s - loss: 1.2514 - categorical_accuracy: 0.3000 - ETA: 47s - loss: 1.2470 - categorical_accuracy: 0.277 - ETA: 41s - loss: 1.2229 - categorical_accuracy: 0.300 - ETA: 35s - loss: 1.1985 - categorical_accuracy: 0.313 - ETA: 30s - loss: 1.1905 - categorical_accuracy: 0.300 - ETA: 24s - loss: 1.1747 - categorical_accuracy: 0.300 - ETA: 19s - loss: 1.1594 - categorical_accuracy: 0.316 - ETA: 14s - loss: 1.1430 - categorical_accuracy: 0.340 - ETA: 8s - loss: 1.1343 - categorical_accuracy: 0.336 - ETA: 3s - loss: 1.1213 - categorical_accuracy: 0.35 - 76s 218ms/step - loss: 1.1134 - categorical_accuracy: 0.3582 - val_loss: 1.0176 - val_categorical_accuracy: 0.3510\n",
      "Epoch 2/50\n",
      "349/349 [==============================] - ETA: 1:08 - loss: 0.9997 - categorical_accuracy: 0.46 - ETA: 1:02 - loss: 0.9938 - categorical_accuracy: 0.41 - ETA: 55s - loss: 0.9903 - categorical_accuracy: 0.4222 - ETA: 53s - loss: 0.9729 - categorical_accuracy: 0.450 - ETA: 47s - loss: 0.9729 - categorical_accuracy: 0.420 - ETA: 39s - loss: 0.9644 - categorical_accuracy: 0.433 - ETA: 31s - loss: 0.9658 - categorical_accuracy: 0.419 - ETA: 24s - loss: 0.9577 - categorical_accuracy: 0.441 - ETA: 17s - loss: 0.9580 - categorical_accuracy: 0.437 - ETA: 10s - loss: 0.9537 - categorical_accuracy: 0.433 - ETA: 3s - loss: 0.9471 - categorical_accuracy: 0.439 - 80s 231ms/step - loss: 0.9446 - categorical_accuracy: 0.4470 - val_loss: 0.8747 - val_categorical_accuracy: 0.6424\n",
      "Epoch 3/50\n",
      "349/349 [==============================] - ETA: 55s - loss: 0.8584 - categorical_accuracy: 0.633 - ETA: 48s - loss: 0.8654 - categorical_accuracy: 0.566 - ETA: 45s - loss: 0.8781 - categorical_accuracy: 0.533 - ETA: 39s - loss: 0.8683 - categorical_accuracy: 0.550 - ETA: 35s - loss: 0.8700 - categorical_accuracy: 0.540 - ETA: 30s - loss: 0.8603 - categorical_accuracy: 0.550 - ETA: 25s - loss: 0.8554 - categorical_accuracy: 0.542 - ETA: 19s - loss: 0.8511 - categorical_accuracy: 0.562 - ETA: 14s - loss: 0.8479 - categorical_accuracy: 0.555 - ETA: 8s - loss: 0.8420 - categorical_accuracy: 0.563 - ETA: 3s - loss: 0.8386 - categorical_accuracy: 0.56 - 69s 198ms/step - loss: 0.8382 - categorical_accuracy: 0.5559 - val_loss: 0.7704 - val_categorical_accuracy: 0.6225\n",
      "Epoch 4/50\n",
      "349/349 [==============================] - ETA: 52s - loss: 0.7958 - categorical_accuracy: 0.566 - ETA: 47s - loss: 0.7687 - categorical_accuracy: 0.683 - ETA: 42s - loss: 0.7803 - categorical_accuracy: 0.600 - ETA: 38s - loss: 0.7794 - categorical_accuracy: 0.600 - ETA: 34s - loss: 0.7754 - categorical_accuracy: 0.600 - ETA: 29s - loss: 0.7736 - categorical_accuracy: 0.611 - ETA: 24s - loss: 0.7698 - categorical_accuracy: 0.614 - ETA: 19s - loss: 0.7655 - categorical_accuracy: 0.620 - ETA: 14s - loss: 0.7648 - categorical_accuracy: 0.618 - ETA: 8s - loss: 0.7639 - categorical_accuracy: 0.606 - ETA: 3s - loss: 0.7613 - categorical_accuracy: 0.61 - 70s 199ms/step - loss: 0.7599 - categorical_accuracy: 0.6160 - val_loss: 0.6885 - val_categorical_accuracy: 0.6490\n",
      "Epoch 5/50\n",
      "349/349 [==============================] - ETA: 57s - loss: 0.7586 - categorical_accuracy: 0.500 - ETA: 48s - loss: 0.7477 - categorical_accuracy: 0.583 - ETA: 42s - loss: 0.7265 - categorical_accuracy: 0.611 - ETA: 37s - loss: 0.7169 - categorical_accuracy: 0.625 - ETA: 32s - loss: 0.7229 - categorical_accuracy: 0.613 - ETA: 27s - loss: 0.7282 - categorical_accuracy: 0.611 - ETA: 22s - loss: 0.7285 - categorical_accuracy: 0.604 - ETA: 17s - loss: 0.7310 - categorical_accuracy: 0.591 - ETA: 12s - loss: 0.7219 - categorical_accuracy: 0.607 - ETA: 7s - loss: 0.7203 - categorical_accuracy: 0.610 - ETA: 3s - loss: 0.7168 - categorical_accuracy: 0.60 - 64s 182ms/step - loss: 0.7148 - categorical_accuracy: 0.5931 - val_loss: 0.6401 - val_categorical_accuracy: 0.6225\n",
      "Epoch 6/50\n",
      "349/349 [==============================] - ETA: 53s - loss: 0.6538 - categorical_accuracy: 0.633 - ETA: 47s - loss: 0.6722 - categorical_accuracy: 0.566 - ETA: 43s - loss: 0.6722 - categorical_accuracy: 0.600 - ETA: 39s - loss: 0.6680 - categorical_accuracy: 0.641 - ETA: 33s - loss: 0.6704 - categorical_accuracy: 0.620 - ETA: 28s - loss: 0.6778 - categorical_accuracy: 0.605 - ETA: 23s - loss: 0.6777 - categorical_accuracy: 0.595 - ETA: 18s - loss: 0.6785 - categorical_accuracy: 0.595 - ETA: 13s - loss: 0.6818 - categorical_accuracy: 0.592 - ETA: 8s - loss: 0.6795 - categorical_accuracy: 0.583 - ETA: 3s - loss: 0.6818 - categorical_accuracy: 0.58 - 65s 187ms/step - loss: 0.6790 - categorical_accuracy: 0.5845 - val_loss: 0.6048 - val_categorical_accuracy: 0.6159\n",
      "Epoch 7/50\n",
      "349/349 [==============================] - ETA: 46s - loss: 0.5829 - categorical_accuracy: 0.733 - ETA: 43s - loss: 0.6200 - categorical_accuracy: 0.683 - ETA: 38s - loss: 0.6516 - categorical_accuracy: 0.622 - ETA: 34s - loss: 0.6580 - categorical_accuracy: 0.633 - ETA: 30s - loss: 0.6602 - categorical_accuracy: 0.633 - ETA: 26s - loss: 0.6777 - categorical_accuracy: 0.588 - ETA: 22s - loss: 0.6961 - categorical_accuracy: 0.595 - ETA: 17s - loss: 0.6898 - categorical_accuracy: 0.591 - ETA: 12s - loss: 0.6863 - categorical_accuracy: 0.592 - ETA: 7s - loss: 0.6784 - categorical_accuracy: 0.596 - ETA: 3s - loss: 0.6728 - categorical_accuracy: 0.59 - 65s 185ms/step - loss: 0.6733 - categorical_accuracy: 0.5989 - val_loss: 0.5885 - val_categorical_accuracy: 0.6291\n",
      "Epoch 8/50\n",
      "349/349 [==============================] - ETA: 53s - loss: 0.6158 - categorical_accuracy: 0.800 - ETA: 49s - loss: 0.6719 - categorical_accuracy: 0.633 - ETA: 43s - loss: 0.6390 - categorical_accuracy: 0.644 - ETA: 38s - loss: 0.6260 - categorical_accuracy: 0.633 - ETA: 33s - loss: 0.6177 - categorical_accuracy: 0.620 - ETA: 28s - loss: 0.6319 - categorical_accuracy: 0.605 - ETA: 23s - loss: 0.6316 - categorical_accuracy: 0.609 - ETA: 18s - loss: 0.6350 - categorical_accuracy: 0.604 - ETA: 13s - loss: 0.6330 - categorical_accuracy: 0.625 - ETA: 8s - loss: 0.6335 - categorical_accuracy: 0.633 - ETA: 3s - loss: 0.6354 - categorical_accuracy: 0.63 - 66s 190ms/step - loss: 0.6383 - categorical_accuracy: 0.6361 - val_loss: 0.5716 - val_categorical_accuracy: 0.6556\n",
      "Epoch 9/50\n",
      "349/349 [==============================] - ETA: 48s - loss: 0.6197 - categorical_accuracy: 0.533 - ETA: 44s - loss: 0.6482 - categorical_accuracy: 0.483 - ETA: 40s - loss: 0.6533 - categorical_accuracy: 0.500 - ETA: 36s - loss: 0.6616 - categorical_accuracy: 0.525 - ETA: 31s - loss: 0.6506 - categorical_accuracy: 0.540 - ETA: 26s - loss: 0.6423 - categorical_accuracy: 0.561 - ETA: 22s - loss: 0.6472 - categorical_accuracy: 0.566 - ETA: 17s - loss: 0.6439 - categorical_accuracy: 0.575 - ETA: 13s - loss: 0.6409 - categorical_accuracy: 0.574 - ETA: 8s - loss: 0.6376 - categorical_accuracy: 0.573 - ETA: 3s - loss: 0.6333 - categorical_accuracy: 0.57 - 64s 183ms/step - loss: 0.6353 - categorical_accuracy: 0.5702 - val_loss: 0.5604 - val_categorical_accuracy: 0.6490\n",
      "Epoch 10/50\n",
      "349/349 [==============================] - ETA: 49s - loss: 0.6649 - categorical_accuracy: 0.500 - ETA: 46s - loss: 0.6125 - categorical_accuracy: 0.550 - ETA: 41s - loss: 0.6452 - categorical_accuracy: 0.533 - ETA: 36s - loss: 0.6334 - categorical_accuracy: 0.583 - ETA: 31s - loss: 0.6340 - categorical_accuracy: 0.600 - ETA: 27s - loss: 0.6214 - categorical_accuracy: 0.633 - ETA: 22s - loss: 0.6316 - categorical_accuracy: 0.614 - ETA: 17s - loss: 0.6289 - categorical_accuracy: 0.612 - ETA: 12s - loss: 0.6313 - categorical_accuracy: 0.622 - ETA: 7s - loss: 0.6271 - categorical_accuracy: 0.620 - ETA: 2s - loss: 0.6294 - categorical_accuracy: 0.60 - 62s 176ms/step - loss: 0.6317 - categorical_accuracy: 0.6074 - val_loss: 0.5532 - val_categorical_accuracy: 0.6490\n",
      "Epoch 11/50\n",
      "349/349 [==============================] - ETA: 46s - loss: 0.5973 - categorical_accuracy: 0.600 - ETA: 42s - loss: 0.6004 - categorical_accuracy: 0.516 - ETA: 38s - loss: 0.6123 - categorical_accuracy: 0.544 - ETA: 33s - loss: 0.6228 - categorical_accuracy: 0.533 - ETA: 29s - loss: 0.6064 - categorical_accuracy: 0.566 - ETA: 25s - loss: 0.6092 - categorical_accuracy: 0.550 - ETA: 20s - loss: 0.6070 - categorical_accuracy: 0.552 - ETA: 16s - loss: 0.6147 - categorical_accuracy: 0.545 - ETA: 11s - loss: 0.6171 - categorical_accuracy: 0.555 - ETA: 7s - loss: 0.6175 - categorical_accuracy: 0.563 - ETA: 2s - loss: 0.6209 - categorical_accuracy: 0.56 - 61s 173ms/step - loss: 0.6206 - categorical_accuracy: 0.5731 - val_loss: 0.5479 - val_categorical_accuracy: 0.6490\n",
      "Epoch 12/50\n",
      "349/349 [==============================] - ETA: 49s - loss: 0.5625 - categorical_accuracy: 0.633 - ETA: 43s - loss: 0.6145 - categorical_accuracy: 0.583 - ETA: 39s - loss: 0.6254 - categorical_accuracy: 0.577 - ETA: 35s - loss: 0.6143 - categorical_accuracy: 0.616 - ETA: 30s - loss: 0.6098 - categorical_accuracy: 0.600 - ETA: 26s - loss: 0.6059 - categorical_accuracy: 0.588 - ETA: 22s - loss: 0.6024 - categorical_accuracy: 0.585 - ETA: 17s - loss: 0.6020 - categorical_accuracy: 0.587 - ETA: 12s - loss: 0.6012 - categorical_accuracy: 0.600 - ETA: 7s - loss: 0.6019 - categorical_accuracy: 0.613 - ETA: 3s - loss: 0.6037 - categorical_accuracy: 0.60 - 64s 182ms/step - loss: 0.6060 - categorical_accuracy: 0.6046 - val_loss: 0.5435 - val_categorical_accuracy: 0.6093\n",
      "Epoch 13/50\n",
      "349/349 [==============================] - ETA: 48s - loss: 0.5811 - categorical_accuracy: 0.733 - ETA: 43s - loss: 0.6288 - categorical_accuracy: 0.650 - ETA: 40s - loss: 0.6169 - categorical_accuracy: 0.677 - ETA: 36s - loss: 0.6165 - categorical_accuracy: 0.683 - ETA: 31s - loss: 0.6227 - categorical_accuracy: 0.646 - ETA: 27s - loss: 0.6106 - categorical_accuracy: 0.666 - ETA: 22s - loss: 0.6058 - categorical_accuracy: 0.671 - ETA: 17s - loss: 0.5937 - categorical_accuracy: 0.675 - ETA: 12s - loss: 0.5925 - categorical_accuracy: 0.674 - ETA: 7s - loss: 0.5866 - categorical_accuracy: 0.673 - ETA: 3s - loss: 0.5851 - categorical_accuracy: 0.68 - 63s 181ms/step - loss: 0.5901 - categorical_accuracy: 0.6734 - val_loss: 0.5330 - val_categorical_accuracy: 0.7616\n",
      "Epoch 14/50\n",
      "349/349 [==============================] - ETA: 51s - loss: 0.6089 - categorical_accuracy: 0.733 - ETA: 43s - loss: 0.6105 - categorical_accuracy: 0.683 - ETA: 38s - loss: 0.6071 - categorical_accuracy: 0.722 - ETA: 33s - loss: 0.6061 - categorical_accuracy: 0.675 - ETA: 29s - loss: 0.6010 - categorical_accuracy: 0.660 - ETA: 24s - loss: 0.5897 - categorical_accuracy: 0.672 - ETA: 20s - loss: 0.5907 - categorical_accuracy: 0.661 - ETA: 16s - loss: 0.5983 - categorical_accuracy: 0.645 - ETA: 11s - loss: 0.5930 - categorical_accuracy: 0.659 - ETA: 7s - loss: 0.5888 - categorical_accuracy: 0.663 - ETA: 2s - loss: 0.5932 - categorical_accuracy: 0.65 - 59s 170ms/step - loss: 0.5909 - categorical_accuracy: 0.6562 - val_loss: 0.5304 - val_categorical_accuracy: 0.6424\n",
      "Epoch 15/50\n",
      "349/349 [==============================] - ETA: 48s - loss: 0.5626 - categorical_accuracy: 0.666 - ETA: 44s - loss: 0.5696 - categorical_accuracy: 0.633 - ETA: 40s - loss: 0.5756 - categorical_accuracy: 0.622 - ETA: 36s - loss: 0.5953 - categorical_accuracy: 0.583 - ETA: 31s - loss: 0.5878 - categorical_accuracy: 0.580 - ETA: 26s - loss: 0.5871 - categorical_accuracy: 0.588 - ETA: 22s - loss: 0.5878 - categorical_accuracy: 0.590 - ETA: 17s - loss: 0.5971 - categorical_accuracy: 0.587 - ETA: 12s - loss: 0.5972 - categorical_accuracy: 0.603 - ETA: 7s - loss: 0.5940 - categorical_accuracy: 0.616 - ETA: 2s - loss: 0.5885 - categorical_accuracy: 0.62 - 61s 176ms/step - loss: 0.5885 - categorical_accuracy: 0.6304 - val_loss: 0.5291 - val_categorical_accuracy: 0.6159\n",
      "Epoch 16/50\n",
      "349/349 [==============================] - ETA: 51s - loss: 0.5648 - categorical_accuracy: 0.600 - ETA: 46s - loss: 0.5612 - categorical_accuracy: 0.633 - ETA: 41s - loss: 0.5841 - categorical_accuracy: 0.633 - ETA: 35s - loss: 0.5865 - categorical_accuracy: 0.633 - ETA: 30s - loss: 0.5883 - categorical_accuracy: 0.613 - ETA: 26s - loss: 0.5838 - categorical_accuracy: 0.605 - ETA: 21s - loss: 0.5833 - categorical_accuracy: 0.604 - ETA: 17s - loss: 0.5890 - categorical_accuracy: 0.620 - ETA: 12s - loss: 0.5852 - categorical_accuracy: 0.622 - ETA: 7s - loss: 0.5927 - categorical_accuracy: 0.613 - ETA: 2s - loss: 0.5910 - categorical_accuracy: 0.63 - 62s 178ms/step - loss: 0.5851 - categorical_accuracy: 0.6390 - val_loss: 0.5199 - val_categorical_accuracy: 0.7748\n",
      "Epoch 17/50\n",
      "349/349 [==============================] - ETA: 50s - loss: 0.5465 - categorical_accuracy: 0.733 - ETA: 47s - loss: 0.5501 - categorical_accuracy: 0.700 - ETA: 42s - loss: 0.5799 - categorical_accuracy: 0.688 - ETA: 37s - loss: 0.5666 - categorical_accuracy: 0.708 - ETA: 32s - loss: 0.5747 - categorical_accuracy: 0.686 - ETA: 27s - loss: 0.5820 - categorical_accuracy: 0.666 - ETA: 22s - loss: 0.5952 - categorical_accuracy: 0.647 - ETA: 17s - loss: 0.5953 - categorical_accuracy: 0.645 - ETA: 12s - loss: 0.5986 - categorical_accuracy: 0.637 - ETA: 7s - loss: 0.5920 - categorical_accuracy: 0.636 - ETA: 2s - loss: 0.5861 - categorical_accuracy: 0.63 - 62s 178ms/step - loss: 0.5838 - categorical_accuracy: 0.6332 - val_loss: 0.5241 - val_categorical_accuracy: 0.7020\n",
      "Epoch 18/50\n",
      "349/349 [==============================] - ETA: 51s - loss: 0.6126 - categorical_accuracy: 0.633 - ETA: 47s - loss: 0.6010 - categorical_accuracy: 0.683 - ETA: 40s - loss: 0.6125 - categorical_accuracy: 0.622 - ETA: 35s - loss: 0.6007 - categorical_accuracy: 0.616 - ETA: 30s - loss: 0.6024 - categorical_accuracy: 0.606 - ETA: 26s - loss: 0.5958 - categorical_accuracy: 0.627 - ETA: 21s - loss: 0.5752 - categorical_accuracy: 0.666 - ETA: 16s - loss: 0.5648 - categorical_accuracy: 0.670 - ETA: 12s - loss: 0.5666 - categorical_accuracy: 0.670 - ETA: 7s - loss: 0.5676 - categorical_accuracy: 0.656 - ETA: 2s - loss: 0.5702 - categorical_accuracy: 0.65 - 62s 177ms/step - loss: 0.5740 - categorical_accuracy: 0.6418 - val_loss: 0.5456 - val_categorical_accuracy: 0.6424\n",
      "Epoch 19/50\n",
      "349/349 [==============================] - ETA: 52s - loss: 0.5752 - categorical_accuracy: 0.600 - ETA: 47s - loss: 0.5490 - categorical_accuracy: 0.633 - ETA: 42s - loss: 0.5761 - categorical_accuracy: 0.677 - ETA: 37s - loss: 0.5953 - categorical_accuracy: 0.700 - ETA: 32s - loss: 0.5968 - categorical_accuracy: 0.673 - ETA: 27s - loss: 0.5996 - categorical_accuracy: 0.655 - ETA: 22s - loss: 0.5830 - categorical_accuracy: 0.676 - ETA: 17s - loss: 0.5959 - categorical_accuracy: 0.650 - ETA: 12s - loss: 0.5899 - categorical_accuracy: 0.655 - ETA: 7s - loss: 0.5874 - categorical_accuracy: 0.656 - ETA: 2s - loss: 0.5875 - categorical_accuracy: 0.66 - 61s 175ms/step - loss: 0.5878 - categorical_accuracy: 0.6590 - val_loss: 0.5526 - val_categorical_accuracy: 0.6159\n",
      "Epoch 20/50\n",
      "349/349 [==============================] - ETA: 45s - loss: 0.5650 - categorical_accuracy: 0.700 - ETA: 42s - loss: 0.5805 - categorical_accuracy: 0.716 - ETA: 39s - loss: 0.5760 - categorical_accuracy: 0.711 - ETA: 35s - loss: 0.5502 - categorical_accuracy: 0.716 - ETA: 30s - loss: 0.5835 - categorical_accuracy: 0.653 - ETA: 26s - loss: 0.5830 - categorical_accuracy: 0.644 - ETA: 21s - loss: 0.5829 - categorical_accuracy: 0.652 - ETA: 16s - loss: 0.5803 - categorical_accuracy: 0.662 - ETA: 12s - loss: 0.5799 - categorical_accuracy: 0.659 - ETA: 7s - loss: 0.5794 - categorical_accuracy: 0.656 - ETA: 2s - loss: 0.5752 - categorical_accuracy: 0.66 - 61s 175ms/step - loss: 0.5776 - categorical_accuracy: 0.6590 - val_loss: 0.5131 - val_categorical_accuracy: 0.7682\n",
      "Epoch 21/50\n"
     ]
    },
    {
     "name": "stdout",
     "output_type": "stream",
     "text": [
      "349/349 [==============================] - ETA: 49s - loss: 0.5971 - categorical_accuracy: 0.666 - ETA: 45s - loss: 0.6323 - categorical_accuracy: 0.583 - ETA: 41s - loss: 0.6477 - categorical_accuracy: 0.533 - ETA: 36s - loss: 0.6252 - categorical_accuracy: 0.575 - ETA: 31s - loss: 0.6150 - categorical_accuracy: 0.600 - ETA: 26s - loss: 0.6042 - categorical_accuracy: 0.611 - ETA: 22s - loss: 0.5940 - categorical_accuracy: 0.623 - ETA: 17s - loss: 0.5867 - categorical_accuracy: 0.637 - ETA: 12s - loss: 0.5827 - categorical_accuracy: 0.644 - ETA: 7s - loss: 0.5695 - categorical_accuracy: 0.653 - ETA: 3s - loss: 0.5707 - categorical_accuracy: 0.64 - 63s 182ms/step - loss: 0.5754 - categorical_accuracy: 0.6418 - val_loss: 0.5250 - val_categorical_accuracy: 0.7152\n",
      "Epoch 22/50\n",
      "349/349 [==============================] - ETA: 51s - loss: 0.5536 - categorical_accuracy: 0.766 - ETA: 45s - loss: 0.5814 - categorical_accuracy: 0.683 - ETA: 41s - loss: 0.5818 - categorical_accuracy: 0.711 - ETA: 36s - loss: 0.5813 - categorical_accuracy: 0.708 - ETA: 32s - loss: 0.5737 - categorical_accuracy: 0.700 - ETA: 27s - loss: 0.5843 - categorical_accuracy: 0.694 - ETA: 22s - loss: 0.5748 - categorical_accuracy: 0.700 - ETA: 17s - loss: 0.5800 - categorical_accuracy: 0.687 - ETA: 12s - loss: 0.5824 - categorical_accuracy: 0.677 - ETA: 7s - loss: 0.5715 - categorical_accuracy: 0.686 - ETA: 3s - loss: 0.5733 - categorical_accuracy: 0.68 - 64s 182ms/step - loss: 0.5761 - categorical_accuracy: 0.6848 - val_loss: 0.5194 - val_categorical_accuracy: 0.7550\n",
      "Epoch 23/50\n",
      "349/349 [==============================] - ETA: 46s - loss: 0.4962 - categorical_accuracy: 0.733 - ETA: 44s - loss: 0.5619 - categorical_accuracy: 0.666 - ETA: 39s - loss: 0.5868 - categorical_accuracy: 0.677 - ETA: 34s - loss: 0.5652 - categorical_accuracy: 0.700 - ETA: 30s - loss: 0.5674 - categorical_accuracy: 0.693 - ETA: 26s - loss: 0.5775 - categorical_accuracy: 0.688 - ETA: 21s - loss: 0.5793 - categorical_accuracy: 0.671 - ETA: 16s - loss: 0.5744 - categorical_accuracy: 0.683 - ETA: 12s - loss: 0.5715 - categorical_accuracy: 0.696 - ETA: 7s - loss: 0.5711 - categorical_accuracy: 0.690 - ETA: 2s - loss: 0.5772 - categorical_accuracy: 0.67 - 62s 177ms/step - loss: 0.5756 - categorical_accuracy: 0.6791 - val_loss: 0.5157 - val_categorical_accuracy: 0.7815\n",
      "Epoch 24/50\n",
      "349/349 [==============================] - ETA: 51s - loss: 0.6405 - categorical_accuracy: 0.466 - ETA: 45s - loss: 0.5613 - categorical_accuracy: 0.616 - ETA: 40s - loss: 0.5468 - categorical_accuracy: 0.633 - ETA: 35s - loss: 0.5651 - categorical_accuracy: 0.608 - ETA: 31s - loss: 0.5571 - categorical_accuracy: 0.620 - ETA: 26s - loss: 0.5565 - categorical_accuracy: 0.627 - ETA: 21s - loss: 0.5544 - categorical_accuracy: 0.652 - ETA: 16s - loss: 0.5539 - categorical_accuracy: 0.666 - ETA: 12s - loss: 0.5615 - categorical_accuracy: 0.655 - ETA: 7s - loss: 0.5571 - categorical_accuracy: 0.656 - ETA: 2s - loss: 0.5604 - categorical_accuracy: 0.65 - 61s 176ms/step - loss: 0.5609 - categorical_accuracy: 0.6533 - val_loss: 0.5198 - val_categorical_accuracy: 0.6159\n",
      "Epoch 25/50\n",
      "349/349 [==============================] - ETA: 49s - loss: 0.6410 - categorical_accuracy: 0.600 - ETA: 44s - loss: 0.6231 - categorical_accuracy: 0.616 - ETA: 39s - loss: 0.5910 - categorical_accuracy: 0.677 - ETA: 35s - loss: 0.5764 - categorical_accuracy: 0.708 - ETA: 30s - loss: 0.5895 - categorical_accuracy: 0.686 - ETA: 25s - loss: 0.5923 - categorical_accuracy: 0.683 - ETA: 21s - loss: 0.5915 - categorical_accuracy: 0.666 - ETA: 16s - loss: 0.5776 - categorical_accuracy: 0.687 - ETA: 12s - loss: 0.5742 - categorical_accuracy: 0.696 - ETA: 7s - loss: 0.5788 - categorical_accuracy: 0.690 - ETA: 2s - loss: 0.5798 - categorical_accuracy: 0.68 - 60s 172ms/step - loss: 0.5748 - categorical_accuracy: 0.6848 - val_loss: 0.5191 - val_categorical_accuracy: 0.6225\n",
      "Epoch 26/50\n",
      "349/349 [==============================] - ETA: 48s - loss: 0.5892 - categorical_accuracy: 0.733 - ETA: 43s - loss: 0.5595 - categorical_accuracy: 0.716 - ETA: 38s - loss: 0.5811 - categorical_accuracy: 0.644 - ETA: 33s - loss: 0.5763 - categorical_accuracy: 0.625 - ETA: 29s - loss: 0.5777 - categorical_accuracy: 0.620 - ETA: 25s - loss: 0.5706 - categorical_accuracy: 0.633 - ETA: 20s - loss: 0.5717 - categorical_accuracy: 0.628 - ETA: 16s - loss: 0.5794 - categorical_accuracy: 0.625 - ETA: 11s - loss: 0.5878 - categorical_accuracy: 0.618 - ETA: 7s - loss: 0.5933 - categorical_accuracy: 0.606 - ETA: 2s - loss: 0.5830 - categorical_accuracy: 0.62 - 59s 168ms/step - loss: 0.5818 - categorical_accuracy: 0.6246 - val_loss: 0.5290 - val_categorical_accuracy: 0.6225\n",
      "Epoch 27/50\n",
      "349/349 [==============================] - ETA: 46s - loss: 0.5614 - categorical_accuracy: 0.566 - ETA: 43s - loss: 0.6005 - categorical_accuracy: 0.566 - ETA: 39s - loss: 0.5615 - categorical_accuracy: 0.588 - ETA: 35s - loss: 0.5588 - categorical_accuracy: 0.591 - ETA: 31s - loss: 0.5540 - categorical_accuracy: 0.620 - ETA: 26s - loss: 0.5720 - categorical_accuracy: 0.622 - ETA: 21s - loss: 0.5711 - categorical_accuracy: 0.642 - ETA: 16s - loss: 0.5749 - categorical_accuracy: 0.633 - ETA: 12s - loss: 0.5735 - categorical_accuracy: 0.633 - ETA: 7s - loss: 0.5772 - categorical_accuracy: 0.633 - ETA: 2s - loss: 0.5746 - categorical_accuracy: 0.64 - 62s 177ms/step - loss: 0.5635 - categorical_accuracy: 0.6562 - val_loss: 0.5198 - val_categorical_accuracy: 0.6159\n",
      "Epoch 28/50\n",
      "349/349 [==============================] - ETA: 50s - loss: 0.4872 - categorical_accuracy: 0.733 - ETA: 46s - loss: 0.5511 - categorical_accuracy: 0.683 - ETA: 40s - loss: 0.5431 - categorical_accuracy: 0.677 - ETA: 36s - loss: 0.5405 - categorical_accuracy: 0.683 - ETA: 31s - loss: 0.5460 - categorical_accuracy: 0.700 - ETA: 26s - loss: 0.5322 - categorical_accuracy: 0.705 - ETA: 22s - loss: 0.5354 - categorical_accuracy: 0.690 - ETA: 17s - loss: 0.5477 - categorical_accuracy: 0.658 - ETA: 12s - loss: 0.5540 - categorical_accuracy: 0.651 - ETA: 7s - loss: 0.5562 - categorical_accuracy: 0.650 - ETA: 2s - loss: 0.5564 - categorical_accuracy: 0.65 - 62s 177ms/step - loss: 0.5602 - categorical_accuracy: 0.6533 - val_loss: 0.5233 - val_categorical_accuracy: 0.6225\n",
      "Epoch 29/50\n",
      "349/349 [==============================] - ETA: 49s - loss: 0.5412 - categorical_accuracy: 0.766 - ETA: 45s - loss: 0.5800 - categorical_accuracy: 0.766 - ETA: 40s - loss: 0.5748 - categorical_accuracy: 0.711 - ETA: 35s - loss: 0.5620 - categorical_accuracy: 0.725 - ETA: 31s - loss: 0.5546 - categorical_accuracy: 0.726 - ETA: 26s - loss: 0.5529 - categorical_accuracy: 0.705 - ETA: 21s - loss: 0.5494 - categorical_accuracy: 0.695 - ETA: 16s - loss: 0.5482 - categorical_accuracy: 0.700 - ETA: 12s - loss: 0.5557 - categorical_accuracy: 0.681 - ETA: 7s - loss: 0.5691 - categorical_accuracy: 0.660 - ETA: 2s - loss: 0.5683 - categorical_accuracy: 0.66 - 61s 176ms/step - loss: 0.5696 - categorical_accuracy: 0.6590 - val_loss: 0.5261 - val_categorical_accuracy: 0.6821\n",
      "Epoch 30/50\n",
      "349/349 [==============================] - ETA: 48s - loss: 0.5275 - categorical_accuracy: 0.733 - ETA: 45s - loss: 0.5467 - categorical_accuracy: 0.716 - ETA: 40s - loss: 0.5396 - categorical_accuracy: 0.700 - ETA: 36s - loss: 0.5553 - categorical_accuracy: 0.675 - ETA: 31s - loss: 0.5699 - categorical_accuracy: 0.646 - ETA: 27s - loss: 0.5827 - categorical_accuracy: 0.616 - ETA: 22s - loss: 0.5842 - categorical_accuracy: 0.638 - ETA: 17s - loss: 0.5777 - categorical_accuracy: 0.637 - ETA: 12s - loss: 0.5740 - categorical_accuracy: 0.644 - ETA: 7s - loss: 0.5733 - categorical_accuracy: 0.643 - ETA: 3s - loss: 0.5729 - categorical_accuracy: 0.64 - 63s 180ms/step - loss: 0.5735 - categorical_accuracy: 0.6418 - val_loss: 0.5204 - val_categorical_accuracy: 0.6159\n",
      "Epoch 31/50\n",
      "349/349 [==============================] - ETA: 48s - loss: 0.5749 - categorical_accuracy: 0.566 - ETA: 45s - loss: 0.6056 - categorical_accuracy: 0.616 - ETA: 40s - loss: 0.5954 - categorical_accuracy: 0.633 - ETA: 35s - loss: 0.5919 - categorical_accuracy: 0.675 - ETA: 31s - loss: 0.5706 - categorical_accuracy: 0.706 - ETA: 26s - loss: 0.5665 - categorical_accuracy: 0.700 - ETA: 22s - loss: 0.5692 - categorical_accuracy: 0.671 - ETA: 17s - loss: 0.5684 - categorical_accuracy: 0.670 - ETA: 12s - loss: 0.5640 - categorical_accuracy: 0.685 - ETA: 7s - loss: 0.5671 - categorical_accuracy: 0.686 - ETA: 2s - loss: 0.5723 - categorical_accuracy: 0.67 - 62s 177ms/step - loss: 0.5718 - categorical_accuracy: 0.6705 - val_loss: 0.5194 - val_categorical_accuracy: 0.6424\n",
      "Epoch 32/50\n",
      "349/349 [==============================] - ETA: 47s - loss: 0.5435 - categorical_accuracy: 0.733 - ETA: 43s - loss: 0.5502 - categorical_accuracy: 0.633 - ETA: 39s - loss: 0.5787 - categorical_accuracy: 0.577 - ETA: 35s - loss: 0.5761 - categorical_accuracy: 0.566 - ETA: 30s - loss: 0.5812 - categorical_accuracy: 0.593 - ETA: 26s - loss: 0.5717 - categorical_accuracy: 0.622 - ETA: 21s - loss: 0.5638 - categorical_accuracy: 0.633 - ETA: 16s - loss: 0.5721 - categorical_accuracy: 0.620 - ETA: 12s - loss: 0.5833 - categorical_accuracy: 0.603 - ETA: 7s - loss: 0.5805 - categorical_accuracy: 0.613 - ETA: 2s - loss: 0.5791 - categorical_accuracy: 0.62 - 61s 176ms/step - loss: 0.5781 - categorical_accuracy: 0.6218 - val_loss: 0.5173 - val_categorical_accuracy: 0.7616\n",
      "Epoch 33/50\n",
      "349/349 [==============================] - ETA: 52s - loss: 0.5790 - categorical_accuracy: 0.566 - ETA: 47s - loss: 0.5669 - categorical_accuracy: 0.566 - ETA: 42s - loss: 0.5723 - categorical_accuracy: 0.611 - ETA: 37s - loss: 0.5730 - categorical_accuracy: 0.608 - ETA: 32s - loss: 0.5764 - categorical_accuracy: 0.613 - ETA: 27s - loss: 0.5791 - categorical_accuracy: 0.633 - ETA: 22s - loss: 0.5788 - categorical_accuracy: 0.638 - ETA: 17s - loss: 0.5662 - categorical_accuracy: 0.650 - ETA: 12s - loss: 0.5581 - categorical_accuracy: 0.655 - ETA: 7s - loss: 0.5585 - categorical_accuracy: 0.653 - ETA: 3s - loss: 0.5616 - categorical_accuracy: 0.63 - 64s 183ms/step - loss: 0.5636 - categorical_accuracy: 0.6390 - val_loss: 0.5229 - val_categorical_accuracy: 0.7086\n",
      "Epoch 34/50\n",
      "349/349 [==============================] - ETA: 54s - loss: 0.6045 - categorical_accuracy: 0.566 - ETA: 46s - loss: 0.6051 - categorical_accuracy: 0.566 - ETA: 41s - loss: 0.5583 - categorical_accuracy: 0.655 - ETA: 36s - loss: 0.5813 - categorical_accuracy: 0.650 - ETA: 31s - loss: 0.5779 - categorical_accuracy: 0.653 - ETA: 27s - loss: 0.5793 - categorical_accuracy: 0.627 - ETA: 22s - loss: 0.5804 - categorical_accuracy: 0.628 - ETA: 17s - loss: 0.5751 - categorical_accuracy: 0.637 - ETA: 12s - loss: 0.5744 - categorical_accuracy: 0.640 - ETA: 7s - loss: 0.5779 - categorical_accuracy: 0.636 - ETA: 3s - loss: 0.5761 - categorical_accuracy: 0.63 - 62s 179ms/step - loss: 0.5788 - categorical_accuracy: 0.6361 - val_loss: 0.5561 - val_categorical_accuracy: 0.6093\n",
      "Epoch 35/50\n",
      "349/349 [==============================] - ETA: 50s - loss: 0.5441 - categorical_accuracy: 0.666 - ETA: 46s - loss: 0.5596 - categorical_accuracy: 0.633 - ETA: 41s - loss: 0.5983 - categorical_accuracy: 0.588 - ETA: 36s - loss: 0.6091 - categorical_accuracy: 0.591 - ETA: 32s - loss: 0.6012 - categorical_accuracy: 0.600 - ETA: 27s - loss: 0.5926 - categorical_accuracy: 0.616 - ETA: 21s - loss: 0.5954 - categorical_accuracy: 0.619 - ETA: 16s - loss: 0.5860 - categorical_accuracy: 0.625 - ETA: 12s - loss: 0.5830 - categorical_accuracy: 0.629 - ETA: 7s - loss: 0.5930 - categorical_accuracy: 0.620 - ETA: 2s - loss: 0.5924 - categorical_accuracy: 0.62 - 60s 171ms/step - loss: 0.5900 - categorical_accuracy: 0.6218 - val_loss: 0.5362 - val_categorical_accuracy: 0.6291\n",
      "Epoch 36/50\n",
      "349/349 [==============================] - ETA: 45s - loss: 0.5087 - categorical_accuracy: 0.800 - ETA: 40s - loss: 0.5501 - categorical_accuracy: 0.716 - ETA: 36s - loss: 0.5536 - categorical_accuracy: 0.700 - ETA: 32s - loss: 0.5659 - categorical_accuracy: 0.650 - ETA: 28s - loss: 0.5529 - categorical_accuracy: 0.646 - ETA: 24s - loss: 0.5629 - categorical_accuracy: 0.616 - ETA: 20s - loss: 0.5680 - categorical_accuracy: 0.609 - ETA: 16s - loss: 0.5726 - categorical_accuracy: 0.620 - ETA: 11s - loss: 0.5744 - categorical_accuracy: 0.637 - ETA: 7s - loss: 0.5801 - categorical_accuracy: 0.620 - ETA: 2s - loss: 0.5856 - categorical_accuracy: 0.61 - 59s 169ms/step - loss: 0.5791 - categorical_accuracy: 0.6218 - val_loss: 0.5223 - val_categorical_accuracy: 0.6623\n",
      "Epoch 37/50\n",
      "349/349 [==============================] - ETA: 53s - loss: 0.5779 - categorical_accuracy: 0.600 - ETA: 46s - loss: 0.5685 - categorical_accuracy: 0.583 - ETA: 41s - loss: 0.5550 - categorical_accuracy: 0.622 - ETA: 37s - loss: 0.5880 - categorical_accuracy: 0.608 - ETA: 31s - loss: 0.5814 - categorical_accuracy: 0.640 - ETA: 26s - loss: 0.5877 - categorical_accuracy: 0.622 - ETA: 21s - loss: 0.5742 - categorical_accuracy: 0.628 - ETA: 17s - loss: 0.5812 - categorical_accuracy: 0.612 - ETA: 12s - loss: 0.5862 - categorical_accuracy: 0.611 - ETA: 7s - loss: 0.5820 - categorical_accuracy: 0.623 - ETA: 2s - loss: 0.5835 - categorical_accuracy: 0.63 - 62s 177ms/step - loss: 0.5830 - categorical_accuracy: 0.6275 - val_loss: 0.5227 - val_categorical_accuracy: 0.6291\n",
      "Epoch 38/50\n",
      "349/349 [==============================] - ETA: 45s - loss: 0.5373 - categorical_accuracy: 0.700 - ETA: 42s - loss: 0.5614 - categorical_accuracy: 0.700 - ETA: 38s - loss: 0.5612 - categorical_accuracy: 0.677 - ETA: 34s - loss: 0.5814 - categorical_accuracy: 0.641 - ETA: 30s - loss: 0.5751 - categorical_accuracy: 0.626 - ETA: 25s - loss: 0.5778 - categorical_accuracy: 0.633 - ETA: 21s - loss: 0.5607 - categorical_accuracy: 0.642 - ETA: 16s - loss: 0.5578 - categorical_accuracy: 0.650 - ETA: 12s - loss: 0.5636 - categorical_accuracy: 0.648 - ETA: 7s - loss: 0.5680 - categorical_accuracy: 0.643 - ETA: 2s - loss: 0.5748 - categorical_accuracy: 0.63 - 62s 178ms/step - loss: 0.5717 - categorical_accuracy: 0.6447 - val_loss: 0.5232 - val_categorical_accuracy: 0.6821\n",
      "Epoch 39/50\n",
      "349/349 [==============================] - ETA: 50s - loss: 0.5563 - categorical_accuracy: 0.733 - ETA: 46s - loss: 0.5686 - categorical_accuracy: 0.650 - ETA: 41s - loss: 0.5701 - categorical_accuracy: 0.633 - ETA: 36s - loss: 0.5850 - categorical_accuracy: 0.633 - ETA: 31s - loss: 0.5799 - categorical_accuracy: 0.646 - ETA: 26s - loss: 0.5895 - categorical_accuracy: 0.633 - ETA: 22s - loss: 0.5824 - categorical_accuracy: 0.642 - ETA: 17s - loss: 0.5766 - categorical_accuracy: 0.650 - ETA: 12s - loss: 0.5841 - categorical_accuracy: 0.629 - ETA: 7s - loss: 0.5836 - categorical_accuracy: 0.620 - ETA: 3s - loss: 0.5846 - categorical_accuracy: 0.61 - 62s 179ms/step - loss: 0.5808 - categorical_accuracy: 0.6218 - val_loss: 0.5253 - val_categorical_accuracy: 0.6026\n",
      "Epoch 40/50\n",
      "349/349 [==============================] - ETA: 52s - loss: 0.6022 - categorical_accuracy: 0.600 - ETA: 46s - loss: 0.5924 - categorical_accuracy: 0.583 - ETA: 40s - loss: 0.5958 - categorical_accuracy: 0.577 - ETA: 36s - loss: 0.5842 - categorical_accuracy: 0.608 - ETA: 31s - loss: 0.5957 - categorical_accuracy: 0.593 - ETA: 26s - loss: 0.5905 - categorical_accuracy: 0.594 - ETA: 22s - loss: 0.5932 - categorical_accuracy: 0.600 - ETA: 17s - loss: 0.5921 - categorical_accuracy: 0.595 - ETA: 12s - loss: 0.5882 - categorical_accuracy: 0.603 - ETA: 7s - loss: 0.5880 - categorical_accuracy: 0.603 - ETA: 3s - loss: 0.5841 - categorical_accuracy: 0.61 - 62s 178ms/step - loss: 0.5842 - categorical_accuracy: 0.6132 - val_loss: 0.5238 - val_categorical_accuracy: 0.5894\n",
      "Epoch 41/50\n"
     ]
    },
    {
     "name": "stdout",
     "output_type": "stream",
     "text": [
      "349/349 [==============================] - ETA: 51s - loss: 0.5581 - categorical_accuracy: 0.633 - ETA: 44s - loss: 0.5912 - categorical_accuracy: 0.600 - ETA: 39s - loss: 0.5534 - categorical_accuracy: 0.633 - ETA: 34s - loss: 0.5280 - categorical_accuracy: 0.666 - ETA: 30s - loss: 0.5314 - categorical_accuracy: 0.666 - ETA: 26s - loss: 0.5302 - categorical_accuracy: 0.666 - ETA: 21s - loss: 0.5428 - categorical_accuracy: 0.652 - ETA: 17s - loss: 0.5488 - categorical_accuracy: 0.645 - ETA: 12s - loss: 0.5546 - categorical_accuracy: 0.651 - ETA: 7s - loss: 0.5649 - categorical_accuracy: 0.650 - ETA: 3s - loss: 0.5669 - categorical_accuracy: 0.64 - 63s 179ms/step - loss: 0.5674 - categorical_accuracy: 0.6504 - val_loss: 0.5349 - val_categorical_accuracy: 0.6159\n",
      "Epoch 42/50\n",
      "349/349 [==============================] - ETA: 53s - loss: 0.5576 - categorical_accuracy: 0.600 - ETA: 47s - loss: 0.5059 - categorical_accuracy: 0.683 - ETA: 41s - loss: 0.5172 - categorical_accuracy: 0.688 - ETA: 36s - loss: 0.5455 - categorical_accuracy: 0.675 - ETA: 31s - loss: 0.5455 - categorical_accuracy: 0.680 - ETA: 26s - loss: 0.5371 - categorical_accuracy: 0.700 - ETA: 22s - loss: 0.5410 - categorical_accuracy: 0.704 - ETA: 17s - loss: 0.5498 - categorical_accuracy: 0.691 - ETA: 12s - loss: 0.5522 - categorical_accuracy: 0.696 - ETA: 7s - loss: 0.5522 - categorical_accuracy: 0.696 - ETA: 3s - loss: 0.5434 - categorical_accuracy: 0.69 - 63s 179ms/step - loss: 0.5518 - categorical_accuracy: 0.6791 - val_loss: 0.5324 - val_categorical_accuracy: 0.6358\n",
      "Epoch 43/50\n",
      "349/349 [==============================] - ETA: 52s - loss: 0.4975 - categorical_accuracy: 0.700 - ETA: 45s - loss: 0.4758 - categorical_accuracy: 0.716 - ETA: 39s - loss: 0.4969 - categorical_accuracy: 0.677 - ETA: 35s - loss: 0.5290 - categorical_accuracy: 0.666 - ETA: 30s - loss: 0.5643 - categorical_accuracy: 0.646 - ETA: 25s - loss: 0.5452 - categorical_accuracy: 0.688 - ETA: 21s - loss: 0.5477 - categorical_accuracy: 0.690 - ETA: 16s - loss: 0.5460 - categorical_accuracy: 0.679 - ETA: 12s - loss: 0.5445 - categorical_accuracy: 0.688 - ETA: 7s - loss: 0.5397 - categorical_accuracy: 0.703 - ETA: 2s - loss: 0.5427 - categorical_accuracy: 0.69 - 61s 174ms/step - loss: 0.5480 - categorical_accuracy: 0.6963 - val_loss: 0.5319 - val_categorical_accuracy: 0.7219\n",
      "Epoch 44/50\n",
      "349/349 [==============================] - ETA: 50s - loss: 0.5447 - categorical_accuracy: 0.700 - ETA: 45s - loss: 0.5383 - categorical_accuracy: 0.716 - ETA: 40s - loss: 0.5388 - categorical_accuracy: 0.722 - ETA: 35s - loss: 0.5491 - categorical_accuracy: 0.733 - ETA: 30s - loss: 0.5435 - categorical_accuracy: 0.726 - ETA: 26s - loss: 0.5290 - categorical_accuracy: 0.727 - ETA: 21s - loss: 0.5201 - categorical_accuracy: 0.738 - ETA: 16s - loss: 0.5351 - categorical_accuracy: 0.716 - ETA: 12s - loss: 0.5421 - categorical_accuracy: 0.703 - ETA: 7s - loss: 0.5356 - categorical_accuracy: 0.710 - ETA: 2s - loss: 0.5389 - categorical_accuracy: 0.70 - 61s 173ms/step - loss: 0.5379 - categorical_accuracy: 0.7077 - val_loss: 0.5081 - val_categorical_accuracy: 0.7152\n",
      "Epoch 45/50\n",
      "349/349 [==============================] - ETA: 49s - loss: 0.4897 - categorical_accuracy: 0.766 - ETA: 44s - loss: 0.5179 - categorical_accuracy: 0.700 - ETA: 39s - loss: 0.5309 - categorical_accuracy: 0.700 - ETA: 34s - loss: 0.5242 - categorical_accuracy: 0.708 - ETA: 29s - loss: 0.5294 - categorical_accuracy: 0.700 - ETA: 25s - loss: 0.5334 - categorical_accuracy: 0.694 - ETA: 21s - loss: 0.5552 - categorical_accuracy: 0.676 - ETA: 16s - loss: 0.5619 - categorical_accuracy: 0.666 - ETA: 12s - loss: 0.5614 - categorical_accuracy: 0.674 - ETA: 7s - loss: 0.5595 - categorical_accuracy: 0.676 - ETA: 2s - loss: 0.5634 - categorical_accuracy: 0.67 - 62s 177ms/step - loss: 0.5708 - categorical_accuracy: 0.6734 - val_loss: 0.5235 - val_categorical_accuracy: 0.6159\n",
      "Epoch 46/50\n",
      "349/349 [==============================] - ETA: 51s - loss: 0.4786 - categorical_accuracy: 0.733 - ETA: 45s - loss: 0.5432 - categorical_accuracy: 0.666 - ETA: 41s - loss: 0.5477 - categorical_accuracy: 0.655 - ETA: 36s - loss: 0.5610 - categorical_accuracy: 0.658 - ETA: 31s - loss: 0.5696 - categorical_accuracy: 0.640 - ETA: 27s - loss: 0.5592 - categorical_accuracy: 0.661 - ETA: 22s - loss: 0.5548 - categorical_accuracy: 0.681 - ETA: 17s - loss: 0.5487 - categorical_accuracy: 0.691 - ETA: 12s - loss: 0.5523 - categorical_accuracy: 0.681 - ETA: 7s - loss: 0.5511 - categorical_accuracy: 0.680 - ETA: 3s - loss: 0.5533 - categorical_accuracy: 0.67 - 64s 184ms/step - loss: 0.5594 - categorical_accuracy: 0.6676 - val_loss: 0.5055 - val_categorical_accuracy: 0.6424\n",
      "Epoch 47/50\n",
      "349/349 [==============================] - ETA: 50s - loss: 0.5062 - categorical_accuracy: 0.800 - ETA: 45s - loss: 0.5128 - categorical_accuracy: 0.800 - ETA: 40s - loss: 0.5916 - categorical_accuracy: 0.733 - ETA: 36s - loss: 0.5840 - categorical_accuracy: 0.708 - ETA: 31s - loss: 0.5549 - categorical_accuracy: 0.713 - ETA: 26s - loss: 0.5356 - categorical_accuracy: 0.733 - ETA: 21s - loss: 0.5311 - categorical_accuracy: 0.728 - ETA: 16s - loss: 0.5393 - categorical_accuracy: 0.725 - ETA: 11s - loss: 0.5425 - categorical_accuracy: 0.707 - ETA: 7s - loss: 0.5397 - categorical_accuracy: 0.710 - ETA: 2s - loss: 0.5438 - categorical_accuracy: 0.70 - 59s 169ms/step - loss: 0.5363 - categorical_accuracy: 0.7135 - val_loss: 0.4860 - val_categorical_accuracy: 0.7550\n",
      "Epoch 48/50\n",
      "349/349 [==============================] - ETA: 46s - loss: 0.4928 - categorical_accuracy: 0.766 - ETA: 42s - loss: 0.5265 - categorical_accuracy: 0.733 - ETA: 38s - loss: 0.5423 - categorical_accuracy: 0.722 - ETA: 33s - loss: 0.5675 - categorical_accuracy: 0.700 - ETA: 29s - loss: 0.5669 - categorical_accuracy: 0.693 - ETA: 24s - loss: 0.5738 - categorical_accuracy: 0.666 - ETA: 20s - loss: 0.5691 - categorical_accuracy: 0.657 - ETA: 15s - loss: 0.5713 - categorical_accuracy: 0.662 - ETA: 11s - loss: 0.5652 - categorical_accuracy: 0.666 - ETA: 7s - loss: 0.5497 - categorical_accuracy: 0.683 - ETA: 2s - loss: 0.5517 - categorical_accuracy: 0.68 - 56s 162ms/step - loss: 0.5609 - categorical_accuracy: 0.6848 - val_loss: 0.5010 - val_categorical_accuracy: 0.6755\n",
      "Epoch 49/50\n",
      "349/349 [==============================] - ETA: 44s - loss: 0.4746 - categorical_accuracy: 0.700 - ETA: 40s - loss: 0.5288 - categorical_accuracy: 0.716 - ETA: 36s - loss: 0.5000 - categorical_accuracy: 0.766 - ETA: 32s - loss: 0.5039 - categorical_accuracy: 0.741 - ETA: 28s - loss: 0.5368 - categorical_accuracy: 0.700 - ETA: 24s - loss: 0.5248 - categorical_accuracy: 0.705 - ETA: 19s - loss: 0.5286 - categorical_accuracy: 0.714 - ETA: 15s - loss: 0.5218 - categorical_accuracy: 0.712 - ETA: 11s - loss: 0.5382 - categorical_accuracy: 0.703 - ETA: 6s - loss: 0.5404 - categorical_accuracy: 0.703 - ETA: 2s - loss: 0.5448 - categorical_accuracy: 0.70 - 57s 164ms/step - loss: 0.5422 - categorical_accuracy: 0.7049 - val_loss: 0.5085 - val_categorical_accuracy: 0.7351\n",
      "Epoch 50/50\n",
      "349/349 [==============================] - ETA: 49s - loss: 0.5366 - categorical_accuracy: 0.833 - ETA: 45s - loss: 0.5649 - categorical_accuracy: 0.750 - ETA: 40s - loss: 0.5584 - categorical_accuracy: 0.722 - ETA: 35s - loss: 0.5548 - categorical_accuracy: 0.708 - ETA: 30s - loss: 0.5558 - categorical_accuracy: 0.700 - ETA: 25s - loss: 0.5696 - categorical_accuracy: 0.677 - ETA: 21s - loss: 0.5821 - categorical_accuracy: 0.661 - ETA: 16s - loss: 0.6095 - categorical_accuracy: 0.645 - ETA: 11s - loss: 0.6083 - categorical_accuracy: 0.648 - ETA: 7s - loss: 0.6015 - categorical_accuracy: 0.663 - ETA: 2s - loss: 0.5981 - categorical_accuracy: 0.65 - 60s 172ms/step - loss: 0.6017 - categorical_accuracy: 0.6562 - val_loss: 0.5139 - val_categorical_accuracy: 0.6954\n"
     ]
    },
    {
     "data": {
      "text/plain": [
       "[<matplotlib.lines.Line2D at 0xa39ef3ca90>]"
      ]
     },
     "execution_count": 24,
     "metadata": {},
     "output_type": "execute_result"
    },
    {
     "data": {
      "image/png": "[encoded data removed]",
      "text/plain": [
       "<matplotlib.figure.Figure at 0xa3953de4a8>"
      ]
     },
     "metadata": {},
     "output_type": "display_data"
    }
   ],
   "source": [
    "from matplotlib import pyplot as plt\n",
    "model2 = get_model2()\n",
    "history=model2.fit(X_train, y_train_hot, batch_size=batch_size, epochs=50, verbose=verbose, validation_data=(X_test, y_test_hot))\n",
    "plt.plot(history.history['val_categorical_accuracy'])"
   ]
  },
  {
   "cell_type": "code",
   "execution_count": 47,
   "metadata": {
    "collapsed": true
   },
   "outputs": [],
   "source": [
    "y_prednv = model2.predict(X_test)\n",
    "#y_pred = (y_pred > 0.5)\n",
    "y_prednv=np.argmax(y_prednv,axis=1)\n",
    "y_prednv1= model2.predict(X_train)\n",
    "y_prednv1=np.argmax(y_prednv1,axis=1)"
   ]
  },
  {
   "cell_type": "code",
   "execution_count": 50,
   "metadata": {},
   "outputs": [
    {
     "name": "stdout",
     "output_type": "stream",
     "text": [
      "Train accuracy: 0.899713467049\n",
      "Test accuracy : 0.847682119205\n"
     ]
    }
   ],
   "source": [
    "print(\"Train accuracy: \" + str(acc(y_train, y_prednv1)))\n",
    "print(\"Test accuracy : \" + str(acc(y_test, y_prednv))) "
   ]
  },
  {
   "cell_type": "markdown",
   "metadata": {},
   "source": [
    "******************************************************************************************"
   ]
  },
  {
   "cell_type": "code",
   "execution_count": 3,
   "metadata": {
    "collapsed": true
   },
   "outputs": [],
   "source": [
    "def get_model3():\n",
    "    model3 = Sequential()\n",
    "    model3.add(Conv2D(32, kernel_size=(2, 2),padding='same', input_shape=(feature_dim_1, feature_dim_2, channel)))\n",
    "    model3.add(Conv2D(68, kernel_size=(2, 2),padding='same'))\n",
    "    model3.add(MaxPooling2D(pool_size=(2, 2)))\n",
    "    model3.add(Conv2D(42, kernel_size=(2, 2),padding='same'))\n",
    "    model3.add(Conv2D(80, kernel_size=(2, 2),padding='same'))\n",
    "    model3.add(Dropout(0.25))\n",
    "    model3.add(MaxPooling2D(pool_size=(2, 2)))\n",
    "    model3.add(Conv2D(80, kernel_size=(2, 2),padding='same'))\n",
    "    model3.add(Conv2D(120, kernel_size=(2, 2),padding='same'))\n",
    "    model3.add(MaxPooling2D(pool_size=(2,2)))\n",
    "    model3.add(Flatten()) \n",
    "    model3.add(Dense(128, activation='sigmoid'))\n",
    "    model3.add(Dense(64, activation='sigmoid'))\n",
    "    model3.add(Dropout(0.25))\n",
    "    model3.add(Dense(48, activation='sigmoid'))\n",
    "    model3.add(Dense(num_classes, activation='softmax'))\n",
    "    model3.compile(loss=keras.losses.categorical_crossentropy,\n",
    "                  optimizer=keras.optimizers.Adadelta(lr=0.1),\n",
    "                  metrics=[metrics.categorical_accuracy])\n",
    "    return model3"
   ]
  },
  {
   "cell_type": "code",
   "execution_count": 4,
   "metadata": {},
   "outputs": [
    {
     "name": "stdout",
     "output_type": "stream",
     "text": [
      "Train on 349 samples, validate on 151 samples\n",
      "Epoch 1/50\n",
      "349/349 [==============================] - ETA: 1:32 - loss: 1.5364 - categorical_accuracy: 0.06 - ETA: 1:02 - loss: 1.4641 - categorical_accuracy: 0.08 - ETA: 49s - loss: 1.3846 - categorical_accuracy: 0.1556 - ETA: 41s - loss: 1.3801 - categorical_accuracy: 0.166 - ETA: 35s - loss: 1.3603 - categorical_accuracy: 0.186 - ETA: 29s - loss: 1.3382 - categorical_accuracy: 0.194 - ETA: 23s - loss: 1.3379 - categorical_accuracy: 0.190 - ETA: 18s - loss: 1.3214 - categorical_accuracy: 0.195 - ETA: 13s - loss: 1.3286 - categorical_accuracy: 0.181 - ETA: 8s - loss: 1.3184 - categorical_accuracy: 0.183 - ETA: 3s - loss: 1.3146 - categorical_accuracy: 0.18 - 64s 182ms/step - loss: 1.2992 - categorical_accuracy: 0.1948 - val_loss: 1.2304 - val_categorical_accuracy: 0.2119\n",
      "Epoch 2/50\n",
      "349/349 [==============================] - ETA: 44s - loss: 1.2947 - categorical_accuracy: 0.100 - ETA: 40s - loss: 1.3399 - categorical_accuracy: 0.100 - ETA: 36s - loss: 1.2793 - categorical_accuracy: 0.166 - ETA: 32s - loss: 1.2701 - categorical_accuracy: 0.166 - ETA: 29s - loss: 1.2764 - categorical_accuracy: 0.146 - ETA: 24s - loss: 1.2603 - categorical_accuracy: 0.161 - ETA: 20s - loss: 1.2411 - categorical_accuracy: 0.181 - ETA: 15s - loss: 1.2432 - categorical_accuracy: 0.179 - ETA: 11s - loss: 1.2312 - categorical_accuracy: 0.188 - ETA: 7s - loss: 1.2392 - categorical_accuracy: 0.176 - ETA: 2s - loss: 1.2295 - categorical_accuracy: 0.18 - 59s 170ms/step - loss: 1.2245 - categorical_accuracy: 0.1948 - val_loss: 1.1827 - val_categorical_accuracy: 0.2119\n",
      "Epoch 3/50\n",
      "349/349 [==============================] - ETA: 47s - loss: 1.3043 - categorical_accuracy: 0.100 - ETA: 42s - loss: 1.2652 - categorical_accuracy: 0.133 - ETA: 38s - loss: 1.2136 - categorical_accuracy: 0.177 - ETA: 33s - loss: 1.2012 - categorical_accuracy: 0.191 - ETA: 29s - loss: 1.2067 - categorical_accuracy: 0.173 - ETA: 24s - loss: 1.1870 - categorical_accuracy: 0.200 - ETA: 20s - loss: 1.1873 - categorical_accuracy: 0.195 - ETA: 16s - loss: 1.1838 - categorical_accuracy: 0.195 - ETA: 11s - loss: 1.1745 - categorical_accuracy: 0.207 - ETA: 7s - loss: 1.1752 - categorical_accuracy: 0.200 - ETA: 2s - loss: 1.1801 - categorical_accuracy: 0.19 - 60s 171ms/step - loss: 1.1814 - categorical_accuracy: 0.1948 - val_loss: 1.1399 - val_categorical_accuracy: 0.2119\n",
      "Epoch 4/50\n",
      "349/349 [==============================] - ETA: 44s - loss: 1.1218 - categorical_accuracy: 0.200 - ETA: 40s - loss: 1.1673 - categorical_accuracy: 0.183 - ETA: 36s - loss: 1.1602 - categorical_accuracy: 0.177 - ETA: 32s - loss: 1.1544 - categorical_accuracy: 0.191 - ETA: 28s - loss: 1.1500 - categorical_accuracy: 0.213 - ETA: 24s - loss: 1.1558 - categorical_accuracy: 0.205 - ETA: 20s - loss: 1.1598 - categorical_accuracy: 0.195 - ETA: 15s - loss: 1.1572 - categorical_accuracy: 0.204 - ETA: 11s - loss: 1.1501 - categorical_accuracy: 0.214 - ETA: 7s - loss: 1.1441 - categorical_accuracy: 0.220 - ETA: 2s - loss: 1.1384 - categorical_accuracy: 0.22 - 59s 170ms/step - loss: 1.1319 - categorical_accuracy: 0.2350 - val_loss: 1.1098 - val_categorical_accuracy: 0.2119\n",
      "Epoch 5/50\n",
      "349/349 [==============================] - ETA: 48s - loss: 1.1530 - categorical_accuracy: 0.166 - ETA: 45s - loss: 1.1347 - categorical_accuracy: 0.216 - ETA: 41s - loss: 1.1276 - categorical_accuracy: 0.222 - ETA: 36s - loss: 1.1275 - categorical_accuracy: 0.216 - ETA: 31s - loss: 1.1158 - categorical_accuracy: 0.246 - ETA: 27s - loss: 1.1186 - categorical_accuracy: 0.255 - ETA: 22s - loss: 1.1194 - categorical_accuracy: 0.252 - ETA: 17s - loss: 1.1203 - categorical_accuracy: 0.258 - ETA: 12s - loss: 1.1198 - categorical_accuracy: 0.270 - ETA: 7s - loss: 1.1164 - categorical_accuracy: 0.280 - ETA: 2s - loss: 1.1181 - categorical_accuracy: 0.27 - 60s 173ms/step - loss: 1.1139 - categorical_accuracy: 0.2837 - val_loss: 1.0794 - val_categorical_accuracy: 0.2119\n",
      "Epoch 6/50\n",
      "349/349 [==============================] - ETA: 43s - loss: 1.0444 - categorical_accuracy: 0.500 - ETA: 39s - loss: 1.0564 - categorical_accuracy: 0.416 - ETA: 35s - loss: 1.0596 - categorical_accuracy: 0.411 - ETA: 31s - loss: 1.0567 - categorical_accuracy: 0.416 - ETA: 27s - loss: 1.0631 - categorical_accuracy: 0.386 - ETA: 23s - loss: 1.0726 - categorical_accuracy: 0.361 - ETA: 19s - loss: 1.0848 - categorical_accuracy: 0.347 - ETA: 15s - loss: 1.0822 - categorical_accuracy: 0.358 - ETA: 11s - loss: 1.0794 - categorical_accuracy: 0.374 - ETA: 6s - loss: 1.0809 - categorical_accuracy: 0.380 - ETA: 2s - loss: 1.0778 - categorical_accuracy: 0.38 - 55s 158ms/step - loss: 1.0778 - categorical_accuracy: 0.3897 - val_loss: 1.0557 - val_categorical_accuracy: 0.6026\n",
      "Epoch 7/50\n",
      "349/349 [==============================] - ETA: 43s - loss: 1.0643 - categorical_accuracy: 0.466 - ETA: 39s - loss: 1.0707 - categorical_accuracy: 0.483 - ETA: 35s - loss: 1.0585 - categorical_accuracy: 0.511 - ETA: 31s - loss: 1.0644 - categorical_accuracy: 0.475 - ETA: 27s - loss: 1.0688 - categorical_accuracy: 0.453 - ETA: 23s - loss: 1.0654 - categorical_accuracy: 0.461 - ETA: 19s - loss: 1.0625 - categorical_accuracy: 0.466 - ETA: 15s - loss: 1.0542 - categorical_accuracy: 0.479 - ETA: 10s - loss: 1.0525 - categorical_accuracy: 0.481 - ETA: 6s - loss: 1.0504 - categorical_accuracy: 0.493 - ETA: 2s - loss: 1.0533 - categorical_accuracy: 0.49 - 55s 157ms/step - loss: 1.0505 - categorical_accuracy: 0.4957 - val_loss: 1.0351 - val_categorical_accuracy: 0.6026\n",
      "Epoch 8/50\n",
      "349/349 [==============================] - ETA: 43s - loss: 1.0474 - categorical_accuracy: 0.433 - ETA: 39s - loss: 1.0428 - categorical_accuracy: 0.433 - ETA: 35s - loss: 1.0292 - categorical_accuracy: 0.511 - ETA: 31s - loss: 1.0326 - categorical_accuracy: 0.516 - ETA: 27s - loss: 1.0286 - categorical_accuracy: 0.553 - ETA: 23s - loss: 1.0231 - categorical_accuracy: 0.561 - ETA: 19s - loss: 1.0283 - categorical_accuracy: 0.552 - ETA: 15s - loss: 1.0229 - categorical_accuracy: 0.566 - ETA: 11s - loss: 1.0235 - categorical_accuracy: 0.574 - ETA: 6s - loss: 1.0271 - categorical_accuracy: 0.563 - ETA: 2s - loss: 1.0295 - categorical_accuracy: 0.55 - 56s 159ms/step - loss: 1.0285 - categorical_accuracy: 0.5645 - val_loss: 1.0110 - val_categorical_accuracy: 0.6026\n",
      "Epoch 9/50\n",
      "349/349 [==============================] - ETA: 43s - loss: 1.0092 - categorical_accuracy: 0.633 - ETA: 39s - loss: 1.0251 - categorical_accuracy: 0.583 - ETA: 35s - loss: 1.0088 - categorical_accuracy: 0.622 - ETA: 31s - loss: 1.0110 - categorical_accuracy: 0.633 - ETA: 27s - loss: 1.0067 - categorical_accuracy: 0.646 - ETA: 23s - loss: 1.0055 - categorical_accuracy: 0.650 - ETA: 19s - loss: 1.0055 - categorical_accuracy: 0.652 - ETA: 15s - loss: 1.0030 - categorical_accuracy: 0.645 - ETA: 10s - loss: 1.0033 - categorical_accuracy: 0.651 - ETA: 6s - loss: 1.0091 - categorical_accuracy: 0.630 - ETA: 2s - loss: 1.0113 - categorical_accuracy: 0.62 - 56s 160ms/step - loss: 1.0123 - categorical_accuracy: 0.6160 - val_loss: 0.9956 - val_categorical_accuracy: 0.6755\n",
      "Epoch 10/50\n",
      "349/349 [==============================] - ETA: 46s - loss: 1.0347 - categorical_accuracy: 0.500 - ETA: 41s - loss: 1.0114 - categorical_accuracy: 0.550 - ETA: 36s - loss: 0.9964 - categorical_accuracy: 0.588 - ETA: 32s - loss: 1.0024 - categorical_accuracy: 0.608 - ETA: 28s - loss: 0.9991 - categorical_accuracy: 0.613 - ETA: 23s - loss: 0.9951 - categorical_accuracy: 0.611 - ETA: 19s - loss: 0.9958 - categorical_accuracy: 0.604 - ETA: 15s - loss: 0.9925 - categorical_accuracy: 0.620 - ETA: 11s - loss: 0.9884 - categorical_accuracy: 0.629 - ETA: 6s - loss: 0.9916 - categorical_accuracy: 0.620 - ETA: 2s - loss: 0.9883 - categorical_accuracy: 0.63 - 56s 159ms/step - loss: 0.9884 - categorical_accuracy: 0.6332 - val_loss: 0.9677 - val_categorical_accuracy: 0.8411\n",
      "Epoch 11/50\n",
      "349/349 [==============================] - ETA: 44s - loss: 0.9799 - categorical_accuracy: 0.766 - ETA: 40s - loss: 0.9920 - categorical_accuracy: 0.666 - ETA: 35s - loss: 0.9844 - categorical_accuracy: 0.711 - ETA: 31s - loss: 0.9813 - categorical_accuracy: 0.683 - ETA: 27s - loss: 0.9777 - categorical_accuracy: 0.686 - ETA: 23s - loss: 0.9740 - categorical_accuracy: 0.694 - ETA: 19s - loss: 0.9720 - categorical_accuracy: 0.685 - ETA: 15s - loss: 0.9719 - categorical_accuracy: 0.687 - ETA: 11s - loss: 0.9699 - categorical_accuracy: 0.692 - ETA: 6s - loss: 0.9696 - categorical_accuracy: 0.693 - ETA: 2s - loss: 0.9673 - categorical_accuracy: 0.69 - 55s 157ms/step - loss: 0.9694 - categorical_accuracy: 0.6934 - val_loss: 0.9696 - val_categorical_accuracy: 0.7881\n",
      "Epoch 12/50\n",
      "349/349 [==============================] - ETA: 43s - loss: 0.9650 - categorical_accuracy: 0.666 - ETA: 40s - loss: 0.9623 - categorical_accuracy: 0.683 - ETA: 36s - loss: 0.9540 - categorical_accuracy: 0.722 - ETA: 32s - loss: 0.9534 - categorical_accuracy: 0.733 - ETA: 28s - loss: 0.9477 - categorical_accuracy: 0.753 - ETA: 24s - loss: 0.9459 - categorical_accuracy: 0.733 - ETA: 19s - loss: 0.9442 - categorical_accuracy: 0.738 - ETA: 15s - loss: 0.9461 - categorical_accuracy: 0.729 - ETA: 11s - loss: 0.9454 - categorical_accuracy: 0.729 - ETA: 6s - loss: 0.9443 - categorical_accuracy: 0.733 - ETA: 2s - loss: 0.9438 - categorical_accuracy: 0.73 - 56s 161ms/step - loss: 0.9427 - categorical_accuracy: 0.7393 - val_loss: 0.9244 - val_categorical_accuracy: 0.7682\n",
      "Epoch 13/50\n",
      "349/349 [==============================] - ETA: 43s - loss: 0.9228 - categorical_accuracy: 0.733 - ETA: 38s - loss: 0.9242 - categorical_accuracy: 0.800 - ETA: 34s - loss: 0.9256 - categorical_accuracy: 0.788 - ETA: 30s - loss: 0.9191 - categorical_accuracy: 0.825 - ETA: 26s - loss: 0.9181 - categorical_accuracy: 0.806 - ETA: 22s - loss: 0.9219 - categorical_accuracy: 0.811 - ETA: 18s - loss: 0.9192 - categorical_accuracy: 0.819 - ETA: 14s - loss: 0.9181 - categorical_accuracy: 0.825 - ETA: 10s - loss: 0.9175 - categorical_accuracy: 0.811 - ETA: 6s - loss: 0.9163 - categorical_accuracy: 0.806 - ETA: 2s - loss: 0.9174 - categorical_accuracy: 0.80 - 57s 162ms/step - loss: 0.9173 - categorical_accuracy: 0.8023 - val_loss: 0.9147 - val_categorical_accuracy: 0.6954\n",
      "Epoch 14/50\n",
      "349/349 [==============================] - ETA: 49s - loss: 0.9093 - categorical_accuracy: 0.733 - ETA: 45s - loss: 0.8952 - categorical_accuracy: 0.866 - ETA: 40s - loss: 0.8947 - categorical_accuracy: 0.866 - ETA: 36s - loss: 0.8981 - categorical_accuracy: 0.858 - ETA: 31s - loss: 0.9055 - categorical_accuracy: 0.813 - ETA: 26s - loss: 0.9174 - categorical_accuracy: 0.761 - ETA: 21s - loss: 0.9196 - categorical_accuracy: 0.747 - ETA: 17s - loss: 0.9158 - categorical_accuracy: 0.754 - ETA: 12s - loss: 0.9182 - categorical_accuracy: 0.729 - ETA: 7s - loss: 0.9210 - categorical_accuracy: 0.730 - ETA: 2s - loss: 0.9185 - categorical_accuracy: 0.72 - 59s 170ms/step - loss: 0.9179 - categorical_accuracy: 0.7307 - val_loss: 0.8825 - val_categorical_accuracy: 0.9669\n",
      "Epoch 15/50\n",
      "349/349 [==============================] - ETA: 43s - loss: 0.8821 - categorical_accuracy: 0.833 - ETA: 39s - loss: 0.8823 - categorical_accuracy: 0.816 - ETA: 35s - loss: 0.8873 - categorical_accuracy: 0.800 - ETA: 31s - loss: 0.8904 - categorical_accuracy: 0.800 - ETA: 27s - loss: 0.8927 - categorical_accuracy: 0.766 - ETA: 23s - loss: 0.8880 - categorical_accuracy: 0.783 - ETA: 19s - loss: 0.8926 - categorical_accuracy: 0.781 - ETA: 15s - loss: 0.8927 - categorical_accuracy: 0.791 - ETA: 11s - loss: 0.8893 - categorical_accuracy: 0.811 - ETA: 7s - loss: 0.8869 - categorical_accuracy: 0.810 - ETA: 2s - loss: 0.8878 - categorical_accuracy: 0.81 - 58s 167ms/step - loss: 0.8872 - categorical_accuracy: 0.8109 - val_loss: 0.8638 - val_categorical_accuracy: 0.9536\n",
      "Epoch 16/50\n",
      "349/349 [==============================] - ETA: 49s - loss: 0.8865 - categorical_accuracy: 0.800 - ETA: 45s - loss: 0.8687 - categorical_accuracy: 0.783 - ETA: 40s - loss: 0.8705 - categorical_accuracy: 0.811 - ETA: 35s - loss: 0.8722 - categorical_accuracy: 0.800 - ETA: 30s - loss: 0.8758 - categorical_accuracy: 0.800 - ETA: 26s - loss: 0.8668 - categorical_accuracy: 0.816 - ETA: 21s - loss: 0.8640 - categorical_accuracy: 0.828 - ETA: 16s - loss: 0.8609 - categorical_accuracy: 0.850 - ETA: 12s - loss: 0.8621 - categorical_accuracy: 0.855 - ETA: 7s - loss: 0.8608 - categorical_accuracy: 0.860 - ETA: 2s - loss: 0.8606 - categorical_accuracy: 0.86 - 61s 175ms/step - loss: 0.8603 - categorical_accuracy: 0.8653 - val_loss: 0.8296 - val_categorical_accuracy: 0.9735\n",
      "Epoch 17/50\n",
      "349/349 [==============================] - ETA: 48s - loss: 0.8453 - categorical_accuracy: 0.900 - ETA: 44s - loss: 0.8350 - categorical_accuracy: 0.883 - ETA: 39s - loss: 0.8263 - categorical_accuracy: 0.888 - ETA: 35s - loss: 0.8227 - categorical_accuracy: 0.883 - ETA: 30s - loss: 0.8314 - categorical_accuracy: 0.900 - ETA: 25s - loss: 0.8369 - categorical_accuracy: 0.900 - ETA: 21s - loss: 0.8350 - categorical_accuracy: 0.904 - ETA: 16s - loss: 0.8326 - categorical_accuracy: 0.908 - ETA: 12s - loss: 0.8266 - categorical_accuracy: 0.911 - ETA: 7s - loss: 0.8270 - categorical_accuracy: 0.910 - ETA: 2s - loss: 0.8272 - categorical_accuracy: 0.90 - 61s 174ms/step - loss: 0.8271 - categorical_accuracy: 0.9083 - val_loss: 0.8350 - val_categorical_accuracy: 0.8344\n",
      "Epoch 18/50\n",
      "349/349 [==============================] - ETA: 48s - loss: 0.8408 - categorical_accuracy: 0.766 - ETA: 44s - loss: 0.8708 - categorical_accuracy: 0.733 - ETA: 39s - loss: 0.8569 - categorical_accuracy: 0.755 - ETA: 35s - loss: 0.8425 - categorical_accuracy: 0.800 - ETA: 30s - loss: 0.8370 - categorical_accuracy: 0.826 - ETA: 26s - loss: 0.8306 - categorical_accuracy: 0.844 - ETA: 21s - loss: 0.8257 - categorical_accuracy: 0.857 - ETA: 16s - loss: 0.8241 - categorical_accuracy: 0.862 - ETA: 12s - loss: 0.8188 - categorical_accuracy: 0.874 - ETA: 7s - loss: 0.8143 - categorical_accuracy: 0.883 - ETA: 2s - loss: 0.8116 - categorical_accuracy: 0.89 - 62s 177ms/step - loss: 0.8123 - categorical_accuracy: 0.8940 - val_loss: 0.8054 - val_categorical_accuracy: 0.8675\n",
      "Epoch 19/50\n",
      "349/349 [==============================] - ETA: 50s - loss: 0.7914 - categorical_accuracy: 0.866 - ETA: 45s - loss: 0.7860 - categorical_accuracy: 0.900 - ETA: 40s - loss: 0.7879 - categorical_accuracy: 0.922 - ETA: 35s - loss: 0.7899 - categorical_accuracy: 0.916 - ETA: 31s - loss: 0.7915 - categorical_accuracy: 0.920 - ETA: 26s - loss: 0.7913 - categorical_accuracy: 0.916 - ETA: 21s - loss: 0.7888 - categorical_accuracy: 0.919 - ETA: 17s - loss: 0.7877 - categorical_accuracy: 0.929 - ETA: 12s - loss: 0.7878 - categorical_accuracy: 0.922 - ETA: 7s - loss: 0.7944 - categorical_accuracy: 0.903 - ETA: 2s - loss: 0.7957 - categorical_accuracy: 0.90 - 63s 182ms/step - loss: 0.7941 - categorical_accuracy: 0.9054 - val_loss: 0.7601 - val_categorical_accuracy: 0.9801\n",
      "Epoch 20/50\n",
      "349/349 [==============================] - ETA: 50s - loss: 0.7819 - categorical_accuracy: 0.966 - ETA: 46s - loss: 0.7805 - categorical_accuracy: 0.966 - ETA: 41s - loss: 0.7635 - categorical_accuracy: 0.977 - ETA: 36s - loss: 0.7493 - categorical_accuracy: 0.983 - ETA: 31s - loss: 0.7438 - categorical_accuracy: 0.986 - ETA: 27s - loss: 0.7462 - categorical_accuracy: 0.983 - ETA: 22s - loss: 0.7432 - categorical_accuracy: 0.981 - ETA: 17s - loss: 0.7488 - categorical_accuracy: 0.970 - ETA: 12s - loss: 0.7600 - categorical_accuracy: 0.933 - ETA: 7s - loss: 0.7647 - categorical_accuracy: 0.926 - ETA: 3s - loss: 0.7689 - categorical_accuracy: 0.91 - 63s 181ms/step - loss: 0.7695 - categorical_accuracy: 0.9140 - val_loss: 0.7445 - val_categorical_accuracy: 0.9669\n",
      "Epoch 21/50\n"
     ]
    },
    {
     "name": "stdout",
     "output_type": "stream",
     "text": [
      "349/349 [==============================] - ETA: 48s - loss: 0.7758 - categorical_accuracy: 0.900 - ETA: 44s - loss: 0.7898 - categorical_accuracy: 0.866 - ETA: 40s - loss: 0.7932 - categorical_accuracy: 0.844 - ETA: 35s - loss: 0.7761 - categorical_accuracy: 0.883 - ETA: 31s - loss: 0.7642 - categorical_accuracy: 0.900 - ETA: 26s - loss: 0.7546 - categorical_accuracy: 0.916 - ETA: 21s - loss: 0.7554 - categorical_accuracy: 0.928 - ETA: 17s - loss: 0.7496 - categorical_accuracy: 0.933 - ETA: 12s - loss: 0.7507 - categorical_accuracy: 0.929 - ETA: 7s - loss: 0.7484 - categorical_accuracy: 0.936 - ETA: 2s - loss: 0.7427 - categorical_accuracy: 0.94 - 62s 178ms/step - loss: 0.7412 - categorical_accuracy: 0.9456 - val_loss: 0.7069 - val_categorical_accuracy: 0.9934\n",
      "Epoch 22/50\n",
      "349/349 [==============================] - ETA: 50s - loss: 0.7473 - categorical_accuracy: 1.000 - ETA: 45s - loss: 0.7377 - categorical_accuracy: 0.983 - ETA: 40s - loss: 0.7260 - categorical_accuracy: 0.977 - ETA: 36s - loss: 0.7178 - categorical_accuracy: 0.975 - ETA: 31s - loss: 0.7099 - categorical_accuracy: 0.980 - ETA: 26s - loss: 0.7067 - categorical_accuracy: 0.983 - ETA: 21s - loss: 0.7029 - categorical_accuracy: 0.985 - ETA: 17s - loss: 0.7032 - categorical_accuracy: 0.983 - ETA: 12s - loss: 0.7021 - categorical_accuracy: 0.981 - ETA: 7s - loss: 0.7013 - categorical_accuracy: 0.976 - ETA: 2s - loss: 0.7045 - categorical_accuracy: 0.96 - 60s 173ms/step - loss: 0.7032 - categorical_accuracy: 0.9685 - val_loss: 0.7057 - val_categorical_accuracy: 0.9404\n",
      "Epoch 23/50\n",
      "349/349 [==============================] - ETA: 46s - loss: 0.6753 - categorical_accuracy: 0.966 - ETA: 41s - loss: 0.6652 - categorical_accuracy: 0.983 - ETA: 37s - loss: 0.6661 - categorical_accuracy: 0.988 - ETA: 33s - loss: 0.6662 - categorical_accuracy: 0.991 - ETA: 28s - loss: 0.6783 - categorical_accuracy: 0.980 - ETA: 24s - loss: 0.6798 - categorical_accuracy: 0.977 - ETA: 20s - loss: 0.6819 - categorical_accuracy: 0.981 - ETA: 15s - loss: 0.6825 - categorical_accuracy: 0.975 - ETA: 11s - loss: 0.6829 - categorical_accuracy: 0.974 - ETA: 7s - loss: 0.6845 - categorical_accuracy: 0.973 - ETA: 2s - loss: 0.6868 - categorical_accuracy: 0.96 - 58s 165ms/step - loss: 0.6942 - categorical_accuracy: 0.9542 - val_loss: 0.6655 - val_categorical_accuracy: 0.9801\n",
      "Epoch 24/50\n",
      "349/349 [==============================] - ETA: 47s - loss: 0.6804 - categorical_accuracy: 1.000 - ETA: 43s - loss: 0.6833 - categorical_accuracy: 0.966 - ETA: 38s - loss: 0.6794 - categorical_accuracy: 0.966 - ETA: 34s - loss: 0.6792 - categorical_accuracy: 0.966 - ETA: 29s - loss: 0.6755 - categorical_accuracy: 0.973 - ETA: 24s - loss: 0.6692 - categorical_accuracy: 0.977 - ETA: 20s - loss: 0.6657 - categorical_accuracy: 0.981 - ETA: 15s - loss: 0.6644 - categorical_accuracy: 0.983 - ETA: 11s - loss: 0.6620 - categorical_accuracy: 0.981 - ETA: 7s - loss: 0.6601 - categorical_accuracy: 0.980 - ETA: 2s - loss: 0.6572 - categorical_accuracy: 0.98 - 57s 165ms/step - loss: 0.6596 - categorical_accuracy: 0.9828 - val_loss: 0.6275 - val_categorical_accuracy: 0.9934\n",
      "Epoch 25/50\n",
      "349/349 [==============================] - ETA: 51s - loss: 0.6480 - categorical_accuracy: 1.000 - ETA: 44s - loss: 0.6385 - categorical_accuracy: 1.000 - ETA: 39s - loss: 0.6326 - categorical_accuracy: 1.000 - ETA: 34s - loss: 0.6365 - categorical_accuracy: 1.000 - ETA: 29s - loss: 0.6321 - categorical_accuracy: 1.000 - ETA: 24s - loss: 0.6306 - categorical_accuracy: 1.000 - ETA: 20s - loss: 0.6325 - categorical_accuracy: 1.000 - ETA: 15s - loss: 0.6309 - categorical_accuracy: 0.995 - ETA: 11s - loss: 0.6288 - categorical_accuracy: 0.992 - ETA: 7s - loss: 0.6308 - categorical_accuracy: 0.986 - ETA: 2s - loss: 0.6334 - categorical_accuracy: 0.98 - 58s 165ms/step - loss: 0.6354 - categorical_accuracy: 0.9885 - val_loss: 0.6067 - val_categorical_accuracy: 0.9801\n",
      "Epoch 26/50\n",
      "349/349 [==============================] - ETA: 46s - loss: 0.6226 - categorical_accuracy: 1.000 - ETA: 42s - loss: 0.6351 - categorical_accuracy: 0.983 - ETA: 38s - loss: 0.6425 - categorical_accuracy: 0.955 - ETA: 33s - loss: 0.6513 - categorical_accuracy: 0.941 - ETA: 29s - loss: 0.6646 - categorical_accuracy: 0.946 - ETA: 25s - loss: 0.6531 - categorical_accuracy: 0.955 - ETA: 20s - loss: 0.6462 - categorical_accuracy: 0.961 - ETA: 16s - loss: 0.6448 - categorical_accuracy: 0.962 - ETA: 11s - loss: 0.6409 - categorical_accuracy: 0.966 - ETA: 7s - loss: 0.6346 - categorical_accuracy: 0.970 - ETA: 2s - loss: 0.6279 - categorical_accuracy: 0.96 - 58s 166ms/step - loss: 0.6261 - categorical_accuracy: 0.9713 - val_loss: 0.5861 - val_categorical_accuracy: 0.9934\n",
      "Epoch 27/50\n",
      "349/349 [==============================] - ETA: 46s - loss: 0.6044 - categorical_accuracy: 1.000 - ETA: 42s - loss: 0.6036 - categorical_accuracy: 1.000 - ETA: 37s - loss: 0.5962 - categorical_accuracy: 1.000 - ETA: 33s - loss: 0.6133 - categorical_accuracy: 0.975 - ETA: 29s - loss: 0.6171 - categorical_accuracy: 0.973 - ETA: 24s - loss: 0.6092 - categorical_accuracy: 0.977 - ETA: 20s - loss: 0.6045 - categorical_accuracy: 0.981 - ETA: 15s - loss: 0.6070 - categorical_accuracy: 0.979 - ETA: 11s - loss: 0.6055 - categorical_accuracy: 0.981 - ETA: 6s - loss: 0.6041 - categorical_accuracy: 0.983 - ETA: 2s - loss: 0.6008 - categorical_accuracy: 0.98 - 56s 159ms/step - loss: 0.5985 - categorical_accuracy: 0.9857 - val_loss: 0.5558 - val_categorical_accuracy: 0.9934\n",
      "Epoch 28/50\n",
      "349/349 [==============================] - ETA: 43s - loss: 0.5729 - categorical_accuracy: 1.000 - ETA: 39s - loss: 0.5790 - categorical_accuracy: 1.000 - ETA: 35s - loss: 0.5681 - categorical_accuracy: 1.000 - ETA: 31s - loss: 0.5732 - categorical_accuracy: 0.991 - ETA: 27s - loss: 0.5615 - categorical_accuracy: 0.993 - ETA: 23s - loss: 0.5582 - categorical_accuracy: 0.994 - ETA: 19s - loss: 0.5567 - categorical_accuracy: 0.990 - ETA: 14s - loss: 0.5594 - categorical_accuracy: 0.987 - ETA: 10s - loss: 0.5567 - categorical_accuracy: 0.988 - ETA: 6s - loss: 0.5587 - categorical_accuracy: 0.986 - ETA: 2s - loss: 0.5579 - categorical_accuracy: 0.98 - 55s 157ms/step - loss: 0.5580 - categorical_accuracy: 0.9828 - val_loss: 0.5404 - val_categorical_accuracy: 0.9934\n",
      "Epoch 29/50\n",
      "349/349 [==============================] - ETA: 43s - loss: 0.5387 - categorical_accuracy: 1.000 - ETA: 39s - loss: 0.5445 - categorical_accuracy: 1.000 - ETA: 35s - loss: 0.5301 - categorical_accuracy: 1.000 - ETA: 31s - loss: 0.5262 - categorical_accuracy: 1.000 - ETA: 27s - loss: 0.5251 - categorical_accuracy: 1.000 - ETA: 23s - loss: 0.5232 - categorical_accuracy: 1.000 - ETA: 19s - loss: 0.5223 - categorical_accuracy: 1.000 - ETA: 15s - loss: 0.5213 - categorical_accuracy: 1.000 - ETA: 11s - loss: 0.5222 - categorical_accuracy: 1.000 - ETA: 6s - loss: 0.5276 - categorical_accuracy: 0.996 - ETA: 2s - loss: 0.5329 - categorical_accuracy: 0.99 - 55s 159ms/step - loss: 0.5316 - categorical_accuracy: 0.9971 - val_loss: 0.5123 - val_categorical_accuracy: 0.9934\n",
      "Epoch 30/50\n",
      "349/349 [==============================] - ETA: 44s - loss: 0.5215 - categorical_accuracy: 1.000 - ETA: 39s - loss: 0.5217 - categorical_accuracy: 1.000 - ETA: 35s - loss: 0.5265 - categorical_accuracy: 1.000 - ETA: 31s - loss: 0.5242 - categorical_accuracy: 1.000 - ETA: 27s - loss: 0.5233 - categorical_accuracy: 1.000 - ETA: 23s - loss: 0.5204 - categorical_accuracy: 1.000 - ETA: 19s - loss: 0.5142 - categorical_accuracy: 1.000 - ETA: 15s - loss: 0.5092 - categorical_accuracy: 1.000 - ETA: 11s - loss: 0.5098 - categorical_accuracy: 1.000 - ETA: 6s - loss: 0.5069 - categorical_accuracy: 1.000 - ETA: 2s - loss: 0.5060 - categorical_accuracy: 1.00 - 56s 160ms/step - loss: 0.5060 - categorical_accuracy: 1.0000 - val_loss: 0.4879 - val_categorical_accuracy: 0.9934\n",
      "Epoch 31/50\n",
      "349/349 [==============================] - ETA: 44s - loss: 0.4913 - categorical_accuracy: 1.000 - ETA: 40s - loss: 0.4954 - categorical_accuracy: 1.000 - ETA: 36s - loss: 0.4930 - categorical_accuracy: 1.000 - ETA: 31s - loss: 0.4920 - categorical_accuracy: 1.000 - ETA: 27s - loss: 0.4877 - categorical_accuracy: 1.000 - ETA: 23s - loss: 0.4875 - categorical_accuracy: 1.000 - ETA: 19s - loss: 0.4930 - categorical_accuracy: 1.000 - ETA: 15s - loss: 0.4945 - categorical_accuracy: 1.000 - ETA: 11s - loss: 0.4900 - categorical_accuracy: 1.000 - ETA: 6s - loss: 0.4858 - categorical_accuracy: 1.000 - ETA: 2s - loss: 0.4843 - categorical_accuracy: 1.00 - 55s 159ms/step - loss: 0.4839 - categorical_accuracy: 1.0000 - val_loss: 0.4661 - val_categorical_accuracy: 0.9934\n",
      "Epoch 32/50\n",
      "349/349 [==============================] - ETA: 45s - loss: 0.4612 - categorical_accuracy: 1.000 - ETA: 40s - loss: 0.4658 - categorical_accuracy: 1.000 - ETA: 36s - loss: 0.4612 - categorical_accuracy: 0.988 - ETA: 32s - loss: 0.4540 - categorical_accuracy: 0.991 - ETA: 27s - loss: 0.4506 - categorical_accuracy: 0.993 - ETA: 23s - loss: 0.4539 - categorical_accuracy: 0.994 - ETA: 19s - loss: 0.4583 - categorical_accuracy: 0.990 - ETA: 15s - loss: 0.4578 - categorical_accuracy: 0.991 - ETA: 11s - loss: 0.4578 - categorical_accuracy: 0.992 - ETA: 6s - loss: 0.4554 - categorical_accuracy: 0.993 - ETA: 2s - loss: 0.4535 - categorical_accuracy: 0.99 - 56s 160ms/step - loss: 0.4568 - categorical_accuracy: 0.9943 - val_loss: 0.4463 - val_categorical_accuracy: 0.9934\n",
      "Epoch 33/50\n",
      "349/349 [==============================] - ETA: 43s - loss: 0.4470 - categorical_accuracy: 1.000 - ETA: 39s - loss: 0.4413 - categorical_accuracy: 1.000 - ETA: 35s - loss: 0.4517 - categorical_accuracy: 1.000 - ETA: 31s - loss: 0.4528 - categorical_accuracy: 1.000 - ETA: 27s - loss: 0.4457 - categorical_accuracy: 1.000 - ETA: 23s - loss: 0.4451 - categorical_accuracy: 1.000 - ETA: 19s - loss: 0.4414 - categorical_accuracy: 1.000 - ETA: 15s - loss: 0.4395 - categorical_accuracy: 1.000 - ETA: 10s - loss: 0.4428 - categorical_accuracy: 1.000 - ETA: 6s - loss: 0.4412 - categorical_accuracy: 1.000 - ETA: 2s - loss: 0.4409 - categorical_accuracy: 1.00 - 54s 155ms/step - loss: 0.4382 - categorical_accuracy: 1.0000 - val_loss: 0.4253 - val_categorical_accuracy: 0.9934\n",
      "Epoch 34/50\n",
      "349/349 [==============================] - ETA: 43s - loss: 0.4283 - categorical_accuracy: 1.000 - ETA: 39s - loss: 0.4167 - categorical_accuracy: 1.000 - ETA: 35s - loss: 0.4041 - categorical_accuracy: 1.000 - ETA: 31s - loss: 0.4135 - categorical_accuracy: 1.000 - ETA: 27s - loss: 0.4127 - categorical_accuracy: 1.000 - ETA: 23s - loss: 0.4146 - categorical_accuracy: 0.994 - ETA: 18s - loss: 0.4179 - categorical_accuracy: 0.990 - ETA: 14s - loss: 0.4168 - categorical_accuracy: 0.991 - ETA: 10s - loss: 0.4185 - categorical_accuracy: 0.992 - ETA: 6s - loss: 0.4191 - categorical_accuracy: 0.993 - ETA: 2s - loss: 0.4157 - categorical_accuracy: 0.99 - 53s 153ms/step - loss: 0.4146 - categorical_accuracy: 0.9943 - val_loss: 0.4058 - val_categorical_accuracy: 0.9934\n",
      "Epoch 35/50\n",
      "349/349 [==============================] - ETA: 43s - loss: 0.4151 - categorical_accuracy: 1.000 - ETA: 38s - loss: 0.4154 - categorical_accuracy: 1.000 - ETA: 34s - loss: 0.4087 - categorical_accuracy: 1.000 - ETA: 30s - loss: 0.4103 - categorical_accuracy: 1.000 - ETA: 26s - loss: 0.4064 - categorical_accuracy: 1.000 - ETA: 22s - loss: 0.4112 - categorical_accuracy: 1.000 - ETA: 18s - loss: 0.4131 - categorical_accuracy: 1.000 - ETA: 14s - loss: 0.4128 - categorical_accuracy: 1.000 - ETA: 10s - loss: 0.4090 - categorical_accuracy: 1.000 - ETA: 6s - loss: 0.4063 - categorical_accuracy: 1.000 - ETA: 2s - loss: 0.4046 - categorical_accuracy: 1.00 - 53s 152ms/step - loss: 0.4065 - categorical_accuracy: 1.0000 - val_loss: 0.3876 - val_categorical_accuracy: 0.9934\n",
      "Epoch 36/50\n",
      "349/349 [==============================] - ETA: 42s - loss: 0.4233 - categorical_accuracy: 1.000 - ETA: 39s - loss: 0.4102 - categorical_accuracy: 1.000 - ETA: 36s - loss: 0.4054 - categorical_accuracy: 1.000 - ETA: 32s - loss: 0.4026 - categorical_accuracy: 1.000 - ETA: 28s - loss: 0.3986 - categorical_accuracy: 1.000 - ETA: 23s - loss: 0.4005 - categorical_accuracy: 1.000 - ETA: 19s - loss: 0.3986 - categorical_accuracy: 1.000 - ETA: 15s - loss: 0.3916 - categorical_accuracy: 1.000 - ETA: 11s - loss: 0.3916 - categorical_accuracy: 1.000 - ETA: 6s - loss: 0.3905 - categorical_accuracy: 1.000 - ETA: 2s - loss: 0.3868 - categorical_accuracy: 1.00 - 56s 161ms/step - loss: 0.3848 - categorical_accuracy: 1.0000 - val_loss: 0.3744 - val_categorical_accuracy: 0.9934\n",
      "Epoch 37/50\n",
      "349/349 [==============================] - ETA: 43s - loss: 0.3932 - categorical_accuracy: 1.000 - ETA: 39s - loss: 0.3719 - categorical_accuracy: 1.000 - ETA: 35s - loss: 0.3624 - categorical_accuracy: 1.000 - ETA: 31s - loss: 0.3612 - categorical_accuracy: 1.000 - ETA: 27s - loss: 0.3669 - categorical_accuracy: 1.000 - ETA: 22s - loss: 0.3683 - categorical_accuracy: 1.000 - ETA: 18s - loss: 0.3685 - categorical_accuracy: 1.000 - ETA: 14s - loss: 0.3721 - categorical_accuracy: 1.000 - ETA: 10s - loss: 0.3656 - categorical_accuracy: 1.000 - ETA: 6s - loss: 0.3670 - categorical_accuracy: 1.000 - ETA: 2s - loss: 0.3673 - categorical_accuracy: 1.00 - 54s 153ms/step - loss: 0.3664 - categorical_accuracy: 1.0000 - val_loss: 0.3535 - val_categorical_accuracy: 0.9934\n",
      "Epoch 38/50\n",
      "349/349 [==============================] - ETA: 42s - loss: 0.3924 - categorical_accuracy: 1.000 - ETA: 39s - loss: 0.3492 - categorical_accuracy: 1.000 - ETA: 35s - loss: 0.3542 - categorical_accuracy: 1.000 - ETA: 30s - loss: 0.3522 - categorical_accuracy: 1.000 - ETA: 26s - loss: 0.3467 - categorical_accuracy: 1.000 - ETA: 22s - loss: 0.3463 - categorical_accuracy: 1.000 - ETA: 18s - loss: 0.3452 - categorical_accuracy: 1.000 - ETA: 14s - loss: 0.3448 - categorical_accuracy: 1.000 - ETA: 10s - loss: 0.3497 - categorical_accuracy: 1.000 - ETA: 6s - loss: 0.3525 - categorical_accuracy: 1.000 - ETA: 2s - loss: 0.3523 - categorical_accuracy: 1.00 - 53s 153ms/step - loss: 0.3533 - categorical_accuracy: 1.0000 - val_loss: 0.3409 - val_categorical_accuracy: 0.9934\n",
      "Epoch 39/50\n",
      "349/349 [==============================] - ETA: 42s - loss: 0.3245 - categorical_accuracy: 1.000 - ETA: 38s - loss: 0.3123 - categorical_accuracy: 1.000 - ETA: 34s - loss: 0.3203 - categorical_accuracy: 1.000 - ETA: 30s - loss: 0.3212 - categorical_accuracy: 1.000 - ETA: 26s - loss: 0.3278 - categorical_accuracy: 1.000 - ETA: 22s - loss: 0.3271 - categorical_accuracy: 1.000 - ETA: 18s - loss: 0.3243 - categorical_accuracy: 1.000 - ETA: 14s - loss: 0.3283 - categorical_accuracy: 1.000 - ETA: 10s - loss: 0.3236 - categorical_accuracy: 1.000 - ETA: 6s - loss: 0.3251 - categorical_accuracy: 1.000 - ETA: 2s - loss: 0.3249 - categorical_accuracy: 1.00 - 53s 152ms/step - loss: 0.3246 - categorical_accuracy: 1.0000 - val_loss: 0.3241 - val_categorical_accuracy: 0.9934\n",
      "Epoch 40/50\n",
      "349/349 [==============================] - ETA: 44s - loss: 0.3228 - categorical_accuracy: 1.000 - ETA: 40s - loss: 0.3166 - categorical_accuracy: 1.000 - ETA: 35s - loss: 0.3204 - categorical_accuracy: 1.000 - ETA: 31s - loss: 0.3157 - categorical_accuracy: 1.000 - ETA: 27s - loss: 0.3219 - categorical_accuracy: 1.000 - ETA: 23s - loss: 0.3169 - categorical_accuracy: 1.000 - ETA: 19s - loss: 0.3159 - categorical_accuracy: 1.000 - ETA: 15s - loss: 0.3184 - categorical_accuracy: 1.000 - ETA: 10s - loss: 0.3183 - categorical_accuracy: 1.000 - ETA: 6s - loss: 0.3156 - categorical_accuracy: 1.000 - ETA: 2s - loss: 0.3134 - categorical_accuracy: 1.00 - 54s 156ms/step - loss: 0.3128 - categorical_accuracy: 1.0000 - val_loss: 0.3102 - val_categorical_accuracy: 0.9934\n",
      "Epoch 41/50\n"
     ]
    },
    {
     "name": "stdout",
     "output_type": "stream",
     "text": [
      "349/349 [==============================] - ETA: 43s - loss: 0.3257 - categorical_accuracy: 1.000 - ETA: 40s - loss: 0.3335 - categorical_accuracy: 1.000 - ETA: 36s - loss: 0.3349 - categorical_accuracy: 1.000 - ETA: 31s - loss: 0.3284 - categorical_accuracy: 1.000 - ETA: 27s - loss: 0.3245 - categorical_accuracy: 1.000 - ETA: 23s - loss: 0.3223 - categorical_accuracy: 1.000 - ETA: 19s - loss: 0.3193 - categorical_accuracy: 1.000 - ETA: 14s - loss: 0.3161 - categorical_accuracy: 1.000 - ETA: 10s - loss: 0.3095 - categorical_accuracy: 1.000 - ETA: 6s - loss: 0.3072 - categorical_accuracy: 1.000 - ETA: 2s - loss: 0.3068 - categorical_accuracy: 1.00 - 55s 158ms/step - loss: 0.3050 - categorical_accuracy: 1.0000 - val_loss: 0.2995 - val_categorical_accuracy: 0.9934\n",
      "Epoch 42/50\n",
      "349/349 [==============================] - ETA: 43s - loss: 0.2939 - categorical_accuracy: 1.000 - ETA: 39s - loss: 0.2873 - categorical_accuracy: 1.000 - ETA: 35s - loss: 0.2846 - categorical_accuracy: 1.000 - ETA: 31s - loss: 0.2848 - categorical_accuracy: 1.000 - ETA: 27s - loss: 0.2832 - categorical_accuracy: 1.000 - ETA: 23s - loss: 0.2876 - categorical_accuracy: 1.000 - ETA: 19s - loss: 0.2862 - categorical_accuracy: 1.000 - ETA: 15s - loss: 0.2865 - categorical_accuracy: 1.000 - ETA: 10s - loss: 0.2878 - categorical_accuracy: 1.000 - ETA: 6s - loss: 0.2874 - categorical_accuracy: 1.000 - ETA: 2s - loss: 0.2880 - categorical_accuracy: 1.00 - 54s 156ms/step - loss: 0.2882 - categorical_accuracy: 1.0000 - val_loss: 0.2863 - val_categorical_accuracy: 0.9934\n",
      "Epoch 43/50\n",
      "349/349 [==============================] - ETA: 44s - loss: 0.2853 - categorical_accuracy: 1.000 - ETA: 39s - loss: 0.2832 - categorical_accuracy: 1.000 - ETA: 35s - loss: 0.2899 - categorical_accuracy: 1.000 - ETA: 31s - loss: 0.2808 - categorical_accuracy: 1.000 - ETA: 27s - loss: 0.2797 - categorical_accuracy: 1.000 - ETA: 23s - loss: 0.2810 - categorical_accuracy: 1.000 - ETA: 19s - loss: 0.2753 - categorical_accuracy: 1.000 - ETA: 15s - loss: 0.2731 - categorical_accuracy: 1.000 - ETA: 10s - loss: 0.2761 - categorical_accuracy: 1.000 - ETA: 6s - loss: 0.2768 - categorical_accuracy: 1.000 - ETA: 2s - loss: 0.2789 - categorical_accuracy: 1.00 - 54s 156ms/step - loss: 0.2789 - categorical_accuracy: 1.0000 - val_loss: 0.2807 - val_categorical_accuracy: 0.9801\n",
      "Epoch 44/50\n",
      "349/349 [==============================] - ETA: 44s - loss: 0.2869 - categorical_accuracy: 1.000 - ETA: 40s - loss: 0.2678 - categorical_accuracy: 1.000 - ETA: 36s - loss: 0.2730 - categorical_accuracy: 1.000 - ETA: 32s - loss: 0.2720 - categorical_accuracy: 1.000 - ETA: 27s - loss: 0.2754 - categorical_accuracy: 1.000 - ETA: 23s - loss: 0.2707 - categorical_accuracy: 1.000 - ETA: 19s - loss: 0.2723 - categorical_accuracy: 1.000 - ETA: 15s - loss: 0.2710 - categorical_accuracy: 1.000 - ETA: 11s - loss: 0.2705 - categorical_accuracy: 1.000 - ETA: 6s - loss: 0.2693 - categorical_accuracy: 1.000 - ETA: 2s - loss: 0.2660 - categorical_accuracy: 1.00 - 56s 160ms/step - loss: 0.2647 - categorical_accuracy: 1.0000 - val_loss: 0.2633 - val_categorical_accuracy: 0.9934\n",
      "Epoch 45/50\n",
      "349/349 [==============================] - ETA: 44s - loss: 0.2906 - categorical_accuracy: 1.000 - ETA: 40s - loss: 0.2713 - categorical_accuracy: 1.000 - ETA: 36s - loss: 0.2670 - categorical_accuracy: 1.000 - ETA: 31s - loss: 0.2608 - categorical_accuracy: 1.000 - ETA: 27s - loss: 0.2555 - categorical_accuracy: 1.000 - ETA: 23s - loss: 0.2555 - categorical_accuracy: 1.000 - ETA: 19s - loss: 0.2567 - categorical_accuracy: 1.000 - ETA: 15s - loss: 0.2566 - categorical_accuracy: 1.000 - ETA: 10s - loss: 0.2550 - categorical_accuracy: 1.000 - ETA: 6s - loss: 0.2560 - categorical_accuracy: 1.000 - ETA: 2s - loss: 0.2538 - categorical_accuracy: 1.00 - 55s 158ms/step - loss: 0.2538 - categorical_accuracy: 1.0000 - val_loss: 0.2541 - val_categorical_accuracy: 0.9934\n",
      "Epoch 46/50\n",
      "349/349 [==============================] - ETA: 45s - loss: 0.2345 - categorical_accuracy: 1.000 - ETA: 40s - loss: 0.2666 - categorical_accuracy: 1.000 - ETA: 35s - loss: 0.2616 - categorical_accuracy: 1.000 - ETA: 31s - loss: 0.2682 - categorical_accuracy: 1.000 - ETA: 27s - loss: 0.2546 - categorical_accuracy: 1.000 - ETA: 23s - loss: 0.2486 - categorical_accuracy: 1.000 - ETA: 19s - loss: 0.2476 - categorical_accuracy: 1.000 - ETA: 15s - loss: 0.2506 - categorical_accuracy: 1.000 - ETA: 10s - loss: 0.2490 - categorical_accuracy: 1.000 - ETA: 6s - loss: 0.2433 - categorical_accuracy: 1.000 - ETA: 2s - loss: 0.2411 - categorical_accuracy: 1.00 - 54s 156ms/step - loss: 0.2423 - categorical_accuracy: 1.0000 - val_loss: 0.2426 - val_categorical_accuracy: 0.9934\n",
      "Epoch 47/50\n",
      "349/349 [==============================] - ETA: 43s - loss: 0.2380 - categorical_accuracy: 1.000 - ETA: 39s - loss: 0.2375 - categorical_accuracy: 1.000 - ETA: 35s - loss: 0.2453 - categorical_accuracy: 1.000 - ETA: 31s - loss: 0.2436 - categorical_accuracy: 1.000 - ETA: 27s - loss: 0.2396 - categorical_accuracy: 1.000 - ETA: 23s - loss: 0.2353 - categorical_accuracy: 1.000 - ETA: 19s - loss: 0.2336 - categorical_accuracy: 1.000 - ETA: 15s - loss: 0.2338 - categorical_accuracy: 1.000 - ETA: 11s - loss: 0.2314 - categorical_accuracy: 1.000 - ETA: 6s - loss: 0.2338 - categorical_accuracy: 1.000 - ETA: 2s - loss: 0.2337 - categorical_accuracy: 1.00 - 56s 161ms/step - loss: 0.2321 - categorical_accuracy: 1.0000 - val_loss: 0.2339 - val_categorical_accuracy: 0.9934\n",
      "Epoch 48/50\n",
      "349/349 [==============================] - ETA: 44s - loss: 0.2442 - categorical_accuracy: 1.000 - ETA: 40s - loss: 0.2383 - categorical_accuracy: 1.000 - ETA: 35s - loss: 0.2399 - categorical_accuracy: 1.000 - ETA: 31s - loss: 0.2298 - categorical_accuracy: 1.000 - ETA: 27s - loss: 0.2264 - categorical_accuracy: 1.000 - ETA: 23s - loss: 0.2330 - categorical_accuracy: 1.000 - ETA: 19s - loss: 0.2404 - categorical_accuracy: 1.000 - ETA: 15s - loss: 0.2368 - categorical_accuracy: 1.000 - ETA: 10s - loss: 0.2324 - categorical_accuracy: 1.000 - ETA: 6s - loss: 0.2298 - categorical_accuracy: 1.000 - ETA: 2s - loss: 0.2311 - categorical_accuracy: 1.00 - 55s 156ms/step - loss: 0.2293 - categorical_accuracy: 1.0000 - val_loss: 0.2268 - val_categorical_accuracy: 0.9934\n",
      "Epoch 49/50\n",
      "349/349 [==============================] - ETA: 44s - loss: 0.2877 - categorical_accuracy: 1.000 - ETA: 39s - loss: 0.2343 - categorical_accuracy: 1.000 - ETA: 35s - loss: 0.2270 - categorical_accuracy: 1.000 - ETA: 31s - loss: 0.2217 - categorical_accuracy: 1.000 - ETA: 27s - loss: 0.2230 - categorical_accuracy: 1.000 - ETA: 23s - loss: 0.2270 - categorical_accuracy: 1.000 - ETA: 19s - loss: 0.2236 - categorical_accuracy: 1.000 - ETA: 15s - loss: 0.2164 - categorical_accuracy: 1.000 - ETA: 10s - loss: 0.2157 - categorical_accuracy: 1.000 - ETA: 6s - loss: 0.2141 - categorical_accuracy: 1.000 - ETA: 2s - loss: 0.2117 - categorical_accuracy: 1.00 - 54s 156ms/step - loss: 0.2111 - categorical_accuracy: 1.0000 - val_loss: 0.2160 - val_categorical_accuracy: 0.9934\n",
      "Epoch 50/50\n",
      "349/349 [==============================] - ETA: 44s - loss: 0.1980 - categorical_accuracy: 1.000 - ETA: 39s - loss: 0.1900 - categorical_accuracy: 1.000 - ETA: 35s - loss: 0.2042 - categorical_accuracy: 1.000 - ETA: 31s - loss: 0.2036 - categorical_accuracy: 1.000 - ETA: 27s - loss: 0.2060 - categorical_accuracy: 1.000 - ETA: 23s - loss: 0.2080 - categorical_accuracy: 1.000 - ETA: 19s - loss: 0.2051 - categorical_accuracy: 1.000 - ETA: 15s - loss: 0.2034 - categorical_accuracy: 1.000 - ETA: 10s - loss: 0.2023 - categorical_accuracy: 1.000 - ETA: 6s - loss: 0.2039 - categorical_accuracy: 1.000 - ETA: 2s - loss: 0.2032 - categorical_accuracy: 1.00 - 54s 156ms/step - loss: 0.2054 - categorical_accuracy: 1.0000 - val_loss: 0.2071 - val_categorical_accuracy: 0.9934\n"
     ]
    },
    {
     "data": {
      "text/plain": [
       "[<matplotlib.lines.Line2D at 0xc65f57cc0>]"
      ]
     },
     "execution_count": 4,
     "metadata": {},
     "output_type": "execute_result"
    },
    {
     "data": {
      "image/png": "[encoded data removed]",
      "text/plain": [
       "<matplotlib.figure.Figure at 0xc5f3ff940>"
      ]
     },
     "metadata": {},
     "output_type": "display_data"
    }
   ],
   "source": [
    "from matplotlib import pyplot as plt\n",
    "model3 = get_model3()\n",
    "history=model3.fit(X_train, y_train_hot, batch_size=30, epochs=50, verbose=verbose, validation_data=(X_test, y_test_hot))\n",
    "plt.plot(history.history['val_categorical_accuracy'])"
   ]
  },
  {
   "cell_type": "code",
   "execution_count": 5,
   "metadata": {
    "collapsed": true
   },
   "outputs": [],
   "source": [
    "y_predmod3 = model3.predict(X_test)\n",
    "#y_pred = (y_pred > 0.5)\n",
    "y_predmod3=np.argmax(y_predmod3,axis=1)\n",
    "y_predmod3T= model3.predict(X_train)\n",
    "y_predmod3T=np.argmax(y_predmod3T,axis=1)"
   ]
  },
  {
   "cell_type": "code",
   "execution_count": 6,
   "metadata": {},
   "outputs": [
    {
     "name": "stdout",
     "output_type": "stream",
     "text": [
      "Train accuracy: 1.0\n",
      "Test accuracy : 0.993377483444\n"
     ]
    }
   ],
   "source": [
    "def acc(y_true, y_pred):\n",
    "    return np.equal(y_true,y_pred).mean()\n",
    "print(\"Train accuracy: \" + str(acc(y_train, y_predmod3T)))\n",
    "print(\"Test accuracy : \" + str(acc(y_test, y_predmod3)))"
   ]
  },
  {
   "cell_type": "code",
   "execution_count": 17,
   "metadata": {},
   "outputs": [
    {
     "name": "stdout",
     "output_type": "stream",
     "text": [
      "./sounds/testamal.wav\n",
      "amal:  [[ 0.91394216  0.05713108  0.02892674]]\n",
      "hajer:  0.0571311\n",
      "Macron:  0.0289267\n",
      "La voix est celle de \n",
      "amal\n"
     ]
    }
   ],
   "source": [
    "print(predict('./sounds/testamal.wav', model=model3))"
   ]
  },
  {
   "cell_type": "code",
   "execution_count": 18,
   "metadata": {},
   "outputs": [
    {
     "name": "stdout",
     "output_type": "stream",
     "text": [
      "./sounds/AmalT.wav\n",
      "amal:  [[ 0.91391456  0.05710742  0.02897793]]\n",
      "hajer:  0.0571074\n",
      "Macron:  0.0289779\n",
      "La voix est celle de \n",
      "amal\n"
     ]
    }
   ],
   "source": [
    "print(predict('./sounds/AmalT.wav', model=model3))"
   ]
  },
  {
   "cell_type": "code",
   "execution_count": 19,
   "metadata": {},
   "outputs": [
    {
     "data": {
      "text/plain": [
       "[<matplotlib.lines.Line2D at 0xa39b925e10>]"
      ]
     },
     "execution_count": 19,
     "metadata": {},
     "output_type": "execute_result"
    },
    {
     "data": {
      "image/png": "[encoded data removed]",
      "text/plain": [
       "<matplotlib.figure.Figure at 0xa395484080>"
      ]
     },
     "metadata": {},
     "output_type": "display_data"
    }
   ],
   "source": [
    "plt.plot(history.history['categorical_accuracy'])"
   ]
  },
  {
   "cell_type": "code",
   "execution_count": 20,
   "metadata": {},
   "outputs": [
    {
     "name": "stdout",
     "output_type": "stream",
     "text": [
      "./sounds/testhajer.wav\n",
      "amal:  [[ 0.05077607  0.92627472  0.02294913]]\n",
      "hajer:  0.926275\n",
      "Macron:  0.0229491\n",
      "La voix est celle de \n",
      "hajer\n"
     ]
    }
   ],
   "source": [
    "print(predict('./sounds/testhajer.wav', model=model3))"
   ]
  },
  {
   "cell_type": "code",
   "execution_count": 21,
   "metadata": {},
   "outputs": [
    {
     "name": "stdout",
     "output_type": "stream",
     "text": [
      "./sounds/testamal.wav\n",
      "amal:  [[ 0.91394216  0.05713108  0.02892674]]\n",
      "hajer:  0.0571311\n",
      "Macron:  0.0289267\n",
      "La voix est celle de \n",
      "amal\n"
     ]
    }
   ],
   "source": [
    "print(predict('./sounds/testamal.wav', model=model3))"
   ]
  },
  {
   "cell_type": "code",
   "execution_count": 22,
   "metadata": {},
   "outputs": [
    {
     "ename": "FileNotFoundError",
     "evalue": "[Errno 2] No such file or directory: 'C:\\\\Users\\\\adminstraeur\\\\Desktop\\\\RT4\\\\semestre2\\\\ppp\\\\DeadSimpleSpeechRecognizer-master\\\\DeadSimpleSpeechRecognizer-master\\\\sounds\\\\amalTest5.wav'",
     "output_type": "error",
     "traceback": [
      "\u001b[1;31m---------------------------------------------------------------------------\u001b[0m",
      "\u001b[1;31mFileNotFoundError\u001b[0m                         Traceback (most recent call last)",
      "\u001b[1;32m<ipython-input-22-fb15512c3fd9>\u001b[0m in \u001b[0;36m<module>\u001b[1;34m()\u001b[0m\n\u001b[1;32m----> 1\u001b[1;33m \u001b[0mprint\u001b[0m\u001b[1;33m(\u001b[0m\u001b[0mpredict\u001b[0m\u001b[1;33m(\u001b[0m\u001b[1;34m'./sounds/amalTest5.wav'\u001b[0m\u001b[1;33m,\u001b[0m \u001b[0mmodel\u001b[0m\u001b[1;33m=\u001b[0m\u001b[0mmodel3\u001b[0m\u001b[1;33m)\u001b[0m\u001b[1;33m)\u001b[0m\u001b[1;33m\u001b[0m\u001b[0m\n\u001b[0m",
      "\u001b[1;32m<ipython-input-15-7ae33dfbaf97>\u001b[0m in \u001b[0;36mpredict\u001b[1;34m(filepath, model)\u001b[0m\n\u001b[0;32m      1\u001b[0m \u001b[1;31m# Predicts one sample\u001b[0m\u001b[1;33m\u001b[0m\u001b[1;33m\u001b[0m\u001b[0m\n\u001b[0;32m      2\u001b[0m \u001b[1;32mdef\u001b[0m \u001b[0mpredict\u001b[0m\u001b[1;33m(\u001b[0m\u001b[0mfilepath\u001b[0m\u001b[1;33m,\u001b[0m \u001b[0mmodel\u001b[0m\u001b[1;33m)\u001b[0m\u001b[1;33m:\u001b[0m\u001b[1;33m\u001b[0m\u001b[0m\n\u001b[1;32m----> 3\u001b[1;33m     \u001b[0msample\u001b[0m \u001b[1;33m=\u001b[0m \u001b[0mwav2mfcc\u001b[0m\u001b[1;33m(\u001b[0m\u001b[0mfilepath\u001b[0m\u001b[1;33m)\u001b[0m\u001b[1;33m\u001b[0m\u001b[0m\n\u001b[0m\u001b[0;32m      4\u001b[0m     \u001b[0msample_reshaped\u001b[0m \u001b[1;33m=\u001b[0m \u001b[0msample\u001b[0m\u001b[1;33m.\u001b[0m\u001b[0mreshape\u001b[0m\u001b[1;33m(\u001b[0m\u001b[1;36m1\u001b[0m\u001b[1;33m,\u001b[0m \u001b[0mfeature_dim_1\u001b[0m\u001b[1;33m,\u001b[0m \u001b[0mfeature_dim_2\u001b[0m\u001b[1;33m,\u001b[0m \u001b[0mchannel\u001b[0m\u001b[1;33m)\u001b[0m\u001b[1;33m\u001b[0m\u001b[0m\n\u001b[0;32m      5\u001b[0m \u001b[1;33m\u001b[0m\u001b[0m\n",
      "\u001b[1;32m~\\Desktop\\RT4\\semestre2\\ppp\\DeadSimpleSpeechRecognizer-master\\DeadSimpleSpeechRecognizer-master\\preprocess.py\u001b[0m in \u001b[0;36mwav2mfcc\u001b[1;34m(file_path, max_len)\u001b[0m\n\u001b[0;32m     21\u001b[0m \u001b[1;31m# convert wav to mfcc vectors\u001b[0m\u001b[1;33m\u001b[0m\u001b[1;33m\u001b[0m\u001b[0m\n\u001b[0;32m     22\u001b[0m \u001b[1;32mdef\u001b[0m \u001b[0mwav2mfcc\u001b[0m\u001b[1;33m(\u001b[0m\u001b[0mfile_path\u001b[0m\u001b[1;33m,\u001b[0m \u001b[0mmax_len\u001b[0m\u001b[1;33m=\u001b[0m\u001b[1;36m249\u001b[0m\u001b[1;33m)\u001b[0m\u001b[1;33m:\u001b[0m\u001b[1;33m\u001b[0m\u001b[0m\n\u001b[1;32m---> 23\u001b[1;33m     \u001b[0mwave\u001b[0m\u001b[1;33m,\u001b[0m \u001b[0msr\u001b[0m \u001b[1;33m=\u001b[0m \u001b[0mlibrosa\u001b[0m\u001b[1;33m.\u001b[0m\u001b[0mload\u001b[0m\u001b[1;33m(\u001b[0m\u001b[0mfile_path\u001b[0m\u001b[1;33m,\u001b[0m \u001b[0mmono\u001b[0m\u001b[1;33m=\u001b[0m\u001b[1;32mTrue\u001b[0m\u001b[1;33m,\u001b[0m \u001b[0msr\u001b[0m\u001b[1;33m=\u001b[0m\u001b[1;32mNone\u001b[0m\u001b[1;33m)\u001b[0m \u001b[1;31m#monaural / stereophonic sound (un seul channel/+ieurs channels)\u001b[0m\u001b[1;33m\u001b[0m\u001b[0m\n\u001b[0m\u001b[0;32m     24\u001b[0m     \u001b[1;31m#sr=44.1khz\u001b[0m\u001b[1;33m\u001b[0m\u001b[1;33m\u001b[0m\u001b[0m\n\u001b[0;32m     25\u001b[0m     \u001b[0mmfcc\u001b[0m \u001b[1;33m=\u001b[0m \u001b[0mlibrosa\u001b[0m\u001b[1;33m.\u001b[0m\u001b[0mfeature\u001b[0m\u001b[1;33m.\u001b[0m\u001b[0mmfcc\u001b[0m\u001b[1;33m(\u001b[0m\u001b[0mwave\u001b[0m\u001b[1;33m,\u001b[0m \u001b[0msr\u001b[0m\u001b[1;33m,\u001b[0m \u001b[0mn_mfcc\u001b[0m\u001b[1;33m=\u001b[0m\u001b[1;36m40\u001b[0m\u001b[1;33m,\u001b[0m \u001b[0mn_fft\u001b[0m\u001b[1;33m=\u001b[0m\u001b[1;36m1764\u001b[0m\u001b[1;33m,\u001b[0m\u001b[0mhop_length\u001b[0m\u001b[1;33m=\u001b[0m\u001b[1;36m882\u001b[0m\u001b[1;33m)\u001b[0m  \u001b[1;31m#sampling rate / default hop value 512\u001b[0m\u001b[1;33m\u001b[0m\u001b[0m\n",
      "\u001b[1;32m~\\Miniconda3\\envs\\DL\\lib\\site-packages\\librosa\\core\\audio.py\u001b[0m in \u001b[0;36mload\u001b[1;34m(path, sr, mono, offset, duration, dtype, res_type)\u001b[0m\n\u001b[0;32m    110\u001b[0m \u001b[1;33m\u001b[0m\u001b[0m\n\u001b[0;32m    111\u001b[0m     \u001b[0my\u001b[0m \u001b[1;33m=\u001b[0m \u001b[1;33m[\u001b[0m\u001b[1;33m]\u001b[0m\u001b[1;33m\u001b[0m\u001b[0m\n\u001b[1;32m--> 112\u001b[1;33m     \u001b[1;32mwith\u001b[0m \u001b[0maudioread\u001b[0m\u001b[1;33m.\u001b[0m\u001b[0maudio_open\u001b[0m\u001b[1;33m(\u001b[0m\u001b[0mos\u001b[0m\u001b[1;33m.\u001b[0m\u001b[0mpath\u001b[0m\u001b[1;33m.\u001b[0m\u001b[0mrealpath\u001b[0m\u001b[1;33m(\u001b[0m\u001b[0mpath\u001b[0m\u001b[1;33m)\u001b[0m\u001b[1;33m)\u001b[0m \u001b[1;32mas\u001b[0m \u001b[0minput_file\u001b[0m\u001b[1;33m:\u001b[0m\u001b[1;33m\u001b[0m\u001b[0m\n\u001b[0m\u001b[0;32m    113\u001b[0m         \u001b[0msr_native\u001b[0m \u001b[1;33m=\u001b[0m \u001b[0minput_file\u001b[0m\u001b[1;33m.\u001b[0m\u001b[0msamplerate\u001b[0m\u001b[1;33m\u001b[0m\u001b[0m\n\u001b[0;32m    114\u001b[0m         \u001b[0mn_channels\u001b[0m \u001b[1;33m=\u001b[0m \u001b[0minput_file\u001b[0m\u001b[1;33m.\u001b[0m\u001b[0mchannels\u001b[0m\u001b[1;33m\u001b[0m\u001b[0m\n",
      "\u001b[1;32m~\\Miniconda3\\envs\\DL\\lib\\site-packages\\audioread\\__init__.py\u001b[0m in \u001b[0;36maudio_open\u001b[1;34m(path)\u001b[0m\n\u001b[0;32m     76\u001b[0m     \u001b[1;32mfrom\u001b[0m \u001b[1;33m.\u001b[0m \u001b[1;32mimport\u001b[0m \u001b[0mrawread\u001b[0m\u001b[1;33m\u001b[0m\u001b[0m\n\u001b[0;32m     77\u001b[0m     \u001b[1;32mtry\u001b[0m\u001b[1;33m:\u001b[0m\u001b[1;33m\u001b[0m\u001b[0m\n\u001b[1;32m---> 78\u001b[1;33m         \u001b[1;32mreturn\u001b[0m \u001b[0mrawread\u001b[0m\u001b[1;33m.\u001b[0m\u001b[0mRawAudioFile\u001b[0m\u001b[1;33m(\u001b[0m\u001b[0mpath\u001b[0m\u001b[1;33m)\u001b[0m\u001b[1;33m\u001b[0m\u001b[0m\n\u001b[0m\u001b[0;32m     79\u001b[0m     \u001b[1;32mexcept\u001b[0m \u001b[0mDecodeError\u001b[0m\u001b[1;33m:\u001b[0m\u001b[1;33m\u001b[0m\u001b[0m\n\u001b[0;32m     80\u001b[0m         \u001b[1;32mpass\u001b[0m\u001b[1;33m\u001b[0m\u001b[0m\n",
      "\u001b[1;32m~\\Miniconda3\\envs\\DL\\lib\\site-packages\\audioread\\rawread.py\u001b[0m in \u001b[0;36m__init__\u001b[1;34m(self, filename)\u001b[0m\n\u001b[0;32m     47\u001b[0m     \"\"\"\n\u001b[0;32m     48\u001b[0m     \u001b[1;32mdef\u001b[0m \u001b[0m__init__\u001b[0m\u001b[1;33m(\u001b[0m\u001b[0mself\u001b[0m\u001b[1;33m,\u001b[0m \u001b[0mfilename\u001b[0m\u001b[1;33m)\u001b[0m\u001b[1;33m:\u001b[0m\u001b[1;33m\u001b[0m\u001b[0m\n\u001b[1;32m---> 49\u001b[1;33m         \u001b[0mself\u001b[0m\u001b[1;33m.\u001b[0m\u001b[0m_fh\u001b[0m \u001b[1;33m=\u001b[0m \u001b[0mopen\u001b[0m\u001b[1;33m(\u001b[0m\u001b[0mfilename\u001b[0m\u001b[1;33m,\u001b[0m \u001b[1;34m'rb'\u001b[0m\u001b[1;33m)\u001b[0m\u001b[1;33m\u001b[0m\u001b[0m\n\u001b[0m\u001b[0;32m     50\u001b[0m \u001b[1;33m\u001b[0m\u001b[0m\n\u001b[0;32m     51\u001b[0m         \u001b[1;32mtry\u001b[0m\u001b[1;33m:\u001b[0m\u001b[1;33m\u001b[0m\u001b[0m\n",
      "\u001b[1;31mFileNotFoundError\u001b[0m: [Errno 2] No such file or directory: 'C:\\\\Users\\\\adminstraeur\\\\Desktop\\\\RT4\\\\semestre2\\\\ppp\\\\DeadSimpleSpeechRecognizer-master\\\\DeadSimpleSpeechRecognizer-master\\\\sounds\\\\amalTest5.wav'"
     ]
    }
   ],
   "source": [
    "print(predict('./sounds/amalTest5.wav', model=model3))"
   ]
  },
  {
   "cell_type": "code",
   "execution_count": null,
   "metadata": {
    "collapsed": true
   },
   "outputs": [],
   "source": [
    "#lr=0.1 fi 3oudh 1\n",
    "model1 = get_model1()\n",
    "history=model1.fit(X_train, y_train_hot, batch_size=batch_size, epochs=100, verbose=verbose, validation_data=(X_test, y_test_hot))"
   ]
  },
  {
   "cell_type": "code",
   "execution_count": null,
   "metadata": {
    "collapsed": true
   },
   "outputs": [],
   "source": [
    "plt.plot(history.history['val_categorical_accuracy'])"
   ]
  },
  {
   "cell_type": "code",
   "execution_count": 66,
   "metadata": {
    "collapsed": true
   },
   "outputs": [],
   "source": [
    "y_predmodelbest = model1.predict(X_test)\n",
    "#y_pred = (y_pred > 0.5)\n",
    "y_predmodelbest=np.argmax(y_predmodelbest,axis=1)\n",
    "y_predmodelbest1= model1.predict(X_train)\n",
    "y_predmodelbest1=np.argmax(y_predmodelbest1,axis=1)"
   ]
  },
  {
   "cell_type": "code",
   "execution_count": 67,
   "metadata": {},
   "outputs": [
    {
     "name": "stdout",
     "output_type": "stream",
     "text": [
      "Train accuracy: 1.0\n",
      "Test accuracy : 0.867549668874\n"
     ]
    }
   ],
   "source": [
    "print(\"Train accuracy: \" + str(acc(y_train, y_predmodelbest1)))\n",
    "print(\"Test accuracy : \" + str(acc(y_test, y_predmodelbest)))"
   ]
  },
  {
   "cell_type": "code",
   "execution_count": 70,
   "metadata": {},
   "outputs": [
    {
     "name": "stdout",
     "output_type": "stream",
     "text": [
      "Train on 349 samples, validate on 151 samples\n",
      "Epoch 1/100\n",
      "349/349 [==============================] - ETA: 6:41 - loss: 1.6463 - categorical_accuracy: 0.20 - ETA: 3:38 - loss: 1.3180 - categorical_accuracy: 0.40 - ETA: 2:36 - loss: 1.2470 - categorical_accuracy: 0.40 - ETA: 2:05 - loss: 1.2267 - categorical_accuracy: 0.40 - ETA: 1:46 - loss: 1.2088 - categorical_accuracy: 0.40 - ETA: 1:33 - loss: 1.2056 - categorical_accuracy: 0.38 - ETA: 1:23 - loss: 1.1851 - categorical_accuracy: 0.37 - ETA: 1:14 - loss: 1.1895 - categorical_accuracy: 0.35 - ETA: 1:08 - loss: 1.1612 - categorical_accuracy: 0.37 - ETA: 1:02 - loss: 1.1521 - categorical_accuracy: 0.37 - ETA: 57s - loss: 1.1425 - categorical_accuracy: 0.3727 - ETA: 53s - loss: 1.1351 - categorical_accuracy: 0.375 - ETA: 49s - loss: 1.1318 - categorical_accuracy: 0.376 - ETA: 46s - loss: 1.1134 - categorical_accuracy: 0.407 - ETA: 42s - loss: 1.1004 - categorical_accuracy: 0.406 - ETA: 39s - loss: 1.0880 - categorical_accuracy: 0.412 - ETA: 37s - loss: 1.0863 - categorical_accuracy: 0.405 - ETA: 34s - loss: 1.0810 - categorical_accuracy: 0.411 - ETA: 32s - loss: 1.0705 - categorical_accuracy: 0.415 - ETA: 29s - loss: 1.0616 - categorical_accuracy: 0.430 - ETA: 27s - loss: 1.0576 - categorical_accuracy: 0.428 - ETA: 25s - loss: 1.0606 - categorical_accuracy: 0.418 - ETA: 22s - loss: 1.0477 - categorical_accuracy: 0.439 - ETA: 20s - loss: 1.0378 - categorical_accuracy: 0.450 - ETA: 18s - loss: 1.0300 - categorical_accuracy: 0.460 - ETA: 16s - loss: 1.0263 - categorical_accuracy: 0.465 - ETA: 14s - loss: 1.0136 - categorical_accuracy: 0.485 - ETA: 12s - loss: 1.0083 - categorical_accuracy: 0.489 - ETA: 10s - loss: 1.0021 - categorical_accuracy: 0.496 - ETA: 9s - loss: 0.9946 - categorical_accuracy: 0.503 - ETA: 7s - loss: 0.9922 - categorical_accuracy: 0.50 - ETA: 5s - loss: 0.9857 - categorical_accuracy: 0.50 - ETA: 3s - loss: 0.9817 - categorical_accuracy: 0.51 - ETA: 1s - loss: 0.9777 - categorical_accuracy: 0.51 - 69s 199ms/step - loss: 0.9729 - categorical_accuracy: 0.5215 - val_loss: 0.7753 - val_categorical_accuracy: 0.6291\n",
      "Epoch 2/100\n",
      "349/349 [==============================] - ETA: 46s - loss: 0.6858 - categorical_accuracy: 0.800 - ETA: 44s - loss: 0.7694 - categorical_accuracy: 0.600 - ETA: 43s - loss: 0.7720 - categorical_accuracy: 0.600 - ETA: 42s - loss: 0.8062 - categorical_accuracy: 0.600 - ETA: 41s - loss: 0.7843 - categorical_accuracy: 0.660 - ETA: 39s - loss: 0.7783 - categorical_accuracy: 0.666 - ETA: 38s - loss: 0.7678 - categorical_accuracy: 0.671 - ETA: 37s - loss: 0.7810 - categorical_accuracy: 0.637 - ETA: 35s - loss: 0.7800 - categorical_accuracy: 0.633 - ETA: 34s - loss: 0.7689 - categorical_accuracy: 0.650 - ETA: 33s - loss: 0.7734 - categorical_accuracy: 0.627 - ETA: 31s - loss: 0.7655 - categorical_accuracy: 0.633 - ETA: 30s - loss: 0.7509 - categorical_accuracy: 0.653 - ETA: 29s - loss: 0.7469 - categorical_accuracy: 0.657 - ETA: 27s - loss: 0.7368 - categorical_accuracy: 0.666 - ETA: 26s - loss: 0.7294 - categorical_accuracy: 0.675 - ETA: 24s - loss: 0.7306 - categorical_accuracy: 0.670 - ETA: 23s - loss: 0.7422 - categorical_accuracy: 0.666 - ETA: 22s - loss: 0.7458 - categorical_accuracy: 0.663 - ETA: 20s - loss: 0.7448 - categorical_accuracy: 0.655 - ETA: 19s - loss: 0.7499 - categorical_accuracy: 0.642 - ETA: 18s - loss: 0.7503 - categorical_accuracy: 0.640 - ETA: 16s - loss: 0.7462 - categorical_accuracy: 0.643 - ETA: 15s - loss: 0.7446 - categorical_accuracy: 0.645 - ETA: 13s - loss: 0.7419 - categorical_accuracy: 0.652 - ETA: 12s - loss: 0.7382 - categorical_accuracy: 0.657 - ETA: 11s - loss: 0.7349 - categorical_accuracy: 0.663 - ETA: 9s - loss: 0.7397 - categorical_accuracy: 0.650 - ETA: 8s - loss: 0.7344 - categorical_accuracy: 0.65 - ETA: 6s - loss: 0.7289 - categorical_accuracy: 0.66 - ETA: 5s - loss: 0.7270 - categorical_accuracy: 0.66 - ETA: 4s - loss: 0.7248 - categorical_accuracy: 0.66 - ETA: 2s - loss: 0.7205 - categorical_accuracy: 0.67 - ETA: 1s - loss: 0.7243 - categorical_accuracy: 0.66 - 55s 157ms/step - loss: 0.7223 - categorical_accuracy: 0.6734 - val_loss: 0.6847 - val_categorical_accuracy: 0.6689\n",
      "Epoch 3/100\n",
      "349/349 [==============================] - ETA: 45s - loss: 0.6398 - categorical_accuracy: 0.700 - ETA: 44s - loss: 0.5920 - categorical_accuracy: 0.750 - ETA: 43s - loss: 0.5992 - categorical_accuracy: 0.700 - ETA: 41s - loss: 0.5980 - categorical_accuracy: 0.750 - ETA: 40s - loss: 0.6002 - categorical_accuracy: 0.760 - ETA: 39s - loss: 0.5853 - categorical_accuracy: 0.800 - ETA: 37s - loss: 0.6040 - categorical_accuracy: 0.771 - ETA: 36s - loss: 0.6115 - categorical_accuracy: 0.762 - ETA: 35s - loss: 0.6289 - categorical_accuracy: 0.744 - ETA: 33s - loss: 0.6378 - categorical_accuracy: 0.730 - ETA: 32s - loss: 0.6437 - categorical_accuracy: 0.736 - ETA: 30s - loss: 0.6387 - categorical_accuracy: 0.758 - ETA: 29s - loss: 0.6414 - categorical_accuracy: 0.746 - ETA: 28s - loss: 0.6306 - categorical_accuracy: 0.750 - ETA: 26s - loss: 0.6284 - categorical_accuracy: 0.760 - ETA: 25s - loss: 0.6258 - categorical_accuracy: 0.768 - ETA: 24s - loss: 0.6322 - categorical_accuracy: 0.752 - ETA: 22s - loss: 0.6375 - categorical_accuracy: 0.744 - ETA: 21s - loss: 0.6290 - categorical_accuracy: 0.752 - ETA: 20s - loss: 0.6286 - categorical_accuracy: 0.750 - ETA: 18s - loss: 0.6308 - categorical_accuracy: 0.747 - ETA: 17s - loss: 0.6345 - categorical_accuracy: 0.745 - ETA: 16s - loss: 0.6369 - categorical_accuracy: 0.743 - ETA: 15s - loss: 0.6390 - categorical_accuracy: 0.737 - ETA: 13s - loss: 0.6346 - categorical_accuracy: 0.744 - ETA: 12s - loss: 0.6305 - categorical_accuracy: 0.750 - ETA: 11s - loss: 0.6301 - categorical_accuracy: 0.748 - ETA: 9s - loss: 0.6265 - categorical_accuracy: 0.750 - ETA: 8s - loss: 0.6259 - categorical_accuracy: 0.75 - ETA: 7s - loss: 0.6269 - categorical_accuracy: 0.74 - ETA: 5s - loss: 0.6240 - categorical_accuracy: 0.75 - ETA: 4s - loss: 0.6272 - categorical_accuracy: 0.75 - ETA: 2s - loss: 0.6276 - categorical_accuracy: 0.75 - ETA: 1s - loss: 0.6257 - categorical_accuracy: 0.75 - 59s 169ms/step - loss: 0.6220 - categorical_accuracy: 0.7564 - val_loss: 0.5850 - val_categorical_accuracy: 0.7815\n",
      "Epoch 4/100\n",
      "349/349 [==============================] - ETA: 55s - loss: 0.5102 - categorical_accuracy: 0.900 - ETA: 55s - loss: 0.4395 - categorical_accuracy: 0.950 - ETA: 52s - loss: 0.4864 - categorical_accuracy: 0.866 - ETA: 50s - loss: 0.4907 - categorical_accuracy: 0.900 - ETA: 47s - loss: 0.5182 - categorical_accuracy: 0.860 - ETA: 46s - loss: 0.5016 - categorical_accuracy: 0.866 - ETA: 43s - loss: 0.5205 - categorical_accuracy: 0.842 - ETA: 42s - loss: 0.5135 - categorical_accuracy: 0.850 - ETA: 41s - loss: 0.5507 - categorical_accuracy: 0.811 - ETA: 40s - loss: 0.5345 - categorical_accuracy: 0.830 - ETA: 38s - loss: 0.5259 - categorical_accuracy: 0.836 - ETA: 36s - loss: 0.5143 - categorical_accuracy: 0.841 - ETA: 34s - loss: 0.5175 - categorical_accuracy: 0.830 - ETA: 33s - loss: 0.5149 - categorical_accuracy: 0.835 - ETA: 31s - loss: 0.5225 - categorical_accuracy: 0.833 - ETA: 29s - loss: 0.5231 - categorical_accuracy: 0.837 - ETA: 28s - loss: 0.5273 - categorical_accuracy: 0.835 - ETA: 26s - loss: 0.5268 - categorical_accuracy: 0.827 - ETA: 25s - loss: 0.5262 - categorical_accuracy: 0.826 - ETA: 23s - loss: 0.5211 - categorical_accuracy: 0.825 - ETA: 21s - loss: 0.5239 - categorical_accuracy: 0.819 - ETA: 20s - loss: 0.5261 - categorical_accuracy: 0.818 - ETA: 18s - loss: 0.5287 - categorical_accuracy: 0.821 - ETA: 17s - loss: 0.5255 - categorical_accuracy: 0.825 - ETA: 15s - loss: 0.5249 - categorical_accuracy: 0.824 - ETA: 14s - loss: 0.5260 - categorical_accuracy: 0.823 - ETA: 12s - loss: 0.5215 - categorical_accuracy: 0.829 - ETA: 11s - loss: 0.5203 - categorical_accuracy: 0.835 - ETA: 9s - loss: 0.5218 - categorical_accuracy: 0.831 - ETA: 7s - loss: 0.5190 - categorical_accuracy: 0.83 - ETA: 6s - loss: 0.5250 - categorical_accuracy: 0.82 - ETA: 4s - loss: 0.5273 - categorical_accuracy: 0.82 - ETA: 3s - loss: 0.5266 - categorical_accuracy: 0.82 - ETA: 1s - loss: 0.5247 - categorical_accuracy: 0.82 - 64s 185ms/step - loss: 0.5247 - categorical_accuracy: 0.8309 - val_loss: 0.4968 - val_categorical_accuracy: 0.8874\n"
     ]
    },
    {
     "name": "stdout",
     "output_type": "stream",
     "text": [
      "Epoch 5/100\n",
      "349/349 [==============================] - ETA: 1:04 - loss: 0.4275 - categorical_accuracy: 0.90 - ETA: 1:00 - loss: 0.3579 - categorical_accuracy: 0.95 - ETA: 56s - loss: 0.4132 - categorical_accuracy: 0.8667 - ETA: 54s - loss: 0.4347 - categorical_accuracy: 0.900 - ETA: 51s - loss: 0.4442 - categorical_accuracy: 0.880 - ETA: 49s - loss: 0.4424 - categorical_accuracy: 0.900 - ETA: 47s - loss: 0.4257 - categorical_accuracy: 0.914 - ETA: 46s - loss: 0.4362 - categorical_accuracy: 0.912 - ETA: 44s - loss: 0.4399 - categorical_accuracy: 0.922 - ETA: 42s - loss: 0.4446 - categorical_accuracy: 0.930 - ETA: 40s - loss: 0.4428 - categorical_accuracy: 0.936 - ETA: 38s - loss: 0.4346 - categorical_accuracy: 0.941 - ETA: 37s - loss: 0.4371 - categorical_accuracy: 0.938 - ETA: 35s - loss: 0.4298 - categorical_accuracy: 0.942 - ETA: 33s - loss: 0.4289 - categorical_accuracy: 0.946 - ETA: 31s - loss: 0.4370 - categorical_accuracy: 0.931 - ETA: 30s - loss: 0.4522 - categorical_accuracy: 0.911 - ETA: 28s - loss: 0.4450 - categorical_accuracy: 0.916 - ETA: 26s - loss: 0.4627 - categorical_accuracy: 0.900 - ETA: 25s - loss: 0.4613 - categorical_accuracy: 0.905 - ETA: 23s - loss: 0.4543 - categorical_accuracy: 0.909 - ETA: 21s - loss: 0.4521 - categorical_accuracy: 0.913 - ETA: 19s - loss: 0.4551 - categorical_accuracy: 0.904 - ETA: 18s - loss: 0.4519 - categorical_accuracy: 0.904 - ETA: 16s - loss: 0.4502 - categorical_accuracy: 0.908 - ETA: 14s - loss: 0.4472 - categorical_accuracy: 0.911 - ETA: 13s - loss: 0.4461 - categorical_accuracy: 0.914 - ETA: 11s - loss: 0.4435 - categorical_accuracy: 0.914 - ETA: 9s - loss: 0.4458 - categorical_accuracy: 0.913 - ETA: 8s - loss: 0.4393 - categorical_accuracy: 0.91 - ETA: 6s - loss: 0.4364 - categorical_accuracy: 0.91 - ETA: 4s - loss: 0.4337 - categorical_accuracy: 0.91 - ETA: 3s - loss: 0.4309 - categorical_accuracy: 0.91 - ETA: 1s - loss: 0.4291 - categorical_accuracy: 0.91 - 63s 181ms/step - loss: 0.4277 - categorical_accuracy: 0.9140 - val_loss: 0.4038 - val_categorical_accuracy: 0.9205\n",
      "Epoch 6/100\n",
      "349/349 [==============================] - ETA: 56s - loss: 0.4536 - categorical_accuracy: 0.800 - ETA: 54s - loss: 0.4361 - categorical_accuracy: 0.900 - ETA: 52s - loss: 0.4234 - categorical_accuracy: 0.933 - ETA: 48s - loss: 0.4090 - categorical_accuracy: 0.900 - ETA: 46s - loss: 0.3855 - categorical_accuracy: 0.920 - ETA: 45s - loss: 0.3685 - categorical_accuracy: 0.933 - ETA: 44s - loss: 0.3784 - categorical_accuracy: 0.928 - ETA: 43s - loss: 0.3763 - categorical_accuracy: 0.937 - ETA: 41s - loss: 0.3807 - categorical_accuracy: 0.933 - ETA: 39s - loss: 0.3895 - categorical_accuracy: 0.930 - ETA: 38s - loss: 0.3991 - categorical_accuracy: 0.927 - ETA: 36s - loss: 0.3913 - categorical_accuracy: 0.933 - ETA: 34s - loss: 0.3920 - categorical_accuracy: 0.938 - ETA: 33s - loss: 0.3924 - categorical_accuracy: 0.928 - ETA: 31s - loss: 0.3888 - categorical_accuracy: 0.933 - ETA: 29s - loss: 0.3824 - categorical_accuracy: 0.937 - ETA: 28s - loss: 0.3799 - categorical_accuracy: 0.941 - ETA: 26s - loss: 0.3802 - categorical_accuracy: 0.938 - ETA: 24s - loss: 0.3741 - categorical_accuracy: 0.942 - ETA: 23s - loss: 0.3682 - categorical_accuracy: 0.945 - ETA: 21s - loss: 0.3689 - categorical_accuracy: 0.942 - ETA: 20s - loss: 0.3661 - categorical_accuracy: 0.945 - ETA: 18s - loss: 0.3652 - categorical_accuracy: 0.947 - ETA: 16s - loss: 0.3639 - categorical_accuracy: 0.945 - ETA: 15s - loss: 0.3606 - categorical_accuracy: 0.948 - ETA: 13s - loss: 0.3559 - categorical_accuracy: 0.950 - ETA: 12s - loss: 0.3553 - categorical_accuracy: 0.948 - ETA: 10s - loss: 0.3533 - categorical_accuracy: 0.946 - ETA: 9s - loss: 0.3504 - categorical_accuracy: 0.948 - ETA: 7s - loss: 0.3454 - categorical_accuracy: 0.95 - ETA: 6s - loss: 0.3419 - categorical_accuracy: 0.95 - ETA: 4s - loss: 0.3393 - categorical_accuracy: 0.95 - ETA: 2s - loss: 0.3374 - categorical_accuracy: 0.95 - ETA: 1s - loss: 0.3363 - categorical_accuracy: 0.95 - 61s 174ms/step - loss: 0.3361 - categorical_accuracy: 0.9513 - val_loss: 0.3572 - val_categorical_accuracy: 0.9205\n",
      "Epoch 7/100\n",
      "349/349 [==============================] - ETA: 49s - loss: 0.3492 - categorical_accuracy: 1.000 - ETA: 49s - loss: 0.4247 - categorical_accuracy: 0.900 - ETA: 47s - loss: 0.3868 - categorical_accuracy: 0.933 - ETA: 45s - loss: 0.3421 - categorical_accuracy: 0.950 - ETA: 44s - loss: 0.3398 - categorical_accuracy: 0.920 - ETA: 42s - loss: 0.3324 - categorical_accuracy: 0.933 - ETA: 40s - loss: 0.3294 - categorical_accuracy: 0.942 - ETA: 39s - loss: 0.3163 - categorical_accuracy: 0.950 - ETA: 37s - loss: 0.3121 - categorical_accuracy: 0.955 - ETA: 36s - loss: 0.3064 - categorical_accuracy: 0.960 - ETA: 34s - loss: 0.3016 - categorical_accuracy: 0.963 - ETA: 33s - loss: 0.2994 - categorical_accuracy: 0.966 - ETA: 32s - loss: 0.2923 - categorical_accuracy: 0.969 - ETA: 31s - loss: 0.2854 - categorical_accuracy: 0.964 - ETA: 29s - loss: 0.2844 - categorical_accuracy: 0.966 - ETA: 28s - loss: 0.2826 - categorical_accuracy: 0.968 - ETA: 26s - loss: 0.2897 - categorical_accuracy: 0.958 - ETA: 25s - loss: 0.3072 - categorical_accuracy: 0.944 - ETA: 23s - loss: 0.3070 - categorical_accuracy: 0.947 - ETA: 22s - loss: 0.3066 - categorical_accuracy: 0.950 - ETA: 20s - loss: 0.3069 - categorical_accuracy: 0.952 - ETA: 19s - loss: 0.3040 - categorical_accuracy: 0.954 - ETA: 17s - loss: 0.3019 - categorical_accuracy: 0.952 - ETA: 16s - loss: 0.3028 - categorical_accuracy: 0.950 - ETA: 14s - loss: 0.2995 - categorical_accuracy: 0.952 - ETA: 13s - loss: 0.2979 - categorical_accuracy: 0.953 - ETA: 11s - loss: 0.2953 - categorical_accuracy: 0.955 - ETA: 10s - loss: 0.2915 - categorical_accuracy: 0.957 - ETA: 8s - loss: 0.2872 - categorical_accuracy: 0.958 - ETA: 7s - loss: 0.2866 - categorical_accuracy: 0.96 - ETA: 5s - loss: 0.2831 - categorical_accuracy: 0.96 - ETA: 4s - loss: 0.2792 - categorical_accuracy: 0.96 - ETA: 2s - loss: 0.2800 - categorical_accuracy: 0.96 - ETA: 1s - loss: 0.2823 - categorical_accuracy: 0.95 - 60s 171ms/step - loss: 0.2829 - categorical_accuracy: 0.9599 - val_loss: 0.2942 - val_categorical_accuracy: 0.9272\n",
      "Epoch 8/100\n",
      "349/349 [==============================] - ETA: 51s - loss: 0.2239 - categorical_accuracy: 1.000 - ETA: 51s - loss: 0.2287 - categorical_accuracy: 1.000 - ETA: 50s - loss: 0.2222 - categorical_accuracy: 1.000 - ETA: 48s - loss: 0.2619 - categorical_accuracy: 0.975 - ETA: 46s - loss: 0.2558 - categorical_accuracy: 0.980 - ETA: 44s - loss: 0.2370 - categorical_accuracy: 0.983 - ETA: 43s - loss: 0.2290 - categorical_accuracy: 0.985 - ETA: 41s - loss: 0.2405 - categorical_accuracy: 0.975 - ETA: 39s - loss: 0.2346 - categorical_accuracy: 0.977 - ETA: 37s - loss: 0.2323 - categorical_accuracy: 0.980 - ETA: 36s - loss: 0.2325 - categorical_accuracy: 0.981 - ETA: 34s - loss: 0.2245 - categorical_accuracy: 0.983 - ETA: 33s - loss: 0.2208 - categorical_accuracy: 0.984 - ETA: 31s - loss: 0.2187 - categorical_accuracy: 0.985 - ETA: 30s - loss: 0.2178 - categorical_accuracy: 0.986 - ETA: 28s - loss: 0.2144 - categorical_accuracy: 0.987 - ETA: 27s - loss: 0.2113 - categorical_accuracy: 0.988 - ETA: 25s - loss: 0.2105 - categorical_accuracy: 0.988 - ETA: 24s - loss: 0.2131 - categorical_accuracy: 0.984 - ETA: 22s - loss: 0.2205 - categorical_accuracy: 0.980 - ETA: 21s - loss: 0.2246 - categorical_accuracy: 0.976 - ETA: 19s - loss: 0.2280 - categorical_accuracy: 0.972 - ETA: 18s - loss: 0.2316 - categorical_accuracy: 0.969 - ETA: 16s - loss: 0.2323 - categorical_accuracy: 0.970 - ETA: 15s - loss: 0.2329 - categorical_accuracy: 0.972 - ETA: 13s - loss: 0.2303 - categorical_accuracy: 0.973 - ETA: 12s - loss: 0.2279 - categorical_accuracy: 0.974 - ETA: 10s - loss: 0.2261 - categorical_accuracy: 0.975 - ETA: 9s - loss: 0.2257 - categorical_accuracy: 0.975 - ETA: 7s - loss: 0.2231 - categorical_accuracy: 0.97 - ETA: 6s - loss: 0.2282 - categorical_accuracy: 0.97 - ETA: 4s - loss: 0.2323 - categorical_accuracy: 0.96 - ETA: 2s - loss: 0.2306 - categorical_accuracy: 0.96 - ETA: 1s - loss: 0.2291 - categorical_accuracy: 0.97 - 62s 179ms/step - loss: 0.2275 - categorical_accuracy: 0.9713 - val_loss: 0.1992 - val_categorical_accuracy: 0.9735\n"
     ]
    },
    {
     "name": "stdout",
     "output_type": "stream",
     "text": [
      "Epoch 9/100\n",
      "349/349 [==============================] - ETA: 53s - loss: 0.1923 - categorical_accuracy: 1.000 - ETA: 50s - loss: 0.2240 - categorical_accuracy: 1.000 - ETA: 50s - loss: 0.2052 - categorical_accuracy: 1.000 - ETA: 49s - loss: 0.1928 - categorical_accuracy: 1.000 - ETA: 47s - loss: 0.1917 - categorical_accuracy: 1.000 - ETA: 45s - loss: 0.1850 - categorical_accuracy: 1.000 - ETA: 43s - loss: 0.1820 - categorical_accuracy: 1.000 - ETA: 41s - loss: 0.1872 - categorical_accuracy: 0.987 - ETA: 39s - loss: 0.1835 - categorical_accuracy: 0.988 - ETA: 38s - loss: 0.2014 - categorical_accuracy: 0.980 - ETA: 36s - loss: 0.2259 - categorical_accuracy: 0.972 - ETA: 34s - loss: 0.2243 - categorical_accuracy: 0.975 - ETA: 33s - loss: 0.2232 - categorical_accuracy: 0.976 - ETA: 31s - loss: 0.2236 - categorical_accuracy: 0.978 - ETA: 30s - loss: 0.2184 - categorical_accuracy: 0.980 - ETA: 28s - loss: 0.2154 - categorical_accuracy: 0.981 - ETA: 26s - loss: 0.2127 - categorical_accuracy: 0.982 - ETA: 25s - loss: 0.2129 - categorical_accuracy: 0.983 - ETA: 23s - loss: 0.2087 - categorical_accuracy: 0.984 - ETA: 22s - loss: 0.2054 - categorical_accuracy: 0.985 - ETA: 20s - loss: 0.2037 - categorical_accuracy: 0.985 - ETA: 19s - loss: 0.2071 - categorical_accuracy: 0.981 - ETA: 17s - loss: 0.2049 - categorical_accuracy: 0.982 - ETA: 16s - loss: 0.2024 - categorical_accuracy: 0.983 - ETA: 14s - loss: 0.2037 - categorical_accuracy: 0.980 - ETA: 13s - loss: 0.2044 - categorical_accuracy: 0.980 - ETA: 11s - loss: 0.2030 - categorical_accuracy: 0.981 - ETA: 10s - loss: 0.2017 - categorical_accuracy: 0.982 - ETA: 8s - loss: 0.1984 - categorical_accuracy: 0.982 - ETA: 7s - loss: 0.1975 - categorical_accuracy: 0.98 - ETA: 5s - loss: 0.1959 - categorical_accuracy: 0.98 - ETA: 4s - loss: 0.1949 - categorical_accuracy: 0.98 - ETA: 2s - loss: 0.1943 - categorical_accuracy: 0.98 - ETA: 1s - loss: 0.1932 - categorical_accuracy: 0.98 - 60s 171ms/step - loss: 0.1921 - categorical_accuracy: 0.9857 - val_loss: 0.1692 - val_categorical_accuracy: 0.9735\n",
      "Epoch 10/100\n",
      "349/349 [==============================] - ETA: 50s - loss: 0.1452 - categorical_accuracy: 1.000 - ETA: 49s - loss: 0.1874 - categorical_accuracy: 0.950 - ETA: 47s - loss: 0.1687 - categorical_accuracy: 0.966 - ETA: 45s - loss: 0.1681 - categorical_accuracy: 0.975 - ETA: 43s - loss: 0.1687 - categorical_accuracy: 0.980 - ETA: 41s - loss: 0.1643 - categorical_accuracy: 0.983 - ETA: 40s - loss: 0.1709 - categorical_accuracy: 0.985 - ETA: 38s - loss: 0.1865 - categorical_accuracy: 0.975 - ETA: 37s - loss: 0.1863 - categorical_accuracy: 0.977 - ETA: 36s - loss: 0.1806 - categorical_accuracy: 0.980 - ETA: 34s - loss: 0.1778 - categorical_accuracy: 0.981 - ETA: 33s - loss: 0.1738 - categorical_accuracy: 0.983 - ETA: 31s - loss: 0.1719 - categorical_accuracy: 0.984 - ETA: 30s - loss: 0.1742 - categorical_accuracy: 0.985 - ETA: 28s - loss: 0.1704 - categorical_accuracy: 0.986 - ETA: 27s - loss: 0.1765 - categorical_accuracy: 0.981 - ETA: 26s - loss: 0.1758 - categorical_accuracy: 0.982 - ETA: 24s - loss: 0.1757 - categorical_accuracy: 0.983 - ETA: 23s - loss: 0.1715 - categorical_accuracy: 0.984 - ETA: 21s - loss: 0.1695 - categorical_accuracy: 0.985 - ETA: 20s - loss: 0.1683 - categorical_accuracy: 0.985 - ETA: 19s - loss: 0.1668 - categorical_accuracy: 0.986 - ETA: 17s - loss: 0.1675 - categorical_accuracy: 0.987 - ETA: 16s - loss: 0.1666 - categorical_accuracy: 0.987 - ETA: 14s - loss: 0.1650 - categorical_accuracy: 0.988 - ETA: 13s - loss: 0.1633 - categorical_accuracy: 0.988 - ETA: 11s - loss: 0.1646 - categorical_accuracy: 0.985 - ETA: 10s - loss: 0.1629 - categorical_accuracy: 0.985 - ETA: 8s - loss: 0.1624 - categorical_accuracy: 0.986 - ETA: 7s - loss: 0.1620 - categorical_accuracy: 0.98 - ETA: 5s - loss: 0.1604 - categorical_accuracy: 0.98 - ETA: 4s - loss: 0.1638 - categorical_accuracy: 0.98 - ETA: 2s - loss: 0.1632 - categorical_accuracy: 0.98 - ETA: 1s - loss: 0.1634 - categorical_accuracy: 0.98 - 59s 170ms/step - loss: 0.1622 - categorical_accuracy: 0.9828 - val_loss: 0.1488 - val_categorical_accuracy: 0.9735\n",
      "Epoch 11/100\n",
      "349/349 [==============================] - ETA: 55s - loss: 0.1388 - categorical_accuracy: 1.000 - ETA: 53s - loss: 0.1336 - categorical_accuracy: 1.000 - ETA: 52s - loss: 0.1193 - categorical_accuracy: 1.000 - ETA: 51s - loss: 0.1198 - categorical_accuracy: 1.000 - ETA: 49s - loss: 0.1270 - categorical_accuracy: 1.000 - ETA: 47s - loss: 0.1351 - categorical_accuracy: 0.983 - ETA: 45s - loss: 0.1575 - categorical_accuracy: 0.971 - ETA: 44s - loss: 0.1543 - categorical_accuracy: 0.975 - ETA: 42s - loss: 0.1517 - categorical_accuracy: 0.977 - ETA: 41s - loss: 0.1497 - categorical_accuracy: 0.980 - ETA: 39s - loss: 0.1468 - categorical_accuracy: 0.981 - ETA: 37s - loss: 0.1460 - categorical_accuracy: 0.983 - ETA: 35s - loss: 0.1481 - categorical_accuracy: 0.984 - ETA: 34s - loss: 0.1494 - categorical_accuracy: 0.985 - ETA: 32s - loss: 0.1472 - categorical_accuracy: 0.986 - ETA: 30s - loss: 0.1487 - categorical_accuracy: 0.987 - ETA: 29s - loss: 0.1459 - categorical_accuracy: 0.988 - ETA: 27s - loss: 0.1429 - categorical_accuracy: 0.988 - ETA: 25s - loss: 0.1414 - categorical_accuracy: 0.989 - ETA: 24s - loss: 0.1401 - categorical_accuracy: 0.990 - ETA: 22s - loss: 0.1392 - categorical_accuracy: 0.990 - ETA: 20s - loss: 0.1378 - categorical_accuracy: 0.990 - ETA: 19s - loss: 0.1364 - categorical_accuracy: 0.991 - ETA: 17s - loss: 0.1356 - categorical_accuracy: 0.991 - ETA: 16s - loss: 0.1372 - categorical_accuracy: 0.988 - ETA: 14s - loss: 0.1364 - categorical_accuracy: 0.988 - ETA: 12s - loss: 0.1380 - categorical_accuracy: 0.988 - ETA: 11s - loss: 0.1416 - categorical_accuracy: 0.985 - ETA: 9s - loss: 0.1454 - categorical_accuracy: 0.982 - ETA: 7s - loss: 0.1439 - categorical_accuracy: 0.98 - ETA: 6s - loss: 0.1435 - categorical_accuracy: 0.98 - ETA: 4s - loss: 0.1423 - categorical_accuracy: 0.98 - ETA: 3s - loss: 0.1425 - categorical_accuracy: 0.98 - ETA: 1s - loss: 0.1418 - categorical_accuracy: 0.98 - 63s 182ms/step - loss: 0.1439 - categorical_accuracy: 0.9828 - val_loss: 0.2184 - val_categorical_accuracy: 0.9338\n",
      "Epoch 12/100\n",
      "349/349 [==============================] - ETA: 53s - loss: 0.1378 - categorical_accuracy: 1.000 - ETA: 52s - loss: 0.1535 - categorical_accuracy: 1.000 - ETA: 51s - loss: 0.1404 - categorical_accuracy: 1.000 - ETA: 49s - loss: 0.1333 - categorical_accuracy: 1.000 - ETA: 48s - loss: 0.1307 - categorical_accuracy: 1.000 - ETA: 46s - loss: 0.1315 - categorical_accuracy: 1.000 - ETA: 44s - loss: 0.1277 - categorical_accuracy: 1.000 - ETA: 43s - loss: 0.1246 - categorical_accuracy: 1.000 - ETA: 42s - loss: 0.1228 - categorical_accuracy: 1.000 - ETA: 40s - loss: 0.1226 - categorical_accuracy: 1.000 - ETA: 38s - loss: 0.1246 - categorical_accuracy: 1.000 - ETA: 37s - loss: 0.1233 - categorical_accuracy: 1.000 - ETA: 35s - loss: 0.1231 - categorical_accuracy: 1.000 - ETA: 33s - loss: 0.1226 - categorical_accuracy: 1.000 - ETA: 32s - loss: 0.1216 - categorical_accuracy: 1.000 - ETA: 30s - loss: 0.1202 - categorical_accuracy: 1.000 - ETA: 28s - loss: 0.1190 - categorical_accuracy: 1.000 - ETA: 27s - loss: 0.1170 - categorical_accuracy: 1.000 - ETA: 25s - loss: 0.1157 - categorical_accuracy: 1.000 - ETA: 24s - loss: 0.1150 - categorical_accuracy: 1.000 - ETA: 22s - loss: 0.1139 - categorical_accuracy: 1.000 - ETA: 20s - loss: 0.1135 - categorical_accuracy: 1.000 - ETA: 19s - loss: 0.1120 - categorical_accuracy: 1.000 - ETA: 17s - loss: 0.1115 - categorical_accuracy: 1.000 - ETA: 15s - loss: 0.1131 - categorical_accuracy: 1.000 - ETA: 14s - loss: 0.1116 - categorical_accuracy: 1.000 - ETA: 12s - loss: 0.1109 - categorical_accuracy: 1.000 - ETA: 11s - loss: 0.1159 - categorical_accuracy: 0.996 - ETA: 9s - loss: 0.1155 - categorical_accuracy: 0.996 - ETA: 7s - loss: 0.1140 - categorical_accuracy: 0.99 - ETA: 6s - loss: 0.1134 - categorical_accuracy: 0.99 - ETA: 4s - loss: 0.1124 - categorical_accuracy: 0.99 - ETA: 3s - loss: 0.1127 - categorical_accuracy: 0.99 - ETA: 1s - loss: 0.1123 - categorical_accuracy: 0.99 - 64s 184ms/step - loss: 0.1119 - categorical_accuracy: 0.9971 - val_loss: 0.1215 - val_categorical_accuracy: 0.9801\n"
     ]
    },
    {
     "name": "stdout",
     "output_type": "stream",
     "text": [
      "Epoch 13/100\n",
      "349/349 [==============================] - ETA: 54s - loss: 0.0898 - categorical_accuracy: 1.000 - ETA: 52s - loss: 0.0858 - categorical_accuracy: 1.000 - ETA: 51s - loss: 0.1036 - categorical_accuracy: 1.000 - ETA: 49s - loss: 0.1235 - categorical_accuracy: 1.000 - ETA: 48s - loss: 0.1158 - categorical_accuracy: 1.000 - ETA: 46s - loss: 0.1142 - categorical_accuracy: 1.000 - ETA: 44s - loss: 0.1135 - categorical_accuracy: 1.000 - ETA: 43s - loss: 0.1106 - categorical_accuracy: 1.000 - ETA: 41s - loss: 0.1095 - categorical_accuracy: 1.000 - ETA: 39s - loss: 0.1075 - categorical_accuracy: 1.000 - ETA: 38s - loss: 0.1045 - categorical_accuracy: 1.000 - ETA: 36s - loss: 0.1038 - categorical_accuracy: 1.000 - ETA: 35s - loss: 0.1009 - categorical_accuracy: 1.000 - ETA: 33s - loss: 0.1014 - categorical_accuracy: 1.000 - ETA: 31s - loss: 0.0994 - categorical_accuracy: 1.000 - ETA: 30s - loss: 0.0993 - categorical_accuracy: 1.000 - ETA: 28s - loss: 0.0987 - categorical_accuracy: 1.000 - ETA: 26s - loss: 0.0982 - categorical_accuracy: 1.000 - ETA: 25s - loss: 0.0977 - categorical_accuracy: 1.000 - ETA: 23s - loss: 0.0986 - categorical_accuracy: 1.000 - ETA: 22s - loss: 0.0972 - categorical_accuracy: 1.000 - ETA: 20s - loss: 0.0977 - categorical_accuracy: 1.000 - ETA: 18s - loss: 0.0976 - categorical_accuracy: 1.000 - ETA: 17s - loss: 0.0994 - categorical_accuracy: 0.995 - ETA: 15s - loss: 0.0993 - categorical_accuracy: 0.996 - ETA: 14s - loss: 0.0986 - categorical_accuracy: 0.996 - ETA: 12s - loss: 0.0985 - categorical_accuracy: 0.996 - ETA: 10s - loss: 0.0978 - categorical_accuracy: 0.996 - ETA: 9s - loss: 0.0983 - categorical_accuracy: 0.996 - ETA: 7s - loss: 0.0980 - categorical_accuracy: 0.99 - ETA: 6s - loss: 0.0979 - categorical_accuracy: 0.99 - ETA: 4s - loss: 0.0981 - categorical_accuracy: 0.99 - ETA: 3s - loss: 0.0986 - categorical_accuracy: 0.99 - ETA: 1s - loss: 0.0981 - categorical_accuracy: 0.99 - 64s 183ms/step - loss: 0.0991 - categorical_accuracy: 0.9971 - val_loss: 0.1170 - val_categorical_accuracy: 0.9868\n",
      "Epoch 14/100\n",
      "349/349 [==============================] - ETA: 1:01 - loss: 0.0790 - categorical_accuracy: 1.00 - ETA: 1:00 - loss: 0.0901 - categorical_accuracy: 1.00 - ETA: 58s - loss: 0.0850 - categorical_accuracy: 1.0000 - ETA: 56s - loss: 0.0848 - categorical_accuracy: 1.000 - ETA: 53s - loss: 0.0811 - categorical_accuracy: 1.000 - ETA: 51s - loss: 0.1007 - categorical_accuracy: 0.983 - ETA: 49s - loss: 0.0984 - categorical_accuracy: 0.985 - ETA: 47s - loss: 0.0988 - categorical_accuracy: 0.987 - ETA: 44s - loss: 0.0960 - categorical_accuracy: 0.988 - ETA: 42s - loss: 0.0971 - categorical_accuracy: 0.990 - ETA: 40s - loss: 0.0926 - categorical_accuracy: 0.990 - ETA: 38s - loss: 0.0920 - categorical_accuracy: 0.991 - ETA: 36s - loss: 0.0954 - categorical_accuracy: 0.992 - ETA: 34s - loss: 0.0973 - categorical_accuracy: 0.992 - ETA: 32s - loss: 0.0970 - categorical_accuracy: 0.993 - ETA: 30s - loss: 0.0987 - categorical_accuracy: 0.993 - ETA: 29s - loss: 0.0964 - categorical_accuracy: 0.994 - ETA: 27s - loss: 0.0967 - categorical_accuracy: 0.994 - ETA: 25s - loss: 0.0951 - categorical_accuracy: 0.994 - ETA: 23s - loss: 0.0950 - categorical_accuracy: 0.995 - ETA: 22s - loss: 0.0937 - categorical_accuracy: 0.995 - ETA: 20s - loss: 0.0926 - categorical_accuracy: 0.995 - ETA: 18s - loss: 0.0927 - categorical_accuracy: 0.995 - ETA: 17s - loss: 0.0914 - categorical_accuracy: 0.995 - ETA: 15s - loss: 0.0907 - categorical_accuracy: 0.996 - ETA: 14s - loss: 0.0918 - categorical_accuracy: 0.996 - ETA: 12s - loss: 0.0906 - categorical_accuracy: 0.996 - ETA: 10s - loss: 0.0899 - categorical_accuracy: 0.996 - ETA: 9s - loss: 0.0886 - categorical_accuracy: 0.996 - ETA: 7s - loss: 0.0879 - categorical_accuracy: 0.99 - ETA: 6s - loss: 0.0887 - categorical_accuracy: 0.99 - ETA: 4s - loss: 0.0878 - categorical_accuracy: 0.99 - ETA: 2s - loss: 0.0878 - categorical_accuracy: 0.99 - ETA: 1s - loss: 0.0869 - categorical_accuracy: 0.99 - 61s 175ms/step - loss: 0.0867 - categorical_accuracy: 0.9971 - val_loss: 0.1018 - val_categorical_accuracy: 0.9801\n",
      "Epoch 15/100\n",
      "349/349 [==============================] - ETA: 50s - loss: 0.0721 - categorical_accuracy: 1.000 - ETA: 48s - loss: 0.0711 - categorical_accuracy: 1.000 - ETA: 45s - loss: 0.0694 - categorical_accuracy: 1.000 - ETA: 43s - loss: 0.0700 - categorical_accuracy: 1.000 - ETA: 41s - loss: 0.0783 - categorical_accuracy: 1.000 - ETA: 40s - loss: 0.0816 - categorical_accuracy: 1.000 - ETA: 39s - loss: 0.0792 - categorical_accuracy: 1.000 - ETA: 37s - loss: 0.0779 - categorical_accuracy: 1.000 - ETA: 36s - loss: 0.0839 - categorical_accuracy: 1.000 - ETA: 34s - loss: 0.0835 - categorical_accuracy: 1.000 - ETA: 33s - loss: 0.0846 - categorical_accuracy: 1.000 - ETA: 31s - loss: 0.0828 - categorical_accuracy: 1.000 - ETA: 30s - loss: 0.0800 - categorical_accuracy: 1.000 - ETA: 29s - loss: 0.0820 - categorical_accuracy: 1.000 - ETA: 27s - loss: 0.0805 - categorical_accuracy: 1.000 - ETA: 26s - loss: 0.0802 - categorical_accuracy: 1.000 - ETA: 24s - loss: 0.0784 - categorical_accuracy: 1.000 - ETA: 23s - loss: 0.0774 - categorical_accuracy: 1.000 - ETA: 22s - loss: 0.0777 - categorical_accuracy: 1.000 - ETA: 20s - loss: 0.0775 - categorical_accuracy: 1.000 - ETA: 19s - loss: 0.0764 - categorical_accuracy: 1.000 - ETA: 17s - loss: 0.0755 - categorical_accuracy: 1.000 - ETA: 16s - loss: 0.0745 - categorical_accuracy: 1.000 - ETA: 15s - loss: 0.0742 - categorical_accuracy: 1.000 - ETA: 13s - loss: 0.0742 - categorical_accuracy: 1.000 - ETA: 12s - loss: 0.0735 - categorical_accuracy: 1.000 - ETA: 11s - loss: 0.0749 - categorical_accuracy: 1.000 - ETA: 9s - loss: 0.0745 - categorical_accuracy: 1.000 - ETA: 8s - loss: 0.0747 - categorical_accuracy: 1.00 - ETA: 6s - loss: 0.0752 - categorical_accuracy: 1.00 - ETA: 5s - loss: 0.0748 - categorical_accuracy: 1.00 - ETA: 4s - loss: 0.0740 - categorical_accuracy: 1.00 - ETA: 2s - loss: 0.0740 - categorical_accuracy: 1.00 - ETA: 1s - loss: 0.0736 - categorical_accuracy: 1.00 - 56s 159ms/step - loss: 0.0732 - categorical_accuracy: 1.0000 - val_loss: 0.0911 - val_categorical_accuracy: 0.9868\n",
      "Epoch 16/100\n",
      "349/349 [==============================] - ETA: 49s - loss: 0.0657 - categorical_accuracy: 1.000 - ETA: 46s - loss: 0.1035 - categorical_accuracy: 0.950 - ETA: 46s - loss: 0.1032 - categorical_accuracy: 0.966 - ETA: 46s - loss: 0.0949 - categorical_accuracy: 0.975 - ETA: 44s - loss: 0.0865 - categorical_accuracy: 0.980 - ETA: 42s - loss: 0.0842 - categorical_accuracy: 0.983 - ETA: 41s - loss: 0.0839 - categorical_accuracy: 0.985 - ETA: 39s - loss: 0.0833 - categorical_accuracy: 0.987 - ETA: 38s - loss: 0.0795 - categorical_accuracy: 0.988 - ETA: 36s - loss: 0.0785 - categorical_accuracy: 0.990 - ETA: 34s - loss: 0.0758 - categorical_accuracy: 0.990 - ETA: 33s - loss: 0.0743 - categorical_accuracy: 0.991 - ETA: 31s - loss: 0.0726 - categorical_accuracy: 0.992 - ETA: 30s - loss: 0.0721 - categorical_accuracy: 0.992 - ETA: 29s - loss: 0.0711 - categorical_accuracy: 0.993 - ETA: 27s - loss: 0.0702 - categorical_accuracy: 0.993 - ETA: 26s - loss: 0.0700 - categorical_accuracy: 0.994 - ETA: 24s - loss: 0.0690 - categorical_accuracy: 0.994 - ETA: 23s - loss: 0.0695 - categorical_accuracy: 0.994 - ETA: 22s - loss: 0.0690 - categorical_accuracy: 0.995 - ETA: 20s - loss: 0.0684 - categorical_accuracy: 0.995 - ETA: 19s - loss: 0.0680 - categorical_accuracy: 0.995 - ETA: 17s - loss: 0.0680 - categorical_accuracy: 0.995 - ETA: 16s - loss: 0.0676 - categorical_accuracy: 0.995 - ETA: 14s - loss: 0.0671 - categorical_accuracy: 0.996 - ETA: 13s - loss: 0.0684 - categorical_accuracy: 0.996 - ETA: 11s - loss: 0.0683 - categorical_accuracy: 0.996 - ETA: 10s - loss: 0.0676 - categorical_accuracy: 0.996 - ETA: 8s - loss: 0.0688 - categorical_accuracy: 0.996 - ETA: 7s - loss: 0.0683 - categorical_accuracy: 0.99 - ETA: 5s - loss: 0.0692 - categorical_accuracy: 0.99 - ETA: 4s - loss: 0.0688 - categorical_accuracy: 0.99 - ETA: 2s - loss: 0.0684 - categorical_accuracy: 0.99 - ETA: 1s - loss: 0.0678 - categorical_accuracy: 0.99 - 59s 170ms/step - loss: 0.0673 - categorical_accuracy: 0.9971 - val_loss: 0.0847 - val_categorical_accuracy: 0.9801\n"
     ]
    },
    {
     "name": "stdout",
     "output_type": "stream",
     "text": [
      "Epoch 17/100\n",
      "349/349 [==============================] - ETA: 46s - loss: 0.0633 - categorical_accuracy: 1.000 - ETA: 47s - loss: 0.0580 - categorical_accuracy: 1.000 - ETA: 47s - loss: 0.0637 - categorical_accuracy: 1.000 - ETA: 45s - loss: 0.0598 - categorical_accuracy: 1.000 - ETA: 44s - loss: 0.0645 - categorical_accuracy: 1.000 - ETA: 42s - loss: 0.0661 - categorical_accuracy: 1.000 - ETA: 40s - loss: 0.0652 - categorical_accuracy: 1.000 - ETA: 39s - loss: 0.0631 - categorical_accuracy: 1.000 - ETA: 37s - loss: 0.0620 - categorical_accuracy: 1.000 - ETA: 36s - loss: 0.0605 - categorical_accuracy: 1.000 - ETA: 34s - loss: 0.0587 - categorical_accuracy: 1.000 - ETA: 33s - loss: 0.0581 - categorical_accuracy: 1.000 - ETA: 31s - loss: 0.0579 - categorical_accuracy: 1.000 - ETA: 30s - loss: 0.0577 - categorical_accuracy: 1.000 - ETA: 29s - loss: 0.0574 - categorical_accuracy: 1.000 - ETA: 28s - loss: 0.0570 - categorical_accuracy: 1.000 - ETA: 26s - loss: 0.0570 - categorical_accuracy: 1.000 - ETA: 25s - loss: 0.0580 - categorical_accuracy: 1.000 - ETA: 23s - loss: 0.0576 - categorical_accuracy: 1.000 - ETA: 22s - loss: 0.0570 - categorical_accuracy: 1.000 - ETA: 21s - loss: 0.0563 - categorical_accuracy: 1.000 - ETA: 19s - loss: 0.0560 - categorical_accuracy: 1.000 - ETA: 18s - loss: 0.0559 - categorical_accuracy: 1.000 - ETA: 16s - loss: 0.0556 - categorical_accuracy: 1.000 - ETA: 15s - loss: 0.0550 - categorical_accuracy: 1.000 - ETA: 13s - loss: 0.0561 - categorical_accuracy: 1.000 - ETA: 12s - loss: 0.0558 - categorical_accuracy: 1.000 - ETA: 10s - loss: 0.0554 - categorical_accuracy: 1.000 - ETA: 9s - loss: 0.0565 - categorical_accuracy: 1.000 - ETA: 7s - loss: 0.0564 - categorical_accuracy: 1.00 - ETA: 5s - loss: 0.0623 - categorical_accuracy: 0.99 - ETA: 4s - loss: 0.0653 - categorical_accuracy: 0.99 - ETA: 2s - loss: 0.0647 - categorical_accuracy: 0.99 - ETA: 1s - loss: 0.0641 - categorical_accuracy: 0.99 - 60s 173ms/step - loss: 0.0639 - categorical_accuracy: 0.9943 - val_loss: 0.0991 - val_categorical_accuracy: 0.9735\n",
      "Epoch 18/100\n",
      "349/349 [==============================] - ETA: 53s - loss: 0.0500 - categorical_accuracy: 1.000 - ETA: 51s - loss: 0.0511 - categorical_accuracy: 1.000 - ETA: 49s - loss: 0.0514 - categorical_accuracy: 1.000 - ETA: 47s - loss: 0.0507 - categorical_accuracy: 1.000 - ETA: 45s - loss: 0.0508 - categorical_accuracy: 1.000 - ETA: 43s - loss: 0.0513 - categorical_accuracy: 1.000 - ETA: 41s - loss: 0.0523 - categorical_accuracy: 1.000 - ETA: 40s - loss: 0.0516 - categorical_accuracy: 1.000 - ETA: 38s - loss: 0.0506 - categorical_accuracy: 1.000 - ETA: 37s - loss: 0.0499 - categorical_accuracy: 1.000 - ETA: 35s - loss: 0.0505 - categorical_accuracy: 1.000 - ETA: 33s - loss: 0.0502 - categorical_accuracy: 1.000 - ETA: 32s - loss: 0.0511 - categorical_accuracy: 1.000 - ETA: 30s - loss: 0.0510 - categorical_accuracy: 1.000 - ETA: 29s - loss: 0.0510 - categorical_accuracy: 1.000 - ETA: 27s - loss: 0.0504 - categorical_accuracy: 1.000 - ETA: 26s - loss: 0.0502 - categorical_accuracy: 1.000 - ETA: 24s - loss: 0.0500 - categorical_accuracy: 1.000 - ETA: 23s - loss: 0.0505 - categorical_accuracy: 1.000 - ETA: 21s - loss: 0.0505 - categorical_accuracy: 1.000 - ETA: 20s - loss: 0.0508 - categorical_accuracy: 1.000 - ETA: 19s - loss: 0.0510 - categorical_accuracy: 1.000 - ETA: 17s - loss: 0.0508 - categorical_accuracy: 1.000 - ETA: 16s - loss: 0.0504 - categorical_accuracy: 1.000 - ETA: 14s - loss: 0.0500 - categorical_accuracy: 1.000 - ETA: 13s - loss: 0.0501 - categorical_accuracy: 1.000 - ETA: 11s - loss: 0.0501 - categorical_accuracy: 1.000 - ETA: 10s - loss: 0.0502 - categorical_accuracy: 1.000 - ETA: 8s - loss: 0.0499 - categorical_accuracy: 1.000 - ETA: 7s - loss: 0.0501 - categorical_accuracy: 1.00 - ETA: 5s - loss: 0.0501 - categorical_accuracy: 1.00 - ETA: 4s - loss: 0.0497 - categorical_accuracy: 1.00 - ETA: 2s - loss: 0.0498 - categorical_accuracy: 1.00 - ETA: 1s - loss: 0.0495 - categorical_accuracy: 1.00 - 60s 171ms/step - loss: 0.0493 - categorical_accuracy: 1.0000 - val_loss: 0.0730 - val_categorical_accuracy: 0.9868\n",
      "Epoch 19/100\n",
      "349/349 [==============================] - ETA: 1:00 - loss: 0.0440 - categorical_accuracy: 1.00 - ETA: 53s - loss: 0.0460 - categorical_accuracy: 1.0000 - ETA: 50s - loss: 0.0449 - categorical_accuracy: 1.000 - ETA: 47s - loss: 0.0644 - categorical_accuracy: 1.000 - ETA: 46s - loss: 0.0595 - categorical_accuracy: 1.000 - ETA: 44s - loss: 0.0678 - categorical_accuracy: 1.000 - ETA: 42s - loss: 0.0632 - categorical_accuracy: 1.000 - ETA: 40s - loss: 0.0609 - categorical_accuracy: 1.000 - ETA: 39s - loss: 0.0587 - categorical_accuracy: 1.000 - ETA: 37s - loss: 0.0584 - categorical_accuracy: 1.000 - ETA: 36s - loss: 0.0569 - categorical_accuracy: 1.000 - ETA: 34s - loss: 0.0554 - categorical_accuracy: 1.000 - ETA: 33s - loss: 0.0546 - categorical_accuracy: 1.000 - ETA: 31s - loss: 0.0543 - categorical_accuracy: 1.000 - ETA: 30s - loss: 0.0547 - categorical_accuracy: 1.000 - ETA: 28s - loss: 0.0541 - categorical_accuracy: 1.000 - ETA: 26s - loss: 0.0530 - categorical_accuracy: 1.000 - ETA: 25s - loss: 0.0524 - categorical_accuracy: 1.000 - ETA: 23s - loss: 0.0520 - categorical_accuracy: 1.000 - ETA: 22s - loss: 0.0514 - categorical_accuracy: 1.000 - ETA: 20s - loss: 0.0512 - categorical_accuracy: 1.000 - ETA: 19s - loss: 0.0508 - categorical_accuracy: 1.000 - ETA: 17s - loss: 0.0500 - categorical_accuracy: 1.000 - ETA: 16s - loss: 0.0494 - categorical_accuracy: 1.000 - ETA: 15s - loss: 0.0489 - categorical_accuracy: 1.000 - ETA: 13s - loss: 0.0486 - categorical_accuracy: 1.000 - ETA: 11s - loss: 0.0483 - categorical_accuracy: 1.000 - ETA: 10s - loss: 0.0479 - categorical_accuracy: 1.000 - ETA: 8s - loss: 0.0476 - categorical_accuracy: 1.000 - ETA: 7s - loss: 0.0473 - categorical_accuracy: 1.00 - ETA: 5s - loss: 0.0471 - categorical_accuracy: 1.00 - ETA: 4s - loss: 0.0471 - categorical_accuracy: 1.00 - ETA: 2s - loss: 0.0466 - categorical_accuracy: 1.00 - ETA: 1s - loss: 0.0464 - categorical_accuracy: 1.00 - 60s 171ms/step - loss: 0.0462 - categorical_accuracy: 1.0000 - val_loss: 0.0683 - val_categorical_accuracy: 0.9868\n",
      "Epoch 20/100\n",
      "349/349 [==============================] - ETA: 49s - loss: 0.0388 - categorical_accuracy: 1.000 - ETA: 48s - loss: 0.0401 - categorical_accuracy: 1.000 - ETA: 46s - loss: 0.0384 - categorical_accuracy: 1.000 - ETA: 45s - loss: 0.0393 - categorical_accuracy: 1.000 - ETA: 44s - loss: 0.0386 - categorical_accuracy: 1.000 - ETA: 42s - loss: 0.0374 - categorical_accuracy: 1.000 - ETA: 41s - loss: 0.0375 - categorical_accuracy: 1.000 - ETA: 39s - loss: 0.0381 - categorical_accuracy: 1.000 - ETA: 38s - loss: 0.0385 - categorical_accuracy: 1.000 - ETA: 37s - loss: 0.0390 - categorical_accuracy: 1.000 - ETA: 35s - loss: 0.0401 - categorical_accuracy: 1.000 - ETA: 34s - loss: 0.0409 - categorical_accuracy: 1.000 - ETA: 32s - loss: 0.0405 - categorical_accuracy: 1.000 - ETA: 31s - loss: 0.0403 - categorical_accuracy: 1.000 - ETA: 29s - loss: 0.0410 - categorical_accuracy: 1.000 - ETA: 28s - loss: 0.0415 - categorical_accuracy: 1.000 - ETA: 26s - loss: 0.0416 - categorical_accuracy: 1.000 - ETA: 25s - loss: 0.0417 - categorical_accuracy: 1.000 - ETA: 23s - loss: 0.0414 - categorical_accuracy: 1.000 - ETA: 22s - loss: 0.0409 - categorical_accuracy: 1.000 - ETA: 20s - loss: 0.0412 - categorical_accuracy: 1.000 - ETA: 19s - loss: 0.0407 - categorical_accuracy: 1.000 - ETA: 17s - loss: 0.0403 - categorical_accuracy: 1.000 - ETA: 16s - loss: 0.0402 - categorical_accuracy: 1.000 - ETA: 14s - loss: 0.0405 - categorical_accuracy: 1.000 - ETA: 13s - loss: 0.0402 - categorical_accuracy: 1.000 - ETA: 11s - loss: 0.0401 - categorical_accuracy: 1.000 - ETA: 10s - loss: 0.0404 - categorical_accuracy: 1.000 - ETA: 8s - loss: 0.0401 - categorical_accuracy: 1.000 - ETA: 7s - loss: 0.0399 - categorical_accuracy: 1.00 - ETA: 5s - loss: 0.0396 - categorical_accuracy: 1.00 - ETA: 4s - loss: 0.0393 - categorical_accuracy: 1.00 - ETA: 2s - loss: 0.0393 - categorical_accuracy: 1.00 - ETA: 1s - loss: 0.0393 - categorical_accuracy: 1.00 - 60s 172ms/step - loss: 0.0392 - categorical_accuracy: 1.0000 - val_loss: 0.0661 - val_categorical_accuracy: 0.9868\n"
     ]
    },
    {
     "name": "stdout",
     "output_type": "stream",
     "text": [
      "Epoch 21/100\n",
      "349/349 [==============================] - ETA: 50s - loss: 0.0339 - categorical_accuracy: 1.000 - ETA: 48s - loss: 0.0355 - categorical_accuracy: 1.000 - ETA: 47s - loss: 0.0356 - categorical_accuracy: 1.000 - ETA: 45s - loss: 0.0346 - categorical_accuracy: 1.000 - ETA: 44s - loss: 0.0332 - categorical_accuracy: 1.000 - ETA: 43s - loss: 0.0345 - categorical_accuracy: 1.000 - ETA: 42s - loss: 0.0352 - categorical_accuracy: 1.000 - ETA: 40s - loss: 0.0348 - categorical_accuracy: 1.000 - ETA: 38s - loss: 0.0346 - categorical_accuracy: 1.000 - ETA: 37s - loss: 0.0345 - categorical_accuracy: 1.000 - ETA: 35s - loss: 0.0341 - categorical_accuracy: 1.000 - ETA: 33s - loss: 0.0335 - categorical_accuracy: 1.000 - ETA: 32s - loss: 0.0357 - categorical_accuracy: 1.000 - ETA: 30s - loss: 0.0358 - categorical_accuracy: 1.000 - ETA: 29s - loss: 0.0362 - categorical_accuracy: 1.000 - ETA: 27s - loss: 0.0362 - categorical_accuracy: 1.000 - ETA: 26s - loss: 0.0362 - categorical_accuracy: 1.000 - ETA: 24s - loss: 0.0364 - categorical_accuracy: 1.000 - ETA: 23s - loss: 0.0358 - categorical_accuracy: 1.000 - ETA: 21s - loss: 0.0371 - categorical_accuracy: 1.000 - ETA: 20s - loss: 0.0370 - categorical_accuracy: 1.000 - ETA: 19s - loss: 0.0367 - categorical_accuracy: 1.000 - ETA: 17s - loss: 0.0364 - categorical_accuracy: 1.000 - ETA: 16s - loss: 0.0363 - categorical_accuracy: 1.000 - ETA: 14s - loss: 0.0361 - categorical_accuracy: 1.000 - ETA: 13s - loss: 0.0359 - categorical_accuracy: 1.000 - ETA: 11s - loss: 0.0359 - categorical_accuracy: 1.000 - ETA: 10s - loss: 0.0357 - categorical_accuracy: 1.000 - ETA: 8s - loss: 0.0357 - categorical_accuracy: 1.000 - ETA: 7s - loss: 0.0356 - categorical_accuracy: 1.00 - ETA: 5s - loss: 0.0355 - categorical_accuracy: 1.00 - ETA: 4s - loss: 0.0354 - categorical_accuracy: 1.00 - ETA: 2s - loss: 0.0353 - categorical_accuracy: 1.00 - ETA: 1s - loss: 0.0351 - categorical_accuracy: 1.00 - 59s 169ms/step - loss: 0.0351 - categorical_accuracy: 1.0000 - val_loss: 0.0621 - val_categorical_accuracy: 0.9868\n",
      "Epoch 22/100\n",
      "349/349 [==============================] - ETA: 50s - loss: 0.0354 - categorical_accuracy: 1.000 - ETA: 49s - loss: 0.0385 - categorical_accuracy: 1.000 - ETA: 47s - loss: 0.0396 - categorical_accuracy: 1.000 - ETA: 45s - loss: 0.0375 - categorical_accuracy: 1.000 - ETA: 44s - loss: 0.0371 - categorical_accuracy: 1.000 - ETA: 43s - loss: 0.0364 - categorical_accuracy: 1.000 - ETA: 41s - loss: 0.0356 - categorical_accuracy: 1.000 - ETA: 40s - loss: 0.0347 - categorical_accuracy: 1.000 - ETA: 39s - loss: 0.0360 - categorical_accuracy: 1.000 - ETA: 37s - loss: 0.0352 - categorical_accuracy: 1.000 - ETA: 35s - loss: 0.0346 - categorical_accuracy: 1.000 - ETA: 34s - loss: 0.0358 - categorical_accuracy: 1.000 - ETA: 32s - loss: 0.0354 - categorical_accuracy: 1.000 - ETA: 31s - loss: 0.0352 - categorical_accuracy: 1.000 - ETA: 29s - loss: 0.0356 - categorical_accuracy: 1.000 - ETA: 28s - loss: 0.0353 - categorical_accuracy: 1.000 - ETA: 26s - loss: 0.0348 - categorical_accuracy: 1.000 - ETA: 25s - loss: 0.0348 - categorical_accuracy: 1.000 - ETA: 23s - loss: 0.0344 - categorical_accuracy: 1.000 - ETA: 22s - loss: 0.0345 - categorical_accuracy: 1.000 - ETA: 20s - loss: 0.0341 - categorical_accuracy: 1.000 - ETA: 19s - loss: 0.0337 - categorical_accuracy: 1.000 - ETA: 17s - loss: 0.0341 - categorical_accuracy: 1.000 - ETA: 16s - loss: 0.0337 - categorical_accuracy: 1.000 - ETA: 14s - loss: 0.0336 - categorical_accuracy: 1.000 - ETA: 13s - loss: 0.0333 - categorical_accuracy: 1.000 - ETA: 11s - loss: 0.0333 - categorical_accuracy: 1.000 - ETA: 10s - loss: 0.0331 - categorical_accuracy: 1.000 - ETA: 8s - loss: 0.0327 - categorical_accuracy: 1.000 - ETA: 7s - loss: 0.0326 - categorical_accuracy: 1.00 - ETA: 5s - loss: 0.0327 - categorical_accuracy: 1.00 - ETA: 4s - loss: 0.0326 - categorical_accuracy: 1.00 - ETA: 2s - loss: 0.0324 - categorical_accuracy: 1.00 - ETA: 1s - loss: 0.0323 - categorical_accuracy: 1.00 - 57s 163ms/step - loss: 0.0320 - categorical_accuracy: 1.0000 - val_loss: 0.0630 - val_categorical_accuracy: 0.9868\n",
      "Epoch 23/100\n",
      "349/349 [==============================] - ETA: 44s - loss: 0.0283 - categorical_accuracy: 1.000 - ETA: 43s - loss: 0.0258 - categorical_accuracy: 1.000 - ETA: 42s - loss: 0.0280 - categorical_accuracy: 1.000 - ETA: 41s - loss: 0.0264 - categorical_accuracy: 1.000 - ETA: 39s - loss: 0.0270 - categorical_accuracy: 1.000 - ETA: 38s - loss: 0.0284 - categorical_accuracy: 1.000 - ETA: 37s - loss: 0.0292 - categorical_accuracy: 1.000 - ETA: 35s - loss: 0.0292 - categorical_accuracy: 1.000 - ETA: 34s - loss: 0.0292 - categorical_accuracy: 1.000 - ETA: 33s - loss: 0.0288 - categorical_accuracy: 1.000 - ETA: 31s - loss: 0.0286 - categorical_accuracy: 1.000 - ETA: 30s - loss: 0.0292 - categorical_accuracy: 1.000 - ETA: 29s - loss: 0.0292 - categorical_accuracy: 1.000 - ETA: 27s - loss: 0.0287 - categorical_accuracy: 1.000 - ETA: 26s - loss: 0.0287 - categorical_accuracy: 1.000 - ETA: 25s - loss: 0.0285 - categorical_accuracy: 1.000 - ETA: 23s - loss: 0.0284 - categorical_accuracy: 1.000 - ETA: 22s - loss: 0.0284 - categorical_accuracy: 1.000 - ETA: 21s - loss: 0.0282 - categorical_accuracy: 1.000 - ETA: 19s - loss: 0.0285 - categorical_accuracy: 1.000 - ETA: 18s - loss: 0.0283 - categorical_accuracy: 1.000 - ETA: 17s - loss: 0.0280 - categorical_accuracy: 1.000 - ETA: 15s - loss: 0.0280 - categorical_accuracy: 1.000 - ETA: 14s - loss: 0.0278 - categorical_accuracy: 1.000 - ETA: 13s - loss: 0.0277 - categorical_accuracy: 1.000 - ETA: 11s - loss: 0.0277 - categorical_accuracy: 1.000 - ETA: 10s - loss: 0.0277 - categorical_accuracy: 1.000 - ETA: 9s - loss: 0.0277 - categorical_accuracy: 1.000 - ETA: 7s - loss: 0.0277 - categorical_accuracy: 1.00 - ETA: 6s - loss: 0.0275 - categorical_accuracy: 1.00 - ETA: 5s - loss: 0.0273 - categorical_accuracy: 1.00 - ETA: 3s - loss: 0.0276 - categorical_accuracy: 1.00 - ETA: 2s - loss: 0.0277 - categorical_accuracy: 1.00 - ETA: 1s - loss: 0.0277 - categorical_accuracy: 1.00 - 53s 151ms/step - loss: 0.0277 - categorical_accuracy: 1.0000 - val_loss: 0.0682 - val_categorical_accuracy: 0.9735\n",
      "Epoch 24/100\n",
      "349/349 [==============================] - ETA: 43s - loss: 0.0316 - categorical_accuracy: 1.000 - ETA: 43s - loss: 0.0460 - categorical_accuracy: 1.000 - ETA: 42s - loss: 0.1262 - categorical_accuracy: 0.966 - ETA: 40s - loss: 0.1047 - categorical_accuracy: 0.975 - ETA: 39s - loss: 0.0885 - categorical_accuracy: 0.980 - ETA: 38s - loss: 0.0781 - categorical_accuracy: 0.983 - ETA: 37s - loss: 0.0713 - categorical_accuracy: 0.985 - ETA: 35s - loss: 0.0669 - categorical_accuracy: 0.987 - ETA: 34s - loss: 0.0622 - categorical_accuracy: 0.988 - ETA: 33s - loss: 0.0580 - categorical_accuracy: 0.990 - ETA: 31s - loss: 0.0549 - categorical_accuracy: 0.990 - ETA: 30s - loss: 0.0529 - categorical_accuracy: 0.991 - ETA: 29s - loss: 0.0509 - categorical_accuracy: 0.992 - ETA: 27s - loss: 0.0489 - categorical_accuracy: 0.992 - ETA: 26s - loss: 0.0473 - categorical_accuracy: 0.993 - ETA: 25s - loss: 0.0461 - categorical_accuracy: 0.993 - ETA: 23s - loss: 0.0450 - categorical_accuracy: 0.994 - ETA: 22s - loss: 0.0440 - categorical_accuracy: 0.994 - ETA: 21s - loss: 0.0428 - categorical_accuracy: 0.994 - ETA: 19s - loss: 0.0423 - categorical_accuracy: 0.995 - ETA: 18s - loss: 0.0415 - categorical_accuracy: 0.995 - ETA: 17s - loss: 0.0405 - categorical_accuracy: 0.995 - ETA: 15s - loss: 0.0398 - categorical_accuracy: 0.995 - ETA: 14s - loss: 0.0392 - categorical_accuracy: 0.995 - ETA: 13s - loss: 0.0384 - categorical_accuracy: 0.996 - ETA: 11s - loss: 0.0379 - categorical_accuracy: 0.996 - ETA: 10s - loss: 0.0375 - categorical_accuracy: 0.996 - ETA: 9s - loss: 0.0369 - categorical_accuracy: 0.996 - ETA: 7s - loss: 0.0363 - categorical_accuracy: 0.99 - ETA: 6s - loss: 0.0359 - categorical_accuracy: 0.99 - ETA: 5s - loss: 0.0356 - categorical_accuracy: 0.99 - ETA: 3s - loss: 0.0353 - categorical_accuracy: 0.99 - ETA: 2s - loss: 0.0349 - categorical_accuracy: 0.99 - ETA: 1s - loss: 0.0347 - categorical_accuracy: 0.99 - 53s 152ms/step - loss: 0.0344 - categorical_accuracy: 0.9971 - val_loss: 0.0580 - val_categorical_accuracy: 0.9868\n"
     ]
    },
    {
     "name": "stdout",
     "output_type": "stream",
     "text": [
      "Epoch 25/100\n",
      "349/349 [==============================] - ETA: 50s - loss: 0.0307 - categorical_accuracy: 1.000 - ETA: 46s - loss: 0.0270 - categorical_accuracy: 1.000 - ETA: 44s - loss: 0.0239 - categorical_accuracy: 1.000 - ETA: 42s - loss: 0.0235 - categorical_accuracy: 1.000 - ETA: 40s - loss: 0.0232 - categorical_accuracy: 1.000 - ETA: 39s - loss: 0.0236 - categorical_accuracy: 1.000 - ETA: 37s - loss: 0.0228 - categorical_accuracy: 1.000 - ETA: 36s - loss: 0.0238 - categorical_accuracy: 1.000 - ETA: 34s - loss: 0.0244 - categorical_accuracy: 1.000 - ETA: 33s - loss: 0.0239 - categorical_accuracy: 1.000 - ETA: 32s - loss: 0.0240 - categorical_accuracy: 1.000 - ETA: 30s - loss: 0.0244 - categorical_accuracy: 1.000 - ETA: 29s - loss: 0.0245 - categorical_accuracy: 1.000 - ETA: 28s - loss: 0.0244 - categorical_accuracy: 1.000 - ETA: 26s - loss: 0.0242 - categorical_accuracy: 1.000 - ETA: 25s - loss: 0.0240 - categorical_accuracy: 1.000 - ETA: 23s - loss: 0.0241 - categorical_accuracy: 1.000 - ETA: 22s - loss: 0.0241 - categorical_accuracy: 1.000 - ETA: 21s - loss: 0.0242 - categorical_accuracy: 1.000 - ETA: 19s - loss: 0.0243 - categorical_accuracy: 1.000 - ETA: 18s - loss: 0.0242 - categorical_accuracy: 1.000 - ETA: 17s - loss: 0.0245 - categorical_accuracy: 1.000 - ETA: 15s - loss: 0.0243 - categorical_accuracy: 1.000 - ETA: 14s - loss: 0.0242 - categorical_accuracy: 1.000 - ETA: 13s - loss: 0.0242 - categorical_accuracy: 1.000 - ETA: 11s - loss: 0.0241 - categorical_accuracy: 1.000 - ETA: 10s - loss: 0.0239 - categorical_accuracy: 1.000 - ETA: 9s - loss: 0.0238 - categorical_accuracy: 1.000 - ETA: 7s - loss: 0.0237 - categorical_accuracy: 1.00 - ETA: 6s - loss: 0.0235 - categorical_accuracy: 1.00 - ETA: 5s - loss: 0.0237 - categorical_accuracy: 1.00 - ETA: 3s - loss: 0.0236 - categorical_accuracy: 1.00 - ETA: 2s - loss: 0.0237 - categorical_accuracy: 1.00 - ETA: 1s - loss: 0.0236 - categorical_accuracy: 1.00 - 53s 151ms/step - loss: 0.0235 - categorical_accuracy: 1.0000 - val_loss: 0.0581 - val_categorical_accuracy: 0.9868\n",
      "Epoch 26/100\n",
      "349/349 [==============================] - ETA: 45s - loss: 0.0192 - categorical_accuracy: 1.000 - ETA: 44s - loss: 0.0218 - categorical_accuracy: 1.000 - ETA: 42s - loss: 0.0225 - categorical_accuracy: 1.000 - ETA: 41s - loss: 0.0222 - categorical_accuracy: 1.000 - ETA: 40s - loss: 0.0221 - categorical_accuracy: 1.000 - ETA: 38s - loss: 0.0221 - categorical_accuracy: 1.000 - ETA: 37s - loss: 0.0224 - categorical_accuracy: 1.000 - ETA: 36s - loss: 0.0219 - categorical_accuracy: 1.000 - ETA: 34s - loss: 0.0222 - categorical_accuracy: 1.000 - ETA: 33s - loss: 0.0221 - categorical_accuracy: 1.000 - ETA: 32s - loss: 0.0218 - categorical_accuracy: 1.000 - ETA: 30s - loss: 0.0215 - categorical_accuracy: 1.000 - ETA: 29s - loss: 0.0215 - categorical_accuracy: 1.000 - ETA: 27s - loss: 0.0214 - categorical_accuracy: 1.000 - ETA: 26s - loss: 0.0214 - categorical_accuracy: 1.000 - ETA: 25s - loss: 0.0214 - categorical_accuracy: 1.000 - ETA: 23s - loss: 0.0213 - categorical_accuracy: 1.000 - ETA: 22s - loss: 0.0213 - categorical_accuracy: 1.000 - ETA: 21s - loss: 0.0212 - categorical_accuracy: 1.000 - ETA: 19s - loss: 0.0212 - categorical_accuracy: 1.000 - ETA: 18s - loss: 0.0211 - categorical_accuracy: 1.000 - ETA: 17s - loss: 0.0213 - categorical_accuracy: 1.000 - ETA: 15s - loss: 0.0213 - categorical_accuracy: 1.000 - ETA: 14s - loss: 0.0217 - categorical_accuracy: 1.000 - ETA: 13s - loss: 0.0217 - categorical_accuracy: 1.000 - ETA: 11s - loss: 0.0216 - categorical_accuracy: 1.000 - ETA: 10s - loss: 0.0215 - categorical_accuracy: 1.000 - ETA: 9s - loss: 0.0213 - categorical_accuracy: 1.000 - ETA: 7s - loss: 0.0212 - categorical_accuracy: 1.00 - ETA: 6s - loss: 0.0212 - categorical_accuracy: 1.00 - ETA: 5s - loss: 0.0211 - categorical_accuracy: 1.00 - ETA: 3s - loss: 0.0210 - categorical_accuracy: 1.00 - ETA: 2s - loss: 0.0210 - categorical_accuracy: 1.00 - ETA: 1s - loss: 0.0209 - categorical_accuracy: 1.00 - 53s 151ms/step - loss: 0.0208 - categorical_accuracy: 1.0000 - val_loss: 0.0545 - val_categorical_accuracy: 0.9934\n",
      "Epoch 27/100\n",
      "349/349 [==============================] - ETA: 44s - loss: 0.0171 - categorical_accuracy: 1.000 - ETA: 43s - loss: 0.0174 - categorical_accuracy: 1.000 - ETA: 42s - loss: 0.0178 - categorical_accuracy: 1.000 - ETA: 40s - loss: 0.0175 - categorical_accuracy: 1.000 - ETA: 39s - loss: 0.0182 - categorical_accuracy: 1.000 - ETA: 38s - loss: 0.0182 - categorical_accuracy: 1.000 - ETA: 37s - loss: 0.0184 - categorical_accuracy: 1.000 - ETA: 35s - loss: 0.0180 - categorical_accuracy: 1.000 - ETA: 34s - loss: 0.0181 - categorical_accuracy: 1.000 - ETA: 33s - loss: 0.0184 - categorical_accuracy: 1.000 - ETA: 31s - loss: 0.0184 - categorical_accuracy: 1.000 - ETA: 30s - loss: 0.0184 - categorical_accuracy: 1.000 - ETA: 29s - loss: 0.0184 - categorical_accuracy: 1.000 - ETA: 27s - loss: 0.0185 - categorical_accuracy: 1.000 - ETA: 26s - loss: 0.0198 - categorical_accuracy: 1.000 - ETA: 25s - loss: 0.0199 - categorical_accuracy: 1.000 - ETA: 23s - loss: 0.0198 - categorical_accuracy: 1.000 - ETA: 22s - loss: 0.0198 - categorical_accuracy: 1.000 - ETA: 21s - loss: 0.0202 - categorical_accuracy: 1.000 - ETA: 19s - loss: 0.0204 - categorical_accuracy: 1.000 - ETA: 18s - loss: 0.0202 - categorical_accuracy: 1.000 - ETA: 17s - loss: 0.0200 - categorical_accuracy: 1.000 - ETA: 15s - loss: 0.0201 - categorical_accuracy: 1.000 - ETA: 14s - loss: 0.0202 - categorical_accuracy: 1.000 - ETA: 13s - loss: 0.0201 - categorical_accuracy: 1.000 - ETA: 11s - loss: 0.0202 - categorical_accuracy: 1.000 - ETA: 10s - loss: 0.0201 - categorical_accuracy: 1.000 - ETA: 9s - loss: 0.0200 - categorical_accuracy: 1.000 - ETA: 7s - loss: 0.0201 - categorical_accuracy: 1.00 - ETA: 6s - loss: 0.0199 - categorical_accuracy: 1.00 - ETA: 5s - loss: 0.0199 - categorical_accuracy: 1.00 - ETA: 3s - loss: 0.0198 - categorical_accuracy: 1.00 - ETA: 2s - loss: 0.0197 - categorical_accuracy: 1.00 - ETA: 1s - loss: 0.0199 - categorical_accuracy: 1.00 - 53s 151ms/step - loss: 0.0199 - categorical_accuracy: 1.0000 - val_loss: 0.0514 - val_categorical_accuracy: 0.9868\n",
      "Epoch 28/100\n",
      "349/349 [==============================] - ETA: 46s - loss: 0.0212 - categorical_accuracy: 1.000 - ETA: 45s - loss: 0.0197 - categorical_accuracy: 1.000 - ETA: 43s - loss: 0.0186 - categorical_accuracy: 1.000 - ETA: 42s - loss: 0.0187 - categorical_accuracy: 1.000 - ETA: 40s - loss: 0.0186 - categorical_accuracy: 1.000 - ETA: 39s - loss: 0.0194 - categorical_accuracy: 1.000 - ETA: 38s - loss: 0.0188 - categorical_accuracy: 1.000 - ETA: 36s - loss: 0.0185 - categorical_accuracy: 1.000 - ETA: 35s - loss: 0.0188 - categorical_accuracy: 1.000 - ETA: 33s - loss: 0.0191 - categorical_accuracy: 1.000 - ETA: 32s - loss: 0.0191 - categorical_accuracy: 1.000 - ETA: 31s - loss: 0.0187 - categorical_accuracy: 1.000 - ETA: 29s - loss: 0.0184 - categorical_accuracy: 1.000 - ETA: 28s - loss: 0.0182 - categorical_accuracy: 1.000 - ETA: 27s - loss: 0.0180 - categorical_accuracy: 1.000 - ETA: 25s - loss: 0.0178 - categorical_accuracy: 1.000 - ETA: 24s - loss: 0.0178 - categorical_accuracy: 1.000 - ETA: 23s - loss: 0.0179 - categorical_accuracy: 1.000 - ETA: 21s - loss: 0.0178 - categorical_accuracy: 1.000 - ETA: 20s - loss: 0.0176 - categorical_accuracy: 1.000 - ETA: 18s - loss: 0.0175 - categorical_accuracy: 1.000 - ETA: 17s - loss: 0.0176 - categorical_accuracy: 1.000 - ETA: 16s - loss: 0.0176 - categorical_accuracy: 1.000 - ETA: 14s - loss: 0.0177 - categorical_accuracy: 1.000 - ETA: 13s - loss: 0.0176 - categorical_accuracy: 1.000 - ETA: 12s - loss: 0.0176 - categorical_accuracy: 1.000 - ETA: 10s - loss: 0.0176 - categorical_accuracy: 1.000 - ETA: 9s - loss: 0.0176 - categorical_accuracy: 1.000 - ETA: 7s - loss: 0.0176 - categorical_accuracy: 1.00 - ETA: 6s - loss: 0.0175 - categorical_accuracy: 1.00 - ETA: 5s - loss: 0.0174 - categorical_accuracy: 1.00 - ETA: 3s - loss: 0.0173 - categorical_accuracy: 1.00 - ETA: 2s - loss: 0.0172 - categorical_accuracy: 1.00 - ETA: 1s - loss: 0.0172 - categorical_accuracy: 1.00 - 53s 152ms/step - loss: 0.0171 - categorical_accuracy: 1.0000 - val_loss: 0.0522 - val_categorical_accuracy: 0.9868\n"
     ]
    },
    {
     "name": "stdout",
     "output_type": "stream",
     "text": [
      "Epoch 29/100\n",
      "349/349 [==============================] - ETA: 44s - loss: 0.0159 - categorical_accuracy: 1.000 - ETA: 43s - loss: 0.0163 - categorical_accuracy: 1.000 - ETA: 43s - loss: 0.0160 - categorical_accuracy: 1.000 - ETA: 41s - loss: 0.0166 - categorical_accuracy: 1.000 - ETA: 40s - loss: 0.0166 - categorical_accuracy: 1.000 - ETA: 38s - loss: 0.0158 - categorical_accuracy: 1.000 - ETA: 37s - loss: 0.0162 - categorical_accuracy: 1.000 - ETA: 35s - loss: 0.0161 - categorical_accuracy: 1.000 - ETA: 34s - loss: 0.0163 - categorical_accuracy: 1.000 - ETA: 33s - loss: 0.0160 - categorical_accuracy: 1.000 - ETA: 31s - loss: 0.0158 - categorical_accuracy: 1.000 - ETA: 30s - loss: 0.0164 - categorical_accuracy: 1.000 - ETA: 29s - loss: 0.0165 - categorical_accuracy: 1.000 - ETA: 27s - loss: 0.0166 - categorical_accuracy: 1.000 - ETA: 26s - loss: 0.0166 - categorical_accuracy: 1.000 - ETA: 25s - loss: 0.0167 - categorical_accuracy: 1.000 - ETA: 23s - loss: 0.0166 - categorical_accuracy: 1.000 - ETA: 22s - loss: 0.0165 - categorical_accuracy: 1.000 - ETA: 21s - loss: 0.0164 - categorical_accuracy: 1.000 - ETA: 19s - loss: 0.0166 - categorical_accuracy: 1.000 - ETA: 18s - loss: 0.0167 - categorical_accuracy: 1.000 - ETA: 17s - loss: 0.0167 - categorical_accuracy: 1.000 - ETA: 15s - loss: 0.0165 - categorical_accuracy: 1.000 - ETA: 14s - loss: 0.0165 - categorical_accuracy: 1.000 - ETA: 13s - loss: 0.0166 - categorical_accuracy: 1.000 - ETA: 11s - loss: 0.0167 - categorical_accuracy: 1.000 - ETA: 10s - loss: 0.0166 - categorical_accuracy: 1.000 - ETA: 9s - loss: 0.0166 - categorical_accuracy: 1.000 - ETA: 7s - loss: 0.0164 - categorical_accuracy: 1.00 - ETA: 6s - loss: 0.0163 - categorical_accuracy: 1.00 - ETA: 5s - loss: 0.0164 - categorical_accuracy: 1.00 - ETA: 3s - loss: 0.0164 - categorical_accuracy: 1.00 - ETA: 2s - loss: 0.0166 - categorical_accuracy: 1.00 - ETA: 1s - loss: 0.0166 - categorical_accuracy: 1.00 - 53s 151ms/step - loss: 0.0165 - categorical_accuracy: 1.0000 - val_loss: 0.0505 - val_categorical_accuracy: 0.9868\n",
      "Epoch 30/100\n",
      "349/349 [==============================] - ETA: 44s - loss: 0.0131 - categorical_accuracy: 1.000 - ETA: 43s - loss: 0.0190 - categorical_accuracy: 1.000 - ETA: 42s - loss: 0.0182 - categorical_accuracy: 1.000 - ETA: 41s - loss: 0.0170 - categorical_accuracy: 1.000 - ETA: 39s - loss: 0.0159 - categorical_accuracy: 1.000 - ETA: 38s - loss: 0.0156 - categorical_accuracy: 1.000 - ETA: 37s - loss: 0.0154 - categorical_accuracy: 1.000 - ETA: 35s - loss: 0.0151 - categorical_accuracy: 1.000 - ETA: 34s - loss: 0.0151 - categorical_accuracy: 1.000 - ETA: 33s - loss: 0.0149 - categorical_accuracy: 1.000 - ETA: 31s - loss: 0.0146 - categorical_accuracy: 1.000 - ETA: 30s - loss: 0.0145 - categorical_accuracy: 1.000 - ETA: 29s - loss: 0.0144 - categorical_accuracy: 1.000 - ETA: 27s - loss: 0.0145 - categorical_accuracy: 1.000 - ETA: 26s - loss: 0.0146 - categorical_accuracy: 1.000 - ETA: 25s - loss: 0.0145 - categorical_accuracy: 1.000 - ETA: 23s - loss: 0.0145 - categorical_accuracy: 1.000 - ETA: 22s - loss: 0.0147 - categorical_accuracy: 1.000 - ETA: 21s - loss: 0.0147 - categorical_accuracy: 1.000 - ETA: 19s - loss: 0.0146 - categorical_accuracy: 1.000 - ETA: 18s - loss: 0.0147 - categorical_accuracy: 1.000 - ETA: 17s - loss: 0.0147 - categorical_accuracy: 1.000 - ETA: 15s - loss: 0.0146 - categorical_accuracy: 1.000 - ETA: 14s - loss: 0.0145 - categorical_accuracy: 1.000 - ETA: 13s - loss: 0.0147 - categorical_accuracy: 1.000 - ETA: 11s - loss: 0.0151 - categorical_accuracy: 1.000 - ETA: 10s - loss: 0.0150 - categorical_accuracy: 1.000 - ETA: 9s - loss: 0.0150 - categorical_accuracy: 1.000 - ETA: 7s - loss: 0.0149 - categorical_accuracy: 1.00 - ETA: 6s - loss: 0.0148 - categorical_accuracy: 1.00 - ETA: 5s - loss: 0.0147 - categorical_accuracy: 1.00 - ETA: 3s - loss: 0.0147 - categorical_accuracy: 1.00 - ETA: 2s - loss: 0.0148 - categorical_accuracy: 1.00 - ETA: 1s - loss: 0.0148 - categorical_accuracy: 1.00 - 53s 151ms/step - loss: 0.0149 - categorical_accuracy: 1.0000 - val_loss: 0.0496 - val_categorical_accuracy: 0.9934\n",
      "Epoch 31/100\n",
      "349/349 [==============================] - ETA: 44s - loss: 0.0148 - categorical_accuracy: 1.000 - ETA: 43s - loss: 0.0142 - categorical_accuracy: 1.000 - ETA: 42s - loss: 0.0141 - categorical_accuracy: 1.000 - ETA: 41s - loss: 0.0145 - categorical_accuracy: 1.000 - ETA: 40s - loss: 0.0147 - categorical_accuracy: 1.000 - ETA: 38s - loss: 0.0147 - categorical_accuracy: 1.000 - ETA: 37s - loss: 0.0147 - categorical_accuracy: 1.000 - ETA: 35s - loss: 0.0146 - categorical_accuracy: 1.000 - ETA: 34s - loss: 0.0146 - categorical_accuracy: 1.000 - ETA: 33s - loss: 0.0142 - categorical_accuracy: 1.000 - ETA: 31s - loss: 0.0140 - categorical_accuracy: 1.000 - ETA: 30s - loss: 0.0138 - categorical_accuracy: 1.000 - ETA: 29s - loss: 0.0137 - categorical_accuracy: 1.000 - ETA: 27s - loss: 0.0142 - categorical_accuracy: 1.000 - ETA: 26s - loss: 0.0140 - categorical_accuracy: 1.000 - ETA: 25s - loss: 0.0139 - categorical_accuracy: 1.000 - ETA: 23s - loss: 0.0137 - categorical_accuracy: 1.000 - ETA: 22s - loss: 0.0138 - categorical_accuracy: 1.000 - ETA: 21s - loss: 0.0138 - categorical_accuracy: 1.000 - ETA: 19s - loss: 0.0138 - categorical_accuracy: 1.000 - ETA: 18s - loss: 0.0136 - categorical_accuracy: 1.000 - ETA: 17s - loss: 0.0136 - categorical_accuracy: 1.000 - ETA: 15s - loss: 0.0136 - categorical_accuracy: 1.000 - ETA: 14s - loss: 0.0137 - categorical_accuracy: 1.000 - ETA: 13s - loss: 0.0137 - categorical_accuracy: 1.000 - ETA: 11s - loss: 0.0137 - categorical_accuracy: 1.000 - ETA: 10s - loss: 0.0137 - categorical_accuracy: 1.000 - ETA: 9s - loss: 0.0138 - categorical_accuracy: 1.000 - ETA: 7s - loss: 0.0138 - categorical_accuracy: 1.00 - ETA: 6s - loss: 0.0138 - categorical_accuracy: 1.00 - ETA: 5s - loss: 0.0138 - categorical_accuracy: 1.00 - ETA: 3s - loss: 0.0138 - categorical_accuracy: 1.00 - ETA: 2s - loss: 0.0138 - categorical_accuracy: 1.00 - ETA: 1s - loss: 0.0137 - categorical_accuracy: 1.00 - 52s 150ms/step - loss: 0.0136 - categorical_accuracy: 1.0000 - val_loss: 0.0521 - val_categorical_accuracy: 0.9934\n",
      "Epoch 32/100\n",
      "349/349 [==============================] - ETA: 44s - loss: 0.0220 - categorical_accuracy: 1.000 - ETA: 43s - loss: 0.0182 - categorical_accuracy: 1.000 - ETA: 42s - loss: 0.0160 - categorical_accuracy: 1.000 - ETA: 40s - loss: 0.0158 - categorical_accuracy: 1.000 - ETA: 39s - loss: 0.0152 - categorical_accuracy: 1.000 - ETA: 38s - loss: 0.0146 - categorical_accuracy: 1.000 - ETA: 36s - loss: 0.0142 - categorical_accuracy: 1.000 - ETA: 35s - loss: 0.0137 - categorical_accuracy: 1.000 - ETA: 34s - loss: 0.0135 - categorical_accuracy: 1.000 - ETA: 33s - loss: 0.0136 - categorical_accuracy: 1.000 - ETA: 31s - loss: 0.0137 - categorical_accuracy: 1.000 - ETA: 30s - loss: 0.0137 - categorical_accuracy: 1.000 - ETA: 29s - loss: 0.0136 - categorical_accuracy: 1.000 - ETA: 27s - loss: 0.0134 - categorical_accuracy: 1.000 - ETA: 26s - loss: 0.0132 - categorical_accuracy: 1.000 - ETA: 25s - loss: 0.0131 - categorical_accuracy: 1.000 - ETA: 23s - loss: 0.0131 - categorical_accuracy: 1.000 - ETA: 22s - loss: 0.0132 - categorical_accuracy: 1.000 - ETA: 21s - loss: 0.0133 - categorical_accuracy: 1.000 - ETA: 19s - loss: 0.0132 - categorical_accuracy: 1.000 - ETA: 18s - loss: 0.0131 - categorical_accuracy: 1.000 - ETA: 17s - loss: 0.0131 - categorical_accuracy: 1.000 - ETA: 15s - loss: 0.0131 - categorical_accuracy: 1.000 - ETA: 14s - loss: 0.0130 - categorical_accuracy: 1.000 - ETA: 13s - loss: 0.0130 - categorical_accuracy: 1.000 - ETA: 11s - loss: 0.0129 - categorical_accuracy: 1.000 - ETA: 10s - loss: 0.0128 - categorical_accuracy: 1.000 - ETA: 9s - loss: 0.0129 - categorical_accuracy: 1.000 - ETA: 7s - loss: 0.0128 - categorical_accuracy: 1.00 - ETA: 6s - loss: 0.0128 - categorical_accuracy: 1.00 - ETA: 5s - loss: 0.0128 - categorical_accuracy: 1.00 - ETA: 3s - loss: 0.0128 - categorical_accuracy: 1.00 - ETA: 2s - loss: 0.0127 - categorical_accuracy: 1.00 - ETA: 1s - loss: 0.0127 - categorical_accuracy: 1.00 - 53s 151ms/step - loss: 0.0127 - categorical_accuracy: 1.0000 - val_loss: 0.0485 - val_categorical_accuracy: 0.9868\n"
     ]
    },
    {
     "name": "stdout",
     "output_type": "stream",
     "text": [
      "Epoch 33/100\n",
      "349/349 [==============================] - ETA: 44s - loss: 0.0099 - categorical_accuracy: 1.000 - ETA: 43s - loss: 0.0113 - categorical_accuracy: 1.000 - ETA: 42s - loss: 0.0111 - categorical_accuracy: 1.000 - ETA: 40s - loss: 0.0106 - categorical_accuracy: 1.000 - ETA: 39s - loss: 0.0115 - categorical_accuracy: 1.000 - ETA: 38s - loss: 0.0117 - categorical_accuracy: 1.000 - ETA: 36s - loss: 0.0114 - categorical_accuracy: 1.000 - ETA: 35s - loss: 0.0114 - categorical_accuracy: 1.000 - ETA: 34s - loss: 0.0116 - categorical_accuracy: 1.000 - ETA: 32s - loss: 0.0113 - categorical_accuracy: 1.000 - ETA: 31s - loss: 0.0112 - categorical_accuracy: 1.000 - ETA: 30s - loss: 0.0112 - categorical_accuracy: 1.000 - ETA: 29s - loss: 0.0112 - categorical_accuracy: 1.000 - ETA: 27s - loss: 0.0113 - categorical_accuracy: 1.000 - ETA: 26s - loss: 0.0114 - categorical_accuracy: 1.000 - ETA: 25s - loss: 0.0116 - categorical_accuracy: 1.000 - ETA: 23s - loss: 0.0115 - categorical_accuracy: 1.000 - ETA: 22s - loss: 0.0114 - categorical_accuracy: 1.000 - ETA: 21s - loss: 0.0114 - categorical_accuracy: 1.000 - ETA: 19s - loss: 0.0114 - categorical_accuracy: 1.000 - ETA: 18s - loss: 0.0113 - categorical_accuracy: 1.000 - ETA: 17s - loss: 0.0113 - categorical_accuracy: 1.000 - ETA: 15s - loss: 0.0114 - categorical_accuracy: 1.000 - ETA: 14s - loss: 0.0115 - categorical_accuracy: 1.000 - ETA: 13s - loss: 0.0115 - categorical_accuracy: 1.000 - ETA: 11s - loss: 0.0115 - categorical_accuracy: 1.000 - ETA: 10s - loss: 0.0116 - categorical_accuracy: 1.000 - ETA: 9s - loss: 0.0115 - categorical_accuracy: 1.000 - ETA: 7s - loss: 0.0115 - categorical_accuracy: 1.00 - ETA: 6s - loss: 0.0115 - categorical_accuracy: 1.00 - ETA: 5s - loss: 0.0114 - categorical_accuracy: 1.00 - ETA: 3s - loss: 0.0114 - categorical_accuracy: 1.00 - ETA: 2s - loss: 0.0115 - categorical_accuracy: 1.00 - ETA: 1s - loss: 0.0114 - categorical_accuracy: 1.00 - 52s 150ms/step - loss: 0.0114 - categorical_accuracy: 1.0000 - val_loss: 0.0486 - val_categorical_accuracy: 0.9868\n",
      "Epoch 34/100\n",
      "349/349 [==============================] - ETA: 44s - loss: 0.0115 - categorical_accuracy: 1.000 - ETA: 43s - loss: 0.0108 - categorical_accuracy: 1.000 - ETA: 42s - loss: 0.0107 - categorical_accuracy: 1.000 - ETA: 41s - loss: 0.0108 - categorical_accuracy: 1.000 - ETA: 39s - loss: 0.0112 - categorical_accuracy: 1.000 - ETA: 38s - loss: 0.0116 - categorical_accuracy: 1.000 - ETA: 37s - loss: 0.0113 - categorical_accuracy: 1.000 - ETA: 35s - loss: 0.0112 - categorical_accuracy: 1.000 - ETA: 34s - loss: 0.0110 - categorical_accuracy: 1.000 - ETA: 33s - loss: 0.0108 - categorical_accuracy: 1.000 - ETA: 31s - loss: 0.0106 - categorical_accuracy: 1.000 - ETA: 30s - loss: 0.0108 - categorical_accuracy: 1.000 - ETA: 29s - loss: 0.0107 - categorical_accuracy: 1.000 - ETA: 27s - loss: 0.0108 - categorical_accuracy: 1.000 - ETA: 26s - loss: 0.0108 - categorical_accuracy: 1.000 - ETA: 25s - loss: 0.0107 - categorical_accuracy: 1.000 - ETA: 23s - loss: 0.0108 - categorical_accuracy: 1.000 - ETA: 22s - loss: 0.0107 - categorical_accuracy: 1.000 - ETA: 21s - loss: 0.0108 - categorical_accuracy: 1.000 - ETA: 19s - loss: 0.0107 - categorical_accuracy: 1.000 - ETA: 18s - loss: 0.0108 - categorical_accuracy: 1.000 - ETA: 17s - loss: 0.0107 - categorical_accuracy: 1.000 - ETA: 15s - loss: 0.0107 - categorical_accuracy: 1.000 - ETA: 14s - loss: 0.0106 - categorical_accuracy: 1.000 - ETA: 13s - loss: 0.0107 - categorical_accuracy: 1.000 - ETA: 11s - loss: 0.0107 - categorical_accuracy: 1.000 - ETA: 10s - loss: 0.0107 - categorical_accuracy: 1.000 - ETA: 9s - loss: 0.0106 - categorical_accuracy: 1.000 - ETA: 7s - loss: 0.0107 - categorical_accuracy: 1.00 - ETA: 6s - loss: 0.0107 - categorical_accuracy: 1.00 - ETA: 5s - loss: 0.0106 - categorical_accuracy: 1.00 - ETA: 3s - loss: 0.0106 - categorical_accuracy: 1.00 - ETA: 2s - loss: 0.0105 - categorical_accuracy: 1.00 - ETA: 1s - loss: 0.0106 - categorical_accuracy: 1.00 - 52s 150ms/step - loss: 0.0105 - categorical_accuracy: 1.0000 - val_loss: 0.0492 - val_categorical_accuracy: 0.9868\n",
      "Epoch 35/100\n",
      "349/349 [==============================] - ETA: 44s - loss: 0.0086 - categorical_accuracy: 1.000 - ETA: 43s - loss: 0.0089 - categorical_accuracy: 1.000 - ETA: 42s - loss: 0.0098 - categorical_accuracy: 1.000 - ETA: 41s - loss: 0.0102 - categorical_accuracy: 1.000 - ETA: 39s - loss: 0.0098 - categorical_accuracy: 1.000 - ETA: 38s - loss: 0.0096 - categorical_accuracy: 1.000 - ETA: 37s - loss: 0.0093 - categorical_accuracy: 1.000 - ETA: 35s - loss: 0.0092 - categorical_accuracy: 1.000 - ETA: 34s - loss: 0.0095 - categorical_accuracy: 1.000 - ETA: 33s - loss: 0.0096 - categorical_accuracy: 1.000 - ETA: 31s - loss: 0.0095 - categorical_accuracy: 1.000 - ETA: 30s - loss: 0.0094 - categorical_accuracy: 1.000 - ETA: 29s - loss: 0.0095 - categorical_accuracy: 1.000 - ETA: 27s - loss: 0.0096 - categorical_accuracy: 1.000 - ETA: 26s - loss: 0.0096 - categorical_accuracy: 1.000 - ETA: 25s - loss: 0.0096 - categorical_accuracy: 1.000 - ETA: 23s - loss: 0.0094 - categorical_accuracy: 1.000 - ETA: 22s - loss: 0.0093 - categorical_accuracy: 1.000 - ETA: 21s - loss: 0.0093 - categorical_accuracy: 1.000 - ETA: 19s - loss: 0.0094 - categorical_accuracy: 1.000 - ETA: 18s - loss: 0.0093 - categorical_accuracy: 1.000 - ETA: 17s - loss: 0.0093 - categorical_accuracy: 1.000 - ETA: 15s - loss: 0.0093 - categorical_accuracy: 1.000 - ETA: 14s - loss: 0.0094 - categorical_accuracy: 1.000 - ETA: 13s - loss: 0.0093 - categorical_accuracy: 1.000 - ETA: 11s - loss: 0.0094 - categorical_accuracy: 1.000 - ETA: 10s - loss: 0.0094 - categorical_accuracy: 1.000 - ETA: 9s - loss: 0.0094 - categorical_accuracy: 1.000 - ETA: 7s - loss: 0.0094 - categorical_accuracy: 1.00 - ETA: 6s - loss: 0.0094 - categorical_accuracy: 1.00 - ETA: 5s - loss: 0.0093 - categorical_accuracy: 1.00 - ETA: 3s - loss: 0.0093 - categorical_accuracy: 1.00 - ETA: 2s - loss: 0.0094 - categorical_accuracy: 1.00 - ETA: 1s - loss: 0.0094 - categorical_accuracy: 1.00 - 52s 150ms/step - loss: 0.0094 - categorical_accuracy: 1.0000 - val_loss: 0.0527 - val_categorical_accuracy: 0.9868\n",
      "Epoch 36/100\n",
      "349/349 [==============================] - ETA: 44s - loss: 0.0090 - categorical_accuracy: 1.000 - ETA: 43s - loss: 0.0088 - categorical_accuracy: 1.000 - ETA: 42s - loss: 0.0086 - categorical_accuracy: 1.000 - ETA: 41s - loss: 0.0087 - categorical_accuracy: 1.000 - ETA: 39s - loss: 0.0088 - categorical_accuracy: 1.000 - ETA: 38s - loss: 0.0091 - categorical_accuracy: 1.000 - ETA: 37s - loss: 0.0091 - categorical_accuracy: 1.000 - ETA: 35s - loss: 0.0093 - categorical_accuracy: 1.000 - ETA: 34s - loss: 0.0092 - categorical_accuracy: 1.000 - ETA: 33s - loss: 0.0092 - categorical_accuracy: 1.000 - ETA: 31s - loss: 0.0093 - categorical_accuracy: 1.000 - ETA: 30s - loss: 0.0093 - categorical_accuracy: 1.000 - ETA: 29s - loss: 0.0091 - categorical_accuracy: 1.000 - ETA: 27s - loss: 0.0090 - categorical_accuracy: 1.000 - ETA: 26s - loss: 0.0090 - categorical_accuracy: 1.000 - ETA: 25s - loss: 0.0090 - categorical_accuracy: 1.000 - ETA: 23s - loss: 0.0090 - categorical_accuracy: 1.000 - ETA: 22s - loss: 0.0089 - categorical_accuracy: 1.000 - ETA: 21s - loss: 0.0089 - categorical_accuracy: 1.000 - ETA: 19s - loss: 0.0089 - categorical_accuracy: 1.000 - ETA: 18s - loss: 0.0089 - categorical_accuracy: 1.000 - ETA: 17s - loss: 0.0089 - categorical_accuracy: 1.000 - ETA: 15s - loss: 0.0088 - categorical_accuracy: 1.000 - ETA: 14s - loss: 0.0088 - categorical_accuracy: 1.000 - ETA: 13s - loss: 0.0088 - categorical_accuracy: 1.000 - ETA: 11s - loss: 0.0089 - categorical_accuracy: 1.000 - ETA: 10s - loss: 0.0091 - categorical_accuracy: 1.000 - ETA: 9s - loss: 0.0091 - categorical_accuracy: 1.000 - ETA: 7s - loss: 0.0091 - categorical_accuracy: 1.00 - ETA: 6s - loss: 0.0091 - categorical_accuracy: 1.00 - ETA: 5s - loss: 0.0091 - categorical_accuracy: 1.00 - ETA: 3s - loss: 0.0091 - categorical_accuracy: 1.00 - ETA: 2s - loss: 0.0092 - categorical_accuracy: 1.00 - ETA: 1s - loss: 0.0091 - categorical_accuracy: 1.00 - 52s 150ms/step - loss: 0.0092 - categorical_accuracy: 1.0000 - val_loss: 0.0601 - val_categorical_accuracy: 0.9735\n"
     ]
    },
    {
     "name": "stdout",
     "output_type": "stream",
     "text": [
      "Epoch 37/100\n",
      "349/349 [==============================] - ETA: 44s - loss: 0.0088 - categorical_accuracy: 1.000 - ETA: 43s - loss: 0.0094 - categorical_accuracy: 1.000 - ETA: 42s - loss: 0.0092 - categorical_accuracy: 1.000 - ETA: 40s - loss: 0.0094 - categorical_accuracy: 1.000 - ETA: 39s - loss: 0.0098 - categorical_accuracy: 1.000 - ETA: 38s - loss: 0.0098 - categorical_accuracy: 1.000 - ETA: 36s - loss: 0.0096 - categorical_accuracy: 1.000 - ETA: 35s - loss: 0.0095 - categorical_accuracy: 1.000 - ETA: 34s - loss: 0.0093 - categorical_accuracy: 1.000 - ETA: 32s - loss: 0.0092 - categorical_accuracy: 1.000 - ETA: 31s - loss: 0.0092 - categorical_accuracy: 1.000 - ETA: 30s - loss: 0.0092 - categorical_accuracy: 1.000 - ETA: 28s - loss: 0.0092 - categorical_accuracy: 1.000 - ETA: 27s - loss: 0.0092 - categorical_accuracy: 1.000 - ETA: 26s - loss: 0.0090 - categorical_accuracy: 1.000 - ETA: 25s - loss: 0.0091 - categorical_accuracy: 1.000 - ETA: 23s - loss: 0.0092 - categorical_accuracy: 1.000 - ETA: 22s - loss: 0.0091 - categorical_accuracy: 1.000 - ETA: 21s - loss: 0.0090 - categorical_accuracy: 1.000 - ETA: 19s - loss: 0.0090 - categorical_accuracy: 1.000 - ETA: 18s - loss: 0.0090 - categorical_accuracy: 1.000 - ETA: 17s - loss: 0.0089 - categorical_accuracy: 1.000 - ETA: 15s - loss: 0.0088 - categorical_accuracy: 1.000 - ETA: 14s - loss: 0.0087 - categorical_accuracy: 1.000 - ETA: 13s - loss: 0.0087 - categorical_accuracy: 1.000 - ETA: 11s - loss: 0.0086 - categorical_accuracy: 1.000 - ETA: 10s - loss: 0.0086 - categorical_accuracy: 1.000 - ETA: 9s - loss: 0.0086 - categorical_accuracy: 1.000 - ETA: 7s - loss: 0.0087 - categorical_accuracy: 1.00 - ETA: 6s - loss: 0.0086 - categorical_accuracy: 1.00 - ETA: 5s - loss: 0.0086 - categorical_accuracy: 1.00 - ETA: 3s - loss: 0.0085 - categorical_accuracy: 1.00 - ETA: 2s - loss: 0.0086 - categorical_accuracy: 1.00 - ETA: 1s - loss: 0.0085 - categorical_accuracy: 1.00 - 52s 150ms/step - loss: 0.0086 - categorical_accuracy: 1.0000 - val_loss: 0.0482 - val_categorical_accuracy: 0.9868\n",
      "Epoch 38/100\n",
      "349/349 [==============================] - ETA: 43s - loss: 0.0093 - categorical_accuracy: 1.000 - ETA: 42s - loss: 0.0085 - categorical_accuracy: 1.000 - ETA: 41s - loss: 0.0084 - categorical_accuracy: 1.000 - ETA: 40s - loss: 0.0079 - categorical_accuracy: 1.000 - ETA: 39s - loss: 0.0078 - categorical_accuracy: 1.000 - ETA: 38s - loss: 0.0079 - categorical_accuracy: 1.000 - ETA: 36s - loss: 0.0078 - categorical_accuracy: 1.000 - ETA: 35s - loss: 0.0080 - categorical_accuracy: 1.000 - ETA: 34s - loss: 0.0079 - categorical_accuracy: 1.000 - ETA: 32s - loss: 0.0078 - categorical_accuracy: 1.000 - ETA: 31s - loss: 0.0079 - categorical_accuracy: 1.000 - ETA: 30s - loss: 0.0079 - categorical_accuracy: 1.000 - ETA: 29s - loss: 0.0077 - categorical_accuracy: 1.000 - ETA: 27s - loss: 0.0077 - categorical_accuracy: 1.000 - ETA: 26s - loss: 0.0078 - categorical_accuracy: 1.000 - ETA: 25s - loss: 0.0078 - categorical_accuracy: 1.000 - ETA: 23s - loss: 0.0077 - categorical_accuracy: 1.000 - ETA: 22s - loss: 0.0077 - categorical_accuracy: 1.000 - ETA: 21s - loss: 0.0077 - categorical_accuracy: 1.000 - ETA: 19s - loss: 0.0078 - categorical_accuracy: 1.000 - ETA: 18s - loss: 0.0079 - categorical_accuracy: 1.000 - ETA: 17s - loss: 0.0078 - categorical_accuracy: 1.000 - ETA: 15s - loss: 0.0078 - categorical_accuracy: 1.000 - ETA: 14s - loss: 0.0079 - categorical_accuracy: 1.000 - ETA: 13s - loss: 0.0079 - categorical_accuracy: 1.000 - ETA: 11s - loss: 0.0079 - categorical_accuracy: 1.000 - ETA: 10s - loss: 0.0079 - categorical_accuracy: 1.000 - ETA: 9s - loss: 0.0079 - categorical_accuracy: 1.000 - ETA: 7s - loss: 0.0079 - categorical_accuracy: 1.00 - ETA: 6s - loss: 0.0079 - categorical_accuracy: 1.00 - ETA: 5s - loss: 0.0079 - categorical_accuracy: 1.00 - ETA: 3s - loss: 0.0079 - categorical_accuracy: 1.00 - ETA: 2s - loss: 0.0079 - categorical_accuracy: 1.00 - ETA: 1s - loss: 0.0079 - categorical_accuracy: 1.00 - 52s 150ms/step - loss: 0.0079 - categorical_accuracy: 1.0000 - val_loss: 0.0523 - val_categorical_accuracy: 0.9868\n",
      "Epoch 39/100\n",
      "349/349 [==============================] - ETA: 44s - loss: 0.0073 - categorical_accuracy: 1.000 - ETA: 43s - loss: 0.0066 - categorical_accuracy: 1.000 - ETA: 41s - loss: 0.0068 - categorical_accuracy: 1.000 - ETA: 40s - loss: 0.0070 - categorical_accuracy: 1.000 - ETA: 39s - loss: 0.0071 - categorical_accuracy: 1.000 - ETA: 38s - loss: 0.0069 - categorical_accuracy: 1.000 - ETA: 36s - loss: 0.0067 - categorical_accuracy: 1.000 - ETA: 35s - loss: 0.0066 - categorical_accuracy: 1.000 - ETA: 34s - loss: 0.0066 - categorical_accuracy: 1.000 - ETA: 32s - loss: 0.0069 - categorical_accuracy: 1.000 - ETA: 31s - loss: 0.0069 - categorical_accuracy: 1.000 - ETA: 30s - loss: 0.0074 - categorical_accuracy: 1.000 - ETA: 28s - loss: 0.0074 - categorical_accuracy: 1.000 - ETA: 27s - loss: 0.0073 - categorical_accuracy: 1.000 - ETA: 26s - loss: 0.0073 - categorical_accuracy: 1.000 - ETA: 24s - loss: 0.0072 - categorical_accuracy: 1.000 - ETA: 23s - loss: 0.0071 - categorical_accuracy: 1.000 - ETA: 22s - loss: 0.0071 - categorical_accuracy: 1.000 - ETA: 21s - loss: 0.0072 - categorical_accuracy: 1.000 - ETA: 19s - loss: 0.0071 - categorical_accuracy: 1.000 - ETA: 18s - loss: 0.0072 - categorical_accuracy: 1.000 - ETA: 17s - loss: 0.0072 - categorical_accuracy: 1.000 - ETA: 15s - loss: 0.0072 - categorical_accuracy: 1.000 - ETA: 14s - loss: 0.0071 - categorical_accuracy: 1.000 - ETA: 13s - loss: 0.0071 - categorical_accuracy: 1.000 - ETA: 11s - loss: 0.0072 - categorical_accuracy: 1.000 - ETA: 10s - loss: 0.0072 - categorical_accuracy: 1.000 - ETA: 9s - loss: 0.0071 - categorical_accuracy: 1.000 - ETA: 7s - loss: 0.0072 - categorical_accuracy: 1.00 - ETA: 6s - loss: 0.0072 - categorical_accuracy: 1.00 - ETA: 5s - loss: 0.0071 - categorical_accuracy: 1.00 - ETA: 3s - loss: 0.0072 - categorical_accuracy: 1.00 - ETA: 2s - loss: 0.0072 - categorical_accuracy: 1.00 - ETA: 1s - loss: 0.0072 - categorical_accuracy: 1.00 - 52s 149ms/step - loss: 0.0072 - categorical_accuracy: 1.0000 - val_loss: 0.0517 - val_categorical_accuracy: 0.9868\n",
      "Epoch 40/100\n",
      "349/349 [==============================] - ETA: 44s - loss: 0.0069 - categorical_accuracy: 1.000 - ETA: 43s - loss: 0.0068 - categorical_accuracy: 1.000 - ETA: 42s - loss: 0.0072 - categorical_accuracy: 1.000 - ETA: 41s - loss: 0.0068 - categorical_accuracy: 1.000 - ETA: 39s - loss: 0.0065 - categorical_accuracy: 1.000 - ETA: 38s - loss: 0.0065 - categorical_accuracy: 1.000 - ETA: 37s - loss: 0.0065 - categorical_accuracy: 1.000 - ETA: 35s - loss: 0.0066 - categorical_accuracy: 1.000 - ETA: 34s - loss: 0.0066 - categorical_accuracy: 1.000 - ETA: 33s - loss: 0.0064 - categorical_accuracy: 1.000 - ETA: 32s - loss: 0.0064 - categorical_accuracy: 1.000 - ETA: 30s - loss: 0.0065 - categorical_accuracy: 1.000 - ETA: 29s - loss: 0.0065 - categorical_accuracy: 1.000 - ETA: 28s - loss: 0.0065 - categorical_accuracy: 1.000 - ETA: 26s - loss: 0.0065 - categorical_accuracy: 1.000 - ETA: 25s - loss: 0.0064 - categorical_accuracy: 1.000 - ETA: 24s - loss: 0.0064 - categorical_accuracy: 1.000 - ETA: 22s - loss: 0.0064 - categorical_accuracy: 1.000 - ETA: 21s - loss: 0.0065 - categorical_accuracy: 1.000 - ETA: 20s - loss: 0.0066 - categorical_accuracy: 1.000 - ETA: 18s - loss: 0.0065 - categorical_accuracy: 1.000 - ETA: 17s - loss: 0.0066 - categorical_accuracy: 1.000 - ETA: 16s - loss: 0.0066 - categorical_accuracy: 1.000 - ETA: 14s - loss: 0.0066 - categorical_accuracy: 1.000 - ETA: 13s - loss: 0.0067 - categorical_accuracy: 1.000 - ETA: 12s - loss: 0.0067 - categorical_accuracy: 1.000 - ETA: 10s - loss: 0.0066 - categorical_accuracy: 1.000 - ETA: 9s - loss: 0.0067 - categorical_accuracy: 1.000 - ETA: 8s - loss: 0.0066 - categorical_accuracy: 1.00 - ETA: 9:02 - loss: 0.0066 - categorical_accuracy: 1.00 - ETA: 6:58 - loss: 0.0066 - categorical_accuracy: 1.00 - ETA: 5:01 - loss: 0.0066 - categorical_accuracy: 1.00 - ETA: 3:11 - loss: 0.0066 - categorical_accuracy: 1.00 - ETA: 1:28 - loss: 0.0066 - categorical_accuracy: 1.00 - 3336s 10s/step - loss: 0.0066 - categorical_accuracy: 1.0000 - val_loss: 0.0497 - val_categorical_accuracy: 0.9868\n"
     ]
    },
    {
     "name": "stdout",
     "output_type": "stream",
     "text": [
      "Epoch 41/100\n",
      "349/349 [==============================] - ETA: 53s - loss: 0.0063 - categorical_accuracy: 1.000 - ETA: 51s - loss: 0.0069 - categorical_accuracy: 1.000 - ETA: 50s - loss: 0.0065 - categorical_accuracy: 1.000 - ETA: 50s - loss: 0.0061 - categorical_accuracy: 1.000 - ETA: 48s - loss: 0.0060 - categorical_accuracy: 1.000 - ETA: 46s - loss: 0.0059 - categorical_accuracy: 1.000 - ETA: 44s - loss: 0.0060 - categorical_accuracy: 1.000 - ETA: 42s - loss: 0.0061 - categorical_accuracy: 1.000 - ETA: 40s - loss: 0.0061 - categorical_accuracy: 1.000 - ETA: 39s - loss: 0.0060 - categorical_accuracy: 1.000 - ETA: 37s - loss: 0.0061 - categorical_accuracy: 1.000 - ETA: 35s - loss: 0.0066 - categorical_accuracy: 1.000 - ETA: 34s - loss: 0.0067 - categorical_accuracy: 1.000 - ETA: 32s - loss: 0.0075 - categorical_accuracy: 1.000 - ETA: 30s - loss: 0.0075 - categorical_accuracy: 1.000 - ETA: 29s - loss: 0.0076 - categorical_accuracy: 1.000 - ETA: 28s - loss: 0.0075 - categorical_accuracy: 1.000 - ETA: 26s - loss: 0.0075 - categorical_accuracy: 1.000 - ETA: 25s - loss: 0.0074 - categorical_accuracy: 1.000 - ETA: 23s - loss: 0.0073 - categorical_accuracy: 1.000 - ETA: 22s - loss: 0.0072 - categorical_accuracy: 1.000 - ETA: 20s - loss: 0.0072 - categorical_accuracy: 1.000 - ETA: 18s - loss: 0.0071 - categorical_accuracy: 1.000 - ETA: 17s - loss: 0.0070 - categorical_accuracy: 1.000 - ETA: 15s - loss: 0.0070 - categorical_accuracy: 1.000 - ETA: 13s - loss: 0.0070 - categorical_accuracy: 1.000 - ETA: 12s - loss: 0.0069 - categorical_accuracy: 1.000 - ETA: 10s - loss: 0.0069 - categorical_accuracy: 1.000 - ETA: 9s - loss: 0.0068 - categorical_accuracy: 1.000 - ETA: 7s - loss: 0.0068 - categorical_accuracy: 1.00 - ETA: 6s - loss: 0.0067 - categorical_accuracy: 1.00 - ETA: 4s - loss: 0.0067 - categorical_accuracy: 1.00 - ETA: 2s - loss: 0.0066 - categorical_accuracy: 1.00 - ETA: 1s - loss: 0.0067 - categorical_accuracy: 1.00 - 60s 171ms/step - loss: 0.0066 - categorical_accuracy: 1.0000 - val_loss: 0.0494 - val_categorical_accuracy: 0.9868\n",
      "Epoch 42/100\n",
      "349/349 [==============================] - ETA: 46s - loss: 0.0062 - categorical_accuracy: 1.000 - ETA: 45s - loss: 0.0064 - categorical_accuracy: 1.000 - ETA: 44s - loss: 0.0065 - categorical_accuracy: 1.000 - ETA: 43s - loss: 0.0066 - categorical_accuracy: 1.000 - ETA: 41s - loss: 0.0065 - categorical_accuracy: 1.000 - ETA: 40s - loss: 0.0063 - categorical_accuracy: 1.000 - ETA: 39s - loss: 0.0064 - categorical_accuracy: 1.000 - ETA: 38s - loss: 0.0063 - categorical_accuracy: 1.000 - ETA: 36s - loss: 0.0062 - categorical_accuracy: 1.000 - ETA: 35s - loss: 0.0062 - categorical_accuracy: 1.000 - ETA: 33s - loss: 0.0061 - categorical_accuracy: 1.000 - ETA: 32s - loss: 0.0061 - categorical_accuracy: 1.000 - ETA: 30s - loss: 0.0060 - categorical_accuracy: 1.000 - ETA: 29s - loss: 0.0061 - categorical_accuracy: 1.000 - ETA: 28s - loss: 0.0061 - categorical_accuracy: 1.000 - ETA: 26s - loss: 0.0061 - categorical_accuracy: 1.000 - ETA: 25s - loss: 0.0060 - categorical_accuracy: 1.000 - ETA: 23s - loss: 0.0059 - categorical_accuracy: 1.000 - ETA: 22s - loss: 0.0060 - categorical_accuracy: 1.000 - ETA: 20s - loss: 0.0059 - categorical_accuracy: 1.000 - ETA: 19s - loss: 0.0059 - categorical_accuracy: 1.000 - ETA: 18s - loss: 0.0058 - categorical_accuracy: 1.000 - ETA: 16s - loss: 0.0058 - categorical_accuracy: 1.000 - ETA: 15s - loss: 0.0059 - categorical_accuracy: 1.000 - ETA: 13s - loss: 0.0058 - categorical_accuracy: 1.000 - ETA: 12s - loss: 0.0059 - categorical_accuracy: 1.000 - ETA: 11s - loss: 0.0058 - categorical_accuracy: 1.000 - ETA: 9s - loss: 0.0058 - categorical_accuracy: 1.000 - ETA: 8s - loss: 0.0058 - categorical_accuracy: 1.00 - ETA: 6s - loss: 0.0058 - categorical_accuracy: 1.00 - ETA: 5s - loss: 0.0057 - categorical_accuracy: 1.00 - ETA: 4s - loss: 0.0057 - categorical_accuracy: 1.00 - ETA: 2s - loss: 0.0057 - categorical_accuracy: 1.00 - ETA: 1s - loss: 0.0057 - categorical_accuracy: 1.00 - 55s 159ms/step - loss: 0.0057 - categorical_accuracy: 1.0000 - val_loss: 0.0502 - val_categorical_accuracy: 0.9868\n",
      "Epoch 43/100\n",
      "349/349 [==============================] - ETA: 47s - loss: 0.0048 - categorical_accuracy: 1.000 - ETA: 45s - loss: 0.0048 - categorical_accuracy: 1.000 - ETA: 44s - loss: 0.0055 - categorical_accuracy: 1.000 - ETA: 42s - loss: 0.0055 - categorical_accuracy: 1.000 - ETA: 41s - loss: 0.0054 - categorical_accuracy: 1.000 - ETA: 40s - loss: 0.0053 - categorical_accuracy: 1.000 - ETA: 38s - loss: 0.0051 - categorical_accuracy: 1.000 - ETA: 37s - loss: 0.0052 - categorical_accuracy: 1.000 - ETA: 36s - loss: 0.0053 - categorical_accuracy: 1.000 - ETA: 34s - loss: 0.0053 - categorical_accuracy: 1.000 - ETA: 33s - loss: 0.0053 - categorical_accuracy: 1.000 - ETA: 32s - loss: 0.0055 - categorical_accuracy: 1.000 - ETA: 30s - loss: 0.0054 - categorical_accuracy: 1.000 - ETA: 29s - loss: 0.0054 - categorical_accuracy: 1.000 - ETA: 27s - loss: 0.0055 - categorical_accuracy: 1.000 - ETA: 26s - loss: 0.0055 - categorical_accuracy: 1.000 - ETA: 25s - loss: 0.0055 - categorical_accuracy: 1.000 - ETA: 24s - loss: 0.0056 - categorical_accuracy: 1.000 - ETA: 23s - loss: 0.0056 - categorical_accuracy: 1.000 - ETA: 21s - loss: 0.0056 - categorical_accuracy: 1.000 - ETA: 20s - loss: 0.0056 - categorical_accuracy: 1.000 - ETA: 19s - loss: 0.0056 - categorical_accuracy: 1.000 - ETA: 17s - loss: 0.0056 - categorical_accuracy: 1.000 - ETA: 16s - loss: 0.0055 - categorical_accuracy: 1.000 - ETA: 14s - loss: 0.0056 - categorical_accuracy: 1.000 - ETA: 13s - loss: 0.0056 - categorical_accuracy: 1.000 - ETA: 11s - loss: 0.0055 - categorical_accuracy: 1.000 - ETA: 10s - loss: 0.0055 - categorical_accuracy: 1.000 - ETA: 8s - loss: 0.0055 - categorical_accuracy: 1.000 - ETA: 7s - loss: 0.0055 - categorical_accuracy: 1.00 - ETA: 5s - loss: 0.0055 - categorical_accuracy: 1.00 - ETA: 4s - loss: 0.0055 - categorical_accuracy: 1.00 - ETA: 2s - loss: 0.0055 - categorical_accuracy: 1.00 - ETA: 1s - loss: 0.0055 - categorical_accuracy: 1.00 - 60s 173ms/step - loss: 0.0055 - categorical_accuracy: 1.0000 - val_loss: 0.0506 - val_categorical_accuracy: 0.9868\n",
      "Epoch 44/100\n",
      "349/349 [==============================] - ETA: 55s - loss: 0.0056 - categorical_accuracy: 1.000 - ETA: 54s - loss: 0.0056 - categorical_accuracy: 1.000 - ETA: 53s - loss: 0.0057 - categorical_accuracy: 1.000 - ETA: 52s - loss: 0.0056 - categorical_accuracy: 1.000 - ETA: 50s - loss: 0.0054 - categorical_accuracy: 1.000 - ETA: 49s - loss: 0.0055 - categorical_accuracy: 1.000 - ETA: 47s - loss: 0.0054 - categorical_accuracy: 1.000 - ETA: 46s - loss: 0.0055 - categorical_accuracy: 1.000 - ETA: 45s - loss: 0.0054 - categorical_accuracy: 1.000 - ETA: 43s - loss: 0.0052 - categorical_accuracy: 1.000 - ETA: 41s - loss: 0.0052 - categorical_accuracy: 1.000 - ETA: 39s - loss: 0.0050 - categorical_accuracy: 1.000 - ETA: 37s - loss: 0.0050 - categorical_accuracy: 1.000 - ETA: 35s - loss: 0.0050 - categorical_accuracy: 1.000 - ETA: 33s - loss: 0.0050 - categorical_accuracy: 1.000 - ETA: 32s - loss: 0.0050 - categorical_accuracy: 1.000 - ETA: 30s - loss: 0.0050 - categorical_accuracy: 1.000 - ETA: 28s - loss: 0.0050 - categorical_accuracy: 1.000 - ETA: 27s - loss: 0.0050 - categorical_accuracy: 1.000 - ETA: 25s - loss: 0.0050 - categorical_accuracy: 1.000 - ETA: 23s - loss: 0.0050 - categorical_accuracy: 1.000 - ETA: 21s - loss: 0.0050 - categorical_accuracy: 1.000 - ETA: 20s - loss: 0.0050 - categorical_accuracy: 1.000 - ETA: 18s - loss: 0.0050 - categorical_accuracy: 1.000 - ETA: 16s - loss: 0.0051 - categorical_accuracy: 1.000 - ETA: 14s - loss: 0.0051 - categorical_accuracy: 1.000 - ETA: 13s - loss: 0.0051 - categorical_accuracy: 1.000 - ETA: 11s - loss: 0.0051 - categorical_accuracy: 1.000 - ETA: 9s - loss: 0.0051 - categorical_accuracy: 1.000 - ETA: 8s - loss: 0.0050 - categorical_accuracy: 1.00 - ETA: 6s - loss: 0.0051 - categorical_accuracy: 1.00 - ETA: 4s - loss: 0.0051 - categorical_accuracy: 1.00 - ETA: 3s - loss: 0.0051 - categorical_accuracy: 1.00 - ETA: 1s - loss: 0.0051 - categorical_accuracy: 1.00 - 65s 187ms/step - loss: 0.0050 - categorical_accuracy: 1.0000 - val_loss: 0.0498 - val_categorical_accuracy: 0.9868\n"
     ]
    },
    {
     "name": "stdout",
     "output_type": "stream",
     "text": [
      "Epoch 45/100\n",
      "349/349 [==============================] - ETA: 54s - loss: 0.0058 - categorical_accuracy: 1.000 - ETA: 55s - loss: 0.0054 - categorical_accuracy: 1.000 - ETA: 53s - loss: 0.0055 - categorical_accuracy: 1.000 - ETA: 52s - loss: 0.0054 - categorical_accuracy: 1.000 - ETA: 49s - loss: 0.0054 - categorical_accuracy: 1.000 - ETA: 47s - loss: 0.0054 - categorical_accuracy: 1.000 - ETA: 45s - loss: 0.0052 - categorical_accuracy: 1.000 - ETA: 44s - loss: 0.0051 - categorical_accuracy: 1.000 - ETA: 42s - loss: 0.0052 - categorical_accuracy: 1.000 - ETA: 40s - loss: 0.0052 - categorical_accuracy: 1.000 - ETA: 38s - loss: 0.0051 - categorical_accuracy: 1.000 - ETA: 37s - loss: 0.0050 - categorical_accuracy: 1.000 - ETA: 35s - loss: 0.0049 - categorical_accuracy: 1.000 - ETA: 33s - loss: 0.0048 - categorical_accuracy: 1.000 - ETA: 31s - loss: 0.0049 - categorical_accuracy: 1.000 - ETA: 30s - loss: 0.0048 - categorical_accuracy: 1.000 - ETA: 28s - loss: 0.0047 - categorical_accuracy: 1.000 - ETA: 26s - loss: 0.0047 - categorical_accuracy: 1.000 - ETA: 24s - loss: 0.0047 - categorical_accuracy: 1.000 - ETA: 23s - loss: 0.0047 - categorical_accuracy: 1.000 - ETA: 21s - loss: 0.0048 - categorical_accuracy: 1.000 - ETA: 20s - loss: 0.0048 - categorical_accuracy: 1.000 - ETA: 18s - loss: 0.0048 - categorical_accuracy: 1.000 - ETA: 17s - loss: 0.0048 - categorical_accuracy: 1.000 - ETA: 15s - loss: 0.0048 - categorical_accuracy: 1.000 - ETA: 13s - loss: 0.0049 - categorical_accuracy: 1.000 - ETA: 12s - loss: 0.0048 - categorical_accuracy: 1.000 - ETA: 10s - loss: 0.0048 - categorical_accuracy: 1.000 - ETA: 9s - loss: 0.0049 - categorical_accuracy: 1.000 - ETA: 7s - loss: 0.0049 - categorical_accuracy: 1.00 - ETA: 6s - loss: 0.0049 - categorical_accuracy: 1.00 - ETA: 4s - loss: 0.0048 - categorical_accuracy: 1.00 - ETA: 2s - loss: 0.0048 - categorical_accuracy: 1.00 - ETA: 1s - loss: 0.0048 - categorical_accuracy: 1.00 - 61s 176ms/step - loss: 0.0048 - categorical_accuracy: 1.0000 - val_loss: 0.0495 - val_categorical_accuracy: 0.9868\n",
      "Epoch 46/100\n",
      "349/349 [==============================] - ETA: 51s - loss: 0.0040 - categorical_accuracy: 1.000 - ETA: 50s - loss: 0.0039 - categorical_accuracy: 1.000 - ETA: 49s - loss: 0.0038 - categorical_accuracy: 1.000 - ETA: 46s - loss: 0.0043 - categorical_accuracy: 1.000 - ETA: 45s - loss: 0.0042 - categorical_accuracy: 1.000 - ETA: 44s - loss: 0.0041 - categorical_accuracy: 1.000 - ETA: 43s - loss: 0.0043 - categorical_accuracy: 1.000 - ETA: 42s - loss: 0.0042 - categorical_accuracy: 1.000 - ETA: 41s - loss: 0.0042 - categorical_accuracy: 1.000 - ETA: 40s - loss: 0.0042 - categorical_accuracy: 1.000 - ETA: 38s - loss: 0.0042 - categorical_accuracy: 1.000 - ETA: 37s - loss: 0.0043 - categorical_accuracy: 1.000 - ETA: 35s - loss: 0.0043 - categorical_accuracy: 1.000 - ETA: 34s - loss: 0.0044 - categorical_accuracy: 1.000 - ETA: 32s - loss: 0.0044 - categorical_accuracy: 1.000 - ETA: 30s - loss: 0.0044 - categorical_accuracy: 1.000 - ETA: 29s - loss: 0.0045 - categorical_accuracy: 1.000 - ETA: 27s - loss: 0.0045 - categorical_accuracy: 1.000 - ETA: 25s - loss: 0.0045 - categorical_accuracy: 1.000 - ETA: 23s - loss: 0.0045 - categorical_accuracy: 1.000 - ETA: 22s - loss: 0.0045 - categorical_accuracy: 1.000 - ETA: 21s - loss: 0.0045 - categorical_accuracy: 1.000 - ETA: 19s - loss: 0.0045 - categorical_accuracy: 1.000 - ETA: 17s - loss: 0.0045 - categorical_accuracy: 1.000 - ETA: 16s - loss: 0.0045 - categorical_accuracy: 1.000 - ETA: 14s - loss: 0.0045 - categorical_accuracy: 1.000 - ETA: 12s - loss: 0.0045 - categorical_accuracy: 1.000 - ETA: 11s - loss: 0.0045 - categorical_accuracy: 1.000 - ETA: 9s - loss: 0.0045 - categorical_accuracy: 1.000 - ETA: 8s - loss: 0.0045 - categorical_accuracy: 1.00 - ETA: 6s - loss: 0.0045 - categorical_accuracy: 1.00 - ETA: 4s - loss: 0.0045 - categorical_accuracy: 1.00 - ETA: 3s - loss: 0.0045 - categorical_accuracy: 1.00 - ETA: 1s - loss: 0.0044 - categorical_accuracy: 1.00 - 64s 185ms/step - loss: 0.0044 - categorical_accuracy: 1.0000 - val_loss: 0.0486 - val_categorical_accuracy: 0.9868\n",
      "Epoch 47/100\n",
      "349/349 [==============================] - ETA: 48s - loss: 0.0055 - categorical_accuracy: 1.000 - ETA: 48s - loss: 0.0045 - categorical_accuracy: 1.000 - ETA: 47s - loss: 0.0043 - categorical_accuracy: 1.000 - ETA: 47s - loss: 0.0042 - categorical_accuracy: 1.000 - ETA: 46s - loss: 0.0042 - categorical_accuracy: 1.000 - ETA: 44s - loss: 0.0042 - categorical_accuracy: 1.000 - ETA: 42s - loss: 0.0043 - categorical_accuracy: 1.000 - ETA: 41s - loss: 0.0044 - categorical_accuracy: 1.000 - ETA: 39s - loss: 0.0044 - categorical_accuracy: 1.000 - ETA: 37s - loss: 0.0044 - categorical_accuracy: 1.000 - ETA: 36s - loss: 0.0043 - categorical_accuracy: 1.000 - ETA: 34s - loss: 0.0044 - categorical_accuracy: 1.000 - ETA: 33s - loss: 0.0044 - categorical_accuracy: 1.000 - ETA: 31s - loss: 0.0043 - categorical_accuracy: 1.000 - ETA: 30s - loss: 0.0043 - categorical_accuracy: 1.000 - ETA: 28s - loss: 0.0043 - categorical_accuracy: 1.000 - ETA: 27s - loss: 0.0042 - categorical_accuracy: 1.000 - ETA: 25s - loss: 0.0043 - categorical_accuracy: 1.000 - ETA: 24s - loss: 0.0043 - categorical_accuracy: 1.000 - ETA: 22s - loss: 0.0043 - categorical_accuracy: 1.000 - ETA: 21s - loss: 0.0043 - categorical_accuracy: 1.000 - ETA: 19s - loss: 0.0043 - categorical_accuracy: 1.000 - ETA: 18s - loss: 0.0043 - categorical_accuracy: 1.000 - ETA: 16s - loss: 0.0042 - categorical_accuracy: 1.000 - ETA: 15s - loss: 0.0042 - categorical_accuracy: 1.000 - ETA: 13s - loss: 0.0042 - categorical_accuracy: 1.000 - ETA: 12s - loss: 0.0042 - categorical_accuracy: 1.000 - ETA: 10s - loss: 0.0043 - categorical_accuracy: 1.000 - ETA: 9s - loss: 0.0043 - categorical_accuracy: 1.000 - ETA: 7s - loss: 0.0043 - categorical_accuracy: 1.00 - ETA: 5s - loss: 0.0042 - categorical_accuracy: 1.00 - ETA: 4s - loss: 0.0042 - categorical_accuracy: 1.00 - ETA: 2s - loss: 0.0042 - categorical_accuracy: 1.00 - ETA: 1s - loss: 0.0042 - categorical_accuracy: 1.00 - 60s 172ms/step - loss: 0.0042 - categorical_accuracy: 1.0000 - val_loss: 0.0510 - val_categorical_accuracy: 0.9868\n",
      "Epoch 48/100\n",
      "349/349 [==============================] - ETA: 49s - loss: 0.0035 - categorical_accuracy: 1.000 - ETA: 47s - loss: 0.0039 - categorical_accuracy: 1.000 - ETA: 46s - loss: 0.0038 - categorical_accuracy: 1.000 - ETA: 48s - loss: 0.0038 - categorical_accuracy: 1.000 - ETA: 48s - loss: 0.0039 - categorical_accuracy: 1.000 - ETA: 46s - loss: 0.0038 - categorical_accuracy: 1.000 - ETA: 44s - loss: 0.0039 - categorical_accuracy: 1.000 - ETA: 43s - loss: 0.0038 - categorical_accuracy: 1.000 - ETA: 41s - loss: 0.0038 - categorical_accuracy: 1.000 - ETA: 39s - loss: 0.0039 - categorical_accuracy: 1.000 - ETA: 38s - loss: 0.0040 - categorical_accuracy: 1.000 - ETA: 37s - loss: 0.0040 - categorical_accuracy: 1.000 - ETA: 35s - loss: 0.0040 - categorical_accuracy: 1.000 - ETA: 34s - loss: 0.0041 - categorical_accuracy: 1.000 - ETA: 32s - loss: 0.0041 - categorical_accuracy: 1.000 - ETA: 31s - loss: 0.0041 - categorical_accuracy: 1.000 - ETA: 29s - loss: 0.0040 - categorical_accuracy: 1.000 - ETA: 27s - loss: 0.0040 - categorical_accuracy: 1.000 - ETA: 25s - loss: 0.0040 - categorical_accuracy: 1.000 - ETA: 24s - loss: 0.0040 - categorical_accuracy: 1.000 - ETA: 22s - loss: 0.0040 - categorical_accuracy: 1.000 - ETA: 21s - loss: 0.0040 - categorical_accuracy: 1.000 - ETA: 19s - loss: 0.0040 - categorical_accuracy: 1.000 - ETA: 17s - loss: 0.0040 - categorical_accuracy: 1.000 - ETA: 16s - loss: 0.0039 - categorical_accuracy: 1.000 - ETA: 14s - loss: 0.0039 - categorical_accuracy: 1.000 - ETA: 12s - loss: 0.0039 - categorical_accuracy: 1.000 - ETA: 11s - loss: 0.0039 - categorical_accuracy: 1.000 - ETA: 9s - loss: 0.0040 - categorical_accuracy: 1.000 - ETA: 7s - loss: 0.0040 - categorical_accuracy: 1.00 - ETA: 6s - loss: 0.0040 - categorical_accuracy: 1.00 - ETA: 4s - loss: 0.0040 - categorical_accuracy: 1.00 - ETA: 3s - loss: 0.0040 - categorical_accuracy: 1.00 - ETA: 1s - loss: 0.0040 - categorical_accuracy: 1.00 - 65s 187ms/step - loss: 0.0040 - categorical_accuracy: 1.0000 - val_loss: 0.0460 - val_categorical_accuracy: 0.9868\n"
     ]
    },
    {
     "name": "stdout",
     "output_type": "stream",
     "text": [
      "Epoch 49/100\n",
      "349/349 [==============================] - ETA: 1:02 - loss: 0.0034 - categorical_accuracy: 1.00 - ETA: 56s - loss: 0.0037 - categorical_accuracy: 1.0000 - ETA: 55s - loss: 0.0035 - categorical_accuracy: 1.000 - ETA: 54s - loss: 0.0035 - categorical_accuracy: 1.000 - ETA: 53s - loss: 0.0037 - categorical_accuracy: 1.000 - ETA: 51s - loss: 0.0038 - categorical_accuracy: 1.000 - ETA: 49s - loss: 0.0038 - categorical_accuracy: 1.000 - ETA: 46s - loss: 0.0037 - categorical_accuracy: 1.000 - ETA: 44s - loss: 0.0036 - categorical_accuracy: 1.000 - ETA: 41s - loss: 0.0038 - categorical_accuracy: 1.000 - ETA: 39s - loss: 0.0038 - categorical_accuracy: 1.000 - ETA: 37s - loss: 0.0038 - categorical_accuracy: 1.000 - ETA: 35s - loss: 0.0038 - categorical_accuracy: 1.000 - ETA: 33s - loss: 0.0039 - categorical_accuracy: 1.000 - ETA: 31s - loss: 0.0038 - categorical_accuracy: 1.000 - ETA: 30s - loss: 0.0038 - categorical_accuracy: 1.000 - ETA: 28s - loss: 0.0038 - categorical_accuracy: 1.000 - ETA: 26s - loss: 0.0038 - categorical_accuracy: 1.000 - ETA: 24s - loss: 0.0038 - categorical_accuracy: 1.000 - ETA: 23s - loss: 0.0038 - categorical_accuracy: 1.000 - ETA: 21s - loss: 0.0038 - categorical_accuracy: 1.000 - ETA: 19s - loss: 0.0038 - categorical_accuracy: 1.000 - ETA: 18s - loss: 0.0038 - categorical_accuracy: 1.000 - ETA: 16s - loss: 0.0038 - categorical_accuracy: 1.000 - ETA: 15s - loss: 0.0038 - categorical_accuracy: 1.000 - ETA: 13s - loss: 0.0038 - categorical_accuracy: 1.000 - ETA: 11s - loss: 0.0038 - categorical_accuracy: 1.000 - ETA: 10s - loss: 0.0037 - categorical_accuracy: 1.000 - ETA: 8s - loss: 0.0037 - categorical_accuracy: 1.000 - ETA: 7s - loss: 0.0037 - categorical_accuracy: 1.00 - ETA: 5s - loss: 0.0037 - categorical_accuracy: 1.00 - ETA: 4s - loss: 0.0037 - categorical_accuracy: 1.00 - ETA: 2s - loss: 0.0037 - categorical_accuracy: 1.00 - ETA: 1s - loss: 0.0037 - categorical_accuracy: 1.00 - 59s 169ms/step - loss: 0.0037 - categorical_accuracy: 1.0000 - val_loss: 0.0469 - val_categorical_accuracy: 0.9868\n",
      "Epoch 50/100\n",
      "349/349 [==============================] - ETA: 46s - loss: 0.0037 - categorical_accuracy: 1.000 - ETA: 46s - loss: 0.0035 - categorical_accuracy: 1.000 - ETA: 45s - loss: 0.0035 - categorical_accuracy: 1.000 - ETA: 45s - loss: 0.0035 - categorical_accuracy: 1.000 - ETA: 43s - loss: 0.0035 - categorical_accuracy: 1.000 - ETA: 42s - loss: 0.0036 - categorical_accuracy: 1.000 - ETA: 40s - loss: 0.0035 - categorical_accuracy: 1.000 - ETA: 39s - loss: 0.0039 - categorical_accuracy: 1.000 - ETA: 38s - loss: 0.0040 - categorical_accuracy: 1.000 - ETA: 36s - loss: 0.0041 - categorical_accuracy: 1.000 - ETA: 35s - loss: 0.0040 - categorical_accuracy: 1.000 - ETA: 34s - loss: 0.0041 - categorical_accuracy: 1.000 - ETA: 32s - loss: 0.0040 - categorical_accuracy: 1.000 - ETA: 30s - loss: 0.0040 - categorical_accuracy: 1.000 - ETA: 29s - loss: 0.0039 - categorical_accuracy: 1.000 - ETA: 27s - loss: 0.0039 - categorical_accuracy: 1.000 - ETA: 26s - loss: 0.0039 - categorical_accuracy: 1.000 - ETA: 24s - loss: 0.0039 - categorical_accuracy: 1.000 - ETA: 23s - loss: 0.0038 - categorical_accuracy: 1.000 - ETA: 21s - loss: 0.0038 - categorical_accuracy: 1.000 - ETA: 20s - loss: 0.0038 - categorical_accuracy: 1.000 - ETA: 18s - loss: 0.0038 - categorical_accuracy: 1.000 - ETA: 17s - loss: 0.0038 - categorical_accuracy: 1.000 - ETA: 15s - loss: 0.0038 - categorical_accuracy: 1.000 - ETA: 14s - loss: 0.0037 - categorical_accuracy: 1.000 - ETA: 12s - loss: 0.0037 - categorical_accuracy: 1.000 - ETA: 11s - loss: 0.0037 - categorical_accuracy: 1.000 - ETA: 10s - loss: 0.0037 - categorical_accuracy: 1.000 - ETA: 8s - loss: 0.0037 - categorical_accuracy: 1.000 - ETA: 7s - loss: 0.0036 - categorical_accuracy: 1.00 - ETA: 5s - loss: 0.0037 - categorical_accuracy: 1.00 - ETA: 4s - loss: 0.0037 - categorical_accuracy: 1.00 - ETA: 2s - loss: 0.0036 - categorical_accuracy: 1.00 - ETA: 1s - loss: 0.0036 - categorical_accuracy: 1.00 - 57s 163ms/step - loss: 0.0036 - categorical_accuracy: 1.0000 - val_loss: 0.0466 - val_categorical_accuracy: 0.9868\n",
      "Epoch 51/100\n",
      "349/349 [==============================] - ETA: 46s - loss: 0.0032 - categorical_accuracy: 1.000 - ETA: 45s - loss: 0.0030 - categorical_accuracy: 1.000 - ETA: 44s - loss: 0.0033 - categorical_accuracy: 1.000 - ETA: 43s - loss: 0.0033 - categorical_accuracy: 1.000 - ETA: 41s - loss: 0.0033 - categorical_accuracy: 1.000 - ETA: 40s - loss: 0.0033 - categorical_accuracy: 1.000 - ETA: 39s - loss: 0.0033 - categorical_accuracy: 1.000 - ETA: 38s - loss: 0.0034 - categorical_accuracy: 1.000 - ETA: 36s - loss: 0.0035 - categorical_accuracy: 1.000 - ETA: 35s - loss: 0.0035 - categorical_accuracy: 1.000 - ETA: 34s - loss: 0.0034 - categorical_accuracy: 1.000 - ETA: 33s - loss: 0.0034 - categorical_accuracy: 1.000 - ETA: 31s - loss: 0.0034 - categorical_accuracy: 1.000 - ETA: 30s - loss: 0.0034 - categorical_accuracy: 1.000 - ETA: 28s - loss: 0.0034 - categorical_accuracy: 1.000 - ETA: 27s - loss: 0.0033 - categorical_accuracy: 1.000 - ETA: 25s - loss: 0.0033 - categorical_accuracy: 1.000 - ETA: 24s - loss: 0.0033 - categorical_accuracy: 1.000 - ETA: 22s - loss: 0.0033 - categorical_accuracy: 1.000 - ETA: 21s - loss: 0.0033 - categorical_accuracy: 1.000 - ETA: 19s - loss: 0.0033 - categorical_accuracy: 1.000 - ETA: 18s - loss: 0.0033 - categorical_accuracy: 1.000 - ETA: 17s - loss: 0.0033 - categorical_accuracy: 1.000 - ETA: 15s - loss: 0.0033 - categorical_accuracy: 1.000 - ETA: 14s - loss: 0.0033 - categorical_accuracy: 1.000 - ETA: 12s - loss: 0.0033 - categorical_accuracy: 1.000 - ETA: 11s - loss: 0.0033 - categorical_accuracy: 1.000 - ETA: 9s - loss: 0.0033 - categorical_accuracy: 1.000 - ETA: 8s - loss: 0.0033 - categorical_accuracy: 1.00 - ETA: 6s - loss: 0.0033 - categorical_accuracy: 1.00 - ETA: 5s - loss: 0.0033 - categorical_accuracy: 1.00 - ETA: 4s - loss: 0.0033 - categorical_accuracy: 1.00 - ETA: 2s - loss: 0.0033 - categorical_accuracy: 1.00 - ETA: 1s - loss: 0.0033 - categorical_accuracy: 1.00 - 56s 160ms/step - loss: 0.0033 - categorical_accuracy: 1.0000 - val_loss: 0.0504 - val_categorical_accuracy: 0.9868\n",
      "Epoch 52/100\n",
      "349/349 [==============================] - ETA: 46s - loss: 0.0032 - categorical_accuracy: 1.000 - ETA: 44s - loss: 0.0033 - categorical_accuracy: 1.000 - ETA: 43s - loss: 0.0035 - categorical_accuracy: 1.000 - ETA: 42s - loss: 0.0037 - categorical_accuracy: 1.000 - ETA: 41s - loss: 0.0036 - categorical_accuracy: 1.000 - ETA: 39s - loss: 0.0035 - categorical_accuracy: 1.000 - ETA: 38s - loss: 0.0035 - categorical_accuracy: 1.000 - ETA: 37s - loss: 0.0035 - categorical_accuracy: 1.000 - ETA: 35s - loss: 0.0035 - categorical_accuracy: 1.000 - ETA: 34s - loss: 0.0035 - categorical_accuracy: 1.000 - ETA: 33s - loss: 0.0034 - categorical_accuracy: 1.000 - ETA: 31s - loss: 0.0034 - categorical_accuracy: 1.000 - ETA: 30s - loss: 0.0034 - categorical_accuracy: 1.000 - ETA: 28s - loss: 0.0034 - categorical_accuracy: 1.000 - ETA: 27s - loss: 0.0034 - categorical_accuracy: 1.000 - ETA: 26s - loss: 0.0033 - categorical_accuracy: 1.000 - ETA: 24s - loss: 0.0033 - categorical_accuracy: 1.000 - ETA: 23s - loss: 0.0033 - categorical_accuracy: 1.000 - ETA: 22s - loss: 0.0032 - categorical_accuracy: 1.000 - ETA: 21s - loss: 0.0032 - categorical_accuracy: 1.000 - ETA: 20s - loss: 0.0033 - categorical_accuracy: 1.000 - ETA: 18s - loss: 0.0032 - categorical_accuracy: 1.000 - ETA: 17s - loss: 0.0032 - categorical_accuracy: 1.000 - ETA: 16s - loss: 0.0032 - categorical_accuracy: 1.000 - ETA: 14s - loss: 0.0033 - categorical_accuracy: 1.000 - ETA: 13s - loss: 0.0033 - categorical_accuracy: 1.000 - ETA: 12s - loss: 0.0032 - categorical_accuracy: 1.000 - ETA: 10s - loss: 0.0032 - categorical_accuracy: 1.000 - ETA: 9s - loss: 0.0032 - categorical_accuracy: 1.000 - ETA: 7s - loss: 0.0032 - categorical_accuracy: 1.00 - ETA: 6s - loss: 0.0032 - categorical_accuracy: 1.00 - ETA: 4s - loss: 0.0032 - categorical_accuracy: 1.00 - ETA: 2s - loss: 0.0032 - categorical_accuracy: 1.00 - ETA: 1s - loss: 0.0032 - categorical_accuracy: 1.00 - 61s 176ms/step - loss: 0.0032 - categorical_accuracy: 1.0000 - val_loss: 0.0483 - val_categorical_accuracy: 0.9868\n"
     ]
    },
    {
     "name": "stdout",
     "output_type": "stream",
     "text": [
      "Epoch 53/100\n",
      "349/349 [==============================] - ETA: 50s - loss: 0.0031 - categorical_accuracy: 1.000 - ETA: 47s - loss: 0.0029 - categorical_accuracy: 1.000 - ETA: 45s - loss: 0.0027 - categorical_accuracy: 1.000 - ETA: 43s - loss: 0.0028 - categorical_accuracy: 1.000 - ETA: 44s - loss: 0.0027 - categorical_accuracy: 1.000 - ETA: 43s - loss: 0.0027 - categorical_accuracy: 1.000 - ETA: 42s - loss: 0.0027 - categorical_accuracy: 1.000 - ETA: 40s - loss: 0.0029 - categorical_accuracy: 1.000 - ETA: 39s - loss: 0.0030 - categorical_accuracy: 1.000 - ETA: 37s - loss: 0.0030 - categorical_accuracy: 1.000 - ETA: 36s - loss: 0.0030 - categorical_accuracy: 1.000 - ETA: 35s - loss: 0.0030 - categorical_accuracy: 1.000 - ETA: 33s - loss: 0.0030 - categorical_accuracy: 1.000 - ETA: 32s - loss: 0.0031 - categorical_accuracy: 1.000 - ETA: 30s - loss: 0.0031 - categorical_accuracy: 1.000 - ETA: 28s - loss: 0.0030 - categorical_accuracy: 1.000 - ETA: 27s - loss: 0.0030 - categorical_accuracy: 1.000 - ETA: 26s - loss: 0.0031 - categorical_accuracy: 1.000 - ETA: 24s - loss: 0.0030 - categorical_accuracy: 1.000 - ETA: 22s - loss: 0.0030 - categorical_accuracy: 1.000 - ETA: 21s - loss: 0.0030 - categorical_accuracy: 1.000 - ETA: 19s - loss: 0.0031 - categorical_accuracy: 1.000 - ETA: 18s - loss: 0.0031 - categorical_accuracy: 1.000 - ETA: 16s - loss: 0.0031 - categorical_accuracy: 1.000 - ETA: 14s - loss: 0.0030 - categorical_accuracy: 1.000 - ETA: 13s - loss: 0.0030 - categorical_accuracy: 1.000 - ETA: 12s - loss: 0.0030 - categorical_accuracy: 1.000 - ETA: 10s - loss: 0.0030 - categorical_accuracy: 1.000 - ETA: 8s - loss: 0.0030 - categorical_accuracy: 1.000 - ETA: 7s - loss: 0.0030 - categorical_accuracy: 1.00 - ETA: 5s - loss: 0.0030 - categorical_accuracy: 1.00 - ETA: 4s - loss: 0.0030 - categorical_accuracy: 1.00 - ETA: 2s - loss: 0.0030 - categorical_accuracy: 1.00 - ETA: 1s - loss: 0.0030 - categorical_accuracy: 1.00 - 60s 171ms/step - loss: 0.0030 - categorical_accuracy: 1.0000 - val_loss: 0.0500 - val_categorical_accuracy: 0.9868\n",
      "Epoch 54/100\n",
      "349/349 [==============================] - ETA: 50s - loss: 0.0027 - categorical_accuracy: 1.000 - ETA: 48s - loss: 0.0030 - categorical_accuracy: 1.000 - ETA: 46s - loss: 0.0028 - categorical_accuracy: 1.000 - ETA: 44s - loss: 0.0029 - categorical_accuracy: 1.000 - ETA: 43s - loss: 0.0030 - categorical_accuracy: 1.000 - ETA: 42s - loss: 0.0030 - categorical_accuracy: 1.000 - ETA: 40s - loss: 0.0029 - categorical_accuracy: 1.000 - ETA: 39s - loss: 0.0030 - categorical_accuracy: 1.000 - ETA: 37s - loss: 0.0030 - categorical_accuracy: 1.000 - ETA: 36s - loss: 0.0030 - categorical_accuracy: 1.000 - ETA: 34s - loss: 0.0031 - categorical_accuracy: 1.000 - ETA: 32s - loss: 0.0031 - categorical_accuracy: 1.000 - ETA: 31s - loss: 0.0031 - categorical_accuracy: 1.000 - ETA: 29s - loss: 0.0030 - categorical_accuracy: 1.000 - ETA: 28s - loss: 0.0030 - categorical_accuracy: 1.000 - ETA: 27s - loss: 0.0030 - categorical_accuracy: 1.000 - ETA: 25s - loss: 0.0030 - categorical_accuracy: 1.000 - ETA: 24s - loss: 0.0029 - categorical_accuracy: 1.000 - ETA: 22s - loss: 0.0029 - categorical_accuracy: 1.000 - ETA: 21s - loss: 0.0029 - categorical_accuracy: 1.000 - ETA: 19s - loss: 0.0029 - categorical_accuracy: 1.000 - ETA: 18s - loss: 0.0029 - categorical_accuracy: 1.000 - ETA: 17s - loss: 0.0029 - categorical_accuracy: 1.000 - ETA: 15s - loss: 0.0029 - categorical_accuracy: 1.000 - ETA: 14s - loss: 0.0029 - categorical_accuracy: 1.000 - ETA: 12s - loss: 0.0029 - categorical_accuracy: 1.000 - ETA: 11s - loss: 0.0029 - categorical_accuracy: 1.000 - ETA: 10s - loss: 0.0029 - categorical_accuracy: 1.000 - ETA: 8s - loss: 0.0029 - categorical_accuracy: 1.000 - ETA: 7s - loss: 0.0029 - categorical_accuracy: 1.00 - ETA: 5s - loss: 0.0029 - categorical_accuracy: 1.00 - ETA: 4s - loss: 0.0028 - categorical_accuracy: 1.00 - ETA: 2s - loss: 0.0028 - categorical_accuracy: 1.00 - ETA: 1s - loss: 0.0028 - categorical_accuracy: 1.00 - 58s 166ms/step - loss: 0.0028 - categorical_accuracy: 1.0000 - val_loss: 0.0482 - val_categorical_accuracy: 0.9868\n",
      "Epoch 55/100\n",
      "349/349 [==============================] - ETA: 48s - loss: 0.0026 - categorical_accuracy: 1.000 - ETA: 46s - loss: 0.0026 - categorical_accuracy: 1.000 - ETA: 45s - loss: 0.0032 - categorical_accuracy: 1.000 - ETA: 45s - loss: 0.0030 - categorical_accuracy: 1.000 - ETA: 44s - loss: 0.0031 - categorical_accuracy: 1.000 - ETA: 43s - loss: 0.0030 - categorical_accuracy: 1.000 - ETA: 42s - loss: 0.0028 - categorical_accuracy: 1.000 - ETA: 41s - loss: 0.0028 - categorical_accuracy: 1.000 - ETA: 39s - loss: 0.0028 - categorical_accuracy: 1.000 - ETA: 38s - loss: 0.0028 - categorical_accuracy: 1.000 - ETA: 36s - loss: 0.0028 - categorical_accuracy: 1.000 - ETA: 35s - loss: 0.0028 - categorical_accuracy: 1.000 - ETA: 33s - loss: 0.0029 - categorical_accuracy: 1.000 - ETA: 31s - loss: 0.0028 - categorical_accuracy: 1.000 - ETA: 30s - loss: 0.0028 - categorical_accuracy: 1.000 - ETA: 29s - loss: 0.0028 - categorical_accuracy: 1.000 - ETA: 27s - loss: 0.0028 - categorical_accuracy: 1.000 - ETA: 26s - loss: 0.0027 - categorical_accuracy: 1.000 - ETA: 24s - loss: 0.0027 - categorical_accuracy: 1.000 - ETA: 22s - loss: 0.0027 - categorical_accuracy: 1.000 - ETA: 21s - loss: 0.0027 - categorical_accuracy: 1.000 - ETA: 19s - loss: 0.0027 - categorical_accuracy: 1.000 - ETA: 18s - loss: 0.0027 - categorical_accuracy: 1.000 - ETA: 16s - loss: 0.0027 - categorical_accuracy: 1.000 - ETA: 15s - loss: 0.0027 - categorical_accuracy: 1.000 - ETA: 13s - loss: 0.0027 - categorical_accuracy: 1.000 - ETA: 12s - loss: 0.0027 - categorical_accuracy: 1.000 - ETA: 10s - loss: 0.0027 - categorical_accuracy: 1.000 - ETA: 9s - loss: 0.0027 - categorical_accuracy: 1.000 - ETA: 7s - loss: 0.0027 - categorical_accuracy: 1.00 - ETA: 6s - loss: 0.0027 - categorical_accuracy: 1.00 - ETA: 4s - loss: 0.0027 - categorical_accuracy: 1.00 - ETA: 2s - loss: 0.0027 - categorical_accuracy: 1.00 - ETA: 1s - loss: 0.0027 - categorical_accuracy: 1.00 - 61s 175ms/step - loss: 0.0027 - categorical_accuracy: 1.0000 - val_loss: 0.0498 - val_categorical_accuracy: 0.9868\n",
      "Epoch 56/100\n",
      "349/349 [==============================] - ETA: 48s - loss: 0.0030 - categorical_accuracy: 1.000 - ETA: 48s - loss: 0.0030 - categorical_accuracy: 1.000 - ETA: 46s - loss: 0.0029 - categorical_accuracy: 1.000 - ETA: 44s - loss: 0.0027 - categorical_accuracy: 1.000 - ETA: 42s - loss: 0.0027 - categorical_accuracy: 1.000 - ETA: 41s - loss: 0.0027 - categorical_accuracy: 1.000 - ETA: 40s - loss: 0.0026 - categorical_accuracy: 1.000 - ETA: 38s - loss: 0.0026 - categorical_accuracy: 1.000 - ETA: 36s - loss: 0.0026 - categorical_accuracy: 1.000 - ETA: 35s - loss: 0.0026 - categorical_accuracy: 1.000 - ETA: 33s - loss: 0.0025 - categorical_accuracy: 1.000 - ETA: 32s - loss: 0.0026 - categorical_accuracy: 1.000 - ETA: 31s - loss: 0.0026 - categorical_accuracy: 1.000 - ETA: 29s - loss: 0.0026 - categorical_accuracy: 1.000 - ETA: 28s - loss: 0.0025 - categorical_accuracy: 1.000 - ETA: 26s - loss: 0.0025 - categorical_accuracy: 1.000 - ETA: 25s - loss: 0.0025 - categorical_accuracy: 1.000 - ETA: 23s - loss: 0.0025 - categorical_accuracy: 1.000 - ETA: 22s - loss: 0.0025 - categorical_accuracy: 1.000 - ETA: 20s - loss: 0.0026 - categorical_accuracy: 1.000 - ETA: 19s - loss: 0.0025 - categorical_accuracy: 1.000 - ETA: 18s - loss: 0.0025 - categorical_accuracy: 1.000 - ETA: 16s - loss: 0.0025 - categorical_accuracy: 1.000 - ETA: 15s - loss: 0.0025 - categorical_accuracy: 1.000 - ETA: 13s - loss: 0.0025 - categorical_accuracy: 1.000 - ETA: 12s - loss: 0.0025 - categorical_accuracy: 1.000 - ETA: 11s - loss: 0.0025 - categorical_accuracy: 1.000 - ETA: 9s - loss: 0.0025 - categorical_accuracy: 1.000 - ETA: 8s - loss: 0.0025 - categorical_accuracy: 1.00 - ETA: 6s - loss: 0.0025 - categorical_accuracy: 1.00 - ETA: 5s - loss: 0.0025 - categorical_accuracy: 1.00 - ETA: 4s - loss: 0.0026 - categorical_accuracy: 1.00 - ETA: 2s - loss: 0.0026 - categorical_accuracy: 1.00 - ETA: 1s - loss: 0.0026 - categorical_accuracy: 1.00 - 55s 159ms/step - loss: 0.0026 - categorical_accuracy: 1.0000 - val_loss: 0.0524 - val_categorical_accuracy: 0.9868\n"
     ]
    },
    {
     "name": "stdout",
     "output_type": "stream",
     "text": [
      "Epoch 57/100\n",
      "349/349 [==============================] - ETA: 45s - loss: 0.0025 - categorical_accuracy: 1.000 - ETA: 44s - loss: 0.0025 - categorical_accuracy: 1.000 - ETA: 43s - loss: 0.0024 - categorical_accuracy: 1.000 - ETA: 42s - loss: 0.0024 - categorical_accuracy: 1.000 - ETA: 40s - loss: 0.0024 - categorical_accuracy: 1.000 - ETA: 39s - loss: 0.0024 - categorical_accuracy: 1.000 - ETA: 38s - loss: 0.0024 - categorical_accuracy: 1.000 - ETA: 37s - loss: 0.0024 - categorical_accuracy: 1.000 - ETA: 35s - loss: 0.0023 - categorical_accuracy: 1.000 - ETA: 34s - loss: 0.0023 - categorical_accuracy: 1.000 - ETA: 33s - loss: 0.0023 - categorical_accuracy: 1.000 - ETA: 31s - loss: 0.0023 - categorical_accuracy: 1.000 - ETA: 30s - loss: 0.0023 - categorical_accuracy: 1.000 - ETA: 29s - loss: 0.0023 - categorical_accuracy: 1.000 - ETA: 27s - loss: 0.0023 - categorical_accuracy: 1.000 - ETA: 26s - loss: 0.0023 - categorical_accuracy: 1.000 - ETA: 25s - loss: 0.0023 - categorical_accuracy: 1.000 - ETA: 24s - loss: 0.0023 - categorical_accuracy: 1.000 - ETA: 22s - loss: 0.0023 - categorical_accuracy: 1.000 - ETA: 21s - loss: 0.0023 - categorical_accuracy: 1.000 - ETA: 19s - loss: 0.0023 - categorical_accuracy: 1.000 - ETA: 18s - loss: 0.0023 - categorical_accuracy: 1.000 - ETA: 16s - loss: 0.0023 - categorical_accuracy: 1.000 - ETA: 15s - loss: 0.0023 - categorical_accuracy: 1.000 - ETA: 14s - loss: 0.0023 - categorical_accuracy: 1.000 - ETA: 12s - loss: 0.0023 - categorical_accuracy: 1.000 - ETA: 11s - loss: 0.0023 - categorical_accuracy: 1.000 - ETA: 9s - loss: 0.0023 - categorical_accuracy: 1.000 - ETA: 8s - loss: 0.0023 - categorical_accuracy: 1.00 - ETA: 7s - loss: 0.0023 - categorical_accuracy: 1.00 - ETA: 5s - loss: 0.0023 - categorical_accuracy: 1.00 - ETA: 4s - loss: 0.0023 - categorical_accuracy: 1.00 - ETA: 2s - loss: 0.0023 - categorical_accuracy: 1.00 - ETA: 1s - loss: 0.0023 - categorical_accuracy: 1.00 - 57s 164ms/step - loss: 0.0023 - categorical_accuracy: 1.0000 - val_loss: 0.0512 - val_categorical_accuracy: 0.9868\n",
      "Epoch 58/100\n",
      "349/349 [==============================] - ETA: 53s - loss: 0.0023 - categorical_accuracy: 1.000 - ETA: 52s - loss: 0.0026 - categorical_accuracy: 1.000 - ETA: 50s - loss: 0.0025 - categorical_accuracy: 1.000 - ETA: 48s - loss: 0.0023 - categorical_accuracy: 1.000 - ETA: 48s - loss: 0.0023 - categorical_accuracy: 1.000 - ETA: 46s - loss: 0.0023 - categorical_accuracy: 1.000 - ETA: 44s - loss: 0.0023 - categorical_accuracy: 1.000 - ETA: 42s - loss: 0.0023 - categorical_accuracy: 1.000 - ETA: 41s - loss: 0.0023 - categorical_accuracy: 1.000 - ETA: 39s - loss: 0.0023 - categorical_accuracy: 1.000 - ETA: 37s - loss: 0.0023 - categorical_accuracy: 1.000 - ETA: 36s - loss: 0.0023 - categorical_accuracy: 1.000 - ETA: 34s - loss: 0.0023 - categorical_accuracy: 1.000 - ETA: 33s - loss: 0.0023 - categorical_accuracy: 1.000 - ETA: 31s - loss: 0.0023 - categorical_accuracy: 1.000 - ETA: 30s - loss: 0.0023 - categorical_accuracy: 1.000 - ETA: 28s - loss: 0.0023 - categorical_accuracy: 1.000 - ETA: 27s - loss: 0.0023 - categorical_accuracy: 1.000 - ETA: 25s - loss: 0.0023 - categorical_accuracy: 1.000 - ETA: 24s - loss: 0.0023 - categorical_accuracy: 1.000 - ETA: 22s - loss: 0.0023 - categorical_accuracy: 1.000 - ETA: 20s - loss: 0.0023 - categorical_accuracy: 1.000 - ETA: 19s - loss: 0.0023 - categorical_accuracy: 1.000 - ETA: 17s - loss: 0.0023 - categorical_accuracy: 1.000 - ETA: 15s - loss: 0.0023 - categorical_accuracy: 1.000 - ETA: 14s - loss: 0.0023 - categorical_accuracy: 1.000 - ETA: 12s - loss: 0.0023 - categorical_accuracy: 1.000 - ETA: 11s - loss: 0.0023 - categorical_accuracy: 1.000 - ETA: 9s - loss: 0.0023 - categorical_accuracy: 1.000 - ETA: 8s - loss: 0.0023 - categorical_accuracy: 1.00 - ETA: 6s - loss: 0.0023 - categorical_accuracy: 1.00 - ETA: 4s - loss: 0.0023 - categorical_accuracy: 1.00 - ETA: 3s - loss: 0.0023 - categorical_accuracy: 1.00 - ETA: 1s - loss: 0.0023 - categorical_accuracy: 1.00 - 64s 184ms/step - loss: 0.0023 - categorical_accuracy: 1.0000 - val_loss: 0.0491 - val_categorical_accuracy: 0.9868\n",
      "Epoch 59/100\n",
      "349/349 [==============================] - ETA: 47s - loss: 0.0024 - categorical_accuracy: 1.000 - ETA: 46s - loss: 0.0022 - categorical_accuracy: 1.000 - ETA: 45s - loss: 0.0023 - categorical_accuracy: 1.000 - ETA: 44s - loss: 0.0021 - categorical_accuracy: 1.000 - ETA: 42s - loss: 0.0022 - categorical_accuracy: 1.000 - ETA: 41s - loss: 0.0021 - categorical_accuracy: 1.000 - ETA: 40s - loss: 0.0022 - categorical_accuracy: 1.000 - ETA: 39s - loss: 0.0022 - categorical_accuracy: 1.000 - ETA: 38s - loss: 0.0022 - categorical_accuracy: 1.000 - ETA: 37s - loss: 0.0022 - categorical_accuracy: 1.000 - ETA: 37s - loss: 0.0022 - categorical_accuracy: 1.000 - ETA: 35s - loss: 0.0021 - categorical_accuracy: 1.000 - ETA: 34s - loss: 0.0022 - categorical_accuracy: 1.000 - ETA: 33s - loss: 0.0021 - categorical_accuracy: 1.000 - ETA: 31s - loss: 0.0021 - categorical_accuracy: 1.000 - ETA: 29s - loss: 0.0021 - categorical_accuracy: 1.000 - ETA: 28s - loss: 0.0021 - categorical_accuracy: 1.000 - ETA: 26s - loss: 0.0021 - categorical_accuracy: 1.000 - ETA: 25s - loss: 0.0021 - categorical_accuracy: 1.000 - ETA: 23s - loss: 0.0021 - categorical_accuracy: 1.000 - ETA: 21s - loss: 0.0021 - categorical_accuracy: 1.000 - ETA: 20s - loss: 0.0021 - categorical_accuracy: 1.000 - ETA: 18s - loss: 0.0021 - categorical_accuracy: 1.000 - ETA: 17s - loss: 0.0021 - categorical_accuracy: 1.000 - ETA: 15s - loss: 0.0021 - categorical_accuracy: 1.000 - ETA: 13s - loss: 0.0021 - categorical_accuracy: 1.000 - ETA: 12s - loss: 0.0021 - categorical_accuracy: 1.000 - ETA: 10s - loss: 0.0021 - categorical_accuracy: 1.000 - ETA: 9s - loss: 0.0021 - categorical_accuracy: 1.000 - ETA: 7s - loss: 0.0021 - categorical_accuracy: 1.00 - ETA: 6s - loss: 0.0021 - categorical_accuracy: 1.00 - ETA: 4s - loss: 0.0021 - categorical_accuracy: 1.00 - ETA: 2s - loss: 0.0022 - categorical_accuracy: 1.00 - ETA: 1s - loss: 0.0021 - categorical_accuracy: 1.00 - 61s 174ms/step - loss: 0.0022 - categorical_accuracy: 1.0000 - val_loss: 0.0487 - val_categorical_accuracy: 0.9868\n",
      "Epoch 60/100\n",
      "349/349 [==============================] - ETA: 47s - loss: 0.0023 - categorical_accuracy: 1.000 - ETA: 49s - loss: 0.0022 - categorical_accuracy: 1.000 - ETA: 47s - loss: 0.0020 - categorical_accuracy: 1.000 - ETA: 46s - loss: 0.0022 - categorical_accuracy: 1.000 - ETA: 44s - loss: 0.0022 - categorical_accuracy: 1.000 - ETA: 43s - loss: 0.0021 - categorical_accuracy: 1.000 - ETA: 41s - loss: 0.0021 - categorical_accuracy: 1.000 - ETA: 39s - loss: 0.0021 - categorical_accuracy: 1.000 - ETA: 38s - loss: 0.0021 - categorical_accuracy: 1.000 - ETA: 37s - loss: 0.0021 - categorical_accuracy: 1.000 - ETA: 35s - loss: 0.0022 - categorical_accuracy: 1.000 - ETA: 34s - loss: 0.0022 - categorical_accuracy: 1.000 - ETA: 33s - loss: 0.0022 - categorical_accuracy: 1.000 - ETA: 32s - loss: 0.0022 - categorical_accuracy: 1.000 - ETA: 30s - loss: 0.0022 - categorical_accuracy: 1.000 - ETA: 28s - loss: 0.0021 - categorical_accuracy: 1.000 - ETA: 27s - loss: 0.0021 - categorical_accuracy: 1.000 - ETA: 25s - loss: 0.0021 - categorical_accuracy: 1.000 - ETA: 23s - loss: 0.0021 - categorical_accuracy: 1.000 - ETA: 22s - loss: 0.0021 - categorical_accuracy: 1.000 - ETA: 20s - loss: 0.0021 - categorical_accuracy: 1.000 - ETA: 19s - loss: 0.0021 - categorical_accuracy: 1.000 - ETA: 17s - loss: 0.0022 - categorical_accuracy: 1.000 - ETA: 16s - loss: 0.0021 - categorical_accuracy: 1.000 - ETA: 14s - loss: 0.0022 - categorical_accuracy: 1.000 - ETA: 13s - loss: 0.0022 - categorical_accuracy: 1.000 - ETA: 11s - loss: 0.0022 - categorical_accuracy: 1.000 - ETA: 10s - loss: 0.0022 - categorical_accuracy: 1.000 - ETA: 8s - loss: 0.0022 - categorical_accuracy: 1.000 - ETA: 7s - loss: 0.0022 - categorical_accuracy: 1.00 - ETA: 5s - loss: 0.0022 - categorical_accuracy: 1.00 - ETA: 4s - loss: 0.0022 - categorical_accuracy: 1.00 - ETA: 2s - loss: 0.0022 - categorical_accuracy: 1.00 - ETA: 1s - loss: 0.0021 - categorical_accuracy: 1.00 - 58s 166ms/step - loss: 0.0021 - categorical_accuracy: 1.0000 - val_loss: 0.0490 - val_categorical_accuracy: 0.9868\n"
     ]
    },
    {
     "name": "stdout",
     "output_type": "stream",
     "text": [
      "Epoch 61/100\n",
      "349/349 [==============================] - ETA: 46s - loss: 0.0026 - categorical_accuracy: 1.000 - ETA: 45s - loss: 0.0023 - categorical_accuracy: 1.000 - ETA: 44s - loss: 0.0021 - categorical_accuracy: 1.000 - ETA: 43s - loss: 0.0021 - categorical_accuracy: 1.000 - ETA: 42s - loss: 0.0021 - categorical_accuracy: 1.000 - ETA: 41s - loss: 0.0022 - categorical_accuracy: 1.000 - ETA: 40s - loss: 0.0022 - categorical_accuracy: 1.000 - ETA: 38s - loss: 0.0021 - categorical_accuracy: 1.000 - ETA: 37s - loss: 0.0022 - categorical_accuracy: 1.000 - ETA: 35s - loss: 0.0022 - categorical_accuracy: 1.000 - ETA: 34s - loss: 0.0021 - categorical_accuracy: 1.000 - ETA: 33s - loss: 0.0021 - categorical_accuracy: 1.000 - ETA: 31s - loss: 0.0021 - categorical_accuracy: 1.000 - ETA: 30s - loss: 0.0021 - categorical_accuracy: 1.000 - ETA: 28s - loss: 0.0021 - categorical_accuracy: 1.000 - ETA: 27s - loss: 0.0021 - categorical_accuracy: 1.000 - ETA: 26s - loss: 0.0021 - categorical_accuracy: 1.000 - ETA: 24s - loss: 0.0020 - categorical_accuracy: 1.000 - ETA: 23s - loss: 0.0020 - categorical_accuracy: 1.000 - ETA: 21s - loss: 0.0021 - categorical_accuracy: 1.000 - ETA: 20s - loss: 0.0020 - categorical_accuracy: 1.000 - ETA: 18s - loss: 0.0020 - categorical_accuracy: 1.000 - ETA: 17s - loss: 0.0021 - categorical_accuracy: 1.000 - ETA: 15s - loss: 0.0020 - categorical_accuracy: 1.000 - ETA: 14s - loss: 0.0020 - categorical_accuracy: 1.000 - ETA: 12s - loss: 0.0020 - categorical_accuracy: 1.000 - ETA: 11s - loss: 0.0020 - categorical_accuracy: 1.000 - ETA: 10s - loss: 0.0020 - categorical_accuracy: 1.000 - ETA: 8s - loss: 0.0020 - categorical_accuracy: 1.000 - ETA: 7s - loss: 0.0020 - categorical_accuracy: 1.00 - ETA: 5s - loss: 0.0020 - categorical_accuracy: 1.00 - ETA: 4s - loss: 0.0020 - categorical_accuracy: 1.00 - ETA: 2s - loss: 0.0020 - categorical_accuracy: 1.00 - ETA: 1s - loss: 0.0020 - categorical_accuracy: 1.00 - 59s 170ms/step - loss: 0.0020 - categorical_accuracy: 1.0000 - val_loss: 0.0505 - val_categorical_accuracy: 0.9868\n",
      "Epoch 62/100\n",
      "349/349 [==============================] - ETA: 48s - loss: 0.0020 - categorical_accuracy: 1.000 - ETA: 47s - loss: 0.0020 - categorical_accuracy: 1.000 - ETA: 49s - loss: 0.0022 - categorical_accuracy: 1.000 - ETA: 48s - loss: 0.0021 - categorical_accuracy: 1.000 - ETA: 48s - loss: 0.0021 - categorical_accuracy: 1.000 - ETA: 46s - loss: 0.0021 - categorical_accuracy: 1.000 - ETA: 45s - loss: 0.0021 - categorical_accuracy: 1.000 - ETA: 43s - loss: 0.0021 - categorical_accuracy: 1.000 - ETA: 41s - loss: 0.0022 - categorical_accuracy: 1.000 - ETA: 40s - loss: 0.0021 - categorical_accuracy: 1.000 - ETA: 38s - loss: 0.0021 - categorical_accuracy: 1.000 - ETA: 36s - loss: 0.0022 - categorical_accuracy: 1.000 - ETA: 34s - loss: 0.0022 - categorical_accuracy: 1.000 - ETA: 32s - loss: 0.0022 - categorical_accuracy: 1.000 - ETA: 31s - loss: 0.0021 - categorical_accuracy: 1.000 - ETA: 29s - loss: 0.0021 - categorical_accuracy: 1.000 - ETA: 27s - loss: 0.0021 - categorical_accuracy: 1.000 - ETA: 26s - loss: 0.0021 - categorical_accuracy: 1.000 - ETA: 24s - loss: 0.0021 - categorical_accuracy: 1.000 - ETA: 22s - loss: 0.0021 - categorical_accuracy: 1.000 - ETA: 21s - loss: 0.0021 - categorical_accuracy: 1.000 - ETA: 19s - loss: 0.0021 - categorical_accuracy: 1.000 - ETA: 18s - loss: 0.0021 - categorical_accuracy: 1.000 - ETA: 16s - loss: 0.0021 - categorical_accuracy: 1.000 - ETA: 15s - loss: 0.0021 - categorical_accuracy: 1.000 - ETA: 13s - loss: 0.0021 - categorical_accuracy: 1.000 - ETA: 12s - loss: 0.0021 - categorical_accuracy: 1.000 - ETA: 10s - loss: 0.0021 - categorical_accuracy: 1.000 - ETA: 9s - loss: 0.0021 - categorical_accuracy: 1.000 - ETA: 7s - loss: 0.0021 - categorical_accuracy: 1.00 - ETA: 6s - loss: 0.0021 - categorical_accuracy: 1.00 - ETA: 4s - loss: 0.0021 - categorical_accuracy: 1.00 - ETA: 2s - loss: 0.0020 - categorical_accuracy: 1.00 - ETA: 1s - loss: 0.0020 - categorical_accuracy: 1.00 - 63s 180ms/step - loss: 0.0020 - categorical_accuracy: 1.0000 - val_loss: 0.0499 - val_categorical_accuracy: 0.9868\n",
      "Epoch 63/100\n",
      "349/349 [==============================] - ETA: 56s - loss: 0.0015 - categorical_accuracy: 1.000 - ETA: 58s - loss: 0.0017 - categorical_accuracy: 1.000 - ETA: 55s - loss: 0.0022 - categorical_accuracy: 1.000 - ETA: 52s - loss: 0.0021 - categorical_accuracy: 1.000 - ETA: 50s - loss: 0.0021 - categorical_accuracy: 1.000 - ETA: 48s - loss: 0.0020 - categorical_accuracy: 1.000 - ETA: 46s - loss: 0.0020 - categorical_accuracy: 1.000 - ETA: 44s - loss: 0.0020 - categorical_accuracy: 1.000 - ETA: 42s - loss: 0.0020 - categorical_accuracy: 1.000 - ETA: 39s - loss: 0.0020 - categorical_accuracy: 1.000 - ETA: 38s - loss: 0.0020 - categorical_accuracy: 1.000 - ETA: 36s - loss: 0.0020 - categorical_accuracy: 1.000 - ETA: 34s - loss: 0.0020 - categorical_accuracy: 1.000 - ETA: 32s - loss: 0.0020 - categorical_accuracy: 1.000 - ETA: 30s - loss: 0.0020 - categorical_accuracy: 1.000 - ETA: 28s - loss: 0.0020 - categorical_accuracy: 1.000 - ETA: 27s - loss: 0.0020 - categorical_accuracy: 1.000 - ETA: 25s - loss: 0.0020 - categorical_accuracy: 1.000 - ETA: 24s - loss: 0.0020 - categorical_accuracy: 1.000 - ETA: 22s - loss: 0.0020 - categorical_accuracy: 1.000 - ETA: 21s - loss: 0.0020 - categorical_accuracy: 1.000 - ETA: 19s - loss: 0.0020 - categorical_accuracy: 1.000 - ETA: 18s - loss: 0.0020 - categorical_accuracy: 1.000 - ETA: 17s - loss: 0.0020 - categorical_accuracy: 1.000 - ETA: 15s - loss: 0.0020 - categorical_accuracy: 1.000 - ETA: 14s - loss: 0.0020 - categorical_accuracy: 1.000 - ETA: 12s - loss: 0.0020 - categorical_accuracy: 1.000 - ETA: 11s - loss: 0.0020 - categorical_accuracy: 1.000 - ETA: 9s - loss: 0.0020 - categorical_accuracy: 1.000 - ETA: 7s - loss: 0.0020 - categorical_accuracy: 1.00 - ETA: 6s - loss: 0.0020 - categorical_accuracy: 1.00 - ETA: 4s - loss: 0.0020 - categorical_accuracy: 1.00 - ETA: 3s - loss: 0.0019 - categorical_accuracy: 1.00 - ETA: 1s - loss: 0.0019 - categorical_accuracy: 1.00 - 62s 178ms/step - loss: 0.0019 - categorical_accuracy: 1.0000 - val_loss: 0.0503 - val_categorical_accuracy: 0.9868\n",
      "Epoch 64/100\n",
      "349/349 [==============================] - ETA: 47s - loss: 0.0020 - categorical_accuracy: 1.000 - ETA: 48s - loss: 0.0021 - categorical_accuracy: 1.000 - ETA: 48s - loss: 0.0020 - categorical_accuracy: 1.000 - ETA: 47s - loss: 0.0019 - categorical_accuracy: 1.000 - ETA: 46s - loss: 0.0019 - categorical_accuracy: 1.000 - ETA: 44s - loss: 0.0020 - categorical_accuracy: 1.000 - ETA: 43s - loss: 0.0019 - categorical_accuracy: 1.000 - ETA: 42s - loss: 0.0019 - categorical_accuracy: 1.000 - ETA: 40s - loss: 0.0019 - categorical_accuracy: 1.000 - ETA: 39s - loss: 0.0019 - categorical_accuracy: 1.000 - ETA: 37s - loss: 0.0019 - categorical_accuracy: 1.000 - ETA: 35s - loss: 0.0019 - categorical_accuracy: 1.000 - ETA: 33s - loss: 0.0018 - categorical_accuracy: 1.000 - ETA: 32s - loss: 0.0019 - categorical_accuracy: 1.000 - ETA: 30s - loss: 0.0018 - categorical_accuracy: 1.000 - ETA: 28s - loss: 0.0018 - categorical_accuracy: 1.000 - ETA: 27s - loss: 0.0018 - categorical_accuracy: 1.000 - ETA: 25s - loss: 0.0018 - categorical_accuracy: 1.000 - ETA: 23s - loss: 0.0018 - categorical_accuracy: 1.000 - ETA: 22s - loss: 0.0018 - categorical_accuracy: 1.000 - ETA: 20s - loss: 0.0018 - categorical_accuracy: 1.000 - ETA: 19s - loss: 0.0018 - categorical_accuracy: 1.000 - ETA: 17s - loss: 0.0018 - categorical_accuracy: 1.000 - ETA: 16s - loss: 0.0018 - categorical_accuracy: 1.000 - ETA: 14s - loss: 0.0018 - categorical_accuracy: 1.000 - ETA: 13s - loss: 0.0018 - categorical_accuracy: 1.000 - ETA: 11s - loss: 0.0018 - categorical_accuracy: 1.000 - ETA: 10s - loss: 0.0018 - categorical_accuracy: 1.000 - ETA: 8s - loss: 0.0018 - categorical_accuracy: 1.000 - ETA: 7s - loss: 0.0018 - categorical_accuracy: 1.00 - ETA: 5s - loss: 0.0018 - categorical_accuracy: 1.00 - ETA: 4s - loss: 0.0018 - categorical_accuracy: 1.00 - ETA: 2s - loss: 0.0018 - categorical_accuracy: 1.00 - ETA: 1s - loss: 0.0018 - categorical_accuracy: 1.00 - 59s 170ms/step - loss: 0.0018 - categorical_accuracy: 1.0000 - val_loss: 0.0505 - val_categorical_accuracy: 0.9868\n"
     ]
    },
    {
     "name": "stdout",
     "output_type": "stream",
     "text": [
      "Epoch 65/100\n",
      "349/349 [==============================] - ETA: 52s - loss: 0.0022 - categorical_accuracy: 1.000 - ETA: 49s - loss: 0.0018 - categorical_accuracy: 1.000 - ETA: 47s - loss: 0.0018 - categorical_accuracy: 1.000 - ETA: 46s - loss: 0.0020 - categorical_accuracy: 1.000 - ETA: 45s - loss: 0.0019 - categorical_accuracy: 1.000 - ETA: 44s - loss: 0.0019 - categorical_accuracy: 1.000 - ETA: 43s - loss: 0.0019 - categorical_accuracy: 1.000 - ETA: 41s - loss: 0.0018 - categorical_accuracy: 1.000 - ETA: 39s - loss: 0.0018 - categorical_accuracy: 1.000 - ETA: 37s - loss: 0.0018 - categorical_accuracy: 1.000 - ETA: 36s - loss: 0.0018 - categorical_accuracy: 1.000 - ETA: 34s - loss: 0.0018 - categorical_accuracy: 1.000 - ETA: 32s - loss: 0.0018 - categorical_accuracy: 1.000 - ETA: 31s - loss: 0.0018 - categorical_accuracy: 1.000 - ETA: 29s - loss: 0.0018 - categorical_accuracy: 1.000 - ETA: 27s - loss: 0.0018 - categorical_accuracy: 1.000 - ETA: 26s - loss: 0.0018 - categorical_accuracy: 1.000 - ETA: 25s - loss: 0.0018 - categorical_accuracy: 1.000 - ETA: 24s - loss: 0.0018 - categorical_accuracy: 1.000 - ETA: 22s - loss: 0.0018 - categorical_accuracy: 1.000 - ETA: 21s - loss: 0.0017 - categorical_accuracy: 1.000 - ETA: 19s - loss: 0.0017 - categorical_accuracy: 1.000 - ETA: 18s - loss: 0.0017 - categorical_accuracy: 1.000 - ETA: 16s - loss: 0.0017 - categorical_accuracy: 1.000 - ETA: 15s - loss: 0.0017 - categorical_accuracy: 1.000 - ETA: 13s - loss: 0.0017 - categorical_accuracy: 1.000 - ETA: 12s - loss: 0.0017 - categorical_accuracy: 1.000 - ETA: 10s - loss: 0.0017 - categorical_accuracy: 1.000 - ETA: 9s - loss: 0.0017 - categorical_accuracy: 1.000 - ETA: 7s - loss: 0.0017 - categorical_accuracy: 1.00 - ETA: 6s - loss: 0.0017 - categorical_accuracy: 1.00 - ETA: 4s - loss: 0.0017 - categorical_accuracy: 1.00 - ETA: 2s - loss: 0.0017 - categorical_accuracy: 1.00 - ETA: 1s - loss: 0.0017 - categorical_accuracy: 1.00 - 62s 179ms/step - loss: 0.0017 - categorical_accuracy: 1.0000 - val_loss: 0.0522 - val_categorical_accuracy: 0.9868\n",
      "Epoch 66/100\n",
      "349/349 [==============================] - ETA: 57s - loss: 0.0016 - categorical_accuracy: 1.000 - ETA: 58s - loss: 0.0015 - categorical_accuracy: 1.000 - ETA: 57s - loss: 0.0014 - categorical_accuracy: 1.000 - ETA: 53s - loss: 0.0014 - categorical_accuracy: 1.000 - ETA: 52s - loss: 0.0016 - categorical_accuracy: 1.000 - ETA: 51s - loss: 0.0016 - categorical_accuracy: 1.000 - ETA: 48s - loss: 0.0016 - categorical_accuracy: 1.000 - ETA: 45s - loss: 0.0016 - categorical_accuracy: 1.000 - ETA: 44s - loss: 0.0016 - categorical_accuracy: 1.000 - ETA: 42s - loss: 0.0016 - categorical_accuracy: 1.000 - ETA: 41s - loss: 0.0016 - categorical_accuracy: 1.000 - ETA: 39s - loss: 0.0016 - categorical_accuracy: 1.000 - ETA: 37s - loss: 0.0016 - categorical_accuracy: 1.000 - ETA: 35s - loss: 0.0016 - categorical_accuracy: 1.000 - ETA: 33s - loss: 0.0016 - categorical_accuracy: 1.000 - ETA: 31s - loss: 0.0016 - categorical_accuracy: 1.000 - ETA: 29s - loss: 0.0017 - categorical_accuracy: 1.000 - ETA: 27s - loss: 0.0017 - categorical_accuracy: 1.000 - ETA: 26s - loss: 0.0017 - categorical_accuracy: 1.000 - ETA: 24s - loss: 0.0017 - categorical_accuracy: 1.000 - ETA: 22s - loss: 0.0016 - categorical_accuracy: 1.000 - ETA: 20s - loss: 0.0016 - categorical_accuracy: 1.000 - ETA: 19s - loss: 0.0016 - categorical_accuracy: 1.000 - ETA: 17s - loss: 0.0016 - categorical_accuracy: 1.000 - ETA: 16s - loss: 0.0016 - categorical_accuracy: 1.000 - ETA: 14s - loss: 0.0016 - categorical_accuracy: 1.000 - ETA: 12s - loss: 0.0016 - categorical_accuracy: 1.000 - ETA: 11s - loss: 0.0016 - categorical_accuracy: 1.000 - ETA: 9s - loss: 0.0016 - categorical_accuracy: 1.000 - ETA: 8s - loss: 0.0016 - categorical_accuracy: 1.00 - ETA: 6s - loss: 0.0016 - categorical_accuracy: 1.00 - ETA: 4s - loss: 0.0016 - categorical_accuracy: 1.00 - ETA: 3s - loss: 0.0016 - categorical_accuracy: 1.00 - ETA: 1s - loss: 0.0016 - categorical_accuracy: 1.00 - 64s 182ms/step - loss: 0.0016 - categorical_accuracy: 1.0000 - val_loss: 0.0516 - val_categorical_accuracy: 0.9868\n",
      "Epoch 67/100\n",
      "349/349 [==============================] - ETA: 54s - loss: 0.0022 - categorical_accuracy: 1.000 - ETA: 52s - loss: 0.0018 - categorical_accuracy: 1.000 - ETA: 49s - loss: 0.0016 - categorical_accuracy: 1.000 - ETA: 48s - loss: 0.0016 - categorical_accuracy: 1.000 - ETA: 47s - loss: 0.0017 - categorical_accuracy: 1.000 - ETA: 45s - loss: 0.0017 - categorical_accuracy: 1.000 - ETA: 43s - loss: 0.0018 - categorical_accuracy: 1.000 - ETA: 42s - loss: 0.0018 - categorical_accuracy: 1.000 - ETA: 40s - loss: 0.0018 - categorical_accuracy: 1.000 - ETA: 38s - loss: 0.0017 - categorical_accuracy: 1.000 - ETA: 36s - loss: 0.0017 - categorical_accuracy: 1.000 - ETA: 35s - loss: 0.0017 - categorical_accuracy: 1.000 - ETA: 33s - loss: 0.0017 - categorical_accuracy: 1.000 - ETA: 31s - loss: 0.0016 - categorical_accuracy: 1.000 - ETA: 29s - loss: 0.0017 - categorical_accuracy: 1.000 - ETA: 28s - loss: 0.0016 - categorical_accuracy: 1.000 - ETA: 26s - loss: 0.0016 - categorical_accuracy: 1.000 - ETA: 25s - loss: 0.0016 - categorical_accuracy: 1.000 - ETA: 23s - loss: 0.0016 - categorical_accuracy: 1.000 - ETA: 22s - loss: 0.0016 - categorical_accuracy: 1.000 - ETA: 20s - loss: 0.0017 - categorical_accuracy: 1.000 - ETA: 18s - loss: 0.0016 - categorical_accuracy: 1.000 - ETA: 17s - loss: 0.0017 - categorical_accuracy: 1.000 - ETA: 16s - loss: 0.0017 - categorical_accuracy: 1.000 - ETA: 14s - loss: 0.0017 - categorical_accuracy: 1.000 - ETA: 13s - loss: 0.0017 - categorical_accuracy: 1.000 - ETA: 11s - loss: 0.0017 - categorical_accuracy: 1.000 - ETA: 10s - loss: 0.0016 - categorical_accuracy: 1.000 - ETA: 8s - loss: 0.0016 - categorical_accuracy: 1.000 - ETA: 7s - loss: 0.0016 - categorical_accuracy: 1.00 - ETA: 5s - loss: 0.0016 - categorical_accuracy: 1.00 - ETA: 4s - loss: 0.0016 - categorical_accuracy: 1.00 - ETA: 2s - loss: 0.0016 - categorical_accuracy: 1.00 - ETA: 1s - loss: 0.0016 - categorical_accuracy: 1.00 - 57s 164ms/step - loss: 0.0016 - categorical_accuracy: 1.0000 - val_loss: 0.0518 - val_categorical_accuracy: 0.9868\n",
      "Epoch 68/100\n",
      "349/349 [==============================] - ETA: 47s - loss: 0.0016 - categorical_accuracy: 1.000 - ETA: 46s - loss: 0.0016 - categorical_accuracy: 1.000 - ETA: 45s - loss: 0.0015 - categorical_accuracy: 1.000 - ETA: 43s - loss: 0.0015 - categorical_accuracy: 1.000 - ETA: 42s - loss: 0.0016 - categorical_accuracy: 1.000 - ETA: 40s - loss: 0.0016 - categorical_accuracy: 1.000 - ETA: 39s - loss: 0.0017 - categorical_accuracy: 1.000 - ETA: 37s - loss: 0.0016 - categorical_accuracy: 1.000 - ETA: 37s - loss: 0.0017 - categorical_accuracy: 1.000 - ETA: 36s - loss: 0.0017 - categorical_accuracy: 1.000 - ETA: 35s - loss: 0.0017 - categorical_accuracy: 1.000 - ETA: 34s - loss: 0.0017 - categorical_accuracy: 1.000 - ETA: 33s - loss: 0.0017 - categorical_accuracy: 1.000 - ETA: 32s - loss: 0.0017 - categorical_accuracy: 1.000 - ETA: 31s - loss: 0.0017 - categorical_accuracy: 1.000 - ETA: 29s - loss: 0.0017 - categorical_accuracy: 1.000 - ETA: 28s - loss: 0.0017 - categorical_accuracy: 1.000 - ETA: 26s - loss: 0.0017 - categorical_accuracy: 1.000 - ETA: 25s - loss: 0.0017 - categorical_accuracy: 1.000 - ETA: 23s - loss: 0.0016 - categorical_accuracy: 1.000 - ETA: 21s - loss: 0.0017 - categorical_accuracy: 1.000 - ETA: 20s - loss: 0.0016 - categorical_accuracy: 1.000 - ETA: 18s - loss: 0.0017 - categorical_accuracy: 1.000 - ETA: 16s - loss: 0.0016 - categorical_accuracy: 1.000 - ETA: 15s - loss: 0.0017 - categorical_accuracy: 1.000 - ETA: 13s - loss: 0.0017 - categorical_accuracy: 1.000 - ETA: 12s - loss: 0.0017 - categorical_accuracy: 1.000 - ETA: 10s - loss: 0.0017 - categorical_accuracy: 1.000 - ETA: 9s - loss: 0.0017 - categorical_accuracy: 1.000 - ETA: 7s - loss: 0.0016 - categorical_accuracy: 1.00 - ETA: 5s - loss: 0.0017 - categorical_accuracy: 1.00 - ETA: 4s - loss: 0.0016 - categorical_accuracy: 1.00 - ETA: 2s - loss: 0.0016 - categorical_accuracy: 1.00 - ETA: 1s - loss: 0.0016 - categorical_accuracy: 1.00 - 59s 170ms/step - loss: 0.0016 - categorical_accuracy: 1.0000 - val_loss: 0.0515 - val_categorical_accuracy: 0.9868\n"
     ]
    },
    {
     "name": "stdout",
     "output_type": "stream",
     "text": [
      "Epoch 69/100\n",
      "349/349 [==============================] - ETA: 47s - loss: 0.0027 - categorical_accuracy: 1.000 - ETA: 45s - loss: 0.0019 - categorical_accuracy: 1.000 - ETA: 46s - loss: 0.0019 - categorical_accuracy: 1.000 - ETA: 45s - loss: 0.0018 - categorical_accuracy: 1.000 - ETA: 45s - loss: 0.0017 - categorical_accuracy: 1.000 - ETA: 44s - loss: 0.0017 - categorical_accuracy: 1.000 - ETA: 43s - loss: 0.0017 - categorical_accuracy: 1.000 - ETA: 41s - loss: 0.0017 - categorical_accuracy: 1.000 - ETA: 39s - loss: 0.0017 - categorical_accuracy: 1.000 - ETA: 38s - loss: 0.0017 - categorical_accuracy: 1.000 - ETA: 37s - loss: 0.0017 - categorical_accuracy: 1.000 - ETA: 35s - loss: 0.0017 - categorical_accuracy: 1.000 - ETA: 34s - loss: 0.0016 - categorical_accuracy: 1.000 - ETA: 32s - loss: 0.0016 - categorical_accuracy: 1.000 - ETA: 31s - loss: 0.0017 - categorical_accuracy: 1.000 - ETA: 29s - loss: 0.0017 - categorical_accuracy: 1.000 - ETA: 27s - loss: 0.0016 - categorical_accuracy: 1.000 - ETA: 26s - loss: 0.0016 - categorical_accuracy: 1.000 - ETA: 24s - loss: 0.0016 - categorical_accuracy: 1.000 - ETA: 23s - loss: 0.0016 - categorical_accuracy: 1.000 - ETA: 21s - loss: 0.0016 - categorical_accuracy: 1.000 - ETA: 20s - loss: 0.0016 - categorical_accuracy: 1.000 - ETA: 18s - loss: 0.0016 - categorical_accuracy: 1.000 - ETA: 17s - loss: 0.0016 - categorical_accuracy: 1.000 - ETA: 15s - loss: 0.0016 - categorical_accuracy: 1.000 - ETA: 13s - loss: 0.0016 - categorical_accuracy: 1.000 - ETA: 12s - loss: 0.0016 - categorical_accuracy: 1.000 - ETA: 10s - loss: 0.0016 - categorical_accuracy: 1.000 - ETA: 9s - loss: 0.0016 - categorical_accuracy: 1.000 - ETA: 7s - loss: 0.0016 - categorical_accuracy: 1.00 - ETA: 6s - loss: 0.0016 - categorical_accuracy: 1.00 - ETA: 4s - loss: 0.0016 - categorical_accuracy: 1.00 - ETA: 2s - loss: 0.0016 - categorical_accuracy: 1.00 - ETA: 1s - loss: 0.0016 - categorical_accuracy: 1.00 - 61s 176ms/step - loss: 0.0016 - categorical_accuracy: 1.0000 - val_loss: 0.0523 - val_categorical_accuracy: 0.9868\n",
      "Epoch 70/100\n",
      "349/349 [==============================] - ETA: 49s - loss: 0.0017 - categorical_accuracy: 1.000 - ETA: 50s - loss: 0.0016 - categorical_accuracy: 1.000 - ETA: 47s - loss: 0.0016 - categorical_accuracy: 1.000 - ETA: 45s - loss: 0.0017 - categorical_accuracy: 1.000 - ETA: 43s - loss: 0.0016 - categorical_accuracy: 1.000 - ETA: 42s - loss: 0.0017 - categorical_accuracy: 1.000 - ETA: 41s - loss: 0.0017 - categorical_accuracy: 1.000 - ETA: 40s - loss: 0.0018 - categorical_accuracy: 1.000 - ETA: 38s - loss: 0.0017 - categorical_accuracy: 1.000 - ETA: 37s - loss: 0.0017 - categorical_accuracy: 1.000 - ETA: 35s - loss: 0.0017 - categorical_accuracy: 1.000 - ETA: 33s - loss: 0.0017 - categorical_accuracy: 1.000 - ETA: 32s - loss: 0.0017 - categorical_accuracy: 1.000 - ETA: 30s - loss: 0.0017 - categorical_accuracy: 1.000 - ETA: 29s - loss: 0.0017 - categorical_accuracy: 1.000 - ETA: 27s - loss: 0.0017 - categorical_accuracy: 1.000 - ETA: 26s - loss: 0.0017 - categorical_accuracy: 1.000 - ETA: 24s - loss: 0.0016 - categorical_accuracy: 1.000 - ETA: 23s - loss: 0.0016 - categorical_accuracy: 1.000 - ETA: 21s - loss: 0.0016 - categorical_accuracy: 1.000 - ETA: 20s - loss: 0.0016 - categorical_accuracy: 1.000 - ETA: 18s - loss: 0.0016 - categorical_accuracy: 1.000 - ETA: 17s - loss: 0.0016 - categorical_accuracy: 1.000 - ETA: 15s - loss: 0.0016 - categorical_accuracy: 1.000 - ETA: 14s - loss: 0.0016 - categorical_accuracy: 1.000 - ETA: 13s - loss: 0.0016 - categorical_accuracy: 1.000 - ETA: 11s - loss: 0.0016 - categorical_accuracy: 1.000 - ETA: 10s - loss: 0.0016 - categorical_accuracy: 1.000 - ETA: 8s - loss: 0.0016 - categorical_accuracy: 1.000 - ETA: 7s - loss: 0.0016 - categorical_accuracy: 1.00 - ETA: 5s - loss: 0.0016 - categorical_accuracy: 1.00 - ETA: 4s - loss: 0.0016 - categorical_accuracy: 1.00 - ETA: 2s - loss: 0.0016 - categorical_accuracy: 1.00 - ETA: 1s - loss: 0.0015 - categorical_accuracy: 1.00 - 61s 174ms/step - loss: 0.0015 - categorical_accuracy: 1.0000 - val_loss: 0.0524 - val_categorical_accuracy: 0.9868\n",
      "Epoch 71/100\n",
      "349/349 [==============================] - ETA: 50s - loss: 0.0015 - categorical_accuracy: 1.000 - ETA: 51s - loss: 0.0013 - categorical_accuracy: 1.000 - ETA: 50s - loss: 0.0015 - categorical_accuracy: 1.000 - ETA: 48s - loss: 0.0015 - categorical_accuracy: 1.000 - ETA: 48s - loss: 0.0015 - categorical_accuracy: 1.000 - ETA: 47s - loss: 0.0015 - categorical_accuracy: 1.000 - ETA: 46s - loss: 0.0016 - categorical_accuracy: 1.000 - ETA: 43s - loss: 0.0016 - categorical_accuracy: 1.000 - ETA: 42s - loss: 0.0016 - categorical_accuracy: 1.000 - ETA: 40s - loss: 0.0015 - categorical_accuracy: 1.000 - ETA: 39s - loss: 0.0015 - categorical_accuracy: 1.000 - ETA: 37s - loss: 0.0015 - categorical_accuracy: 1.000 - ETA: 35s - loss: 0.0015 - categorical_accuracy: 1.000 - ETA: 33s - loss: 0.0015 - categorical_accuracy: 1.000 - ETA: 31s - loss: 0.0014 - categorical_accuracy: 1.000 - ETA: 29s - loss: 0.0015 - categorical_accuracy: 1.000 - ETA: 28s - loss: 0.0015 - categorical_accuracy: 1.000 - ETA: 26s - loss: 0.0015 - categorical_accuracy: 1.000 - ETA: 24s - loss: 0.0014 - categorical_accuracy: 1.000 - ETA: 23s - loss: 0.0014 - categorical_accuracy: 1.000 - ETA: 21s - loss: 0.0014 - categorical_accuracy: 1.000 - ETA: 19s - loss: 0.0014 - categorical_accuracy: 1.000 - ETA: 18s - loss: 0.0014 - categorical_accuracy: 1.000 - ETA: 16s - loss: 0.0014 - categorical_accuracy: 1.000 - ETA: 15s - loss: 0.0014 - categorical_accuracy: 1.000 - ETA: 13s - loss: 0.0014 - categorical_accuracy: 1.000 - ETA: 11s - loss: 0.0014 - categorical_accuracy: 1.000 - ETA: 10s - loss: 0.0014 - categorical_accuracy: 1.000 - ETA: 8s - loss: 0.0014 - categorical_accuracy: 1.000 - ETA: 7s - loss: 0.0014 - categorical_accuracy: 1.00 - ETA: 5s - loss: 0.0014 - categorical_accuracy: 1.00 - ETA: 4s - loss: 0.0014 - categorical_accuracy: 1.00 - ETA: 2s - loss: 0.0014 - categorical_accuracy: 1.00 - ETA: 1s - loss: 0.0014 - categorical_accuracy: 1.00 - 58s 167ms/step - loss: 0.0014 - categorical_accuracy: 1.0000 - val_loss: 0.0510 - val_categorical_accuracy: 0.9868\n",
      "Epoch 72/100\n",
      "349/349 [==============================] - ETA: 46s - loss: 0.0014 - categorical_accuracy: 1.000 - ETA: 45s - loss: 0.0015 - categorical_accuracy: 1.000 - ETA: 43s - loss: 0.0014 - categorical_accuracy: 1.000 - ETA: 42s - loss: 0.0015 - categorical_accuracy: 1.000 - ETA: 41s - loss: 0.0015 - categorical_accuracy: 1.000 - ETA: 39s - loss: 0.0014 - categorical_accuracy: 1.000 - ETA: 38s - loss: 0.0015 - categorical_accuracy: 1.000 - ETA: 37s - loss: 0.0015 - categorical_accuracy: 1.000 - ETA: 35s - loss: 0.0015 - categorical_accuracy: 1.000 - ETA: 34s - loss: 0.0015 - categorical_accuracy: 1.000 - ETA: 32s - loss: 0.0015 - categorical_accuracy: 1.000 - ETA: 31s - loss: 0.0015 - categorical_accuracy: 1.000 - ETA: 30s - loss: 0.0015 - categorical_accuracy: 1.000 - ETA: 28s - loss: 0.0015 - categorical_accuracy: 1.000 - ETA: 27s - loss: 0.0015 - categorical_accuracy: 1.000 - ETA: 26s - loss: 0.0014 - categorical_accuracy: 1.000 - ETA: 24s - loss: 0.0014 - categorical_accuracy: 1.000 - ETA: 23s - loss: 0.0014 - categorical_accuracy: 1.000 - ETA: 21s - loss: 0.0014 - categorical_accuracy: 1.000 - ETA: 20s - loss: 0.0014 - categorical_accuracy: 1.000 - ETA: 19s - loss: 0.0014 - categorical_accuracy: 1.000 - ETA: 17s - loss: 0.0014 - categorical_accuracy: 1.000 - ETA: 16s - loss: 0.0014 - categorical_accuracy: 1.000 - ETA: 15s - loss: 0.0014 - categorical_accuracy: 1.000 - ETA: 13s - loss: 0.0014 - categorical_accuracy: 1.000 - ETA: 12s - loss: 0.0014 - categorical_accuracy: 1.000 - ETA: 10s - loss: 0.0014 - categorical_accuracy: 1.000 - ETA: 9s - loss: 0.0014 - categorical_accuracy: 1.000 - ETA: 8s - loss: 0.0014 - categorical_accuracy: 1.00 - ETA: 6s - loss: 0.0014 - categorical_accuracy: 1.00 - ETA: 5s - loss: 0.0014 - categorical_accuracy: 1.00 - ETA: 3s - loss: 0.0014 - categorical_accuracy: 1.00 - ETA: 2s - loss: 0.0014 - categorical_accuracy: 1.00 - ETA: 1s - loss: 0.0014 - categorical_accuracy: 1.00 - 54s 155ms/step - loss: 0.0014 - categorical_accuracy: 1.0000 - val_loss: 0.0519 - val_categorical_accuracy: 0.9868\n"
     ]
    },
    {
     "name": "stdout",
     "output_type": "stream",
     "text": [
      "Epoch 73/100\n",
      "349/349 [==============================] - ETA: 46s - loss: 0.0013 - categorical_accuracy: 1.000 - ETA: 44s - loss: 0.0013 - categorical_accuracy: 1.000 - ETA: 43s - loss: 0.0014 - categorical_accuracy: 1.000 - ETA: 42s - loss: 0.0014 - categorical_accuracy: 1.000 - ETA: 41s - loss: 0.0014 - categorical_accuracy: 1.000 - ETA: 39s - loss: 0.0013 - categorical_accuracy: 1.000 - ETA: 38s - loss: 0.0014 - categorical_accuracy: 1.000 - ETA: 36s - loss: 0.0013 - categorical_accuracy: 1.000 - ETA: 35s - loss: 0.0013 - categorical_accuracy: 1.000 - ETA: 34s - loss: 0.0014 - categorical_accuracy: 1.000 - ETA: 32s - loss: 0.0014 - categorical_accuracy: 1.000 - ETA: 31s - loss: 0.0013 - categorical_accuracy: 1.000 - ETA: 30s - loss: 0.0013 - categorical_accuracy: 1.000 - ETA: 28s - loss: 0.0013 - categorical_accuracy: 1.000 - ETA: 27s - loss: 0.0013 - categorical_accuracy: 1.000 - ETA: 26s - loss: 0.0014 - categorical_accuracy: 1.000 - ETA: 24s - loss: 0.0013 - categorical_accuracy: 1.000 - ETA: 23s - loss: 0.0013 - categorical_accuracy: 1.000 - ETA: 21s - loss: 0.0013 - categorical_accuracy: 1.000 - ETA: 20s - loss: 0.0013 - categorical_accuracy: 1.000 - ETA: 19s - loss: 0.0013 - categorical_accuracy: 1.000 - ETA: 17s - loss: 0.0013 - categorical_accuracy: 1.000 - ETA: 16s - loss: 0.0013 - categorical_accuracy: 1.000 - ETA: 15s - loss: 0.0013 - categorical_accuracy: 1.000 - ETA: 13s - loss: 0.0013 - categorical_accuracy: 1.000 - ETA: 12s - loss: 0.0013 - categorical_accuracy: 1.000 - ETA: 10s - loss: 0.0013 - categorical_accuracy: 1.000 - ETA: 9s - loss: 0.0013 - categorical_accuracy: 1.000 - ETA: 8s - loss: 0.0013 - categorical_accuracy: 1.00 - ETA: 6s - loss: 0.0013 - categorical_accuracy: 1.00 - ETA: 5s - loss: 0.0013 - categorical_accuracy: 1.00 - ETA: 3s - loss: 0.0013 - categorical_accuracy: 1.00 - ETA: 2s - loss: 0.0014 - categorical_accuracy: 1.00 - ETA: 1s - loss: 0.0014 - categorical_accuracy: 1.00 - 54s 155ms/step - loss: 0.0014 - categorical_accuracy: 1.0000 - val_loss: 0.0522 - val_categorical_accuracy: 0.9868\n",
      "Epoch 74/100\n",
      "349/349 [==============================] - ETA: 44s - loss: 0.0016 - categorical_accuracy: 1.000 - ETA: 43s - loss: 0.0014 - categorical_accuracy: 1.000 - ETA: 42s - loss: 0.0014 - categorical_accuracy: 1.000 - ETA: 41s - loss: 0.0013 - categorical_accuracy: 1.000 - ETA: 40s - loss: 0.0013 - categorical_accuracy: 1.000 - ETA: 39s - loss: 0.0013 - categorical_accuracy: 1.000 - ETA: 37s - loss: 0.0013 - categorical_accuracy: 1.000 - ETA: 36s - loss: 0.0013 - categorical_accuracy: 1.000 - ETA: 34s - loss: 0.0013 - categorical_accuracy: 1.000 - ETA: 33s - loss: 0.0013 - categorical_accuracy: 1.000 - ETA: 32s - loss: 0.0013 - categorical_accuracy: 1.000 - ETA: 30s - loss: 0.0013 - categorical_accuracy: 1.000 - ETA: 29s - loss: 0.0013 - categorical_accuracy: 1.000 - ETA: 28s - loss: 0.0013 - categorical_accuracy: 1.000 - ETA: 27s - loss: 0.0013 - categorical_accuracy: 1.000 - ETA: 25s - loss: 0.0013 - categorical_accuracy: 1.000 - ETA: 24s - loss: 0.0013 - categorical_accuracy: 1.000 - ETA: 22s - loss: 0.0013 - categorical_accuracy: 1.000 - ETA: 21s - loss: 0.0013 - categorical_accuracy: 1.000 - ETA: 20s - loss: 0.0013 - categorical_accuracy: 1.000 - ETA: 18s - loss: 0.0013 - categorical_accuracy: 1.000 - ETA: 17s - loss: 0.0013 - categorical_accuracy: 1.000 - ETA: 16s - loss: 0.0013 - categorical_accuracy: 1.000 - ETA: 14s - loss: 0.0013 - categorical_accuracy: 1.000 - ETA: 13s - loss: 0.0013 - categorical_accuracy: 1.000 - ETA: 12s - loss: 0.0013 - categorical_accuracy: 1.000 - ETA: 10s - loss: 0.0013 - categorical_accuracy: 1.000 - ETA: 9s - loss: 0.0013 - categorical_accuracy: 1.000 - ETA: 8s - loss: 0.0013 - categorical_accuracy: 1.00 - ETA: 6s - loss: 0.0013 - categorical_accuracy: 1.00 - ETA: 5s - loss: 0.0013 - categorical_accuracy: 1.00 - ETA: 3s - loss: 0.0013 - categorical_accuracy: 1.00 - ETA: 2s - loss: 0.0013 - categorical_accuracy: 1.00 - ETA: 1s - loss: 0.0013 - categorical_accuracy: 1.00 - 54s 154ms/step - loss: 0.0013 - categorical_accuracy: 1.0000 - val_loss: 0.0538 - val_categorical_accuracy: 0.9868\n",
      "Epoch 75/100\n",
      "349/349 [==============================] - ETA: 45s - loss: 0.0011 - categorical_accuracy: 1.000 - ETA: 45s - loss: 0.0011 - categorical_accuracy: 1.000 - ETA: 44s - loss: 0.0012 - categorical_accuracy: 1.000 - ETA: 42s - loss: 0.0012 - categorical_accuracy: 1.000 - ETA: 42s - loss: 0.0012 - categorical_accuracy: 1.000 - ETA: 40s - loss: 0.0012 - categorical_accuracy: 1.000 - ETA: 39s - loss: 0.0012 - categorical_accuracy: 1.000 - ETA: 38s - loss: 0.0012 - categorical_accuracy: 1.000 - ETA: 36s - loss: 0.0012 - categorical_accuracy: 1.000 - ETA: 35s - loss: 0.0012 - categorical_accuracy: 1.000 - ETA: 34s - loss: 0.0012 - categorical_accuracy: 1.000 - ETA: 32s - loss: 0.0012 - categorical_accuracy: 1.000 - ETA: 30s - loss: 0.0012 - categorical_accuracy: 1.000 - ETA: 29s - loss: 0.0012 - categorical_accuracy: 1.000 - ETA: 28s - loss: 0.0012 - categorical_accuracy: 1.000 - ETA: 26s - loss: 0.0012 - categorical_accuracy: 1.000 - ETA: 25s - loss: 0.0012 - categorical_accuracy: 1.000 - ETA: 23s - loss: 0.0012 - categorical_accuracy: 1.000 - ETA: 22s - loss: 0.0013 - categorical_accuracy: 1.000 - ETA: 20s - loss: 0.0013 - categorical_accuracy: 1.000 - ETA: 19s - loss: 0.0013 - categorical_accuracy: 1.000 - ETA: 18s - loss: 0.0013 - categorical_accuracy: 1.000 - ETA: 16s - loss: 0.0013 - categorical_accuracy: 1.000 - ETA: 15s - loss: 0.0013 - categorical_accuracy: 1.000 - ETA: 13s - loss: 0.0013 - categorical_accuracy: 1.000 - ETA: 12s - loss: 0.0013 - categorical_accuracy: 1.000 - ETA: 10s - loss: 0.0013 - categorical_accuracy: 1.000 - ETA: 9s - loss: 0.0013 - categorical_accuracy: 1.000 - ETA: 8s - loss: 0.0013 - categorical_accuracy: 1.00 - ETA: 6s - loss: 0.0013 - categorical_accuracy: 1.00 - ETA: 5s - loss: 0.0013 - categorical_accuracy: 1.00 - ETA: 4s - loss: 0.0013 - categorical_accuracy: 1.00 - ETA: 2s - loss: 0.0013 - categorical_accuracy: 1.00 - ETA: 1s - loss: 0.0013 - categorical_accuracy: 1.00 - 55s 156ms/step - loss: 0.0013 - categorical_accuracy: 1.0000 - val_loss: 0.0539 - val_categorical_accuracy: 0.9868\n",
      "Epoch 76/100\n",
      "349/349 [==============================] - ETA: 46s - loss: 0.0014 - categorical_accuracy: 1.000 - ETA: 44s - loss: 0.0015 - categorical_accuracy: 1.000 - ETA: 43s - loss: 0.0015 - categorical_accuracy: 1.000 - ETA: 42s - loss: 0.0014 - categorical_accuracy: 1.000 - ETA: 40s - loss: 0.0014 - categorical_accuracy: 1.000 - ETA: 39s - loss: 0.0014 - categorical_accuracy: 1.000 - ETA: 38s - loss: 0.0013 - categorical_accuracy: 1.000 - ETA: 36s - loss: 0.0013 - categorical_accuracy: 1.000 - ETA: 35s - loss: 0.0012 - categorical_accuracy: 1.000 - ETA: 34s - loss: 0.0012 - categorical_accuracy: 1.000 - ETA: 32s - loss: 0.0013 - categorical_accuracy: 1.000 - ETA: 31s - loss: 0.0013 - categorical_accuracy: 1.000 - ETA: 29s - loss: 0.0013 - categorical_accuracy: 1.000 - ETA: 28s - loss: 0.0013 - categorical_accuracy: 1.000 - ETA: 27s - loss: 0.0013 - categorical_accuracy: 1.000 - ETA: 25s - loss: 0.0013 - categorical_accuracy: 1.000 - ETA: 24s - loss: 0.0013 - categorical_accuracy: 1.000 - ETA: 23s - loss: 0.0013 - categorical_accuracy: 1.000 - ETA: 21s - loss: 0.0013 - categorical_accuracy: 1.000 - ETA: 20s - loss: 0.0013 - categorical_accuracy: 1.000 - ETA: 19s - loss: 0.0013 - categorical_accuracy: 1.000 - ETA: 17s - loss: 0.0013 - categorical_accuracy: 1.000 - ETA: 16s - loss: 0.0013 - categorical_accuracy: 1.000 - ETA: 15s - loss: 0.0013 - categorical_accuracy: 1.000 - ETA: 13s - loss: 0.0013 - categorical_accuracy: 1.000 - ETA: 12s - loss: 0.0013 - categorical_accuracy: 1.000 - ETA: 10s - loss: 0.0013 - categorical_accuracy: 1.000 - ETA: 9s - loss: 0.0013 - categorical_accuracy: 1.000 - ETA: 8s - loss: 0.0013 - categorical_accuracy: 1.00 - ETA: 6s - loss: 0.0013 - categorical_accuracy: 1.00 - ETA: 5s - loss: 0.0013 - categorical_accuracy: 1.00 - ETA: 4s - loss: 0.0013 - categorical_accuracy: 1.00 - ETA: 2s - loss: 0.0013 - categorical_accuracy: 1.00 - ETA: 1s - loss: 0.0013 - categorical_accuracy: 1.00 - 55s 157ms/step - loss: 0.0013 - categorical_accuracy: 1.0000 - val_loss: 0.0512 - val_categorical_accuracy: 0.9868\n"
     ]
    },
    {
     "name": "stdout",
     "output_type": "stream",
     "text": [
      "Epoch 77/100\n",
      "349/349 [==============================] - ETA: 46s - loss: 0.0012 - categorical_accuracy: 1.000 - ETA: 45s - loss: 0.0013 - categorical_accuracy: 1.000 - ETA: 43s - loss: 0.0014 - categorical_accuracy: 1.000 - ETA: 43s - loss: 0.0013 - categorical_accuracy: 1.000 - ETA: 42s - loss: 0.0013 - categorical_accuracy: 1.000 - ETA: 40s - loss: 0.0013 - categorical_accuracy: 1.000 - ETA: 39s - loss: 0.0013 - categorical_accuracy: 1.000 - ETA: 37s - loss: 0.0012 - categorical_accuracy: 1.000 - ETA: 36s - loss: 0.0012 - categorical_accuracy: 1.000 - ETA: 35s - loss: 0.0012 - categorical_accuracy: 1.000 - ETA: 33s - loss: 0.0012 - categorical_accuracy: 1.000 - ETA: 32s - loss: 0.0012 - categorical_accuracy: 1.000 - ETA: 30s - loss: 0.0012 - categorical_accuracy: 1.000 - ETA: 29s - loss: 0.0012 - categorical_accuracy: 1.000 - ETA: 27s - loss: 0.0012 - categorical_accuracy: 1.000 - ETA: 26s - loss: 0.0012 - categorical_accuracy: 1.000 - ETA: 25s - loss: 0.0012 - categorical_accuracy: 1.000 - ETA: 23s - loss: 0.0012 - categorical_accuracy: 1.000 - ETA: 22s - loss: 0.0012 - categorical_accuracy: 1.000 - ETA: 20s - loss: 0.0012 - categorical_accuracy: 1.000 - ETA: 19s - loss: 0.0012 - categorical_accuracy: 1.000 - ETA: 18s - loss: 0.0012 - categorical_accuracy: 1.000 - ETA: 16s - loss: 0.0012 - categorical_accuracy: 1.000 - ETA: 15s - loss: 0.0012 - categorical_accuracy: 1.000 - ETA: 13s - loss: 0.0012 - categorical_accuracy: 1.000 - ETA: 12s - loss: 0.0012 - categorical_accuracy: 1.000 - ETA: 11s - loss: 0.0012 - categorical_accuracy: 1.000 - ETA: 9s - loss: 0.0012 - categorical_accuracy: 1.000 - ETA: 8s - loss: 0.0012 - categorical_accuracy: 1.00 - ETA: 6s - loss: 0.0012 - categorical_accuracy: 1.00 - ETA: 5s - loss: 0.0012 - categorical_accuracy: 1.00 - ETA: 4s - loss: 0.0012 - categorical_accuracy: 1.00 - ETA: 2s - loss: 0.0012 - categorical_accuracy: 1.00 - ETA: 1s - loss: 0.0012 - categorical_accuracy: 1.00 - 55s 159ms/step - loss: 0.0012 - categorical_accuracy: 1.0000 - val_loss: 0.0529 - val_categorical_accuracy: 0.9868\n",
      "Epoch 78/100\n",
      "349/349 [==============================] - ETA: 44s - loss: 0.0012 - categorical_accuracy: 1.000 - ETA: 44s - loss: 0.0013 - categorical_accuracy: 1.000 - ETA: 42s - loss: 0.0013 - categorical_accuracy: 1.000 - ETA: 41s - loss: 0.0013 - categorical_accuracy: 1.000 - ETA: 40s - loss: 0.0012 - categorical_accuracy: 1.000 - ETA: 39s - loss: 0.0012 - categorical_accuracy: 1.000 - ETA: 37s - loss: 0.0012 - categorical_accuracy: 1.000 - ETA: 36s - loss: 0.0013 - categorical_accuracy: 1.000 - ETA: 35s - loss: 0.0013 - categorical_accuracy: 1.000 - ETA: 33s - loss: 0.0013 - categorical_accuracy: 1.000 - ETA: 32s - loss: 0.0012 - categorical_accuracy: 1.000 - ETA: 31s - loss: 0.0012 - categorical_accuracy: 1.000 - ETA: 29s - loss: 0.0012 - categorical_accuracy: 1.000 - ETA: 28s - loss: 0.0012 - categorical_accuracy: 1.000 - ETA: 27s - loss: 0.0012 - categorical_accuracy: 1.000 - ETA: 25s - loss: 0.0012 - categorical_accuracy: 1.000 - ETA: 24s - loss: 0.0012 - categorical_accuracy: 1.000 - ETA: 23s - loss: 0.0012 - categorical_accuracy: 1.000 - ETA: 21s - loss: 0.0012 - categorical_accuracy: 1.000 - ETA: 20s - loss: 0.0012 - categorical_accuracy: 1.000 - ETA: 19s - loss: 0.0012 - categorical_accuracy: 1.000 - ETA: 17s - loss: 0.0012 - categorical_accuracy: 1.000 - ETA: 16s - loss: 0.0012 - categorical_accuracy: 1.000 - ETA: 14s - loss: 0.0012 - categorical_accuracy: 1.000 - ETA: 13s - loss: 0.0012 - categorical_accuracy: 1.000 - ETA: 12s - loss: 0.0012 - categorical_accuracy: 1.000 - ETA: 10s - loss: 0.0012 - categorical_accuracy: 1.000 - ETA: 9s - loss: 0.0012 - categorical_accuracy: 1.000 - ETA: 8s - loss: 0.0012 - categorical_accuracy: 1.00 - ETA: 6s - loss: 0.0012 - categorical_accuracy: 1.00 - ETA: 5s - loss: 0.0012 - categorical_accuracy: 1.00 - ETA: 4s - loss: 0.0012 - categorical_accuracy: 1.00 - ETA: 2s - loss: 0.0012 - categorical_accuracy: 1.00 - ETA: 1s - loss: 0.0012 - categorical_accuracy: 1.00 - 55s 158ms/step - loss: 0.0012 - categorical_accuracy: 1.0000 - val_loss: 0.0524 - val_categorical_accuracy: 0.9868\n",
      "Epoch 79/100\n",
      "349/349 [==============================] - ETA: 58s - loss: 0.0011 - categorical_accuracy: 1.000 - ETA: 51s - loss: 0.0012 - categorical_accuracy: 1.000 - ETA: 48s - loss: 0.0012 - categorical_accuracy: 1.000 - ETA: 46s - loss: 0.0011 - categorical_accuracy: 1.000 - ETA: 44s - loss: 0.0011 - categorical_accuracy: 1.000 - ETA: 44s - loss: 0.0011 - categorical_accuracy: 1.000 - ETA: 42s - loss: 0.0011 - categorical_accuracy: 1.000 - ETA: 40s - loss: 0.0011 - categorical_accuracy: 1.000 - ETA: 39s - loss: 0.0011 - categorical_accuracy: 1.000 - ETA: 38s - loss: 0.0012 - categorical_accuracy: 1.000 - ETA: 36s - loss: 0.0011 - categorical_accuracy: 1.000 - ETA: 34s - loss: 0.0011 - categorical_accuracy: 1.000 - ETA: 33s - loss: 0.0011 - categorical_accuracy: 1.000 - ETA: 31s - loss: 0.0011 - categorical_accuracy: 1.000 - ETA: 29s - loss: 0.0011 - categorical_accuracy: 1.000 - ETA: 28s - loss: 0.0011 - categorical_accuracy: 1.000 - ETA: 26s - loss: 0.0011 - categorical_accuracy: 1.000 - ETA: 24s - loss: 0.0011 - categorical_accuracy: 1.000 - ETA: 23s - loss: 0.0011 - categorical_accuracy: 1.000 - ETA: 21s - loss: 0.0011 - categorical_accuracy: 1.000 - ETA: 20s - loss: 0.0011 - categorical_accuracy: 1.000 - ETA: 19s - loss: 0.0011 - categorical_accuracy: 1.000 - ETA: 17s - loss: 0.0012 - categorical_accuracy: 1.000 - ETA: 16s - loss: 0.0011 - categorical_accuracy: 1.000 - ETA: 14s - loss: 0.0011 - categorical_accuracy: 1.000 - ETA: 13s - loss: 0.0012 - categorical_accuracy: 1.000 - ETA: 12s - loss: 0.0012 - categorical_accuracy: 1.000 - ETA: 10s - loss: 0.0012 - categorical_accuracy: 1.000 - ETA: 8s - loss: 0.0012 - categorical_accuracy: 1.000 - ETA: 7s - loss: 0.0011 - categorical_accuracy: 1.00 - ETA: 5s - loss: 0.0012 - categorical_accuracy: 1.00 - ETA: 4s - loss: 0.0012 - categorical_accuracy: 1.00 - ETA: 2s - loss: 0.0012 - categorical_accuracy: 1.00 - ETA: 1s - loss: 0.0012 - categorical_accuracy: 1.00 - 61s 174ms/step - loss: 0.0012 - categorical_accuracy: 1.0000 - val_loss: 0.0540 - val_categorical_accuracy: 0.9868\n",
      "Epoch 80/100\n",
      "349/349 [==============================] - ETA: 45s - loss: 8.4247e-04 - categorical_accuracy: 1.000 - ETA: 45s - loss: 9.4746e-04 - categorical_accuracy: 1.000 - ETA: 45s - loss: 0.0012 - categorical_accuracy: 1.0000    - ETA: 43s - loss: 0.0012 - categorical_accuracy: 1.000 - ETA: 43s - loss: 0.0012 - categorical_accuracy: 1.000 - ETA: 43s - loss: 0.0012 - categorical_accuracy: 1.000 - ETA: 42s - loss: 0.0012 - categorical_accuracy: 1.000 - ETA: 40s - loss: 0.0012 - categorical_accuracy: 1.000 - ETA: 38s - loss: 0.0012 - categorical_accuracy: 1.000 - ETA: 37s - loss: 0.0012 - categorical_accuracy: 1.000 - ETA: 35s - loss: 0.0012 - categorical_accuracy: 1.000 - ETA: 33s - loss: 0.0011 - categorical_accuracy: 1.000 - ETA: 32s - loss: 0.0012 - categorical_accuracy: 1.000 - ETA: 30s - loss: 0.0012 - categorical_accuracy: 1.000 - ETA: 28s - loss: 0.0012 - categorical_accuracy: 1.000 - ETA: 27s - loss: 0.0012 - categorical_accuracy: 1.000 - ETA: 25s - loss: 0.0012 - categorical_accuracy: 1.000 - ETA: 24s - loss: 0.0012 - categorical_accuracy: 1.000 - ETA: 22s - loss: 0.0012 - categorical_accuracy: 1.000 - ETA: 21s - loss: 0.0012 - categorical_accuracy: 1.000 - ETA: 19s - loss: 0.0012 - categorical_accuracy: 1.000 - ETA: 18s - loss: 0.0012 - categorical_accuracy: 1.000 - ETA: 17s - loss: 0.0012 - categorical_accuracy: 1.000 - ETA: 15s - loss: 0.0012 - categorical_accuracy: 1.000 - ETA: 14s - loss: 0.0012 - categorical_accuracy: 1.000 - ETA: 12s - loss: 0.0012 - categorical_accuracy: 1.000 - ETA: 11s - loss: 0.0012 - categorical_accuracy: 1.000 - ETA: 10s - loss: 0.0012 - categorical_accuracy: 1.000 - ETA: 8s - loss: 0.0012 - categorical_accuracy: 1.000 - ETA: 7s - loss: 0.0012 - categorical_accuracy: 1.00 - ETA: 5s - loss: 0.0012 - categorical_accuracy: 1.00 - ETA: 4s - loss: 0.0012 - categorical_accuracy: 1.00 - ETA: 2s - loss: 0.0012 - categorical_accuracy: 1.00 - ETA: 1s - loss: 0.0012 - categorical_accuracy: 1.00 - 59s 168ms/step - loss: 0.0012 - categorical_accuracy: 1.0000 - val_loss: 0.0535 - val_categorical_accuracy: 0.9868\n"
     ]
    },
    {
     "name": "stdout",
     "output_type": "stream",
     "text": [
      "Epoch 81/100\n",
      "349/349 [==============================] - ETA: 53s - loss: 0.0012 - categorical_accuracy: 1.000 - ETA: 50s - loss: 0.0013 - categorical_accuracy: 1.000 - ETA: 47s - loss: 0.0015 - categorical_accuracy: 1.000 - ETA: 45s - loss: 0.0014 - categorical_accuracy: 1.000 - ETA: 44s - loss: 0.0014 - categorical_accuracy: 1.000 - ETA: 42s - loss: 0.0013 - categorical_accuracy: 1.000 - ETA: 40s - loss: 0.0013 - categorical_accuracy: 1.000 - ETA: 38s - loss: 0.0012 - categorical_accuracy: 1.000 - ETA: 37s - loss: 0.0012 - categorical_accuracy: 1.000 - ETA: 35s - loss: 0.0012 - categorical_accuracy: 1.000 - ETA: 34s - loss: 0.0012 - categorical_accuracy: 1.000 - ETA: 33s - loss: 0.0012 - categorical_accuracy: 1.000 - ETA: 31s - loss: 0.0012 - categorical_accuracy: 1.000 - ETA: 30s - loss: 0.0012 - categorical_accuracy: 1.000 - ETA: 29s - loss: 0.0012 - categorical_accuracy: 1.000 - ETA: 28s - loss: 0.0012 - categorical_accuracy: 1.000 - ETA: 26s - loss: 0.0012 - categorical_accuracy: 1.000 - ETA: 25s - loss: 0.0012 - categorical_accuracy: 1.000 - ETA: 23s - loss: 0.0012 - categorical_accuracy: 1.000 - ETA: 22s - loss: 0.0012 - categorical_accuracy: 1.000 - ETA: 20s - loss: 0.0012 - categorical_accuracy: 1.000 - ETA: 19s - loss: 0.0012 - categorical_accuracy: 1.000 - ETA: 17s - loss: 0.0012 - categorical_accuracy: 1.000 - ETA: 16s - loss: 0.0012 - categorical_accuracy: 1.000 - ETA: 14s - loss: 0.0012 - categorical_accuracy: 1.000 - ETA: 13s - loss: 0.0012 - categorical_accuracy: 1.000 - ETA: 11s - loss: 0.0012 - categorical_accuracy: 1.000 - ETA: 10s - loss: 0.0012 - categorical_accuracy: 1.000 - ETA: 8s - loss: 0.0012 - categorical_accuracy: 1.000 - ETA: 7s - loss: 0.0012 - categorical_accuracy: 1.00 - ETA: 5s - loss: 0.0012 - categorical_accuracy: 1.00 - ETA: 4s - loss: 0.0012 - categorical_accuracy: 1.00 - ETA: 2s - loss: 0.0012 - categorical_accuracy: 1.00 - ETA: 1s - loss: 0.0012 - categorical_accuracy: 1.00 - 59s 168ms/step - loss: 0.0012 - categorical_accuracy: 1.0000 - val_loss: 0.0529 - val_categorical_accuracy: 0.9868\n",
      "Epoch 82/100\n",
      "349/349 [==============================] - ETA: 52s - loss: 9.6766e-04 - categorical_accuracy: 1.000 - ETA: 54s - loss: 9.9211e-04 - categorical_accuracy: 1.000 - ETA: 51s - loss: 0.0010 - categorical_accuracy: 1.0000    - ETA: 48s - loss: 0.0010 - categorical_accuracy: 1.000 - ETA: 47s - loss: 0.0010 - categorical_accuracy: 1.000 - ETA: 46s - loss: 0.0011 - categorical_accuracy: 1.000 - ETA: 45s - loss: 0.0010 - categorical_accuracy: 1.000 - ETA: 43s - loss: 0.0010 - categorical_accuracy: 1.000 - ETA: 42s - loss: 0.0010 - categorical_accuracy: 1.000 - ETA: 40s - loss: 0.0010 - categorical_accuracy: 1.000 - ETA: 39s - loss: 0.0010 - categorical_accuracy: 1.000 - ETA: 37s - loss: 0.0011 - categorical_accuracy: 1.000 - ETA: 36s - loss: 0.0010 - categorical_accuracy: 1.000 - ETA: 34s - loss: 0.0010 - categorical_accuracy: 1.000 - ETA: 32s - loss: 0.0010 - categorical_accuracy: 1.000 - ETA: 31s - loss: 0.0010 - categorical_accuracy: 1.000 - ETA: 29s - loss: 0.0010 - categorical_accuracy: 1.000 - ETA: 27s - loss: 0.0011 - categorical_accuracy: 1.000 - ETA: 26s - loss: 0.0010 - categorical_accuracy: 1.000 - ETA: 24s - loss: 0.0011 - categorical_accuracy: 1.000 - ETA: 22s - loss: 0.0011 - categorical_accuracy: 1.000 - ETA: 21s - loss: 0.0011 - categorical_accuracy: 1.000 - ETA: 19s - loss: 0.0011 - categorical_accuracy: 1.000 - ETA: 17s - loss: 0.0011 - categorical_accuracy: 1.000 - ETA: 16s - loss: 0.0011 - categorical_accuracy: 1.000 - ETA: 14s - loss: 0.0011 - categorical_accuracy: 1.000 - ETA: 12s - loss: 0.0011 - categorical_accuracy: 1.000 - ETA: 11s - loss: 0.0011 - categorical_accuracy: 1.000 - ETA: 9s - loss: 0.0011 - categorical_accuracy: 1.000 - ETA: 8s - loss: 0.0011 - categorical_accuracy: 1.00 - ETA: 6s - loss: 0.0011 - categorical_accuracy: 1.00 - ETA: 4s - loss: 0.0011 - categorical_accuracy: 1.00 - ETA: 3s - loss: 0.0011 - categorical_accuracy: 1.00 - ETA: 1s - loss: 0.0011 - categorical_accuracy: 1.00 - 65s 187ms/step - loss: 0.0011 - categorical_accuracy: 1.0000 - val_loss: 0.0538 - val_categorical_accuracy: 0.9868\n",
      "Epoch 83/100\n",
      "349/349 [==============================] - ETA: 57s - loss: 0.0012 - categorical_accuracy: 1.000 - ETA: 56s - loss: 0.0011 - categorical_accuracy: 1.000 - ETA: 54s - loss: 0.0011 - categorical_accuracy: 1.000 - ETA: 51s - loss: 0.0011 - categorical_accuracy: 1.000 - ETA: 49s - loss: 0.0010 - categorical_accuracy: 1.000 - ETA: 46s - loss: 0.0010 - categorical_accuracy: 1.000 - ETA: 44s - loss: 0.0010 - categorical_accuracy: 1.000 - ETA: 42s - loss: 0.0011 - categorical_accuracy: 1.000 - ETA: 41s - loss: 0.0011 - categorical_accuracy: 1.000 - ETA: 40s - loss: 0.0011 - categorical_accuracy: 1.000 - ETA: 39s - loss: 0.0011 - categorical_accuracy: 1.000 - ETA: 37s - loss: 0.0011 - categorical_accuracy: 1.000 - ETA: 35s - loss: 0.0011 - categorical_accuracy: 1.000 - ETA: 33s - loss: 0.0011 - categorical_accuracy: 1.000 - ETA: 31s - loss: 0.0011 - categorical_accuracy: 1.000 - ETA: 30s - loss: 0.0011 - categorical_accuracy: 1.000 - ETA: 28s - loss: 0.0011 - categorical_accuracy: 1.000 - ETA: 26s - loss: 0.0011 - categorical_accuracy: 1.000 - ETA: 25s - loss: 0.0011 - categorical_accuracy: 1.000 - ETA: 23s - loss: 0.0011 - categorical_accuracy: 1.000 - ETA: 21s - loss: 0.0011 - categorical_accuracy: 1.000 - ETA: 20s - loss: 0.0011 - categorical_accuracy: 1.000 - ETA: 18s - loss: 0.0011 - categorical_accuracy: 1.000 - ETA: 16s - loss: 0.0011 - categorical_accuracy: 1.000 - ETA: 15s - loss: 0.0011 - categorical_accuracy: 1.000 - ETA: 13s - loss: 0.0011 - categorical_accuracy: 1.000 - ETA: 12s - loss: 0.0011 - categorical_accuracy: 1.000 - ETA: 10s - loss: 0.0011 - categorical_accuracy: 1.000 - ETA: 9s - loss: 0.0011 - categorical_accuracy: 1.000 - ETA: 7s - loss: 0.0011 - categorical_accuracy: 1.00 - ETA: 5s - loss: 0.0011 - categorical_accuracy: 1.00 - ETA: 4s - loss: 0.0011 - categorical_accuracy: 1.00 - ETA: 2s - loss: 0.0011 - categorical_accuracy: 1.00 - ETA: 1s - loss: 0.0011 - categorical_accuracy: 1.00 - 60s 171ms/step - loss: 0.0011 - categorical_accuracy: 1.0000 - val_loss: 0.0519 - val_categorical_accuracy: 0.9868\n",
      "Epoch 84/100\n",
      "349/349 [==============================] - ETA: 47s - loss: 8.6852e-04 - categorical_accuracy: 1.000 - ETA: 48s - loss: 9.7072e-04 - categorical_accuracy: 1.000 - ETA: 46s - loss: 9.4188e-04 - categorical_accuracy: 1.000 - ETA: 46s - loss: 9.3202e-04 - categorical_accuracy: 1.000 - ETA: 45s - loss: 9.6652e-04 - categorical_accuracy: 1.000 - ETA: 44s - loss: 9.8643e-04 - categorical_accuracy: 1.000 - ETA: 43s - loss: 9.4769e-04 - categorical_accuracy: 1.000 - ETA: 41s - loss: 9.4644e-04 - categorical_accuracy: 1.000 - ETA: 41s - loss: 9.1878e-04 - categorical_accuracy: 1.000 - ETA: 40s - loss: 9.0093e-04 - categorical_accuracy: 1.000 - ETA: 38s - loss: 8.9310e-04 - categorical_accuracy: 1.000 - ETA: 36s - loss: 8.9330e-04 - categorical_accuracy: 1.000 - ETA: 34s - loss: 8.9247e-04 - categorical_accuracy: 1.000 - ETA: 33s - loss: 9.1827e-04 - categorical_accuracy: 1.000 - ETA: 31s - loss: 9.1875e-04 - categorical_accuracy: 1.000 - ETA: 29s - loss: 9.4131e-04 - categorical_accuracy: 1.000 - ETA: 28s - loss: 9.6130e-04 - categorical_accuracy: 1.000 - ETA: 26s - loss: 9.5083e-04 - categorical_accuracy: 1.000 - ETA: 24s - loss: 9.5900e-04 - categorical_accuracy: 1.000 - ETA: 23s - loss: 9.8982e-04 - categorical_accuracy: 1.000 - ETA: 21s - loss: 9.9366e-04 - categorical_accuracy: 1.000 - ETA: 19s - loss: 9.9433e-04 - categorical_accuracy: 1.000 - ETA: 18s - loss: 9.9384e-04 - categorical_accuracy: 1.000 - ETA: 16s - loss: 0.0010 - categorical_accuracy: 1.0000    - ETA: 15s - loss: 0.0010 - categorical_accuracy: 1.000 - ETA: 13s - loss: 0.0010 - categorical_accuracy: 1.000 - ETA: 11s - loss: 0.0010 - categorical_accuracy: 1.000 - ETA: 10s - loss: 0.0010 - categorical_accuracy: 1.000 - ETA: 8s - loss: 0.0011 - categorical_accuracy: 1.000 - ETA: 7s - loss: 0.0011 - categorical_accuracy: 1.00 - ETA: 5s - loss: 0.0011 - categorical_accuracy: 1.00 - ETA: 4s - loss: 0.0011 - categorical_accuracy: 1.00 - ETA: 2s - loss: 0.0011 - categorical_accuracy: 1.00 - ETA: 1s - loss: 0.0011 - categorical_accuracy: 1.00 - 59s 170ms/step - loss: 0.0011 - categorical_accuracy: 1.0000 - val_loss: 0.0526 - val_categorical_accuracy: 0.9868\n",
      "Epoch 85/100\n",
      "349/349 [==============================] - ETA: 55s - loss: 8.3661e-04 - categorical_accuracy: 1.000 - ETA: 53s - loss: 7.9052e-04 - categorical_accuracy: 1.000 - ETA: 56s - loss: 8.5124e-04 - categorical_accuracy: 1.000 - ETA: 53s - loss: 8.7294e-04 - categorical_accuracy: 1.000 - ETA: 51s - loss: 8.5836e-04 - categorical_accuracy: 1.000 - ETA: 48s - loss: 8.8842e-04 - categorical_accuracy: 1.000 - ETA: 45s - loss: 9.1385e-04 - categorical_accuracy: 1.000 - ETA: 43s - loss: 9.3328e-04 - categorical_accuracy: 1.000 - ETA: 41s - loss: 9.2114e-04 - categorical_accuracy: 1.000 - ETA: 39s - loss: 9.0688e-04 - categorical_accuracy: 1.000 - ETA: 37s - loss: 9.2172e-04 - categorical_accuracy: 1.000 - ETA: 36s - loss: 9.0866e-04 - categorical_accuracy: 1.000 - ETA: 34s - loss: 9.2879e-04 - categorical_accuracy: 1.000 - ETA: 32s - loss: 9.1633e-04 - categorical_accuracy: 1.000 - ETA: 31s - loss: 9.2698e-04 - categorical_accuracy: 1.000 - ETA: 29s - loss: 9.2980e-04 - categorical_accuracy: 1.000 - ETA: 27s - loss: 9.4306e-04 - categorical_accuracy: 1.000 - ETA: 25s - loss: 9.4268e-04 - categorical_accuracy: 1.000 - ETA: 24s - loss: 9.4108e-04 - categorical_accuracy: 1.000 - ETA: 22s - loss: 9.5546e-04 - categorical_accuracy: 1.000 - ETA: 21s - loss: 9.5236e-04 - categorical_accuracy: 1.000 - ETA: 19s - loss: 9.5180e-04 - categorical_accuracy: 1.000 - ETA: 17s - loss: 9.4615e-04 - categorical_accuracy: 1.000 - ETA: 16s - loss: 9.6601e-04 - categorical_accuracy: 1.000 - ETA: 14s - loss: 9.6193e-04 - categorical_accuracy: 1.000 - ETA: 13s - loss: 9.6433e-04 - categorical_accuracy: 1.000 - ETA: 11s - loss: 9.6947e-04 - categorical_accuracy: 1.000 - ETA: 10s - loss: 9.7026e-04 - categorical_accuracy: 1.000 - ETA: 8s - loss: 9.7403e-04 - categorical_accuracy: 1.000 - ETA: 7s - loss: 9.7226e-04 - categorical_accuracy: 1.00 - ETA: 5s - loss: 9.6662e-04 - categorical_accuracy: 1.00 - ETA: 4s - loss: 9.5904e-04 - categorical_accuracy: 1.00 - ETA: 2s - loss: 9.5494e-04 - categorical_accuracy: 1.00 - ETA: 1s - loss: 9.5866e-04 - categorical_accuracy: 1.00 - 59s 168ms/step - loss: 9.5884e-04 - categorical_accuracy: 1.0000 - val_loss: 0.0506 - val_categorical_accuracy: 0.9868\n",
      "Epoch 86/100\n",
      "349/349 [==============================] - ETA: 47s - loss: 9.8550e-04 - categorical_accuracy: 1.000 - ETA: 47s - loss: 9.7069e-04 - categorical_accuracy: 1.000 - ETA: 47s - loss: 0.0010 - categorical_accuracy: 1.0000    - ETA: 45s - loss: 9.8815e-04 - categorical_accuracy: 1.000 - ETA: 43s - loss: 0.0010 - categorical_accuracy: 1.0000    - ETA: 42s - loss: 0.0011 - categorical_accuracy: 1.000 - ETA: 40s - loss: 0.0011 - categorical_accuracy: 1.000 - ETA: 39s - loss: 0.0010 - categorical_accuracy: 1.000 - ETA: 37s - loss: 0.0010 - categorical_accuracy: 1.000 - ETA: 35s - loss: 0.0010 - categorical_accuracy: 1.000 - ETA: 34s - loss: 0.0010 - categorical_accuracy: 1.000 - ETA: 32s - loss: 9.9346e-04 - categorical_accuracy: 1.000 - ETA: 31s - loss: 9.8968e-04 - categorical_accuracy: 1.000 - ETA: 30s - loss: 9.9452e-04 - categorical_accuracy: 1.000 - ETA: 28s - loss: 9.9322e-04 - categorical_accuracy: 1.000 - ETA: 27s - loss: 9.9498e-04 - categorical_accuracy: 1.000 - ETA: 26s - loss: 9.8748e-04 - categorical_accuracy: 1.000 - ETA: 24s - loss: 9.8012e-04 - categorical_accuracy: 1.000 - ETA: 23s - loss: 9.7910e-04 - categorical_accuracy: 1.000 - ETA: 21s - loss: 9.6859e-04 - categorical_accuracy: 1.000 - ETA: 20s - loss: 9.6765e-04 - categorical_accuracy: 1.000 - ETA: 18s - loss: 9.7344e-04 - categorical_accuracy: 1.000 - ETA: 17s - loss: 9.7299e-04 - categorical_accuracy: 1.000 - ETA: 15s - loss: 9.8370e-04 - categorical_accuracy: 1.000 - ETA: 14s - loss: 9.8302e-04 - categorical_accuracy: 1.000 - ETA: 12s - loss: 9.8190e-04 - categorical_accuracy: 1.000 - ETA: 11s - loss: 9.8346e-04 - categorical_accuracy: 1.000 - ETA: 10s - loss: 9.8669e-04 - categorical_accuracy: 1.000 - ETA: 8s - loss: 9.8877e-04 - categorical_accuracy: 1.000 - ETA: 7s - loss: 9.9929e-04 - categorical_accuracy: 1.00 - ETA: 5s - loss: 9.9890e-04 - categorical_accuracy: 1.00 - ETA: 4s - loss: 0.0010 - categorical_accuracy: 1.0000   - ETA: 2s - loss: 0.0010 - categorical_accuracy: 1.00 - ETA: 1s - loss: 9.9675e-04 - categorical_accuracy: 1.00 - 58s 165ms/step - loss: 9.9909e-04 - categorical_accuracy: 1.0000 - val_loss: 0.0533 - val_categorical_accuracy: 0.9868\n",
      "Epoch 87/100\n"
     ]
    },
    {
     "name": "stdout",
     "output_type": "stream",
     "text": [
      "349/349 [==============================] - ETA: 48s - loss: 0.0011 - categorical_accuracy: 1.000 - ETA: 46s - loss: 8.8605e-04 - categorical_accuracy: 1.000 - ETA: 46s - loss: 8.5767e-04 - categorical_accuracy: 1.000 - ETA: 44s - loss: 8.8531e-04 - categorical_accuracy: 1.000 - ETA: 43s - loss: 9.2101e-04 - categorical_accuracy: 1.000 - ETA: 42s - loss: 9.1763e-04 - categorical_accuracy: 1.000 - ETA: 41s - loss: 9.8447e-04 - categorical_accuracy: 1.000 - ETA: 39s - loss: 9.8185e-04 - categorical_accuracy: 1.000 - ETA: 38s - loss: 9.6247e-04 - categorical_accuracy: 1.000 - ETA: 36s - loss: 9.7240e-04 - categorical_accuracy: 1.000 - ETA: 35s - loss: 0.0010 - categorical_accuracy: 1.0000    - ETA: 33s - loss: 0.0010 - categorical_accuracy: 1.000 - ETA: 32s - loss: 0.0010 - categorical_accuracy: 1.000 - ETA: 30s - loss: 9.9214e-04 - categorical_accuracy: 1.000 - ETA: 29s - loss: 9.9152e-04 - categorical_accuracy: 1.000 - ETA: 27s - loss: 9.8593e-04 - categorical_accuracy: 1.000 - ETA: 26s - loss: 9.8299e-04 - categorical_accuracy: 1.000 - ETA: 24s - loss: 9.7665e-04 - categorical_accuracy: 1.000 - ETA: 23s - loss: 9.6855e-04 - categorical_accuracy: 1.000 - ETA: 21s - loss: 9.6798e-04 - categorical_accuracy: 1.000 - ETA: 20s - loss: 9.6811e-04 - categorical_accuracy: 1.000 - ETA: 18s - loss: 9.7506e-04 - categorical_accuracy: 1.000 - ETA: 17s - loss: 9.9891e-04 - categorical_accuracy: 1.000 - ETA: 15s - loss: 0.0010 - categorical_accuracy: 1.0000    - ETA: 14s - loss: 0.0010 - categorical_accuracy: 1.000 - ETA: 12s - loss: 0.0010 - categorical_accuracy: 1.000 - ETA: 11s - loss: 0.0010 - categorical_accuracy: 1.000 - ETA: 10s - loss: 0.0010 - categorical_accuracy: 1.000 - ETA: 8s - loss: 0.0010 - categorical_accuracy: 1.000 - ETA: 7s - loss: 9.9432e-04 - categorical_accuracy: 1.00 - ETA: 5s - loss: 9.8964e-04 - categorical_accuracy: 1.00 - ETA: 4s - loss: 9.8794e-04 - categorical_accuracy: 1.00 - ETA: 2s - loss: 9.8329e-04 - categorical_accuracy: 1.00 - ETA: 1s - loss: 9.8508e-04 - categorical_accuracy: 1.00 - 57s 164ms/step - loss: 9.8506e-04 - categorical_accuracy: 1.0000 - val_loss: 0.0548 - val_categorical_accuracy: 0.9868\n",
      "Epoch 88/100\n",
      "349/349 [==============================] - ETA: 51s - loss: 9.9837e-04 - categorical_accuracy: 1.000 - ETA: 49s - loss: 9.0173e-04 - categorical_accuracy: 1.000 - ETA: 47s - loss: 8.4717e-04 - categorical_accuracy: 1.000 - ETA: 45s - loss: 9.4649e-04 - categorical_accuracy: 1.000 - ETA: 43s - loss: 9.3746e-04 - categorical_accuracy: 1.000 - ETA: 42s - loss: 9.0831e-04 - categorical_accuracy: 1.000 - ETA: 40s - loss: 8.9797e-04 - categorical_accuracy: 1.000 - ETA: 39s - loss: 8.8524e-04 - categorical_accuracy: 1.000 - ETA: 37s - loss: 9.0778e-04 - categorical_accuracy: 1.000 - ETA: 36s - loss: 9.1025e-04 - categorical_accuracy: 1.000 - ETA: 34s - loss: 9.2364e-04 - categorical_accuracy: 1.000 - ETA: 33s - loss: 9.1828e-04 - categorical_accuracy: 1.000 - ETA: 31s - loss: 9.1568e-04 - categorical_accuracy: 1.000 - ETA: 30s - loss: 8.9820e-04 - categorical_accuracy: 1.000 - ETA: 28s - loss: 9.0314e-04 - categorical_accuracy: 1.000 - ETA: 27s - loss: 9.0465e-04 - categorical_accuracy: 1.000 - ETA: 26s - loss: 8.9993e-04 - categorical_accuracy: 1.000 - ETA: 24s - loss: 9.2499e-04 - categorical_accuracy: 1.000 - ETA: 23s - loss: 9.1733e-04 - categorical_accuracy: 1.000 - ETA: 21s - loss: 9.0921e-04 - categorical_accuracy: 1.000 - ETA: 20s - loss: 9.0417e-04 - categorical_accuracy: 1.000 - ETA: 18s - loss: 9.2294e-04 - categorical_accuracy: 1.000 - ETA: 17s - loss: 9.2076e-04 - categorical_accuracy: 1.000 - ETA: 15s - loss: 9.2626e-04 - categorical_accuracy: 1.000 - ETA: 14s - loss: 9.2239e-04 - categorical_accuracy: 1.000 - ETA: 12s - loss: 9.2577e-04 - categorical_accuracy: 1.000 - ETA: 11s - loss: 9.2307e-04 - categorical_accuracy: 1.000 - ETA: 9s - loss: 9.2453e-04 - categorical_accuracy: 1.000 - ETA: 8s - loss: 9.2468e-04 - categorical_accuracy: 1.00 - ETA: 7s - loss: 9.2619e-04 - categorical_accuracy: 1.00 - ETA: 5s - loss: 9.2134e-04 - categorical_accuracy: 1.00 - ETA: 4s - loss: 9.2142e-04 - categorical_accuracy: 1.00 - ETA: 2s - loss: 9.3224e-04 - categorical_accuracy: 1.00 - ETA: 1s - loss: 9.3915e-04 - categorical_accuracy: 1.00 - 56s 160ms/step - loss: 9.3235e-04 - categorical_accuracy: 1.0000 - val_loss: 0.0551 - val_categorical_accuracy: 0.9868\n",
      "Epoch 89/100\n",
      "349/349 [==============================] - ETA: 46s - loss: 7.6767e-04 - categorical_accuracy: 1.000 - ETA: 45s - loss: 8.0663e-04 - categorical_accuracy: 1.000 - ETA: 44s - loss: 9.1486e-04 - categorical_accuracy: 1.000 - ETA: 44s - loss: 9.3260e-04 - categorical_accuracy: 1.000 - ETA: 42s - loss: 9.0436e-04 - categorical_accuracy: 1.000 - ETA: 41s - loss: 8.5948e-04 - categorical_accuracy: 1.000 - ETA: 39s - loss: 8.9296e-04 - categorical_accuracy: 1.000 - ETA: 38s - loss: 8.9987e-04 - categorical_accuracy: 1.000 - ETA: 36s - loss: 9.1362e-04 - categorical_accuracy: 1.000 - ETA: 34s - loss: 9.1277e-04 - categorical_accuracy: 1.000 - ETA: 33s - loss: 9.2056e-04 - categorical_accuracy: 1.000 - ETA: 32s - loss: 9.0772e-04 - categorical_accuracy: 1.000 - ETA: 30s - loss: 8.9267e-04 - categorical_accuracy: 1.000 - ETA: 29s - loss: 8.9884e-04 - categorical_accuracy: 1.000 - ETA: 27s - loss: 8.9467e-04 - categorical_accuracy: 1.000 - ETA: 26s - loss: 9.0223e-04 - categorical_accuracy: 1.000 - ETA: 25s - loss: 9.0226e-04 - categorical_accuracy: 1.000 - ETA: 23s - loss: 9.0788e-04 - categorical_accuracy: 1.000 - ETA: 22s - loss: 9.1824e-04 - categorical_accuracy: 1.000 - ETA: 21s - loss: 9.1635e-04 - categorical_accuracy: 1.000 - ETA: 19s - loss: 9.2109e-04 - categorical_accuracy: 1.000 - ETA: 18s - loss: 9.2617e-04 - categorical_accuracy: 1.000 - ETA: 16s - loss: 9.1530e-04 - categorical_accuracy: 1.000 - ETA: 15s - loss: 9.1478e-04 - categorical_accuracy: 1.000 - ETA: 13s - loss: 9.1621e-04 - categorical_accuracy: 1.000 - ETA: 12s - loss: 9.1003e-04 - categorical_accuracy: 1.000 - ETA: 11s - loss: 9.1643e-04 - categorical_accuracy: 1.000 - ETA: 9s - loss: 9.2393e-04 - categorical_accuracy: 1.000 - ETA: 8s - loss: 9.3088e-04 - categorical_accuracy: 1.00 - ETA: 6s - loss: 9.3809e-04 - categorical_accuracy: 1.00 - ETA: 5s - loss: 9.3577e-04 - categorical_accuracy: 1.00 - ETA: 4s - loss: 9.3029e-04 - categorical_accuracy: 1.00 - ETA: 2s - loss: 9.3043e-04 - categorical_accuracy: 1.00 - ETA: 1s - loss: 9.3024e-04 - categorical_accuracy: 1.00 - 55s 159ms/step - loss: 9.3446e-04 - categorical_accuracy: 1.0000 - val_loss: 0.0553 - val_categorical_accuracy: 0.9868\n",
      "Epoch 90/100\n",
      "349/349 [==============================] - ETA: 46s - loss: 7.0670e-04 - categorical_accuracy: 1.000 - ETA: 45s - loss: 7.2621e-04 - categorical_accuracy: 1.000 - ETA: 44s - loss: 7.8609e-04 - categorical_accuracy: 1.000 - ETA: 42s - loss: 8.3466e-04 - categorical_accuracy: 1.000 - ETA: 41s - loss: 9.6038e-04 - categorical_accuracy: 1.000 - ETA: 40s - loss: 9.1774e-04 - categorical_accuracy: 1.000 - ETA: 38s - loss: 9.0559e-04 - categorical_accuracy: 1.000 - ETA: 37s - loss: 8.9945e-04 - categorical_accuracy: 1.000 - ETA: 36s - loss: 8.8812e-04 - categorical_accuracy: 1.000 - ETA: 34s - loss: 8.7852e-04 - categorical_accuracy: 1.000 - ETA: 33s - loss: 8.7048e-04 - categorical_accuracy: 1.000 - ETA: 32s - loss: 8.7573e-04 - categorical_accuracy: 1.000 - ETA: 30s - loss: 8.8718e-04 - categorical_accuracy: 1.000 - ETA: 29s - loss: 8.7674e-04 - categorical_accuracy: 1.000 - ETA: 27s - loss: 8.6901e-04 - categorical_accuracy: 1.000 - ETA: 26s - loss: 8.8126e-04 - categorical_accuracy: 1.000 - ETA: 25s - loss: 8.8838e-04 - categorical_accuracy: 1.000 - ETA: 23s - loss: 8.8807e-04 - categorical_accuracy: 1.000 - ETA: 22s - loss: 8.8611e-04 - categorical_accuracy: 1.000 - ETA: 20s - loss: 8.8072e-04 - categorical_accuracy: 1.000 - ETA: 19s - loss: 8.8154e-04 - categorical_accuracy: 1.000 - ETA: 18s - loss: 8.8783e-04 - categorical_accuracy: 1.000 - ETA: 16s - loss: 8.8826e-04 - categorical_accuracy: 1.000 - ETA: 15s - loss: 8.8998e-04 - categorical_accuracy: 1.000 - ETA: 13s - loss: 8.9522e-04 - categorical_accuracy: 1.000 - ETA: 12s - loss: 8.9895e-04 - categorical_accuracy: 1.000 - ETA: 11s - loss: 9.0035e-04 - categorical_accuracy: 1.000 - ETA: 9s - loss: 9.1387e-04 - categorical_accuracy: 1.000 - ETA: 8s - loss: 9.1274e-04 - categorical_accuracy: 1.00 - ETA: 6s - loss: 9.1468e-04 - categorical_accuracy: 1.00 - ETA: 5s - loss: 9.0848e-04 - categorical_accuracy: 1.00 - ETA: 4s - loss: 9.0456e-04 - categorical_accuracy: 1.00 - ETA: 2s - loss: 9.0356e-04 - categorical_accuracy: 1.00 - ETA: 1s - loss: 8.9733e-04 - categorical_accuracy: 1.00 - 55s 158ms/step - loss: 9.0028e-04 - categorical_accuracy: 1.0000 - val_loss: 0.0545 - val_categorical_accuracy: 0.9868\n",
      "Epoch 91/100\n",
      "349/349 [==============================] - ETA: 48s - loss: 7.7026e-04 - categorical_accuracy: 1.000 - ETA: 46s - loss: 7.5323e-04 - categorical_accuracy: 1.000 - ETA: 45s - loss: 7.3309e-04 - categorical_accuracy: 1.000 - ETA: 43s - loss: 7.6863e-04 - categorical_accuracy: 1.000 - ETA: 43s - loss: 7.9843e-04 - categorical_accuracy: 1.000 - ETA: 41s - loss: 7.9431e-04 - categorical_accuracy: 1.000 - ETA: 40s - loss: 8.2459e-04 - categorical_accuracy: 1.000 - ETA: 39s - loss: 8.1208e-04 - categorical_accuracy: 1.000 - ETA: 37s - loss: 8.1879e-04 - categorical_accuracy: 1.000 - ETA: 36s - loss: 8.2199e-04 - categorical_accuracy: 1.000 - ETA: 34s - loss: 8.4804e-04 - categorical_accuracy: 1.000 - ETA: 33s - loss: 8.4579e-04 - categorical_accuracy: 1.000 - ETA: 31s - loss: 8.4281e-04 - categorical_accuracy: 1.000 - ETA: 30s - loss: 8.4294e-04 - categorical_accuracy: 1.000 - ETA: 28s - loss: 8.3965e-04 - categorical_accuracy: 1.000 - ETA: 27s - loss: 8.4063e-04 - categorical_accuracy: 1.000 - ETA: 26s - loss: 8.3793e-04 - categorical_accuracy: 1.000 - ETA: 24s - loss: 8.3791e-04 - categorical_accuracy: 1.000 - ETA: 23s - loss: 8.5245e-04 - categorical_accuracy: 1.000 - ETA: 21s - loss: 8.5231e-04 - categorical_accuracy: 1.000 - ETA: 20s - loss: 8.4727e-04 - categorical_accuracy: 1.000 - ETA: 18s - loss: 8.5321e-04 - categorical_accuracy: 1.000 - ETA: 17s - loss: 8.4983e-04 - categorical_accuracy: 1.000 - ETA: 15s - loss: 8.5327e-04 - categorical_accuracy: 1.000 - ETA: 14s - loss: 8.6029e-04 - categorical_accuracy: 1.000 - ETA: 12s - loss: 8.6029e-04 - categorical_accuracy: 1.000 - ETA: 11s - loss: 8.6122e-04 - categorical_accuracy: 1.000 - ETA: 9s - loss: 8.7016e-04 - categorical_accuracy: 1.000 - ETA: 8s - loss: 8.6809e-04 - categorical_accuracy: 1.00 - ETA: 7s - loss: 8.7031e-04 - categorical_accuracy: 1.00 - ETA: 5s - loss: 8.7342e-04 - categorical_accuracy: 1.00 - ETA: 4s - loss: 8.7535e-04 - categorical_accuracy: 1.00 - ETA: 2s - loss: 8.7418e-04 - categorical_accuracy: 1.00 - ETA: 1s - loss: 8.7242e-04 - categorical_accuracy: 1.00 - 56s 162ms/step - loss: 8.7942e-04 - categorical_accuracy: 1.0000 - val_loss: 0.0547 - val_categorical_accuracy: 0.9868\n",
      "Epoch 92/100\n",
      "349/349 [==============================] - ETA: 46s - loss: 8.6103e-04 - categorical_accuracy: 1.000 - ETA: 45s - loss: 8.0990e-04 - categorical_accuracy: 1.000 - ETA: 44s - loss: 7.5311e-04 - categorical_accuracy: 1.000 - ETA: 43s - loss: 7.7475e-04 - categorical_accuracy: 1.000 - ETA: 42s - loss: 8.1108e-04 - categorical_accuracy: 1.000 - ETA: 41s - loss: 8.3785e-04 - categorical_accuracy: 1.000 - ETA: 40s - loss: 8.2934e-04 - categorical_accuracy: 1.000 - ETA: 38s - loss: 8.1680e-04 - categorical_accuracy: 1.000 - ETA: 37s - loss: 8.3106e-04 - categorical_accuracy: 1.000 - ETA: 35s - loss: 8.3190e-04 - categorical_accuracy: 1.000 - ETA: 34s - loss: 8.1734e-04 - categorical_accuracy: 1.000 - ETA: 32s - loss: 8.2586e-04 - categorical_accuracy: 1.000 - ETA: 31s - loss: 8.2616e-04 - categorical_accuracy: 1.000 - ETA: 29s - loss: 8.1834e-04 - categorical_accuracy: 1.000 - ETA: 28s - loss: 8.1800e-04 - categorical_accuracy: 1.000 - ETA: 27s - loss: 8.0624e-04 - categorical_accuracy: 1.000 - ETA: 25s - loss: 7.9879e-04 - categorical_accuracy: 1.000 - ETA: 24s - loss: 7.9320e-04 - categorical_accuracy: 1.000 - ETA: 23s - loss: 7.9893e-04 - categorical_accuracy: 1.000 - ETA: 21s - loss: 7.9977e-04 - categorical_accuracy: 1.000 - ETA: 20s - loss: 8.0630e-04 - categorical_accuracy: 1.000 - ETA: 18s - loss: 8.1830e-04 - categorical_accuracy: 1.000 - ETA: 17s - loss: 8.2123e-04 - categorical_accuracy: 1.000 - ETA: 15s - loss: 8.1862e-04 - categorical_accuracy: 1.000 - ETA: 14s - loss: 8.2977e-04 - categorical_accuracy: 1.000 - ETA: 12s - loss: 8.4645e-04 - categorical_accuracy: 1.000 - ETA: 11s - loss: 8.4992e-04 - categorical_accuracy: 1.000 - ETA: 9s - loss: 8.5322e-04 - categorical_accuracy: 1.000 - ETA: 8s - loss: 8.5126e-04 - categorical_accuracy: 1.00 - ETA: 7s - loss: 8.5955e-04 - categorical_accuracy: 1.00 - ETA: 5s - loss: 8.5710e-04 - categorical_accuracy: 1.00 - ETA: 4s - loss: 8.6470e-04 - categorical_accuracy: 1.00 - ETA: 2s - loss: 8.6838e-04 - categorical_accuracy: 1.00 - ETA: 1s - loss: 8.6881e-04 - categorical_accuracy: 1.00 - 58s 165ms/step - loss: 8.6757e-04 - categorical_accuracy: 1.0000 - val_loss: 0.0566 - val_categorical_accuracy: 0.9868\n",
      "Epoch 93/100\n"
     ]
    },
    {
     "name": "stdout",
     "output_type": "stream",
     "text": [
      "349/349 [==============================] - ETA: 45s - loss: 9.5391e-04 - categorical_accuracy: 1.000 - ETA: 44s - loss: 7.9301e-04 - categorical_accuracy: 1.000 - ETA: 42s - loss: 8.3322e-04 - categorical_accuracy: 1.000 - ETA: 41s - loss: 8.9683e-04 - categorical_accuracy: 1.000 - ETA: 40s - loss: 8.6560e-04 - categorical_accuracy: 1.000 - ETA: 38s - loss: 8.3350e-04 - categorical_accuracy: 1.000 - ETA: 37s - loss: 8.2269e-04 - categorical_accuracy: 1.000 - ETA: 36s - loss: 8.2818e-04 - categorical_accuracy: 1.000 - ETA: 35s - loss: 8.2684e-04 - categorical_accuracy: 1.000 - ETA: 34s - loss: 8.0476e-04 - categorical_accuracy: 1.000 - ETA: 33s - loss: 8.1221e-04 - categorical_accuracy: 1.000 - ETA: 32s - loss: 8.4780e-04 - categorical_accuracy: 1.000 - ETA: 31s - loss: 8.3697e-04 - categorical_accuracy: 1.000 - ETA: 29s - loss: 8.2996e-04 - categorical_accuracy: 1.000 - ETA: 28s - loss: 8.2107e-04 - categorical_accuracy: 1.000 - ETA: 26s - loss: 8.2012e-04 - categorical_accuracy: 1.000 - ETA: 25s - loss: 8.1669e-04 - categorical_accuracy: 1.000 - ETA: 23s - loss: 8.2156e-04 - categorical_accuracy: 1.000 - ETA: 22s - loss: 8.1965e-04 - categorical_accuracy: 1.000 - ETA: 21s - loss: 8.1760e-04 - categorical_accuracy: 1.000 - ETA: 19s - loss: 8.1936e-04 - categorical_accuracy: 1.000 - ETA: 18s - loss: 8.2322e-04 - categorical_accuracy: 1.000 - ETA: 16s - loss: 8.2134e-04 - categorical_accuracy: 1.000 - ETA: 15s - loss: 8.1941e-04 - categorical_accuracy: 1.000 - ETA: 13s - loss: 8.2765e-04 - categorical_accuracy: 1.000 - ETA: 12s - loss: 8.2795e-04 - categorical_accuracy: 1.000 - ETA: 11s - loss: 8.3439e-04 - categorical_accuracy: 1.000 - ETA: 9s - loss: 8.4446e-04 - categorical_accuracy: 1.000 - ETA: 8s - loss: 8.4615e-04 - categorical_accuracy: 1.00 - ETA: 6s - loss: 8.4023e-04 - categorical_accuracy: 1.00 - ETA: 5s - loss: 8.4463e-04 - categorical_accuracy: 1.00 - ETA: 4s - loss: 8.3977e-04 - categorical_accuracy: 1.00 - ETA: 2s - loss: 8.3427e-04 - categorical_accuracy: 1.00 - ETA: 1s - loss: 8.3369e-04 - categorical_accuracy: 1.00 - 55s 156ms/step - loss: 8.3748e-04 - categorical_accuracy: 1.0000 - val_loss: 0.0569 - val_categorical_accuracy: 0.9868\n",
      "Epoch 94/100\n",
      "349/349 [==============================] - ETA: 45s - loss: 9.8568e-04 - categorical_accuracy: 1.000 - ETA: 44s - loss: 9.4628e-04 - categorical_accuracy: 1.000 - ETA: 43s - loss: 8.9397e-04 - categorical_accuracy: 1.000 - ETA: 42s - loss: 9.3780e-04 - categorical_accuracy: 1.000 - ETA: 40s - loss: 9.0503e-04 - categorical_accuracy: 1.000 - ETA: 39s - loss: 8.9639e-04 - categorical_accuracy: 1.000 - ETA: 37s - loss: 8.6995e-04 - categorical_accuracy: 1.000 - ETA: 36s - loss: 8.6160e-04 - categorical_accuracy: 1.000 - ETA: 35s - loss: 8.4724e-04 - categorical_accuracy: 1.000 - ETA: 33s - loss: 8.5791e-04 - categorical_accuracy: 1.000 - ETA: 32s - loss: 8.5351e-04 - categorical_accuracy: 1.000 - ETA: 31s - loss: 8.6695e-04 - categorical_accuracy: 1.000 - ETA: 30s - loss: 8.6510e-04 - categorical_accuracy: 1.000 - ETA: 28s - loss: 8.4731e-04 - categorical_accuracy: 1.000 - ETA: 27s - loss: 8.5736e-04 - categorical_accuracy: 1.000 - ETA: 25s - loss: 8.5682e-04 - categorical_accuracy: 1.000 - ETA: 24s - loss: 8.6783e-04 - categorical_accuracy: 1.000 - ETA: 23s - loss: 8.5869e-04 - categorical_accuracy: 1.000 - ETA: 21s - loss: 8.6822e-04 - categorical_accuracy: 1.000 - ETA: 20s - loss: 8.6537e-04 - categorical_accuracy: 1.000 - ETA: 19s - loss: 8.5542e-04 - categorical_accuracy: 1.000 - ETA: 17s - loss: 8.5730e-04 - categorical_accuracy: 1.000 - ETA: 16s - loss: 8.5469e-04 - categorical_accuracy: 1.000 - ETA: 15s - loss: 8.5471e-04 - categorical_accuracy: 1.000 - ETA: 13s - loss: 8.4990e-04 - categorical_accuracy: 1.000 - ETA: 12s - loss: 8.5792e-04 - categorical_accuracy: 1.000 - ETA: 11s - loss: 8.6181e-04 - categorical_accuracy: 1.000 - ETA: 9s - loss: 8.6592e-04 - categorical_accuracy: 1.000 - ETA: 8s - loss: 8.7234e-04 - categorical_accuracy: 1.00 - ETA: 6s - loss: 8.7503e-04 - categorical_accuracy: 1.00 - ETA: 5s - loss: 8.6851e-04 - categorical_accuracy: 1.00 - ETA: 4s - loss: 8.6474e-04 - categorical_accuracy: 1.00 - ETA: 2s - loss: 8.5906e-04 - categorical_accuracy: 1.00 - ETA: 1s - loss: 8.6615e-04 - categorical_accuracy: 1.00 - 56s 160ms/step - loss: 8.6270e-04 - categorical_accuracy: 1.0000 - val_loss: 0.0571 - val_categorical_accuracy: 0.9868\n",
      "Epoch 95/100\n",
      "349/349 [==============================] - ETA: 50s - loss: 8.8963e-04 - categorical_accuracy: 1.000 - ETA: 52s - loss: 7.5201e-04 - categorical_accuracy: 1.000 - ETA: 49s - loss: 7.1499e-04 - categorical_accuracy: 1.000 - ETA: 46s - loss: 7.6350e-04 - categorical_accuracy: 1.000 - ETA: 43s - loss: 7.6506e-04 - categorical_accuracy: 1.000 - ETA: 42s - loss: 7.2861e-04 - categorical_accuracy: 1.000 - ETA: 40s - loss: 7.6188e-04 - categorical_accuracy: 1.000 - ETA: 38s - loss: 7.6342e-04 - categorical_accuracy: 1.000 - ETA: 37s - loss: 7.7169e-04 - categorical_accuracy: 1.000 - ETA: 35s - loss: 7.8066e-04 - categorical_accuracy: 1.000 - ETA: 34s - loss: 7.6449e-04 - categorical_accuracy: 1.000 - ETA: 32s - loss: 7.7219e-04 - categorical_accuracy: 1.000 - ETA: 31s - loss: 7.9769e-04 - categorical_accuracy: 1.000 - ETA: 29s - loss: 7.9937e-04 - categorical_accuracy: 1.000 - ETA: 28s - loss: 8.0385e-04 - categorical_accuracy: 1.000 - ETA: 26s - loss: 7.9941e-04 - categorical_accuracy: 1.000 - ETA: 25s - loss: 7.9661e-04 - categorical_accuracy: 1.000 - ETA: 23s - loss: 7.9394e-04 - categorical_accuracy: 1.000 - ETA: 22s - loss: 7.8574e-04 - categorical_accuracy: 1.000 - ETA: 20s - loss: 7.9279e-04 - categorical_accuracy: 1.000 - ETA: 19s - loss: 7.9795e-04 - categorical_accuracy: 1.000 - ETA: 18s - loss: 7.9933e-04 - categorical_accuracy: 1.000 - ETA: 16s - loss: 7.9533e-04 - categorical_accuracy: 1.000 - ETA: 15s - loss: 7.9925e-04 - categorical_accuracy: 1.000 - ETA: 13s - loss: 7.9613e-04 - categorical_accuracy: 1.000 - ETA: 12s - loss: 7.9215e-04 - categorical_accuracy: 1.000 - ETA: 10s - loss: 7.9585e-04 - categorical_accuracy: 1.000 - ETA: 9s - loss: 8.0166e-04 - categorical_accuracy: 1.000 - ETA: 8s - loss: 8.1400e-04 - categorical_accuracy: 1.00 - ETA: 6s - loss: 8.1977e-04 - categorical_accuracy: 1.00 - ETA: 5s - loss: 8.1968e-04 - categorical_accuracy: 1.00 - ETA: 4s - loss: 8.2132e-04 - categorical_accuracy: 1.00 - ETA: 2s - loss: 8.1952e-04 - categorical_accuracy: 1.00 - ETA: 1s - loss: 8.2201e-04 - categorical_accuracy: 1.00 - 55s 158ms/step - loss: 8.1967e-04 - categorical_accuracy: 1.0000 - val_loss: 0.0579 - val_categorical_accuracy: 0.9868\n",
      "Epoch 96/100\n",
      "349/349 [==============================] - ETA: 46s - loss: 6.2025e-04 - categorical_accuracy: 1.000 - ETA: 44s - loss: 7.4859e-04 - categorical_accuracy: 1.000 - ETA: 43s - loss: 7.4764e-04 - categorical_accuracy: 1.000 - ETA: 41s - loss: 7.6242e-04 - categorical_accuracy: 1.000 - ETA: 40s - loss: 7.6650e-04 - categorical_accuracy: 1.000 - ETA: 39s - loss: 8.1151e-04 - categorical_accuracy: 1.000 - ETA: 37s - loss: 8.0304e-04 - categorical_accuracy: 1.000 - ETA: 36s - loss: 8.1850e-04 - categorical_accuracy: 1.000 - ETA: 35s - loss: 8.1239e-04 - categorical_accuracy: 1.000 - ETA: 34s - loss: 8.0370e-04 - categorical_accuracy: 1.000 - ETA: 33s - loss: 8.0463e-04 - categorical_accuracy: 1.000 - ETA: 32s - loss: 8.0161e-04 - categorical_accuracy: 1.000 - ETA: 31s - loss: 7.9650e-04 - categorical_accuracy: 1.000 - ETA: 29s - loss: 8.0009e-04 - categorical_accuracy: 1.000 - ETA: 28s - loss: 8.1839e-04 - categorical_accuracy: 1.000 - ETA: 27s - loss: 8.1380e-04 - categorical_accuracy: 1.000 - ETA: 26s - loss: 8.1060e-04 - categorical_accuracy: 1.000 - ETA: 25s - loss: 7.9623e-04 - categorical_accuracy: 1.000 - ETA: 23s - loss: 7.9575e-04 - categorical_accuracy: 1.000 - ETA: 22s - loss: 7.9486e-04 - categorical_accuracy: 1.000 - ETA: 20s - loss: 7.8853e-04 - categorical_accuracy: 1.000 - ETA: 19s - loss: 7.8579e-04 - categorical_accuracy: 1.000 - ETA: 17s - loss: 7.9050e-04 - categorical_accuracy: 1.000 - ETA: 16s - loss: 7.8508e-04 - categorical_accuracy: 1.000 - ETA: 14s - loss: 7.8829e-04 - categorical_accuracy: 1.000 - ETA: 13s - loss: 7.8563e-04 - categorical_accuracy: 1.000 - ETA: 11s - loss: 7.8003e-04 - categorical_accuracy: 1.000 - ETA: 10s - loss: 7.8245e-04 - categorical_accuracy: 1.000 - ETA: 8s - loss: 7.9421e-04 - categorical_accuracy: 1.000 - ETA: 7s - loss: 7.9112e-04 - categorical_accuracy: 1.00 - ETA: 5s - loss: 8.0337e-04 - categorical_accuracy: 1.00 - ETA: 4s - loss: 8.0285e-04 - categorical_accuracy: 1.00 - ETA: 2s - loss: 8.0264e-04 - categorical_accuracy: 1.00 - ETA: 1s - loss: 8.0733e-04 - categorical_accuracy: 1.00 - 57s 163ms/step - loss: 8.1826e-04 - categorical_accuracy: 1.0000 - val_loss: 0.0562 - val_categorical_accuracy: 0.9868\n",
      "Epoch 97/100\n",
      "349/349 [==============================] - ETA: 44s - loss: 7.4699e-04 - categorical_accuracy: 1.000 - ETA: 44s - loss: 7.8613e-04 - categorical_accuracy: 1.000 - ETA: 43s - loss: 8.2054e-04 - categorical_accuracy: 1.000 - ETA: 41s - loss: 7.8764e-04 - categorical_accuracy: 1.000 - ETA: 40s - loss: 7.5341e-04 - categorical_accuracy: 1.000 - ETA: 39s - loss: 7.4682e-04 - categorical_accuracy: 1.000 - ETA: 37s - loss: 7.6816e-04 - categorical_accuracy: 1.000 - ETA: 36s - loss: 7.7061e-04 - categorical_accuracy: 1.000 - ETA: 35s - loss: 8.0112e-04 - categorical_accuracy: 1.000 - ETA: 34s - loss: 8.0229e-04 - categorical_accuracy: 1.000 - ETA: 33s - loss: 8.1308e-04 - categorical_accuracy: 1.000 - ETA: 32s - loss: 8.2139e-04 - categorical_accuracy: 1.000 - ETA: 30s - loss: 8.1365e-04 - categorical_accuracy: 1.000 - ETA: 29s - loss: 8.0858e-04 - categorical_accuracy: 1.000 - ETA: 28s - loss: 8.1351e-04 - categorical_accuracy: 1.000 - ETA: 26s - loss: 8.1589e-04 - categorical_accuracy: 1.000 - ETA: 25s - loss: 8.0990e-04 - categorical_accuracy: 1.000 - ETA: 23s - loss: 8.1058e-04 - categorical_accuracy: 1.000 - ETA: 22s - loss: 8.0937e-04 - categorical_accuracy: 1.000 - ETA: 21s - loss: 7.9519e-04 - categorical_accuracy: 1.000 - ETA: 19s - loss: 8.0841e-04 - categorical_accuracy: 1.000 - ETA: 18s - loss: 8.1742e-04 - categorical_accuracy: 1.000 - ETA: 16s - loss: 8.2407e-04 - categorical_accuracy: 1.000 - ETA: 15s - loss: 8.1618e-04 - categorical_accuracy: 1.000 - ETA: 14s - loss: 8.1193e-04 - categorical_accuracy: 1.000 - ETA: 12s - loss: 8.0936e-04 - categorical_accuracy: 1.000 - ETA: 11s - loss: 8.0762e-04 - categorical_accuracy: 1.000 - ETA: 9s - loss: 8.0200e-04 - categorical_accuracy: 1.000 - ETA: 8s - loss: 8.0018e-04 - categorical_accuracy: 1.00 - ETA: 6s - loss: 7.9996e-04 - categorical_accuracy: 1.00 - ETA: 5s - loss: 7.9981e-04 - categorical_accuracy: 1.00 - ETA: 4s - loss: 7.9860e-04 - categorical_accuracy: 1.00 - ETA: 2s - loss: 7.9448e-04 - categorical_accuracy: 1.00 - ETA: 1s - loss: 7.9990e-04 - categorical_accuracy: 1.00 - 56s 162ms/step - loss: 8.1230e-04 - categorical_accuracy: 1.0000 - val_loss: 0.0530 - val_categorical_accuracy: 0.9868\n",
      "Epoch 98/100\n",
      "349/349 [==============================] - ETA: 44s - loss: 8.1373e-04 - categorical_accuracy: 1.000 - ETA: 46s - loss: 0.0011 - categorical_accuracy: 1.0000    - ETA: 45s - loss: 0.0011 - categorical_accuracy: 1.000 - ETA: 43s - loss: 0.0011 - categorical_accuracy: 1.000 - ETA: 42s - loss: 0.0010 - categorical_accuracy: 1.000 - ETA: 40s - loss: 9.7255e-04 - categorical_accuracy: 1.000 - ETA: 39s - loss: 9.4152e-04 - categorical_accuracy: 1.000 - ETA: 37s - loss: 9.0744e-04 - categorical_accuracy: 1.000 - ETA: 36s - loss: 8.8090e-04 - categorical_accuracy: 1.000 - ETA: 35s - loss: 8.5679e-04 - categorical_accuracy: 1.000 - ETA: 34s - loss: 8.4683e-04 - categorical_accuracy: 1.000 - ETA: 32s - loss: 8.2134e-04 - categorical_accuracy: 1.000 - ETA: 31s - loss: 8.1023e-04 - categorical_accuracy: 1.000 - ETA: 29s - loss: 8.1778e-04 - categorical_accuracy: 1.000 - ETA: 28s - loss: 8.0709e-04 - categorical_accuracy: 1.000 - ETA: 27s - loss: 7.9998e-04 - categorical_accuracy: 1.000 - ETA: 25s - loss: 7.9714e-04 - categorical_accuracy: 1.000 - ETA: 24s - loss: 7.9496e-04 - categorical_accuracy: 1.000 - ETA: 23s - loss: 7.9009e-04 - categorical_accuracy: 1.000 - ETA: 22s - loss: 7.8853e-04 - categorical_accuracy: 1.000 - ETA: 20s - loss: 7.9772e-04 - categorical_accuracy: 1.000 - ETA: 18s - loss: 8.0313e-04 - categorical_accuracy: 1.000 - ETA: 17s - loss: 7.9476e-04 - categorical_accuracy: 1.000 - ETA: 15s - loss: 7.9648e-04 - categorical_accuracy: 1.000 - ETA: 14s - loss: 7.9538e-04 - categorical_accuracy: 1.000 - ETA: 13s - loss: 8.0019e-04 - categorical_accuracy: 1.000 - ETA: 11s - loss: 8.0086e-04 - categorical_accuracy: 1.000 - ETA: 10s - loss: 7.9437e-04 - categorical_accuracy: 1.000 - ETA: 8s - loss: 7.9522e-04 - categorical_accuracy: 1.000 - ETA: 7s - loss: 7.9245e-04 - categorical_accuracy: 1.00 - ETA: 5s - loss: 7.8717e-04 - categorical_accuracy: 1.00 - ETA: 4s - loss: 7.8964e-04 - categorical_accuracy: 1.00 - ETA: 2s - loss: 7.9286e-04 - categorical_accuracy: 1.00 - ETA: 1s - loss: 7.8858e-04 - categorical_accuracy: 1.00 - 57s 164ms/step - loss: 7.8637e-04 - categorical_accuracy: 1.0000 - val_loss: 0.0566 - val_categorical_accuracy: 0.9868\n",
      "Epoch 99/100\n"
     ]
    },
    {
     "name": "stdout",
     "output_type": "stream",
     "text": [
      "349/349 [==============================] - ETA: 50s - loss: 7.4998e-04 - categorical_accuracy: 1.000 - ETA: 50s - loss: 7.3825e-04 - categorical_accuracy: 1.000 - ETA: 48s - loss: 7.9160e-04 - categorical_accuracy: 1.000 - ETA: 46s - loss: 7.6189e-04 - categorical_accuracy: 1.000 - ETA: 44s - loss: 7.6713e-04 - categorical_accuracy: 1.000 - ETA: 42s - loss: 8.0377e-04 - categorical_accuracy: 1.000 - ETA: 40s - loss: 7.8385e-04 - categorical_accuracy: 1.000 - ETA: 39s - loss: 7.7342e-04 - categorical_accuracy: 1.000 - ETA: 37s - loss: 7.6534e-04 - categorical_accuracy: 1.000 - ETA: 36s - loss: 7.5861e-04 - categorical_accuracy: 1.000 - ETA: 34s - loss: 7.4635e-04 - categorical_accuracy: 1.000 - ETA: 33s - loss: 7.5288e-04 - categorical_accuracy: 1.000 - ETA: 31s - loss: 7.6030e-04 - categorical_accuracy: 1.000 - ETA: 30s - loss: 7.6818e-04 - categorical_accuracy: 1.000 - ETA: 28s - loss: 7.5085e-04 - categorical_accuracy: 1.000 - ETA: 27s - loss: 7.5299e-04 - categorical_accuracy: 1.000 - ETA: 25s - loss: 7.4854e-04 - categorical_accuracy: 1.000 - ETA: 24s - loss: 7.4832e-04 - categorical_accuracy: 1.000 - ETA: 22s - loss: 7.5581e-04 - categorical_accuracy: 1.000 - ETA: 21s - loss: 7.5158e-04 - categorical_accuracy: 1.000 - ETA: 19s - loss: 7.4455e-04 - categorical_accuracy: 1.000 - ETA: 18s - loss: 7.4549e-04 - categorical_accuracy: 1.000 - ETA: 17s - loss: 7.4399e-04 - categorical_accuracy: 1.000 - ETA: 15s - loss: 7.4439e-04 - categorical_accuracy: 1.000 - ETA: 14s - loss: 7.4736e-04 - categorical_accuracy: 1.000 - ETA: 12s - loss: 7.4588e-04 - categorical_accuracy: 1.000 - ETA: 11s - loss: 7.4255e-04 - categorical_accuracy: 1.000 - ETA: 9s - loss: 7.4820e-04 - categorical_accuracy: 1.000 - ETA: 8s - loss: 7.5064e-04 - categorical_accuracy: 1.00 - ETA: 7s - loss: 7.4670e-04 - categorical_accuracy: 1.00 - ETA: 5s - loss: 7.5199e-04 - categorical_accuracy: 1.00 - ETA: 4s - loss: 7.5495e-04 - categorical_accuracy: 1.00 - ETA: 2s - loss: 7.5168e-04 - categorical_accuracy: 1.00 - ETA: 1s - loss: 7.5457e-04 - categorical_accuracy: 1.00 - 59s 169ms/step - loss: 7.5606e-04 - categorical_accuracy: 1.0000 - val_loss: 0.0576 - val_categorical_accuracy: 0.9868\n",
      "Epoch 100/100\n",
      "349/349 [==============================] - ETA: 47s - loss: 8.1626e-04 - categorical_accuracy: 1.000 - ETA: 47s - loss: 8.3464e-04 - categorical_accuracy: 1.000 - ETA: 46s - loss: 7.8116e-04 - categorical_accuracy: 1.000 - ETA: 44s - loss: 7.7185e-04 - categorical_accuracy: 1.000 - ETA: 44s - loss: 7.3583e-04 - categorical_accuracy: 1.000 - ETA: 42s - loss: 7.4265e-04 - categorical_accuracy: 1.000 - ETA: 41s - loss: 7.3568e-04 - categorical_accuracy: 1.000 - ETA: 40s - loss: 7.5607e-04 - categorical_accuracy: 1.000 - ETA: 38s - loss: 7.5949e-04 - categorical_accuracy: 1.000 - ETA: 36s - loss: 7.5556e-04 - categorical_accuracy: 1.000 - ETA: 35s - loss: 7.5024e-04 - categorical_accuracy: 1.000 - ETA: 33s - loss: 7.3409e-04 - categorical_accuracy: 1.000 - ETA: 32s - loss: 7.4916e-04 - categorical_accuracy: 1.000 - ETA: 30s - loss: 7.5099e-04 - categorical_accuracy: 1.000 - ETA: 29s - loss: 7.4507e-04 - categorical_accuracy: 1.000 - ETA: 27s - loss: 7.4194e-04 - categorical_accuracy: 1.000 - ETA: 26s - loss: 7.4872e-04 - categorical_accuracy: 1.000 - ETA: 24s - loss: 7.4377e-04 - categorical_accuracy: 1.000 - ETA: 23s - loss: 7.3909e-04 - categorical_accuracy: 1.000 - ETA: 21s - loss: 7.5807e-04 - categorical_accuracy: 1.000 - ETA: 20s - loss: 7.5375e-04 - categorical_accuracy: 1.000 - ETA: 18s - loss: 7.6456e-04 - categorical_accuracy: 1.000 - ETA: 17s - loss: 7.6519e-04 - categorical_accuracy: 1.000 - ETA: 15s - loss: 7.6441e-04 - categorical_accuracy: 1.000 - ETA: 14s - loss: 7.5975e-04 - categorical_accuracy: 1.000 - ETA: 12s - loss: 7.5693e-04 - categorical_accuracy: 1.000 - ETA: 11s - loss: 7.5531e-04 - categorical_accuracy: 1.000 - ETA: 10s - loss: 7.5078e-04 - categorical_accuracy: 1.000 - ETA: 8s - loss: 7.4532e-04 - categorical_accuracy: 1.000 - ETA: 7s - loss: 7.4370e-04 - categorical_accuracy: 1.00 - ETA: 5s - loss: 7.4052e-04 - categorical_accuracy: 1.00 - ETA: 4s - loss: 7.4048e-04 - categorical_accuracy: 1.00 - ETA: 2s - loss: 7.4589e-04 - categorical_accuracy: 1.00 - ETA: 1s - loss: 7.3945e-04 - categorical_accuracy: 1.00 - 60s 171ms/step - loss: 7.3623e-04 - categorical_accuracy: 1.0000 - val_loss: 0.0563 - val_categorical_accuracy: 0.9868\n"
     ]
    },
    {
     "data": {
      "text/plain": [
       "[<matplotlib.lines.Line2D at 0xfb1ab184a8>]"
      ]
     },
     "execution_count": 70,
     "metadata": {},
     "output_type": "execute_result"
    },
    {
     "data": {
      "image/png": "[encoded data removed]",
      "text/plain": [
       "<matplotlib.figure.Figure at 0xfb1a1fcac8>"
      ]
     },
     "metadata": {},
     "output_type": "display_data"
    }
   ],
   "source": [
    "model1 = get_model1()\n",
    "history=model1.fit(X_train, y_train_hot, batch_size=batch_size, epochs=100, verbose=verbose, validation_data=(X_test, y_test_hot))\n",
    "plt.plot(history.history['val_categorical_accuracy'])"
   ]
  },
  {
   "cell_type": "code",
   "execution_count": 32,
   "metadata": {
    "collapsed": true
   },
   "outputs": [],
   "source": [
    "y_predmodelbestmfcc = model1.predict(X_test)\n",
    "#y_pred = (y_pred > 0.5)\n",
    "y_predmodelbestmfcc=np.argmax(y_predmodelbestmfcc,axis=1)\n",
    "y_predmodelbest1mfcc= model1.predict(X_train)\n",
    "y_predmodelbest1mfcc=np.argmax(y_predmodelbest1mfcc,axis=1)"
   ]
  },
  {
   "cell_type": "code",
   "execution_count": 31,
   "metadata": {},
   "outputs": [
    {
     "name": "stdout",
     "output_type": "stream",
     "text": [
      "Train accuracy: 1.0\n",
      "Test accuracy : 0.986754966887\n"
     ]
    }
   ],
   "source": [
    "print(\"Train accuracy: \" + str(acc(y_train, y_predmodelbest1mfcc)))\n",
    "print(\"Test accuracy : \" + str(acc(y_test, y_predmodelbestmfcc)))"
   ]
  },
  {
   "cell_type": "code",
   "execution_count": 7,
   "metadata": {
    "collapsed": true
   },
   "outputs": [],
   "source": [
    "from keras.models import load_model\n",
    "model3.save('modelFinal.h5');\n",
    "#modelFinal = load_model('model.h5')"
   ]
  },
  {
   "cell_type": "code",
   "execution_count": 13,
   "metadata": {
    "collapsed": true
   },
   "outputs": [],
   "source": [
    "from keras.utils import plot_model\n",
    "model=get_model3()\n",
    "plot_model(model, to_file='model3.jpg')"
   ]
  },
  {
   "cell_type": "code",
   "execution_count": 1,
   "metadata": {},
   "outputs": [
    {
     "ename": "NameError",
     "evalue": "name 'load_model' is not defined",
     "output_type": "error",
     "traceback": [
      "\u001b[1;31m---------------------------------------------------------------------------\u001b[0m",
      "\u001b[1;31mNameError\u001b[0m                                 Traceback (most recent call last)",
      "\u001b[1;32m<ipython-input-1-e4660eed7a91>\u001b[0m in \u001b[0;36m<module>\u001b[1;34m()\u001b[0m\n\u001b[1;32m----> 1\u001b[1;33m \u001b[0mmodelnew\u001b[0m\u001b[1;33m=\u001b[0m\u001b[0mmodelFinal\u001b[0m \u001b[1;33m=\u001b[0m \u001b[0mload_model\u001b[0m\u001b[1;33m(\u001b[0m\u001b[1;34m'model.h5'\u001b[0m\u001b[1;33m)\u001b[0m\u001b[1;33m\u001b[0m\u001b[0m\n\u001b[0m",
      "\u001b[1;31mNameError\u001b[0m: name 'load_model' is not defined"
     ]
    }
   ],
   "source": [
    "modelnew=modelFinal = load_model('model.h5')"
   ]
  },
  {
   "cell_type": "code",
   "execution_count": null,
   "metadata": {
    "collapsed": true
   },
   "outputs": [],
   "source": []
  }
 ],
 "metadata": {
  "kernelspec": {
   "display_name": "Python 3",
   "language": "python",
   "name": "python3"
  },
  "language_info": {
   "codemirror_mode": {
    "name": "ipython",
    "version": 3
   },
   "file_extension": ".py",
   "mimetype": "text/x-python",
   "name": "python",
   "nbconvert_exporter": "python",
   "pygments_lexer": "ipython3",
   "version": "3.6.3"
  }
 },
 "nbformat": 4,
 "nbformat_minor": 2
}
